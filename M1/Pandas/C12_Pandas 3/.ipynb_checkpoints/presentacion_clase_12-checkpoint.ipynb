{
 "cells": [
  {
   "cell_type": "code",
   "execution_count": 4,
   "metadata": {
    "slideshow": {
     "slide_type": "skip"
    }
   },
   "outputs": [],
   "source": [
    "import pandas as pd\n",
    "import numpy as np\n",
    "from datetime import *"
   ]
  },
  {
   "cell_type": "markdown",
   "metadata": {
    "slideshow": {
     "slide_type": "slide"
    }
   },
   "source": [
    "<link rel=\"stylesheet\" href=\"../../../common/dhds.css\">\n",
    "<div class=\"Table\">\n",
    "    <div class=\"Row\">\n",
    "        <div class=\"Cell grey left\"> <img src=\"https://upload.wikimedia.org/wikipedia/commons/a/a9/Data_Wrangling_From_Messy_To_Clean_Data_Management.jpg\" align=\"center\" /></div>\n",
    "        <div class=\"Cell right\">\n",
    "            <div class=\"div-logo\"><img src=\"https://raw.githubusercontent.com/Digital-House-DATA/ds_blend_2021_img/master/common/logo_DH.png\" align=\"center\" width=70% /></div>\n",
    "            <div class=\"div-curso\">DATA SCIENCE</div>\n",
    "            <div class=\"div-modulo\">MÓDULO 2</div>\n",
    "            <div class=\"div-contenido\">Parseo de Datos</div>\n",
    "        </div>\n",
    "    </div>\n",
    "</div>"
   ]
  },
  {
   "cell_type": "markdown",
   "metadata": {
    "slideshow": {
     "slide_type": "slide"
    }
   },
   "source": [
    "### Agenda\n",
    "\n",
    "---\n",
    "\n",
    "\n",
    "\n",
    "- Transformación de datos:\n",
    "    - reemplazos\n",
    "    - duplicados\n",
    "    - cuantiles y outliers\n",
    "    - mapeo\n",
    "    - renombrar indices\n",
    "    \n",
    "\n",
    "- Variables Categoricas\n",
    "\n",
    "- Timestamp: manejos de fechas y horas con ```Pandas```\n"
   ]
  },
  {
   "cell_type": "markdown",
   "metadata": {
    "slideshow": {
     "slide_type": "slide"
    }
   },
   "source": [
    "<div class=\"div-dhds-fondo-1\">Data Parsing/Wrangling/Munging en Pandas\n",
    "\n",
    "<img src=\"https://raw.githubusercontent.com/Digital-House-DATA/ds_blend_2021_img/master/M2/CLASE_12_DataWrangling/Presentacion/img/M2_CLASE_12_separador.png\" align=\"center\"></img>    \n",
    "</div>\n"
   ]
  },
  {
   "cell_type": "markdown",
   "metadata": {
    "slideshow": {
     "slide_type": "slide"
    },
    "tags": []
   },
   "source": [
    "### Reemplazo de valores con `pandas`\n",
    "\n",
    "---\n",
    "\n",
    "https://pandas.pydata.org/pandas-docs/stable/reference/api/pandas.DataFrame.replace.html\n"
   ]
  },
  {
   "cell_type": "code",
   "execution_count": 7,
   "metadata": {
    "slideshow": {
     "slide_type": "fragment"
    }
   },
   "outputs": [
    {
     "data": {
      "text/html": [
       "<div>\n",
       "<style scoped>\n",
       "    .dataframe tbody tr th:only-of-type {\n",
       "        vertical-align: middle;\n",
       "    }\n",
       "\n",
       "    .dataframe tbody tr th {\n",
       "        vertical-align: top;\n",
       "    }\n",
       "\n",
       "    .dataframe thead th {\n",
       "        text-align: right;\n",
       "    }\n",
       "</style>\n",
       "<table border=\"1\" class=\"dataframe\">\n",
       "  <thead>\n",
       "    <tr style=\"text-align: right;\">\n",
       "      <th></th>\n",
       "      <th>A</th>\n",
       "      <th>B</th>\n",
       "      <th>C</th>\n",
       "    </tr>\n",
       "  </thead>\n",
       "  <tbody>\n",
       "    <tr>\n",
       "      <th>0</th>\n",
       "      <td>0</td>\n",
       "      <td>5</td>\n",
       "      <td>a</td>\n",
       "    </tr>\n",
       "    <tr>\n",
       "      <th>1</th>\n",
       "      <td>1</td>\n",
       "      <td>6</td>\n",
       "      <td>b</td>\n",
       "    </tr>\n",
       "    <tr>\n",
       "      <th>2</th>\n",
       "      <td>2</td>\n",
       "      <td>7</td>\n",
       "      <td>c</td>\n",
       "    </tr>\n",
       "    <tr>\n",
       "      <th>3</th>\n",
       "      <td>3</td>\n",
       "      <td>8</td>\n",
       "      <td>d</td>\n",
       "    </tr>\n",
       "    <tr>\n",
       "      <th>4</th>\n",
       "      <td>4</td>\n",
       "      <td>9</td>\n",
       "      <td>e</td>\n",
       "    </tr>\n",
       "  </tbody>\n",
       "</table>\n",
       "</div>"
      ],
      "text/plain": [
       "   A  B  C\n",
       "0  0  5  a\n",
       "1  1  6  b\n",
       "2  2  7  c\n",
       "3  3  8  d\n",
       "4  4  9  e"
      ]
     },
     "execution_count": 7,
     "metadata": {},
     "output_type": "execute_result"
    }
   ],
   "source": [
    "df = pd.DataFrame({'A': [0, 1, 2, 3, 4],\n",
    "                   'B': [5, 6, 7, 8, 9],\n",
    "                   'C': ['a', 'b', 'c', 'd', 'e']})\n",
    "df"
   ]
  },
  {
   "cell_type": "markdown",
   "metadata": {
    "slideshow": {
     "slide_type": "fragment"
    }
   },
   "source": [
    "Reemplazo todas las ocurrencias del 0 por 5"
   ]
  },
  {
   "cell_type": "code",
   "execution_count": 8,
   "metadata": {
    "slideshow": {
     "slide_type": "fragment"
    }
   },
   "outputs": [
    {
     "data": {
      "text/html": [
       "<div>\n",
       "<style scoped>\n",
       "    .dataframe tbody tr th:only-of-type {\n",
       "        vertical-align: middle;\n",
       "    }\n",
       "\n",
       "    .dataframe tbody tr th {\n",
       "        vertical-align: top;\n",
       "    }\n",
       "\n",
       "    .dataframe thead th {\n",
       "        text-align: right;\n",
       "    }\n",
       "</style>\n",
       "<table border=\"1\" class=\"dataframe\">\n",
       "  <thead>\n",
       "    <tr style=\"text-align: right;\">\n",
       "      <th></th>\n",
       "      <th>A</th>\n",
       "      <th>B</th>\n",
       "      <th>C</th>\n",
       "    </tr>\n",
       "  </thead>\n",
       "  <tbody>\n",
       "    <tr>\n",
       "      <th>0</th>\n",
       "      <td>5</td>\n",
       "      <td>5</td>\n",
       "      <td>a</td>\n",
       "    </tr>\n",
       "    <tr>\n",
       "      <th>1</th>\n",
       "      <td>1</td>\n",
       "      <td>6</td>\n",
       "      <td>b</td>\n",
       "    </tr>\n",
       "    <tr>\n",
       "      <th>2</th>\n",
       "      <td>2</td>\n",
       "      <td>7</td>\n",
       "      <td>c</td>\n",
       "    </tr>\n",
       "    <tr>\n",
       "      <th>3</th>\n",
       "      <td>3</td>\n",
       "      <td>8</td>\n",
       "      <td>d</td>\n",
       "    </tr>\n",
       "    <tr>\n",
       "      <th>4</th>\n",
       "      <td>4</td>\n",
       "      <td>9</td>\n",
       "      <td>e</td>\n",
       "    </tr>\n",
       "  </tbody>\n",
       "</table>\n",
       "</div>"
      ],
      "text/plain": [
       "   A  B  C\n",
       "0  5  5  a\n",
       "1  1  6  b\n",
       "2  2  7  c\n",
       "3  3  8  d\n",
       "4  4  9  e"
      ]
     },
     "execution_count": 8,
     "metadata": {},
     "output_type": "execute_result"
    }
   ],
   "source": [
    "df.replace(0, 5)"
   ]
  },
  {
   "cell_type": "code",
   "execution_count": 4,
   "metadata": {},
   "outputs": [
    {
     "data": {
      "text/html": [
       "<div>\n",
       "<style scoped>\n",
       "    .dataframe tbody tr th:only-of-type {\n",
       "        vertical-align: middle;\n",
       "    }\n",
       "\n",
       "    .dataframe tbody tr th {\n",
       "        vertical-align: top;\n",
       "    }\n",
       "\n",
       "    .dataframe thead th {\n",
       "        text-align: right;\n",
       "    }\n",
       "</style>\n",
       "<table border=\"1\" class=\"dataframe\">\n",
       "  <thead>\n",
       "    <tr style=\"text-align: right;\">\n",
       "      <th></th>\n",
       "      <th>A</th>\n",
       "      <th>B</th>\n",
       "      <th>C</th>\n",
       "    </tr>\n",
       "  </thead>\n",
       "  <tbody>\n",
       "    <tr>\n",
       "      <th>0</th>\n",
       "      <td>100</td>\n",
       "      <td>5</td>\n",
       "      <td>a</td>\n",
       "    </tr>\n",
       "    <tr>\n",
       "      <th>1</th>\n",
       "      <td>100</td>\n",
       "      <td>6</td>\n",
       "      <td>b</td>\n",
       "    </tr>\n",
       "    <tr>\n",
       "      <th>2</th>\n",
       "      <td>2</td>\n",
       "      <td>7</td>\n",
       "      <td>c</td>\n",
       "    </tr>\n",
       "    <tr>\n",
       "      <th>3</th>\n",
       "      <td>3</td>\n",
       "      <td>8</td>\n",
       "      <td>d</td>\n",
       "    </tr>\n",
       "    <tr>\n",
       "      <th>4</th>\n",
       "      <td>4</td>\n",
       "      <td>9</td>\n",
       "      <td>e</td>\n",
       "    </tr>\n",
       "  </tbody>\n",
       "</table>\n",
       "</div>"
      ],
      "text/plain": [
       "     A  B  C\n",
       "0  100  5  a\n",
       "1  100  6  b\n",
       "2    2  7  c\n",
       "3    3  8  d\n",
       "4    4  9  e"
      ]
     },
     "execution_count": 4,
     "metadata": {},
     "output_type": "execute_result"
    }
   ],
   "source": [
    "df.replace([0,1], 100)"
   ]
  },
  {
   "cell_type": "code",
   "execution_count": 9,
   "metadata": {},
   "outputs": [
    {
     "data": {
      "text/html": [
       "<div>\n",
       "<style scoped>\n",
       "    .dataframe tbody tr th:only-of-type {\n",
       "        vertical-align: middle;\n",
       "    }\n",
       "\n",
       "    .dataframe tbody tr th {\n",
       "        vertical-align: top;\n",
       "    }\n",
       "\n",
       "    .dataframe thead th {\n",
       "        text-align: right;\n",
       "    }\n",
       "</style>\n",
       "<table border=\"1\" class=\"dataframe\">\n",
       "  <thead>\n",
       "    <tr style=\"text-align: right;\">\n",
       "      <th></th>\n",
       "      <th>A</th>\n",
       "      <th>B</th>\n",
       "      <th>C</th>\n",
       "    </tr>\n",
       "  </thead>\n",
       "  <tbody>\n",
       "    <tr>\n",
       "      <th>0</th>\n",
       "      <td>-100</td>\n",
       "      <td>5</td>\n",
       "      <td>a</td>\n",
       "    </tr>\n",
       "    <tr>\n",
       "      <th>1</th>\n",
       "      <td>100</td>\n",
       "      <td>6</td>\n",
       "      <td>b</td>\n",
       "    </tr>\n",
       "    <tr>\n",
       "      <th>2</th>\n",
       "      <td>2</td>\n",
       "      <td>7</td>\n",
       "      <td>c</td>\n",
       "    </tr>\n",
       "    <tr>\n",
       "      <th>3</th>\n",
       "      <td>3</td>\n",
       "      <td>8</td>\n",
       "      <td>d</td>\n",
       "    </tr>\n",
       "    <tr>\n",
       "      <th>4</th>\n",
       "      <td>4</td>\n",
       "      <td>9</td>\n",
       "      <td>e</td>\n",
       "    </tr>\n",
       "  </tbody>\n",
       "</table>\n",
       "</div>"
      ],
      "text/plain": [
       "     A  B  C\n",
       "0 -100  5  a\n",
       "1  100  6  b\n",
       "2    2  7  c\n",
       "3    3  8  d\n",
       "4    4  9  e"
      ]
     },
     "execution_count": 9,
     "metadata": {},
     "output_type": "execute_result"
    }
   ],
   "source": [
    "df.replace([0,1], [-100,100])"
   ]
  },
  {
   "cell_type": "markdown",
   "metadata": {
    "slideshow": {
     "slide_type": "subslide"
    }
   },
   "source": [
    "Reemplazo todas las ocurrencias del (0 an la columna A y 5 en la columna B) por 100"
   ]
  },
  {
   "cell_type": "code",
   "execution_count": 10,
   "metadata": {
    "slideshow": {
     "slide_type": "fragment"
    }
   },
   "outputs": [
    {
     "data": {
      "text/html": [
       "<div>\n",
       "<style scoped>\n",
       "    .dataframe tbody tr th:only-of-type {\n",
       "        vertical-align: middle;\n",
       "    }\n",
       "\n",
       "    .dataframe tbody tr th {\n",
       "        vertical-align: top;\n",
       "    }\n",
       "\n",
       "    .dataframe thead th {\n",
       "        text-align: right;\n",
       "    }\n",
       "</style>\n",
       "<table border=\"1\" class=\"dataframe\">\n",
       "  <thead>\n",
       "    <tr style=\"text-align: right;\">\n",
       "      <th></th>\n",
       "      <th>A</th>\n",
       "      <th>B</th>\n",
       "      <th>C</th>\n",
       "    </tr>\n",
       "  </thead>\n",
       "  <tbody>\n",
       "    <tr>\n",
       "      <th>0</th>\n",
       "      <td>100</td>\n",
       "      <td>5</td>\n",
       "      <td>a</td>\n",
       "    </tr>\n",
       "    <tr>\n",
       "      <th>1</th>\n",
       "      <td>1</td>\n",
       "      <td>6</td>\n",
       "      <td>b</td>\n",
       "    </tr>\n",
       "    <tr>\n",
       "      <th>2</th>\n",
       "      <td>2</td>\n",
       "      <td>100</td>\n",
       "      <td>c</td>\n",
       "    </tr>\n",
       "    <tr>\n",
       "      <th>3</th>\n",
       "      <td>3</td>\n",
       "      <td>8</td>\n",
       "      <td>d</td>\n",
       "    </tr>\n",
       "    <tr>\n",
       "      <th>4</th>\n",
       "      <td>4</td>\n",
       "      <td>9</td>\n",
       "      <td>e</td>\n",
       "    </tr>\n",
       "  </tbody>\n",
       "</table>\n",
       "</div>"
      ],
      "text/plain": [
       "     A    B  C\n",
       "0  100    5  a\n",
       "1    1    6  b\n",
       "2    2  100  c\n",
       "3    3    8  d\n",
       "4    4    9  e"
      ]
     },
     "execution_count": 10,
     "metadata": {},
     "output_type": "execute_result"
    }
   ],
   "source": [
    "df.replace({'A': 0, 'B': 7}, 100)"
   ]
  },
  {
   "cell_type": "markdown",
   "metadata": {
    "slideshow": {
     "slide_type": "subslide"
    }
   },
   "source": [
    "Reemplazo en la columna A todas las ocurrencias de 0 por 100 y de 4 por 400"
   ]
  },
  {
   "cell_type": "code",
   "execution_count": 7,
   "metadata": {
    "slideshow": {
     "slide_type": "fragment"
    }
   },
   "outputs": [
    {
     "data": {
      "text/html": [
       "<div>\n",
       "<style scoped>\n",
       "    .dataframe tbody tr th:only-of-type {\n",
       "        vertical-align: middle;\n",
       "    }\n",
       "\n",
       "    .dataframe tbody tr th {\n",
       "        vertical-align: top;\n",
       "    }\n",
       "\n",
       "    .dataframe thead th {\n",
       "        text-align: right;\n",
       "    }\n",
       "</style>\n",
       "<table border=\"1\" class=\"dataframe\">\n",
       "  <thead>\n",
       "    <tr style=\"text-align: right;\">\n",
       "      <th></th>\n",
       "      <th>A</th>\n",
       "      <th>B</th>\n",
       "      <th>C</th>\n",
       "    </tr>\n",
       "  </thead>\n",
       "  <tbody>\n",
       "    <tr>\n",
       "      <th>0</th>\n",
       "      <td>100</td>\n",
       "      <td>5</td>\n",
       "      <td>a</td>\n",
       "    </tr>\n",
       "    <tr>\n",
       "      <th>1</th>\n",
       "      <td>1</td>\n",
       "      <td>6</td>\n",
       "      <td>b</td>\n",
       "    </tr>\n",
       "    <tr>\n",
       "      <th>2</th>\n",
       "      <td>2</td>\n",
       "      <td>7</td>\n",
       "      <td>c</td>\n",
       "    </tr>\n",
       "    <tr>\n",
       "      <th>3</th>\n",
       "      <td>3</td>\n",
       "      <td>8</td>\n",
       "      <td>d</td>\n",
       "    </tr>\n",
       "    <tr>\n",
       "      <th>4</th>\n",
       "      <td>400</td>\n",
       "      <td>9</td>\n",
       "      <td>e</td>\n",
       "    </tr>\n",
       "  </tbody>\n",
       "</table>\n",
       "</div>"
      ],
      "text/plain": [
       "     A  B  C\n",
       "0  100  5  a\n",
       "1    1  6  b\n",
       "2    2  7  c\n",
       "3    3  8  d\n",
       "4  400  9  e"
      ]
     },
     "execution_count": 7,
     "metadata": {},
     "output_type": "execute_result"
    }
   ],
   "source": [
    "df.replace({ 'A': {0: 100, 4: 400} } )"
   ]
  },
  {
   "cell_type": "markdown",
   "metadata": {
    "slideshow": {
     "slide_type": "subslide"
    }
   },
   "source": [
    "Reemplazo en la columna A todas las ocurrencias de 0 por 100 y de 4 por 400, y en la columna C todas las ocurrencias de e por z"
   ]
  },
  {
   "cell_type": "code",
   "execution_count": 8,
   "metadata": {
    "slideshow": {
     "slide_type": "fragment"
    }
   },
   "outputs": [
    {
     "data": {
      "text/html": [
       "<div>\n",
       "<style scoped>\n",
       "    .dataframe tbody tr th:only-of-type {\n",
       "        vertical-align: middle;\n",
       "    }\n",
       "\n",
       "    .dataframe tbody tr th {\n",
       "        vertical-align: top;\n",
       "    }\n",
       "\n",
       "    .dataframe thead th {\n",
       "        text-align: right;\n",
       "    }\n",
       "</style>\n",
       "<table border=\"1\" class=\"dataframe\">\n",
       "  <thead>\n",
       "    <tr style=\"text-align: right;\">\n",
       "      <th></th>\n",
       "      <th>A</th>\n",
       "      <th>B</th>\n",
       "      <th>C</th>\n",
       "    </tr>\n",
       "  </thead>\n",
       "  <tbody>\n",
       "    <tr>\n",
       "      <th>0</th>\n",
       "      <td>100</td>\n",
       "      <td>5</td>\n",
       "      <td>a</td>\n",
       "    </tr>\n",
       "    <tr>\n",
       "      <th>1</th>\n",
       "      <td>1</td>\n",
       "      <td>6</td>\n",
       "      <td>b</td>\n",
       "    </tr>\n",
       "    <tr>\n",
       "      <th>2</th>\n",
       "      <td>2</td>\n",
       "      <td>7</td>\n",
       "      <td>c</td>\n",
       "    </tr>\n",
       "    <tr>\n",
       "      <th>3</th>\n",
       "      <td>3</td>\n",
       "      <td>8</td>\n",
       "      <td>d</td>\n",
       "    </tr>\n",
       "    <tr>\n",
       "      <th>4</th>\n",
       "      <td>400</td>\n",
       "      <td>9</td>\n",
       "      <td>z</td>\n",
       "    </tr>\n",
       "  </tbody>\n",
       "</table>\n",
       "</div>"
      ],
      "text/plain": [
       "     A  B  C\n",
       "0  100  5  a\n",
       "1    1  6  b\n",
       "2    2  7  c\n",
       "3    3  8  d\n",
       "4  400  9  z"
      ]
     },
     "execution_count": 8,
     "metadata": {},
     "output_type": "execute_result"
    }
   ],
   "source": [
    "df.replace({'A': {0: 100, 4: 400}, 'C': {'e': 'z'}})"
   ]
  },
  {
   "cell_type": "markdown",
   "metadata": {},
   "source": [
    "Se pueden usar expresiones regulares:"
   ]
  },
  {
   "cell_type": "code",
   "execution_count": 12,
   "metadata": {},
   "outputs": [
    {
     "data": {
      "text/html": [
       "<div>\n",
       "<style scoped>\n",
       "    .dataframe tbody tr th:only-of-type {\n",
       "        vertical-align: middle;\n",
       "    }\n",
       "\n",
       "    .dataframe tbody tr th {\n",
       "        vertical-align: top;\n",
       "    }\n",
       "\n",
       "    .dataframe thead th {\n",
       "        text-align: right;\n",
       "    }\n",
       "</style>\n",
       "<table border=\"1\" class=\"dataframe\">\n",
       "  <thead>\n",
       "    <tr style=\"text-align: right;\">\n",
       "      <th></th>\n",
       "      <th>A</th>\n",
       "      <th>B</th>\n",
       "    </tr>\n",
       "  </thead>\n",
       "  <tbody>\n",
       "    <tr>\n",
       "      <th>0</th>\n",
       "      <td>bat</td>\n",
       "      <td>abc</td>\n",
       "    </tr>\n",
       "    <tr>\n",
       "      <th>1</th>\n",
       "      <td>foo</td>\n",
       "      <td>bar</td>\n",
       "    </tr>\n",
       "    <tr>\n",
       "      <th>2</th>\n",
       "      <td>bait</td>\n",
       "      <td>xyz</td>\n",
       "    </tr>\n",
       "  </tbody>\n",
       "</table>\n",
       "</div>"
      ],
      "text/plain": [
       "      A    B\n",
       "0   bat  abc\n",
       "1   foo  bar\n",
       "2  bait  xyz"
      ]
     },
     "execution_count": 12,
     "metadata": {},
     "output_type": "execute_result"
    }
   ],
   "source": [
    "df_re = pd.DataFrame({'A': ['bat', 'foo', 'bait'],\n",
    "                      'B': ['abc', 'bar', 'xyz']})\n",
    "\n",
    "df_re"
   ]
  },
  {
   "cell_type": "code",
   "execution_count": 14,
   "metadata": {},
   "outputs": [
    {
     "data": {
      "text/html": [
       "<div>\n",
       "<style scoped>\n",
       "    .dataframe tbody tr th:only-of-type {\n",
       "        vertical-align: middle;\n",
       "    }\n",
       "\n",
       "    .dataframe tbody tr th {\n",
       "        vertical-align: top;\n",
       "    }\n",
       "\n",
       "    .dataframe thead th {\n",
       "        text-align: right;\n",
       "    }\n",
       "</style>\n",
       "<table border=\"1\" class=\"dataframe\">\n",
       "  <thead>\n",
       "    <tr style=\"text-align: right;\">\n",
       "      <th></th>\n",
       "      <th>A</th>\n",
       "      <th>B</th>\n",
       "    </tr>\n",
       "  </thead>\n",
       "  <tbody>\n",
       "    <tr>\n",
       "      <th>0</th>\n",
       "      <td>XXX</td>\n",
       "      <td>abc</td>\n",
       "    </tr>\n",
       "    <tr>\n",
       "      <th>1</th>\n",
       "      <td>foo</td>\n",
       "      <td>XXX</td>\n",
       "    </tr>\n",
       "    <tr>\n",
       "      <th>2</th>\n",
       "      <td>bait</td>\n",
       "      <td>xyz</td>\n",
       "    </tr>\n",
       "  </tbody>\n",
       "</table>\n",
       "</div>"
      ],
      "text/plain": [
       "      A    B\n",
       "0   XXX  abc\n",
       "1   foo  XXX\n",
       "2  bait  xyz"
      ]
     },
     "execution_count": 14,
     "metadata": {},
     "output_type": "execute_result"
    }
   ],
   "source": [
    "#  $ hace que solo reconozca bat y no bait, por que fuerza a que el . sea el ukltimo char de la linea\n",
    "\n",
    "df_re.replace(to_replace=r'ba.$', value='XXX', regex=True)"
   ]
  },
  {
   "cell_type": "code",
   "execution_count": 11,
   "metadata": {},
   "outputs": [
    {
     "data": {
      "text/html": [
       "<div>\n",
       "<style scoped>\n",
       "    .dataframe tbody tr th:only-of-type {\n",
       "        vertical-align: middle;\n",
       "    }\n",
       "\n",
       "    .dataframe tbody tr th {\n",
       "        vertical-align: top;\n",
       "    }\n",
       "\n",
       "    .dataframe thead th {\n",
       "        text-align: right;\n",
       "    }\n",
       "</style>\n",
       "<table border=\"1\" class=\"dataframe\">\n",
       "  <thead>\n",
       "    <tr style=\"text-align: right;\">\n",
       "      <th></th>\n",
       "      <th>A</th>\n",
       "      <th>B</th>\n",
       "    </tr>\n",
       "  </thead>\n",
       "  <tbody>\n",
       "    <tr>\n",
       "      <th>0</th>\n",
       "      <td>XXX</td>\n",
       "      <td>abc</td>\n",
       "    </tr>\n",
       "    <tr>\n",
       "      <th>1</th>\n",
       "      <td>foo</td>\n",
       "      <td>XXX</td>\n",
       "    </tr>\n",
       "    <tr>\n",
       "      <th>2</th>\n",
       "      <td>XXXt</td>\n",
       "      <td>xyz</td>\n",
       "    </tr>\n",
       "  </tbody>\n",
       "</table>\n",
       "</div>"
      ],
      "text/plain": [
       "      A    B\n",
       "0   XXX  abc\n",
       "1   foo  XXX\n",
       "2  XXXt  xyz"
      ]
     },
     "execution_count": 11,
     "metadata": {},
     "output_type": "execute_result"
    }
   ],
   "source": [
    "df_re.replace(to_replace=r'ba.', value='XXX', regex=True)"
   ]
  },
  {
   "cell_type": "code",
   "execution_count": 117,
   "metadata": {},
   "outputs": [
    {
     "data": {
      "text/html": [
       "<div>\n",
       "<style scoped>\n",
       "    .dataframe tbody tr th:only-of-type {\n",
       "        vertical-align: middle;\n",
       "    }\n",
       "\n",
       "    .dataframe tbody tr th {\n",
       "        vertical-align: top;\n",
       "    }\n",
       "\n",
       "    .dataframe thead th {\n",
       "        text-align: right;\n",
       "    }\n",
       "</style>\n",
       "<table border=\"1\" class=\"dataframe\">\n",
       "  <thead>\n",
       "    <tr style=\"text-align: right;\">\n",
       "      <th></th>\n",
       "      <th>A</th>\n",
       "      <th>B</th>\n",
       "    </tr>\n",
       "  </thead>\n",
       "  <tbody>\n",
       "    <tr>\n",
       "      <th>0</th>\n",
       "      <td>XXX</td>\n",
       "      <td>abc</td>\n",
       "    </tr>\n",
       "    <tr>\n",
       "      <th>1</th>\n",
       "      <td>foo</td>\n",
       "      <td>XXX</td>\n",
       "    </tr>\n",
       "    <tr>\n",
       "      <th>2</th>\n",
       "      <td>XXX</td>\n",
       "      <td>xyz</td>\n",
       "    </tr>\n",
       "  </tbody>\n",
       "</table>\n",
       "</div>"
      ],
      "text/plain": [
       "     A    B\n",
       "0  XXX  abc\n",
       "1  foo  XXX\n",
       "2  XXX  xyz"
      ]
     },
     "execution_count": 117,
     "metadata": {},
     "output_type": "execute_result"
    }
   ],
   "source": [
    "df_re.replace(to_replace=r'ba.+', value='XXX', regex=True)"
   ]
  },
  {
   "cell_type": "code",
   "execution_count": 119,
   "metadata": {},
   "outputs": [
    {
     "data": {
      "text/html": [
       "<div>\n",
       "<style scoped>\n",
       "    .dataframe tbody tr th:only-of-type {\n",
       "        vertical-align: middle;\n",
       "    }\n",
       "\n",
       "    .dataframe tbody tr th {\n",
       "        vertical-align: top;\n",
       "    }\n",
       "\n",
       "    .dataframe thead th {\n",
       "        text-align: right;\n",
       "    }\n",
       "</style>\n",
       "<table border=\"1\" class=\"dataframe\">\n",
       "  <thead>\n",
       "    <tr style=\"text-align: right;\">\n",
       "      <th></th>\n",
       "      <th>A</th>\n",
       "      <th>B</th>\n",
       "    </tr>\n",
       "  </thead>\n",
       "  <tbody>\n",
       "    <tr>\n",
       "      <th>0</th>\n",
       "      <td>hola</td>\n",
       "      <td>abc</td>\n",
       "    </tr>\n",
       "    <tr>\n",
       "      <th>1</th>\n",
       "      <td>foo</td>\n",
       "      <td>bar</td>\n",
       "    </tr>\n",
       "    <tr>\n",
       "      <th>2</th>\n",
       "      <td>bait</td>\n",
       "      <td>xyz</td>\n",
       "    </tr>\n",
       "  </tbody>\n",
       "</table>\n",
       "</div>"
      ],
      "text/plain": [
       "      A    B\n",
       "0  hola  abc\n",
       "1   foo  bar\n",
       "2  bait  xyz"
      ]
     },
     "execution_count": 119,
     "metadata": {},
     "output_type": "execute_result"
    }
   ],
   "source": [
    "# solo columna A\n",
    "df_re.replace({'A': r'^ba.$'}, 'hola', regex=True)"
   ]
  },
  {
   "cell_type": "code",
   "execution_count": 16,
   "metadata": {},
   "outputs": [
    {
     "data": {
      "text/html": [
       "<div>\n",
       "<style scoped>\n",
       "    .dataframe tbody tr th:only-of-type {\n",
       "        vertical-align: middle;\n",
       "    }\n",
       "\n",
       "    .dataframe tbody tr th {\n",
       "        vertical-align: top;\n",
       "    }\n",
       "\n",
       "    .dataframe thead th {\n",
       "        text-align: right;\n",
       "    }\n",
       "</style>\n",
       "<table border=\"1\" class=\"dataframe\">\n",
       "  <thead>\n",
       "    <tr style=\"text-align: right;\">\n",
       "      <th></th>\n",
       "      <th>A</th>\n",
       "      <th>B</th>\n",
       "    </tr>\n",
       "  </thead>\n",
       "  <tbody>\n",
       "    <tr>\n",
       "      <th>0</th>\n",
       "      <td>regex</td>\n",
       "      <td>abc</td>\n",
       "    </tr>\n",
       "    <tr>\n",
       "      <th>1</th>\n",
       "      <td>XXX</td>\n",
       "      <td>regex</td>\n",
       "    </tr>\n",
       "    <tr>\n",
       "      <th>2</th>\n",
       "      <td>bait</td>\n",
       "      <td>xyz</td>\n",
       "    </tr>\n",
       "  </tbody>\n",
       "</table>\n",
       "</div>"
      ],
      "text/plain": [
       "       A      B\n",
       "0  regex    abc\n",
       "1    XXX  regex\n",
       "2   bait    xyz"
      ]
     },
     "execution_count": 16,
     "metadata": {},
     "output_type": "execute_result"
    }
   ],
   "source": [
    "df_re.replace(regex={r'^ba.$': 'regex', 'foo': 'XXX'})"
   ]
  },
  {
   "cell_type": "markdown",
   "metadata": {
    "colab_type": "text",
    "id": "JPB2kAmY3uTk",
    "tags": []
   },
   "source": [
    "### Remover duplicados"
   ]
  },
  {
   "cell_type": "code",
   "execution_count": 17,
   "metadata": {
    "colab": {
     "autoexec": {
      "startup": false,
      "wait_interval": 0
     }
    },
    "colab_type": "code",
    "id": "MzMloiaz3uTt",
    "outputId": "82fedd6a-2382-474c-f050-53aa52945f52"
   },
   "outputs": [
    {
     "data": {
      "text/html": [
       "<div>\n",
       "<style scoped>\n",
       "    .dataframe tbody tr th:only-of-type {\n",
       "        vertical-align: middle;\n",
       "    }\n",
       "\n",
       "    .dataframe tbody tr th {\n",
       "        vertical-align: top;\n",
       "    }\n",
       "\n",
       "    .dataframe thead th {\n",
       "        text-align: right;\n",
       "    }\n",
       "</style>\n",
       "<table border=\"1\" class=\"dataframe\">\n",
       "  <thead>\n",
       "    <tr style=\"text-align: right;\">\n",
       "      <th></th>\n",
       "      <th>k1</th>\n",
       "      <th>k2</th>\n",
       "    </tr>\n",
       "  </thead>\n",
       "  <tbody>\n",
       "    <tr>\n",
       "      <th>0</th>\n",
       "      <td>one</td>\n",
       "      <td>1</td>\n",
       "    </tr>\n",
       "    <tr>\n",
       "      <th>1</th>\n",
       "      <td>one</td>\n",
       "      <td>1</td>\n",
       "    </tr>\n",
       "    <tr>\n",
       "      <th>2</th>\n",
       "      <td>one</td>\n",
       "      <td>2</td>\n",
       "    </tr>\n",
       "    <tr>\n",
       "      <th>3</th>\n",
       "      <td>two</td>\n",
       "      <td>3</td>\n",
       "    </tr>\n",
       "    <tr>\n",
       "      <th>4</th>\n",
       "      <td>two</td>\n",
       "      <td>3</td>\n",
       "    </tr>\n",
       "    <tr>\n",
       "      <th>5</th>\n",
       "      <td>two</td>\n",
       "      <td>4</td>\n",
       "    </tr>\n",
       "    <tr>\n",
       "      <th>6</th>\n",
       "      <td>two</td>\n",
       "      <td>4</td>\n",
       "    </tr>\n",
       "  </tbody>\n",
       "</table>\n",
       "</div>"
      ],
      "text/plain": [
       "    k1  k2\n",
       "0  one   1\n",
       "1  one   1\n",
       "2  one   2\n",
       "3  two   3\n",
       "4  two   3\n",
       "5  two   4\n",
       "6  two   4"
      ]
     },
     "execution_count": 17,
     "metadata": {},
     "output_type": "execute_result"
    }
   ],
   "source": [
    "data = pd.DataFrame({'k1': ['one'] * 3 + ['two'] * 4,\n",
    "                  'k2': [1, 1, 2, 3, 3, 4, 4]})\n",
    "data"
   ]
  },
  {
   "cell_type": "markdown",
   "metadata": {
    "colab_type": "text",
    "id": "gsD0HFNI3uT2"
   },
   "source": [
    "* `duplicated()` devuelve un booleano identificando los casos duplicados.\n",
    "* `drop_duplicates()` devuelve el `DataFrame` sin los casos duplicados"
   ]
  },
  {
   "cell_type": "code",
   "execution_count": 20,
   "metadata": {
    "colab": {
     "autoexec": {
      "startup": false,
      "wait_interval": 0
     }
    },
    "colab_type": "code",
    "id": "WqkDdeRe3uT4",
    "outputId": "e1943018-84f0-4076-d50f-a190514f8d4f"
   },
   "outputs": [
    {
     "data": {
      "text/plain": [
       "0    False\n",
       "1     True\n",
       "2    False\n",
       "3    False\n",
       "4     True\n",
       "5    False\n",
       "6     True\n",
       "dtype: bool"
      ]
     },
     "execution_count": 20,
     "metadata": {},
     "output_type": "execute_result"
    }
   ],
   "source": [
    "data.duplicated()"
   ]
  },
  {
   "cell_type": "code",
   "execution_count": 17,
   "metadata": {
    "colab": {
     "autoexec": {
      "startup": false,
      "wait_interval": 0
     }
    },
    "colab_type": "code",
    "id": "swngbaux3uT-",
    "outputId": "cf610ace-ef4e-4a04-8070-5b87a2df7768"
   },
   "outputs": [
    {
     "data": {
      "text/html": [
       "<div>\n",
       "<style scoped>\n",
       "    .dataframe tbody tr th:only-of-type {\n",
       "        vertical-align: middle;\n",
       "    }\n",
       "\n",
       "    .dataframe tbody tr th {\n",
       "        vertical-align: top;\n",
       "    }\n",
       "\n",
       "    .dataframe thead th {\n",
       "        text-align: right;\n",
       "    }\n",
       "</style>\n",
       "<table border=\"1\" class=\"dataframe\">\n",
       "  <thead>\n",
       "    <tr style=\"text-align: right;\">\n",
       "      <th></th>\n",
       "      <th>k1</th>\n",
       "      <th>k2</th>\n",
       "    </tr>\n",
       "  </thead>\n",
       "  <tbody>\n",
       "    <tr>\n",
       "      <th>0</th>\n",
       "      <td>one</td>\n",
       "      <td>1</td>\n",
       "    </tr>\n",
       "    <tr>\n",
       "      <th>2</th>\n",
       "      <td>one</td>\n",
       "      <td>2</td>\n",
       "    </tr>\n",
       "    <tr>\n",
       "      <th>3</th>\n",
       "      <td>two</td>\n",
       "      <td>3</td>\n",
       "    </tr>\n",
       "    <tr>\n",
       "      <th>5</th>\n",
       "      <td>two</td>\n",
       "      <td>4</td>\n",
       "    </tr>\n",
       "  </tbody>\n",
       "</table>\n",
       "</div>"
      ],
      "text/plain": [
       "    k1  k2\n",
       "0  one   1\n",
       "2  one   2\n",
       "3  two   3\n",
       "5  two   4"
      ]
     },
     "execution_count": 17,
     "metadata": {},
     "output_type": "execute_result"
    }
   ],
   "source": [
    "data.drop_duplicates()"
   ]
  },
  {
   "cell_type": "code",
   "execution_count": 18,
   "metadata": {
    "colab": {
     "autoexec": {
      "startup": false,
      "wait_interval": 0
     }
    },
    "colab_type": "code",
    "id": "kDG9Muzj3uUE",
    "outputId": "2cf160c4-3392-447d-b5c2-0bed744c0e2f"
   },
   "outputs": [
    {
     "data": {
      "text/html": [
       "<div>\n",
       "<style scoped>\n",
       "    .dataframe tbody tr th:only-of-type {\n",
       "        vertical-align: middle;\n",
       "    }\n",
       "\n",
       "    .dataframe tbody tr th {\n",
       "        vertical-align: top;\n",
       "    }\n",
       "\n",
       "    .dataframe thead th {\n",
       "        text-align: right;\n",
       "    }\n",
       "</style>\n",
       "<table border=\"1\" class=\"dataframe\">\n",
       "  <thead>\n",
       "    <tr style=\"text-align: right;\">\n",
       "      <th></th>\n",
       "      <th>k1</th>\n",
       "      <th>k2</th>\n",
       "    </tr>\n",
       "  </thead>\n",
       "  <tbody>\n",
       "    <tr>\n",
       "      <th>0</th>\n",
       "      <td>True</td>\n",
       "      <td>True</td>\n",
       "    </tr>\n",
       "    <tr>\n",
       "      <th>2</th>\n",
       "      <td>True</td>\n",
       "      <td>True</td>\n",
       "    </tr>\n",
       "    <tr>\n",
       "      <th>3</th>\n",
       "      <td>True</td>\n",
       "      <td>True</td>\n",
       "    </tr>\n",
       "    <tr>\n",
       "      <th>5</th>\n",
       "      <td>True</td>\n",
       "      <td>True</td>\n",
       "    </tr>\n",
       "  </tbody>\n",
       "</table>\n",
       "</div>"
      ],
      "text/plain": [
       "     k1    k2\n",
       "0  True  True\n",
       "2  True  True\n",
       "3  True  True\n",
       "5  True  True"
      ]
     },
     "execution_count": 18,
     "metadata": {},
     "output_type": "execute_result"
    }
   ],
   "source": [
    "# es lo mismo\n",
    "data[~data.duplicated()] == data.drop_duplicates()"
   ]
  },
  {
   "cell_type": "markdown",
   "metadata": {
    "colab_type": "text",
    "id": "H-zKQmG93uUL"
   },
   "source": [
    "* Se puede utilizar `drop_duplicates()` para eliminar duplicados en una sola columna o en un set de columnas.\n",
    "\n",
    "* con keep, le decimos con cual nos quedamos"
   ]
  },
  {
   "cell_type": "code",
   "execution_count": 22,
   "metadata": {},
   "outputs": [
    {
     "data": {
      "text/html": [
       "<div>\n",
       "<style scoped>\n",
       "    .dataframe tbody tr th:only-of-type {\n",
       "        vertical-align: middle;\n",
       "    }\n",
       "\n",
       "    .dataframe tbody tr th {\n",
       "        vertical-align: top;\n",
       "    }\n",
       "\n",
       "    .dataframe thead th {\n",
       "        text-align: right;\n",
       "    }\n",
       "</style>\n",
       "<table border=\"1\" class=\"dataframe\">\n",
       "  <thead>\n",
       "    <tr style=\"text-align: right;\">\n",
       "      <th></th>\n",
       "      <th>k1</th>\n",
       "      <th>k2</th>\n",
       "    </tr>\n",
       "  </thead>\n",
       "  <tbody>\n",
       "    <tr>\n",
       "      <th>0</th>\n",
       "      <td>one</td>\n",
       "      <td>1</td>\n",
       "    </tr>\n",
       "    <tr>\n",
       "      <th>2</th>\n",
       "      <td>one</td>\n",
       "      <td>2</td>\n",
       "    </tr>\n",
       "    <tr>\n",
       "      <th>3</th>\n",
       "      <td>two</td>\n",
       "      <td>3</td>\n",
       "    </tr>\n",
       "    <tr>\n",
       "      <th>5</th>\n",
       "      <td>two</td>\n",
       "      <td>4</td>\n",
       "    </tr>\n",
       "  </tbody>\n",
       "</table>\n",
       "</div>"
      ],
      "text/plain": [
       "    k1  k2\n",
       "0  one   1\n",
       "2  one   2\n",
       "3  two   3\n",
       "5  two   4"
      ]
     },
     "execution_count": 22,
     "metadata": {},
     "output_type": "execute_result"
    }
   ],
   "source": [
    "# Podemos definir algunos parámetros:\n",
    "\n",
    "data.drop_duplicates(['k2'])"
   ]
  },
  {
   "cell_type": "code",
   "execution_count": 20,
   "metadata": {
    "colab": {
     "autoexec": {
      "startup": false,
      "wait_interval": 0
     }
    },
    "colab_type": "code",
    "id": "qZ48On3l3uUT",
    "outputId": "cef4626d-0621-4bb3-c6fa-1b2aab43b4d5"
   },
   "outputs": [
    {
     "data": {
      "text/html": [
       "<div>\n",
       "<style scoped>\n",
       "    .dataframe tbody tr th:only-of-type {\n",
       "        vertical-align: middle;\n",
       "    }\n",
       "\n",
       "    .dataframe tbody tr th {\n",
       "        vertical-align: top;\n",
       "    }\n",
       "\n",
       "    .dataframe thead th {\n",
       "        text-align: right;\n",
       "    }\n",
       "</style>\n",
       "<table border=\"1\" class=\"dataframe\">\n",
       "  <thead>\n",
       "    <tr style=\"text-align: right;\">\n",
       "      <th></th>\n",
       "      <th>k1</th>\n",
       "      <th>k2</th>\n",
       "      <th>k3</th>\n",
       "    </tr>\n",
       "  </thead>\n",
       "  <tbody>\n",
       "    <tr>\n",
       "      <th>0</th>\n",
       "      <td>one</td>\n",
       "      <td>1</td>\n",
       "      <td>0</td>\n",
       "    </tr>\n",
       "    <tr>\n",
       "      <th>1</th>\n",
       "      <td>one</td>\n",
       "      <td>1</td>\n",
       "      <td>1</td>\n",
       "    </tr>\n",
       "    <tr>\n",
       "      <th>2</th>\n",
       "      <td>one</td>\n",
       "      <td>2</td>\n",
       "      <td>2</td>\n",
       "    </tr>\n",
       "    <tr>\n",
       "      <th>3</th>\n",
       "      <td>two</td>\n",
       "      <td>3</td>\n",
       "      <td>3</td>\n",
       "    </tr>\n",
       "    <tr>\n",
       "      <th>4</th>\n",
       "      <td>two</td>\n",
       "      <td>3</td>\n",
       "      <td>4</td>\n",
       "    </tr>\n",
       "    <tr>\n",
       "      <th>5</th>\n",
       "      <td>two</td>\n",
       "      <td>4</td>\n",
       "      <td>5</td>\n",
       "    </tr>\n",
       "    <tr>\n",
       "      <th>6</th>\n",
       "      <td>two</td>\n",
       "      <td>4</td>\n",
       "      <td>6</td>\n",
       "    </tr>\n",
       "  </tbody>\n",
       "</table>\n",
       "</div>"
      ],
      "text/plain": [
       "    k1  k2  k3\n",
       "0  one   1   0\n",
       "1  one   1   1\n",
       "2  one   2   2\n",
       "3  two   3   3\n",
       "4  two   3   4\n",
       "5  two   4   5\n",
       "6  two   4   6"
      ]
     },
     "execution_count": 20,
     "metadata": {},
     "output_type": "execute_result"
    }
   ],
   "source": [
    "data['k3'] = range(7)\n",
    "data"
   ]
  },
  {
   "cell_type": "code",
   "execution_count": 21,
   "metadata": {},
   "outputs": [
    {
     "data": {
      "text/html": [
       "<div>\n",
       "<style scoped>\n",
       "    .dataframe tbody tr th:only-of-type {\n",
       "        vertical-align: middle;\n",
       "    }\n",
       "\n",
       "    .dataframe tbody tr th {\n",
       "        vertical-align: top;\n",
       "    }\n",
       "\n",
       "    .dataframe thead th {\n",
       "        text-align: right;\n",
       "    }\n",
       "</style>\n",
       "<table border=\"1\" class=\"dataframe\">\n",
       "  <thead>\n",
       "    <tr style=\"text-align: right;\">\n",
       "      <th></th>\n",
       "      <th>k1</th>\n",
       "      <th>k2</th>\n",
       "      <th>k3</th>\n",
       "    </tr>\n",
       "  </thead>\n",
       "  <tbody>\n",
       "    <tr>\n",
       "      <th>0</th>\n",
       "      <td>one</td>\n",
       "      <td>1</td>\n",
       "      <td>0</td>\n",
       "    </tr>\n",
       "    <tr>\n",
       "      <th>3</th>\n",
       "      <td>two</td>\n",
       "      <td>3</td>\n",
       "      <td>3</td>\n",
       "    </tr>\n",
       "  </tbody>\n",
       "</table>\n",
       "</div>"
      ],
      "text/plain": [
       "    k1  k2  k3\n",
       "0  one   1   0\n",
       "3  two   3   3"
      ]
     },
     "execution_count": 21,
     "metadata": {},
     "output_type": "execute_result"
    }
   ],
   "source": [
    "data.drop_duplicates(['k1'])"
   ]
  },
  {
   "cell_type": "code",
   "execution_count": 22,
   "metadata": {
    "colab": {
     "autoexec": {
      "startup": false,
      "wait_interval": 0
     }
    },
    "colab_type": "code",
    "id": "tOoRIUJi3uUe",
    "outputId": "e3a09076-d2d3-497b-fa50-7e45acdfdc66"
   },
   "outputs": [
    {
     "data": {
      "text/html": [
       "<div>\n",
       "<style scoped>\n",
       "    .dataframe tbody tr th:only-of-type {\n",
       "        vertical-align: middle;\n",
       "    }\n",
       "\n",
       "    .dataframe tbody tr th {\n",
       "        vertical-align: top;\n",
       "    }\n",
       "\n",
       "    .dataframe thead th {\n",
       "        text-align: right;\n",
       "    }\n",
       "</style>\n",
       "<table border=\"1\" class=\"dataframe\">\n",
       "  <thead>\n",
       "    <tr style=\"text-align: right;\">\n",
       "      <th></th>\n",
       "      <th>k1</th>\n",
       "      <th>k2</th>\n",
       "      <th>k3</th>\n",
       "    </tr>\n",
       "  </thead>\n",
       "  <tbody>\n",
       "    <tr>\n",
       "      <th>0</th>\n",
       "      <td>one</td>\n",
       "      <td>1</td>\n",
       "      <td>0</td>\n",
       "    </tr>\n",
       "    <tr>\n",
       "      <th>2</th>\n",
       "      <td>one</td>\n",
       "      <td>2</td>\n",
       "      <td>2</td>\n",
       "    </tr>\n",
       "    <tr>\n",
       "      <th>3</th>\n",
       "      <td>two</td>\n",
       "      <td>3</td>\n",
       "      <td>3</td>\n",
       "    </tr>\n",
       "    <tr>\n",
       "      <th>5</th>\n",
       "      <td>two</td>\n",
       "      <td>4</td>\n",
       "      <td>5</td>\n",
       "    </tr>\n",
       "  </tbody>\n",
       "</table>\n",
       "</div>"
      ],
      "text/plain": [
       "    k1  k2  k3\n",
       "0  one   1   0\n",
       "2  one   2   2\n",
       "3  two   3   3\n",
       "5  two   4   5"
      ]
     },
     "execution_count": 22,
     "metadata": {},
     "output_type": "execute_result"
    }
   ],
   "source": [
    "data.drop_duplicates(['k1', 'k2'])"
   ]
  },
  {
   "cell_type": "code",
   "execution_count": null,
   "metadata": {},
   "outputs": [],
   "source": []
  },
  {
   "cell_type": "markdown",
   "metadata": {
    "colab_type": "text",
    "id": "ja3M0tQc3uUk"
   },
   "source": [
    "### Mapear y transformar los datos\n",
    "A partir de un diccionario, se puede crear una nueva columna para un Dataframe donde las claves del mismo se vinculen con una de las series y los valores formen parte de la nueva columna."
   ]
  },
  {
   "cell_type": "code",
   "execution_count": 40,
   "metadata": {},
   "outputs": [
    {
     "data": {
      "text/html": [
       "<div>\n",
       "<style scoped>\n",
       "    .dataframe tbody tr th:only-of-type {\n",
       "        vertical-align: middle;\n",
       "    }\n",
       "\n",
       "    .dataframe tbody tr th {\n",
       "        vertical-align: top;\n",
       "    }\n",
       "\n",
       "    .dataframe thead th {\n",
       "        text-align: right;\n",
       "    }\n",
       "</style>\n",
       "<table border=\"1\" class=\"dataframe\">\n",
       "  <thead>\n",
       "    <tr style=\"text-align: right;\">\n",
       "      <th></th>\n",
       "      <th>platos</th>\n",
       "      <th>peso</th>\n",
       "    </tr>\n",
       "  </thead>\n",
       "  <tbody>\n",
       "    <tr>\n",
       "      <th>0</th>\n",
       "      <td>panceta</td>\n",
       "      <td>4.0</td>\n",
       "    </tr>\n",
       "    <tr>\n",
       "      <th>1</th>\n",
       "      <td>bondiola</td>\n",
       "      <td>3.0</td>\n",
       "    </tr>\n",
       "    <tr>\n",
       "      <th>2</th>\n",
       "      <td>panceta</td>\n",
       "      <td>12.0</td>\n",
       "    </tr>\n",
       "    <tr>\n",
       "      <th>3</th>\n",
       "      <td>Pastrami</td>\n",
       "      <td>6.0</td>\n",
       "    </tr>\n",
       "    <tr>\n",
       "      <th>4</th>\n",
       "      <td>pavita</td>\n",
       "      <td>7.5</td>\n",
       "    </tr>\n",
       "    <tr>\n",
       "      <th>5</th>\n",
       "      <td>Panceta</td>\n",
       "      <td>8.0</td>\n",
       "    </tr>\n",
       "    <tr>\n",
       "      <th>6</th>\n",
       "      <td>pastrami</td>\n",
       "      <td>3.0</td>\n",
       "    </tr>\n",
       "    <tr>\n",
       "      <th>7</th>\n",
       "      <td>jamon crudo</td>\n",
       "      <td>5.0</td>\n",
       "    </tr>\n",
       "    <tr>\n",
       "      <th>8</th>\n",
       "      <td>nova lox</td>\n",
       "      <td>6.0</td>\n",
       "    </tr>\n",
       "  </tbody>\n",
       "</table>\n",
       "</div>"
      ],
      "text/plain": [
       "        platos  peso\n",
       "0      panceta   4.0\n",
       "1     bondiola   3.0\n",
       "2      panceta  12.0\n",
       "3     Pastrami   6.0\n",
       "4       pavita   7.5\n",
       "5      Panceta   8.0\n",
       "6     pastrami   3.0\n",
       "7  jamon crudo   5.0\n",
       "8     nova lox   6.0"
      ]
     },
     "execution_count": 40,
     "metadata": {},
     "output_type": "execute_result"
    }
   ],
   "source": [
    "data = pd.DataFrame({'platos': ['panceta', 'bondiola', 'panceta', 'Pastrami',\n",
    "                           'pavita', 'Panceta', 'pastrami', 'jamon crudo',\n",
    "                           'nova lox'],\n",
    "                  'peso': [4, 3, 12, 6, 7.5, 8, 3, 5, 6]})\n",
    "data"
   ]
  },
  {
   "cell_type": "code",
   "execution_count": 25,
   "metadata": {
    "colab": {
     "autoexec": {
      "startup": false,
      "wait_interval": 0
     }
    },
    "colab_type": "code",
    "id": "W_bCzwvx3uUs",
    "outputId": "4f6edf4e-7373-4994-fbdf-380a69a94f79"
   },
   "outputs": [
    {
     "data": {
      "text/plain": [
       "array(['panceta', 'bondiola', 'Pastrami', 'pavita', 'Panceta', 'pastrami',\n",
       "       'jamon crudo', 'nova lox'], dtype=object)"
      ]
     },
     "execution_count": 25,
     "metadata": {},
     "output_type": "execute_result"
    }
   ],
   "source": [
    "data.platos.unique()"
   ]
  },
  {
   "cell_type": "markdown",
   "metadata": {
    "colab_type": "text",
    "id": "BRBJpa6R3uVQ"
   },
   "source": [
    "* La idea es ahora poder asignar a cada `plato` un determinado `animal`. Una opción es hacerlo con los métodos `.map()` o `.apply()`.\n",
    "\n",
    "Repaso:\n",
    "\n",
    "    1)  pd.DataFrame.apply: Opera sobre filas o columnas completas\n",
    "    2)  pd.DataFrame.applymap: Opera sobre cada uno de los elementos del Dataframe\n",
    "    3)  pd.Series.apply: Opera sobre cada uno de los elementos de la Serie. \n",
    "    4)  pd.Series.map: Opera sobre cada uno de los elementos de la Serie, muy similar a Series.apply. Una diferencia importante es que map puede recibir una serie o un diccionario, además de una función."
   ]
  },
  {
   "cell_type": "code",
   "execution_count": 39,
   "metadata": {
    "colab": {
     "autoexec": {
      "startup": false,
      "wait_interval": 0
     }
    },
    "colab_type": "code",
    "id": "7whi1ZRw3uVT"
   },
   "outputs": [],
   "source": [
    "plato_a_animal = {\n",
    "  'panceta': 'cerdo',\n",
    "  'bondiola': 'cerdo',\n",
    "  'pastrami': 'vaca',\n",
    "  'pavita': 'pavo',\n",
    "  'jamon crudo': 'cerdo',\n",
    "  'nova lox': 'salmon'\n",
    "}"
   ]
  },
  {
   "cell_type": "code",
   "execution_count": 26,
   "metadata": {},
   "outputs": [
    {
     "data": {
      "text/plain": [
       "<method 'lower' of 'str' objects>"
      ]
     },
     "execution_count": 26,
     "metadata": {},
     "output_type": "execute_result"
    }
   ],
   "source": [
    "str.lower"
   ]
  },
  {
   "cell_type": "code",
   "execution_count": 42,
   "metadata": {
    "colab": {
     "autoexec": {
      "startup": false,
      "wait_interval": 0
     }
    },
    "colab_type": "code",
    "id": "KUhYC9c33uVd",
    "outputId": "ca576af0-d597-4cbc-a28b-8b1a84e44612"
   },
   "outputs": [
    {
     "data": {
      "text/html": [
       "<div>\n",
       "<style scoped>\n",
       "    .dataframe tbody tr th:only-of-type {\n",
       "        vertical-align: middle;\n",
       "    }\n",
       "\n",
       "    .dataframe tbody tr th {\n",
       "        vertical-align: top;\n",
       "    }\n",
       "\n",
       "    .dataframe thead th {\n",
       "        text-align: right;\n",
       "    }\n",
       "</style>\n",
       "<table border=\"1\" class=\"dataframe\">\n",
       "  <thead>\n",
       "    <tr style=\"text-align: right;\">\n",
       "      <th></th>\n",
       "      <th>platos</th>\n",
       "      <th>peso</th>\n",
       "      <th>animal</th>\n",
       "    </tr>\n",
       "  </thead>\n",
       "  <tbody>\n",
       "    <tr>\n",
       "      <th>0</th>\n",
       "      <td>panceta</td>\n",
       "      <td>4.0</td>\n",
       "      <td>cerdo</td>\n",
       "    </tr>\n",
       "    <tr>\n",
       "      <th>1</th>\n",
       "      <td>bondiola</td>\n",
       "      <td>3.0</td>\n",
       "      <td>cerdo</td>\n",
       "    </tr>\n",
       "    <tr>\n",
       "      <th>2</th>\n",
       "      <td>panceta</td>\n",
       "      <td>12.0</td>\n",
       "      <td>cerdo</td>\n",
       "    </tr>\n",
       "    <tr>\n",
       "      <th>3</th>\n",
       "      <td>pastrami</td>\n",
       "      <td>6.0</td>\n",
       "      <td>vaca</td>\n",
       "    </tr>\n",
       "    <tr>\n",
       "      <th>4</th>\n",
       "      <td>pavita</td>\n",
       "      <td>7.5</td>\n",
       "      <td>pavo</td>\n",
       "    </tr>\n",
       "    <tr>\n",
       "      <th>5</th>\n",
       "      <td>panceta</td>\n",
       "      <td>8.0</td>\n",
       "      <td>cerdo</td>\n",
       "    </tr>\n",
       "    <tr>\n",
       "      <th>6</th>\n",
       "      <td>pastrami</td>\n",
       "      <td>3.0</td>\n",
       "      <td>vaca</td>\n",
       "    </tr>\n",
       "    <tr>\n",
       "      <th>7</th>\n",
       "      <td>jamon crudo</td>\n",
       "      <td>5.0</td>\n",
       "      <td>cerdo</td>\n",
       "    </tr>\n",
       "    <tr>\n",
       "      <th>8</th>\n",
       "      <td>nova lox</td>\n",
       "      <td>6.0</td>\n",
       "      <td>salmon</td>\n",
       "    </tr>\n",
       "  </tbody>\n",
       "</table>\n",
       "</div>"
      ],
      "text/plain": [
       "        platos  peso  animal\n",
       "0      panceta   4.0   cerdo\n",
       "1     bondiola   3.0   cerdo\n",
       "2      panceta  12.0   cerdo\n",
       "3     pastrami   6.0    vaca\n",
       "4       pavita   7.5    pavo\n",
       "5      panceta   8.0   cerdo\n",
       "6     pastrami   3.0    vaca\n",
       "7  jamon crudo   5.0   cerdo\n",
       "8     nova lox   6.0  salmon"
      ]
     },
     "execution_count": 42,
     "metadata": {},
     "output_type": "execute_result"
    }
   ],
   "source": [
    "data['platos'] = data['platos'].map(str.lower)\n",
    "data['animal'] = data['platos'].map(plato_a_animal)\n",
    "data"
   ]
  },
  {
   "cell_type": "markdown",
   "metadata": {
    "colab_type": "text",
    "id": "qNWRV11T3uVn"
   },
   "source": [
    "* Podríamos también pasar una función que haga todo en un solo paso:"
   ]
  },
  {
   "cell_type": "code",
   "execution_count": 27,
   "metadata": {
    "colab": {
     "autoexec": {
      "startup": false,
      "wait_interval": 0
     }
    },
    "colab_type": "code",
    "id": "98YlCB8X3uVq",
    "outputId": "40f222f7-58e0-4bc0-9016-01c09ef8e280"
   },
   "outputs": [
    {
     "data": {
      "text/plain": [
       "0     cerdo\n",
       "1     cerdo\n",
       "2     cerdo\n",
       "3      vaca\n",
       "4      pavo\n",
       "5     cerdo\n",
       "6      vaca\n",
       "7     cerdo\n",
       "8    salmon\n",
       "Name: platos, dtype: object"
      ]
     },
     "execution_count": 27,
     "metadata": {},
     "output_type": "execute_result"
    }
   ],
   "source": [
    "data['platos'].map( lambda x: plato_a_animal[x.lower()] )"
   ]
  },
  {
   "cell_type": "markdown",
   "metadata": {},
   "source": [
    "* En este caso, funciona también con Series.apply():"
   ]
  },
  {
   "cell_type": "code",
   "execution_count": 28,
   "metadata": {},
   "outputs": [
    {
     "data": {
      "text/plain": [
       "0     cerdo\n",
       "1     cerdo\n",
       "2     cerdo\n",
       "3      vaca\n",
       "4      pavo\n",
       "5     cerdo\n",
       "6      vaca\n",
       "7     cerdo\n",
       "8    salmon\n",
       "Name: platos, dtype: object"
      ]
     },
     "execution_count": 28,
     "metadata": {},
     "output_type": "execute_result"
    }
   ],
   "source": [
    "data['platos'].apply( lambda x: plato_a_animal[x.lower()] )"
   ]
  },
  {
   "cell_type": "markdown",
   "metadata": {
    "colab_type": "text",
    "id": "5CyAdmsx3uWR"
   },
   "source": [
    "### Renombrar índices de los ejes"
   ]
  },
  {
   "cell_type": "code",
   "execution_count": null,
   "metadata": {},
   "outputs": [],
   "source": []
  },
  {
   "cell_type": "code",
   "execution_count": 47,
   "metadata": {
    "colab": {
     "autoexec": {
      "startup": false,
      "wait_interval": 0
     }
    },
    "colab_type": "code",
    "id": "EJs0S35E3uWR",
    "outputId": "5ab13b25-a9c7-4c11-8abb-2c26f617e9aa"
   },
   "outputs": [
    {
     "data": {
      "text/html": [
       "<div>\n",
       "<style scoped>\n",
       "    .dataframe tbody tr th:only-of-type {\n",
       "        vertical-align: middle;\n",
       "    }\n",
       "\n",
       "    .dataframe tbody tr th {\n",
       "        vertical-align: top;\n",
       "    }\n",
       "\n",
       "    .dataframe thead th {\n",
       "        text-align: right;\n",
       "    }\n",
       "</style>\n",
       "<table border=\"1\" class=\"dataframe\">\n",
       "  <thead>\n",
       "    <tr style=\"text-align: right;\">\n",
       "      <th></th>\n",
       "      <th>uno</th>\n",
       "      <th>dos</th>\n",
       "      <th>tres</th>\n",
       "      <th>cuatro</th>\n",
       "    </tr>\n",
       "  </thead>\n",
       "  <tbody>\n",
       "    <tr>\n",
       "      <th>Buenos Aires</th>\n",
       "      <td>0</td>\n",
       "      <td>1</td>\n",
       "      <td>2</td>\n",
       "      <td>3</td>\n",
       "    </tr>\n",
       "    <tr>\n",
       "      <th>Cordoba</th>\n",
       "      <td>4</td>\n",
       "      <td>5</td>\n",
       "      <td>6</td>\n",
       "      <td>7</td>\n",
       "    </tr>\n",
       "    <tr>\n",
       "      <th>Mendoza</th>\n",
       "      <td>8</td>\n",
       "      <td>9</td>\n",
       "      <td>10</td>\n",
       "      <td>11</td>\n",
       "    </tr>\n",
       "  </tbody>\n",
       "</table>\n",
       "</div>"
      ],
      "text/plain": [
       "              uno  dos  tres  cuatro\n",
       "Buenos Aires    0    1     2       3\n",
       "Cordoba         4    5     6       7\n",
       "Mendoza         8    9    10      11"
      ]
     },
     "execution_count": 47,
     "metadata": {},
     "output_type": "execute_result"
    }
   ],
   "source": [
    "data = pd.DataFrame(np.arange(12).reshape((3, 4)),\n",
    "                 index=['Buenos Aires', 'Cordoba', 'Mendoza'],\n",
    "                 columns=['uno', 'dos', 'tres', 'cuatro'])\n",
    "data"
   ]
  },
  {
   "cell_type": "code",
   "execution_count": 31,
   "metadata": {},
   "outputs": [
    {
     "data": {
      "text/plain": [
       "Index(['Buenos Aires', 'Cordoba', 'Mendoza'], dtype='object')"
      ]
     },
     "execution_count": 31,
     "metadata": {},
     "output_type": "execute_result"
    }
   ],
   "source": [
    "data.index"
   ]
  },
  {
   "cell_type": "code",
   "execution_count": 32,
   "metadata": {},
   "outputs": [
    {
     "data": {
      "text/plain": [
       "Index(['uno', 'dos', 'tres', 'cuatro'], dtype='object')"
      ]
     },
     "execution_count": 32,
     "metadata": {},
     "output_type": "execute_result"
    }
   ],
   "source": [
    "data.columns"
   ]
  },
  {
   "cell_type": "code",
   "execution_count": 52,
   "metadata": {
    "colab": {
     "autoexec": {
      "startup": false,
      "wait_interval": 0
     }
    },
    "colab_type": "code",
    "id": "XfrPTKRS3uWW",
    "outputId": "da4a822b-ff4d-4f31-8c34-641b2da4d15b"
   },
   "outputs": [
    {
     "data": {
      "text/plain": [
       "Index(['uno', 'dos', 'tres', 'cuatro'], dtype='object')"
      ]
     },
     "execution_count": 52,
     "metadata": {},
     "output_type": "execute_result"
    }
   ],
   "source": [
    "# usamos el metodo de una serie en un objeto indice\n",
    "data.columns.map(lambda x: x.replace(' ','_').lower())\n"
   ]
  },
  {
   "cell_type": "code",
   "execution_count": 37,
   "metadata": {},
   "outputs": [
    {
     "data": {
      "text/plain": [
       "'IUII'"
      ]
     },
     "execution_count": 37,
     "metadata": {},
     "output_type": "execute_result"
    }
   ],
   "source": [
    "str.upper('iuii')"
   ]
  },
  {
   "cell_type": "code",
   "execution_count": 44,
   "metadata": {},
   "outputs": [
    {
     "data": {
      "text/plain": [
       "'Asdfasdf Sdgsdag'"
      ]
     },
     "execution_count": 44,
     "metadata": {},
     "output_type": "execute_result"
    }
   ],
   "source": [
    "str.title('asdfasdf sdgsdag')"
   ]
  },
  {
   "cell_type": "code",
   "execution_count": 53,
   "metadata": {
    "colab": {
     "autoexec": {
      "startup": false,
      "wait_interval": 0
     }
    },
    "colab_type": "code",
    "id": "FG6j5bP63uWe",
    "outputId": "e415c827-ccbf-4e97-da09-0a140d6b2fca"
   },
   "outputs": [
    {
     "data": {
      "text/html": [
       "<div>\n",
       "<style scoped>\n",
       "    .dataframe tbody tr th:only-of-type {\n",
       "        vertical-align: middle;\n",
       "    }\n",
       "\n",
       "    .dataframe tbody tr th {\n",
       "        vertical-align: top;\n",
       "    }\n",
       "\n",
       "    .dataframe thead th {\n",
       "        text-align: right;\n",
       "    }\n",
       "</style>\n",
       "<table border=\"1\" class=\"dataframe\">\n",
       "  <thead>\n",
       "    <tr style=\"text-align: right;\">\n",
       "      <th></th>\n",
       "      <th>UNO</th>\n",
       "      <th>DOS</th>\n",
       "      <th>TRES</th>\n",
       "      <th>CUATRO</th>\n",
       "    </tr>\n",
       "  </thead>\n",
       "  <tbody>\n",
       "    <tr>\n",
       "      <th>Buenos Aires</th>\n",
       "      <td>0</td>\n",
       "      <td>1</td>\n",
       "      <td>2</td>\n",
       "      <td>3</td>\n",
       "    </tr>\n",
       "    <tr>\n",
       "      <th>Cordoba</th>\n",
       "      <td>4</td>\n",
       "      <td>5</td>\n",
       "      <td>6</td>\n",
       "      <td>7</td>\n",
       "    </tr>\n",
       "    <tr>\n",
       "      <th>Mendoza</th>\n",
       "      <td>8</td>\n",
       "      <td>9</td>\n",
       "      <td>10</td>\n",
       "      <td>11</td>\n",
       "    </tr>\n",
       "  </tbody>\n",
       "</table>\n",
       "</div>"
      ],
      "text/plain": [
       "              UNO  DOS  TRES  CUATRO\n",
       "Buenos Aires    0    1     2       3\n",
       "Cordoba         4    5     6       7\n",
       "Mendoza         8    9    10      11"
      ]
     },
     "execution_count": 53,
     "metadata": {},
     "output_type": "execute_result"
    }
   ],
   "source": [
    "data.rename(index=str.title, columns=str.upper)\n",
    "\n",
    "# https://pandas.pydata.org/pandas-docs/stable/generated/pandas.Series.str.title.html"
   ]
  },
  {
   "cell_type": "code",
   "execution_count": 45,
   "metadata": {},
   "outputs": [
    {
     "data": {
      "text/plain": [
       "'32423'"
      ]
     },
     "execution_count": 45,
     "metadata": {},
     "output_type": "execute_result"
    }
   ],
   "source": [
    "str.upper('32423')"
   ]
  },
  {
   "cell_type": "code",
   "execution_count": 54,
   "metadata": {
    "colab": {
     "autoexec": {
      "startup": false,
      "wait_interval": 0
     }
    },
    "colab_type": "code",
    "id": "7JjBn3SL3uWr",
    "outputId": "b9eef0d4-443f-4233-ef92-c941f274e1bf"
   },
   "outputs": [
    {
     "data": {
      "text/html": [
       "<div>\n",
       "<style scoped>\n",
       "    .dataframe tbody tr th:only-of-type {\n",
       "        vertical-align: middle;\n",
       "    }\n",
       "\n",
       "    .dataframe tbody tr th {\n",
       "        vertical-align: top;\n",
       "    }\n",
       "\n",
       "    .dataframe thead th {\n",
       "        text-align: right;\n",
       "    }\n",
       "</style>\n",
       "<table border=\"1\" class=\"dataframe\">\n",
       "  <thead>\n",
       "    <tr style=\"text-align: right;\">\n",
       "      <th></th>\n",
       "      <th>uno</th>\n",
       "      <th>dos</th>\n",
       "      <th>tres</th>\n",
       "      <th>cuatro</th>\n",
       "    </tr>\n",
       "  </thead>\n",
       "  <tbody>\n",
       "    <tr>\n",
       "      <th>Buenos Aires</th>\n",
       "      <td>0</td>\n",
       "      <td>1</td>\n",
       "      <td>2</td>\n",
       "      <td>3</td>\n",
       "    </tr>\n",
       "    <tr>\n",
       "      <th>Cordoba</th>\n",
       "      <td>4</td>\n",
       "      <td>5</td>\n",
       "      <td>6</td>\n",
       "      <td>7</td>\n",
       "    </tr>\n",
       "    <tr>\n",
       "      <th>Mendoza</th>\n",
       "      <td>8</td>\n",
       "      <td>9</td>\n",
       "      <td>10</td>\n",
       "      <td>11</td>\n",
       "    </tr>\n",
       "  </tbody>\n",
       "</table>\n",
       "</div>"
      ],
      "text/plain": [
       "              uno  dos  tres  cuatro\n",
       "Buenos Aires    0    1     2       3\n",
       "Cordoba         4    5     6       7\n",
       "Mendoza         8    9    10      11"
      ]
     },
     "execution_count": 54,
     "metadata": {},
     "output_type": "execute_result"
    }
   ],
   "source": [
    "data"
   ]
  },
  {
   "cell_type": "code",
   "execution_count": 60,
   "metadata": {
    "colab": {
     "autoexec": {
      "startup": false,
      "wait_interval": 0
     }
    },
    "colab_type": "code",
    "id": "QZgNG2y53uWx",
    "outputId": "82b18c41-902a-477a-df57-47eb2620372c"
   },
   "outputs": [],
   "source": [
    "data2=data.rename(index={'Cordoba': 'SANTA FE'},\n",
    "            columns={'tres': 'ocho'})"
   ]
  },
  {
   "cell_type": "code",
   "execution_count": 61,
   "metadata": {
    "colab": {
     "autoexec": {
      "startup": false,
      "wait_interval": 0
     }
    },
    "colab_type": "code",
    "id": "jiFqhrwa3uW1",
    "outputId": "cde6f257-6f43-4991-b2d7-3866cb5550ee"
   },
   "outputs": [
    {
     "data": {
      "text/html": [
       "<div>\n",
       "<style scoped>\n",
       "    .dataframe tbody tr th:only-of-type {\n",
       "        vertical-align: middle;\n",
       "    }\n",
       "\n",
       "    .dataframe tbody tr th {\n",
       "        vertical-align: top;\n",
       "    }\n",
       "\n",
       "    .dataframe thead th {\n",
       "        text-align: right;\n",
       "    }\n",
       "</style>\n",
       "<table border=\"1\" class=\"dataframe\">\n",
       "  <thead>\n",
       "    <tr style=\"text-align: right;\">\n",
       "      <th></th>\n",
       "      <th>uno</th>\n",
       "      <th>dos</th>\n",
       "      <th>ocho</th>\n",
       "      <th>cuatro</th>\n",
       "    </tr>\n",
       "  </thead>\n",
       "  <tbody>\n",
       "    <tr>\n",
       "      <th>Buenos Aires</th>\n",
       "      <td>0</td>\n",
       "      <td>1</td>\n",
       "      <td>2</td>\n",
       "      <td>3</td>\n",
       "    </tr>\n",
       "    <tr>\n",
       "      <th>SANTA FE</th>\n",
       "      <td>4</td>\n",
       "      <td>5</td>\n",
       "      <td>6</td>\n",
       "      <td>7</td>\n",
       "    </tr>\n",
       "    <tr>\n",
       "      <th>Mendoza</th>\n",
       "      <td>8</td>\n",
       "      <td>9</td>\n",
       "      <td>10</td>\n",
       "      <td>11</td>\n",
       "    </tr>\n",
       "  </tbody>\n",
       "</table>\n",
       "</div>"
      ],
      "text/plain": [
       "              uno  dos  ocho  cuatro\n",
       "Buenos Aires    0    1     2       3\n",
       "SANTA FE        4    5     6       7\n",
       "Mendoza         8    9    10      11"
      ]
     },
     "execution_count": 61,
     "metadata": {},
     "output_type": "execute_result"
    }
   ],
   "source": [
    "data2"
   ]
  },
  {
   "cell_type": "code",
   "execution_count": 59,
   "metadata": {
    "colab": {
     "autoexec": {
      "startup": false,
      "wait_interval": 0
     }
    },
    "colab_type": "code",
    "id": "UPWJo9Is3uW7",
    "outputId": "cbd85a85-1256-4957-bcd2-149a38076390",
    "scrolled": true
   },
   "outputs": [
    {
     "data": {
      "text/html": [
       "<div>\n",
       "<style scoped>\n",
       "    .dataframe tbody tr th:only-of-type {\n",
       "        vertical-align: middle;\n",
       "    }\n",
       "\n",
       "    .dataframe tbody tr th {\n",
       "        vertical-align: top;\n",
       "    }\n",
       "\n",
       "    .dataframe thead th {\n",
       "        text-align: right;\n",
       "    }\n",
       "</style>\n",
       "<table border=\"1\" class=\"dataframe\">\n",
       "  <thead>\n",
       "    <tr style=\"text-align: right;\">\n",
       "      <th></th>\n",
       "      <th>uno</th>\n",
       "      <th>dos</th>\n",
       "      <th>tres</th>\n",
       "      <th>cuatro</th>\n",
       "    </tr>\n",
       "  </thead>\n",
       "  <tbody>\n",
       "    <tr>\n",
       "      <th>Buenos Aires</th>\n",
       "      <td>0</td>\n",
       "      <td>1</td>\n",
       "      <td>2</td>\n",
       "      <td>3</td>\n",
       "    </tr>\n",
       "    <tr>\n",
       "      <th>SANTA FE</th>\n",
       "      <td>4</td>\n",
       "      <td>5</td>\n",
       "      <td>6</td>\n",
       "      <td>7</td>\n",
       "    </tr>\n",
       "    <tr>\n",
       "      <th>Mendoza</th>\n",
       "      <td>8</td>\n",
       "      <td>9</td>\n",
       "      <td>10</td>\n",
       "      <td>11</td>\n",
       "    </tr>\n",
       "  </tbody>\n",
       "</table>\n",
       "</div>"
      ],
      "text/plain": [
       "              uno  dos  tres  cuatro\n",
       "Buenos Aires    0    1     2       3\n",
       "SANTA FE        4    5     6       7\n",
       "Mendoza         8    9    10      11"
      ]
     },
     "execution_count": 59,
     "metadata": {},
     "output_type": "execute_result"
    }
   ],
   "source": [
    "data.rename(index={'Cordoba': 'SANTA FE'}, inplace=True)\n",
    "data"
   ]
  },
  {
   "cell_type": "markdown",
   "metadata": {},
   "source": [
    "### Detectar y filtrar outliers\n"
   ]
  },
  {
   "cell_type": "markdown",
   "metadata": {
    "slideshow": {
     "slide_type": "slide"
    }
   },
   "source": [
    "<div class=\"div-dhds-fondo-1\">Variables Categóricas\n",
    "\n",
    "<img src=\"https://raw.githubusercontent.com/Digital-House-DATA/ds_blend_2021_img/master/M2/CLASE_12_DataWrangling/Presentacion/img/M2_CLASE_12_separador.png\" align=\"center\"></img>    \n",
    "</div>\n"
   ]
  },
  {
   "cell_type": "markdown",
   "metadata": {
    "slideshow": {
     "slide_type": "slide"
    }
   },
   "source": [
    "### Variables Cualitativas y Cuantitativas\n",
    "\n",
    "---\n",
    "\n",
    "Las variables pueden ser caracterizadas como:\n",
    "\n",
    "* **cuantitativas**: \n",
    "\n",
    "    Una variable cuantitativa toma valores numéricos, como en el caso de del ingreso de una persona o el precio de una casa.  \n",
    "\n",
    "* **cualitativas**:  \n",
    "\n",
    "    - Una variable cualitativa toma valores en una de K diferentes clases o categorías.\n",
    "    - Una variable cualitativa con dos posibles valores se denomina **binaria o dicotómica**."
   ]
  },
  {
   "cell_type": "markdown",
   "metadata": {
    "slideshow": {
     "slide_type": "slide"
    }
   },
   "source": [
    "### Tipos de una variable cualitativa\n",
    "\n",
    "\n",
    "#### Nominal/Categórica. Categorías nombradas.\n",
    "\n",
    "* Se suele asignar **valores o rótulos numéricos** a las variables categóricas: Estado civil, 0 si soltero y 1 si casado y 2 si divorciado\n",
    "\n",
    "* Los números utilizados para rotular son arbitrarios. \n",
    "\n",
    "* En general, el software asume que los valores numéricos reflejan cantidades algebraicas y, por tanto, un cierto orden.\n",
    "\n",
    "* La principal medida de posición es la **moda**. La mediana y la media no están definidas (y en general cualquier operación numérica tampoco).\n",
    "\n",
    "\n",
    "\n",
    "<img src=\"https://raw.githubusercontent.com/Digital-House-DATA/ds_blend_2021_img/master/M2/CLASE_12_DataWrangling/Presentacion/img/M2_CLASE_12_categorica.png\" align=\"center\"></img>\n",
    "\n",
    "\n"
   ]
  },
  {
   "cell_type": "markdown",
   "metadata": {
    "slideshow": {
     "slide_type": "subslide"
    }
   },
   "source": [
    "#### Ordinal. \n",
    "\n",
    "* Es similar a una categórica pero existe un orden claro. \n",
    "\n",
    "<img src=\"https://raw.githubusercontent.com/Digital-House-DATA/ds_blend_2021_img/master/M2/CLASE_12_DataWrangling/Presentacion/img/M2_CLASE_12_ordinal.png\" align=\"center\"></img>\n",
    "\n",
    "\n"
   ]
  },
  {
   "cell_type": "code",
   "execution_count": 71,
   "metadata": {},
   "outputs": [],
   "source": [
    "prop=pd.read_csv('prope_small.csv',index_col=0)"
   ]
  },
  {
   "cell_type": "code",
   "execution_count": 143,
   "metadata": {
    "scrolled": false
   },
   "outputs": [
    {
     "data": {
      "text/html": [
       "<div>\n",
       "<style scoped>\n",
       "    .dataframe tbody tr th:only-of-type {\n",
       "        vertical-align: middle;\n",
       "    }\n",
       "\n",
       "    .dataframe tbody tr th {\n",
       "        vertical-align: top;\n",
       "    }\n",
       "\n",
       "    .dataframe thead th {\n",
       "        text-align: right;\n",
       "    }\n",
       "</style>\n",
       "<table border=\"1\" class=\"dataframe\">\n",
       "  <thead>\n",
       "    <tr style=\"text-align: right;\">\n",
       "      <th></th>\n",
       "      <th>tipo</th>\n",
       "      <th>barrio</th>\n",
       "      <th>sup</th>\n",
       "      <th>pm2</th>\n",
       "      <th>rooms</th>\n",
       "    </tr>\n",
       "  </thead>\n",
       "  <tbody>\n",
       "    <tr>\n",
       "      <th>0</th>\n",
       "      <td>apartment</td>\n",
       "      <td>Villa Pueyrredón</td>\n",
       "      <td>80.0</td>\n",
       "      <td>2725.00</td>\n",
       "      <td>4.0</td>\n",
       "    </tr>\n",
       "    <tr>\n",
       "      <th>1</th>\n",
       "      <td>apartment</td>\n",
       "      <td>Caballito</td>\n",
       "      <td>37.0</td>\n",
       "      <td>1560.49</td>\n",
       "      <td>1.0</td>\n",
       "    </tr>\n",
       "    <tr>\n",
       "      <th>2</th>\n",
       "      <td>apartment</td>\n",
       "      <td>Tribunales</td>\n",
       "      <td>70.0</td>\n",
       "      <td>1757.14</td>\n",
       "      <td>3.0</td>\n",
       "    </tr>\n",
       "    <tr>\n",
       "      <th>3</th>\n",
       "      <td>apartment</td>\n",
       "      <td>Palermo</td>\n",
       "      <td>123.0</td>\n",
       "      <td>2520.33</td>\n",
       "      <td>4.0</td>\n",
       "    </tr>\n",
       "    <tr>\n",
       "      <th>4</th>\n",
       "      <td>apartment</td>\n",
       "      <td>Colegiales</td>\n",
       "      <td>47.0</td>\n",
       "      <td>2829.79</td>\n",
       "      <td>2.0</td>\n",
       "    </tr>\n",
       "    <tr>\n",
       "      <th>...</th>\n",
       "      <td>...</td>\n",
       "      <td>...</td>\n",
       "      <td>...</td>\n",
       "      <td>...</td>\n",
       "      <td>...</td>\n",
       "    </tr>\n",
       "    <tr>\n",
       "      <th>2545</th>\n",
       "      <td>house</td>\n",
       "      <td>Liniers</td>\n",
       "      <td>180.0</td>\n",
       "      <td>1055.56</td>\n",
       "      <td>3.0</td>\n",
       "    </tr>\n",
       "    <tr>\n",
       "      <th>2546</th>\n",
       "      <td>house</td>\n",
       "      <td>Villa Devoto</td>\n",
       "      <td>246.0</td>\n",
       "      <td>1077.24</td>\n",
       "      <td>3.0</td>\n",
       "    </tr>\n",
       "    <tr>\n",
       "      <th>2547</th>\n",
       "      <td>house</td>\n",
       "      <td>Palermo</td>\n",
       "      <td>220.0</td>\n",
       "      <td>1086.36</td>\n",
       "      <td>5.0</td>\n",
       "    </tr>\n",
       "    <tr>\n",
       "      <th>2548</th>\n",
       "      <td>house</td>\n",
       "      <td>Versalles</td>\n",
       "      <td>85.0</td>\n",
       "      <td>1352.94</td>\n",
       "      <td>3.0</td>\n",
       "    </tr>\n",
       "    <tr>\n",
       "      <th>2549</th>\n",
       "      <td>house</td>\n",
       "      <td>Villa Urquiza</td>\n",
       "      <td>190.0</td>\n",
       "      <td>1526.32</td>\n",
       "      <td>5.0</td>\n",
       "    </tr>\n",
       "  </tbody>\n",
       "</table>\n",
       "<p>2550 rows × 5 columns</p>\n",
       "</div>"
      ],
      "text/plain": [
       "           tipo            barrio    sup      pm2  rooms\n",
       "0     apartment  Villa Pueyrredón   80.0  2725.00    4.0\n",
       "1     apartment         Caballito   37.0  1560.49    1.0\n",
       "2     apartment        Tribunales   70.0  1757.14    3.0\n",
       "3     apartment           Palermo  123.0  2520.33    4.0\n",
       "4     apartment        Colegiales   47.0  2829.79    2.0\n",
       "...         ...               ...    ...      ...    ...\n",
       "2545      house           Liniers  180.0  1055.56    3.0\n",
       "2546      house      Villa Devoto  246.0  1077.24    3.0\n",
       "2547      house           Palermo  220.0  1086.36    5.0\n",
       "2548      house         Versalles   85.0  1352.94    3.0\n",
       "2549      house     Villa Urquiza  190.0  1526.32    5.0\n",
       "\n",
       "[2550 rows x 5 columns]"
      ]
     },
     "execution_count": 143,
     "metadata": {},
     "output_type": "execute_result"
    }
   ],
   "source": [
    "prop"
   ]
  },
  {
   "cell_type": "code",
   "execution_count": 73,
   "metadata": {},
   "outputs": [
    {
     "data": {
      "text/plain": [
       "array(['apartment', 'PH', 'house'], dtype=object)"
      ]
     },
     "execution_count": 73,
     "metadata": {},
     "output_type": "execute_result"
    }
   ],
   "source": [
    "prop.tipo.unique()"
   ]
  },
  {
   "cell_type": "code",
   "execution_count": 145,
   "metadata": {},
   "outputs": [
    {
     "data": {
      "text/html": [
       "<div>\n",
       "<style scoped>\n",
       "    .dataframe tbody tr th:only-of-type {\n",
       "        vertical-align: middle;\n",
       "    }\n",
       "\n",
       "    .dataframe tbody tr th {\n",
       "        vertical-align: top;\n",
       "    }\n",
       "\n",
       "    .dataframe thead th {\n",
       "        text-align: right;\n",
       "    }\n",
       "</style>\n",
       "<table border=\"1\" class=\"dataframe\">\n",
       "  <thead>\n",
       "    <tr style=\"text-align: right;\">\n",
       "      <th></th>\n",
       "      <th>sup</th>\n",
       "      <th>pm2</th>\n",
       "      <th>rooms</th>\n",
       "    </tr>\n",
       "  </thead>\n",
       "  <tbody>\n",
       "    <tr>\n",
       "      <th>sup</th>\n",
       "      <td>1.000000</td>\n",
       "      <td>-0.278000</td>\n",
       "      <td>0.448291</td>\n",
       "    </tr>\n",
       "    <tr>\n",
       "      <th>pm2</th>\n",
       "      <td>-0.278000</td>\n",
       "      <td>1.000000</td>\n",
       "      <td>-0.290526</td>\n",
       "    </tr>\n",
       "    <tr>\n",
       "      <th>rooms</th>\n",
       "      <td>0.448291</td>\n",
       "      <td>-0.290526</td>\n",
       "      <td>1.000000</td>\n",
       "    </tr>\n",
       "  </tbody>\n",
       "</table>\n",
       "</div>"
      ],
      "text/plain": [
       "            sup       pm2     rooms\n",
       "sup    1.000000 -0.278000  0.448291\n",
       "pm2   -0.278000  1.000000 -0.290526\n",
       "rooms  0.448291 -0.290526  1.000000"
      ]
     },
     "execution_count": 145,
     "metadata": {},
     "output_type": "execute_result"
    }
   ],
   "source": [
    "prop.corr()"
   ]
  },
  {
   "cell_type": "code",
   "execution_count": 144,
   "metadata": {},
   "outputs": [
    {
     "data": {
      "text/plain": [
       "house        850\n",
       "apartment    850\n",
       "PH           850\n",
       "Name: tipo, dtype: int64"
      ]
     },
     "execution_count": 144,
     "metadata": {},
     "output_type": "execute_result"
    }
   ],
   "source": [
    "prop.tipo.value_counts()"
   ]
  },
  {
   "cell_type": "code",
   "execution_count": 50,
   "metadata": {},
   "outputs": [
    {
     "data": {
      "text/plain": [
       "<AxesSubplot:>"
      ]
     },
     "execution_count": 50,
     "metadata": {},
     "output_type": "execute_result"
    },
    {
     "data": {
      "image/png": "[encoded data removed]",
      "text/plain": [
       "<Figure size 432x288 with 1 Axes>"
      ]
     },
     "metadata": {
      "needs_background": "light"
     },
     "output_type": "display_data"
    }
   ],
   "source": [
    "prop[prop.tipo=='apartment'].pm2.hist()"
   ]
  },
  {
   "cell_type": "code",
   "execution_count": 51,
   "metadata": {},
   "outputs": [
    {
     "data": {
      "text/plain": [
       "<AxesSubplot:>"
      ]
     },
     "execution_count": 51,
     "metadata": {},
     "output_type": "execute_result"
    },
    {
     "data": {
      "image/png": "[encoded data removed]",
      "text/plain": [
       "<Figure size 432x288 with 1 Axes>"
      ]
     },
     "metadata": {
      "needs_background": "light"
     },
     "output_type": "display_data"
    }
   ],
   "source": [
    "prop[prop.tipo=='PH'].pm2.hist()"
   ]
  },
  {
   "cell_type": "code",
   "execution_count": 52,
   "metadata": {},
   "outputs": [
    {
     "data": {
      "text/plain": [
       "<AxesSubplot:>"
      ]
     },
     "execution_count": 52,
     "metadata": {},
     "output_type": "execute_result"
    },
    {
     "data": {
      "image/png": "[encoded data removed]",
      "text/plain": [
       "<Figure size 432x288 with 1 Axes>"
      ]
     },
     "metadata": {
      "needs_background": "light"
     },
     "output_type": "display_data"
    }
   ],
   "source": [
    "prop[prop.tipo=='house'].pm2.hist()"
   ]
  },
  {
   "cell_type": "markdown",
   "metadata": {
    "slideshow": {
     "slide_type": "subslide"
    }
   },
   "source": [
    "#### Variables Dummies\n",
    "\n",
    "* Una **variable dummy** (variable indicadora) es una variable cualitativa que toma valores 0 o 1 para indicar la ausencia o presencia de algún atributo o efecto categórico\n",
    "\n",
    "* Formalmente una variable dummy puede ser expresada mediante una **función indicadora**:\n",
    "\n",
    "\\begin{equation}\n",
    "  D_i= \\mathbb{I}_A(x_i) = \\begin{cases}\n",
    "    1, & \\text{si $x_i \\in A$} \\\\    \n",
    "    0, & \\text{si $x_i \\not \\in A$}\n",
    "  \\end{cases}\n",
    "\\end{equation}\n",
    "\n",
    "\n",
    "\n",
    "\n",
    "* ¿Cuál es la relación entre variables categóricas y variables dummies?\n",
    "\n",
    "    - Una variable categórica con N categorías puede ser expresada en términos de N−1 variables dummies (one-hot encoding).\n",
    "\n",
    "    - Resuelve el problema de interpretar las etiquetas numéricas como un intervalo.\n",
    "\n",
    "    - Si las categorías tienen muchos valores aumenta considerablemente la dimensionalidad de los datos.\n"
   ]
  },
  {
   "cell_type": "markdown",
   "metadata": {
    "slideshow": {
     "slide_type": "subslide"
    }
   },
   "source": [
    "#### Ejemplo\n",
    "\n",
    "Supongamos que tenemos una variable categórica, C, que registra la ciudad en la que reside una muestra de habitantes de la Argentina.\n",
    "\n",
    "Asumamos que la variable puede tomar 4 posibles valores: Buenos Aires, Rosario, Córdoba y Mar del Plata.\n",
    "\n",
    "Imaginemos que tenemos las siguiente 5 observaciones:\n",
    "\n",
    "<img src=\"https://raw.githubusercontent.com/Digital-House-DATA/ds_blend_2021_img/master/M2/CLASE_12_DataWrangling/Presentacion/img/M2_CLASE_12_ejemplo_categorica.png\" align=\"center\"></img>\n",
    "\n",
    "\n",
    "\n"
   ]
  },
  {
   "cell_type": "markdown",
   "metadata": {
    "slideshow": {
     "slide_type": "subslide"
    }
   },
   "source": [
    "Podemos representar estas observaciones de la variable categórica usando dummies como:    \n",
    "\n",
    "<img src=\"https://raw.githubusercontent.com/Digital-House-DATA/ds_blend_2021_img/master/M2/CLASE_12_DataWrangling/Presentacion/img/M2_CLASE_12_dummies.png\" align=\"center\"></img>\n",
    "\n",
    "\n",
    "\n",
    "---\n",
    "\n",
    "Es importante notar que **si existen k categorías, k-1 variables Dummies son suficientes para representarlas**.\n",
    "\n"
   ]
  },
  {
   "cell_type": "code",
   "execution_count": 74,
   "metadata": {},
   "outputs": [
    {
     "data": {
      "text/html": [
       "<div>\n",
       "<style scoped>\n",
       "    .dataframe tbody tr th:only-of-type {\n",
       "        vertical-align: middle;\n",
       "    }\n",
       "\n",
       "    .dataframe tbody tr th {\n",
       "        vertical-align: top;\n",
       "    }\n",
       "\n",
       "    .dataframe thead th {\n",
       "        text-align: right;\n",
       "    }\n",
       "</style>\n",
       "<table border=\"1\" class=\"dataframe\">\n",
       "  <thead>\n",
       "    <tr style=\"text-align: right;\">\n",
       "      <th></th>\n",
       "      <th>tipo</th>\n",
       "      <th>barrio</th>\n",
       "      <th>sup</th>\n",
       "      <th>pm2</th>\n",
       "      <th>rooms</th>\n",
       "    </tr>\n",
       "  </thead>\n",
       "  <tbody>\n",
       "    <tr>\n",
       "      <th>0</th>\n",
       "      <td>apartment</td>\n",
       "      <td>Villa Pueyrredón</td>\n",
       "      <td>80.0</td>\n",
       "      <td>2725.00</td>\n",
       "      <td>4.0</td>\n",
       "    </tr>\n",
       "    <tr>\n",
       "      <th>1</th>\n",
       "      <td>apartment</td>\n",
       "      <td>Caballito</td>\n",
       "      <td>37.0</td>\n",
       "      <td>1560.49</td>\n",
       "      <td>1.0</td>\n",
       "    </tr>\n",
       "    <tr>\n",
       "      <th>2</th>\n",
       "      <td>apartment</td>\n",
       "      <td>Tribunales</td>\n",
       "      <td>70.0</td>\n",
       "      <td>1757.14</td>\n",
       "      <td>3.0</td>\n",
       "    </tr>\n",
       "    <tr>\n",
       "      <th>3</th>\n",
       "      <td>apartment</td>\n",
       "      <td>Palermo</td>\n",
       "      <td>123.0</td>\n",
       "      <td>2520.33</td>\n",
       "      <td>4.0</td>\n",
       "    </tr>\n",
       "    <tr>\n",
       "      <th>4</th>\n",
       "      <td>apartment</td>\n",
       "      <td>Colegiales</td>\n",
       "      <td>47.0</td>\n",
       "      <td>2829.79</td>\n",
       "      <td>2.0</td>\n",
       "    </tr>\n",
       "    <tr>\n",
       "      <th>...</th>\n",
       "      <td>...</td>\n",
       "      <td>...</td>\n",
       "      <td>...</td>\n",
       "      <td>...</td>\n",
       "      <td>...</td>\n",
       "    </tr>\n",
       "    <tr>\n",
       "      <th>2545</th>\n",
       "      <td>house</td>\n",
       "      <td>Liniers</td>\n",
       "      <td>180.0</td>\n",
       "      <td>1055.56</td>\n",
       "      <td>3.0</td>\n",
       "    </tr>\n",
       "    <tr>\n",
       "      <th>2546</th>\n",
       "      <td>house</td>\n",
       "      <td>Villa Devoto</td>\n",
       "      <td>246.0</td>\n",
       "      <td>1077.24</td>\n",
       "      <td>3.0</td>\n",
       "    </tr>\n",
       "    <tr>\n",
       "      <th>2547</th>\n",
       "      <td>house</td>\n",
       "      <td>Palermo</td>\n",
       "      <td>220.0</td>\n",
       "      <td>1086.36</td>\n",
       "      <td>5.0</td>\n",
       "    </tr>\n",
       "    <tr>\n",
       "      <th>2548</th>\n",
       "      <td>house</td>\n",
       "      <td>Versalles</td>\n",
       "      <td>85.0</td>\n",
       "      <td>1352.94</td>\n",
       "      <td>3.0</td>\n",
       "    </tr>\n",
       "    <tr>\n",
       "      <th>2549</th>\n",
       "      <td>house</td>\n",
       "      <td>Villa Urquiza</td>\n",
       "      <td>190.0</td>\n",
       "      <td>1526.32</td>\n",
       "      <td>5.0</td>\n",
       "    </tr>\n",
       "  </tbody>\n",
       "</table>\n",
       "<p>2550 rows × 5 columns</p>\n",
       "</div>"
      ],
      "text/plain": [
       "           tipo            barrio    sup      pm2  rooms\n",
       "0     apartment  Villa Pueyrredón   80.0  2725.00    4.0\n",
       "1     apartment         Caballito   37.0  1560.49    1.0\n",
       "2     apartment        Tribunales   70.0  1757.14    3.0\n",
       "3     apartment           Palermo  123.0  2520.33    4.0\n",
       "4     apartment        Colegiales   47.0  2829.79    2.0\n",
       "...         ...               ...    ...      ...    ...\n",
       "2545      house           Liniers  180.0  1055.56    3.0\n",
       "2546      house      Villa Devoto  246.0  1077.24    3.0\n",
       "2547      house           Palermo  220.0  1086.36    5.0\n",
       "2548      house         Versalles   85.0  1352.94    3.0\n",
       "2549      house     Villa Urquiza  190.0  1526.32    5.0\n",
       "\n",
       "[2550 rows x 5 columns]"
      ]
     },
     "execution_count": 74,
     "metadata": {},
     "output_type": "execute_result"
    }
   ],
   "source": [
    "prop"
   ]
  },
  {
   "cell_type": "code",
   "execution_count": 75,
   "metadata": {},
   "outputs": [
    {
     "data": {
      "text/html": [
       "<div>\n",
       "<style scoped>\n",
       "    .dataframe tbody tr th:only-of-type {\n",
       "        vertical-align: middle;\n",
       "    }\n",
       "\n",
       "    .dataframe tbody tr th {\n",
       "        vertical-align: top;\n",
       "    }\n",
       "\n",
       "    .dataframe thead th {\n",
       "        text-align: right;\n",
       "    }\n",
       "</style>\n",
       "<table border=\"1\" class=\"dataframe\">\n",
       "  <thead>\n",
       "    <tr style=\"text-align: right;\">\n",
       "      <th></th>\n",
       "      <th>barrio</th>\n",
       "      <th>sup</th>\n",
       "      <th>pm2</th>\n",
       "      <th>rooms</th>\n",
       "      <th>tipo_PH</th>\n",
       "      <th>tipo_apartment</th>\n",
       "      <th>tipo_house</th>\n",
       "    </tr>\n",
       "  </thead>\n",
       "  <tbody>\n",
       "    <tr>\n",
       "      <th>0</th>\n",
       "      <td>Villa Pueyrredón</td>\n",
       "      <td>80.0</td>\n",
       "      <td>2725.00</td>\n",
       "      <td>4.0</td>\n",
       "      <td>0</td>\n",
       "      <td>1</td>\n",
       "      <td>0</td>\n",
       "    </tr>\n",
       "    <tr>\n",
       "      <th>1</th>\n",
       "      <td>Caballito</td>\n",
       "      <td>37.0</td>\n",
       "      <td>1560.49</td>\n",
       "      <td>1.0</td>\n",
       "      <td>0</td>\n",
       "      <td>1</td>\n",
       "      <td>0</td>\n",
       "    </tr>\n",
       "    <tr>\n",
       "      <th>2</th>\n",
       "      <td>Tribunales</td>\n",
       "      <td>70.0</td>\n",
       "      <td>1757.14</td>\n",
       "      <td>3.0</td>\n",
       "      <td>0</td>\n",
       "      <td>1</td>\n",
       "      <td>0</td>\n",
       "    </tr>\n",
       "    <tr>\n",
       "      <th>3</th>\n",
       "      <td>Palermo</td>\n",
       "      <td>123.0</td>\n",
       "      <td>2520.33</td>\n",
       "      <td>4.0</td>\n",
       "      <td>0</td>\n",
       "      <td>1</td>\n",
       "      <td>0</td>\n",
       "    </tr>\n",
       "    <tr>\n",
       "      <th>4</th>\n",
       "      <td>Colegiales</td>\n",
       "      <td>47.0</td>\n",
       "      <td>2829.79</td>\n",
       "      <td>2.0</td>\n",
       "      <td>0</td>\n",
       "      <td>1</td>\n",
       "      <td>0</td>\n",
       "    </tr>\n",
       "    <tr>\n",
       "      <th>...</th>\n",
       "      <td>...</td>\n",
       "      <td>...</td>\n",
       "      <td>...</td>\n",
       "      <td>...</td>\n",
       "      <td>...</td>\n",
       "      <td>...</td>\n",
       "      <td>...</td>\n",
       "    </tr>\n",
       "    <tr>\n",
       "      <th>2545</th>\n",
       "      <td>Liniers</td>\n",
       "      <td>180.0</td>\n",
       "      <td>1055.56</td>\n",
       "      <td>3.0</td>\n",
       "      <td>0</td>\n",
       "      <td>0</td>\n",
       "      <td>1</td>\n",
       "    </tr>\n",
       "    <tr>\n",
       "      <th>2546</th>\n",
       "      <td>Villa Devoto</td>\n",
       "      <td>246.0</td>\n",
       "      <td>1077.24</td>\n",
       "      <td>3.0</td>\n",
       "      <td>0</td>\n",
       "      <td>0</td>\n",
       "      <td>1</td>\n",
       "    </tr>\n",
       "    <tr>\n",
       "      <th>2547</th>\n",
       "      <td>Palermo</td>\n",
       "      <td>220.0</td>\n",
       "      <td>1086.36</td>\n",
       "      <td>5.0</td>\n",
       "      <td>0</td>\n",
       "      <td>0</td>\n",
       "      <td>1</td>\n",
       "    </tr>\n",
       "    <tr>\n",
       "      <th>2548</th>\n",
       "      <td>Versalles</td>\n",
       "      <td>85.0</td>\n",
       "      <td>1352.94</td>\n",
       "      <td>3.0</td>\n",
       "      <td>0</td>\n",
       "      <td>0</td>\n",
       "      <td>1</td>\n",
       "    </tr>\n",
       "    <tr>\n",
       "      <th>2549</th>\n",
       "      <td>Villa Urquiza</td>\n",
       "      <td>190.0</td>\n",
       "      <td>1526.32</td>\n",
       "      <td>5.0</td>\n",
       "      <td>0</td>\n",
       "      <td>0</td>\n",
       "      <td>1</td>\n",
       "    </tr>\n",
       "  </tbody>\n",
       "</table>\n",
       "<p>2550 rows × 7 columns</p>\n",
       "</div>"
      ],
      "text/plain": [
       "                barrio    sup      pm2  rooms  tipo_PH  tipo_apartment  \\\n",
       "0     Villa Pueyrredón   80.0  2725.00    4.0        0               1   \n",
       "1            Caballito   37.0  1560.49    1.0        0               1   \n",
       "2           Tribunales   70.0  1757.14    3.0        0               1   \n",
       "3              Palermo  123.0  2520.33    4.0        0               1   \n",
       "4           Colegiales   47.0  2829.79    2.0        0               1   \n",
       "...                ...    ...      ...    ...      ...             ...   \n",
       "2545           Liniers  180.0  1055.56    3.0        0               0   \n",
       "2546      Villa Devoto  246.0  1077.24    3.0        0               0   \n",
       "2547           Palermo  220.0  1086.36    5.0        0               0   \n",
       "2548         Versalles   85.0  1352.94    3.0        0               0   \n",
       "2549     Villa Urquiza  190.0  1526.32    5.0        0               0   \n",
       "\n",
       "      tipo_house  \n",
       "0              0  \n",
       "1              0  \n",
       "2              0  \n",
       "3              0  \n",
       "4              0  \n",
       "...          ...  \n",
       "2545           1  \n",
       "2546           1  \n",
       "2547           1  \n",
       "2548           1  \n",
       "2549           1  \n",
       "\n",
       "[2550 rows x 7 columns]"
      ]
     },
     "execution_count": 75,
     "metadata": {},
     "output_type": "execute_result"
    }
   ],
   "source": [
    "pd.get_dummies(prop, columns=['tipo'])"
   ]
  },
  {
   "cell_type": "code",
   "execution_count": 77,
   "metadata": {},
   "outputs": [
    {
     "data": {
      "text/html": [
       "<div>\n",
       "<style scoped>\n",
       "    .dataframe tbody tr th:only-of-type {\n",
       "        vertical-align: middle;\n",
       "    }\n",
       "\n",
       "    .dataframe tbody tr th {\n",
       "        vertical-align: top;\n",
       "    }\n",
       "\n",
       "    .dataframe thead th {\n",
       "        text-align: right;\n",
       "    }\n",
       "</style>\n",
       "<table border=\"1\" class=\"dataframe\">\n",
       "  <thead>\n",
       "    <tr style=\"text-align: right;\">\n",
       "      <th></th>\n",
       "      <th>sup</th>\n",
       "      <th>pm2</th>\n",
       "      <th>rooms</th>\n",
       "      <th>tipo_apartment</th>\n",
       "      <th>tipo_house</th>\n",
       "      <th>barrio_Agronomía</th>\n",
       "      <th>barrio_Almagro</th>\n",
       "      <th>barrio_Balvanera</th>\n",
       "      <th>barrio_Barracas</th>\n",
       "      <th>barrio_Barrio Norte</th>\n",
       "      <th>...</th>\n",
       "      <th>barrio_Villa Lugano</th>\n",
       "      <th>barrio_Villa Luro</th>\n",
       "      <th>barrio_Villa Ortuzar</th>\n",
       "      <th>barrio_Villa Pueyrredón</th>\n",
       "      <th>barrio_Villa Real</th>\n",
       "      <th>barrio_Villa Riachuelo</th>\n",
       "      <th>barrio_Villa Santa Rita</th>\n",
       "      <th>barrio_Villa Soldati</th>\n",
       "      <th>barrio_Villa Urquiza</th>\n",
       "      <th>barrio_Villa del Parque</th>\n",
       "    </tr>\n",
       "  </thead>\n",
       "  <tbody>\n",
       "    <tr>\n",
       "      <th>0</th>\n",
       "      <td>80.0</td>\n",
       "      <td>2725.00</td>\n",
       "      <td>4.0</td>\n",
       "      <td>1</td>\n",
       "      <td>0</td>\n",
       "      <td>0</td>\n",
       "      <td>0</td>\n",
       "      <td>0</td>\n",
       "      <td>0</td>\n",
       "      <td>0</td>\n",
       "      <td>...</td>\n",
       "      <td>0</td>\n",
       "      <td>0</td>\n",
       "      <td>0</td>\n",
       "      <td>1</td>\n",
       "      <td>0</td>\n",
       "      <td>0</td>\n",
       "      <td>0</td>\n",
       "      <td>0</td>\n",
       "      <td>0</td>\n",
       "      <td>0</td>\n",
       "    </tr>\n",
       "    <tr>\n",
       "      <th>1</th>\n",
       "      <td>37.0</td>\n",
       "      <td>1560.49</td>\n",
       "      <td>1.0</td>\n",
       "      <td>1</td>\n",
       "      <td>0</td>\n",
       "      <td>0</td>\n",
       "      <td>0</td>\n",
       "      <td>0</td>\n",
       "      <td>0</td>\n",
       "      <td>0</td>\n",
       "      <td>...</td>\n",
       "      <td>0</td>\n",
       "      <td>0</td>\n",
       "      <td>0</td>\n",
       "      <td>0</td>\n",
       "      <td>0</td>\n",
       "      <td>0</td>\n",
       "      <td>0</td>\n",
       "      <td>0</td>\n",
       "      <td>0</td>\n",
       "      <td>0</td>\n",
       "    </tr>\n",
       "    <tr>\n",
       "      <th>2</th>\n",
       "      <td>70.0</td>\n",
       "      <td>1757.14</td>\n",
       "      <td>3.0</td>\n",
       "      <td>1</td>\n",
       "      <td>0</td>\n",
       "      <td>0</td>\n",
       "      <td>0</td>\n",
       "      <td>0</td>\n",
       "      <td>0</td>\n",
       "      <td>0</td>\n",
       "      <td>...</td>\n",
       "      <td>0</td>\n",
       "      <td>0</td>\n",
       "      <td>0</td>\n",
       "      <td>0</td>\n",
       "      <td>0</td>\n",
       "      <td>0</td>\n",
       "      <td>0</td>\n",
       "      <td>0</td>\n",
       "      <td>0</td>\n",
       "      <td>0</td>\n",
       "    </tr>\n",
       "    <tr>\n",
       "      <th>3</th>\n",
       "      <td>123.0</td>\n",
       "      <td>2520.33</td>\n",
       "      <td>4.0</td>\n",
       "      <td>1</td>\n",
       "      <td>0</td>\n",
       "      <td>0</td>\n",
       "      <td>0</td>\n",
       "      <td>0</td>\n",
       "      <td>0</td>\n",
       "      <td>0</td>\n",
       "      <td>...</td>\n",
       "      <td>0</td>\n",
       "      <td>0</td>\n",
       "      <td>0</td>\n",
       "      <td>0</td>\n",
       "      <td>0</td>\n",
       "      <td>0</td>\n",
       "      <td>0</td>\n",
       "      <td>0</td>\n",
       "      <td>0</td>\n",
       "      <td>0</td>\n",
       "    </tr>\n",
       "    <tr>\n",
       "      <th>4</th>\n",
       "      <td>47.0</td>\n",
       "      <td>2829.79</td>\n",
       "      <td>2.0</td>\n",
       "      <td>1</td>\n",
       "      <td>0</td>\n",
       "      <td>0</td>\n",
       "      <td>0</td>\n",
       "      <td>0</td>\n",
       "      <td>0</td>\n",
       "      <td>0</td>\n",
       "      <td>...</td>\n",
       "      <td>0</td>\n",
       "      <td>0</td>\n",
       "      <td>0</td>\n",
       "      <td>0</td>\n",
       "      <td>0</td>\n",
       "      <td>0</td>\n",
       "      <td>0</td>\n",
       "      <td>0</td>\n",
       "      <td>0</td>\n",
       "      <td>0</td>\n",
       "    </tr>\n",
       "    <tr>\n",
       "      <th>...</th>\n",
       "      <td>...</td>\n",
       "      <td>...</td>\n",
       "      <td>...</td>\n",
       "      <td>...</td>\n",
       "      <td>...</td>\n",
       "      <td>...</td>\n",
       "      <td>...</td>\n",
       "      <td>...</td>\n",
       "      <td>...</td>\n",
       "      <td>...</td>\n",
       "      <td>...</td>\n",
       "      <td>...</td>\n",
       "      <td>...</td>\n",
       "      <td>...</td>\n",
       "      <td>...</td>\n",
       "      <td>...</td>\n",
       "      <td>...</td>\n",
       "      <td>...</td>\n",
       "      <td>...</td>\n",
       "      <td>...</td>\n",
       "      <td>...</td>\n",
       "    </tr>\n",
       "    <tr>\n",
       "      <th>2545</th>\n",
       "      <td>180.0</td>\n",
       "      <td>1055.56</td>\n",
       "      <td>3.0</td>\n",
       "      <td>0</td>\n",
       "      <td>1</td>\n",
       "      <td>0</td>\n",
       "      <td>0</td>\n",
       "      <td>0</td>\n",
       "      <td>0</td>\n",
       "      <td>0</td>\n",
       "      <td>...</td>\n",
       "      <td>0</td>\n",
       "      <td>0</td>\n",
       "      <td>0</td>\n",
       "      <td>0</td>\n",
       "      <td>0</td>\n",
       "      <td>0</td>\n",
       "      <td>0</td>\n",
       "      <td>0</td>\n",
       "      <td>0</td>\n",
       "      <td>0</td>\n",
       "    </tr>\n",
       "    <tr>\n",
       "      <th>2546</th>\n",
       "      <td>246.0</td>\n",
       "      <td>1077.24</td>\n",
       "      <td>3.0</td>\n",
       "      <td>0</td>\n",
       "      <td>1</td>\n",
       "      <td>0</td>\n",
       "      <td>0</td>\n",
       "      <td>0</td>\n",
       "      <td>0</td>\n",
       "      <td>0</td>\n",
       "      <td>...</td>\n",
       "      <td>0</td>\n",
       "      <td>0</td>\n",
       "      <td>0</td>\n",
       "      <td>0</td>\n",
       "      <td>0</td>\n",
       "      <td>0</td>\n",
       "      <td>0</td>\n",
       "      <td>0</td>\n",
       "      <td>0</td>\n",
       "      <td>0</td>\n",
       "    </tr>\n",
       "    <tr>\n",
       "      <th>2547</th>\n",
       "      <td>220.0</td>\n",
       "      <td>1086.36</td>\n",
       "      <td>5.0</td>\n",
       "      <td>0</td>\n",
       "      <td>1</td>\n",
       "      <td>0</td>\n",
       "      <td>0</td>\n",
       "      <td>0</td>\n",
       "      <td>0</td>\n",
       "      <td>0</td>\n",
       "      <td>...</td>\n",
       "      <td>0</td>\n",
       "      <td>0</td>\n",
       "      <td>0</td>\n",
       "      <td>0</td>\n",
       "      <td>0</td>\n",
       "      <td>0</td>\n",
       "      <td>0</td>\n",
       "      <td>0</td>\n",
       "      <td>0</td>\n",
       "      <td>0</td>\n",
       "    </tr>\n",
       "    <tr>\n",
       "      <th>2548</th>\n",
       "      <td>85.0</td>\n",
       "      <td>1352.94</td>\n",
       "      <td>3.0</td>\n",
       "      <td>0</td>\n",
       "      <td>1</td>\n",
       "      <td>0</td>\n",
       "      <td>0</td>\n",
       "      <td>0</td>\n",
       "      <td>0</td>\n",
       "      <td>0</td>\n",
       "      <td>...</td>\n",
       "      <td>0</td>\n",
       "      <td>0</td>\n",
       "      <td>0</td>\n",
       "      <td>0</td>\n",
       "      <td>0</td>\n",
       "      <td>0</td>\n",
       "      <td>0</td>\n",
       "      <td>0</td>\n",
       "      <td>0</td>\n",
       "      <td>0</td>\n",
       "    </tr>\n",
       "    <tr>\n",
       "      <th>2549</th>\n",
       "      <td>190.0</td>\n",
       "      <td>1526.32</td>\n",
       "      <td>5.0</td>\n",
       "      <td>0</td>\n",
       "      <td>1</td>\n",
       "      <td>0</td>\n",
       "      <td>0</td>\n",
       "      <td>0</td>\n",
       "      <td>0</td>\n",
       "      <td>0</td>\n",
       "      <td>...</td>\n",
       "      <td>0</td>\n",
       "      <td>0</td>\n",
       "      <td>0</td>\n",
       "      <td>0</td>\n",
       "      <td>0</td>\n",
       "      <td>0</td>\n",
       "      <td>0</td>\n",
       "      <td>0</td>\n",
       "      <td>1</td>\n",
       "      <td>0</td>\n",
       "    </tr>\n",
       "  </tbody>\n",
       "</table>\n",
       "<p>2550 rows × 60 columns</p>\n",
       "</div>"
      ],
      "text/plain": [
       "        sup      pm2  rooms  tipo_apartment  tipo_house  barrio_Agronomía  \\\n",
       "0      80.0  2725.00    4.0               1           0                 0   \n",
       "1      37.0  1560.49    1.0               1           0                 0   \n",
       "2      70.0  1757.14    3.0               1           0                 0   \n",
       "3     123.0  2520.33    4.0               1           0                 0   \n",
       "4      47.0  2829.79    2.0               1           0                 0   \n",
       "...     ...      ...    ...             ...         ...               ...   \n",
       "2545  180.0  1055.56    3.0               0           1                 0   \n",
       "2546  246.0  1077.24    3.0               0           1                 0   \n",
       "2547  220.0  1086.36    5.0               0           1                 0   \n",
       "2548   85.0  1352.94    3.0               0           1                 0   \n",
       "2549  190.0  1526.32    5.0               0           1                 0   \n",
       "\n",
       "      barrio_Almagro  barrio_Balvanera  barrio_Barracas  barrio_Barrio Norte  \\\n",
       "0                  0                 0                0                    0   \n",
       "1                  0                 0                0                    0   \n",
       "2                  0                 0                0                    0   \n",
       "3                  0                 0                0                    0   \n",
       "4                  0                 0                0                    0   \n",
       "...              ...               ...              ...                  ...   \n",
       "2545               0                 0                0                    0   \n",
       "2546               0                 0                0                    0   \n",
       "2547               0                 0                0                    0   \n",
       "2548               0                 0                0                    0   \n",
       "2549               0                 0                0                    0   \n",
       "\n",
       "      ...  barrio_Villa Lugano  barrio_Villa Luro  barrio_Villa Ortuzar  \\\n",
       "0     ...                    0                  0                     0   \n",
       "1     ...                    0                  0                     0   \n",
       "2     ...                    0                  0                     0   \n",
       "3     ...                    0                  0                     0   \n",
       "4     ...                    0                  0                     0   \n",
       "...   ...                  ...                ...                   ...   \n",
       "2545  ...                    0                  0                     0   \n",
       "2546  ...                    0                  0                     0   \n",
       "2547  ...                    0                  0                     0   \n",
       "2548  ...                    0                  0                     0   \n",
       "2549  ...                    0                  0                     0   \n",
       "\n",
       "      barrio_Villa Pueyrredón  barrio_Villa Real  barrio_Villa Riachuelo  \\\n",
       "0                           1                  0                       0   \n",
       "1                           0                  0                       0   \n",
       "2                           0                  0                       0   \n",
       "3                           0                  0                       0   \n",
       "4                           0                  0                       0   \n",
       "...                       ...                ...                     ...   \n",
       "2545                        0                  0                       0   \n",
       "2546                        0                  0                       0   \n",
       "2547                        0                  0                       0   \n",
       "2548                        0                  0                       0   \n",
       "2549                        0                  0                       0   \n",
       "\n",
       "      barrio_Villa Santa Rita  barrio_Villa Soldati  barrio_Villa Urquiza  \\\n",
       "0                           0                     0                     0   \n",
       "1                           0                     0                     0   \n",
       "2                           0                     0                     0   \n",
       "3                           0                     0                     0   \n",
       "4                           0                     0                     0   \n",
       "...                       ...                   ...                   ...   \n",
       "2545                        0                     0                     0   \n",
       "2546                        0                     0                     0   \n",
       "2547                        0                     0                     0   \n",
       "2548                        0                     0                     0   \n",
       "2549                        0                     0                     1   \n",
       "\n",
       "      barrio_Villa del Parque  \n",
       "0                           0  \n",
       "1                           0  \n",
       "2                           0  \n",
       "3                           0  \n",
       "4                           0  \n",
       "...                       ...  \n",
       "2545                        0  \n",
       "2546                        0  \n",
       "2547                        0  \n",
       "2548                        0  \n",
       "2549                        0  \n",
       "\n",
       "[2550 rows x 60 columns]"
      ]
     },
     "execution_count": 77,
     "metadata": {},
     "output_type": "execute_result"
    }
   ],
   "source": [
    "pd.get_dummies(prop , drop_first = True)"
   ]
  },
  {
   "cell_type": "code",
   "execution_count": 78,
   "metadata": {
    "scrolled": false
   },
   "outputs": [
    {
     "data": {
      "text/html": [
       "<div>\n",
       "<style scoped>\n",
       "    .dataframe tbody tr th:only-of-type {\n",
       "        vertical-align: middle;\n",
       "    }\n",
       "\n",
       "    .dataframe tbody tr th {\n",
       "        vertical-align: top;\n",
       "    }\n",
       "\n",
       "    .dataframe thead th {\n",
       "        text-align: right;\n",
       "    }\n",
       "</style>\n",
       "<table border=\"1\" class=\"dataframe\">\n",
       "  <thead>\n",
       "    <tr style=\"text-align: right;\">\n",
       "      <th></th>\n",
       "      <th>sup</th>\n",
       "      <th>pm2</th>\n",
       "      <th>rooms</th>\n",
       "      <th>tipo_apartment</th>\n",
       "      <th>tipo_house</th>\n",
       "      <th>barrio_Agronomía</th>\n",
       "      <th>barrio_Almagro</th>\n",
       "      <th>barrio_Balvanera</th>\n",
       "      <th>barrio_Barracas</th>\n",
       "      <th>barrio_Barrio Norte</th>\n",
       "      <th>...</th>\n",
       "      <th>barrio_Villa Lugano</th>\n",
       "      <th>barrio_Villa Luro</th>\n",
       "      <th>barrio_Villa Ortuzar</th>\n",
       "      <th>barrio_Villa Pueyrredón</th>\n",
       "      <th>barrio_Villa Real</th>\n",
       "      <th>barrio_Villa Riachuelo</th>\n",
       "      <th>barrio_Villa Santa Rita</th>\n",
       "      <th>barrio_Villa Soldati</th>\n",
       "      <th>barrio_Villa Urquiza</th>\n",
       "      <th>barrio_Villa del Parque</th>\n",
       "    </tr>\n",
       "  </thead>\n",
       "  <tbody>\n",
       "    <tr>\n",
       "      <th>sup</th>\n",
       "      <td>1.000000</td>\n",
       "      <td>-0.278000</td>\n",
       "      <td>0.448291</td>\n",
       "      <td>-2.741350e-01</td>\n",
       "      <td>3.928570e-01</td>\n",
       "      <td>0.016517</td>\n",
       "      <td>0.033986</td>\n",
       "      <td>-0.025926</td>\n",
       "      <td>0.025204</td>\n",
       "      <td>-0.030981</td>\n",
       "      <td>...</td>\n",
       "      <td>0.020762</td>\n",
       "      <td>0.003462</td>\n",
       "      <td>0.001612</td>\n",
       "      <td>0.002224</td>\n",
       "      <td>-0.005053</td>\n",
       "      <td>0.010100</td>\n",
       "      <td>-0.007485</td>\n",
       "      <td>-0.009139</td>\n",
       "      <td>-0.040190</td>\n",
       "      <td>0.015554</td>\n",
       "    </tr>\n",
       "    <tr>\n",
       "      <th>pm2</th>\n",
       "      <td>-0.278000</td>\n",
       "      <td>1.000000</td>\n",
       "      <td>-0.290526</td>\n",
       "      <td>4.531984e-01</td>\n",
       "      <td>-3.048741e-01</td>\n",
       "      <td>-0.014205</td>\n",
       "      <td>-0.042153</td>\n",
       "      <td>-0.041440</td>\n",
       "      <td>-0.091686</td>\n",
       "      <td>0.108363</td>\n",
       "      <td>...</td>\n",
       "      <td>-0.149091</td>\n",
       "      <td>-0.055995</td>\n",
       "      <td>0.048115</td>\n",
       "      <td>-0.024432</td>\n",
       "      <td>-0.044287</td>\n",
       "      <td>-0.026972</td>\n",
       "      <td>0.017739</td>\n",
       "      <td>-0.048539</td>\n",
       "      <td>0.049909</td>\n",
       "      <td>-0.047049</td>\n",
       "    </tr>\n",
       "    <tr>\n",
       "      <th>rooms</th>\n",
       "      <td>0.448291</td>\n",
       "      <td>-0.290526</td>\n",
       "      <td>1.000000</td>\n",
       "      <td>-4.527727e-01</td>\n",
       "      <td>4.645458e-01</td>\n",
       "      <td>0.043172</td>\n",
       "      <td>0.049411</td>\n",
       "      <td>0.003334</td>\n",
       "      <td>0.029798</td>\n",
       "      <td>-0.041161</td>\n",
       "      <td>...</td>\n",
       "      <td>0.008697</td>\n",
       "      <td>0.005558</td>\n",
       "      <td>0.039775</td>\n",
       "      <td>0.016479</td>\n",
       "      <td>-0.009187</td>\n",
       "      <td>-0.006403</td>\n",
       "      <td>0.010477</td>\n",
       "      <td>0.010559</td>\n",
       "      <td>-0.038635</td>\n",
       "      <td>0.011437</td>\n",
       "    </tr>\n",
       "    <tr>\n",
       "      <th>tipo_apartment</th>\n",
       "      <td>-0.274135</td>\n",
       "      <td>0.453198</td>\n",
       "      <td>-0.452773</td>\n",
       "      <td>1.000000e+00</td>\n",
       "      <td>-5.000000e-01</td>\n",
       "      <td>-0.012537</td>\n",
       "      <td>-0.016307</td>\n",
       "      <td>0.059625</td>\n",
       "      <td>-0.035652</td>\n",
       "      <td>0.102033</td>\n",
       "      <td>...</td>\n",
       "      <td>-0.086690</td>\n",
       "      <td>-0.059787</td>\n",
       "      <td>-0.028028</td>\n",
       "      <td>-0.055091</td>\n",
       "      <td>-0.061265</td>\n",
       "      <td>-0.014006</td>\n",
       "      <td>-0.033849</td>\n",
       "      <td>0.014014</td>\n",
       "      <td>0.060475</td>\n",
       "      <td>-0.067144</td>\n",
       "    </tr>\n",
       "    <tr>\n",
       "      <th>tipo_house</th>\n",
       "      <td>0.392857</td>\n",
       "      <td>-0.304874</td>\n",
       "      <td>0.464546</td>\n",
       "      <td>-5.000000e-01</td>\n",
       "      <td>1.000000e+00</td>\n",
       "      <td>0.006268</td>\n",
       "      <td>-0.021199</td>\n",
       "      <td>-0.074531</td>\n",
       "      <td>0.029710</td>\n",
       "      <td>-0.071887</td>\n",
       "      <td>...</td>\n",
       "      <td>0.090379</td>\n",
       "      <td>0.032986</td>\n",
       "      <td>0.035034</td>\n",
       "      <td>0.036728</td>\n",
       "      <td>-0.003224</td>\n",
       "      <td>0.028011</td>\n",
       "      <td>0.004231</td>\n",
       "      <td>0.014014</td>\n",
       "      <td>-0.034182</td>\n",
       "      <td>0.041738</td>\n",
       "    </tr>\n",
       "    <tr>\n",
       "      <th>barrio_Agronomía</th>\n",
       "      <td>0.016517</td>\n",
       "      <td>-0.014205</td>\n",
       "      <td>0.043172</td>\n",
       "      <td>-1.253678e-02</td>\n",
       "      <td>6.268391e-03</td>\n",
       "      <td>1.000000</td>\n",
       "      <td>-0.007769</td>\n",
       "      <td>-0.005873</td>\n",
       "      <td>-0.006332</td>\n",
       "      <td>-0.005378</td>\n",
       "      <td>...</td>\n",
       "      <td>-0.006822</td>\n",
       "      <td>-0.006074</td>\n",
       "      <td>-0.001757</td>\n",
       "      <td>-0.006139</td>\n",
       "      <td>-0.003840</td>\n",
       "      <td>-0.000878</td>\n",
       "      <td>-0.002917</td>\n",
       "      <td>-0.001757</td>\n",
       "      <td>-0.009807</td>\n",
       "      <td>-0.006939</td>\n",
       "    </tr>\n",
       "    <tr>\n",
       "      <th>barrio_Almagro</th>\n",
       "      <td>0.033986</td>\n",
       "      <td>-0.042153</td>\n",
       "      <td>0.049411</td>\n",
       "      <td>-1.630716e-02</td>\n",
       "      <td>-2.119931e-02</td>\n",
       "      <td>-0.007769</td>\n",
       "      <td>1.000000</td>\n",
       "      <td>-0.023224</td>\n",
       "      <td>-0.025039</td>\n",
       "      <td>-0.021267</td>\n",
       "      <td>...</td>\n",
       "      <td>-0.026974</td>\n",
       "      <td>-0.024017</td>\n",
       "      <td>-0.006947</td>\n",
       "      <td>-0.024276</td>\n",
       "      <td>-0.015186</td>\n",
       "      <td>-0.003472</td>\n",
       "      <td>-0.011536</td>\n",
       "      <td>-0.006947</td>\n",
       "      <td>-0.038778</td>\n",
       "      <td>-0.027438</td>\n",
       "    </tr>\n",
       "    <tr>\n",
       "      <th>barrio_Balvanera</th>\n",
       "      <td>-0.025926</td>\n",
       "      <td>-0.041440</td>\n",
       "      <td>0.003334</td>\n",
       "      <td>5.962469e-02</td>\n",
       "      <td>-7.453087e-02</td>\n",
       "      <td>-0.005873</td>\n",
       "      <td>-0.023224</td>\n",
       "      <td>1.000000</td>\n",
       "      <td>-0.018929</td>\n",
       "      <td>-0.016078</td>\n",
       "      <td>...</td>\n",
       "      <td>-0.020393</td>\n",
       "      <td>-0.018157</td>\n",
       "      <td>-0.005252</td>\n",
       "      <td>-0.018353</td>\n",
       "      <td>-0.011481</td>\n",
       "      <td>-0.002625</td>\n",
       "      <td>-0.008722</td>\n",
       "      <td>-0.005252</td>\n",
       "      <td>-0.029317</td>\n",
       "      <td>-0.020744</td>\n",
       "    </tr>\n",
       "    <tr>\n",
       "      <th>barrio_Barracas</th>\n",
       "      <td>0.025204</td>\n",
       "      <td>-0.091686</td>\n",
       "      <td>0.029798</td>\n",
       "      <td>-3.565244e-02</td>\n",
       "      <td>2.971037e-02</td>\n",
       "      <td>-0.006332</td>\n",
       "      <td>-0.025039</td>\n",
       "      <td>-0.018929</td>\n",
       "      <td>1.000000</td>\n",
       "      <td>-0.017334</td>\n",
       "      <td>...</td>\n",
       "      <td>-0.021986</td>\n",
       "      <td>-0.019576</td>\n",
       "      <td>-0.005662</td>\n",
       "      <td>-0.019787</td>\n",
       "      <td>-0.012377</td>\n",
       "      <td>-0.002830</td>\n",
       "      <td>-0.009403</td>\n",
       "      <td>-0.005662</td>\n",
       "      <td>-0.031607</td>\n",
       "      <td>-0.022364</td>\n",
       "    </tr>\n",
       "    <tr>\n",
       "      <th>barrio_Barrio Norte</th>\n",
       "      <td>-0.030981</td>\n",
       "      <td>0.108363</td>\n",
       "      <td>-0.041161</td>\n",
       "      <td>1.020330e-01</td>\n",
       "      <td>-7.188687e-02</td>\n",
       "      <td>-0.005378</td>\n",
       "      <td>-0.021267</td>\n",
       "      <td>-0.016078</td>\n",
       "      <td>-0.017334</td>\n",
       "      <td>1.000000</td>\n",
       "      <td>...</td>\n",
       "      <td>-0.018674</td>\n",
       "      <td>-0.016627</td>\n",
       "      <td>-0.004810</td>\n",
       "      <td>-0.016807</td>\n",
       "      <td>-0.010513</td>\n",
       "      <td>-0.002403</td>\n",
       "      <td>-0.007987</td>\n",
       "      <td>-0.004810</td>\n",
       "      <td>-0.026846</td>\n",
       "      <td>-0.018996</td>\n",
       "    </tr>\n",
       "    <tr>\n",
       "      <th>barrio_Belgrano</th>\n",
       "      <td>0.044936</td>\n",
       "      <td>0.213100</td>\n",
       "      <td>0.018697</td>\n",
       "      <td>1.132940e-01</td>\n",
       "      <td>-1.687357e-02</td>\n",
       "      <td>-0.010804</td>\n",
       "      <td>-0.042721</td>\n",
       "      <td>-0.032297</td>\n",
       "      <td>-0.034820</td>\n",
       "      <td>-0.029576</td>\n",
       "      <td>...</td>\n",
       "      <td>-0.037512</td>\n",
       "      <td>-0.033400</td>\n",
       "      <td>-0.009661</td>\n",
       "      <td>-0.033760</td>\n",
       "      <td>-0.021118</td>\n",
       "      <td>-0.004828</td>\n",
       "      <td>-0.016043</td>\n",
       "      <td>-0.009661</td>\n",
       "      <td>-0.053928</td>\n",
       "      <td>-0.038158</td>\n",
       "    </tr>\n",
       "    <tr>\n",
       "      <th>barrio_Boca</th>\n",
       "      <td>-0.004977</td>\n",
       "      <td>-0.070234</td>\n",
       "      <td>0.020523</td>\n",
       "      <td>2.933043e-03</td>\n",
       "      <td>-5.866086e-03</td>\n",
       "      <td>-0.004229</td>\n",
       "      <td>-0.016721</td>\n",
       "      <td>-0.012641</td>\n",
       "      <td>-0.013629</td>\n",
       "      <td>-0.011576</td>\n",
       "      <td>...</td>\n",
       "      <td>-0.014683</td>\n",
       "      <td>-0.013073</td>\n",
       "      <td>-0.003781</td>\n",
       "      <td>-0.013214</td>\n",
       "      <td>-0.008266</td>\n",
       "      <td>-0.001890</td>\n",
       "      <td>-0.006280</td>\n",
       "      <td>-0.003781</td>\n",
       "      <td>-0.021108</td>\n",
       "      <td>-0.014935</td>\n",
       "    </tr>\n",
       "    <tr>\n",
       "      <th>barrio_Boedo</th>\n",
       "      <td>0.021804</td>\n",
       "      <td>-0.051180</td>\n",
       "      <td>0.005847</td>\n",
       "      <td>-3.790944e-02</td>\n",
       "      <td>5.054592e-02</td>\n",
       "      <td>-0.005941</td>\n",
       "      <td>-0.023491</td>\n",
       "      <td>-0.017760</td>\n",
       "      <td>-0.019147</td>\n",
       "      <td>-0.016263</td>\n",
       "      <td>...</td>\n",
       "      <td>-0.020627</td>\n",
       "      <td>-0.018366</td>\n",
       "      <td>-0.005313</td>\n",
       "      <td>-0.018564</td>\n",
       "      <td>-0.011613</td>\n",
       "      <td>-0.002655</td>\n",
       "      <td>-0.008822</td>\n",
       "      <td>-0.005313</td>\n",
       "      <td>-0.029654</td>\n",
       "      <td>-0.020982</td>\n",
       "    </tr>\n",
       "    <tr>\n",
       "      <th>barrio_Caballito</th>\n",
       "      <td>-0.037906</td>\n",
       "      <td>0.049146</td>\n",
       "      <td>-0.054175</td>\n",
       "      <td>9.864733e-02</td>\n",
       "      <td>-4.758283e-02</td>\n",
       "      <td>-0.011276</td>\n",
       "      <td>-0.044588</td>\n",
       "      <td>-0.033709</td>\n",
       "      <td>-0.036343</td>\n",
       "      <td>-0.030869</td>\n",
       "      <td>...</td>\n",
       "      <td>-0.039152</td>\n",
       "      <td>-0.034860</td>\n",
       "      <td>-0.010084</td>\n",
       "      <td>-0.035236</td>\n",
       "      <td>-0.022042</td>\n",
       "      <td>-0.005039</td>\n",
       "      <td>-0.016745</td>\n",
       "      <td>-0.010084</td>\n",
       "      <td>-0.056285</td>\n",
       "      <td>-0.039826</td>\n",
       "    </tr>\n",
       "    <tr>\n",
       "      <th>barrio_Centro / Microcentro</th>\n",
       "      <td>-0.003757</td>\n",
       "      <td>-0.001555</td>\n",
       "      <td>-0.025246</td>\n",
       "      <td>5.151021e-02</td>\n",
       "      <td>-1.717007e-02</td>\n",
       "      <td>-0.002153</td>\n",
       "      <td>-0.008512</td>\n",
       "      <td>-0.006435</td>\n",
       "      <td>-0.006938</td>\n",
       "      <td>-0.005893</td>\n",
       "      <td>...</td>\n",
       "      <td>-0.007474</td>\n",
       "      <td>-0.006655</td>\n",
       "      <td>-0.001925</td>\n",
       "      <td>-0.006727</td>\n",
       "      <td>-0.004208</td>\n",
       "      <td>-0.000962</td>\n",
       "      <td>-0.003197</td>\n",
       "      <td>-0.001925</td>\n",
       "      <td>-0.010745</td>\n",
       "      <td>-0.007603</td>\n",
       "    </tr>\n",
       "    <tr>\n",
       "      <th>barrio_Chacarita</th>\n",
       "      <td>-0.020706</td>\n",
       "      <td>0.000586</td>\n",
       "      <td>-0.022657</td>\n",
       "      <td>-2.998369e-03</td>\n",
       "      <td>-2.098859e-02</td>\n",
       "      <td>-0.004135</td>\n",
       "      <td>-0.016350</td>\n",
       "      <td>-0.012361</td>\n",
       "      <td>-0.013327</td>\n",
       "      <td>-0.011320</td>\n",
       "      <td>...</td>\n",
       "      <td>-0.014357</td>\n",
       "      <td>-0.012783</td>\n",
       "      <td>-0.003698</td>\n",
       "      <td>-0.012921</td>\n",
       "      <td>-0.008083</td>\n",
       "      <td>-0.001848</td>\n",
       "      <td>-0.006140</td>\n",
       "      <td>-0.003698</td>\n",
       "      <td>-0.020640</td>\n",
       "      <td>-0.014604</td>\n",
       "    </tr>\n",
       "    <tr>\n",
       "      <th>barrio_Coghlan</th>\n",
       "      <td>-0.019117</td>\n",
       "      <td>0.052209</td>\n",
       "      <td>-0.025127</td>\n",
       "      <td>-1.970073e-02</td>\n",
       "      <td>-1.125756e-02</td>\n",
       "      <td>-0.004410</td>\n",
       "      <td>-0.017440</td>\n",
       "      <td>-0.013185</td>\n",
       "      <td>-0.014215</td>\n",
       "      <td>-0.012074</td>\n",
       "      <td>...</td>\n",
       "      <td>-0.015314</td>\n",
       "      <td>-0.013635</td>\n",
       "      <td>-0.003944</td>\n",
       "      <td>-0.013782</td>\n",
       "      <td>-0.008621</td>\n",
       "      <td>-0.001971</td>\n",
       "      <td>-0.006549</td>\n",
       "      <td>-0.003944</td>\n",
       "      <td>-0.022015</td>\n",
       "      <td>-0.015577</td>\n",
       "    </tr>\n",
       "    <tr>\n",
       "      <th>barrio_Colegiales</th>\n",
       "      <td>-0.003493</td>\n",
       "      <td>0.023774</td>\n",
       "      <td>-0.001586</td>\n",
       "      <td>5.942074e-03</td>\n",
       "      <td>-1.210142e-16</td>\n",
       "      <td>-0.006332</td>\n",
       "      <td>-0.025039</td>\n",
       "      <td>-0.018929</td>\n",
       "      <td>-0.020408</td>\n",
       "      <td>-0.017334</td>\n",
       "      <td>...</td>\n",
       "      <td>-0.021986</td>\n",
       "      <td>-0.019576</td>\n",
       "      <td>-0.005662</td>\n",
       "      <td>-0.019787</td>\n",
       "      <td>-0.012377</td>\n",
       "      <td>-0.002830</td>\n",
       "      <td>-0.009403</td>\n",
       "      <td>-0.005662</td>\n",
       "      <td>-0.031607</td>\n",
       "      <td>-0.022364</td>\n",
       "    </tr>\n",
       "    <tr>\n",
       "      <th>barrio_Congreso</th>\n",
       "      <td>-0.026402</td>\n",
       "      <td>-0.014984</td>\n",
       "      <td>-0.017959</td>\n",
       "      <td>8.518889e-02</td>\n",
       "      <td>-4.770578e-02</td>\n",
       "      <td>-0.003631</td>\n",
       "      <td>-0.014359</td>\n",
       "      <td>-0.010855</td>\n",
       "      <td>-0.011703</td>\n",
       "      <td>-0.009941</td>\n",
       "      <td>...</td>\n",
       "      <td>-0.012608</td>\n",
       "      <td>-0.011226</td>\n",
       "      <td>-0.003247</td>\n",
       "      <td>-0.011347</td>\n",
       "      <td>-0.007098</td>\n",
       "      <td>-0.001623</td>\n",
       "      <td>-0.005392</td>\n",
       "      <td>-0.003247</td>\n",
       "      <td>-0.018125</td>\n",
       "      <td>-0.012825</td>\n",
       "    </tr>\n",
       "    <tr>\n",
       "      <th>barrio_Constitución</th>\n",
       "      <td>-0.021779</td>\n",
       "      <td>-0.038643</td>\n",
       "      <td>-0.006331</td>\n",
       "      <td>1.625533e-02</td>\n",
       "      <td>-5.689365e-02</td>\n",
       "      <td>-0.004585</td>\n",
       "      <td>-0.018131</td>\n",
       "      <td>-0.013708</td>\n",
       "      <td>-0.014778</td>\n",
       "      <td>-0.012552</td>\n",
       "      <td>...</td>\n",
       "      <td>-0.015921</td>\n",
       "      <td>-0.014176</td>\n",
       "      <td>-0.004100</td>\n",
       "      <td>-0.014328</td>\n",
       "      <td>-0.008963</td>\n",
       "      <td>-0.002049</td>\n",
       "      <td>-0.006809</td>\n",
       "      <td>-0.004100</td>\n",
       "      <td>-0.022888</td>\n",
       "      <td>-0.016195</td>\n",
       "    </tr>\n",
       "    <tr>\n",
       "      <th>barrio_Flores</th>\n",
       "      <td>-0.003340</td>\n",
       "      <td>-0.095743</td>\n",
       "      <td>0.027660</td>\n",
       "      <td>-3.165088e-02</td>\n",
       "      <td>3.408556e-02</td>\n",
       "      <td>-0.010683</td>\n",
       "      <td>-0.042244</td>\n",
       "      <td>-0.031937</td>\n",
       "      <td>-0.034432</td>\n",
       "      <td>-0.029246</td>\n",
       "      <td>...</td>\n",
       "      <td>-0.037093</td>\n",
       "      <td>-0.033027</td>\n",
       "      <td>-0.009553</td>\n",
       "      <td>-0.033384</td>\n",
       "      <td>-0.020883</td>\n",
       "      <td>-0.004774</td>\n",
       "      <td>-0.015864</td>\n",
       "      <td>-0.009553</td>\n",
       "      <td>-0.053326</td>\n",
       "      <td>-0.037732</td>\n",
       "    </tr>\n",
       "    <tr>\n",
       "      <th>barrio_Floresta</th>\n",
       "      <td>0.010162</td>\n",
       "      <td>-0.094525</td>\n",
       "      <td>0.021680</td>\n",
       "      <td>-7.101205e-02</td>\n",
       "      <td>3.777237e-02</td>\n",
       "      <td>-0.008429</td>\n",
       "      <td>-0.033331</td>\n",
       "      <td>-0.025199</td>\n",
       "      <td>-0.027167</td>\n",
       "      <td>-0.023075</td>\n",
       "      <td>...</td>\n",
       "      <td>-0.029267</td>\n",
       "      <td>-0.026059</td>\n",
       "      <td>-0.007538</td>\n",
       "      <td>-0.026340</td>\n",
       "      <td>-0.016477</td>\n",
       "      <td>-0.003767</td>\n",
       "      <td>-0.012517</td>\n",
       "      <td>-0.007538</td>\n",
       "      <td>-0.042075</td>\n",
       "      <td>-0.029771</td>\n",
       "    </tr>\n",
       "    <tr>\n",
       "      <th>barrio_Las Cañitas</th>\n",
       "      <td>-0.011057</td>\n",
       "      <td>0.027269</td>\n",
       "      <td>-0.017841</td>\n",
       "      <td>5.412881e-17</td>\n",
       "      <td>-2.426784e-02</td>\n",
       "      <td>-0.001521</td>\n",
       "      <td>-0.006015</td>\n",
       "      <td>-0.004548</td>\n",
       "      <td>-0.004903</td>\n",
       "      <td>-0.004164</td>\n",
       "      <td>...</td>\n",
       "      <td>-0.005282</td>\n",
       "      <td>-0.004703</td>\n",
       "      <td>-0.001360</td>\n",
       "      <td>-0.004754</td>\n",
       "      <td>-0.002974</td>\n",
       "      <td>-0.000680</td>\n",
       "      <td>-0.002259</td>\n",
       "      <td>-0.001360</td>\n",
       "      <td>-0.007593</td>\n",
       "      <td>-0.005373</td>\n",
       "    </tr>\n",
       "    <tr>\n",
       "      <th>barrio_Liniers</th>\n",
       "      <td>0.089394</td>\n",
       "      <td>-0.108831</td>\n",
       "      <td>-0.019061</td>\n",
       "      <td>-1.015504e-01</td>\n",
       "      <td>2.753909e-02</td>\n",
       "      <td>-0.007337</td>\n",
       "      <td>-0.029011</td>\n",
       "      <td>-0.021933</td>\n",
       "      <td>-0.023646</td>\n",
       "      <td>-0.020084</td>\n",
       "      <td>...</td>\n",
       "      <td>-0.025474</td>\n",
       "      <td>-0.022682</td>\n",
       "      <td>-0.006561</td>\n",
       "      <td>-0.022926</td>\n",
       "      <td>-0.014341</td>\n",
       "      <td>-0.003278</td>\n",
       "      <td>-0.010895</td>\n",
       "      <td>-0.006561</td>\n",
       "      <td>-0.036621</td>\n",
       "      <td>-0.025912</td>\n",
       "    </tr>\n",
       "    <tr>\n",
       "      <th>barrio_Mataderos</th>\n",
       "      <td>0.034871</td>\n",
       "      <td>-0.184406</td>\n",
       "      <td>0.020006</td>\n",
       "      <td>-1.493249e-01</td>\n",
       "      <td>9.132268e-02</td>\n",
       "      <td>-0.010521</td>\n",
       "      <td>-0.041601</td>\n",
       "      <td>-0.031451</td>\n",
       "      <td>-0.033908</td>\n",
       "      <td>-0.028801</td>\n",
       "      <td>...</td>\n",
       "      <td>-0.036529</td>\n",
       "      <td>-0.032525</td>\n",
       "      <td>-0.009408</td>\n",
       "      <td>-0.032876</td>\n",
       "      <td>-0.020565</td>\n",
       "      <td>-0.004701</td>\n",
       "      <td>-0.015623</td>\n",
       "      <td>-0.009408</td>\n",
       "      <td>-0.052515</td>\n",
       "      <td>-0.037158</td>\n",
       "    </tr>\n",
       "    <tr>\n",
       "      <th>barrio_Monserrat</th>\n",
       "      <td>-0.024136</td>\n",
       "      <td>-0.027186</td>\n",
       "      <td>-0.050285</td>\n",
       "      <td>8.486684e-02</td>\n",
       "      <td>-5.400617e-02</td>\n",
       "      <td>-0.004836</td>\n",
       "      <td>-0.019123</td>\n",
       "      <td>-0.014458</td>\n",
       "      <td>-0.015587</td>\n",
       "      <td>-0.013239</td>\n",
       "      <td>...</td>\n",
       "      <td>-0.016792</td>\n",
       "      <td>-0.014951</td>\n",
       "      <td>-0.004325</td>\n",
       "      <td>-0.015113</td>\n",
       "      <td>-0.009453</td>\n",
       "      <td>-0.002161</td>\n",
       "      <td>-0.007182</td>\n",
       "      <td>-0.004325</td>\n",
       "      <td>-0.024140</td>\n",
       "      <td>-0.017081</td>\n",
       "    </tr>\n",
       "    <tr>\n",
       "      <th>barrio_Monte Castro</th>\n",
       "      <td>0.001011</td>\n",
       "      <td>-0.029605</td>\n",
       "      <td>-0.014565</td>\n",
       "      <td>-4.191848e-02</td>\n",
       "      <td>-3.224498e-03</td>\n",
       "      <td>-0.003840</td>\n",
       "      <td>-0.015186</td>\n",
       "      <td>-0.011481</td>\n",
       "      <td>-0.012377</td>\n",
       "      <td>-0.010513</td>\n",
       "      <td>...</td>\n",
       "      <td>-0.013334</td>\n",
       "      <td>-0.011873</td>\n",
       "      <td>-0.003434</td>\n",
       "      <td>-0.012001</td>\n",
       "      <td>-0.007507</td>\n",
       "      <td>-0.001716</td>\n",
       "      <td>-0.005703</td>\n",
       "      <td>-0.003434</td>\n",
       "      <td>-0.019170</td>\n",
       "      <td>-0.013564</td>\n",
       "    </tr>\n",
       "    <tr>\n",
       "      <th>barrio_Nuñez</th>\n",
       "      <td>0.000927</td>\n",
       "      <td>0.081406</td>\n",
       "      <td>0.010272</td>\n",
       "      <td>2.889064e-02</td>\n",
       "      <td>2.311251e-02</td>\n",
       "      <td>-0.006520</td>\n",
       "      <td>-0.025780</td>\n",
       "      <td>-0.019490</td>\n",
       "      <td>-0.021012</td>\n",
       "      <td>-0.017848</td>\n",
       "      <td>...</td>\n",
       "      <td>-0.022637</td>\n",
       "      <td>-0.020155</td>\n",
       "      <td>-0.005830</td>\n",
       "      <td>-0.020373</td>\n",
       "      <td>-0.012744</td>\n",
       "      <td>-0.002913</td>\n",
       "      <td>-0.009681</td>\n",
       "      <td>-0.005830</td>\n",
       "      <td>-0.032543</td>\n",
       "      <td>-0.023026</td>\n",
       "    </tr>\n",
       "    <tr>\n",
       "      <th>barrio_Once</th>\n",
       "      <td>-0.017131</td>\n",
       "      <td>0.005583</td>\n",
       "      <td>-0.018657</td>\n",
       "      <td>5.605519e-02</td>\n",
       "      <td>-2.802759e-02</td>\n",
       "      <td>-0.001757</td>\n",
       "      <td>-0.006947</td>\n",
       "      <td>-0.005252</td>\n",
       "      <td>-0.005662</td>\n",
       "      <td>-0.004810</td>\n",
       "      <td>...</td>\n",
       "      <td>-0.006100</td>\n",
       "      <td>-0.005431</td>\n",
       "      <td>-0.001571</td>\n",
       "      <td>-0.005490</td>\n",
       "      <td>-0.003434</td>\n",
       "      <td>-0.000785</td>\n",
       "      <td>-0.002609</td>\n",
       "      <td>-0.001571</td>\n",
       "      <td>-0.008770</td>\n",
       "      <td>-0.006205</td>\n",
       "    </tr>\n",
       "    <tr>\n",
       "      <th>barrio_Palermo</th>\n",
       "      <td>-0.016071</td>\n",
       "      <td>0.271540</td>\n",
       "      <td>-0.027522</td>\n",
       "      <td>1.200325e-01</td>\n",
       "      <td>-7.163229e-02</td>\n",
       "      <td>-0.013956</td>\n",
       "      <td>-0.055186</td>\n",
       "      <td>-0.041721</td>\n",
       "      <td>-0.044980</td>\n",
       "      <td>-0.038205</td>\n",
       "      <td>...</td>\n",
       "      <td>-0.048457</td>\n",
       "      <td>-0.043146</td>\n",
       "      <td>-0.012480</td>\n",
       "      <td>-0.043611</td>\n",
       "      <td>-0.027280</td>\n",
       "      <td>-0.006236</td>\n",
       "      <td>-0.020725</td>\n",
       "      <td>-0.012480</td>\n",
       "      <td>-0.069663</td>\n",
       "      <td>-0.049292</td>\n",
       "    </tr>\n",
       "    <tr>\n",
       "      <th>barrio_Parque Avellaneda</th>\n",
       "      <td>-0.005571</td>\n",
       "      <td>-0.062457</td>\n",
       "      <td>0.016387</td>\n",
       "      <td>-6.030898e-02</td>\n",
       "      <td>8.615569e-03</td>\n",
       "      <td>-0.004320</td>\n",
       "      <td>-0.017084</td>\n",
       "      <td>-0.012916</td>\n",
       "      <td>-0.013925</td>\n",
       "      <td>-0.011828</td>\n",
       "      <td>...</td>\n",
       "      <td>-0.015001</td>\n",
       "      <td>-0.013357</td>\n",
       "      <td>-0.003864</td>\n",
       "      <td>-0.013501</td>\n",
       "      <td>-0.008445</td>\n",
       "      <td>-0.001931</td>\n",
       "      <td>-0.006416</td>\n",
       "      <td>-0.003864</td>\n",
       "      <td>-0.021566</td>\n",
       "      <td>-0.015260</td>\n",
       "    </tr>\n",
       "    <tr>\n",
       "      <th>barrio_Parque Centenario</th>\n",
       "      <td>-0.000421</td>\n",
       "      <td>-0.009718</td>\n",
       "      <td>0.027490</td>\n",
       "      <td>2.507357e-02</td>\n",
       "      <td>-3.134196e-02</td>\n",
       "      <td>-0.001965</td>\n",
       "      <td>-0.007769</td>\n",
       "      <td>-0.005873</td>\n",
       "      <td>-0.006332</td>\n",
       "      <td>-0.005378</td>\n",
       "      <td>...</td>\n",
       "      <td>-0.006822</td>\n",
       "      <td>-0.006074</td>\n",
       "      <td>-0.001757</td>\n",
       "      <td>-0.006139</td>\n",
       "      <td>-0.003840</td>\n",
       "      <td>-0.000878</td>\n",
       "      <td>-0.002917</td>\n",
       "      <td>-0.001757</td>\n",
       "      <td>-0.009807</td>\n",
       "      <td>-0.006939</td>\n",
       "    </tr>\n",
       "    <tr>\n",
       "      <th>barrio_Parque Chacabuco</th>\n",
       "      <td>0.011535</td>\n",
       "      <td>-0.045284</td>\n",
       "      <td>-0.011516</td>\n",
       "      <td>-4.234782e-02</td>\n",
       "      <td>6.227621e-02</td>\n",
       "      <td>-0.004997</td>\n",
       "      <td>-0.019759</td>\n",
       "      <td>-0.014938</td>\n",
       "      <td>-0.016105</td>\n",
       "      <td>-0.013679</td>\n",
       "      <td>...</td>\n",
       "      <td>-0.017349</td>\n",
       "      <td>-0.015448</td>\n",
       "      <td>-0.004468</td>\n",
       "      <td>-0.015614</td>\n",
       "      <td>-0.009767</td>\n",
       "      <td>-0.002233</td>\n",
       "      <td>-0.007420</td>\n",
       "      <td>-0.004468</td>\n",
       "      <td>-0.024942</td>\n",
       "      <td>-0.017648</td>\n",
       "    </tr>\n",
       "    <tr>\n",
       "      <th>barrio_Parque Chas</th>\n",
       "      <td>-0.006477</td>\n",
       "      <td>0.005461</td>\n",
       "      <td>0.003392</td>\n",
       "      <td>-3.434014e-02</td>\n",
       "      <td>5.151021e-02</td>\n",
       "      <td>-0.002153</td>\n",
       "      <td>-0.008512</td>\n",
       "      <td>-0.006435</td>\n",
       "      <td>-0.006938</td>\n",
       "      <td>-0.005893</td>\n",
       "      <td>...</td>\n",
       "      <td>-0.007474</td>\n",
       "      <td>-0.006655</td>\n",
       "      <td>-0.001925</td>\n",
       "      <td>-0.006727</td>\n",
       "      <td>-0.004208</td>\n",
       "      <td>-0.000962</td>\n",
       "      <td>-0.003197</td>\n",
       "      <td>-0.001925</td>\n",
       "      <td>-0.010745</td>\n",
       "      <td>-0.007603</td>\n",
       "    </tr>\n",
       "    <tr>\n",
       "      <th>barrio_Parque Patricios</th>\n",
       "      <td>-0.015905</td>\n",
       "      <td>-0.053992</td>\n",
       "      <td>0.002227</td>\n",
       "      <td>-1.144336e-02</td>\n",
       "      <td>-1.144336e-02</td>\n",
       "      <td>-0.005452</td>\n",
       "      <td>-0.021557</td>\n",
       "      <td>-0.016297</td>\n",
       "      <td>-0.017570</td>\n",
       "      <td>-0.014924</td>\n",
       "      <td>...</td>\n",
       "      <td>-0.018929</td>\n",
       "      <td>-0.016854</td>\n",
       "      <td>-0.004875</td>\n",
       "      <td>-0.017036</td>\n",
       "      <td>-0.010656</td>\n",
       "      <td>-0.002436</td>\n",
       "      <td>-0.008096</td>\n",
       "      <td>-0.004875</td>\n",
       "      <td>-0.027212</td>\n",
       "      <td>-0.019255</td>\n",
       "    </tr>\n",
       "    <tr>\n",
       "      <th>barrio_Paternal</th>\n",
       "      <td>-0.003143</td>\n",
       "      <td>-0.048964</td>\n",
       "      <td>0.037016</td>\n",
       "      <td>-6.769370e-02</td>\n",
       "      <td>4.835264e-03</td>\n",
       "      <td>-0.005153</td>\n",
       "      <td>-0.020375</td>\n",
       "      <td>-0.015404</td>\n",
       "      <td>-0.016607</td>\n",
       "      <td>-0.014106</td>\n",
       "      <td>...</td>\n",
       "      <td>-0.017891</td>\n",
       "      <td>-0.015930</td>\n",
       "      <td>-0.004608</td>\n",
       "      <td>-0.016101</td>\n",
       "      <td>-0.010072</td>\n",
       "      <td>-0.002302</td>\n",
       "      <td>-0.007652</td>\n",
       "      <td>-0.004608</td>\n",
       "      <td>-0.025720</td>\n",
       "      <td>-0.018199</td>\n",
       "    </tr>\n",
       "    <tr>\n",
       "      <th>barrio_Pompeya</th>\n",
       "      <td>0.011629</td>\n",
       "      <td>-0.048692</td>\n",
       "      <td>0.039215</td>\n",
       "      <td>-6.126546e-02</td>\n",
       "      <td>5.481647e-02</td>\n",
       "      <td>-0.003840</td>\n",
       "      <td>-0.015186</td>\n",
       "      <td>-0.011481</td>\n",
       "      <td>-0.012377</td>\n",
       "      <td>-0.010513</td>\n",
       "      <td>...</td>\n",
       "      <td>-0.013334</td>\n",
       "      <td>-0.011873</td>\n",
       "      <td>-0.003434</td>\n",
       "      <td>-0.012001</td>\n",
       "      <td>-0.007507</td>\n",
       "      <td>-0.001716</td>\n",
       "      <td>-0.005703</td>\n",
       "      <td>-0.003434</td>\n",
       "      <td>-0.019170</td>\n",
       "      <td>-0.013564</td>\n",
       "    </tr>\n",
       "    <tr>\n",
       "      <th>barrio_Puerto Madero</th>\n",
       "      <td>-0.018604</td>\n",
       "      <td>0.259723</td>\n",
       "      <td>-0.033940</td>\n",
       "      <td>8.702853e-02</td>\n",
       "      <td>-3.263570e-02</td>\n",
       "      <td>-0.003410</td>\n",
       "      <td>-0.013482</td>\n",
       "      <td>-0.010193</td>\n",
       "      <td>-0.010989</td>\n",
       "      <td>-0.009334</td>\n",
       "      <td>...</td>\n",
       "      <td>-0.011838</td>\n",
       "      <td>-0.010541</td>\n",
       "      <td>-0.003049</td>\n",
       "      <td>-0.010655</td>\n",
       "      <td>-0.006665</td>\n",
       "      <td>-0.001524</td>\n",
       "      <td>-0.005063</td>\n",
       "      <td>-0.003049</td>\n",
       "      <td>-0.017019</td>\n",
       "      <td>-0.012042</td>\n",
       "    </tr>\n",
       "    <tr>\n",
       "      <th>barrio_Recoleta</th>\n",
       "      <td>-0.034658</td>\n",
       "      <td>0.173644</td>\n",
       "      <td>-0.022785</td>\n",
       "      <td>1.593865e-01</td>\n",
       "      <td>-9.135570e-02</td>\n",
       "      <td>-0.006458</td>\n",
       "      <td>-0.025535</td>\n",
       "      <td>-0.019305</td>\n",
       "      <td>-0.020813</td>\n",
       "      <td>-0.017678</td>\n",
       "      <td>...</td>\n",
       "      <td>-0.022422</td>\n",
       "      <td>-0.019964</td>\n",
       "      <td>-0.005775</td>\n",
       "      <td>-0.020179</td>\n",
       "      <td>-0.012623</td>\n",
       "      <td>-0.002886</td>\n",
       "      <td>-0.009589</td>\n",
       "      <td>-0.005775</td>\n",
       "      <td>-0.032234</td>\n",
       "      <td>-0.022808</td>\n",
       "    </tr>\n",
       "    <tr>\n",
       "      <th>barrio_Retiro</th>\n",
       "      <td>-0.002804</td>\n",
       "      <td>0.077941</td>\n",
       "      <td>-0.014329</td>\n",
       "      <td>6.268391e-02</td>\n",
       "      <td>-3.134196e-02</td>\n",
       "      <td>-0.001965</td>\n",
       "      <td>-0.007769</td>\n",
       "      <td>-0.005873</td>\n",
       "      <td>-0.006332</td>\n",
       "      <td>-0.005378</td>\n",
       "      <td>...</td>\n",
       "      <td>-0.006822</td>\n",
       "      <td>-0.006074</td>\n",
       "      <td>-0.001757</td>\n",
       "      <td>-0.006139</td>\n",
       "      <td>-0.003840</td>\n",
       "      <td>-0.000878</td>\n",
       "      <td>-0.002917</td>\n",
       "      <td>-0.001757</td>\n",
       "      <td>-0.009807</td>\n",
       "      <td>-0.006939</td>\n",
       "    </tr>\n",
       "    <tr>\n",
       "      <th>barrio_Saavedra</th>\n",
       "      <td>-0.015140</td>\n",
       "      <td>0.014485</td>\n",
       "      <td>-0.009036</td>\n",
       "      <td>-3.013288e-02</td>\n",
       "      <td>3.013288e-02</td>\n",
       "      <td>-0.007555</td>\n",
       "      <td>-0.029876</td>\n",
       "      <td>-0.022587</td>\n",
       "      <td>-0.024351</td>\n",
       "      <td>-0.020683</td>\n",
       "      <td>...</td>\n",
       "      <td>-0.026233</td>\n",
       "      <td>-0.023358</td>\n",
       "      <td>-0.006756</td>\n",
       "      <td>-0.023610</td>\n",
       "      <td>-0.014769</td>\n",
       "      <td>-0.003376</td>\n",
       "      <td>-0.011220</td>\n",
       "      <td>-0.006756</td>\n",
       "      <td>-0.037713</td>\n",
       "      <td>-0.026685</td>\n",
       "    </tr>\n",
       "    <tr>\n",
       "      <th>barrio_San Cristobal</th>\n",
       "      <td>0.009994</td>\n",
       "      <td>-0.024684</td>\n",
       "      <td>0.055024</td>\n",
       "      <td>-3.790944e-02</td>\n",
       "      <td>-1.263648e-02</td>\n",
       "      <td>-0.005941</td>\n",
       "      <td>-0.023491</td>\n",
       "      <td>-0.017760</td>\n",
       "      <td>-0.019147</td>\n",
       "      <td>-0.016263</td>\n",
       "      <td>...</td>\n",
       "      <td>-0.020627</td>\n",
       "      <td>-0.018366</td>\n",
       "      <td>-0.005313</td>\n",
       "      <td>-0.018564</td>\n",
       "      <td>-0.011613</td>\n",
       "      <td>-0.002655</td>\n",
       "      <td>-0.008822</td>\n",
       "      <td>-0.005313</td>\n",
       "      <td>-0.029654</td>\n",
       "      <td>-0.020982</td>\n",
       "    </tr>\n",
       "    <tr>\n",
       "      <th>barrio_San Nicolás</th>\n",
       "      <td>-0.023841</td>\n",
       "      <td>-0.005757</td>\n",
       "      <td>-0.046535</td>\n",
       "      <td>5.611031e-02</td>\n",
       "      <td>-2.805515e-02</td>\n",
       "      <td>-0.002638</td>\n",
       "      <td>-0.010431</td>\n",
       "      <td>-0.007886</td>\n",
       "      <td>-0.008502</td>\n",
       "      <td>-0.007221</td>\n",
       "      <td>...</td>\n",
       "      <td>-0.009159</td>\n",
       "      <td>-0.008155</td>\n",
       "      <td>-0.002359</td>\n",
       "      <td>-0.008243</td>\n",
       "      <td>-0.005156</td>\n",
       "      <td>-0.001179</td>\n",
       "      <td>-0.003917</td>\n",
       "      <td>-0.002359</td>\n",
       "      <td>-0.013167</td>\n",
       "      <td>-0.009317</td>\n",
       "    </tr>\n",
       "    <tr>\n",
       "      <th>barrio_San Telmo</th>\n",
       "      <td>-0.016850</td>\n",
       "      <td>-0.006072</td>\n",
       "      <td>-0.055219</td>\n",
       "      <td>1.178799e-01</td>\n",
       "      <td>-8.797011e-02</td>\n",
       "      <td>-0.007169</td>\n",
       "      <td>-0.028347</td>\n",
       "      <td>-0.021430</td>\n",
       "      <td>-0.023104</td>\n",
       "      <td>-0.019624</td>\n",
       "      <td>...</td>\n",
       "      <td>-0.024890</td>\n",
       "      <td>-0.022162</td>\n",
       "      <td>-0.006411</td>\n",
       "      <td>-0.022401</td>\n",
       "      <td>-0.014013</td>\n",
       "      <td>-0.003203</td>\n",
       "      <td>-0.010645</td>\n",
       "      <td>-0.006411</td>\n",
       "      <td>-0.035783</td>\n",
       "      <td>-0.025319</td>\n",
       "    </tr>\n",
       "    <tr>\n",
       "      <th>barrio_Tribunales</th>\n",
       "      <td>-0.018134</td>\n",
       "      <td>0.005061</td>\n",
       "      <td>-0.030018</td>\n",
       "      <td>5.151021e-02</td>\n",
       "      <td>-3.434014e-02</td>\n",
       "      <td>-0.002153</td>\n",
       "      <td>-0.008512</td>\n",
       "      <td>-0.006435</td>\n",
       "      <td>-0.006938</td>\n",
       "      <td>-0.005893</td>\n",
       "      <td>...</td>\n",
       "      <td>-0.007474</td>\n",
       "      <td>-0.006655</td>\n",
       "      <td>-0.001925</td>\n",
       "      <td>-0.006727</td>\n",
       "      <td>-0.004208</td>\n",
       "      <td>-0.000962</td>\n",
       "      <td>-0.003197</td>\n",
       "      <td>-0.001925</td>\n",
       "      <td>-0.010745</td>\n",
       "      <td>-0.007603</td>\n",
       "    </tr>\n",
       "    <tr>\n",
       "      <th>barrio_Velez Sarsfield</th>\n",
       "      <td>0.019277</td>\n",
       "      <td>-0.060869</td>\n",
       "      <td>0.021168</td>\n",
       "      <td>-4.565255e-02</td>\n",
       "      <td>7.023470e-03</td>\n",
       "      <td>-0.003522</td>\n",
       "      <td>-0.013927</td>\n",
       "      <td>-0.010529</td>\n",
       "      <td>-0.011352</td>\n",
       "      <td>-0.009642</td>\n",
       "      <td>...</td>\n",
       "      <td>-0.012229</td>\n",
       "      <td>-0.010889</td>\n",
       "      <td>-0.003150</td>\n",
       "      <td>-0.011006</td>\n",
       "      <td>-0.006885</td>\n",
       "      <td>-0.001574</td>\n",
       "      <td>-0.005230</td>\n",
       "      <td>-0.003150</td>\n",
       "      <td>-0.017581</td>\n",
       "      <td>-0.012440</td>\n",
       "    </tr>\n",
       "    <tr>\n",
       "      <th>barrio_Versalles</th>\n",
       "      <td>0.018213</td>\n",
       "      <td>-0.028164</td>\n",
       "      <td>0.042035</td>\n",
       "      <td>-5.343904e-02</td>\n",
       "      <td>5.972599e-02</td>\n",
       "      <td>-0.003941</td>\n",
       "      <td>-0.015583</td>\n",
       "      <td>-0.011781</td>\n",
       "      <td>-0.012702</td>\n",
       "      <td>-0.010788</td>\n",
       "      <td>...</td>\n",
       "      <td>-0.013683</td>\n",
       "      <td>-0.012184</td>\n",
       "      <td>-0.003524</td>\n",
       "      <td>-0.012315</td>\n",
       "      <td>-0.007703</td>\n",
       "      <td>-0.001761</td>\n",
       "      <td>-0.005852</td>\n",
       "      <td>-0.003524</td>\n",
       "      <td>-0.019671</td>\n",
       "      <td>-0.013919</td>\n",
       "    </tr>\n",
       "    <tr>\n",
       "      <th>barrio_Villa Crespo</th>\n",
       "      <td>-0.034909</td>\n",
       "      <td>0.036955</td>\n",
       "      <td>-0.023634</td>\n",
       "      <td>8.153965e-03</td>\n",
       "      <td>-5.707776e-02</td>\n",
       "      <td>-0.009456</td>\n",
       "      <td>-0.037391</td>\n",
       "      <td>-0.028268</td>\n",
       "      <td>-0.030476</td>\n",
       "      <td>-0.025886</td>\n",
       "      <td>...</td>\n",
       "      <td>-0.032832</td>\n",
       "      <td>-0.029233</td>\n",
       "      <td>-0.008456</td>\n",
       "      <td>-0.029548</td>\n",
       "      <td>-0.018484</td>\n",
       "      <td>-0.004225</td>\n",
       "      <td>-0.014042</td>\n",
       "      <td>-0.008456</td>\n",
       "      <td>-0.047199</td>\n",
       "      <td>-0.033397</td>\n",
       "    </tr>\n",
       "    <tr>\n",
       "      <th>barrio_Villa Devoto</th>\n",
       "      <td>0.039642</td>\n",
       "      <td>-0.035888</td>\n",
       "      <td>0.043628</td>\n",
       "      <td>-1.072284e-01</td>\n",
       "      <td>1.424377e-01</td>\n",
       "      <td>-0.007925</td>\n",
       "      <td>-0.031339</td>\n",
       "      <td>-0.023693</td>\n",
       "      <td>-0.025543</td>\n",
       "      <td>-0.021696</td>\n",
       "      <td>...</td>\n",
       "      <td>-0.027518</td>\n",
       "      <td>-0.024502</td>\n",
       "      <td>-0.007087</td>\n",
       "      <td>-0.024766</td>\n",
       "      <td>-0.015492</td>\n",
       "      <td>-0.003542</td>\n",
       "      <td>-0.011769</td>\n",
       "      <td>-0.007087</td>\n",
       "      <td>-0.039560</td>\n",
       "      <td>-0.027992</td>\n",
       "    </tr>\n",
       "    <tr>\n",
       "      <th>barrio_Villa General Mitre</th>\n",
       "      <td>0.026563</td>\n",
       "      <td>-0.036377</td>\n",
       "      <td>0.054786</td>\n",
       "      <td>-5.061701e-02</td>\n",
       "      <td>4.282977e-02</td>\n",
       "      <td>-0.003173</td>\n",
       "      <td>-0.012546</td>\n",
       "      <td>-0.009485</td>\n",
       "      <td>-0.010226</td>\n",
       "      <td>-0.008686</td>\n",
       "      <td>...</td>\n",
       "      <td>-0.011017</td>\n",
       "      <td>-0.009809</td>\n",
       "      <td>-0.002837</td>\n",
       "      <td>-0.009915</td>\n",
       "      <td>-0.006202</td>\n",
       "      <td>-0.001418</td>\n",
       "      <td>-0.004712</td>\n",
       "      <td>-0.002837</td>\n",
       "      <td>-0.015838</td>\n",
       "      <td>-0.011206</td>\n",
       "    </tr>\n",
       "    <tr>\n",
       "      <th>barrio_Villa Lugano</th>\n",
       "      <td>0.020762</td>\n",
       "      <td>-0.149091</td>\n",
       "      <td>0.008697</td>\n",
       "      <td>-8.669020e-02</td>\n",
       "      <td>9.037914e-02</td>\n",
       "      <td>-0.006822</td>\n",
       "      <td>-0.026974</td>\n",
       "      <td>-0.020393</td>\n",
       "      <td>-0.021986</td>\n",
       "      <td>-0.018674</td>\n",
       "      <td>...</td>\n",
       "      <td>1.000000</td>\n",
       "      <td>-0.021089</td>\n",
       "      <td>-0.006100</td>\n",
       "      <td>-0.021317</td>\n",
       "      <td>-0.013334</td>\n",
       "      <td>-0.003048</td>\n",
       "      <td>-0.010130</td>\n",
       "      <td>-0.006100</td>\n",
       "      <td>-0.034050</td>\n",
       "      <td>-0.024093</td>\n",
       "    </tr>\n",
       "    <tr>\n",
       "      <th>barrio_Villa Luro</th>\n",
       "      <td>0.003462</td>\n",
       "      <td>-0.055995</td>\n",
       "      <td>0.005558</td>\n",
       "      <td>-5.978657e-02</td>\n",
       "      <td>3.298569e-02</td>\n",
       "      <td>-0.006074</td>\n",
       "      <td>-0.024017</td>\n",
       "      <td>-0.018157</td>\n",
       "      <td>-0.019576</td>\n",
       "      <td>-0.016627</td>\n",
       "      <td>...</td>\n",
       "      <td>-0.021089</td>\n",
       "      <td>1.000000</td>\n",
       "      <td>-0.005431</td>\n",
       "      <td>-0.018980</td>\n",
       "      <td>-0.011873</td>\n",
       "      <td>-0.002714</td>\n",
       "      <td>-0.009020</td>\n",
       "      <td>-0.005431</td>\n",
       "      <td>-0.030318</td>\n",
       "      <td>-0.021452</td>\n",
       "    </tr>\n",
       "    <tr>\n",
       "      <th>barrio_Villa Ortuzar</th>\n",
       "      <td>0.001612</td>\n",
       "      <td>0.048115</td>\n",
       "      <td>0.039775</td>\n",
       "      <td>-2.802759e-02</td>\n",
       "      <td>3.503449e-02</td>\n",
       "      <td>-0.001757</td>\n",
       "      <td>-0.006947</td>\n",
       "      <td>-0.005252</td>\n",
       "      <td>-0.005662</td>\n",
       "      <td>-0.004810</td>\n",
       "      <td>...</td>\n",
       "      <td>-0.006100</td>\n",
       "      <td>-0.005431</td>\n",
       "      <td>1.000000</td>\n",
       "      <td>-0.005490</td>\n",
       "      <td>-0.003434</td>\n",
       "      <td>-0.000785</td>\n",
       "      <td>-0.002609</td>\n",
       "      <td>-0.001571</td>\n",
       "      <td>-0.008770</td>\n",
       "      <td>-0.006205</td>\n",
       "    </tr>\n",
       "    <tr>\n",
       "      <th>barrio_Villa Pueyrredón</th>\n",
       "      <td>0.002224</td>\n",
       "      <td>-0.024432</td>\n",
       "      <td>0.016479</td>\n",
       "      <td>-5.509149e-02</td>\n",
       "      <td>3.672766e-02</td>\n",
       "      <td>-0.006139</td>\n",
       "      <td>-0.024276</td>\n",
       "      <td>-0.018353</td>\n",
       "      <td>-0.019787</td>\n",
       "      <td>-0.016807</td>\n",
       "      <td>...</td>\n",
       "      <td>-0.021317</td>\n",
       "      <td>-0.018980</td>\n",
       "      <td>-0.005490</td>\n",
       "      <td>1.000000</td>\n",
       "      <td>-0.012001</td>\n",
       "      <td>-0.002743</td>\n",
       "      <td>-0.009117</td>\n",
       "      <td>-0.005490</td>\n",
       "      <td>-0.030645</td>\n",
       "      <td>-0.021684</td>\n",
       "    </tr>\n",
       "    <tr>\n",
       "      <th>barrio_Villa Real</th>\n",
       "      <td>-0.005053</td>\n",
       "      <td>-0.044287</td>\n",
       "      <td>-0.009187</td>\n",
       "      <td>-6.126546e-02</td>\n",
       "      <td>-3.224498e-03</td>\n",
       "      <td>-0.003840</td>\n",
       "      <td>-0.015186</td>\n",
       "      <td>-0.011481</td>\n",
       "      <td>-0.012377</td>\n",
       "      <td>-0.010513</td>\n",
       "      <td>...</td>\n",
       "      <td>-0.013334</td>\n",
       "      <td>-0.011873</td>\n",
       "      <td>-0.003434</td>\n",
       "      <td>-0.012001</td>\n",
       "      <td>1.000000</td>\n",
       "      <td>-0.001716</td>\n",
       "      <td>-0.005703</td>\n",
       "      <td>-0.003434</td>\n",
       "      <td>-0.019170</td>\n",
       "      <td>-0.013564</td>\n",
       "    </tr>\n",
       "    <tr>\n",
       "      <th>barrio_Villa Riachuelo</th>\n",
       "      <td>0.010100</td>\n",
       "      <td>-0.026972</td>\n",
       "      <td>-0.006403</td>\n",
       "      <td>-1.400555e-02</td>\n",
       "      <td>2.801109e-02</td>\n",
       "      <td>-0.000878</td>\n",
       "      <td>-0.003472</td>\n",
       "      <td>-0.002625</td>\n",
       "      <td>-0.002830</td>\n",
       "      <td>-0.002403</td>\n",
       "      <td>...</td>\n",
       "      <td>-0.003048</td>\n",
       "      <td>-0.002714</td>\n",
       "      <td>-0.000785</td>\n",
       "      <td>-0.002743</td>\n",
       "      <td>-0.001716</td>\n",
       "      <td>1.000000</td>\n",
       "      <td>-0.001304</td>\n",
       "      <td>-0.000785</td>\n",
       "      <td>-0.004382</td>\n",
       "      <td>-0.003101</td>\n",
       "    </tr>\n",
       "    <tr>\n",
       "      <th>barrio_Villa Santa Rita</th>\n",
       "      <td>-0.007485</td>\n",
       "      <td>0.017739</td>\n",
       "      <td>0.010477</td>\n",
       "      <td>-3.384911e-02</td>\n",
       "      <td>4.231139e-03</td>\n",
       "      <td>-0.002917</td>\n",
       "      <td>-0.011536</td>\n",
       "      <td>-0.008722</td>\n",
       "      <td>-0.009403</td>\n",
       "      <td>-0.007987</td>\n",
       "      <td>...</td>\n",
       "      <td>-0.010130</td>\n",
       "      <td>-0.009020</td>\n",
       "      <td>-0.002609</td>\n",
       "      <td>-0.009117</td>\n",
       "      <td>-0.005703</td>\n",
       "      <td>-0.001304</td>\n",
       "      <td>1.000000</td>\n",
       "      <td>-0.002609</td>\n",
       "      <td>-0.014563</td>\n",
       "      <td>-0.010304</td>\n",
       "    </tr>\n",
       "    <tr>\n",
       "      <th>barrio_Villa Soldati</th>\n",
       "      <td>-0.009139</td>\n",
       "      <td>-0.048539</td>\n",
       "      <td>0.010559</td>\n",
       "      <td>1.401380e-02</td>\n",
       "      <td>1.401380e-02</td>\n",
       "      <td>-0.001757</td>\n",
       "      <td>-0.006947</td>\n",
       "      <td>-0.005252</td>\n",
       "      <td>-0.005662</td>\n",
       "      <td>-0.004810</td>\n",
       "      <td>...</td>\n",
       "      <td>-0.006100</td>\n",
       "      <td>-0.005431</td>\n",
       "      <td>-0.001571</td>\n",
       "      <td>-0.005490</td>\n",
       "      <td>-0.003434</td>\n",
       "      <td>-0.000785</td>\n",
       "      <td>-0.002609</td>\n",
       "      <td>1.000000</td>\n",
       "      <td>-0.008770</td>\n",
       "      <td>-0.006205</td>\n",
       "    </tr>\n",
       "    <tr>\n",
       "      <th>barrio_Villa Urquiza</th>\n",
       "      <td>-0.040190</td>\n",
       "      <td>0.049909</td>\n",
       "      <td>-0.038635</td>\n",
       "      <td>6.047514e-02</td>\n",
       "      <td>-3.418160e-02</td>\n",
       "      <td>-0.009807</td>\n",
       "      <td>-0.038778</td>\n",
       "      <td>-0.029317</td>\n",
       "      <td>-0.031607</td>\n",
       "      <td>-0.026846</td>\n",
       "      <td>...</td>\n",
       "      <td>-0.034050</td>\n",
       "      <td>-0.030318</td>\n",
       "      <td>-0.008770</td>\n",
       "      <td>-0.030645</td>\n",
       "      <td>-0.019170</td>\n",
       "      <td>-0.004382</td>\n",
       "      <td>-0.014563</td>\n",
       "      <td>-0.008770</td>\n",
       "      <td>1.000000</td>\n",
       "      <td>-0.034636</td>\n",
       "    </tr>\n",
       "    <tr>\n",
       "      <th>barrio_Villa del Parque</th>\n",
       "      <td>0.015554</td>\n",
       "      <td>-0.047049</td>\n",
       "      <td>0.011437</td>\n",
       "      <td>-6.714433e-02</td>\n",
       "      <td>4.173837e-02</td>\n",
       "      <td>-0.006939</td>\n",
       "      <td>-0.027438</td>\n",
       "      <td>-0.020744</td>\n",
       "      <td>-0.022364</td>\n",
       "      <td>-0.018996</td>\n",
       "      <td>...</td>\n",
       "      <td>-0.024093</td>\n",
       "      <td>-0.021452</td>\n",
       "      <td>-0.006205</td>\n",
       "      <td>-0.021684</td>\n",
       "      <td>-0.013564</td>\n",
       "      <td>-0.003101</td>\n",
       "      <td>-0.010304</td>\n",
       "      <td>-0.006205</td>\n",
       "      <td>-0.034636</td>\n",
       "      <td>1.000000</td>\n",
       "    </tr>\n",
       "  </tbody>\n",
       "</table>\n",
       "<p>60 rows × 60 columns</p>\n",
       "</div>"
      ],
      "text/plain": [
       "                                  sup       pm2     rooms  tipo_apartment  \\\n",
       "sup                          1.000000 -0.278000  0.448291   -2.741350e-01   \n",
       "pm2                         -0.278000  1.000000 -0.290526    4.531984e-01   \n",
       "rooms                        0.448291 -0.290526  1.000000   -4.527727e-01   \n",
       "tipo_apartment              -0.274135  0.453198 -0.452773    1.000000e+00   \n",
       "tipo_house                   0.392857 -0.304874  0.464546   -5.000000e-01   \n",
       "barrio_Agronomía             0.016517 -0.014205  0.043172   -1.253678e-02   \n",
       "barrio_Almagro               0.033986 -0.042153  0.049411   -1.630716e-02   \n",
       "barrio_Balvanera            -0.025926 -0.041440  0.003334    5.962469e-02   \n",
       "barrio_Barracas              0.025204 -0.091686  0.029798   -3.565244e-02   \n",
       "barrio_Barrio Norte         -0.030981  0.108363 -0.041161    1.020330e-01   \n",
       "barrio_Belgrano              0.044936  0.213100  0.018697    1.132940e-01   \n",
       "barrio_Boca                 -0.004977 -0.070234  0.020523    2.933043e-03   \n",
       "barrio_Boedo                 0.021804 -0.051180  0.005847   -3.790944e-02   \n",
       "barrio_Caballito            -0.037906  0.049146 -0.054175    9.864733e-02   \n",
       "barrio_Centro / Microcentro -0.003757 -0.001555 -0.025246    5.151021e-02   \n",
       "barrio_Chacarita            -0.020706  0.000586 -0.022657   -2.998369e-03   \n",
       "barrio_Coghlan              -0.019117  0.052209 -0.025127   -1.970073e-02   \n",
       "barrio_Colegiales           -0.003493  0.023774 -0.001586    5.942074e-03   \n",
       "barrio_Congreso             -0.026402 -0.014984 -0.017959    8.518889e-02   \n",
       "barrio_Constitución         -0.021779 -0.038643 -0.006331    1.625533e-02   \n",
       "barrio_Flores               -0.003340 -0.095743  0.027660   -3.165088e-02   \n",
       "barrio_Floresta              0.010162 -0.094525  0.021680   -7.101205e-02   \n",
       "barrio_Las Cañitas          -0.011057  0.027269 -0.017841    5.412881e-17   \n",
       "barrio_Liniers               0.089394 -0.108831 -0.019061   -1.015504e-01   \n",
       "barrio_Mataderos             0.034871 -0.184406  0.020006   -1.493249e-01   \n",
       "barrio_Monserrat            -0.024136 -0.027186 -0.050285    8.486684e-02   \n",
       "barrio_Monte Castro          0.001011 -0.029605 -0.014565   -4.191848e-02   \n",
       "barrio_Nuñez                 0.000927  0.081406  0.010272    2.889064e-02   \n",
       "barrio_Once                 -0.017131  0.005583 -0.018657    5.605519e-02   \n",
       "barrio_Palermo              -0.016071  0.271540 -0.027522    1.200325e-01   \n",
       "barrio_Parque Avellaneda    -0.005571 -0.062457  0.016387   -6.030898e-02   \n",
       "barrio_Parque Centenario    -0.000421 -0.009718  0.027490    2.507357e-02   \n",
       "barrio_Parque Chacabuco      0.011535 -0.045284 -0.011516   -4.234782e-02   \n",
       "barrio_Parque Chas          -0.006477  0.005461  0.003392   -3.434014e-02   \n",
       "barrio_Parque Patricios     -0.015905 -0.053992  0.002227   -1.144336e-02   \n",
       "barrio_Paternal             -0.003143 -0.048964  0.037016   -6.769370e-02   \n",
       "barrio_Pompeya               0.011629 -0.048692  0.039215   -6.126546e-02   \n",
       "barrio_Puerto Madero        -0.018604  0.259723 -0.033940    8.702853e-02   \n",
       "barrio_Recoleta             -0.034658  0.173644 -0.022785    1.593865e-01   \n",
       "barrio_Retiro               -0.002804  0.077941 -0.014329    6.268391e-02   \n",
       "barrio_Saavedra             -0.015140  0.014485 -0.009036   -3.013288e-02   \n",
       "barrio_San Cristobal         0.009994 -0.024684  0.055024   -3.790944e-02   \n",
       "barrio_San Nicolás          -0.023841 -0.005757 -0.046535    5.611031e-02   \n",
       "barrio_San Telmo            -0.016850 -0.006072 -0.055219    1.178799e-01   \n",
       "barrio_Tribunales           -0.018134  0.005061 -0.030018    5.151021e-02   \n",
       "barrio_Velez Sarsfield       0.019277 -0.060869  0.021168   -4.565255e-02   \n",
       "barrio_Versalles             0.018213 -0.028164  0.042035   -5.343904e-02   \n",
       "barrio_Villa Crespo         -0.034909  0.036955 -0.023634    8.153965e-03   \n",
       "barrio_Villa Devoto          0.039642 -0.035888  0.043628   -1.072284e-01   \n",
       "barrio_Villa General Mitre   0.026563 -0.036377  0.054786   -5.061701e-02   \n",
       "barrio_Villa Lugano          0.020762 -0.149091  0.008697   -8.669020e-02   \n",
       "barrio_Villa Luro            0.003462 -0.055995  0.005558   -5.978657e-02   \n",
       "barrio_Villa Ortuzar         0.001612  0.048115  0.039775   -2.802759e-02   \n",
       "barrio_Villa Pueyrredón      0.002224 -0.024432  0.016479   -5.509149e-02   \n",
       "barrio_Villa Real           -0.005053 -0.044287 -0.009187   -6.126546e-02   \n",
       "barrio_Villa Riachuelo       0.010100 -0.026972 -0.006403   -1.400555e-02   \n",
       "barrio_Villa Santa Rita     -0.007485  0.017739  0.010477   -3.384911e-02   \n",
       "barrio_Villa Soldati        -0.009139 -0.048539  0.010559    1.401380e-02   \n",
       "barrio_Villa Urquiza        -0.040190  0.049909 -0.038635    6.047514e-02   \n",
       "barrio_Villa del Parque      0.015554 -0.047049  0.011437   -6.714433e-02   \n",
       "\n",
       "                               tipo_house  barrio_Agronomía  barrio_Almagro  \\\n",
       "sup                          3.928570e-01          0.016517        0.033986   \n",
       "pm2                         -3.048741e-01         -0.014205       -0.042153   \n",
       "rooms                        4.645458e-01          0.043172        0.049411   \n",
       "tipo_apartment              -5.000000e-01         -0.012537       -0.016307   \n",
       "tipo_house                   1.000000e+00          0.006268       -0.021199   \n",
       "barrio_Agronomía             6.268391e-03          1.000000       -0.007769   \n",
       "barrio_Almagro              -2.119931e-02         -0.007769        1.000000   \n",
       "barrio_Balvanera            -7.453087e-02         -0.005873       -0.023224   \n",
       "barrio_Barracas              2.971037e-02         -0.006332       -0.025039   \n",
       "barrio_Barrio Norte         -7.188687e-02         -0.005378       -0.021267   \n",
       "barrio_Belgrano             -1.687357e-02         -0.010804       -0.042721   \n",
       "barrio_Boca                 -5.866086e-03         -0.004229       -0.016721   \n",
       "barrio_Boedo                 5.054592e-02         -0.005941       -0.023491   \n",
       "barrio_Caballito            -4.758283e-02         -0.011276       -0.044588   \n",
       "barrio_Centro / Microcentro -1.717007e-02         -0.002153       -0.008512   \n",
       "barrio_Chacarita            -2.098859e-02         -0.004135       -0.016350   \n",
       "barrio_Coghlan              -1.125756e-02         -0.004410       -0.017440   \n",
       "barrio_Colegiales           -1.210142e-16         -0.006332       -0.025039   \n",
       "barrio_Congreso             -4.770578e-02         -0.003631       -0.014359   \n",
       "barrio_Constitución         -5.689365e-02         -0.004585       -0.018131   \n",
       "barrio_Flores                3.408556e-02         -0.010683       -0.042244   \n",
       "barrio_Floresta              3.777237e-02         -0.008429       -0.033331   \n",
       "barrio_Las Cañitas          -2.426784e-02         -0.001521       -0.006015   \n",
       "barrio_Liniers               2.753909e-02         -0.007337       -0.029011   \n",
       "barrio_Mataderos             9.132268e-02         -0.010521       -0.041601   \n",
       "barrio_Monserrat            -5.400617e-02         -0.004836       -0.019123   \n",
       "barrio_Monte Castro         -3.224498e-03         -0.003840       -0.015186   \n",
       "barrio_Nuñez                 2.311251e-02         -0.006520       -0.025780   \n",
       "barrio_Once                 -2.802759e-02         -0.001757       -0.006947   \n",
       "barrio_Palermo              -7.163229e-02         -0.013956       -0.055186   \n",
       "barrio_Parque Avellaneda     8.615569e-03         -0.004320       -0.017084   \n",
       "barrio_Parque Centenario    -3.134196e-02         -0.001965       -0.007769   \n",
       "barrio_Parque Chacabuco      6.227621e-02         -0.004997       -0.019759   \n",
       "barrio_Parque Chas           5.151021e-02         -0.002153       -0.008512   \n",
       "barrio_Parque Patricios     -1.144336e-02         -0.005452       -0.021557   \n",
       "barrio_Paternal              4.835264e-03         -0.005153       -0.020375   \n",
       "barrio_Pompeya               5.481647e-02         -0.003840       -0.015186   \n",
       "barrio_Puerto Madero        -3.263570e-02         -0.003410       -0.013482   \n",
       "barrio_Recoleta             -9.135570e-02         -0.006458       -0.025535   \n",
       "barrio_Retiro               -3.134196e-02         -0.001965       -0.007769   \n",
       "barrio_Saavedra              3.013288e-02         -0.007555       -0.029876   \n",
       "barrio_San Cristobal        -1.263648e-02         -0.005941       -0.023491   \n",
       "barrio_San Nicolás          -2.805515e-02         -0.002638       -0.010431   \n",
       "barrio_San Telmo            -8.797011e-02         -0.007169       -0.028347   \n",
       "barrio_Tribunales           -3.434014e-02         -0.002153       -0.008512   \n",
       "barrio_Velez Sarsfield       7.023470e-03         -0.003522       -0.013927   \n",
       "barrio_Versalles             5.972599e-02         -0.003941       -0.015583   \n",
       "barrio_Villa Crespo         -5.707776e-02         -0.009456       -0.037391   \n",
       "barrio_Villa Devoto          1.424377e-01         -0.007925       -0.031339   \n",
       "barrio_Villa General Mitre   4.282977e-02         -0.003173       -0.012546   \n",
       "barrio_Villa Lugano          9.037914e-02         -0.006822       -0.026974   \n",
       "barrio_Villa Luro            3.298569e-02         -0.006074       -0.024017   \n",
       "barrio_Villa Ortuzar         3.503449e-02         -0.001757       -0.006947   \n",
       "barrio_Villa Pueyrredón      3.672766e-02         -0.006139       -0.024276   \n",
       "barrio_Villa Real           -3.224498e-03         -0.003840       -0.015186   \n",
       "barrio_Villa Riachuelo       2.801109e-02         -0.000878       -0.003472   \n",
       "barrio_Villa Santa Rita      4.231139e-03         -0.002917       -0.011536   \n",
       "barrio_Villa Soldati         1.401380e-02         -0.001757       -0.006947   \n",
       "barrio_Villa Urquiza        -3.418160e-02         -0.009807       -0.038778   \n",
       "barrio_Villa del Parque      4.173837e-02         -0.006939       -0.027438   \n",
       "\n",
       "                             barrio_Balvanera  barrio_Barracas  \\\n",
       "sup                                 -0.025926         0.025204   \n",
       "pm2                                 -0.041440        -0.091686   \n",
       "rooms                                0.003334         0.029798   \n",
       "tipo_apartment                       0.059625        -0.035652   \n",
       "tipo_house                          -0.074531         0.029710   \n",
       "barrio_Agronomía                    -0.005873        -0.006332   \n",
       "barrio_Almagro                      -0.023224        -0.025039   \n",
       "barrio_Balvanera                     1.000000        -0.018929   \n",
       "barrio_Barracas                     -0.018929         1.000000   \n",
       "barrio_Barrio Norte                 -0.016078        -0.017334   \n",
       "barrio_Belgrano                     -0.032297        -0.034820   \n",
       "barrio_Boca                         -0.012641        -0.013629   \n",
       "barrio_Boedo                        -0.017760        -0.019147   \n",
       "barrio_Caballito                    -0.033709        -0.036343   \n",
       "barrio_Centro / Microcentro         -0.006435        -0.006938   \n",
       "barrio_Chacarita                    -0.012361        -0.013327   \n",
       "barrio_Coghlan                      -0.013185        -0.014215   \n",
       "barrio_Colegiales                   -0.018929        -0.020408   \n",
       "barrio_Congreso                     -0.010855        -0.011703   \n",
       "barrio_Constitución                 -0.013708        -0.014778   \n",
       "barrio_Flores                       -0.031937        -0.034432   \n",
       "barrio_Floresta                     -0.025199        -0.027167   \n",
       "barrio_Las Cañitas                  -0.004548        -0.004903   \n",
       "barrio_Liniers                      -0.021933        -0.023646   \n",
       "barrio_Mataderos                    -0.031451        -0.033908   \n",
       "barrio_Monserrat                    -0.014458        -0.015587   \n",
       "barrio_Monte Castro                 -0.011481        -0.012377   \n",
       "barrio_Nuñez                        -0.019490        -0.021012   \n",
       "barrio_Once                         -0.005252        -0.005662   \n",
       "barrio_Palermo                      -0.041721        -0.044980   \n",
       "barrio_Parque Avellaneda            -0.012916        -0.013925   \n",
       "barrio_Parque Centenario            -0.005873        -0.006332   \n",
       "barrio_Parque Chacabuco             -0.014938        -0.016105   \n",
       "barrio_Parque Chas                  -0.006435        -0.006938   \n",
       "barrio_Parque Patricios             -0.016297        -0.017570   \n",
       "barrio_Paternal                     -0.015404        -0.016607   \n",
       "barrio_Pompeya                      -0.011481        -0.012377   \n",
       "barrio_Puerto Madero                -0.010193        -0.010989   \n",
       "barrio_Recoleta                     -0.019305        -0.020813   \n",
       "barrio_Retiro                       -0.005873        -0.006332   \n",
       "barrio_Saavedra                     -0.022587        -0.024351   \n",
       "barrio_San Cristobal                -0.017760        -0.019147   \n",
       "barrio_San Nicolás                  -0.007886        -0.008502   \n",
       "barrio_San Telmo                    -0.021430        -0.023104   \n",
       "barrio_Tribunales                   -0.006435        -0.006938   \n",
       "barrio_Velez Sarsfield              -0.010529        -0.011352   \n",
       "barrio_Versalles                    -0.011781        -0.012702   \n",
       "barrio_Villa Crespo                 -0.028268        -0.030476   \n",
       "barrio_Villa Devoto                 -0.023693        -0.025543   \n",
       "barrio_Villa General Mitre          -0.009485        -0.010226   \n",
       "barrio_Villa Lugano                 -0.020393        -0.021986   \n",
       "barrio_Villa Luro                   -0.018157        -0.019576   \n",
       "barrio_Villa Ortuzar                -0.005252        -0.005662   \n",
       "barrio_Villa Pueyrredón             -0.018353        -0.019787   \n",
       "barrio_Villa Real                   -0.011481        -0.012377   \n",
       "barrio_Villa Riachuelo              -0.002625        -0.002830   \n",
       "barrio_Villa Santa Rita             -0.008722        -0.009403   \n",
       "barrio_Villa Soldati                -0.005252        -0.005662   \n",
       "barrio_Villa Urquiza                -0.029317        -0.031607   \n",
       "barrio_Villa del Parque             -0.020744        -0.022364   \n",
       "\n",
       "                             barrio_Barrio Norte  ...  barrio_Villa Lugano  \\\n",
       "sup                                    -0.030981  ...             0.020762   \n",
       "pm2                                     0.108363  ...            -0.149091   \n",
       "rooms                                  -0.041161  ...             0.008697   \n",
       "tipo_apartment                          0.102033  ...            -0.086690   \n",
       "tipo_house                             -0.071887  ...             0.090379   \n",
       "barrio_Agronomía                       -0.005378  ...            -0.006822   \n",
       "barrio_Almagro                         -0.021267  ...            -0.026974   \n",
       "barrio_Balvanera                       -0.016078  ...            -0.020393   \n",
       "barrio_Barracas                        -0.017334  ...            -0.021986   \n",
       "barrio_Barrio Norte                     1.000000  ...            -0.018674   \n",
       "barrio_Belgrano                        -0.029576  ...            -0.037512   \n",
       "barrio_Boca                            -0.011576  ...            -0.014683   \n",
       "barrio_Boedo                           -0.016263  ...            -0.020627   \n",
       "barrio_Caballito                       -0.030869  ...            -0.039152   \n",
       "barrio_Centro / Microcentro            -0.005893  ...            -0.007474   \n",
       "barrio_Chacarita                       -0.011320  ...            -0.014357   \n",
       "barrio_Coghlan                         -0.012074  ...            -0.015314   \n",
       "barrio_Colegiales                      -0.017334  ...            -0.021986   \n",
       "barrio_Congreso                        -0.009941  ...            -0.012608   \n",
       "barrio_Constitución                    -0.012552  ...            -0.015921   \n",
       "barrio_Flores                          -0.029246  ...            -0.037093   \n",
       "barrio_Floresta                        -0.023075  ...            -0.029267   \n",
       "barrio_Las Cañitas                     -0.004164  ...            -0.005282   \n",
       "barrio_Liniers                         -0.020084  ...            -0.025474   \n",
       "barrio_Mataderos                       -0.028801  ...            -0.036529   \n",
       "barrio_Monserrat                       -0.013239  ...            -0.016792   \n",
       "barrio_Monte Castro                    -0.010513  ...            -0.013334   \n",
       "barrio_Nuñez                           -0.017848  ...            -0.022637   \n",
       "barrio_Once                            -0.004810  ...            -0.006100   \n",
       "barrio_Palermo                         -0.038205  ...            -0.048457   \n",
       "barrio_Parque Avellaneda               -0.011828  ...            -0.015001   \n",
       "barrio_Parque Centenario               -0.005378  ...            -0.006822   \n",
       "barrio_Parque Chacabuco                -0.013679  ...            -0.017349   \n",
       "barrio_Parque Chas                     -0.005893  ...            -0.007474   \n",
       "barrio_Parque Patricios                -0.014924  ...            -0.018929   \n",
       "barrio_Paternal                        -0.014106  ...            -0.017891   \n",
       "barrio_Pompeya                         -0.010513  ...            -0.013334   \n",
       "barrio_Puerto Madero                   -0.009334  ...            -0.011838   \n",
       "barrio_Recoleta                        -0.017678  ...            -0.022422   \n",
       "barrio_Retiro                          -0.005378  ...            -0.006822   \n",
       "barrio_Saavedra                        -0.020683  ...            -0.026233   \n",
       "barrio_San Cristobal                   -0.016263  ...            -0.020627   \n",
       "barrio_San Nicolás                     -0.007221  ...            -0.009159   \n",
       "barrio_San Telmo                       -0.019624  ...            -0.024890   \n",
       "barrio_Tribunales                      -0.005893  ...            -0.007474   \n",
       "barrio_Velez Sarsfield                 -0.009642  ...            -0.012229   \n",
       "barrio_Versalles                       -0.010788  ...            -0.013683   \n",
       "barrio_Villa Crespo                    -0.025886  ...            -0.032832   \n",
       "barrio_Villa Devoto                    -0.021696  ...            -0.027518   \n",
       "barrio_Villa General Mitre             -0.008686  ...            -0.011017   \n",
       "barrio_Villa Lugano                    -0.018674  ...             1.000000   \n",
       "barrio_Villa Luro                      -0.016627  ...            -0.021089   \n",
       "barrio_Villa Ortuzar                   -0.004810  ...            -0.006100   \n",
       "barrio_Villa Pueyrredón                -0.016807  ...            -0.021317   \n",
       "barrio_Villa Real                      -0.010513  ...            -0.013334   \n",
       "barrio_Villa Riachuelo                 -0.002403  ...            -0.003048   \n",
       "barrio_Villa Santa Rita                -0.007987  ...            -0.010130   \n",
       "barrio_Villa Soldati                   -0.004810  ...            -0.006100   \n",
       "barrio_Villa Urquiza                   -0.026846  ...            -0.034050   \n",
       "barrio_Villa del Parque                -0.018996  ...            -0.024093   \n",
       "\n",
       "                             barrio_Villa Luro  barrio_Villa Ortuzar  \\\n",
       "sup                                   0.003462              0.001612   \n",
       "pm2                                  -0.055995              0.048115   \n",
       "rooms                                 0.005558              0.039775   \n",
       "tipo_apartment                       -0.059787             -0.028028   \n",
       "tipo_house                            0.032986              0.035034   \n",
       "barrio_Agronomía                     -0.006074             -0.001757   \n",
       "barrio_Almagro                       -0.024017             -0.006947   \n",
       "barrio_Balvanera                     -0.018157             -0.005252   \n",
       "barrio_Barracas                      -0.019576             -0.005662   \n",
       "barrio_Barrio Norte                  -0.016627             -0.004810   \n",
       "barrio_Belgrano                      -0.033400             -0.009661   \n",
       "barrio_Boca                          -0.013073             -0.003781   \n",
       "barrio_Boedo                         -0.018366             -0.005313   \n",
       "barrio_Caballito                     -0.034860             -0.010084   \n",
       "barrio_Centro / Microcentro          -0.006655             -0.001925   \n",
       "barrio_Chacarita                     -0.012783             -0.003698   \n",
       "barrio_Coghlan                       -0.013635             -0.003944   \n",
       "barrio_Colegiales                    -0.019576             -0.005662   \n",
       "barrio_Congreso                      -0.011226             -0.003247   \n",
       "barrio_Constitución                  -0.014176             -0.004100   \n",
       "barrio_Flores                        -0.033027             -0.009553   \n",
       "barrio_Floresta                      -0.026059             -0.007538   \n",
       "barrio_Las Cañitas                   -0.004703             -0.001360   \n",
       "barrio_Liniers                       -0.022682             -0.006561   \n",
       "barrio_Mataderos                     -0.032525             -0.009408   \n",
       "barrio_Monserrat                     -0.014951             -0.004325   \n",
       "barrio_Monte Castro                  -0.011873             -0.003434   \n",
       "barrio_Nuñez                         -0.020155             -0.005830   \n",
       "barrio_Once                          -0.005431             -0.001571   \n",
       "barrio_Palermo                       -0.043146             -0.012480   \n",
       "barrio_Parque Avellaneda             -0.013357             -0.003864   \n",
       "barrio_Parque Centenario             -0.006074             -0.001757   \n",
       "barrio_Parque Chacabuco              -0.015448             -0.004468   \n",
       "barrio_Parque Chas                   -0.006655             -0.001925   \n",
       "barrio_Parque Patricios              -0.016854             -0.004875   \n",
       "barrio_Paternal                      -0.015930             -0.004608   \n",
       "barrio_Pompeya                       -0.011873             -0.003434   \n",
       "barrio_Puerto Madero                 -0.010541             -0.003049   \n",
       "barrio_Recoleta                      -0.019964             -0.005775   \n",
       "barrio_Retiro                        -0.006074             -0.001757   \n",
       "barrio_Saavedra                      -0.023358             -0.006756   \n",
       "barrio_San Cristobal                 -0.018366             -0.005313   \n",
       "barrio_San Nicolás                   -0.008155             -0.002359   \n",
       "barrio_San Telmo                     -0.022162             -0.006411   \n",
       "barrio_Tribunales                    -0.006655             -0.001925   \n",
       "barrio_Velez Sarsfield               -0.010889             -0.003150   \n",
       "barrio_Versalles                     -0.012184             -0.003524   \n",
       "barrio_Villa Crespo                  -0.029233             -0.008456   \n",
       "barrio_Villa Devoto                  -0.024502             -0.007087   \n",
       "barrio_Villa General Mitre           -0.009809             -0.002837   \n",
       "barrio_Villa Lugano                  -0.021089             -0.006100   \n",
       "barrio_Villa Luro                     1.000000             -0.005431   \n",
       "barrio_Villa Ortuzar                 -0.005431              1.000000   \n",
       "barrio_Villa Pueyrredón              -0.018980             -0.005490   \n",
       "barrio_Villa Real                    -0.011873             -0.003434   \n",
       "barrio_Villa Riachuelo               -0.002714             -0.000785   \n",
       "barrio_Villa Santa Rita              -0.009020             -0.002609   \n",
       "barrio_Villa Soldati                 -0.005431             -0.001571   \n",
       "barrio_Villa Urquiza                 -0.030318             -0.008770   \n",
       "barrio_Villa del Parque              -0.021452             -0.006205   \n",
       "\n",
       "                             barrio_Villa Pueyrredón  barrio_Villa Real  \\\n",
       "sup                                         0.002224          -0.005053   \n",
       "pm2                                        -0.024432          -0.044287   \n",
       "rooms                                       0.016479          -0.009187   \n",
       "tipo_apartment                             -0.055091          -0.061265   \n",
       "tipo_house                                  0.036728          -0.003224   \n",
       "barrio_Agronomía                           -0.006139          -0.003840   \n",
       "barrio_Almagro                             -0.024276          -0.015186   \n",
       "barrio_Balvanera                           -0.018353          -0.011481   \n",
       "barrio_Barracas                            -0.019787          -0.012377   \n",
       "barrio_Barrio Norte                        -0.016807          -0.010513   \n",
       "barrio_Belgrano                            -0.033760          -0.021118   \n",
       "barrio_Boca                                -0.013214          -0.008266   \n",
       "barrio_Boedo                               -0.018564          -0.011613   \n",
       "barrio_Caballito                           -0.035236          -0.022042   \n",
       "barrio_Centro / Microcentro                -0.006727          -0.004208   \n",
       "barrio_Chacarita                           -0.012921          -0.008083   \n",
       "barrio_Coghlan                             -0.013782          -0.008621   \n",
       "barrio_Colegiales                          -0.019787          -0.012377   \n",
       "barrio_Congreso                            -0.011347          -0.007098   \n",
       "barrio_Constitución                        -0.014328          -0.008963   \n",
       "barrio_Flores                              -0.033384          -0.020883   \n",
       "barrio_Floresta                            -0.026340          -0.016477   \n",
       "barrio_Las Cañitas                         -0.004754          -0.002974   \n",
       "barrio_Liniers                             -0.022926          -0.014341   \n",
       "barrio_Mataderos                           -0.032876          -0.020565   \n",
       "barrio_Monserrat                           -0.015113          -0.009453   \n",
       "barrio_Monte Castro                        -0.012001          -0.007507   \n",
       "barrio_Nuñez                               -0.020373          -0.012744   \n",
       "barrio_Once                                -0.005490          -0.003434   \n",
       "barrio_Palermo                             -0.043611          -0.027280   \n",
       "barrio_Parque Avellaneda                   -0.013501          -0.008445   \n",
       "barrio_Parque Centenario                   -0.006139          -0.003840   \n",
       "barrio_Parque Chacabuco                    -0.015614          -0.009767   \n",
       "barrio_Parque Chas                         -0.006727          -0.004208   \n",
       "barrio_Parque Patricios                    -0.017036          -0.010656   \n",
       "barrio_Paternal                            -0.016101          -0.010072   \n",
       "barrio_Pompeya                             -0.012001          -0.007507   \n",
       "barrio_Puerto Madero                       -0.010655          -0.006665   \n",
       "barrio_Recoleta                            -0.020179          -0.012623   \n",
       "barrio_Retiro                              -0.006139          -0.003840   \n",
       "barrio_Saavedra                            -0.023610          -0.014769   \n",
       "barrio_San Cristobal                       -0.018564          -0.011613   \n",
       "barrio_San Nicolás                         -0.008243          -0.005156   \n",
       "barrio_San Telmo                           -0.022401          -0.014013   \n",
       "barrio_Tribunales                          -0.006727          -0.004208   \n",
       "barrio_Velez Sarsfield                     -0.011006          -0.006885   \n",
       "barrio_Versalles                           -0.012315          -0.007703   \n",
       "barrio_Villa Crespo                        -0.029548          -0.018484   \n",
       "barrio_Villa Devoto                        -0.024766          -0.015492   \n",
       "barrio_Villa General Mitre                 -0.009915          -0.006202   \n",
       "barrio_Villa Lugano                        -0.021317          -0.013334   \n",
       "barrio_Villa Luro                          -0.018980          -0.011873   \n",
       "barrio_Villa Ortuzar                       -0.005490          -0.003434   \n",
       "barrio_Villa Pueyrredón                     1.000000          -0.012001   \n",
       "barrio_Villa Real                          -0.012001           1.000000   \n",
       "barrio_Villa Riachuelo                     -0.002743          -0.001716   \n",
       "barrio_Villa Santa Rita                    -0.009117          -0.005703   \n",
       "barrio_Villa Soldati                       -0.005490          -0.003434   \n",
       "barrio_Villa Urquiza                       -0.030645          -0.019170   \n",
       "barrio_Villa del Parque                    -0.021684          -0.013564   \n",
       "\n",
       "                             barrio_Villa Riachuelo  barrio_Villa Santa Rita  \\\n",
       "sup                                        0.010100                -0.007485   \n",
       "pm2                                       -0.026972                 0.017739   \n",
       "rooms                                     -0.006403                 0.010477   \n",
       "tipo_apartment                            -0.014006                -0.033849   \n",
       "tipo_house                                 0.028011                 0.004231   \n",
       "barrio_Agronomía                          -0.000878                -0.002917   \n",
       "barrio_Almagro                            -0.003472                -0.011536   \n",
       "barrio_Balvanera                          -0.002625                -0.008722   \n",
       "barrio_Barracas                           -0.002830                -0.009403   \n",
       "barrio_Barrio Norte                       -0.002403                -0.007987   \n",
       "barrio_Belgrano                           -0.004828                -0.016043   \n",
       "barrio_Boca                               -0.001890                -0.006280   \n",
       "barrio_Boedo                              -0.002655                -0.008822   \n",
       "barrio_Caballito                          -0.005039                -0.016745   \n",
       "barrio_Centro / Microcentro               -0.000962                -0.003197   \n",
       "barrio_Chacarita                          -0.001848                -0.006140   \n",
       "barrio_Coghlan                            -0.001971                -0.006549   \n",
       "barrio_Colegiales                         -0.002830                -0.009403   \n",
       "barrio_Congreso                           -0.001623                -0.005392   \n",
       "barrio_Constitución                       -0.002049                -0.006809   \n",
       "barrio_Flores                             -0.004774                -0.015864   \n",
       "barrio_Floresta                           -0.003767                -0.012517   \n",
       "barrio_Las Cañitas                        -0.000680                -0.002259   \n",
       "barrio_Liniers                            -0.003278                -0.010895   \n",
       "barrio_Mataderos                          -0.004701                -0.015623   \n",
       "barrio_Monserrat                          -0.002161                -0.007182   \n",
       "barrio_Monte Castro                       -0.001716                -0.005703   \n",
       "barrio_Nuñez                              -0.002913                -0.009681   \n",
       "barrio_Once                               -0.000785                -0.002609   \n",
       "barrio_Palermo                            -0.006236                -0.020725   \n",
       "barrio_Parque Avellaneda                  -0.001931                -0.006416   \n",
       "barrio_Parque Centenario                  -0.000878                -0.002917   \n",
       "barrio_Parque Chacabuco                   -0.002233                -0.007420   \n",
       "barrio_Parque Chas                        -0.000962                -0.003197   \n",
       "barrio_Parque Patricios                   -0.002436                -0.008096   \n",
       "barrio_Paternal                           -0.002302                -0.007652   \n",
       "barrio_Pompeya                            -0.001716                -0.005703   \n",
       "barrio_Puerto Madero                      -0.001524                -0.005063   \n",
       "barrio_Recoleta                           -0.002886                -0.009589   \n",
       "barrio_Retiro                             -0.000878                -0.002917   \n",
       "barrio_Saavedra                           -0.003376                -0.011220   \n",
       "barrio_San Cristobal                      -0.002655                -0.008822   \n",
       "barrio_San Nicolás                        -0.001179                -0.003917   \n",
       "barrio_San Telmo                          -0.003203                -0.010645   \n",
       "barrio_Tribunales                         -0.000962                -0.003197   \n",
       "barrio_Velez Sarsfield                    -0.001574                -0.005230   \n",
       "barrio_Versalles                          -0.001761                -0.005852   \n",
       "barrio_Villa Crespo                       -0.004225                -0.014042   \n",
       "barrio_Villa Devoto                       -0.003542                -0.011769   \n",
       "barrio_Villa General Mitre                -0.001418                -0.004712   \n",
       "barrio_Villa Lugano                       -0.003048                -0.010130   \n",
       "barrio_Villa Luro                         -0.002714                -0.009020   \n",
       "barrio_Villa Ortuzar                      -0.000785                -0.002609   \n",
       "barrio_Villa Pueyrredón                   -0.002743                -0.009117   \n",
       "barrio_Villa Real                         -0.001716                -0.005703   \n",
       "barrio_Villa Riachuelo                     1.000000                -0.001304   \n",
       "barrio_Villa Santa Rita                   -0.001304                 1.000000   \n",
       "barrio_Villa Soldati                      -0.000785                -0.002609   \n",
       "barrio_Villa Urquiza                      -0.004382                -0.014563   \n",
       "barrio_Villa del Parque                   -0.003101                -0.010304   \n",
       "\n",
       "                             barrio_Villa Soldati  barrio_Villa Urquiza  \\\n",
       "sup                                     -0.009139             -0.040190   \n",
       "pm2                                     -0.048539              0.049909   \n",
       "rooms                                    0.010559             -0.038635   \n",
       "tipo_apartment                           0.014014              0.060475   \n",
       "tipo_house                               0.014014             -0.034182   \n",
       "barrio_Agronomía                        -0.001757             -0.009807   \n",
       "barrio_Almagro                          -0.006947             -0.038778   \n",
       "barrio_Balvanera                        -0.005252             -0.029317   \n",
       "barrio_Barracas                         -0.005662             -0.031607   \n",
       "barrio_Barrio Norte                     -0.004810             -0.026846   \n",
       "barrio_Belgrano                         -0.009661             -0.053928   \n",
       "barrio_Boca                             -0.003781             -0.021108   \n",
       "barrio_Boedo                            -0.005313             -0.029654   \n",
       "barrio_Caballito                        -0.010084             -0.056285   \n",
       "barrio_Centro / Microcentro             -0.001925             -0.010745   \n",
       "barrio_Chacarita                        -0.003698             -0.020640   \n",
       "barrio_Coghlan                          -0.003944             -0.022015   \n",
       "barrio_Colegiales                       -0.005662             -0.031607   \n",
       "barrio_Congreso                         -0.003247             -0.018125   \n",
       "barrio_Constitución                     -0.004100             -0.022888   \n",
       "barrio_Flores                           -0.009553             -0.053326   \n",
       "barrio_Floresta                         -0.007538             -0.042075   \n",
       "barrio_Las Cañitas                      -0.001360             -0.007593   \n",
       "barrio_Liniers                          -0.006561             -0.036621   \n",
       "barrio_Mataderos                        -0.009408             -0.052515   \n",
       "barrio_Monserrat                        -0.004325             -0.024140   \n",
       "barrio_Monte Castro                     -0.003434             -0.019170   \n",
       "barrio_Nuñez                            -0.005830             -0.032543   \n",
       "barrio_Once                             -0.001571             -0.008770   \n",
       "barrio_Palermo                          -0.012480             -0.069663   \n",
       "barrio_Parque Avellaneda                -0.003864             -0.021566   \n",
       "barrio_Parque Centenario                -0.001757             -0.009807   \n",
       "barrio_Parque Chacabuco                 -0.004468             -0.024942   \n",
       "barrio_Parque Chas                      -0.001925             -0.010745   \n",
       "barrio_Parque Patricios                 -0.004875             -0.027212   \n",
       "barrio_Paternal                         -0.004608             -0.025720   \n",
       "barrio_Pompeya                          -0.003434             -0.019170   \n",
       "barrio_Puerto Madero                    -0.003049             -0.017019   \n",
       "barrio_Recoleta                         -0.005775             -0.032234   \n",
       "barrio_Retiro                           -0.001757             -0.009807   \n",
       "barrio_Saavedra                         -0.006756             -0.037713   \n",
       "barrio_San Cristobal                    -0.005313             -0.029654   \n",
       "barrio_San Nicolás                      -0.002359             -0.013167   \n",
       "barrio_San Telmo                        -0.006411             -0.035783   \n",
       "barrio_Tribunales                       -0.001925             -0.010745   \n",
       "barrio_Velez Sarsfield                  -0.003150             -0.017581   \n",
       "barrio_Versalles                        -0.003524             -0.019671   \n",
       "barrio_Villa Crespo                     -0.008456             -0.047199   \n",
       "barrio_Villa Devoto                     -0.007087             -0.039560   \n",
       "barrio_Villa General Mitre              -0.002837             -0.015838   \n",
       "barrio_Villa Lugano                     -0.006100             -0.034050   \n",
       "barrio_Villa Luro                       -0.005431             -0.030318   \n",
       "barrio_Villa Ortuzar                    -0.001571             -0.008770   \n",
       "barrio_Villa Pueyrredón                 -0.005490             -0.030645   \n",
       "barrio_Villa Real                       -0.003434             -0.019170   \n",
       "barrio_Villa Riachuelo                  -0.000785             -0.004382   \n",
       "barrio_Villa Santa Rita                 -0.002609             -0.014563   \n",
       "barrio_Villa Soldati                     1.000000             -0.008770   \n",
       "barrio_Villa Urquiza                    -0.008770              1.000000   \n",
       "barrio_Villa del Parque                 -0.006205             -0.034636   \n",
       "\n",
       "                             barrio_Villa del Parque  \n",
       "sup                                         0.015554  \n",
       "pm2                                        -0.047049  \n",
       "rooms                                       0.011437  \n",
       "tipo_apartment                             -0.067144  \n",
       "tipo_house                                  0.041738  \n",
       "barrio_Agronomía                           -0.006939  \n",
       "barrio_Almagro                             -0.027438  \n",
       "barrio_Balvanera                           -0.020744  \n",
       "barrio_Barracas                            -0.022364  \n",
       "barrio_Barrio Norte                        -0.018996  \n",
       "barrio_Belgrano                            -0.038158  \n",
       "barrio_Boca                                -0.014935  \n",
       "barrio_Boedo                               -0.020982  \n",
       "barrio_Caballito                           -0.039826  \n",
       "barrio_Centro / Microcentro                -0.007603  \n",
       "barrio_Chacarita                           -0.014604  \n",
       "barrio_Coghlan                             -0.015577  \n",
       "barrio_Colegiales                          -0.022364  \n",
       "barrio_Congreso                            -0.012825  \n",
       "barrio_Constitución                        -0.016195  \n",
       "barrio_Flores                              -0.037732  \n",
       "barrio_Floresta                            -0.029771  \n",
       "barrio_Las Cañitas                         -0.005373  \n",
       "barrio_Liniers                             -0.025912  \n",
       "barrio_Mataderos                           -0.037158  \n",
       "barrio_Monserrat                           -0.017081  \n",
       "barrio_Monte Castro                        -0.013564  \n",
       "barrio_Nuñez                               -0.023026  \n",
       "barrio_Once                                -0.006205  \n",
       "barrio_Palermo                             -0.049292  \n",
       "barrio_Parque Avellaneda                   -0.015260  \n",
       "barrio_Parque Centenario                   -0.006939  \n",
       "barrio_Parque Chacabuco                    -0.017648  \n",
       "barrio_Parque Chas                         -0.007603  \n",
       "barrio_Parque Patricios                    -0.019255  \n",
       "barrio_Paternal                            -0.018199  \n",
       "barrio_Pompeya                             -0.013564  \n",
       "barrio_Puerto Madero                       -0.012042  \n",
       "barrio_Recoleta                            -0.022808  \n",
       "barrio_Retiro                              -0.006939  \n",
       "barrio_Saavedra                            -0.026685  \n",
       "barrio_San Cristobal                       -0.020982  \n",
       "barrio_San Nicolás                         -0.009317  \n",
       "barrio_San Telmo                           -0.025319  \n",
       "barrio_Tribunales                          -0.007603  \n",
       "barrio_Velez Sarsfield                     -0.012440  \n",
       "barrio_Versalles                           -0.013919  \n",
       "barrio_Villa Crespo                        -0.033397  \n",
       "barrio_Villa Devoto                        -0.027992  \n",
       "barrio_Villa General Mitre                 -0.011206  \n",
       "barrio_Villa Lugano                        -0.024093  \n",
       "barrio_Villa Luro                          -0.021452  \n",
       "barrio_Villa Ortuzar                       -0.006205  \n",
       "barrio_Villa Pueyrredón                    -0.021684  \n",
       "barrio_Villa Real                          -0.013564  \n",
       "barrio_Villa Riachuelo                     -0.003101  \n",
       "barrio_Villa Santa Rita                    -0.010304  \n",
       "barrio_Villa Soldati                       -0.006205  \n",
       "barrio_Villa Urquiza                       -0.034636  \n",
       "barrio_Villa del Parque                     1.000000  \n",
       "\n",
       "[60 rows x 60 columns]"
      ]
     },
     "execution_count": 78,
     "metadata": {},
     "output_type": "execute_result"
    }
   ],
   "source": [
    "pd.get_dummies(prop , drop_first = True).corr()"
   ]
  },
  {
   "cell_type": "code",
   "execution_count": 80,
   "metadata": {},
   "outputs": [
    {
     "data": {
      "text/plain": [
       "tipo_house            -0.304874\n",
       "rooms                 -0.290526\n",
       "sup                   -0.278000\n",
       "barrio_Mataderos      -0.184406\n",
       "barrio_Villa Lugano   -0.149091\n",
       "tipo_PH               -0.148324\n",
       "barrio_Liniers        -0.108831\n",
       "barrio_Flores         -0.095743\n",
       "barrio_Floresta       -0.094525\n",
       "barrio_Barracas       -0.091686\n",
       "Name: pm2, dtype: float64"
      ]
     },
     "execution_count": 80,
     "metadata": {},
     "output_type": "execute_result"
    }
   ],
   "source": [
    "pd.get_dummies(prop).corr().loc['pm2'].sort_values().head(10)"
   ]
  },
  {
   "cell_type": "code",
   "execution_count": null,
   "metadata": {},
   "outputs": [],
   "source": []
  },
  {
   "cell_type": "code",
   "execution_count": 152,
   "metadata": {},
   "outputs": [
    {
     "data": {
      "text/html": [
       "<div>\n",
       "<style scoped>\n",
       "    .dataframe tbody tr th:only-of-type {\n",
       "        vertical-align: middle;\n",
       "    }\n",
       "\n",
       "    .dataframe tbody tr th {\n",
       "        vertical-align: top;\n",
       "    }\n",
       "\n",
       "    .dataframe thead th {\n",
       "        text-align: right;\n",
       "    }\n",
       "</style>\n",
       "<table border=\"1\" class=\"dataframe\">\n",
       "  <thead>\n",
       "    <tr style=\"text-align: right;\">\n",
       "      <th></th>\n",
       "      <th>sup</th>\n",
       "      <th>pm2</th>\n",
       "      <th>rooms</th>\n",
       "      <th>tipo_PH</th>\n",
       "      <th>tipo_apartment</th>\n",
       "      <th>tipo_house</th>\n",
       "    </tr>\n",
       "  </thead>\n",
       "  <tbody>\n",
       "    <tr>\n",
       "      <th>sup</th>\n",
       "      <td>1.000000</td>\n",
       "      <td>-0.278000</td>\n",
       "      <td>0.448291</td>\n",
       "      <td>-0.118722</td>\n",
       "      <td>-0.274135</td>\n",
       "      <td>0.392857</td>\n",
       "    </tr>\n",
       "    <tr>\n",
       "      <th>pm2</th>\n",
       "      <td>-0.278000</td>\n",
       "      <td>1.000000</td>\n",
       "      <td>-0.290526</td>\n",
       "      <td>-0.148324</td>\n",
       "      <td>0.453198</td>\n",
       "      <td>-0.304874</td>\n",
       "    </tr>\n",
       "    <tr>\n",
       "      <th>rooms</th>\n",
       "      <td>0.448291</td>\n",
       "      <td>-0.290526</td>\n",
       "      <td>1.000000</td>\n",
       "      <td>-0.011773</td>\n",
       "      <td>-0.452773</td>\n",
       "      <td>0.464546</td>\n",
       "    </tr>\n",
       "    <tr>\n",
       "      <th>tipo_PH</th>\n",
       "      <td>-0.118722</td>\n",
       "      <td>-0.148324</td>\n",
       "      <td>-0.011773</td>\n",
       "      <td>1.000000</td>\n",
       "      <td>-0.500000</td>\n",
       "      <td>-0.500000</td>\n",
       "    </tr>\n",
       "    <tr>\n",
       "      <th>tipo_apartment</th>\n",
       "      <td>-0.274135</td>\n",
       "      <td>0.453198</td>\n",
       "      <td>-0.452773</td>\n",
       "      <td>-0.500000</td>\n",
       "      <td>1.000000</td>\n",
       "      <td>-0.500000</td>\n",
       "    </tr>\n",
       "    <tr>\n",
       "      <th>tipo_house</th>\n",
       "      <td>0.392857</td>\n",
       "      <td>-0.304874</td>\n",
       "      <td>0.464546</td>\n",
       "      <td>-0.500000</td>\n",
       "      <td>-0.500000</td>\n",
       "      <td>1.000000</td>\n",
       "    </tr>\n",
       "  </tbody>\n",
       "</table>\n",
       "</div>"
      ],
      "text/plain": [
       "                     sup       pm2     rooms   tipo_PH  tipo_apartment  \\\n",
       "sup             1.000000 -0.278000  0.448291 -0.118722       -0.274135   \n",
       "pm2            -0.278000  1.000000 -0.290526 -0.148324        0.453198   \n",
       "rooms           0.448291 -0.290526  1.000000 -0.011773       -0.452773   \n",
       "tipo_PH        -0.118722 -0.148324 -0.011773  1.000000       -0.500000   \n",
       "tipo_apartment -0.274135  0.453198 -0.452773 -0.500000        1.000000   \n",
       "tipo_house      0.392857 -0.304874  0.464546 -0.500000       -0.500000   \n",
       "\n",
       "                tipo_house  \n",
       "sup               0.392857  \n",
       "pm2              -0.304874  \n",
       "rooms             0.464546  \n",
       "tipo_PH          -0.500000  \n",
       "tipo_apartment   -0.500000  \n",
       "tipo_house        1.000000  "
      ]
     },
     "execution_count": 152,
     "metadata": {},
     "output_type": "execute_result"
    }
   ],
   "source": [
    "pd.get_dummies(prop, columns=['tipo']).corr()"
   ]
  },
  {
   "cell_type": "code",
   "execution_count": null,
   "metadata": {},
   "outputs": [],
   "source": []
  },
  {
   "cell_type": "markdown",
   "metadata": {
    "slideshow": {
     "slide_type": "slide"
    }
   },
   "source": [
    "<div class=\"div-dhds-fondo-1\">Categorizacion de variables continuas\n",
    "\n",
    "<img src=\"https://raw.githubusercontent.com/Digital-House-DATA/ds_blend_2021_img/master/M2/CLASE_12_DataWrangling/Presentacion/img/M2_CLASE_12_separador.png\" align=\"center\"></img>    \n",
    "</div>\n"
   ]
  },
  {
   "cell_type": "code",
   "execution_count": null,
   "metadata": {},
   "outputs": [],
   "source": []
  },
  {
   "cell_type": "markdown",
   "metadata": {
    "slideshow": {
     "slide_type": "slide"
    }
   },
   "source": [
    "### Categorizacion de variables continuas con `pandas`\n",
    "\n",
    "El proceso de transformar una variable numérica en categórica se llama discretización. \n",
    "\n",
    "El método `cut` separa valores en intervalos discretos, devolviendo el intervalo semi-cerrado al que pertenece cada valor. Permite transformar variables continuas en categóricas.\n",
    "\n",
    "El argumento `bins` puede ser un entero que indica la cantidad de intervalos de igual \"ancho\" a construir, o puede ser una lista en la que especificamos los límites de cada categoría.\n",
    "\n",
    "El argumento `right` indica si el intervalos incluye el valor límite por la derecha.\n",
    "\n",
    "https://pandas.pydata.org/pandas-docs/stable/reference/api/pandas.cut.html"
   ]
  },
  {
   "cell_type": "code",
   "execution_count": 82,
   "metadata": {
    "slideshow": {
     "slide_type": "subslide"
    }
   },
   "outputs": [
    {
     "data": {
      "text/html": [
       "<div>\n",
       "<style scoped>\n",
       "    .dataframe tbody tr th:only-of-type {\n",
       "        vertical-align: middle;\n",
       "    }\n",
       "\n",
       "    .dataframe tbody tr th {\n",
       "        vertical-align: top;\n",
       "    }\n",
       "\n",
       "    .dataframe thead th {\n",
       "        text-align: right;\n",
       "    }\n",
       "</style>\n",
       "<table border=\"1\" class=\"dataframe\">\n",
       "  <thead>\n",
       "    <tr style=\"text-align: right;\">\n",
       "      <th></th>\n",
       "      <th>A</th>\n",
       "      <th>B</th>\n",
       "    </tr>\n",
       "  </thead>\n",
       "  <tbody>\n",
       "    <tr>\n",
       "      <th>0</th>\n",
       "      <td>59</td>\n",
       "      <td>329</td>\n",
       "    </tr>\n",
       "    <tr>\n",
       "      <th>1</th>\n",
       "      <td>61</td>\n",
       "      <td>253</td>\n",
       "    </tr>\n",
       "    <tr>\n",
       "      <th>2</th>\n",
       "      <td>22</td>\n",
       "      <td>219</td>\n",
       "    </tr>\n",
       "    <tr>\n",
       "      <th>3</th>\n",
       "      <td>22</td>\n",
       "      <td>273</td>\n",
       "    </tr>\n",
       "    <tr>\n",
       "      <th>4</th>\n",
       "      <td>16</td>\n",
       "      <td>257</td>\n",
       "    </tr>\n",
       "    <tr>\n",
       "      <th>5</th>\n",
       "      <td>43</td>\n",
       "      <td>124</td>\n",
       "    </tr>\n",
       "    <tr>\n",
       "      <th>6</th>\n",
       "      <td>17</td>\n",
       "      <td>178</td>\n",
       "    </tr>\n",
       "    <tr>\n",
       "      <th>7</th>\n",
       "      <td>35</td>\n",
       "      <td>173</td>\n",
       "    </tr>\n",
       "    <tr>\n",
       "      <th>8</th>\n",
       "      <td>23</td>\n",
       "      <td>272</td>\n",
       "    </tr>\n",
       "    <tr>\n",
       "      <th>9</th>\n",
       "      <td>36</td>\n",
       "      <td>110</td>\n",
       "    </tr>\n",
       "  </tbody>\n",
       "</table>\n",
       "</div>"
      ],
      "text/plain": [
       "    A    B\n",
       "0  59  329\n",
       "1  61  253\n",
       "2  22  219\n",
       "3  22  273\n",
       "4  16  257\n",
       "5  43  124\n",
       "6  17  178\n",
       "7  35  173\n",
       "8  23  272\n",
       "9  36  110"
      ]
     },
     "execution_count": 82,
     "metadata": {},
     "output_type": "execute_result"
    }
   ],
   "source": [
    "rng = np.random.default_rng()\n",
    "\n",
    "a_values = rng.integers(low = 0, high = 100, size = 10)\n",
    "\n",
    "b_values = rng.integers(low = 100, high = 500, size = 10)\n",
    "\n",
    "data = pd.DataFrame({'A':a_values, 'B': b_values})\n",
    "data"
   ]
  },
  {
   "cell_type": "code",
   "execution_count": 156,
   "metadata": {
    "slideshow": {
     "slide_type": "subslide"
    }
   },
   "outputs": [
    {
     "data": {
      "text/plain": [
       "count    10.000000\n",
       "mean     41.900000\n",
       "std      25.980548\n",
       "min      11.000000\n",
       "25%      14.250000\n",
       "50%      51.000000\n",
       "75%      61.250000\n",
       "max      79.000000\n",
       "Name: A, dtype: float64"
      ]
     },
     "execution_count": 156,
     "metadata": {},
     "output_type": "execute_result"
    }
   ],
   "source": [
    "data.A.describe()"
   ]
  },
  {
   "cell_type": "code",
   "execution_count": 157,
   "metadata": {
    "slideshow": {
     "slide_type": "fragment"
    }
   },
   "outputs": [
    {
     "data": {
      "text/plain": [
       "count     10.000000\n",
       "mean     331.200000\n",
       "std       95.723909\n",
       "min      143.000000\n",
       "25%      277.750000\n",
       "50%      345.500000\n",
       "75%      383.000000\n",
       "max      476.000000\n",
       "Name: B, dtype: float64"
      ]
     },
     "execution_count": 157,
     "metadata": {},
     "output_type": "execute_result"
    }
   ],
   "source": [
    "data.B.describe()"
   ]
  },
  {
   "cell_type": "markdown",
   "metadata": {
    "slideshow": {
     "slide_type": "subslide"
    }
   },
   "source": [
    "Definimos 5 categorias para los valores de A, con límites 0, 30, 40, 50, 60, 100"
   ]
  },
  {
   "cell_type": "code",
   "execution_count": 83,
   "metadata": {},
   "outputs": [
    {
     "data": {
      "text/plain": [
       "0    59\n",
       "1    61\n",
       "2    22\n",
       "3    22\n",
       "4    16\n",
       "5    43\n",
       "6    17\n",
       "7    35\n",
       "8    23\n",
       "9    36\n",
       "Name: A, dtype: int64"
      ]
     },
     "execution_count": 83,
     "metadata": {},
     "output_type": "execute_result"
    }
   ],
   "source": [
    "data.A"
   ]
  },
  {
   "cell_type": "code",
   "execution_count": 84,
   "metadata": {
    "slideshow": {
     "slide_type": "fragment"
    }
   },
   "outputs": [
    {
     "data": {
      "text/plain": [
       "CategoricalDtype(categories=[[0, 30), [30, 40), [40, 50), [50, 60), [60, 100)], ordered=True)"
      ]
     },
     "execution_count": 84,
     "metadata": {},
     "output_type": "execute_result"
    }
   ],
   "source": [
    "# Defino los valores de corte\n",
    "bins = [0, 30, 40, 50, 60, 100]\n",
    "\n",
    "\n",
    "\n",
    "\n",
    "A_categories = pd.cut(data.A, bins, right = False)\n",
    "\n",
    "\n",
    "\n",
    "\n",
    "\n",
    "A_categories.dtype"
   ]
  },
  {
   "cell_type": "code",
   "execution_count": 85,
   "metadata": {},
   "outputs": [
    {
     "data": {
      "text/plain": [
       "0     [50, 60)\n",
       "1    [60, 100)\n",
       "2      [0, 30)\n",
       "3      [0, 30)\n",
       "4      [0, 30)\n",
       "5     [40, 50)\n",
       "6      [0, 30)\n",
       "7     [30, 40)\n",
       "8      [0, 30)\n",
       "9     [30, 40)\n",
       "Name: A, dtype: category\n",
       "Categories (5, interval[int64, left]): [[0, 30) < [30, 40) < [40, 50) < [50, 60) < [60, 100)]"
      ]
     },
     "execution_count": 85,
     "metadata": {},
     "output_type": "execute_result"
    }
   ],
   "source": [
    "A_categories"
   ]
  },
  {
   "cell_type": "markdown",
   "metadata": {
    "slideshow": {
     "slide_type": "fragment"
    }
   },
   "source": [
    "Contamos cuantos elementos hay en cada categoría de A"
   ]
  },
  {
   "cell_type": "code",
   "execution_count": 163,
   "metadata": {
    "slideshow": {
     "slide_type": "fragment"
    }
   },
   "outputs": [
    {
     "data": {
      "text/plain": [
       "[0, 30)      4\n",
       "[60, 100)    3\n",
       "[50, 60)     2\n",
       "[40, 50)     1\n",
       "[30, 40)     0\n",
       "Name: A, dtype: int64"
      ]
     },
     "execution_count": 163,
     "metadata": {},
     "output_type": "execute_result"
    }
   ],
   "source": [
    "A_categories.value_counts()"
   ]
  },
  {
   "cell_type": "markdown",
   "metadata": {
    "slideshow": {
     "slide_type": "subslide"
    }
   },
   "source": [
    "Creamos categorías con etiquetas asociadas usando el argumento `labels`"
   ]
  },
  {
   "cell_type": "code",
   "execution_count": 87,
   "metadata": {
    "slideshow": {
     "slide_type": "fragment"
    }
   },
   "outputs": [
    {
     "data": {
      "text/plain": [
       "muy poco     5\n",
       "poco         2\n",
       "normal       1\n",
       "mucho        1\n",
       "demasiado    1\n",
       "Name: A, dtype: int64"
      ]
     },
     "execution_count": 87,
     "metadata": {},
     "output_type": "execute_result"
    }
   ],
   "source": [
    "group_labels = ['muy poco', 'poco', 'normal', 'mucho', 'demasiado' ]\n",
    "\n",
    "\n",
    "A_categories_labels = pd.cut(data.A, bins, labels = group_labels)\n",
    "\n",
    "\n",
    "A_categories_labels.value_counts()"
   ]
  },
  {
   "cell_type": "code",
   "execution_count": 88,
   "metadata": {},
   "outputs": [
    {
     "data": {
      "text/plain": [
       "0        mucho\n",
       "1    demasiado\n",
       "2     muy poco\n",
       "3     muy poco\n",
       "4     muy poco\n",
       "5       normal\n",
       "6     muy poco\n",
       "7         poco\n",
       "8     muy poco\n",
       "9         poco\n",
       "Name: A, dtype: category\n",
       "Categories (5, object): ['muy poco' < 'poco' < 'normal' < 'mucho' < 'demasiado']"
      ]
     },
     "execution_count": 88,
     "metadata": {},
     "output_type": "execute_result"
    }
   ],
   "source": [
    "A_categories_labels"
   ]
  },
  {
   "cell_type": "markdown",
   "metadata": {
    "slideshow": {
     "slide_type": "fragment"
    }
   },
   "source": [
    "---\n",
    "\n",
    "Ya vimos cómo podemos usar cuantilos para especificar los límites de los intervalos de cada categoría en lugar de definir valores arbitarios. Usando qcut()"
   ]
  },
  {
   "cell_type": "code",
   "execution_count": 167,
   "metadata": {},
   "outputs": [
    {
     "data": {
      "text/html": [
       "<div>\n",
       "<style scoped>\n",
       "    .dataframe tbody tr th:only-of-type {\n",
       "        vertical-align: middle;\n",
       "    }\n",
       "\n",
       "    .dataframe tbody tr th {\n",
       "        vertical-align: top;\n",
       "    }\n",
       "\n",
       "    .dataframe thead th {\n",
       "        text-align: right;\n",
       "    }\n",
       "</style>\n",
       "<table border=\"1\" class=\"dataframe\">\n",
       "  <thead>\n",
       "    <tr style=\"text-align: right;\">\n",
       "      <th></th>\n",
       "      <th>A</th>\n",
       "      <th>B</th>\n",
       "      <th>A_cat</th>\n",
       "    </tr>\n",
       "  </thead>\n",
       "  <tbody>\n",
       "    <tr>\n",
       "      <th>0</th>\n",
       "      <td>59</td>\n",
       "      <td>272</td>\n",
       "      <td>mucho</td>\n",
       "    </tr>\n",
       "    <tr>\n",
       "      <th>1</th>\n",
       "      <td>11</td>\n",
       "      <td>476</td>\n",
       "      <td>muy poco</td>\n",
       "    </tr>\n",
       "    <tr>\n",
       "      <th>2</th>\n",
       "      <td>55</td>\n",
       "      <td>425</td>\n",
       "      <td>mucho</td>\n",
       "    </tr>\n",
       "    <tr>\n",
       "      <th>3</th>\n",
       "      <td>11</td>\n",
       "      <td>385</td>\n",
       "      <td>muy poco</td>\n",
       "    </tr>\n",
       "    <tr>\n",
       "      <th>4</th>\n",
       "      <td>64</td>\n",
       "      <td>143</td>\n",
       "      <td>demasiado</td>\n",
       "    </tr>\n",
       "    <tr>\n",
       "      <th>5</th>\n",
       "      <td>79</td>\n",
       "      <td>337</td>\n",
       "      <td>demasiado</td>\n",
       "    </tr>\n",
       "    <tr>\n",
       "      <th>6</th>\n",
       "      <td>18</td>\n",
       "      <td>295</td>\n",
       "      <td>muy poco</td>\n",
       "    </tr>\n",
       "    <tr>\n",
       "      <th>7</th>\n",
       "      <td>47</td>\n",
       "      <td>354</td>\n",
       "      <td>normal</td>\n",
       "    </tr>\n",
       "    <tr>\n",
       "      <th>8</th>\n",
       "      <td>62</td>\n",
       "      <td>248</td>\n",
       "      <td>demasiado</td>\n",
       "    </tr>\n",
       "    <tr>\n",
       "      <th>9</th>\n",
       "      <td>13</td>\n",
       "      <td>377</td>\n",
       "      <td>muy poco</td>\n",
       "    </tr>\n",
       "  </tbody>\n",
       "</table>\n",
       "</div>"
      ],
      "text/plain": [
       "    A    B      A_cat\n",
       "0  59  272      mucho\n",
       "1  11  476   muy poco\n",
       "2  55  425      mucho\n",
       "3  11  385   muy poco\n",
       "4  64  143  demasiado\n",
       "5  79  337  demasiado\n",
       "6  18  295   muy poco\n",
       "7  47  354     normal\n",
       "8  62  248  demasiado\n",
       "9  13  377   muy poco"
      ]
     },
     "execution_count": 167,
     "metadata": {},
     "output_type": "execute_result"
    }
   ],
   "source": [
    "# ahora tenemos una columna categorica usando la informacion de A\n",
    "# podriamos usar esa columna para algunos modelos\n",
    "\n",
    "data['A_cat'] = A_categories_labels\n",
    "data"
   ]
  },
  {
   "cell_type": "markdown",
   "metadata": {
    "slideshow": {
     "slide_type": "slide"
    }
   },
   "source": [
    "### 'Dummyficacion' de variables con `pandas`\n",
    "\n",
    "Pandas provee con el método `pd.get_dummies` que recibe una Serie o una lista de Series y realiza one hot encoding.\n",
    "\n",
    "Recordemos que una variable con k categorías se puede representar con k-1 variables.\n",
    "\n",
    "Por eso un parámetro clave de `pd.get_dummies` es `drop_first = True` que genera k-1 categorías en lugar de k.\n",
    "\n",
    "El argumento `prefix` nos permite establecer un prefijo para el nombre de cada una de las columnas de categorías que representan la variable. Este argumento es especialmente útil cuando construimos dummies de más de una columna de un DataFrame, para evitar confusiones sobre cuál es las variable original que corresponde a cada columna de categoría.\n",
    "\n",
    "\n",
    "https://pandas.pydata.org/pandas-docs/stable/reference/api/pandas.get_dummies.html\n"
   ]
  },
  {
   "cell_type": "code",
   "execution_count": 168,
   "metadata": {
    "slideshow": {
     "slide_type": "subslide"
    }
   },
   "outputs": [
    {
     "data": {
      "text/html": [
       "<div>\n",
       "<style scoped>\n",
       "    .dataframe tbody tr th:only-of-type {\n",
       "        vertical-align: middle;\n",
       "    }\n",
       "\n",
       "    .dataframe tbody tr th {\n",
       "        vertical-align: top;\n",
       "    }\n",
       "\n",
       "    .dataframe thead th {\n",
       "        text-align: right;\n",
       "    }\n",
       "</style>\n",
       "<table border=\"1\" class=\"dataframe\">\n",
       "  <thead>\n",
       "    <tr style=\"text-align: right;\">\n",
       "      <th></th>\n",
       "      <th>A</th>\n",
       "      <th>B</th>\n",
       "      <th>A_cat</th>\n",
       "    </tr>\n",
       "  </thead>\n",
       "  <tbody>\n",
       "    <tr>\n",
       "      <th>0</th>\n",
       "      <td>59</td>\n",
       "      <td>272</td>\n",
       "      <td>mucho</td>\n",
       "    </tr>\n",
       "    <tr>\n",
       "      <th>1</th>\n",
       "      <td>11</td>\n",
       "      <td>476</td>\n",
       "      <td>muy poco</td>\n",
       "    </tr>\n",
       "    <tr>\n",
       "      <th>2</th>\n",
       "      <td>55</td>\n",
       "      <td>425</td>\n",
       "      <td>mucho</td>\n",
       "    </tr>\n",
       "    <tr>\n",
       "      <th>3</th>\n",
       "      <td>11</td>\n",
       "      <td>385</td>\n",
       "      <td>muy poco</td>\n",
       "    </tr>\n",
       "    <tr>\n",
       "      <th>4</th>\n",
       "      <td>64</td>\n",
       "      <td>143</td>\n",
       "      <td>demasiado</td>\n",
       "    </tr>\n",
       "    <tr>\n",
       "      <th>5</th>\n",
       "      <td>79</td>\n",
       "      <td>337</td>\n",
       "      <td>demasiado</td>\n",
       "    </tr>\n",
       "    <tr>\n",
       "      <th>6</th>\n",
       "      <td>18</td>\n",
       "      <td>295</td>\n",
       "      <td>muy poco</td>\n",
       "    </tr>\n",
       "    <tr>\n",
       "      <th>7</th>\n",
       "      <td>47</td>\n",
       "      <td>354</td>\n",
       "      <td>normal</td>\n",
       "    </tr>\n",
       "    <tr>\n",
       "      <th>8</th>\n",
       "      <td>62</td>\n",
       "      <td>248</td>\n",
       "      <td>demasiado</td>\n",
       "    </tr>\n",
       "    <tr>\n",
       "      <th>9</th>\n",
       "      <td>13</td>\n",
       "      <td>377</td>\n",
       "      <td>muy poco</td>\n",
       "    </tr>\n",
       "  </tbody>\n",
       "</table>\n",
       "</div>"
      ],
      "text/plain": [
       "    A    B      A_cat\n",
       "0  59  272      mucho\n",
       "1  11  476   muy poco\n",
       "2  55  425      mucho\n",
       "3  11  385   muy poco\n",
       "4  64  143  demasiado\n",
       "5  79  337  demasiado\n",
       "6  18  295   muy poco\n",
       "7  47  354     normal\n",
       "8  62  248  demasiado\n",
       "9  13  377   muy poco"
      ]
     },
     "execution_count": 168,
     "metadata": {},
     "output_type": "execute_result"
    }
   ],
   "source": [
    "data"
   ]
  },
  {
   "cell_type": "code",
   "execution_count": 169,
   "metadata": {
    "slideshow": {
     "slide_type": "subslide"
    }
   },
   "outputs": [
    {
     "data": {
      "text/html": [
       "<div>\n",
       "<style scoped>\n",
       "    .dataframe tbody tr th:only-of-type {\n",
       "        vertical-align: middle;\n",
       "    }\n",
       "\n",
       "    .dataframe tbody tr th {\n",
       "        vertical-align: top;\n",
       "    }\n",
       "\n",
       "    .dataframe thead th {\n",
       "        text-align: right;\n",
       "    }\n",
       "</style>\n",
       "<table border=\"1\" class=\"dataframe\">\n",
       "  <thead>\n",
       "    <tr style=\"text-align: right;\">\n",
       "      <th></th>\n",
       "      <th>A</th>\n",
       "      <th>B</th>\n",
       "      <th>A_cat1_poco</th>\n",
       "      <th>A_cat1_normal</th>\n",
       "      <th>A_cat1_mucho</th>\n",
       "      <th>A_cat1_demasiado</th>\n",
       "    </tr>\n",
       "  </thead>\n",
       "  <tbody>\n",
       "    <tr>\n",
       "      <th>0</th>\n",
       "      <td>59</td>\n",
       "      <td>272</td>\n",
       "      <td>0</td>\n",
       "      <td>0</td>\n",
       "      <td>1</td>\n",
       "      <td>0</td>\n",
       "    </tr>\n",
       "    <tr>\n",
       "      <th>1</th>\n",
       "      <td>11</td>\n",
       "      <td>476</td>\n",
       "      <td>0</td>\n",
       "      <td>0</td>\n",
       "      <td>0</td>\n",
       "      <td>0</td>\n",
       "    </tr>\n",
       "    <tr>\n",
       "      <th>2</th>\n",
       "      <td>55</td>\n",
       "      <td>425</td>\n",
       "      <td>0</td>\n",
       "      <td>0</td>\n",
       "      <td>1</td>\n",
       "      <td>0</td>\n",
       "    </tr>\n",
       "    <tr>\n",
       "      <th>3</th>\n",
       "      <td>11</td>\n",
       "      <td>385</td>\n",
       "      <td>0</td>\n",
       "      <td>0</td>\n",
       "      <td>0</td>\n",
       "      <td>0</td>\n",
       "    </tr>\n",
       "    <tr>\n",
       "      <th>4</th>\n",
       "      <td>64</td>\n",
       "      <td>143</td>\n",
       "      <td>0</td>\n",
       "      <td>0</td>\n",
       "      <td>0</td>\n",
       "      <td>1</td>\n",
       "    </tr>\n",
       "    <tr>\n",
       "      <th>5</th>\n",
       "      <td>79</td>\n",
       "      <td>337</td>\n",
       "      <td>0</td>\n",
       "      <td>0</td>\n",
       "      <td>0</td>\n",
       "      <td>1</td>\n",
       "    </tr>\n",
       "    <tr>\n",
       "      <th>6</th>\n",
       "      <td>18</td>\n",
       "      <td>295</td>\n",
       "      <td>0</td>\n",
       "      <td>0</td>\n",
       "      <td>0</td>\n",
       "      <td>0</td>\n",
       "    </tr>\n",
       "    <tr>\n",
       "      <th>7</th>\n",
       "      <td>47</td>\n",
       "      <td>354</td>\n",
       "      <td>0</td>\n",
       "      <td>1</td>\n",
       "      <td>0</td>\n",
       "      <td>0</td>\n",
       "    </tr>\n",
       "    <tr>\n",
       "      <th>8</th>\n",
       "      <td>62</td>\n",
       "      <td>248</td>\n",
       "      <td>0</td>\n",
       "      <td>0</td>\n",
       "      <td>0</td>\n",
       "      <td>1</td>\n",
       "    </tr>\n",
       "    <tr>\n",
       "      <th>9</th>\n",
       "      <td>13</td>\n",
       "      <td>377</td>\n",
       "      <td>0</td>\n",
       "      <td>0</td>\n",
       "      <td>0</td>\n",
       "      <td>0</td>\n",
       "    </tr>\n",
       "  </tbody>\n",
       "</table>\n",
       "</div>"
      ],
      "text/plain": [
       "    A    B  A_cat1_poco  A_cat1_normal  A_cat1_mucho  A_cat1_demasiado\n",
       "0  59  272            0              0             1                 0\n",
       "1  11  476            0              0             0                 0\n",
       "2  55  425            0              0             1                 0\n",
       "3  11  385            0              0             0                 0\n",
       "4  64  143            0              0             0                 1\n",
       "5  79  337            0              0             0                 1\n",
       "6  18  295            0              0             0                 0\n",
       "7  47  354            0              1             0                 0\n",
       "8  62  248            0              0             0                 1\n",
       "9  13  377            0              0             0                 0"
      ]
     },
     "execution_count": 169,
     "metadata": {},
     "output_type": "execute_result"
    }
   ],
   "source": [
    "A_categories_1_dummies = pd.get_dummies(data, drop_first = True, prefix = 'A_cat1')\n",
    "A_categories_1_dummies"
   ]
  },
  {
   "cell_type": "markdown",
   "metadata": {
    "slideshow": {
     "slide_type": "slide"
    }
   },
   "source": [
    "<div class=\"div-dhds-fondo-1\"> Formato Timestamp \n",
    "\n",
    "<img src=\"https://raw.githubusercontent.com/Digital-House-DATA/ds_blend_2021_img/master/M2/CLASE_12_DataWrangling/Presentacion/img/M2_CLASE_12_separador.png\" align=\"center\"></img>    \n",
    "</div>\n"
   ]
  },
  {
   "cell_type": "markdown",
   "metadata": {
    "slideshow": {
     "slide_type": "slide"
    }
   },
   "source": [
    "### Unix Timestamp\n",
    "\n",
    "---\n",
    "\n",
    "* Unix TimeStamp es una manera de “trackear” el tiempo.\n",
    "\n",
    "* Se considera el tiempo en segundos desde el 1 de Enero de 1970 UTC, a las 00:00:00 hasta la fecha.\n",
    "\n",
    "* Teniendo un punto de referencia fijo, resulta muy simple el manejo de tiempo y fechas en distintos sistemas y arquitecturas.\n"
   ]
  },
  {
   "cell_type": "markdown",
   "metadata": {
    "slideshow": {
     "slide_type": "slide"
    }
   },
   "source": [
    "### Pandas Timestamp\n",
    "\n",
    "---\n",
    "\n",
    "Los datos timestamp son la forma más básica de Series de Tiempo. \n",
    "\n",
    "Asocian valores con puntos en el tiempo. \n",
    "\n",
    "En Pandas, podemos instanciar objetos de la clase ```Timestamp```\n",
    "\n",
    "https://pandas.pydata.org/pandas-docs/stable/reference/api/pandas.Timestamp.html\n",
    "\n"
   ]
  },
  {
   "cell_type": "code",
   "execution_count": 179,
   "metadata": {
    "slideshow": {
     "slide_type": "fragment"
    }
   },
   "outputs": [
    {
     "data": {
      "text/plain": [
       "Timestamp('2022-12-01 00:00:00')"
      ]
     },
     "execution_count": 179,
     "metadata": {},
     "output_type": "execute_result"
    }
   ],
   "source": [
    "pd.Timestamp('2022-12-01')"
   ]
  },
  {
   "cell_type": "code",
   "execution_count": 177,
   "metadata": {
    "slideshow": {
     "slide_type": "fragment"
    }
   },
   "outputs": [
    {
     "data": {
      "text/plain": [
       "Timestamp('2012-05-01 00:00:00')"
      ]
     },
     "execution_count": 177,
     "metadata": {},
     "output_type": "execute_result"
    }
   ],
   "source": [
    "pd.Timestamp(2012, 5, 1)"
   ]
  },
  {
   "cell_type": "code",
   "execution_count": 187,
   "metadata": {},
   "outputs": [],
   "source": [
    "t1=pd.Timestamp(1970, 1, 2)"
   ]
  },
  {
   "cell_type": "code",
   "execution_count": 189,
   "metadata": {},
   "outputs": [
    {
     "data": {
      "text/plain": [
       "Timestamp('1970-01-02 00:00:00')"
      ]
     },
     "execution_count": 189,
     "metadata": {},
     "output_type": "execute_result"
    }
   ],
   "source": [
    "t1"
   ]
  },
  {
   "cell_type": "code",
   "execution_count": 202,
   "metadata": {},
   "outputs": [
    {
     "name": "stdout",
     "output_type": "stream",
     "text": [
      "['asm8', 'astimezone', 'ceil', 'combine', 'ctime', 'date', 'day', 'day_name', 'day_of_week', 'day_of_year', 'dayofweek', 'dayofyear', 'days_in_month', 'daysinmonth', 'dst', 'floor', 'fold', 'freq', 'freqstr', 'fromisocalendar', 'fromisoformat', 'fromordinal', 'fromtimestamp', 'hour', 'is_leap_year', 'is_month_end', 'is_month_start', 'is_quarter_end', 'is_quarter_start', 'is_year_end', 'is_year_start', 'isocalendar', 'isoformat', 'isoweekday', 'max', 'microsecond', 'min', 'minute', 'month', 'month_name', 'nanosecond', 'normalize', 'now', 'quarter', 'replace', 'resolution', 'round', 'second', 'strftime', 'strptime', 'time', 'timestamp', 'timetuple', 'timetz', 'to_datetime64', 'to_julian_date', 'to_numpy', 'to_period', 'to_pydatetime', 'today', 'toordinal', 'tz', 'tz_convert', 'tz_localize', 'tzinfo', 'tzname', 'utcfromtimestamp', 'utcnow', 'utcoffset', 'utctimetuple', 'value', 'week', 'weekday', 'weekofyear', 'year']\n"
     ]
    }
   ],
   "source": [
    "print([x for x in dir(t1) if x[0] !=  '_'])"
   ]
  },
  {
   "cell_type": "code",
   "execution_count": 204,
   "metadata": {},
   "outputs": [
    {
     "data": {
      "text/plain": [
       "0"
      ]
     },
     "execution_count": 204,
     "metadata": {},
     "output_type": "execute_result"
    }
   ],
   "source": [
    "t1.minute"
   ]
  },
  {
   "cell_type": "markdown",
   "metadata": {
    "slideshow": {
     "slide_type": "slide"
    },
    "tags": []
   },
   "source": [
    "## Normalmente la informacion temporal viene en formato texto (strings)\n",
    "## como parseamos esto?"
   ]
  },
  {
   "cell_type": "markdown",
   "metadata": {
    "slideshow": {
     "slide_type": "slide"
    },
    "tags": []
   },
   "source": [
    "### ```pandas.to_datetime```\n",
    "\n",
    "Convierte el argumento en un objeto de tipo ```datetime```.\n",
    "\n",
    "https://pandas.pydata.org/pandas-docs/stable/reference/api/pandas.to_datetime.html\n",
    "\n"
   ]
  },
  {
   "cell_type": "markdown",
   "metadata": {
    "slideshow": {
     "slide_type": "subslide"
    }
   },
   "source": [
    "#### Ejemplos"
   ]
  },
  {
   "cell_type": "code",
   "execution_count": 180,
   "metadata": {
    "slideshow": {
     "slide_type": "fragment"
    }
   },
   "outputs": [
    {
     "data": {
      "text/plain": [
       "Timestamp('2001-09-17 10:05:00')"
      ]
     },
     "execution_count": 180,
     "metadata": {},
     "output_type": "execute_result"
    }
   ],
   "source": [
    "pd.to_datetime('20170901 100500', format='%Y%m%d %H%M%S')"
   ]
  },
  {
   "cell_type": "markdown",
   "metadata": {
    "slideshow": {
     "slide_type": "slide"
    }
   },
   "source": [
    "# Como es el formato que usa para interpretar el tiempo?\n",
    "### ```strftime```\n",
    "    \n",
    "https://strftime.org/    \n",
    "    \n",
    "En Python, los tipos de dato fecha y hora están disponibles importando el módulo ```datetime```. \n",
    "\n",
    "Este módulo proporciona numerosas funciones para manejar fecha y hora.\n",
    "\n",
    "El método ```strftime()``` se utiliza para convertir objetos de fecha y hora en su representación como cadena de caracteres.\n",
    "\n",
    "https://docs.python.org/3/library/datetime.html#datetime.date.strftime"
   ]
  },
  {
   "cell_type": "markdown",
   "metadata": {
    "slideshow": {
     "slide_type": "subslide"
    }
   },
   "source": [
    "Para especificar el formato deseado utilizamos la convención definida en esta tabla:\n",
    "\n",
    "<img src=\"https://raw.githubusercontent.com/Digital-House-DATA/ds_blend_2021_img/master/M2/CLASE_12_DataWrangling/Presentacion/img/M2_CLASE_12_datetime_format.png\" align=\"center\"></img>\n"
   ]
  },
  {
   "cell_type": "code",
   "execution_count": 155,
   "metadata": {
    "slideshow": {
     "slide_type": "fragment"
    }
   },
   "outputs": [
    {
     "data": {
      "text/plain": [
       "Timestamp('2017-09-01 10:05:00')"
      ]
     },
     "execution_count": 155,
     "metadata": {},
     "output_type": "execute_result"
    }
   ],
   "source": [
    "pd.to_datetime('20170901 100500', format='%Y%m%d %H%M%S')"
   ]
  },
  {
   "cell_type": "code",
   "execution_count": 174,
   "metadata": {
    "slideshow": {
     "slide_type": "fragment"
    }
   },
   "outputs": [
    {
     "data": {
      "text/plain": [
       "Timestamp('2261-12-31 19:26:24')"
      ]
     },
     "execution_count": 174,
     "metadata": {},
     "output_type": "execute_result"
    }
   ],
   "source": [
    "pd.to_datetime(292,unit='Y')"
   ]
  },
  {
   "cell_type": "code",
   "execution_count": 175,
   "metadata": {
    "slideshow": {
     "slide_type": "fragment"
    }
   },
   "outputs": [
    {
     "data": {
      "text/plain": [
       "Timestamp('2017-03-22 15:16:45.433502912')"
      ]
     },
     "execution_count": 175,
     "metadata": {},
     "output_type": "execute_result"
    }
   ],
   "source": [
    "pd.to_datetime(1490195805433502912, unit='ns')"
   ]
  },
  {
   "cell_type": "markdown",
   "metadata": {
    "slideshow": {
     "slide_type": "subslide"
    }
   },
   "source": [
    "#### Ejemplos de strftime() de python basico"
   ]
  },
  {
   "cell_type": "code",
   "execution_count": 112,
   "metadata": {
    "slideshow": {
     "slide_type": "fragment"
    }
   },
   "outputs": [],
   "source": [
    "from datetime import datetime as dt "
   ]
  },
  {
   "cell_type": "code",
   "execution_count": 81,
   "metadata": {
    "slideshow": {
     "slide_type": "fragment"
    }
   },
   "outputs": [
    {
     "name": "stdout",
     "output_type": "stream",
     "text": [
      "Sin formato 2021-08-19 18:48:56.232136\n"
     ]
    }
   ],
   "source": [
    "# Getting current date and time \n",
    "\n",
    "now = dt.now()\n",
    "\n",
    "print(\"Sin formato\", now) "
   ]
  },
  {
   "cell_type": "code",
   "execution_count": 82,
   "metadata": {
    "slideshow": {
     "slide_type": "fragment"
    }
   },
   "outputs": [
    {
     "name": "stdout",
     "output_type": "stream",
     "text": [
      "\n",
      "Ejemplo 1: Thu 08 21\n"
     ]
    }
   ],
   "source": [
    "# Example 1 \n",
    "s = now.strftime(\"%a %m %y\") \n",
    "print('\\nEjemplo 1:', s) "
   ]
  },
  {
   "cell_type": "code",
   "execution_count": 83,
   "metadata": {
    "slideshow": {
     "slide_type": "fragment"
    }
   },
   "outputs": [
    {
     "name": "stdout",
     "output_type": "stream",
     "text": [
      "\n",
      "Ejemplo 2: Thursday 8 2021\n"
     ]
    }
   ],
   "source": [
    "# Example 2 \n",
    "s = now.strftime(\"%A %-m %Y\") \n",
    "print('\\nEjemplo 2:', s) "
   ]
  },
  {
   "cell_type": "code",
   "execution_count": 84,
   "metadata": {
    "slideshow": {
     "slide_type": "fragment"
    }
   },
   "outputs": [
    {
     "name": "stdout",
     "output_type": "stream",
     "text": [
      "\n",
      "Ejemplo 3: 6 PM 56\n"
     ]
    }
   ],
   "source": [
    "# Example 3 \n",
    "s = now.strftime(\"%-I %p %S\") \n",
    "print('\\nEjemplo 3:', s) "
   ]
  },
  {
   "cell_type": "code",
   "execution_count": 85,
   "metadata": {},
   "outputs": [
    {
     "name": "stdout",
     "output_type": "stream",
     "text": [
      "\n",
      "Ejemplo 4: 231\n"
     ]
    }
   ],
   "source": [
    "# Example 4 \n",
    "s = now.strftime(\"%-j\") \n",
    "print('\\nEjemplo 4:', s) "
   ]
  },
  {
   "cell_type": "markdown",
   "metadata": {
    "colab_type": "text",
    "id": "-06Xcfb_3ud8",
    "tags": []
   },
   "source": [
    "### Convirtiendo a DateTime"
   ]
  },
  {
   "cell_type": "code",
   "execution_count": 197,
   "metadata": {
    "colab": {
     "autoexec": {
      "startup": false,
      "wait_interval": 0
     }
    },
    "colab_type": "code",
    "id": "yyvm8Qn13ud9",
    "outputId": "8bd97ee2-3a68-4858-8bbc-e1c3ccec70a9"
   },
   "outputs": [
    {
     "data": {
      "text/html": [
       "<div>\n",
       "<style scoped>\n",
       "    .dataframe tbody tr th:only-of-type {\n",
       "        vertical-align: middle;\n",
       "    }\n",
       "\n",
       "    .dataframe tbody tr th {\n",
       "        vertical-align: top;\n",
       "    }\n",
       "\n",
       "    .dataframe thead th {\n",
       "        text-align: right;\n",
       "    }\n",
       "</style>\n",
       "<table border=\"1\" class=\"dataframe\">\n",
       "  <thead>\n",
       "    <tr style=\"text-align: right;\">\n",
       "      <th></th>\n",
       "      <th>a</th>\n",
       "      <th>b</th>\n",
       "    </tr>\n",
       "  </thead>\n",
       "  <tbody>\n",
       "    <tr>\n",
       "      <th>2 June 2013</th>\n",
       "      <td>37</td>\n",
       "      <td>33</td>\n",
       "    </tr>\n",
       "    <tr>\n",
       "      <th>Aug 29, 2014</th>\n",
       "      <td>61</td>\n",
       "      <td>81</td>\n",
       "    </tr>\n",
       "    <tr>\n",
       "      <th>2015-06-26</th>\n",
       "      <td>40</td>\n",
       "      <td>88</td>\n",
       "    </tr>\n",
       "    <tr>\n",
       "      <th>7/12/16</th>\n",
       "      <td>99</td>\n",
       "      <td>56</td>\n",
       "    </tr>\n",
       "  </tbody>\n",
       "</table>\n",
       "</div>"
      ],
      "text/plain": [
       "               a   b\n",
       "2 June 2013   37  33\n",
       "Aug 29, 2014  61  81\n",
       "2015-06-26    40  88\n",
       "7/12/16       99  56"
      ]
     },
     "execution_count": 197,
     "metadata": {},
     "output_type": "execute_result"
    }
   ],
   "source": [
    "import numpy as np\n",
    "\n",
    "# df comun\n",
    "\n",
    "d1 = ['2 June 2013', 'Aug 29, 2014', '2015-06-26', '7/12/16']\n",
    "ts3 = pd.DataFrame(np.random.randint(10, 100, (4,2)), index=d1, columns=list('ab'))\n",
    "ts3"
   ]
  },
  {
   "cell_type": "code",
   "execution_count": 198,
   "metadata": {},
   "outputs": [
    {
     "data": {
      "text/plain": [
       "Index(['2 June 2013', 'Aug 29, 2014', '2015-06-26', '7/12/16'], dtype='object')"
      ]
     },
     "execution_count": 198,
     "metadata": {},
     "output_type": "execute_result"
    }
   ],
   "source": [
    "ts3.index"
   ]
  },
  {
   "cell_type": "code",
   "execution_count": 199,
   "metadata": {},
   "outputs": [
    {
     "data": {
      "text/plain": [
       "<AxesSubplot:>"
      ]
     },
     "execution_count": 199,
     "metadata": {},
     "output_type": "execute_result"
    },
    {
     "data": {
      "image/png": "[encoded data removed]",
      "text/plain": [
       "<Figure size 432x288 with 1 Axes>"
      ]
     },
     "metadata": {
      "needs_background": "light"
     },
     "output_type": "display_data"
    }
   ],
   "source": [
    "ts.plot()"
   ]
  },
  {
   "cell_type": "code",
   "execution_count": 202,
   "metadata": {
    "colab": {
     "autoexec": {
      "startup": false,
      "wait_interval": 0
     }
    },
    "colab_type": "code",
    "id": "Y7y2cO0b3ueC",
    "outputId": "d764ff4a-24dc-4644-992d-e269070df8a5"
   },
   "outputs": [
    {
     "data": {
      "text/plain": [
       "pandas.core.indexes.datetimes.DatetimeIndex"
      ]
     },
     "execution_count": 202,
     "metadata": {},
     "output_type": "execute_result"
    }
   ],
   "source": [
    "type(ts3.index)"
   ]
  },
  {
   "cell_type": "code",
   "execution_count": 200,
   "metadata": {},
   "outputs": [
    {
     "data": {
      "text/plain": [
       "Index(['2 June 2013', 'Aug 29, 2014', '2015-06-26', '7/12/16'], dtype='object')"
      ]
     },
     "execution_count": 200,
     "metadata": {},
     "output_type": "execute_result"
    }
   ],
   "source": [
    "ts3.index"
   ]
  },
  {
   "cell_type": "code",
   "execution_count": 201,
   "metadata": {
    "colab": {
     "autoexec": {
      "startup": false,
      "wait_interval": 0
     }
    },
    "colab_type": "code",
    "id": "Tv7b0p8j3ueL",
    "outputId": "3e68134e-ef46-4e1a-acb6-e39d3bbc5100"
   },
   "outputs": [
    {
     "data": {
      "text/plain": [
       "(DatetimeIndex(['2013-06-02', '2014-08-29', '2015-06-26', '2016-07-12'], dtype='datetime64[ns]', freq=None),\n",
       " pandas.core.indexes.datetimes.DatetimeIndex)"
      ]
     },
     "execution_count": 201,
     "metadata": {},
     "output_type": "execute_result"
    }
   ],
   "source": [
    "ts3.index = pd.to_datetime(ts3.index)\n",
    "\n",
    "\n",
    "ts3.index, type(ts3.index)"
   ]
  },
  {
   "cell_type": "code",
   "execution_count": 203,
   "metadata": {},
   "outputs": [
    {
     "data": {
      "text/html": [
       "<div>\n",
       "<style scoped>\n",
       "    .dataframe tbody tr th:only-of-type {\n",
       "        vertical-align: middle;\n",
       "    }\n",
       "\n",
       "    .dataframe tbody tr th {\n",
       "        vertical-align: top;\n",
       "    }\n",
       "\n",
       "    .dataframe thead th {\n",
       "        text-align: right;\n",
       "    }\n",
       "</style>\n",
       "<table border=\"1\" class=\"dataframe\">\n",
       "  <thead>\n",
       "    <tr style=\"text-align: right;\">\n",
       "      <th></th>\n",
       "      <th>a</th>\n",
       "      <th>b</th>\n",
       "    </tr>\n",
       "  </thead>\n",
       "  <tbody>\n",
       "    <tr>\n",
       "      <th>2013-06-02</th>\n",
       "      <td>37</td>\n",
       "      <td>33</td>\n",
       "    </tr>\n",
       "    <tr>\n",
       "      <th>2014-08-29</th>\n",
       "      <td>61</td>\n",
       "      <td>81</td>\n",
       "    </tr>\n",
       "    <tr>\n",
       "      <th>2015-06-26</th>\n",
       "      <td>40</td>\n",
       "      <td>88</td>\n",
       "    </tr>\n",
       "    <tr>\n",
       "      <th>2016-07-12</th>\n",
       "      <td>99</td>\n",
       "      <td>56</td>\n",
       "    </tr>\n",
       "  </tbody>\n",
       "</table>\n",
       "</div>"
      ],
      "text/plain": [
       "             a   b\n",
       "2013-06-02  37  33\n",
       "2014-08-29  61  81\n",
       "2015-06-26  40  88\n",
       "2016-07-12  99  56"
      ]
     },
     "execution_count": 203,
     "metadata": {},
     "output_type": "execute_result"
    }
   ],
   "source": [
    "# automaticamente identifica los diferentes formatos\n",
    "\n",
    "ts3"
   ]
  },
  {
   "cell_type": "code",
   "execution_count": 91,
   "metadata": {},
   "outputs": [
    {
     "data": {
      "text/plain": [
       "<AxesSubplot:>"
      ]
     },
     "execution_count": 91,
     "metadata": {},
     "output_type": "execute_result"
    },
    {
     "data": {
      "image/png": "[encoded data removed]",
      "text/plain": [
       "<Figure size 432x288 with 1 Axes>"
      ]
     },
     "metadata": {
      "needs_background": "light"
     },
     "output_type": "display_data"
    }
   ],
   "source": [
    "ts3.plot()"
   ]
  },
  {
   "cell_type": "markdown",
   "metadata": {
    "colab_type": "text",
    "id": "h4TTXLSd3ueU"
   },
   "source": [
    "### TimeDeltas"
   ]
  },
  {
   "cell_type": "code",
   "execution_count": 116,
   "metadata": {},
   "outputs": [
    {
     "data": {
      "text/plain": [
       "datetime.datetime(2022, 6, 16, 21, 50, 18, 624391)"
      ]
     },
     "execution_count": 116,
     "metadata": {},
     "output_type": "execute_result"
    }
   ],
   "source": [
    "now = dt.now()\n",
    "now"
   ]
  },
  {
   "cell_type": "code",
   "execution_count": 127,
   "metadata": {
    "colab": {
     "autoexec": {
      "startup": false,
      "wait_interval": 0
     }
    },
    "colab_type": "code",
    "id": "gCNoH3rR3ueU",
    "outputId": "a0f828a0-61b6-4936-d041-fcb08f8e2ca9"
   },
   "outputs": [
    {
     "data": {
      "text/plain": [
       "Timedelta('4 days 21:50:18.624391')"
      ]
     },
     "execution_count": 127,
     "metadata": {},
     "output_type": "execute_result"
    }
   ],
   "source": [
    "# mes dia anio\n",
    "now - pd.Timestamp('6/12/2022')"
   ]
  },
  {
   "cell_type": "code",
   "execution_count": 129,
   "metadata": {},
   "outputs": [
    {
     "data": {
      "text/plain": [
       "pandas._libs.tslibs.timestamps.Timestamp"
      ]
     },
     "execution_count": 129,
     "metadata": {},
     "output_type": "execute_result"
    }
   ],
   "source": [
    "type(pd.Timestamp('6/12/2016'))"
   ]
  },
  {
   "cell_type": "code",
   "execution_count": 130,
   "metadata": {},
   "outputs": [],
   "source": [
    "dt2=pd.Timestamp('3/9/2016') - pd.Timestamp('3/8/2016')"
   ]
  },
  {
   "cell_type": "code",
   "execution_count": 131,
   "metadata": {},
   "outputs": [
    {
     "data": {
      "text/plain": [
       "pandas._libs.tslibs.timedeltas.Timedelta"
      ]
     },
     "execution_count": 131,
     "metadata": {},
     "output_type": "execute_result"
    }
   ],
   "source": [
    "type(dt2)"
   ]
  },
  {
   "cell_type": "code",
   "execution_count": 132,
   "metadata": {},
   "outputs": [
    {
     "data": {
      "text/plain": [
       "1"
      ]
     },
     "execution_count": 132,
     "metadata": {},
     "output_type": "execute_result"
    }
   ],
   "source": [
    "dt2.days"
   ]
  },
  {
   "cell_type": "code",
   "execution_count": 144,
   "metadata": {},
   "outputs": [
    {
     "data": {
      "text/plain": [
       "86400.0"
      ]
     },
     "execution_count": 144,
     "metadata": {},
     "output_type": "execute_result"
    }
   ],
   "source": [
    "dt2.total_seconds()"
   ]
  },
  {
   "cell_type": "code",
   "execution_count": 150,
   "metadata": {},
   "outputs": [
    {
     "data": {
      "text/plain": [
       "Timedelta('-106752 days +00:12:43.145224193')"
      ]
     },
     "execution_count": 150,
     "metadata": {},
     "output_type": "execute_result"
    }
   ],
   "source": [
    "dt2.min"
   ]
  },
  {
   "cell_type": "markdown",
   "metadata": {
    "slideshow": {
     "slide_type": "slide"
    }
   },
   "source": [
    "### Pandas Period\n",
    "\n",
    "---\n",
    "\n",
    "En muchos casos es más natural asociar variables a **intervalos de tiempo**. \n",
    "\n",
    "Representamos un intervalo con un objeto de la clase ```Period```, y puede ser instanciado explícitamente o inferido de un string con cierto formato.\n",
    "\n",
    "https://pandas.pydata.org/pandas-docs/stable/reference/api/pandas.Period.html\n"
   ]
  },
  {
   "cell_type": "code",
   "execution_count": 153,
   "metadata": {
    "slideshow": {
     "slide_type": "fragment"
    }
   },
   "outputs": [
    {
     "data": {
      "text/plain": [
       "Period('2011-01', 'M')"
      ]
     },
     "execution_count": 153,
     "metadata": {},
     "output_type": "execute_result"
    }
   ],
   "source": [
    "pd.Period('2011-01')"
   ]
  },
  {
   "cell_type": "code",
   "execution_count": 154,
   "metadata": {
    "slideshow": {
     "slide_type": "fragment"
    }
   },
   "outputs": [
    {
     "data": {
      "text/plain": [
       "Period('2012-05-01', 'D')"
      ]
     },
     "execution_count": 154,
     "metadata": {},
     "output_type": "execute_result"
    }
   ],
   "source": [
    "pd.Period('2012-05', freq='D')"
   ]
  },
  {
   "cell_type": "markdown",
   "metadata": {
    "slideshow": {
     "slide_type": "slide"
    }
   },
   "source": [
    "### Pandas DateTimeIndex y PeriodIndex\n",
    "\n",
    "---\n",
    "\n",
    "Los objetos de tipo ```Timestamp``` y ```Period``` pueden ser índices. \n",
    "\n",
    "Las listas que contienen estos objetos son casteadas automáticamente a objetos de tipo ```DatetimeIndex``` y ```PeriodIndex``` respectivamente.\n",
    "\n",
    "https://pandas.pydata.org/pandas-docs/stable/reference/api/pandas.DatetimeIndex.html\n",
    "\n",
    "https://pandas.pydata.org/pandas-docs/stable/reference/api/pandas.PeriodIndex.html\n"
   ]
  },
  {
   "cell_type": "code",
   "execution_count": 174,
   "metadata": {
    "slideshow": {
     "slide_type": "fragment"
    }
   },
   "outputs": [
    {
     "data": {
      "text/plain": [
       "[Timestamp('2012-05-01 00:00:00'),\n",
       " Timestamp('2012-05-02 00:00:00'),\n",
       " Timestamp('2012-05-03 00:00:00')]"
      ]
     },
     "execution_count": 174,
     "metadata": {},
     "output_type": "execute_result"
    }
   ],
   "source": [
    "dates = [pd.Timestamp('2012-05-01'), pd.Timestamp('2012-05-02'), pd.Timestamp('2012-05-03')]\n",
    "dates"
   ]
  },
  {
   "cell_type": "code",
   "execution_count": 175,
   "metadata": {
    "slideshow": {
     "slide_type": "fragment"
    }
   },
   "outputs": [
    {
     "data": {
      "text/plain": [
       "2012-05-01    10\n",
       "2012-05-02    20\n",
       "2012-05-03    39\n",
       "dtype: int64"
      ]
     },
     "execution_count": 175,
     "metadata": {},
     "output_type": "execute_result"
    }
   ],
   "source": [
    "ts = pd.Series(data = [10, 20, 39], index = dates)\n",
    "ts"
   ]
  },
  {
   "cell_type": "code",
   "execution_count": 176,
   "metadata": {},
   "outputs": [
    {
     "data": {
      "text/plain": [
       "pandas.core.series.Series"
      ]
     },
     "execution_count": 176,
     "metadata": {},
     "output_type": "execute_result"
    }
   ],
   "source": [
    "type(ts)"
   ]
  },
  {
   "cell_type": "code",
   "execution_count": 177,
   "metadata": {
    "slideshow": {
     "slide_type": "fragment"
    }
   },
   "outputs": [
    {
     "data": {
      "text/plain": [
       "DatetimeIndex(['2012-05-01', '2012-05-02', '2012-05-03'], dtype='datetime64[ns]', freq=None)"
      ]
     },
     "execution_count": 177,
     "metadata": {},
     "output_type": "execute_result"
    }
   ],
   "source": [
    "ts.index"
   ]
  },
  {
   "cell_type": "code",
   "execution_count": 74,
   "metadata": {
    "scrolled": true,
    "slideshow": {
     "slide_type": "subslide"
    }
   },
   "outputs": [
    {
     "data": {
      "text/plain": [
       "pandas.core.indexes.datetimes.DatetimeIndex"
      ]
     },
     "execution_count": 74,
     "metadata": {},
     "output_type": "execute_result"
    }
   ],
   "source": [
    "type(ts.index)"
   ]
  },
  {
   "cell_type": "markdown",
   "metadata": {
    "colab_type": "text",
    "id": "7KK9AMm83uei"
   },
   "source": [
    "### Generando fechas con date_range"
   ]
  },
  {
   "cell_type": "code",
   "execution_count": 95,
   "metadata": {
    "colab": {
     "autoexec": {
      "startup": false,
      "wait_interval": 0
     }
    },
    "colab_type": "code",
    "id": "3MnvD70T3uej",
    "outputId": "d52eda1c-7dbc-4ad8-b6be-ee50e83322b7"
   },
   "outputs": [
    {
     "data": {
      "text/plain": [
       "DatetimeIndex(['2017-04-06', '2017-04-07', '2017-04-08', '2017-04-09',\n",
       "               '2017-04-10', '2017-04-11'],\n",
       "              dtype='datetime64[ns]', freq='D')"
      ]
     },
     "execution_count": 95,
     "metadata": {},
     "output_type": "execute_result"
    }
   ],
   "source": [
    "dates = pd.date_range('2017-04-06', periods=6, freq='D')\n",
    "dates"
   ]
  },
  {
   "cell_type": "code",
   "execution_count": 96,
   "metadata": {},
   "outputs": [
    {
     "data": {
      "text/plain": [
       "DatetimeIndex(['2017-12-31', '2018-01-31', '2018-02-28'], dtype='datetime64[ns]', freq='M')"
      ]
     },
     "execution_count": 96,
     "metadata": {},
     "output_type": "execute_result"
    }
   ],
   "source": [
    "dates = pd.date_range('2017-12-31', periods=3, freq='M')\n",
    "dates"
   ]
  },
  {
   "cell_type": "code",
   "execution_count": 97,
   "metadata": {},
   "outputs": [
    {
     "data": {
      "text/plain": [
       "DatetimeIndex(['2017-04-06', '2017-04-20', '2017-05-04', '2017-05-18'], dtype='datetime64[ns]', freq='2W-THU')"
      ]
     },
     "execution_count": 97,
     "metadata": {},
     "output_type": "execute_result"
    }
   ],
   "source": [
    "dates = pd.date_range('2017-04-06', periods=4, freq='2W-THU')\n",
    "dates"
   ]
  },
  {
   "cell_type": "code",
   "execution_count": null,
   "metadata": {},
   "outputs": [],
   "source": []
  },
  {
   "cell_type": "code",
   "execution_count": 256,
   "metadata": {
    "colab": {
     "autoexec": {
      "startup": false,
      "wait_interval": 0
     }
    },
    "colab_type": "code",
    "id": "MbGveUO03uen",
    "outputId": "cf9fdd4e-565c-4858-9dc0-2a2ba341531b"
   },
   "outputs": [
    {
     "data": {
      "text/html": [
       "<div>\n",
       "<style scoped>\n",
       "    .dataframe tbody tr th:only-of-type {\n",
       "        vertical-align: middle;\n",
       "    }\n",
       "\n",
       "    .dataframe tbody tr th {\n",
       "        vertical-align: top;\n",
       "    }\n",
       "\n",
       "    .dataframe thead th {\n",
       "        text-align: right;\n",
       "    }\n",
       "</style>\n",
       "<table border=\"1\" class=\"dataframe\">\n",
       "  <thead>\n",
       "    <tr style=\"text-align: right;\">\n",
       "      <th></th>\n",
       "      <th>a</th>\n",
       "      <th>b</th>\n",
       "    </tr>\n",
       "  </thead>\n",
       "  <tbody>\n",
       "    <tr>\n",
       "      <th>2017-04-06</th>\n",
       "      <td>107</td>\n",
       "      <td>116</td>\n",
       "    </tr>\n",
       "    <tr>\n",
       "      <th>2017-04-07</th>\n",
       "      <td>110</td>\n",
       "      <td>120</td>\n",
       "    </tr>\n",
       "    <tr>\n",
       "      <th>2017-04-08</th>\n",
       "      <td>114</td>\n",
       "      <td>118</td>\n",
       "    </tr>\n",
       "    <tr>\n",
       "      <th>2017-04-09</th>\n",
       "      <td>122</td>\n",
       "      <td>118</td>\n",
       "    </tr>\n",
       "    <tr>\n",
       "      <th>2017-04-10</th>\n",
       "      <td>125</td>\n",
       "      <td>128</td>\n",
       "    </tr>\n",
       "  </tbody>\n",
       "</table>\n",
       "</div>"
      ],
      "text/plain": [
       "              a    b\n",
       "2017-04-06  107  116\n",
       "2017-04-07  110  120\n",
       "2017-04-08  114  118\n",
       "2017-04-09  122  118\n",
       "2017-04-10  125  128"
      ]
     },
     "execution_count": 256,
     "metadata": {},
     "output_type": "execute_result"
    }
   ],
   "source": [
    "dates = pd.date_range('2017-04-06', periods=120, freq='D')\n",
    "\n",
    "df = pd.DataFrame({'a': 100 + np.random.randint(-5, 10, 120).cumsum(),\n",
    "                  'b': 120 + np.random.randint(-5, 10, 120)}, index=dates)\n",
    "df.head()"
   ]
  },
  {
   "cell_type": "code",
   "execution_count": 99,
   "metadata": {
    "colab": {
     "autoexec": {
      "startup": false,
      "wait_interval": 0
     }
    },
    "colab_type": "code",
    "id": "3xkGiFDw3ue4",
    "outputId": "5f376d05-cb1d-4f8c-e110-e828e9be3b8d"
   },
   "outputs": [
    {
     "data": {
      "text/plain": [
       "Int64Index([3, 4, 5, 6, 0, 1, 2, 3, 4, 5,\n",
       "            ...\n",
       "            1, 2, 3, 4, 5, 6, 0, 1, 2, 3],\n",
       "           dtype='int64', length=120)"
      ]
     },
     "execution_count": 99,
     "metadata": {},
     "output_type": "execute_result"
    }
   ],
   "source": [
    "df.index.weekday"
   ]
  },
  {
   "cell_type": "code",
   "execution_count": 100,
   "metadata": {},
   "outputs": [
    {
     "data": {
      "text/html": [
       "<div>\n",
       "<style scoped>\n",
       "    .dataframe tbody tr th:only-of-type {\n",
       "        vertical-align: middle;\n",
       "    }\n",
       "\n",
       "    .dataframe tbody tr th {\n",
       "        vertical-align: top;\n",
       "    }\n",
       "\n",
       "    .dataframe thead th {\n",
       "        text-align: right;\n",
       "    }\n",
       "</style>\n",
       "<table border=\"1\" class=\"dataframe\">\n",
       "  <thead>\n",
       "    <tr style=\"text-align: right;\">\n",
       "      <th></th>\n",
       "      <th>a</th>\n",
       "      <th>b</th>\n",
       "    </tr>\n",
       "  </thead>\n",
       "  <tbody>\n",
       "    <tr>\n",
       "      <th>2017-04-10</th>\n",
       "      <td>116</td>\n",
       "      <td>126</td>\n",
       "    </tr>\n",
       "    <tr>\n",
       "      <th>2017-04-17</th>\n",
       "      <td>131</td>\n",
       "      <td>129</td>\n",
       "    </tr>\n",
       "    <tr>\n",
       "      <th>2017-04-24</th>\n",
       "      <td>150</td>\n",
       "      <td>128</td>\n",
       "    </tr>\n",
       "    <tr>\n",
       "      <th>2017-05-01</th>\n",
       "      <td>165</td>\n",
       "      <td>123</td>\n",
       "    </tr>\n",
       "    <tr>\n",
       "      <th>2017-05-08</th>\n",
       "      <td>173</td>\n",
       "      <td>122</td>\n",
       "    </tr>\n",
       "    <tr>\n",
       "      <th>2017-05-15</th>\n",
       "      <td>170</td>\n",
       "      <td>124</td>\n",
       "    </tr>\n",
       "    <tr>\n",
       "      <th>2017-05-22</th>\n",
       "      <td>184</td>\n",
       "      <td>115</td>\n",
       "    </tr>\n",
       "    <tr>\n",
       "      <th>2017-05-29</th>\n",
       "      <td>226</td>\n",
       "      <td>125</td>\n",
       "    </tr>\n",
       "    <tr>\n",
       "      <th>2017-06-05</th>\n",
       "      <td>253</td>\n",
       "      <td>115</td>\n",
       "    </tr>\n",
       "    <tr>\n",
       "      <th>2017-06-12</th>\n",
       "      <td>272</td>\n",
       "      <td>115</td>\n",
       "    </tr>\n",
       "    <tr>\n",
       "      <th>2017-06-19</th>\n",
       "      <td>305</td>\n",
       "      <td>124</td>\n",
       "    </tr>\n",
       "    <tr>\n",
       "      <th>2017-06-26</th>\n",
       "      <td>331</td>\n",
       "      <td>120</td>\n",
       "    </tr>\n",
       "    <tr>\n",
       "      <th>2017-07-03</th>\n",
       "      <td>318</td>\n",
       "      <td>123</td>\n",
       "    </tr>\n",
       "    <tr>\n",
       "      <th>2017-07-10</th>\n",
       "      <td>334</td>\n",
       "      <td>123</td>\n",
       "    </tr>\n",
       "    <tr>\n",
       "      <th>2017-07-17</th>\n",
       "      <td>339</td>\n",
       "      <td>118</td>\n",
       "    </tr>\n",
       "    <tr>\n",
       "      <th>2017-07-24</th>\n",
       "      <td>359</td>\n",
       "      <td>115</td>\n",
       "    </tr>\n",
       "    <tr>\n",
       "      <th>2017-07-31</th>\n",
       "      <td>386</td>\n",
       "      <td>124</td>\n",
       "    </tr>\n",
       "  </tbody>\n",
       "</table>\n",
       "</div>"
      ],
      "text/plain": [
       "              a    b\n",
       "2017-04-10  116  126\n",
       "2017-04-17  131  129\n",
       "2017-04-24  150  128\n",
       "2017-05-01  165  123\n",
       "2017-05-08  173  122\n",
       "2017-05-15  170  124\n",
       "2017-05-22  184  115\n",
       "2017-05-29  226  125\n",
       "2017-06-05  253  115\n",
       "2017-06-12  272  115\n",
       "2017-06-19  305  124\n",
       "2017-06-26  331  120\n",
       "2017-07-03  318  123\n",
       "2017-07-10  334  123\n",
       "2017-07-17  339  118\n",
       "2017-07-24  359  115\n",
       "2017-07-31  386  124"
      ]
     },
     "execution_count": 100,
     "metadata": {},
     "output_type": "execute_result"
    }
   ],
   "source": [
    "df[ df.index.weekday==0 ]"
   ]
  },
  {
   "cell_type": "code",
   "execution_count": 101,
   "metadata": {
    "colab": {
     "autoexec": {
      "startup": false,
      "wait_interval": 0
     }
    },
    "colab_type": "code",
    "id": "z8G3JKK-3ue8",
    "outputId": "75a5b5b7-baf4-4b6f-f636-20c08ae6dd12"
   },
   "outputs": [
    {
     "data": {
      "text/html": [
       "<div>\n",
       "<style scoped>\n",
       "    .dataframe tbody tr th:only-of-type {\n",
       "        vertical-align: middle;\n",
       "    }\n",
       "\n",
       "    .dataframe tbody tr th {\n",
       "        vertical-align: top;\n",
       "    }\n",
       "\n",
       "    .dataframe thead th {\n",
       "        text-align: right;\n",
       "    }\n",
       "</style>\n",
       "<table border=\"1\" class=\"dataframe\">\n",
       "  <thead>\n",
       "    <tr style=\"text-align: right;\">\n",
       "      <th></th>\n",
       "      <th>a</th>\n",
       "      <th>b</th>\n",
       "    </tr>\n",
       "  </thead>\n",
       "  <tbody>\n",
       "    <tr>\n",
       "      <th>2017-05-01</th>\n",
       "      <td>165</td>\n",
       "      <td>123</td>\n",
       "    </tr>\n",
       "    <tr>\n",
       "      <th>2017-05-08</th>\n",
       "      <td>173</td>\n",
       "      <td>122</td>\n",
       "    </tr>\n",
       "    <tr>\n",
       "      <th>2017-05-15</th>\n",
       "      <td>170</td>\n",
       "      <td>124</td>\n",
       "    </tr>\n",
       "    <tr>\n",
       "      <th>2017-05-22</th>\n",
       "      <td>184</td>\n",
       "      <td>115</td>\n",
       "    </tr>\n",
       "    <tr>\n",
       "      <th>2017-05-29</th>\n",
       "      <td>226</td>\n",
       "      <td>125</td>\n",
       "    </tr>\n",
       "  </tbody>\n",
       "</table>\n",
       "</div>"
      ],
      "text/plain": [
       "              a    b\n",
       "2017-05-01  165  123\n",
       "2017-05-08  173  122\n",
       "2017-05-15  170  124\n",
       "2017-05-22  184  115\n",
       "2017-05-29  226  125"
      ]
     },
     "execution_count": 101,
     "metadata": {},
     "output_type": "execute_result"
    }
   ],
   "source": [
    "df.loc['2017-05'] [ df.loc['2017-05'].index.weekday==0 ]"
   ]
  },
  {
   "cell_type": "code",
   "execution_count": 257,
   "metadata": {},
   "outputs": [
    {
     "data": {
      "text/html": [
       "<div>\n",
       "<style scoped>\n",
       "    .dataframe tbody tr th:only-of-type {\n",
       "        vertical-align: middle;\n",
       "    }\n",
       "\n",
       "    .dataframe tbody tr th {\n",
       "        vertical-align: top;\n",
       "    }\n",
       "\n",
       "    .dataframe thead th {\n",
       "        text-align: right;\n",
       "    }\n",
       "</style>\n",
       "<table border=\"1\" class=\"dataframe\">\n",
       "  <thead>\n",
       "    <tr style=\"text-align: right;\">\n",
       "      <th></th>\n",
       "      <th>a</th>\n",
       "      <th>b</th>\n",
       "    </tr>\n",
       "  </thead>\n",
       "  <tbody>\n",
       "    <tr>\n",
       "      <th>2017-05-01</th>\n",
       "      <td>139</td>\n",
       "      <td>128</td>\n",
       "    </tr>\n",
       "    <tr>\n",
       "      <th>2017-05-08</th>\n",
       "      <td>138</td>\n",
       "      <td>127</td>\n",
       "    </tr>\n",
       "    <tr>\n",
       "      <th>2017-05-15</th>\n",
       "      <td>159</td>\n",
       "      <td>118</td>\n",
       "    </tr>\n",
       "    <tr>\n",
       "      <th>2017-05-22</th>\n",
       "      <td>155</td>\n",
       "      <td>117</td>\n",
       "    </tr>\n",
       "    <tr>\n",
       "      <th>2017-05-29</th>\n",
       "      <td>160</td>\n",
       "      <td>126</td>\n",
       "    </tr>\n",
       "  </tbody>\n",
       "</table>\n",
       "</div>"
      ],
      "text/plain": [
       "              a    b\n",
       "2017-05-01  139  128\n",
       "2017-05-08  138  127\n",
       "2017-05-15  159  118\n",
       "2017-05-22  155  117\n",
       "2017-05-29  160  126"
      ]
     },
     "execution_count": 257,
     "metadata": {},
     "output_type": "execute_result"
    }
   ],
   "source": [
    "df[ (df.index.weekday==0) & (df.index.month==5) ]"
   ]
  },
  {
   "cell_type": "code",
   "execution_count": 103,
   "metadata": {},
   "outputs": [
    {
     "data": {
      "text/html": [
       "<div>\n",
       "<style scoped>\n",
       "    .dataframe tbody tr th:only-of-type {\n",
       "        vertical-align: middle;\n",
       "    }\n",
       "\n",
       "    .dataframe tbody tr th {\n",
       "        vertical-align: top;\n",
       "    }\n",
       "\n",
       "    .dataframe thead th {\n",
       "        text-align: right;\n",
       "    }\n",
       "</style>\n",
       "<table border=\"1\" class=\"dataframe\">\n",
       "  <thead>\n",
       "    <tr style=\"text-align: right;\">\n",
       "      <th></th>\n",
       "      <th>a</th>\n",
       "      <th>b</th>\n",
       "    </tr>\n",
       "  </thead>\n",
       "  <tbody>\n",
       "  </tbody>\n",
       "</table>\n",
       "</div>"
      ],
      "text/plain": [
       "Empty DataFrame\n",
       "Columns: [a, b]\n",
       "Index: []"
      ]
     },
     "execution_count": 103,
     "metadata": {},
     "output_type": "execute_result"
    }
   ],
   "source": [
    "df[(df.index.weekday==0)&((df.index.month=='May'))]"
   ]
  },
  {
   "cell_type": "code",
   "execution_count": 260,
   "metadata": {},
   "outputs": [
    {
     "data": {
      "text/plain": [
       "Int64Index([3, 4, 5, 6, 0, 1, 2, 3, 4, 5,\n",
       "            ...\n",
       "            1, 2, 3, 4, 5, 6, 0, 1, 2, 3],\n",
       "           dtype='int64', length=120)"
      ]
     },
     "execution_count": 260,
     "metadata": {},
     "output_type": "execute_result"
    }
   ],
   "source": [
    "df.index.weekday"
   ]
  },
  {
   "cell_type": "code",
   "execution_count": 258,
   "metadata": {},
   "outputs": [
    {
     "data": {
      "text/plain": [
       "Index(['Thursday', 'Friday', 'Saturday', 'Sunday', 'Monday', 'Tuesday',\n",
       "       'Wednesday', 'Thursday', 'Friday', 'Saturday',\n",
       "       ...\n",
       "       'Tuesday', 'Wednesday', 'Thursday', 'Friday', 'Saturday', 'Sunday',\n",
       "       'Monday', 'Tuesday', 'Wednesday', 'Thursday'],\n",
       "      dtype='object', length=120)"
      ]
     },
     "execution_count": 258,
     "metadata": {},
     "output_type": "execute_result"
    }
   ],
   "source": [
    "df.index.day_name()"
   ]
  },
  {
   "cell_type": "code",
   "execution_count": 105,
   "metadata": {},
   "outputs": [
    {
     "data": {
      "text/plain": [
       "Index(['Monday', 'Monday', 'Monday', 'Monday', 'Monday'], dtype='object')"
      ]
     },
     "execution_count": 105,
     "metadata": {},
     "output_type": "execute_result"
    }
   ],
   "source": [
    "df[(df.index.weekday==0)&((df.index.month==5))].index.day_name()"
   ]
  },
  {
   "cell_type": "markdown",
   "metadata": {},
   "source": [
    "# Manipulando una columna de tipo datetime"
   ]
  },
  {
   "cell_type": "code",
   "execution_count": 261,
   "metadata": {},
   "outputs": [],
   "source": [
    "sd=pd.Series(dates)"
   ]
  },
  {
   "cell_type": "code",
   "execution_count": 262,
   "metadata": {},
   "outputs": [
    {
     "data": {
      "text/plain": [
       "0     2017-04-06\n",
       "1     2017-04-07\n",
       "2     2017-04-08\n",
       "3     2017-04-09\n",
       "4     2017-04-10\n",
       "         ...    \n",
       "115   2017-07-30\n",
       "116   2017-07-31\n",
       "117   2017-08-01\n",
       "118   2017-08-02\n",
       "119   2017-08-03\n",
       "Length: 120, dtype: datetime64[ns]"
      ]
     },
     "execution_count": 262,
     "metadata": {},
     "output_type": "execute_result"
    }
   ],
   "source": [
    "sd"
   ]
  },
  {
   "cell_type": "code",
   "execution_count": 264,
   "metadata": {},
   "outputs": [
    {
     "data": {
      "text/html": [
       "<div>\n",
       "<style scoped>\n",
       "    .dataframe tbody tr th:only-of-type {\n",
       "        vertical-align: middle;\n",
       "    }\n",
       "\n",
       "    .dataframe tbody tr th {\n",
       "        vertical-align: top;\n",
       "    }\n",
       "\n",
       "    .dataframe thead th {\n",
       "        text-align: right;\n",
       "    }\n",
       "</style>\n",
       "<table border=\"1\" class=\"dataframe\">\n",
       "  <thead>\n",
       "    <tr style=\"text-align: right;\">\n",
       "      <th></th>\n",
       "      <th>year</th>\n",
       "      <th>week</th>\n",
       "      <th>day</th>\n",
       "    </tr>\n",
       "  </thead>\n",
       "  <tbody>\n",
       "    <tr>\n",
       "      <th>0</th>\n",
       "      <td>2017</td>\n",
       "      <td>14</td>\n",
       "      <td>4</td>\n",
       "    </tr>\n",
       "    <tr>\n",
       "      <th>1</th>\n",
       "      <td>2017</td>\n",
       "      <td>14</td>\n",
       "      <td>5</td>\n",
       "    </tr>\n",
       "    <tr>\n",
       "      <th>2</th>\n",
       "      <td>2017</td>\n",
       "      <td>14</td>\n",
       "      <td>6</td>\n",
       "    </tr>\n",
       "    <tr>\n",
       "      <th>3</th>\n",
       "      <td>2017</td>\n",
       "      <td>14</td>\n",
       "      <td>7</td>\n",
       "    </tr>\n",
       "    <tr>\n",
       "      <th>4</th>\n",
       "      <td>2017</td>\n",
       "      <td>15</td>\n",
       "      <td>1</td>\n",
       "    </tr>\n",
       "    <tr>\n",
       "      <th>...</th>\n",
       "      <td>...</td>\n",
       "      <td>...</td>\n",
       "      <td>...</td>\n",
       "    </tr>\n",
       "    <tr>\n",
       "      <th>115</th>\n",
       "      <td>2017</td>\n",
       "      <td>30</td>\n",
       "      <td>7</td>\n",
       "    </tr>\n",
       "    <tr>\n",
       "      <th>116</th>\n",
       "      <td>2017</td>\n",
       "      <td>31</td>\n",
       "      <td>1</td>\n",
       "    </tr>\n",
       "    <tr>\n",
       "      <th>117</th>\n",
       "      <td>2017</td>\n",
       "      <td>31</td>\n",
       "      <td>2</td>\n",
       "    </tr>\n",
       "    <tr>\n",
       "      <th>118</th>\n",
       "      <td>2017</td>\n",
       "      <td>31</td>\n",
       "      <td>3</td>\n",
       "    </tr>\n",
       "    <tr>\n",
       "      <th>119</th>\n",
       "      <td>2017</td>\n",
       "      <td>31</td>\n",
       "      <td>4</td>\n",
       "    </tr>\n",
       "  </tbody>\n",
       "</table>\n",
       "<p>120 rows × 3 columns</p>\n",
       "</div>"
      ],
      "text/plain": [
       "     year  week  day\n",
       "0    2017    14    4\n",
       "1    2017    14    5\n",
       "2    2017    14    6\n",
       "3    2017    14    7\n",
       "4    2017    15    1\n",
       "..    ...   ...  ...\n",
       "115  2017    30    7\n",
       "116  2017    31    1\n",
       "117  2017    31    2\n",
       "118  2017    31    3\n",
       "119  2017    31    4\n",
       "\n",
       "[120 rows x 3 columns]"
      ]
     },
     "execution_count": 264,
     "metadata": {},
     "output_type": "execute_result"
    }
   ],
   "source": [
    "sd.dt.isocalendar()"
   ]
  },
  {
   "cell_type": "code",
   "execution_count": 109,
   "metadata": {},
   "outputs": [
    {
     "data": {
      "text/plain": [
       "0       Thursday\n",
       "1         Friday\n",
       "2       Saturday\n",
       "3         Sunday\n",
       "4         Monday\n",
       "         ...    \n",
       "115       Sunday\n",
       "116       Monday\n",
       "117      Tuesday\n",
       "118    Wednesday\n",
       "119     Thursday\n",
       "Length: 120, dtype: object"
      ]
     },
     "execution_count": 109,
     "metadata": {},
     "output_type": "execute_result"
    }
   ],
   "source": [
    "sd.dt.day_name()"
   ]
  },
  {
   "cell_type": "markdown",
   "metadata": {},
   "source": [
    "<img src=\"https://raw.githubusercontent.com/Digital-House-DATA/ds_blend_2021_img/master/M2/CLASE_12_DataWrangling/Presentacion/img/M2_CLASE_12_datetime_format.png\" align=\"center\"></img>\n",
    "\n"
   ]
  },
  {
   "cell_type": "code",
   "execution_count": 265,
   "metadata": {},
   "outputs": [
    {
     "data": {
      "text/plain": [
       "0        dia: Thursday de April\n",
       "1          dia: Friday de April\n",
       "2        dia: Saturday de April\n",
       "3          dia: Sunday de April\n",
       "4          dia: Monday de April\n",
       "                 ...           \n",
       "115         dia: Sunday de July\n",
       "116         dia: Monday de July\n",
       "117      dia: Tuesday de August\n",
       "118    dia: Wednesday de August\n",
       "119     dia: Thursday de August\n",
       "Length: 120, dtype: object"
      ]
     },
     "execution_count": 265,
     "metadata": {},
     "output_type": "execute_result"
    }
   ],
   "source": [
    "# transformar a texto con el formato que quieras\n",
    "\n",
    "sd.dt.strftime('dia: %A de %B')"
   ]
  },
  {
   "cell_type": "markdown",
   "metadata": {
    "slideshow": {
     "slide_type": "slide"
    }
   },
   "source": [
    "<div class=\"div-dhds-fondo-1\"> Referencias\n",
    "\n",
    "<img src=\"https://raw.githubusercontent.com/Digital-House-DATA/ds_blend_2021_img/master/M2/CLASE_12_DataWrangling/Presentacion/img/M2_CLASE_12_separador.png\" align=\"center\"></img>    \n",
    "</div>\n"
   ]
  },
  {
   "cell_type": "markdown",
   "metadata": {
    "slideshow": {
     "slide_type": "slide"
    }
   },
   "source": [
    "### Referencias\n",
    "\n",
    "---\n",
    "\n",
    "DataFrame.replace\n",
    "\n",
    "https://pandas.pydata.org/pandas-docs/stable/reference/api/pandas.DataFrame.replace.html\n",
    "\n",
    "Series.map\n",
    "\n",
    "https://pandas.pydata.org/pandas-docs/stable/reference/api/pandas.Series.map.html\n",
    "\n",
    "cut\n",
    "\n",
    "https://pandas.pydata.org/pandas-docs/stable/reference/api/pandas.cut.html\n",
    "\n",
    "\n",
    "Timestamp\n",
    "\n",
    "https://pandas.pydata.org/pandas-docs/stable/reference/api/pandas.Timestamp.html\n",
    "\n",
    "Period\n",
    "\n",
    "https://pandas.pydata.org/pandas-docs/stable/reference/api/pandas.Period.html\n",
    "\n"
   ]
  },
  {
   "cell_type": "markdown",
   "metadata": {
    "slideshow": {
     "slide_type": "slide"
    }
   },
   "source": [
    "<div class=\"div-dhds-fondo-1\"> Hands-on\n",
    "\n",
    "<img src=\"https://raw.githubusercontent.com/Digital-House-DATA/ds_blend_2021_img/master/M2/CLASE_12_DataWrangling/Presentacion/img/M2_CLASE_12_separador.png\" align=\"center\"></img>    \n",
    "</div>\n"
   ]
  },
  {
   "cell_type": "markdown",
   "metadata": {
    "slideshow": {
     "slide_type": "slide"
    }
   },
   "source": [
    "Dado el dataset `data` que tiene como columnas\n",
    "\n",
    "* A de tipo numérico entre 0 y 100\n",
    "\n",
    "* B de tipo numérico que representa un timestamp\n"
   ]
  },
  {
   "cell_type": "code",
   "execution_count": 111,
   "metadata": {
    "slideshow": {
     "slide_type": "subslide"
    }
   },
   "outputs": [
    {
     "data": {
      "text/html": [
       "<div>\n",
       "<style scoped>\n",
       "    .dataframe tbody tr th:only-of-type {\n",
       "        vertical-align: middle;\n",
       "    }\n",
       "\n",
       "    .dataframe tbody tr th {\n",
       "        vertical-align: top;\n",
       "    }\n",
       "\n",
       "    .dataframe thead th {\n",
       "        text-align: right;\n",
       "    }\n",
       "</style>\n",
       "<table border=\"1\" class=\"dataframe\">\n",
       "  <thead>\n",
       "    <tr style=\"text-align: right;\">\n",
       "      <th></th>\n",
       "      <th>A</th>\n",
       "      <th>B</th>\n",
       "    </tr>\n",
       "  </thead>\n",
       "  <tbody>\n",
       "    <tr>\n",
       "      <th>0</th>\n",
       "      <td>22</td>\n",
       "      <td>1607829710</td>\n",
       "    </tr>\n",
       "    <tr>\n",
       "      <th>1</th>\n",
       "      <td>18</td>\n",
       "      <td>1612560728</td>\n",
       "    </tr>\n",
       "    <tr>\n",
       "      <th>2</th>\n",
       "      <td>39</td>\n",
       "      <td>1607065620</td>\n",
       "    </tr>\n",
       "    <tr>\n",
       "      <th>3</th>\n",
       "      <td>7</td>\n",
       "      <td>1605363752</td>\n",
       "    </tr>\n",
       "    <tr>\n",
       "      <th>4</th>\n",
       "      <td>38</td>\n",
       "      <td>1622923735</td>\n",
       "    </tr>\n",
       "  </tbody>\n",
       "</table>\n",
       "</div>"
      ],
      "text/plain": [
       "    A           B\n",
       "0  22  1607829710\n",
       "1  18  1612560728\n",
       "2  39  1607065620\n",
       "3   7  1605363752\n",
       "4  38  1622923735"
      ]
     },
     "execution_count": 111,
     "metadata": {},
     "output_type": "execute_result"
    }
   ],
   "source": [
    "# creamos data:\n",
    "\n",
    "from datetime import datetime as dt \n",
    "\n",
    "one_year = pd.DateOffset(years=1)\n",
    "\n",
    "max_b = dt.now()\n",
    "\n",
    "max_b_timestamp = datetime.timestamp(max_b)\n",
    "\n",
    "min_b = max_b - one_year\n",
    "\n",
    "min_b_timestamp = datetime.timestamp(min_b)\n",
    "\n",
    "#print(min_b_timestamp)\n",
    "\n",
    "#print(max_b_timestamp)\n",
    "\n",
    "seconds_in_one_year = max_b_timestamp - min_b_timestamp\n",
    "\n",
    "seconds_in_one_year == 60 * 60 * 24 * 366 # 2020 fue bisiesto\n",
    "\n",
    "rng = np.random.default_rng()\n",
    "\n",
    "a_values = rng.integers(low = 0, high = 100, size = 30)\n",
    "\n",
    "b_values = rng.integers(low = min_b_timestamp, high = max_b_timestamp, size = 30)\n",
    "\n",
    "data = pd.DataFrame({'A':a_values, 'B': b_values})\n",
    "data.head(5)\n",
    "\n"
   ]
  },
  {
   "cell_type": "markdown",
   "metadata": {
    "slideshow": {
     "slide_type": "subslide"
    }
   },
   "source": [
    "### Ejercicio 1\n",
    "\n",
    "Agregar al dataset una columna `C`, de tipo categórica, definida en base a los valores de `A`, con las categorías asociadas a los intervalos de límites 0, 30, 40, 50, 60, 100, y con etiquetas 'muy poco', 'poco', 'normal', 'mucho', 'demasiado' \n",
    "\n",
    "### Ejercicio 2\n",
    "\n",
    "Convertir la variable categórica creada `C`, en variables dummies y crear un nuevo dataset `data_with_dummies` que resulte de combinar los datos de `data` con las variables dummies \n",
    "\n",
    "\n",
    "### Ejercicio 3\n",
    "\n",
    "Convertir la variable B en tipo datetime, y luego en un string con este formato '2021-02-22' donde representamos el año con 4 dígitos, el mes con 2, y el día con 2.\n",
    "\n",
    "Crear la columna `D` con el resultado de convertir la variable `B` en string.\n",
    "\n",
    "Sugerencia:\n",
    "\n",
    "Pueden consultar la documentacion https://pandas.pydata.org/pandas-docs/stable/reference/api/pandas.to_datetime.html\n"
   ]
  },
  {
   "cell_type": "markdown",
   "metadata": {
    "slideshow": {
     "slide_type": "slide"
    }
   },
   "source": [
    "### Solución\n",
    "\n",
    "---\n"
   ]
  },
  {
   "cell_type": "markdown",
   "metadata": {
    "slideshow": {
     "slide_type": "slide"
    }
   },
   "source": [
    "### Ejercicio 1"
   ]
  },
  {
   "cell_type": "code",
   "execution_count": 112,
   "metadata": {
    "slideshow": {
     "slide_type": "fragment"
    }
   },
   "outputs": [
    {
     "data": {
      "text/html": [
       "<div>\n",
       "<style scoped>\n",
       "    .dataframe tbody tr th:only-of-type {\n",
       "        vertical-align: middle;\n",
       "    }\n",
       "\n",
       "    .dataframe tbody tr th {\n",
       "        vertical-align: top;\n",
       "    }\n",
       "\n",
       "    .dataframe thead th {\n",
       "        text-align: right;\n",
       "    }\n",
       "</style>\n",
       "<table border=\"1\" class=\"dataframe\">\n",
       "  <thead>\n",
       "    <tr style=\"text-align: right;\">\n",
       "      <th></th>\n",
       "      <th>A</th>\n",
       "      <th>B</th>\n",
       "      <th>C</th>\n",
       "    </tr>\n",
       "  </thead>\n",
       "  <tbody>\n",
       "    <tr>\n",
       "      <th>19</th>\n",
       "      <td>94</td>\n",
       "      <td>1607181123</td>\n",
       "      <td>demasiado</td>\n",
       "    </tr>\n",
       "    <tr>\n",
       "      <th>0</th>\n",
       "      <td>22</td>\n",
       "      <td>1607829710</td>\n",
       "      <td>muy poco</td>\n",
       "    </tr>\n",
       "    <tr>\n",
       "      <th>17</th>\n",
       "      <td>62</td>\n",
       "      <td>1603019866</td>\n",
       "      <td>demasiado</td>\n",
       "    </tr>\n",
       "    <tr>\n",
       "      <th>10</th>\n",
       "      <td>10</td>\n",
       "      <td>1614083611</td>\n",
       "      <td>muy poco</td>\n",
       "    </tr>\n",
       "    <tr>\n",
       "      <th>20</th>\n",
       "      <td>82</td>\n",
       "      <td>1600733765</td>\n",
       "      <td>demasiado</td>\n",
       "    </tr>\n",
       "  </tbody>\n",
       "</table>\n",
       "</div>"
      ],
      "text/plain": [
       "     A           B          C\n",
       "19  94  1607181123  demasiado\n",
       "0   22  1607829710   muy poco\n",
       "17  62  1603019866  demasiado\n",
       "10  10  1614083611   muy poco\n",
       "20  82  1600733765  demasiado"
      ]
     },
     "execution_count": 112,
     "metadata": {},
     "output_type": "execute_result"
    }
   ],
   "source": [
    "bins = [0, 30, 40, 50, 60, 100]\n",
    "\n",
    "group_labels = ['muy poco', 'poco', 'normal', 'mucho', 'demasiado' ]\n",
    "\n",
    "A_categories_labels = pd.cut(data.A, bins, labels = group_labels)\n",
    "\n",
    "data['C'] = A_categories_labels\n",
    "\n",
    "data.sample(5)"
   ]
  },
  {
   "cell_type": "markdown",
   "metadata": {
    "slideshow": {
     "slide_type": "slide"
    }
   },
   "source": [
    "### Ejercicio 2"
   ]
  },
  {
   "cell_type": "code",
   "execution_count": 113,
   "metadata": {
    "slideshow": {
     "slide_type": "fragment"
    }
   },
   "outputs": [
    {
     "data": {
      "text/html": [
       "<div>\n",
       "<style scoped>\n",
       "    .dataframe tbody tr th:only-of-type {\n",
       "        vertical-align: middle;\n",
       "    }\n",
       "\n",
       "    .dataframe tbody tr th {\n",
       "        vertical-align: top;\n",
       "    }\n",
       "\n",
       "    .dataframe thead th {\n",
       "        text-align: right;\n",
       "    }\n",
       "</style>\n",
       "<table border=\"1\" class=\"dataframe\">\n",
       "  <thead>\n",
       "    <tr style=\"text-align: right;\">\n",
       "      <th></th>\n",
       "      <th>A</th>\n",
       "      <th>B</th>\n",
       "      <th>C</th>\n",
       "      <th>C_poco</th>\n",
       "      <th>C_normal</th>\n",
       "      <th>C_mucho</th>\n",
       "      <th>C_demasiado</th>\n",
       "    </tr>\n",
       "  </thead>\n",
       "  <tbody>\n",
       "    <tr>\n",
       "      <th>29</th>\n",
       "      <td>26</td>\n",
       "      <td>1606429242</td>\n",
       "      <td>muy poco</td>\n",
       "      <td>0</td>\n",
       "      <td>0</td>\n",
       "      <td>0</td>\n",
       "      <td>0</td>\n",
       "    </tr>\n",
       "    <tr>\n",
       "      <th>13</th>\n",
       "      <td>19</td>\n",
       "      <td>1614460280</td>\n",
       "      <td>muy poco</td>\n",
       "      <td>0</td>\n",
       "      <td>0</td>\n",
       "      <td>0</td>\n",
       "      <td>0</td>\n",
       "    </tr>\n",
       "    <tr>\n",
       "      <th>14</th>\n",
       "      <td>27</td>\n",
       "      <td>1619210185</td>\n",
       "      <td>muy poco</td>\n",
       "      <td>0</td>\n",
       "      <td>0</td>\n",
       "      <td>0</td>\n",
       "      <td>0</td>\n",
       "    </tr>\n",
       "    <tr>\n",
       "      <th>16</th>\n",
       "      <td>0</td>\n",
       "      <td>1606990986</td>\n",
       "      <td>NaN</td>\n",
       "      <td>0</td>\n",
       "      <td>0</td>\n",
       "      <td>0</td>\n",
       "      <td>0</td>\n",
       "    </tr>\n",
       "    <tr>\n",
       "      <th>15</th>\n",
       "      <td>21</td>\n",
       "      <td>1599207372</td>\n",
       "      <td>muy poco</td>\n",
       "      <td>0</td>\n",
       "      <td>0</td>\n",
       "      <td>0</td>\n",
       "      <td>0</td>\n",
       "    </tr>\n",
       "  </tbody>\n",
       "</table>\n",
       "</div>"
      ],
      "text/plain": [
       "     A           B         C  C_poco  C_normal  C_mucho  C_demasiado\n",
       "29  26  1606429242  muy poco       0         0        0            0\n",
       "13  19  1614460280  muy poco       0         0        0            0\n",
       "14  27  1619210185  muy poco       0         0        0            0\n",
       "16   0  1606990986       NaN       0         0        0            0\n",
       "15  21  1599207372  muy poco       0         0        0            0"
      ]
     },
     "execution_count": 113,
     "metadata": {},
     "output_type": "execute_result"
    }
   ],
   "source": [
    "C_dummies = pd.get_dummies(data.C, drop_first = True, prefix = 'C')\n",
    "data_with_dummies = pd.concat([data, C_dummies], axis = 1)\n",
    "data_with_dummies.sample(5)"
   ]
  },
  {
   "cell_type": "markdown",
   "metadata": {
    "slideshow": {
     "slide_type": "slide"
    }
   },
   "source": [
    "### Ejercicio 3"
   ]
  },
  {
   "cell_type": "code",
   "execution_count": 114,
   "metadata": {
    "slideshow": {
     "slide_type": "fragment"
    }
   },
   "outputs": [
    {
     "data": {
      "text/html": [
       "<div>\n",
       "<style scoped>\n",
       "    .dataframe tbody tr th:only-of-type {\n",
       "        vertical-align: middle;\n",
       "    }\n",
       "\n",
       "    .dataframe tbody tr th {\n",
       "        vertical-align: top;\n",
       "    }\n",
       "\n",
       "    .dataframe thead th {\n",
       "        text-align: right;\n",
       "    }\n",
       "</style>\n",
       "<table border=\"1\" class=\"dataframe\">\n",
       "  <thead>\n",
       "    <tr style=\"text-align: right;\">\n",
       "      <th></th>\n",
       "      <th>A</th>\n",
       "      <th>B</th>\n",
       "      <th>C</th>\n",
       "      <th>C_poco</th>\n",
       "      <th>C_normal</th>\n",
       "      <th>C_mucho</th>\n",
       "      <th>C_demasiado</th>\n",
       "      <th>D</th>\n",
       "    </tr>\n",
       "  </thead>\n",
       "  <tbody>\n",
       "    <tr>\n",
       "      <th>0</th>\n",
       "      <td>22</td>\n",
       "      <td>1607829710</td>\n",
       "      <td>muy poco</td>\n",
       "      <td>0</td>\n",
       "      <td>0</td>\n",
       "      <td>0</td>\n",
       "      <td>0</td>\n",
       "      <td>2020-12-13</td>\n",
       "    </tr>\n",
       "    <tr>\n",
       "      <th>1</th>\n",
       "      <td>18</td>\n",
       "      <td>1612560728</td>\n",
       "      <td>muy poco</td>\n",
       "      <td>0</td>\n",
       "      <td>0</td>\n",
       "      <td>0</td>\n",
       "      <td>0</td>\n",
       "      <td>2021-02-05</td>\n",
       "    </tr>\n",
       "    <tr>\n",
       "      <th>2</th>\n",
       "      <td>39</td>\n",
       "      <td>1607065620</td>\n",
       "      <td>poco</td>\n",
       "      <td>1</td>\n",
       "      <td>0</td>\n",
       "      <td>0</td>\n",
       "      <td>0</td>\n",
       "      <td>2020-12-04</td>\n",
       "    </tr>\n",
       "    <tr>\n",
       "      <th>3</th>\n",
       "      <td>7</td>\n",
       "      <td>1605363752</td>\n",
       "      <td>muy poco</td>\n",
       "      <td>0</td>\n",
       "      <td>0</td>\n",
       "      <td>0</td>\n",
       "      <td>0</td>\n",
       "      <td>2020-11-14</td>\n",
       "    </tr>\n",
       "    <tr>\n",
       "      <th>4</th>\n",
       "      <td>38</td>\n",
       "      <td>1622923735</td>\n",
       "      <td>poco</td>\n",
       "      <td>1</td>\n",
       "      <td>0</td>\n",
       "      <td>0</td>\n",
       "      <td>0</td>\n",
       "      <td>2021-06-05</td>\n",
       "    </tr>\n",
       "  </tbody>\n",
       "</table>\n",
       "</div>"
      ],
      "text/plain": [
       "    A           B         C  C_poco  C_normal  C_mucho  C_demasiado  \\\n",
       "0  22  1607829710  muy poco       0         0        0            0   \n",
       "1  18  1612560728  muy poco       0         0        0            0   \n",
       "2  39  1607065620      poco       1         0        0            0   \n",
       "3   7  1605363752  muy poco       0         0        0            0   \n",
       "4  38  1622923735      poco       1         0        0            0   \n",
       "\n",
       "            D  \n",
       "0  2020-12-13  \n",
       "1  2021-02-05  \n",
       "2  2020-12-04  \n",
       "3  2020-11-14  \n",
       "4  2021-06-05  "
      ]
     },
     "execution_count": 114,
     "metadata": {},
     "output_type": "execute_result"
    }
   ],
   "source": [
    "# convertir la variable B en tipo datetime\n",
    "date_times = pd.to_datetime(data.B, unit='s')\n",
    "# print(date_times.sample(5))\n",
    "\n",
    "# definir el formato de salida:\n",
    "date_format = '%Y-%m-%d'\n",
    "\n",
    "# convertir cada fecha en string con ese formato\n",
    "date_times_str = date_times.apply(lambda x: x.strftime(date_format))\n",
    "\n",
    "# print(date_times_str.sample(5))\n",
    "\n",
    "# guardar en la columna D\n",
    "data_with_dummies['D'] = date_times_str\n",
    "\n",
    "data_with_dummies.head()"
   ]
  },
  {
   "cell_type": "markdown",
   "metadata": {
    "slideshow": {
     "slide_type": "subslide"
    }
   },
   "source": [
    "DatetimeIndex\n",
    "\n",
    "https://pandas.pydata.org/pandas-docs/stable/reference/api/pandas.DatetimeIndex.html\n",
    "\n",
    "PeriodIndex\n",
    "\n",
    "https://pandas.pydata.org/pandas-docs/stable/reference/api/pandas.PeriodIndex.html\n",
    "\n",
    "to_datetime\n",
    "\n",
    "https://pandas.pydata.org/pandas-docs/stable/reference/api/pandas.to_datetime.html"
   ]
  }
 ],
 "metadata": {
  "kernelspec": {
   "display_name": "Python 3 (ipykernel)",
   "language": "python",
   "name": "python3"
  },
  "language_info": {
   "codemirror_mode": {
    "name": "ipython",
    "version": 3
   },
   "file_extension": ".py",
   "mimetype": "text/x-python",
   "name": "python",
   "nbconvert_exporter": "python",
   "pygments_lexer": "ipython3",
   "version": "3.10.10"
  }
 },
 "nbformat": 4,
 "nbformat_minor": 4
}
