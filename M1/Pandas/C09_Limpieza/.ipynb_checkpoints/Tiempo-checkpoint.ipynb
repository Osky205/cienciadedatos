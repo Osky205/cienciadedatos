{
 "cells": [
  {
   "cell_type": "code",
   "execution_count": null,
   "id": "39e5a069-0d41-4635-99ad-a14f03905c9a",
   "metadata": {},
   "outputs": [],
   "source": []
  },
  {
   "cell_type": "markdown",
   "id": "c9e4f712-a917-46a1-9003-1a67e45f8340",
   "metadata": {
    "slideshow": {
     "slide_type": "slide"
    }
   },
   "source": [
    "### Unix Timestamp\n",
    "\n",
    "---\n",
    "\n",
    "* Unix TimeStamp es una manera de “trackear” el tiempo.\n",
    "\n",
    "* Se considera el tiempo en segundos desde el 1 de Enero de 1970 UTC, a las 00:00:00 hasta la fecha.\n",
    "\n",
    "* Teniendo un punto de referencia fijo, resulta muy simple el manejo de tiempo y fechas en distintos sistemas y arquitecturas.\n"
   ]
  },
  {
   "cell_type": "markdown",
   "id": "c590a0a4-5394-413f-9fe9-841315a6eab3",
   "metadata": {
    "slideshow": {
     "slide_type": "slide"
    }
   },
   "source": [
    "### Pandas Timestamp\n",
    "\n",
    "---\n",
    "\n",
    "Los datos timestamp son la forma más básica de Series de Tiempo. \n",
    "\n",
    "Asocian valores con puntos en el tiempo. \n",
    "\n",
    "En Pandas, podemos instanciar objetos de la clase ```Timestamp```\n",
    "\n",
    "https://pandas.pydata.org/pandas-docs/stable/reference/api/pandas.Timestamp.html\n",
    "\n"
   ]
  },
  {
   "cell_type": "code",
   "execution_count": 179,
   "id": "fffed2d5-b46f-4628-982a-15c73e7d7550",
   "metadata": {
    "slideshow": {
     "slide_type": "fragment"
    }
   },
   "outputs": [
    {
     "data": {
      "text/plain": [
       "Timestamp('2022-12-01 00:00:00')"
      ]
     },
     "execution_count": 179,
     "metadata": {},
     "output_type": "execute_result"
    }
   ],
   "source": [
    "pd.Timestamp('2022-12-01')"
   ]
  },
  {
   "cell_type": "code",
   "execution_count": 177,
   "id": "0a0cdaa2-50a9-4914-b228-4f1f9abbfdb0",
   "metadata": {
    "slideshow": {
     "slide_type": "fragment"
    }
   },
   "outputs": [
    {
     "data": {
      "text/plain": [
       "Timestamp('2012-05-01 00:00:00')"
      ]
     },
     "execution_count": 177,
     "metadata": {},
     "output_type": "execute_result"
    }
   ],
   "source": [
    "pd.Timestamp(2012, 5, 1)"
   ]
  },
  {
   "cell_type": "code",
   "execution_count": 187,
   "id": "077ff102-8599-4bb2-995f-99e9768aec31",
   "metadata": {},
   "outputs": [],
   "source": [
    "t1=pd.Timestamp(1970, 1, 2)"
   ]
  },
  {
   "cell_type": "code",
   "execution_count": 189,
   "id": "5ff89a83-a498-4b84-96a5-e1feccb689be",
   "metadata": {},
   "outputs": [
    {
     "data": {
      "text/plain": [
       "Timestamp('1970-01-02 00:00:00')"
      ]
     },
     "execution_count": 189,
     "metadata": {},
     "output_type": "execute_result"
    }
   ],
   "source": [
    "t1"
   ]
  },
  {
   "cell_type": "code",
   "execution_count": 202,
   "id": "2e069f3f-3d07-46b9-9c07-b89abfc7d91c",
   "metadata": {},
   "outputs": [
    {
     "name": "stdout",
     "output_type": "stream",
     "text": [
      "['asm8', 'astimezone', 'ceil', 'combine', 'ctime', 'date', 'day', 'day_name', 'day_of_week', 'day_of_year', 'dayofweek', 'dayofyear', 'days_in_month', 'daysinmonth', 'dst', 'floor', 'fold', 'freq', 'freqstr', 'fromisocalendar', 'fromisoformat', 'fromordinal', 'fromtimestamp', 'hour', 'is_leap_year', 'is_month_end', 'is_month_start', 'is_quarter_end', 'is_quarter_start', 'is_year_end', 'is_year_start', 'isocalendar', 'isoformat', 'isoweekday', 'max', 'microsecond', 'min', 'minute', 'month', 'month_name', 'nanosecond', 'normalize', 'now', 'quarter', 'replace', 'resolution', 'round', 'second', 'strftime', 'strptime', 'time', 'timestamp', 'timetuple', 'timetz', 'to_datetime64', 'to_julian_date', 'to_numpy', 'to_period', 'to_pydatetime', 'today', 'toordinal', 'tz', 'tz_convert', 'tz_localize', 'tzinfo', 'tzname', 'utcfromtimestamp', 'utcnow', 'utcoffset', 'utctimetuple', 'value', 'week', 'weekday', 'weekofyear', 'year']\n"
     ]
    }
   ],
   "source": [
    "print([x for x in dir(t1) if x[0] !=  '_'])"
   ]
  },
  {
   "cell_type": "code",
   "execution_count": 204,
   "id": "229dde3e-e6ed-4a7a-83b0-6e3a6de0df4d",
   "metadata": {},
   "outputs": [
    {
     "data": {
      "text/plain": [
       "0"
      ]
     },
     "execution_count": 204,
     "metadata": {},
     "output_type": "execute_result"
    }
   ],
   "source": [
    "t1.minute"
   ]
  },
  {
   "cell_type": "markdown",
   "id": "e521eb4d-501a-43b7-8bf6-3387337c29cb",
   "metadata": {
    "slideshow": {
     "slide_type": "slide"
    },
    "tags": []
   },
   "source": [
    "## Normalmente la informacion temporal viene en formato texto (strings)\n",
    "## como parseamos esto?"
   ]
  },
  {
   "cell_type": "markdown",
   "id": "997bbb15-cdf3-412a-bdd8-63c2ca2e45dd",
   "metadata": {
    "slideshow": {
     "slide_type": "slide"
    },
    "tags": []
   },
   "source": [
    "### ```pandas.to_datetime```\n",
    "\n",
    "Convierte el argumento en un objeto de tipo ```datetime```.\n",
    "\n",
    "https://pandas.pydata.org/pandas-docs/stable/reference/api/pandas.to_datetime.html\n",
    "\n"
   ]
  },
  {
   "cell_type": "markdown",
   "id": "0249499c-a517-4f23-8c4f-f1eb7367059b",
   "metadata": {
    "slideshow": {
     "slide_type": "subslide"
    }
   },
   "source": [
    "#### Ejemplos"
   ]
  },
  {
   "cell_type": "code",
   "execution_count": 180,
   "id": "63b0df9e-0e8a-4cf0-a096-f58f29afda1f",
   "metadata": {
    "slideshow": {
     "slide_type": "fragment"
    }
   },
   "outputs": [
    {
     "data": {
      "text/plain": [
       "Timestamp('2001-09-17 10:05:00')"
      ]
     },
     "execution_count": 180,
     "metadata": {},
     "output_type": "execute_result"
    }
   ],
   "source": [
    "pd.to_datetime('20170901 100500', format='%Y%m%d %H%M%S')"
   ]
  },
  {
   "cell_type": "markdown",
   "id": "761e58fd-6d4f-4d7e-b603-0f58dd9d872b",
   "metadata": {
    "slideshow": {
     "slide_type": "slide"
    }
   },
   "source": [
    "# Como es el formato que usa para interpretar el tiempo?\n",
    "### ```strftime```\n",
    "    \n",
    "https://strftime.org/    \n",
    "    \n",
    "En Python, los tipos de dato fecha y hora están disponibles importando el módulo ```datetime```. \n",
    "\n",
    "Este módulo proporciona numerosas funciones para manejar fecha y hora.\n",
    "\n",
    "El método ```strftime()``` se utiliza para convertir objetos de fecha y hora en su representación como cadena de caracteres.\n",
    "\n",
    "https://docs.python.org/3/library/datetime.html#datetime.date.strftime"
   ]
  },
  {
   "cell_type": "markdown",
   "id": "7a0e69c4-4a75-4ff3-b3fa-ea1c8c217cef",
   "metadata": {
    "slideshow": {
     "slide_type": "subslide"
    }
   },
   "source": [
    "Para especificar el formato deseado utilizamos la convención definida en esta tabla:\n",
    "\n",
    "<img src=\"https://raw.githubusercontent.com/Digital-House-DATA/ds_blend_2021_img/master/M2/CLASE_12_DataWrangling/Presentacion/img/M2_CLASE_12_datetime_format.png\" align=\"center\"></img>\n"
   ]
  },
  {
   "cell_type": "code",
   "execution_count": 155,
   "id": "0635dcdf-12a4-4fb7-9185-17a96f2f3375",
   "metadata": {
    "slideshow": {
     "slide_type": "fragment"
    }
   },
   "outputs": [
    {
     "data": {
      "text/plain": [
       "Timestamp('2017-09-01 10:05:00')"
      ]
     },
     "execution_count": 155,
     "metadata": {},
     "output_type": "execute_result"
    }
   ],
   "source": [
    "pd.to_datetime('20170901 100500', format='%Y%m%d %H%M%S')"
   ]
  },
  {
   "cell_type": "code",
   "execution_count": 174,
   "id": "1e2dddc9-1599-4f90-9374-7528cb67a7ce",
   "metadata": {
    "slideshow": {
     "slide_type": "fragment"
    }
   },
   "outputs": [
    {
     "data": {
      "text/plain": [
       "Timestamp('2261-12-31 19:26:24')"
      ]
     },
     "execution_count": 174,
     "metadata": {},
     "output_type": "execute_result"
    }
   ],
   "source": [
    "pd.to_datetime(292,unit='Y')"
   ]
  },
  {
   "cell_type": "code",
   "execution_count": 175,
   "id": "ba8a2aea-3e9c-4faf-8f74-cbab3fb27fba",
   "metadata": {
    "slideshow": {
     "slide_type": "fragment"
    }
   },
   "outputs": [
    {
     "data": {
      "text/plain": [
       "Timestamp('2017-03-22 15:16:45.433502912')"
      ]
     },
     "execution_count": 175,
     "metadata": {},
     "output_type": "execute_result"
    }
   ],
   "source": [
    "pd.to_datetime(1490195805433502912, unit='ns')"
   ]
  },
  {
   "cell_type": "markdown",
   "id": "e69164e6-91be-4c65-bf23-b1fc90114508",
   "metadata": {
    "slideshow": {
     "slide_type": "subslide"
    }
   },
   "source": [
    "#### Ejemplos de strftime() de python basico"
   ]
  },
  {
   "cell_type": "code",
   "execution_count": 112,
   "id": "cc8e243c-816a-4ad2-af6c-cb4901a95a6e",
   "metadata": {
    "slideshow": {
     "slide_type": "fragment"
    }
   },
   "outputs": [],
   "source": [
    "from datetime import datetime as dt "
   ]
  },
  {
   "cell_type": "code",
   "execution_count": 81,
   "id": "57e00a17-91b5-43cc-b3b3-b9bbb928be75",
   "metadata": {
    "slideshow": {
     "slide_type": "fragment"
    }
   },
   "outputs": [
    {
     "name": "stdout",
     "output_type": "stream",
     "text": [
      "Sin formato 2021-08-19 18:48:56.232136\n"
     ]
    }
   ],
   "source": [
    "# Getting current date and time \n",
    "\n",
    "now = dt.now()\n",
    "\n",
    "print(\"Sin formato\", now) "
   ]
  },
  {
   "cell_type": "code",
   "execution_count": 82,
   "id": "cfcec408-1f3a-47cf-b284-372f619d2c06",
   "metadata": {
    "slideshow": {
     "slide_type": "fragment"
    }
   },
   "outputs": [
    {
     "name": "stdout",
     "output_type": "stream",
     "text": [
      "\n",
      "Ejemplo 1: Thu 08 21\n"
     ]
    }
   ],
   "source": [
    "# Example 1 \n",
    "s = now.strftime(\"%a %m %y\") \n",
    "print('\\nEjemplo 1:', s) "
   ]
  },
  {
   "cell_type": "code",
   "execution_count": 83,
   "id": "b19cc47d-ce6e-4044-8456-06e3dfd51518",
   "metadata": {
    "slideshow": {
     "slide_type": "fragment"
    }
   },
   "outputs": [
    {
     "name": "stdout",
     "output_type": "stream",
     "text": [
      "\n",
      "Ejemplo 2: Thursday 8 2021\n"
     ]
    }
   ],
   "source": [
    "# Example 2 \n",
    "s = now.strftime(\"%A %-m %Y\") \n",
    "print('\\nEjemplo 2:', s) "
   ]
  },
  {
   "cell_type": "code",
   "execution_count": 84,
   "id": "6eb6a2d9-f423-459b-81d5-82e1f244bae4",
   "metadata": {
    "slideshow": {
     "slide_type": "fragment"
    }
   },
   "outputs": [
    {
     "name": "stdout",
     "output_type": "stream",
     "text": [
      "\n",
      "Ejemplo 3: 6 PM 56\n"
     ]
    }
   ],
   "source": [
    "# Example 3 \n",
    "s = now.strftime(\"%-I %p %S\") \n",
    "print('\\nEjemplo 3:', s) "
   ]
  },
  {
   "cell_type": "code",
   "execution_count": 85,
   "id": "502f9676-34f7-40ba-900d-d9fff999c83e",
   "metadata": {},
   "outputs": [
    {
     "name": "stdout",
     "output_type": "stream",
     "text": [
      "\n",
      "Ejemplo 4: 231\n"
     ]
    }
   ],
   "source": [
    "# Example 4 \n",
    "s = now.strftime(\"%-j\") \n",
    "print('\\nEjemplo 4:', s) "
   ]
  },
  {
   "cell_type": "markdown",
   "id": "67ab4c84-8605-41b3-baf1-e0fa42d0c7b4",
   "metadata": {
    "colab_type": "text",
    "id": "-06Xcfb_3ud8",
    "tags": []
   },
   "source": [
    "### Convirtiendo a DateTime"
   ]
  },
  {
   "cell_type": "code",
   "execution_count": 197,
   "id": "4524849f-ed9e-410f-936c-02a97b11cfd5",
   "metadata": {
    "colab": {
     "autoexec": {
      "startup": false,
      "wait_interval": 0
     }
    },
    "colab_type": "code",
    "id": "yyvm8Qn13ud9",
    "outputId": "8bd97ee2-3a68-4858-8bbc-e1c3ccec70a9"
   },
   "outputs": [
    {
     "data": {
      "text/html": [
       "<div>\n",
       "<style scoped>\n",
       "    .dataframe tbody tr th:only-of-type {\n",
       "        vertical-align: middle;\n",
       "    }\n",
       "\n",
       "    .dataframe tbody tr th {\n",
       "        vertical-align: top;\n",
       "    }\n",
       "\n",
       "    .dataframe thead th {\n",
       "        text-align: right;\n",
       "    }\n",
       "</style>\n",
       "<table border=\"1\" class=\"dataframe\">\n",
       "  <thead>\n",
       "    <tr style=\"text-align: right;\">\n",
       "      <th></th>\n",
       "      <th>a</th>\n",
       "      <th>b</th>\n",
       "    </tr>\n",
       "  </thead>\n",
       "  <tbody>\n",
       "    <tr>\n",
       "      <th>2 June 2013</th>\n",
       "      <td>37</td>\n",
       "      <td>33</td>\n",
       "    </tr>\n",
       "    <tr>\n",
       "      <th>Aug 29, 2014</th>\n",
       "      <td>61</td>\n",
       "      <td>81</td>\n",
       "    </tr>\n",
       "    <tr>\n",
       "      <th>2015-06-26</th>\n",
       "      <td>40</td>\n",
       "      <td>88</td>\n",
       "    </tr>\n",
       "    <tr>\n",
       "      <th>7/12/16</th>\n",
       "      <td>99</td>\n",
       "      <td>56</td>\n",
       "    </tr>\n",
       "  </tbody>\n",
       "</table>\n",
       "</div>"
      ],
      "text/plain": [
       "               a   b\n",
       "2 June 2013   37  33\n",
       "Aug 29, 2014  61  81\n",
       "2015-06-26    40  88\n",
       "7/12/16       99  56"
      ]
     },
     "execution_count": 197,
     "metadata": {},
     "output_type": "execute_result"
    }
   ],
   "source": [
    "import numpy as np\n",
    "\n",
    "# df comun\n",
    "\n",
    "d1 = ['2 June 2013', 'Aug 29, 2014', '2015-06-26', '7/12/16']\n",
    "ts3 = pd.DataFrame(np.random.randint(10, 100, (4,2)), index=d1, columns=list('ab'))\n",
    "ts3"
   ]
  },
  {
   "cell_type": "code",
   "execution_count": 198,
   "id": "2abb0e31-f92f-41a4-a23a-158647d87926",
   "metadata": {},
   "outputs": [
    {
     "data": {
      "text/plain": [
       "Index(['2 June 2013', 'Aug 29, 2014', '2015-06-26', '7/12/16'], dtype='object')"
      ]
     },
     "execution_count": 198,
     "metadata": {},
     "output_type": "execute_result"
    }
   ],
   "source": [
    "ts3.index"
   ]
  },
  {
   "cell_type": "code",
   "execution_count": 199,
   "id": "81693f5e-dfff-4e3a-a7ae-52ee251cb734",
   "metadata": {},
   "outputs": [
    {
     "data": {
      "text/plain": [
       "<AxesSubplot:>"
      ]
     },
     "execution_count": 199,
     "metadata": {},
     "output_type": "execute_result"
    },
    {
     "data": {
      "image/png": "[encoded data removed]",
      "text/plain": [
       "<Figure size 432x288 with 1 Axes>"
      ]
     },
     "metadata": {
      "needs_background": "light"
     },
     "output_type": "display_data"
    }
   ],
   "source": [
    "ts.plot()"
   ]
  },
  {
   "cell_type": "code",
   "execution_count": 202,
   "id": "cf8de088-46da-4251-9971-0283155e86f3",
   "metadata": {
    "colab": {
     "autoexec": {
      "startup": false,
      "wait_interval": 0
     }
    },
    "colab_type": "code",
    "id": "Y7y2cO0b3ueC",
    "outputId": "d764ff4a-24dc-4644-992d-e269070df8a5"
   },
   "outputs": [
    {
     "data": {
      "text/plain": [
       "pandas.core.indexes.datetimes.DatetimeIndex"
      ]
     },
     "execution_count": 202,
     "metadata": {},
     "output_type": "execute_result"
    }
   ],
   "source": [
    "type(ts3.index)"
   ]
  },
  {
   "cell_type": "code",
   "execution_count": 200,
   "id": "900f11b5-13a0-4e5d-92a1-6805be5fe027",
   "metadata": {},
   "outputs": [
    {
     "data": {
      "text/plain": [
       "Index(['2 June 2013', 'Aug 29, 2014', '2015-06-26', '7/12/16'], dtype='object')"
      ]
     },
     "execution_count": 200,
     "metadata": {},
     "output_type": "execute_result"
    }
   ],
   "source": [
    "ts3.index"
   ]
  },
  {
   "cell_type": "code",
   "execution_count": 201,
   "id": "76cc5a56-045b-450b-b606-212a4ae43068",
   "metadata": {
    "colab": {
     "autoexec": {
      "startup": false,
      "wait_interval": 0
     }
    },
    "colab_type": "code",
    "id": "Tv7b0p8j3ueL",
    "outputId": "3e68134e-ef46-4e1a-acb6-e39d3bbc5100"
   },
   "outputs": [
    {
     "data": {
      "text/plain": [
       "(DatetimeIndex(['2013-06-02', '2014-08-29', '2015-06-26', '2016-07-12'], dtype='datetime64[ns]', freq=None),\n",
       " pandas.core.indexes.datetimes.DatetimeIndex)"
      ]
     },
     "execution_count": 201,
     "metadata": {},
     "output_type": "execute_result"
    }
   ],
   "source": [
    "ts3.index = pd.to_datetime(ts3.index)\n",
    "\n",
    "\n",
    "ts3.index, type(ts3.index)"
   ]
  },
  {
   "cell_type": "code",
   "execution_count": 203,
   "id": "232830ab-2d42-4f97-9f3c-2226e5db54d7",
   "metadata": {},
   "outputs": [
    {
     "data": {
      "text/html": [
       "<div>\n",
       "<style scoped>\n",
       "    .dataframe tbody tr th:only-of-type {\n",
       "        vertical-align: middle;\n",
       "    }\n",
       "\n",
       "    .dataframe tbody tr th {\n",
       "        vertical-align: top;\n",
       "    }\n",
       "\n",
       "    .dataframe thead th {\n",
       "        text-align: right;\n",
       "    }\n",
       "</style>\n",
       "<table border=\"1\" class=\"dataframe\">\n",
       "  <thead>\n",
       "    <tr style=\"text-align: right;\">\n",
       "      <th></th>\n",
       "      <th>a</th>\n",
       "      <th>b</th>\n",
       "    </tr>\n",
       "  </thead>\n",
       "  <tbody>\n",
       "    <tr>\n",
       "      <th>2013-06-02</th>\n",
       "      <td>37</td>\n",
       "      <td>33</td>\n",
       "    </tr>\n",
       "    <tr>\n",
       "      <th>2014-08-29</th>\n",
       "      <td>61</td>\n",
       "      <td>81</td>\n",
       "    </tr>\n",
       "    <tr>\n",
       "      <th>2015-06-26</th>\n",
       "      <td>40</td>\n",
       "      <td>88</td>\n",
       "    </tr>\n",
       "    <tr>\n",
       "      <th>2016-07-12</th>\n",
       "      <td>99</td>\n",
       "      <td>56</td>\n",
       "    </tr>\n",
       "  </tbody>\n",
       "</table>\n",
       "</div>"
      ],
      "text/plain": [
       "             a   b\n",
       "2013-06-02  37  33\n",
       "2014-08-29  61  81\n",
       "2015-06-26  40  88\n",
       "2016-07-12  99  56"
      ]
     },
     "execution_count": 203,
     "metadata": {},
     "output_type": "execute_result"
    }
   ],
   "source": [
    "# automaticamente identifica los diferentes formatos\n",
    "\n",
    "ts3"
   ]
  },
  {
   "cell_type": "code",
   "execution_count": 91,
   "id": "84caaf84-4512-4f89-ac33-9a74dad2f80c",
   "metadata": {},
   "outputs": [
    {
     "data": {
      "text/plain": [
       "<AxesSubplot:>"
      ]
     },
     "execution_count": 91,
     "metadata": {},
     "output_type": "execute_result"
    },
    {
     "data": {
      "image/png": "[encoded data removed]",
      "text/plain": [
       "<Figure size 432x288 with 1 Axes>"
      ]
     },
     "metadata": {
      "needs_background": "light"
     },
     "output_type": "display_data"
    }
   ],
   "source": [
    "ts3.plot()"
   ]
  },
  {
   "cell_type": "markdown",
   "id": "e32e25e3-63e3-4a55-a980-cdfcb1626d33",
   "metadata": {
    "colab_type": "text",
    "id": "h4TTXLSd3ueU"
   },
   "source": [
    "### TimeDeltas"
   ]
  },
  {
   "cell_type": "code",
   "execution_count": 116,
   "id": "8834225b-902d-4b24-bd47-37e668750e98",
   "metadata": {},
   "outputs": [
    {
     "data": {
      "text/plain": [
       "datetime.datetime(2022, 6, 16, 21, 50, 18, 624391)"
      ]
     },
     "execution_count": 116,
     "metadata": {},
     "output_type": "execute_result"
    }
   ],
   "source": [
    "now = dt.now()\n",
    "now"
   ]
  },
  {
   "cell_type": "code",
   "execution_count": 127,
   "id": "954842d6-baf4-4d17-98a7-d4057dea8ebd",
   "metadata": {
    "colab": {
     "autoexec": {
      "startup": false,
      "wait_interval": 0
     }
    },
    "colab_type": "code",
    "id": "gCNoH3rR3ueU",
    "outputId": "a0f828a0-61b6-4936-d041-fcb08f8e2ca9"
   },
   "outputs": [
    {
     "data": {
      "text/plain": [
       "Timedelta('4 days 21:50:18.624391')"
      ]
     },
     "execution_count": 127,
     "metadata": {},
     "output_type": "execute_result"
    }
   ],
   "source": [
    "# mes dia anio\n",
    "now - pd.Timestamp('6/12/2022')"
   ]
  },
  {
   "cell_type": "code",
   "execution_count": 129,
   "id": "65213462-d1fe-4b49-b9fb-5207c83d39a3",
   "metadata": {},
   "outputs": [
    {
     "data": {
      "text/plain": [
       "pandas._libs.tslibs.timestamps.Timestamp"
      ]
     },
     "execution_count": 129,
     "metadata": {},
     "output_type": "execute_result"
    }
   ],
   "source": [
    "type(pd.Timestamp('6/12/2016'))"
   ]
  },
  {
   "cell_type": "code",
   "execution_count": 130,
   "id": "bcb75228-efcd-41f2-9ecf-a1d88dca08b3",
   "metadata": {},
   "outputs": [],
   "source": [
    "dt2=pd.Timestamp('3/9/2016') - pd.Timestamp('3/8/2016')"
   ]
  },
  {
   "cell_type": "code",
   "execution_count": 131,
   "id": "b3d45aa2-7f83-4fae-b409-ccf42bfe204d",
   "metadata": {},
   "outputs": [
    {
     "data": {
      "text/plain": [
       "pandas._libs.tslibs.timedeltas.Timedelta"
      ]
     },
     "execution_count": 131,
     "metadata": {},
     "output_type": "execute_result"
    }
   ],
   "source": [
    "type(dt2)"
   ]
  },
  {
   "cell_type": "code",
   "execution_count": 132,
   "id": "b65e9f05-8a78-4893-80b5-7f7a3cf65d10",
   "metadata": {},
   "outputs": [
    {
     "data": {
      "text/plain": [
       "1"
      ]
     },
     "execution_count": 132,
     "metadata": {},
     "output_type": "execute_result"
    }
   ],
   "source": [
    "dt2.days"
   ]
  },
  {
   "cell_type": "code",
   "execution_count": 144,
   "id": "a3e3d873-2a44-40cb-9e11-29081509b04a",
   "metadata": {},
   "outputs": [
    {
     "data": {
      "text/plain": [
       "86400.0"
      ]
     },
     "execution_count": 144,
     "metadata": {},
     "output_type": "execute_result"
    }
   ],
   "source": [
    "dt2.total_seconds()"
   ]
  },
  {
   "cell_type": "code",
   "execution_count": 150,
   "id": "39207ded-7df0-4020-91c4-c56276ada120",
   "metadata": {},
   "outputs": [
    {
     "data": {
      "text/plain": [
       "Timedelta('-106752 days +00:12:43.145224193')"
      ]
     },
     "execution_count": 150,
     "metadata": {},
     "output_type": "execute_result"
    }
   ],
   "source": [
    "dt2.min"
   ]
  },
  {
   "cell_type": "markdown",
   "id": "0efcf78b-8e7d-44da-8859-0153eb729d2d",
   "metadata": {
    "slideshow": {
     "slide_type": "slide"
    }
   },
   "source": [
    "### Pandas Period\n",
    "\n",
    "---\n",
    "\n",
    "En muchos casos es más natural asociar variables a **intervalos de tiempo**. \n",
    "\n",
    "Representamos un intervalo con un objeto de la clase ```Period```, y puede ser instanciado explícitamente o inferido de un string con cierto formato.\n",
    "\n",
    "https://pandas.pydata.org/pandas-docs/stable/reference/api/pandas.Period.html\n"
   ]
  },
  {
   "cell_type": "code",
   "execution_count": 153,
   "id": "2dacc186-3ec9-4bc1-95f5-be17d44a1daf",
   "metadata": {
    "slideshow": {
     "slide_type": "fragment"
    }
   },
   "outputs": [
    {
     "data": {
      "text/plain": [
       "Period('2011-01', 'M')"
      ]
     },
     "execution_count": 153,
     "metadata": {},
     "output_type": "execute_result"
    }
   ],
   "source": [
    "pd.Period('2011-01')"
   ]
  },
  {
   "cell_type": "code",
   "execution_count": 154,
   "id": "7247ae6f-4056-4f6c-a0f8-0a345df361af",
   "metadata": {
    "slideshow": {
     "slide_type": "fragment"
    }
   },
   "outputs": [
    {
     "data": {
      "text/plain": [
       "Period('2012-05-01', 'D')"
      ]
     },
     "execution_count": 154,
     "metadata": {},
     "output_type": "execute_result"
    }
   ],
   "source": [
    "pd.Period('2012-05', freq='D')"
   ]
  },
  {
   "cell_type": "markdown",
   "id": "82b8a328-b9e8-47e2-9425-4ccfe2470c37",
   "metadata": {
    "slideshow": {
     "slide_type": "slide"
    }
   },
   "source": [
    "### Pandas DateTimeIndex y PeriodIndex\n",
    "\n",
    "---\n",
    "\n",
    "Los objetos de tipo ```Timestamp``` y ```Period``` pueden ser índices. \n",
    "\n",
    "Las listas que contienen estos objetos son casteadas automáticamente a objetos de tipo ```DatetimeIndex``` y ```PeriodIndex``` respectivamente.\n",
    "\n",
    "https://pandas.pydata.org/pandas-docs/stable/reference/api/pandas.DatetimeIndex.html\n",
    "\n",
    "https://pandas.pydata.org/pandas-docs/stable/reference/api/pandas.PeriodIndex.html\n"
   ]
  },
  {
   "cell_type": "code",
   "execution_count": 174,
   "id": "ac583946-c510-48c3-9c16-ca713b4c52d0",
   "metadata": {
    "slideshow": {
     "slide_type": "fragment"
    }
   },
   "outputs": [
    {
     "data": {
      "text/plain": [
       "[Timestamp('2012-05-01 00:00:00'),\n",
       " Timestamp('2012-05-02 00:00:00'),\n",
       " Timestamp('2012-05-03 00:00:00')]"
      ]
     },
     "execution_count": 174,
     "metadata": {},
     "output_type": "execute_result"
    }
   ],
   "source": [
    "dates = [pd.Timestamp('2012-05-01'), pd.Timestamp('2012-05-02'), pd.Timestamp('2012-05-03')]\n",
    "dates"
   ]
  },
  {
   "cell_type": "code",
   "execution_count": 175,
   "id": "07294766-45d2-4328-a6e5-89800b5b489f",
   "metadata": {
    "slideshow": {
     "slide_type": "fragment"
    }
   },
   "outputs": [
    {
     "data": {
      "text/plain": [
       "2012-05-01    10\n",
       "2012-05-02    20\n",
       "2012-05-03    39\n",
       "dtype: int64"
      ]
     },
     "execution_count": 175,
     "metadata": {},
     "output_type": "execute_result"
    }
   ],
   "source": [
    "ts = pd.Series(data = [10, 20, 39], index = dates)\n",
    "ts"
   ]
  },
  {
   "cell_type": "code",
   "execution_count": 176,
   "id": "a3526aa7-9ad9-4c30-9f6f-42e41361c46c",
   "metadata": {},
   "outputs": [
    {
     "data": {
      "text/plain": [
       "pandas.core.series.Series"
      ]
     },
     "execution_count": 176,
     "metadata": {},
     "output_type": "execute_result"
    }
   ],
   "source": [
    "type(ts)"
   ]
  },
  {
   "cell_type": "code",
   "execution_count": 177,
   "id": "3f08ec2b-d077-47c8-a96c-3bf24de6c211",
   "metadata": {
    "slideshow": {
     "slide_type": "fragment"
    }
   },
   "outputs": [
    {
     "data": {
      "text/plain": [
       "DatetimeIndex(['2012-05-01', '2012-05-02', '2012-05-03'], dtype='datetime64[ns]', freq=None)"
      ]
     },
     "execution_count": 177,
     "metadata": {},
     "output_type": "execute_result"
    }
   ],
   "source": [
    "ts.index"
   ]
  },
  {
   "cell_type": "code",
   "execution_count": 74,
   "id": "f75f5447-a3d9-479c-8649-dfa996a7afa1",
   "metadata": {
    "scrolled": true,
    "slideshow": {
     "slide_type": "subslide"
    }
   },
   "outputs": [
    {
     "data": {
      "text/plain": [
       "pandas.core.indexes.datetimes.DatetimeIndex"
      ]
     },
     "execution_count": 74,
     "metadata": {},
     "output_type": "execute_result"
    }
   ],
   "source": [
    "type(ts.index)"
   ]
  },
  {
   "cell_type": "markdown",
   "id": "d53ba824-02c5-487d-a66c-42df0c507ff0",
   "metadata": {
    "colab_type": "text",
    "id": "7KK9AMm83uei"
   },
   "source": [
    "### Generando fechas con date_range"
   ]
  },
  {
   "cell_type": "code",
   "execution_count": 95,
   "id": "b2b453f5-8bed-416b-85af-bab1768b07a8",
   "metadata": {
    "colab": {
     "autoexec": {
      "startup": false,
      "wait_interval": 0
     }
    },
    "colab_type": "code",
    "id": "3MnvD70T3uej",
    "outputId": "d52eda1c-7dbc-4ad8-b6be-ee50e83322b7"
   },
   "outputs": [
    {
     "data": {
      "text/plain": [
       "DatetimeIndex(['2017-04-06', '2017-04-07', '2017-04-08', '2017-04-09',\n",
       "               '2017-04-10', '2017-04-11'],\n",
       "              dtype='datetime64[ns]', freq='D')"
      ]
     },
     "execution_count": 95,
     "metadata": {},
     "output_type": "execute_result"
    }
   ],
   "source": [
    "dates = pd.date_range('2017-04-06', periods=6, freq='D')\n",
    "dates"
   ]
  },
  {
   "cell_type": "code",
   "execution_count": 96,
   "id": "066a6dbe-2ba3-4daa-88a7-8bde847b6844",
   "metadata": {},
   "outputs": [
    {
     "data": {
      "text/plain": [
       "DatetimeIndex(['2017-12-31', '2018-01-31', '2018-02-28'], dtype='datetime64[ns]', freq='M')"
      ]
     },
     "execution_count": 96,
     "metadata": {},
     "output_type": "execute_result"
    }
   ],
   "source": [
    "dates = pd.date_range('2017-12-31', periods=3, freq='M')\n",
    "dates"
   ]
  },
  {
   "cell_type": "code",
   "execution_count": 97,
   "id": "05b0b713-bf78-4caa-bcd8-2df6d25c23df",
   "metadata": {},
   "outputs": [
    {
     "data": {
      "text/plain": [
       "DatetimeIndex(['2017-04-06', '2017-04-20', '2017-05-04', '2017-05-18'], dtype='datetime64[ns]', freq='2W-THU')"
      ]
     },
     "execution_count": 97,
     "metadata": {},
     "output_type": "execute_result"
    }
   ],
   "source": [
    "dates = pd.date_range('2017-04-06', periods=4, freq='2W-THU')\n",
    "dates"
   ]
  },
  {
   "cell_type": "code",
   "execution_count": null,
   "id": "61afd356-00cb-4ad4-bfd1-d516061f63a1",
   "metadata": {},
   "outputs": [],
   "source": []
  },
  {
   "cell_type": "code",
   "execution_count": 256,
   "id": "dd9878bf-6e01-4601-af7b-c8d7aaa25149",
   "metadata": {
    "colab": {
     "autoexec": {
      "startup": false,
      "wait_interval": 0
     }
    },
    "colab_type": "code",
    "id": "MbGveUO03uen",
    "outputId": "cf9fdd4e-565c-4858-9dc0-2a2ba341531b"
   },
   "outputs": [
    {
     "data": {
      "text/html": [
       "<div>\n",
       "<style scoped>\n",
       "    .dataframe tbody tr th:only-of-type {\n",
       "        vertical-align: middle;\n",
       "    }\n",
       "\n",
       "    .dataframe tbody tr th {\n",
       "        vertical-align: top;\n",
       "    }\n",
       "\n",
       "    .dataframe thead th {\n",
       "        text-align: right;\n",
       "    }\n",
       "</style>\n",
       "<table border=\"1\" class=\"dataframe\">\n",
       "  <thead>\n",
       "    <tr style=\"text-align: right;\">\n",
       "      <th></th>\n",
       "      <th>a</th>\n",
       "      <th>b</th>\n",
       "    </tr>\n",
       "  </thead>\n",
       "  <tbody>\n",
       "    <tr>\n",
       "      <th>2017-04-06</th>\n",
       "      <td>107</td>\n",
       "      <td>116</td>\n",
       "    </tr>\n",
       "    <tr>\n",
       "      <th>2017-04-07</th>\n",
       "      <td>110</td>\n",
       "      <td>120</td>\n",
       "    </tr>\n",
       "    <tr>\n",
       "      <th>2017-04-08</th>\n",
       "      <td>114</td>\n",
       "      <td>118</td>\n",
       "    </tr>\n",
       "    <tr>\n",
       "      <th>2017-04-09</th>\n",
       "      <td>122</td>\n",
       "      <td>118</td>\n",
       "    </tr>\n",
       "    <tr>\n",
       "      <th>2017-04-10</th>\n",
       "      <td>125</td>\n",
       "      <td>128</td>\n",
       "    </tr>\n",
       "  </tbody>\n",
       "</table>\n",
       "</div>"
      ],
      "text/plain": [
       "              a    b\n",
       "2017-04-06  107  116\n",
       "2017-04-07  110  120\n",
       "2017-04-08  114  118\n",
       "2017-04-09  122  118\n",
       "2017-04-10  125  128"
      ]
     },
     "execution_count": 256,
     "metadata": {},
     "output_type": "execute_result"
    }
   ],
   "source": [
    "dates = pd.date_range('2017-04-06', periods=120, freq='D')\n",
    "\n",
    "df = pd.DataFrame({'a': 100 + np.random.randint(-5, 10, 120).cumsum(),\n",
    "                  'b': 120 + np.random.randint(-5, 10, 120)}, index=dates)\n",
    "df.head()"
   ]
  },
  {
   "cell_type": "code",
   "execution_count": 99,
   "id": "818618c1-9ab1-4d9c-b405-5c0819448fe5",
   "metadata": {
    "colab": {
     "autoexec": {
      "startup": false,
      "wait_interval": 0
     }
    },
    "colab_type": "code",
    "id": "3xkGiFDw3ue4",
    "outputId": "5f376d05-cb1d-4f8c-e110-e828e9be3b8d"
   },
   "outputs": [
    {
     "data": {
      "text/plain": [
       "Int64Index([3, 4, 5, 6, 0, 1, 2, 3, 4, 5,\n",
       "            ...\n",
       "            1, 2, 3, 4, 5, 6, 0, 1, 2, 3],\n",
       "           dtype='int64', length=120)"
      ]
     },
     "execution_count": 99,
     "metadata": {},
     "output_type": "execute_result"
    }
   ],
   "source": [
    "df.index.weekday"
   ]
  },
  {
   "cell_type": "code",
   "execution_count": 100,
   "id": "ea0b05d6-b411-40ea-a68d-cc260b03d9ed",
   "metadata": {},
   "outputs": [
    {
     "data": {
      "text/html": [
       "<div>\n",
       "<style scoped>\n",
       "    .dataframe tbody tr th:only-of-type {\n",
       "        vertical-align: middle;\n",
       "    }\n",
       "\n",
       "    .dataframe tbody tr th {\n",
       "        vertical-align: top;\n",
       "    }\n",
       "\n",
       "    .dataframe thead th {\n",
       "        text-align: right;\n",
       "    }\n",
       "</style>\n",
       "<table border=\"1\" class=\"dataframe\">\n",
       "  <thead>\n",
       "    <tr style=\"text-align: right;\">\n",
       "      <th></th>\n",
       "      <th>a</th>\n",
       "      <th>b</th>\n",
       "    </tr>\n",
       "  </thead>\n",
       "  <tbody>\n",
       "    <tr>\n",
       "      <th>2017-04-10</th>\n",
       "      <td>116</td>\n",
       "      <td>126</td>\n",
       "    </tr>\n",
       "    <tr>\n",
       "      <th>2017-04-17</th>\n",
       "      <td>131</td>\n",
       "      <td>129</td>\n",
       "    </tr>\n",
       "    <tr>\n",
       "      <th>2017-04-24</th>\n",
       "      <td>150</td>\n",
       "      <td>128</td>\n",
       "    </tr>\n",
       "    <tr>\n",
       "      <th>2017-05-01</th>\n",
       "      <td>165</td>\n",
       "      <td>123</td>\n",
       "    </tr>\n",
       "    <tr>\n",
       "      <th>2017-05-08</th>\n",
       "      <td>173</td>\n",
       "      <td>122</td>\n",
       "    </tr>\n",
       "    <tr>\n",
       "      <th>2017-05-15</th>\n",
       "      <td>170</td>\n",
       "      <td>124</td>\n",
       "    </tr>\n",
       "    <tr>\n",
       "      <th>2017-05-22</th>\n",
       "      <td>184</td>\n",
       "      <td>115</td>\n",
       "    </tr>\n",
       "    <tr>\n",
       "      <th>2017-05-29</th>\n",
       "      <td>226</td>\n",
       "      <td>125</td>\n",
       "    </tr>\n",
       "    <tr>\n",
       "      <th>2017-06-05</th>\n",
       "      <td>253</td>\n",
       "      <td>115</td>\n",
       "    </tr>\n",
       "    <tr>\n",
       "      <th>2017-06-12</th>\n",
       "      <td>272</td>\n",
       "      <td>115</td>\n",
       "    </tr>\n",
       "    <tr>\n",
       "      <th>2017-06-19</th>\n",
       "      <td>305</td>\n",
       "      <td>124</td>\n",
       "    </tr>\n",
       "    <tr>\n",
       "      <th>2017-06-26</th>\n",
       "      <td>331</td>\n",
       "      <td>120</td>\n",
       "    </tr>\n",
       "    <tr>\n",
       "      <th>2017-07-03</th>\n",
       "      <td>318</td>\n",
       "      <td>123</td>\n",
       "    </tr>\n",
       "    <tr>\n",
       "      <th>2017-07-10</th>\n",
       "      <td>334</td>\n",
       "      <td>123</td>\n",
       "    </tr>\n",
       "    <tr>\n",
       "      <th>2017-07-17</th>\n",
       "      <td>339</td>\n",
       "      <td>118</td>\n",
       "    </tr>\n",
       "    <tr>\n",
       "      <th>2017-07-24</th>\n",
       "      <td>359</td>\n",
       "      <td>115</td>\n",
       "    </tr>\n",
       "    <tr>\n",
       "      <th>2017-07-31</th>\n",
       "      <td>386</td>\n",
       "      <td>124</td>\n",
       "    </tr>\n",
       "  </tbody>\n",
       "</table>\n",
       "</div>"
      ],
      "text/plain": [
       "              a    b\n",
       "2017-04-10  116  126\n",
       "2017-04-17  131  129\n",
       "2017-04-24  150  128\n",
       "2017-05-01  165  123\n",
       "2017-05-08  173  122\n",
       "2017-05-15  170  124\n",
       "2017-05-22  184  115\n",
       "2017-05-29  226  125\n",
       "2017-06-05  253  115\n",
       "2017-06-12  272  115\n",
       "2017-06-19  305  124\n",
       "2017-06-26  331  120\n",
       "2017-07-03  318  123\n",
       "2017-07-10  334  123\n",
       "2017-07-17  339  118\n",
       "2017-07-24  359  115\n",
       "2017-07-31  386  124"
      ]
     },
     "execution_count": 100,
     "metadata": {},
     "output_type": "execute_result"
    }
   ],
   "source": [
    "df[ df.index.weekday==0 ]"
   ]
  },
  {
   "cell_type": "code",
   "execution_count": 101,
   "id": "4d9f9191-6462-4be1-8d7f-313b5e54636d",
   "metadata": {
    "colab": {
     "autoexec": {
      "startup": false,
      "wait_interval": 0
     }
    },
    "colab_type": "code",
    "id": "z8G3JKK-3ue8",
    "outputId": "75a5b5b7-baf4-4b6f-f636-20c08ae6dd12"
   },
   "outputs": [
    {
     "data": {
      "text/html": [
       "<div>\n",
       "<style scoped>\n",
       "    .dataframe tbody tr th:only-of-type {\n",
       "        vertical-align: middle;\n",
       "    }\n",
       "\n",
       "    .dataframe tbody tr th {\n",
       "        vertical-align: top;\n",
       "    }\n",
       "\n",
       "    .dataframe thead th {\n",
       "        text-align: right;\n",
       "    }\n",
       "</style>\n",
       "<table border=\"1\" class=\"dataframe\">\n",
       "  <thead>\n",
       "    <tr style=\"text-align: right;\">\n",
       "      <th></th>\n",
       "      <th>a</th>\n",
       "      <th>b</th>\n",
       "    </tr>\n",
       "  </thead>\n",
       "  <tbody>\n",
       "    <tr>\n",
       "      <th>2017-05-01</th>\n",
       "      <td>165</td>\n",
       "      <td>123</td>\n",
       "    </tr>\n",
       "    <tr>\n",
       "      <th>2017-05-08</th>\n",
       "      <td>173</td>\n",
       "      <td>122</td>\n",
       "    </tr>\n",
       "    <tr>\n",
       "      <th>2017-05-15</th>\n",
       "      <td>170</td>\n",
       "      <td>124</td>\n",
       "    </tr>\n",
       "    <tr>\n",
       "      <th>2017-05-22</th>\n",
       "      <td>184</td>\n",
       "      <td>115</td>\n",
       "    </tr>\n",
       "    <tr>\n",
       "      <th>2017-05-29</th>\n",
       "      <td>226</td>\n",
       "      <td>125</td>\n",
       "    </tr>\n",
       "  </tbody>\n",
       "</table>\n",
       "</div>"
      ],
      "text/plain": [
       "              a    b\n",
       "2017-05-01  165  123\n",
       "2017-05-08  173  122\n",
       "2017-05-15  170  124\n",
       "2017-05-22  184  115\n",
       "2017-05-29  226  125"
      ]
     },
     "execution_count": 101,
     "metadata": {},
     "output_type": "execute_result"
    }
   ],
   "source": [
    "df.loc['2017-05'] [ df.loc['2017-05'].index.weekday==0 ]"
   ]
  },
  {
   "cell_type": "code",
   "execution_count": 257,
   "id": "1f8fbfa6-e5ea-440b-9bec-77af011f79a2",
   "metadata": {},
   "outputs": [
    {
     "data": {
      "text/html": [
       "<div>\n",
       "<style scoped>\n",
       "    .dataframe tbody tr th:only-of-type {\n",
       "        vertical-align: middle;\n",
       "    }\n",
       "\n",
       "    .dataframe tbody tr th {\n",
       "        vertical-align: top;\n",
       "    }\n",
       "\n",
       "    .dataframe thead th {\n",
       "        text-align: right;\n",
       "    }\n",
       "</style>\n",
       "<table border=\"1\" class=\"dataframe\">\n",
       "  <thead>\n",
       "    <tr style=\"text-align: right;\">\n",
       "      <th></th>\n",
       "      <th>a</th>\n",
       "      <th>b</th>\n",
       "    </tr>\n",
       "  </thead>\n",
       "  <tbody>\n",
       "    <tr>\n",
       "      <th>2017-05-01</th>\n",
       "      <td>139</td>\n",
       "      <td>128</td>\n",
       "    </tr>\n",
       "    <tr>\n",
       "      <th>2017-05-08</th>\n",
       "      <td>138</td>\n",
       "      <td>127</td>\n",
       "    </tr>\n",
       "    <tr>\n",
       "      <th>2017-05-15</th>\n",
       "      <td>159</td>\n",
       "      <td>118</td>\n",
       "    </tr>\n",
       "    <tr>\n",
       "      <th>2017-05-22</th>\n",
       "      <td>155</td>\n",
       "      <td>117</td>\n",
       "    </tr>\n",
       "    <tr>\n",
       "      <th>2017-05-29</th>\n",
       "      <td>160</td>\n",
       "      <td>126</td>\n",
       "    </tr>\n",
       "  </tbody>\n",
       "</table>\n",
       "</div>"
      ],
      "text/plain": [
       "              a    b\n",
       "2017-05-01  139  128\n",
       "2017-05-08  138  127\n",
       "2017-05-15  159  118\n",
       "2017-05-22  155  117\n",
       "2017-05-29  160  126"
      ]
     },
     "execution_count": 257,
     "metadata": {},
     "output_type": "execute_result"
    }
   ],
   "source": [
    "df[ (df.index.weekday==0) & (df.index.month==5) ]"
   ]
  },
  {
   "cell_type": "code",
   "execution_count": 103,
   "id": "6342fb44-9c9d-403b-bfa5-f3125f3660c5",
   "metadata": {},
   "outputs": [
    {
     "data": {
      "text/html": [
       "<div>\n",
       "<style scoped>\n",
       "    .dataframe tbody tr th:only-of-type {\n",
       "        vertical-align: middle;\n",
       "    }\n",
       "\n",
       "    .dataframe tbody tr th {\n",
       "        vertical-align: top;\n",
       "    }\n",
       "\n",
       "    .dataframe thead th {\n",
       "        text-align: right;\n",
       "    }\n",
       "</style>\n",
       "<table border=\"1\" class=\"dataframe\">\n",
       "  <thead>\n",
       "    <tr style=\"text-align: right;\">\n",
       "      <th></th>\n",
       "      <th>a</th>\n",
       "      <th>b</th>\n",
       "    </tr>\n",
       "  </thead>\n",
       "  <tbody>\n",
       "  </tbody>\n",
       "</table>\n",
       "</div>"
      ],
      "text/plain": [
       "Empty DataFrame\n",
       "Columns: [a, b]\n",
       "Index: []"
      ]
     },
     "execution_count": 103,
     "metadata": {},
     "output_type": "execute_result"
    }
   ],
   "source": [
    "df[(df.index.weekday==0)&((df.index.month=='May'))]"
   ]
  },
  {
   "cell_type": "code",
   "execution_count": 260,
   "id": "bc5c16a4-2723-4392-9f0f-3ebf476c82a2",
   "metadata": {},
   "outputs": [
    {
     "data": {
      "text/plain": [
       "Int64Index([3, 4, 5, 6, 0, 1, 2, 3, 4, 5,\n",
       "            ...\n",
       "            1, 2, 3, 4, 5, 6, 0, 1, 2, 3],\n",
       "           dtype='int64', length=120)"
      ]
     },
     "execution_count": 260,
     "metadata": {},
     "output_type": "execute_result"
    }
   ],
   "source": [
    "df.index.weekday"
   ]
  },
  {
   "cell_type": "code",
   "execution_count": 258,
   "id": "782d22d2-5642-46a3-9d45-cb491e8478bd",
   "metadata": {},
   "outputs": [
    {
     "data": {
      "text/plain": [
       "Index(['Thursday', 'Friday', 'Saturday', 'Sunday', 'Monday', 'Tuesday',\n",
       "       'Wednesday', 'Thursday', 'Friday', 'Saturday',\n",
       "       ...\n",
       "       'Tuesday', 'Wednesday', 'Thursday', 'Friday', 'Saturday', 'Sunday',\n",
       "       'Monday', 'Tuesday', 'Wednesday', 'Thursday'],\n",
       "      dtype='object', length=120)"
      ]
     },
     "execution_count": 258,
     "metadata": {},
     "output_type": "execute_result"
    }
   ],
   "source": [
    "df.index.day_name()"
   ]
  },
  {
   "cell_type": "code",
   "execution_count": 105,
   "id": "f0df7f66-b390-4052-bfd4-893048f2cc96",
   "metadata": {},
   "outputs": [
    {
     "data": {
      "text/plain": [
       "Index(['Monday', 'Monday', 'Monday', 'Monday', 'Monday'], dtype='object')"
      ]
     },
     "execution_count": 105,
     "metadata": {},
     "output_type": "execute_result"
    }
   ],
   "source": [
    "df[(df.index.weekday==0)&((df.index.month==5))].index.day_name()"
   ]
  },
  {
   "cell_type": "markdown",
   "id": "9174645d-08f9-442e-ad19-f6d9a85f87af",
   "metadata": {},
   "source": [
    "# Manipulando una columna de tipo datetime"
   ]
  },
  {
   "cell_type": "code",
   "execution_count": 261,
   "id": "c6ec8009-521b-4d66-afdf-e46138aa62d7",
   "metadata": {},
   "outputs": [],
   "source": [
    "sd=pd.Series(dates)"
   ]
  },
  {
   "cell_type": "code",
   "execution_count": 262,
   "id": "47ca5314-90fe-4871-ab5f-bc91e747db1a",
   "metadata": {},
   "outputs": [
    {
     "data": {
      "text/plain": [
       "0     2017-04-06\n",
       "1     2017-04-07\n",
       "2     2017-04-08\n",
       "3     2017-04-09\n",
       "4     2017-04-10\n",
       "         ...    \n",
       "115   2017-07-30\n",
       "116   2017-07-31\n",
       "117   2017-08-01\n",
       "118   2017-08-02\n",
       "119   2017-08-03\n",
       "Length: 120, dtype: datetime64[ns]"
      ]
     },
     "execution_count": 262,
     "metadata": {},
     "output_type": "execute_result"
    }
   ],
   "source": [
    "sd"
   ]
  },
  {
   "cell_type": "code",
   "execution_count": 264,
   "id": "7556fbfe-a5d1-48fe-89c3-3f07b2c174c5",
   "metadata": {},
   "outputs": [
    {
     "data": {
      "text/html": [
       "<div>\n",
       "<style scoped>\n",
       "    .dataframe tbody tr th:only-of-type {\n",
       "        vertical-align: middle;\n",
       "    }\n",
       "\n",
       "    .dataframe tbody tr th {\n",
       "        vertical-align: top;\n",
       "    }\n",
       "\n",
       "    .dataframe thead th {\n",
       "        text-align: right;\n",
       "    }\n",
       "</style>\n",
       "<table border=\"1\" class=\"dataframe\">\n",
       "  <thead>\n",
       "    <tr style=\"text-align: right;\">\n",
       "      <th></th>\n",
       "      <th>year</th>\n",
       "      <th>week</th>\n",
       "      <th>day</th>\n",
       "    </tr>\n",
       "  </thead>\n",
       "  <tbody>\n",
       "    <tr>\n",
       "      <th>0</th>\n",
       "      <td>2017</td>\n",
       "      <td>14</td>\n",
       "      <td>4</td>\n",
       "    </tr>\n",
       "    <tr>\n",
       "      <th>1</th>\n",
       "      <td>2017</td>\n",
       "      <td>14</td>\n",
       "      <td>5</td>\n",
       "    </tr>\n",
       "    <tr>\n",
       "      <th>2</th>\n",
       "      <td>2017</td>\n",
       "      <td>14</td>\n",
       "      <td>6</td>\n",
       "    </tr>\n",
       "    <tr>\n",
       "      <th>3</th>\n",
       "      <td>2017</td>\n",
       "      <td>14</td>\n",
       "      <td>7</td>\n",
       "    </tr>\n",
       "    <tr>\n",
       "      <th>4</th>\n",
       "      <td>2017</td>\n",
       "      <td>15</td>\n",
       "      <td>1</td>\n",
       "    </tr>\n",
       "    <tr>\n",
       "      <th>...</th>\n",
       "      <td>...</td>\n",
       "      <td>...</td>\n",
       "      <td>...</td>\n",
       "    </tr>\n",
       "    <tr>\n",
       "      <th>115</th>\n",
       "      <td>2017</td>\n",
       "      <td>30</td>\n",
       "      <td>7</td>\n",
       "    </tr>\n",
       "    <tr>\n",
       "      <th>116</th>\n",
       "      <td>2017</td>\n",
       "      <td>31</td>\n",
       "      <td>1</td>\n",
       "    </tr>\n",
       "    <tr>\n",
       "      <th>117</th>\n",
       "      <td>2017</td>\n",
       "      <td>31</td>\n",
       "      <td>2</td>\n",
       "    </tr>\n",
       "    <tr>\n",
       "      <th>118</th>\n",
       "      <td>2017</td>\n",
       "      <td>31</td>\n",
       "      <td>3</td>\n",
       "    </tr>\n",
       "    <tr>\n",
       "      <th>119</th>\n",
       "      <td>2017</td>\n",
       "      <td>31</td>\n",
       "      <td>4</td>\n",
       "    </tr>\n",
       "  </tbody>\n",
       "</table>\n",
       "<p>120 rows × 3 columns</p>\n",
       "</div>"
      ],
      "text/plain": [
       "     year  week  day\n",
       "0    2017    14    4\n",
       "1    2017    14    5\n",
       "2    2017    14    6\n",
       "3    2017    14    7\n",
       "4    2017    15    1\n",
       "..    ...   ...  ...\n",
       "115  2017    30    7\n",
       "116  2017    31    1\n",
       "117  2017    31    2\n",
       "118  2017    31    3\n",
       "119  2017    31    4\n",
       "\n",
       "[120 rows x 3 columns]"
      ]
     },
     "execution_count": 264,
     "metadata": {},
     "output_type": "execute_result"
    }
   ],
   "source": [
    "sd.dt.isocalendar()"
   ]
  },
  {
   "cell_type": "code",
   "execution_count": 109,
   "id": "42837eeb-c8be-4eed-b445-61d2ef60f8d4",
   "metadata": {},
   "outputs": [
    {
     "data": {
      "text/plain": [
       "0       Thursday\n",
       "1         Friday\n",
       "2       Saturday\n",
       "3         Sunday\n",
       "4         Monday\n",
       "         ...    \n",
       "115       Sunday\n",
       "116       Monday\n",
       "117      Tuesday\n",
       "118    Wednesday\n",
       "119     Thursday\n",
       "Length: 120, dtype: object"
      ]
     },
     "execution_count": 109,
     "metadata": {},
     "output_type": "execute_result"
    }
   ],
   "source": [
    "sd.dt.day_name()"
   ]
  },
  {
   "cell_type": "markdown",
   "id": "4d632bca-a95d-4995-9e22-bb82058fb35c",
   "metadata": {},
   "source": [
    "<img src=\"https://raw.githubusercontent.com/Digital-House-DATA/ds_blend_2021_img/master/M2/CLASE_12_DataWrangling/Presentacion/img/M2_CLASE_12_datetime_format.png\" align=\"center\"></img>\n",
    "\n"
   ]
  },
  {
   "cell_type": "code",
   "execution_count": 265,
   "id": "340825f9-b5e3-4db5-b85a-1051f8c95b15",
   "metadata": {},
   "outputs": [
    {
     "data": {
      "text/plain": [
       "0        dia: Thursday de April\n",
       "1          dia: Friday de April\n",
       "2        dia: Saturday de April\n",
       "3          dia: Sunday de April\n",
       "4          dia: Monday de April\n",
       "                 ...           \n",
       "115         dia: Sunday de July\n",
       "116         dia: Monday de July\n",
       "117      dia: Tuesday de August\n",
       "118    dia: Wednesday de August\n",
       "119     dia: Thursday de August\n",
       "Length: 120, dtype: object"
      ]
     },
     "execution_count": 265,
     "metadata": {},
     "output_type": "execute_result"
    }
   ],
   "source": [
    "# transformar a texto con el formato que quieras\n",
    "\n",
    "sd.dt.strftime('dia: %A de %B')"
   ]
  }
 ],
 "metadata": {
  "kernelspec": {
   "display_name": "Python 3 (ipykernel)",
   "language": "python",
   "name": "python3"
  },
  "language_info": {
   "codemirror_mode": {
    "name": "ipython",
    "version": 3
   },
   "file_extension": ".py",
   "mimetype": "text/x-python",
   "name": "python",
   "nbconvert_exporter": "python",
   "pygments_lexer": "ipython3",
   "version": "3.10.10"
  }
 },
 "nbformat": 4,
 "nbformat_minor": 5
}
