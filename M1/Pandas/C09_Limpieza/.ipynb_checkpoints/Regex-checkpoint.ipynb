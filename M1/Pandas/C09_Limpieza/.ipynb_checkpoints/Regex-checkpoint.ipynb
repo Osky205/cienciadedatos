{
 "cells": [
  {
   "cell_type": "markdown",
   "id": "372e7d41",
   "metadata": {},
   "source": [
    "# Regex!"
   ]
  },
  {
   "cell_type": "code",
   "execution_count": 12,
   "id": "3YxptdeWbWCz",
   "metadata": {
    "colab": {
     "base_uri": "https://localhost:8080/",
     "height": 475
    },
    "id": "3YxptdeWbWCz",
    "outputId": "d3461cfe-ac72-462f-e71f-aca466074471",
    "scrolled": false
   },
   "outputs": [
    {
     "data": {
      "text/html": [
       "<div>\n",
       "<style scoped>\n",
       "    .dataframe tbody tr th:only-of-type {\n",
       "        vertical-align: middle;\n",
       "    }\n",
       "\n",
       "    .dataframe tbody tr th {\n",
       "        vertical-align: top;\n",
       "    }\n",
       "\n",
       "    .dataframe thead th {\n",
       "        text-align: right;\n",
       "    }\n",
       "</style>\n",
       "<table border=\"1\" class=\"dataframe\">\n",
       "  <thead>\n",
       "    <tr style=\"text-align: right;\">\n",
       "      <th></th>\n",
       "      <th>place_with_parent_names</th>\n",
       "      <th>lat-lon</th>\n",
       "      <th>price</th>\n",
       "      <th>currency</th>\n",
       "      <th>price_aprox_usd</th>\n",
       "      <th>surface_total_in_m2</th>\n",
       "      <th>surface_covered_in_m2</th>\n",
       "      <th>price_usd_per_m2</th>\n",
       "      <th>floor</th>\n",
       "      <th>rooms</th>\n",
       "      <th>expenses</th>\n",
       "      <th>description</th>\n",
       "      <th>title</th>\n",
       "    </tr>\n",
       "  </thead>\n",
       "  <tbody>\n",
       "    <tr>\n",
       "      <th>0</th>\n",
       "      <td>|Argentina|Capital Federal|Mataderos|</td>\n",
       "      <td>-34.6618237,-58.5088387</td>\n",
       "      <td>62000.0</td>\n",
       "      <td>USD</td>\n",
       "      <td>62000.0</td>\n",
       "      <td>55.0</td>\n",
       "      <td>40.0</td>\n",
       "      <td>1127.272727</td>\n",
       "      <td>NaN</td>\n",
       "      <td>NaN</td>\n",
       "      <td>NaN</td>\n",
       "      <td>2 AMBIENTES TIPO CASA PLANTA BAJA POR PASILLO,...</td>\n",
       "      <td>2 AMB TIPO CASA SIN EXPENSAS EN PB</td>\n",
       "    </tr>\n",
       "    <tr>\n",
       "      <th>1</th>\n",
       "      <td>|Argentina|Bs.As. G.B.A. Zona Sur|La Plata|</td>\n",
       "      <td>-34.9038831,-57.9643295</td>\n",
       "      <td>150000.0</td>\n",
       "      <td>USD</td>\n",
       "      <td>150000.0</td>\n",
       "      <td>NaN</td>\n",
       "      <td>NaN</td>\n",
       "      <td>NaN</td>\n",
       "      <td>NaN</td>\n",
       "      <td>NaN</td>\n",
       "      <td>NaN</td>\n",
       "      <td>Venta de departamento en décimo piso al frente...</td>\n",
       "      <td>VENTA Depto 2 dorm. a estrenar 7 e/ 36 y 37   ...</td>\n",
       "    </tr>\n",
       "    <tr>\n",
       "      <th>2</th>\n",
       "      <td>|Argentina|Capital Federal|Mataderos|</td>\n",
       "      <td>-34.6522615,-58.5229825</td>\n",
       "      <td>72000.0</td>\n",
       "      <td>USD</td>\n",
       "      <td>72000.0</td>\n",
       "      <td>55.0</td>\n",
       "      <td>55.0</td>\n",
       "      <td>1309.090909</td>\n",
       "      <td>NaN</td>\n",
       "      <td>NaN</td>\n",
       "      <td>NaN</td>\n",
       "      <td>2 AMBIENTES 3ER PISO LATERAL LIVING COMEDOR AM...</td>\n",
       "      <td>2 AMB 3ER PISO CON ASCENSOR APTO CREDITO</td>\n",
       "    </tr>\n",
       "    <tr>\n",
       "      <th>3</th>\n",
       "      <td>|Argentina|Capital Federal|Liniers|</td>\n",
       "      <td>-34.6477969,-58.5164244</td>\n",
       "      <td>95000.0</td>\n",
       "      <td>USD</td>\n",
       "      <td>95000.0</td>\n",
       "      <td>NaN</td>\n",
       "      <td>NaN</td>\n",
       "      <td>NaN</td>\n",
       "      <td>NaN</td>\n",
       "      <td>NaN</td>\n",
       "      <td>NaN</td>\n",
       "      <td>PH 3 ambientes con patio. Hay 3 deptos en lote...</td>\n",
       "      <td>PH 3 amb. cfte. reciclado</td>\n",
       "    </tr>\n",
       "    <tr>\n",
       "      <th>4</th>\n",
       "      <td>|Argentina|Buenos Aires Costa Atlántica|Mar de...</td>\n",
       "      <td>-38.0026256,-57.5494468</td>\n",
       "      <td>64000.0</td>\n",
       "      <td>USD</td>\n",
       "      <td>64000.0</td>\n",
       "      <td>35.0</td>\n",
       "      <td>35.0</td>\n",
       "      <td>1828.571429</td>\n",
       "      <td>NaN</td>\n",
       "      <td>NaN</td>\n",
       "      <td>NaN</td>\n",
       "      <td>DEPARTAMENTO CON FANTÁSTICA ILUMINACIÓN NATURA...</td>\n",
       "      <td>DEPTO 2 AMB AL CONTRAFRENTE ZONA CENTRO/PLAZA ...</td>\n",
       "    </tr>\n",
       "  </tbody>\n",
       "</table>\n",
       "</div>"
      ],
      "text/plain": [
       "                             place_with_parent_names                  lat-lon  \\\n",
       "0              |Argentina|Capital Federal|Mataderos|  -34.6618237,-58.5088387   \n",
       "1        |Argentina|Bs.As. G.B.A. Zona Sur|La Plata|  -34.9038831,-57.9643295   \n",
       "2              |Argentina|Capital Federal|Mataderos|  -34.6522615,-58.5229825   \n",
       "3                |Argentina|Capital Federal|Liniers|  -34.6477969,-58.5164244   \n",
       "4  |Argentina|Buenos Aires Costa Atlántica|Mar de...  -38.0026256,-57.5494468   \n",
       "\n",
       "      price currency  price_aprox_usd  surface_total_in_m2  \\\n",
       "0   62000.0      USD          62000.0                 55.0   \n",
       "1  150000.0      USD         150000.0                  NaN   \n",
       "2   72000.0      USD          72000.0                 55.0   \n",
       "3   95000.0      USD          95000.0                  NaN   \n",
       "4   64000.0      USD          64000.0                 35.0   \n",
       "\n",
       "   surface_covered_in_m2  price_usd_per_m2  floor  rooms  expenses  \\\n",
       "0                   40.0       1127.272727    NaN    NaN       NaN   \n",
       "1                    NaN               NaN    NaN    NaN       NaN   \n",
       "2                   55.0       1309.090909    NaN    NaN       NaN   \n",
       "3                    NaN               NaN    NaN    NaN       NaN   \n",
       "4                   35.0       1828.571429    NaN    NaN       NaN   \n",
       "\n",
       "                                         description  \\\n",
       "0  2 AMBIENTES TIPO CASA PLANTA BAJA POR PASILLO,...   \n",
       "1  Venta de departamento en décimo piso al frente...   \n",
       "2  2 AMBIENTES 3ER PISO LATERAL LIVING COMEDOR AM...   \n",
       "3  PH 3 ambientes con patio. Hay 3 deptos en lote...   \n",
       "4  DEPARTAMENTO CON FANTÁSTICA ILUMINACIÓN NATURA...   \n",
       "\n",
       "                                               title  \n",
       "0                 2 AMB TIPO CASA SIN EXPENSAS EN PB  \n",
       "1  VENTA Depto 2 dorm. a estrenar 7 e/ 36 y 37   ...  \n",
       "2           2 AMB 3ER PISO CON ASCENSOR APTO CREDITO  \n",
       "3                       PH 3 amb. cfte. reciclado     \n",
       "4  DEPTO 2 AMB AL CONTRAFRENTE ZONA CENTRO/PLAZA ...  "
      ]
     },
     "execution_count": 12,
     "metadata": {},
     "output_type": "execute_result"
    }
   ],
   "source": [
    "import pandas as pd\n",
    "prope=pd.read_csv('https://raw.githubusercontent.com/carabedo/labs/master/data/prope.csv',index_col=0)\n",
    "prope.head()"
   ]
  },
  {
   "cell_type": "code",
   "execution_count": 3,
   "id": "UAmD4L_Ibhcp",
   "metadata": {
    "colab": {
     "base_uri": "https://localhost:8080/"
    },
    "id": "UAmD4L_Ibhcp",
    "outputId": "6348ea27-6c9f-467b-ef8b-e90703fd5ce9"
   },
   "outputs": [
    {
     "data": {
      "text/plain": [
       "'2 AMBIENTES TIPO CASA PLANTA BAJA POR PASILLO, REFACCIONADO A NUEVO, PATIO GRANDE, CON LAVADERO, LIVING COMEDOR CON COCINA INTEGRADA, ARTEFACTO DE COCINA, ALACENA, BAÑO COMPLETO, Y DORMITORIO. TODO EN EXCELENTE ESTADO, PARA HABITAR.NO ES APTO CREDITO Aviso publicado por Pixel Inmobiliario (Servicio de Páginas Web para Inmobiliarias).'"
      ]
     },
     "execution_count": 3,
     "metadata": {},
     "output_type": "execute_result"
    }
   ],
   "source": [
    "prope.description[0]"
   ]
  },
  {
   "cell_type": "markdown",
   "id": "83UgFMavcERM",
   "metadata": {
    "id": "83UgFMavcERM"
   },
   "source": [
    "# Regex"
   ]
  },
  {
   "cell_type": "code",
   "execution_count": 2,
   "id": "436520e2",
   "metadata": {
    "id": "436520e2"
   },
   "outputs": [],
   "source": [
    "import re"
   ]
  },
  {
   "cell_type": "code",
   "execution_count": 4,
   "id": "v-sqtSe6a2gt",
   "metadata": {
    "colab": {
     "base_uri": "https://localhost:8080/"
    },
    "id": "v-sqtSe6a2gt",
    "outputId": "b1db632a-e6ea-46ce-fe4a-5f075f6b2424"
   },
   "outputs": [
    {
     "data": {
      "text/plain": [
       "<re.Match object; span=(14, 22), match='estrenar'>"
      ]
     },
     "execution_count": 4,
     "metadata": {},
     "output_type": "execute_result"
    }
   ],
   "source": [
    "texto='2 ambientes a estrenar con pileta'\n",
    "\n",
    "re.search(\"estrenar\", texto)"
   ]
  },
  {
   "cell_type": "code",
   "execution_count": 5,
   "id": "JUuRC76IbO9E",
   "metadata": {
    "colab": {
     "base_uri": "https://localhost:8080/"
    },
    "id": "JUuRC76IbO9E",
    "outputId": "fb54ec38-6b50-4746-e346-6fa98d8641c8"
   },
   "outputs": [
    {
     "data": {
      "text/plain": [
       "<re.Match object; span=(14, 19), match='estre'>"
      ]
     },
     "execution_count": 5,
     "metadata": {},
     "output_type": "execute_result"
    }
   ],
   "source": [
    "re.search(\"estre\", texto)"
   ]
  },
  {
   "cell_type": "code",
   "execution_count": 6,
   "id": "_AKlV8Knbo_x",
   "metadata": {
    "colab": {
     "base_uri": "https://localhost:8080/"
    },
    "id": "_AKlV8Knbo_x",
    "outputId": "d068e650-6389-44c1-842a-e3d53a3caae2"
   },
   "outputs": [
    {
     "data": {
      "text/plain": [
       "<re.Match object; span=(2, 5), match='amb'>"
      ]
     },
     "execution_count": 6,
     "metadata": {},
     "output_type": "execute_result"
    }
   ],
   "source": [
    "re.search(\"amb\", texto)"
   ]
  },
  {
   "cell_type": "markdown",
   "id": "3jI85RcIcAxJ",
   "metadata": {
    "id": "3jI85RcIcAxJ"
   },
   "source": [
    "## `search()` vs. `match()`\n"
   ]
  },
  {
   "cell_type": "code",
   "execution_count": 7,
   "id": "s-YVJZvjbutM",
   "metadata": {
    "id": "s-YVJZvjbutM"
   },
   "outputs": [],
   "source": [
    "re.match(\"amb\", texto)"
   ]
  },
  {
   "cell_type": "code",
   "execution_count": 8,
   "id": "XRTqvMoRcbog",
   "metadata": {
    "id": "XRTqvMoRcbog"
   },
   "outputs": [],
   "source": [
    "texto2='ambientes amplios, hermosa vista ,expensas imposibles, 4 amb'"
   ]
  },
  {
   "cell_type": "code",
   "execution_count": 9,
   "id": "4RJaVqIzcitr",
   "metadata": {
    "colab": {
     "base_uri": "https://localhost:8080/"
    },
    "id": "4RJaVqIzcitr",
    "outputId": "0e75a249-bc3e-49aa-80a5-d359b0792720"
   },
   "outputs": [
    {
     "data": {
      "text/plain": [
       "<re.Match object; span=(0, 3), match='amb'>"
      ]
     },
     "execution_count": 9,
     "metadata": {},
     "output_type": "execute_result"
    }
   ],
   "source": [
    "re.match(\"amb\", texto2)"
   ]
  },
  {
   "cell_type": "markdown",
   "id": "srm6vYaAcMlp",
   "metadata": {
    "id": "srm6vYaAcMlp"
   },
   "source": [
    "## `findall()`"
   ]
  },
  {
   "cell_type": "code",
   "execution_count": 11,
   "id": "KXQmp-Hzb0qO",
   "metadata": {
    "colab": {
     "base_uri": "https://localhost:8080/"
    },
    "id": "KXQmp-Hzb0qO",
    "outputId": "c6d12eac-a3de-4124-a3f2-d485ea9ca705"
   },
   "outputs": [
    {
     "data": {
      "text/plain": [
       "['amb']"
      ]
     },
     "execution_count": 11,
     "metadata": {},
     "output_type": "execute_result"
    }
   ],
   "source": [
    "re.findall(\"amb\", texto)"
   ]
  },
  {
   "cell_type": "code",
   "execution_count": 12,
   "id": "c-iDrnUGc7Ax",
   "metadata": {
    "colab": {
     "base_uri": "https://localhost:8080/"
    },
    "id": "c-iDrnUGc7Ax",
    "outputId": "ec1e6e2d-62b8-49d4-a539-07726c01fb2c"
   },
   "outputs": [
    {
     "data": {
      "text/plain": [
       "['amb', 'amb']"
      ]
     },
     "execution_count": 12,
     "metadata": {},
     "output_type": "execute_result"
    }
   ],
   "source": [
    "re.findall(\"amb\", texto2)"
   ]
  },
  {
   "cell_type": "code",
   "execution_count": 10,
   "id": "cb8b4c66",
   "metadata": {},
   "outputs": [],
   "source": [
    "def funciondani(x):\n",
    "    return re.search(\"estre\", x)"
   ]
  },
  {
   "cell_type": "markdown",
   "id": "zG9yjcF2dLaa",
   "metadata": {
    "id": "zG9yjcF2dLaa"
   },
   "source": [
    "### ejemplo:"
   ]
  },
  {
   "cell_type": "code",
   "execution_count": 17,
   "id": "t-jFd1Qnc-ED",
   "metadata": {
    "colab": {
     "base_uri": "https://localhost:8080/"
    },
    "id": "t-jFd1Qnc-ED",
    "outputId": "878b0040-7f39-4e08-8a9c-99b3b3c4f55e"
   },
   "outputs": [
    {
     "data": {
      "text/plain": [
       "0                                                None\n",
       "1     <re.Match object; span=(50, 55), match='estre'>\n",
       "2                                                None\n",
       "3                                                None\n",
       "4                                                None\n",
       "5                                                None\n",
       "6                                                None\n",
       "7                                                None\n",
       "8                                                None\n",
       "9                                                None\n",
       "10                                               None\n",
       "11                                               None\n",
       "12                                               None\n",
       "13                                               None\n",
       "14                                               None\n",
       "15                                               None\n",
       "16                                               None\n",
       "17                                               None\n",
       "18                                               None\n",
       "19                                               None\n",
       "20                                               None\n",
       "21                                               None\n",
       "22                                               None\n",
       "23                                               None\n",
       "24                                               None\n",
       "25                                               None\n",
       "26                                               None\n",
       "27                                               None\n",
       "28                                               None\n",
       "29                                               None\n",
       "30                                               None\n",
       "31                                               None\n",
       "32                                               None\n",
       "33                                               None\n",
       "34                                               None\n",
       "35                                               None\n",
       "36                                               None\n",
       "37                                               None\n",
       "38                                               None\n",
       "39     <re.Match object; span=(7, 12), match='estre'>\n",
       "40                                               None\n",
       "41                                               None\n",
       "42                                               None\n",
       "43                                               None\n",
       "44                                               None\n",
       "45                                               None\n",
       "46                                               None\n",
       "47                                               None\n",
       "48                                               None\n",
       "49                                               None\n",
       "Name: description, dtype: object"
      ]
     },
     "execution_count": 17,
     "metadata": {},
     "output_type": "execute_result"
    }
   ],
   "source": [
    "prope.description.apply(lambda x : re.search(\"estre\",x ))"
   ]
  },
  {
   "cell_type": "markdown",
   "id": "WYAktduXdvqo",
   "metadata": {
    "id": "WYAktduXdvqo"
   },
   "source": [
    "## Objecto `match`:\n",
    "\n",
    "```\n",
    ".span() returns a tuple containing the start-, and end positions of the match.\n",
    ".string returns the string passed into the function\n",
    ".group() returns the part of the string where there was a match\n",
    "```\n",
    "\n"
   ]
  },
  {
   "cell_type": "code",
   "execution_count": 18,
   "id": "43frg-W_d5by",
   "metadata": {
    "colab": {
     "base_uri": "https://localhost:8080/"
    },
    "id": "43frg-W_d5by",
    "outputId": "ef48267b-851b-4351-ddb6-d1d346d4a48d"
   },
   "outputs": [
    {
     "data": {
      "text/plain": [
       "<re.Match object; span=(50, 55), match='estre'>"
      ]
     },
     "execution_count": 18,
     "metadata": {},
     "output_type": "execute_result"
    }
   ],
   "source": [
    "prope.description.apply(lambda x : re.search(\"estre\", x))[1]"
   ]
  },
  {
   "cell_type": "code",
   "execution_count": 35,
   "id": "c9AVuDtzeDfh",
   "metadata": {
    "colab": {
     "base_uri": "https://localhost:8080/",
     "height": 72
    },
    "id": "c9AVuDtzeDfh",
    "outputId": "26c6a230-bf1b-4ea6-ba89-d910eafd21a0"
   },
   "outputs": [
    {
     "data": {
      "application/vnd.google.colaboratory.intrinsic+json": {
       "type": "string"
      },
      "text/plain": [
       "'Venta de departamento en décimo piso al frente, a estrenar. Living comedor con ventanales hacia el balcón con pisos de madera. Cocina completa con doble mesada, muebles bajo mesada. Lavadero separado. Toilette.Dormitorio con placard. Segundo dormitorio a dividir. Calefacción por radiadorBaño completo.Balcón corrido. Posibilidad de cochera semicubierta. U$D 20.000                     Aviso publicado por Pixel Inmobiliario (Servicio de Páginas Web para Inmobiliarias).'"
      ]
     },
     "execution_count": 35,
     "metadata": {},
     "output_type": "execute_result"
    }
   ],
   "source": [
    "prope.description[1]"
   ]
  },
  {
   "cell_type": "code",
   "execution_count": 36,
   "id": "-06frO8HeGo2",
   "metadata": {
    "id": "-06frO8HeGo2"
   },
   "outputs": [],
   "source": [
    "match1=prope.description.apply(lambda x : re.search(\"estre\", x))[1]"
   ]
  },
  {
   "cell_type": "code",
   "execution_count": 38,
   "id": "PSqYSqpVeMnP",
   "metadata": {
    "colab": {
     "base_uri": "https://localhost:8080/"
    },
    "id": "PSqYSqpVeMnP",
    "outputId": "75eb0509-d25b-4971-b38a-c3a8a52a63c1"
   },
   "outputs": [
    {
     "data": {
      "text/plain": [
       "(50, 55)"
      ]
     },
     "execution_count": 38,
     "metadata": {},
     "output_type": "execute_result"
    }
   ],
   "source": [
    "match1.span()"
   ]
  },
  {
   "cell_type": "code",
   "execution_count": 39,
   "id": "8XrtUTJqePlX",
   "metadata": {
    "colab": {
     "base_uri": "https://localhost:8080/",
     "height": 72
    },
    "id": "8XrtUTJqePlX",
    "outputId": "158cc6ef-b2cc-4795-f021-7ed4904e9171"
   },
   "outputs": [
    {
     "data": {
      "application/vnd.google.colaboratory.intrinsic+json": {
       "type": "string"
      },
      "text/plain": [
       "'Venta de departamento en décimo piso al frente, a estrenar. Living comedor con ventanales hacia el balcón con pisos de madera. Cocina completa con doble mesada, muebles bajo mesada. Lavadero separado. Toilette.Dormitorio con placard. Segundo dormitorio a dividir. Calefacción por radiadorBaño completo.Balcón corrido. Posibilidad de cochera semicubierta. U$D 20.000                     Aviso publicado por Pixel Inmobiliario (Servicio de Páginas Web para Inmobiliarias).'"
      ]
     },
     "execution_count": 39,
     "metadata": {},
     "output_type": "execute_result"
    }
   ],
   "source": [
    "match1.string"
   ]
  },
  {
   "cell_type": "code",
   "execution_count": 40,
   "id": "gPQS1MqCeSh7",
   "metadata": {
    "colab": {
     "base_uri": "https://localhost:8080/",
     "height": 35
    },
    "id": "gPQS1MqCeSh7",
    "outputId": "dd384f6f-a102-40fb-8735-ff4e7cc27a9d"
   },
   "outputs": [
    {
     "data": {
      "application/vnd.google.colaboratory.intrinsic+json": {
       "type": "string"
      },
      "text/plain": [
       "'estre'"
      ]
     },
     "execution_count": 40,
     "metadata": {},
     "output_type": "execute_result"
    }
   ],
   "source": [
    "match1.group()"
   ]
  },
  {
   "cell_type": "markdown",
   "id": "28bd5fb9",
   "metadata": {
    "id": "28bd5fb9"
   },
   "source": [
    "### ¿Qué patrón pueden identificar para los siguientes strings?\n",
    "\n",
    "---\n",
    "\n",
    "ana_laura@hotmail.com\n",
    "\n",
    "juan.perez@gmail.com\n",
    "\n",
    "florgimenez@yahoo.com.ar\n",
    "\n",
    "\n",
    "\n",
    "# Empecemos \n",
    "\n",
    "queremos una expresión regular que sirva de patron para idntificar los mails anteriores.\n"
   ]
  },
  {
   "cell_type": "code",
   "execution_count": 14,
   "id": "5d1a39cd",
   "metadata": {
    "id": "5d1a39cd"
   },
   "outputs": [],
   "source": [
    "texto = 'hola mi mail es ana_laura@hotmail.com escribo para consultar por los horarios.'"
   ]
  },
  {
   "cell_type": "code",
   "execution_count": 15,
   "id": "r7iK0_yKagyS",
   "metadata": {
    "colab": {
     "base_uri": "https://localhost:8080/"
    },
    "id": "r7iK0_yKagyS",
    "outputId": "334350ed-dbf3-4f8b-ff65-74a6a3478a24"
   },
   "outputs": [
    {
     "data": {
      "text/plain": [
       "<re.Match object; span=(25, 26), match='@'>"
      ]
     },
     "execution_count": 15,
     "metadata": {},
     "output_type": "execute_result"
    }
   ],
   "source": [
    "re.search(\"@\", texto)"
   ]
  },
  {
   "cell_type": "markdown",
   "id": "ePVccogDejny",
   "metadata": {
    "id": "ePVccogDejny"
   },
   "source": [
    "Necesitamos definir un patron de busqueda, por ejemplo:\n",
    "\n",
    "```\n",
    "ESPACIOxxxx@xxxxESPACIO\n",
    "```\n"
   ]
  },
  {
   "cell_type": "markdown",
   "id": "bBdpW22efvF2",
   "metadata": {
    "id": "bBdpW22efvF2"
   },
   "source": [
    "## Algunos metacaracteres frecuentes:\n",
    "\n",
    "**\\d** Cualquier dígito del 0 al 9\n",
    "\n",
    "**\\w** Cualquier caracter alfanumérico (A-Z, a-z, 0-9 y _)\n",
    "\n",
    "**\\s** Cualquier espacio en blanco (espacio, tabulado, nueva línea, etc.)\n",
    "\n",
    "**.** Cualquier caracter con excepción de nueva línea (\\n)\n",
    "\n"
   ]
  },
  {
   "cell_type": "code",
   "execution_count": 16,
   "id": "G0jS8TvRarGg",
   "metadata": {
    "colab": {
     "base_uri": "https://localhost:8080/"
    },
    "id": "G0jS8TvRarGg",
    "outputId": "d0953191-6a85-4cd7-890b-0e7aa21fdaaa"
   },
   "outputs": [
    {
     "data": {
      "text/plain": [
       "<re.Match object; span=(24, 27), match='a@h'>"
      ]
     },
     "execution_count": 16,
     "metadata": {},
     "output_type": "execute_result"
    }
   ],
   "source": [
    "re.search(\"\\w@\\w\", texto)"
   ]
  },
  {
   "cell_type": "code",
   "execution_count": 47,
   "id": "_aCCbUBSfHa3",
   "metadata": {
    "id": "_aCCbUBSfHa3"
   },
   "outputs": [],
   "source": [
    "texto = 'hola mi mail es aña_laura@hotmail.com, escribo para consultar por los horarios.'"
   ]
  },
  {
   "cell_type": "markdown",
   "id": "55U9eGOegGqG",
   "metadata": {
    "id": "55U9eGOegGqG"
   },
   "source": [
    "### Cuantificadores:\n",
    "\n",
    "**\\*** Cero o más del elemento anterior\n",
    "\n",
    "**+** Uno o más del elemento anterior\n",
    "\n",
    "**{min,max}** Definen mínimos y máximos de repetición\n",
    "\n",
    "**?** Opcional, ó cero o uno del elemento anterior\n"
   ]
  },
  {
   "cell_type": "code",
   "execution_count": 48,
   "id": "3BOIKHhefHX6",
   "metadata": {
    "colab": {
     "base_uri": "https://localhost:8080/"
    },
    "id": "3BOIKHhefHX6",
    "outputId": "2af751ae-d05a-492e-c6fa-6be9ca48169b"
   },
   "outputs": [
    {
     "data": {
      "text/plain": [
       "<re.Match object; span=(16, 33), match='aña_laura@hotmail'>"
      ]
     },
     "execution_count": 48,
     "metadata": {},
     "output_type": "execute_result"
    }
   ],
   "source": [
    "re.search(\"\\w+@\\w+\", texto)\n"
   ]
  },
  {
   "cell_type": "code",
   "execution_count": 44,
   "id": "e1ae2e6d",
   "metadata": {},
   "outputs": [],
   "source": [
    "texto2 = 'hola mi mail es ana_laura@hotmail,com.ar, escribo para consultar por los horarios. y el de una amiga flor@gmail.com'"
   ]
  },
  {
   "cell_type": "code",
   "execution_count": 50,
   "id": "c1502060",
   "metadata": {},
   "outputs": [
    {
     "data": {
      "text/plain": [
       "<re.Match object; span=(16, 41), match='ana_laura@hotmail,com.ar,'>"
      ]
     },
     "execution_count": 50,
     "metadata": {},
     "output_type": "execute_result"
    }
   ],
   "source": [
    "re.search(\"\\S+@\\S+\", texto2)\n",
    "\n"
   ]
  },
  {
   "cell_type": "code",
   "execution_count": null,
   "id": "c45108e5",
   "metadata": {},
   "outputs": [],
   "source": []
  },
  {
   "cell_type": "code",
   "execution_count": null,
   "id": "7eccef9d",
   "metadata": {},
   "outputs": [],
   "source": []
  },
  {
   "cell_type": "code",
   "execution_count": 31,
   "id": "f04f3d5d",
   "metadata": {},
   "outputs": [
    {
     "data": {
      "text/plain": [
       "['ana_laura@hotmail', 'flor@gmail']"
      ]
     },
     "execution_count": 31,
     "metadata": {},
     "output_type": "execute_result"
    }
   ],
   "source": [
    "re.findall(\"\\w+@\\w+\", texto2)\n",
    "\n"
   ]
  },
  {
   "cell_type": "code",
   "execution_count": null,
   "id": "c994a78b",
   "metadata": {},
   "outputs": [],
   "source": []
  },
  {
   "cell_type": "code",
   "execution_count": 35,
   "id": "f6fbf243",
   "metadata": {},
   "outputs": [
    {
     "data": {
      "text/plain": [
       "98"
      ]
     },
     "execution_count": 35,
     "metadata": {},
     "output_type": "execute_result"
    }
   ],
   "source": [
    "texto2.index('flor@gmail')"
   ]
  },
  {
   "cell_type": "code",
   "execution_count": null,
   "id": "52fb1ca8",
   "metadata": {},
   "outputs": [],
   "source": []
  },
  {
   "cell_type": "code",
   "execution_count": null,
   "id": "5590cb7c",
   "metadata": {},
   "outputs": [],
   "source": []
  },
  {
   "cell_type": "code",
   "execution_count": 46,
   "id": "4W6SKZ-bfHU-",
   "metadata": {
    "colab": {
     "base_uri": "https://localhost:8080/"
    },
    "id": "4W6SKZ-bfHU-",
    "outputId": "04c697fb-5793-4bff-86f5-23fb9f9e5ed9"
   },
   "outputs": [
    {
     "data": {
      "text/plain": [
       "['flor@gmail.com']"
      ]
     },
     "execution_count": 46,
     "metadata": {},
     "output_type": "execute_result"
    }
   ],
   "source": [
    "re.findall(\"\\w+@\\w+\\.\\w+\", texto2)"
   ]
  },
  {
   "cell_type": "code",
   "execution_count": null,
   "id": "5b6909c7",
   "metadata": {},
   "outputs": [],
   "source": []
  },
  {
   "cell_type": "markdown",
   "id": "Mc_dcibAjMUQ",
   "metadata": {
    "id": "Mc_dcibAjMUQ"
   },
   "source": [
    "### Compilando patrones:"
   ]
  },
  {
   "cell_type": "markdown",
   "id": "0166f55c",
   "metadata": {
    "id": "0166f55c"
   },
   "source": [
    "Podemos definir el patron y compilarlo para poder hacer la busqueda de una manera mas practica, para eso usamos el método `compile`"
   ]
  },
  {
   "cell_type": "code",
   "execution_count": 54,
   "id": "1c35cb67",
   "metadata": {
    "id": "1c35cb67"
   },
   "outputs": [],
   "source": [
    "obj_regex = re.compile('\\w+@\\w+.\\w+')"
   ]
  },
  {
   "cell_type": "markdown",
   "id": "28a62893",
   "metadata": {
    "id": "28a62893"
   },
   "source": [
    "Ahora aplicamos nuestro regex al string haciendo una busqueda del patron para eso aplicamos el método `search`"
   ]
  },
  {
   "cell_type": "code",
   "execution_count": 56,
   "id": "bcc41f55",
   "metadata": {
    "colab": {
     "base_uri": "https://localhost:8080/"
    },
    "id": "bcc41f55",
    "outputId": "076fedbd-1990-443c-d9ec-4c189f453cfa"
   },
   "outputs": [
    {
     "data": {
      "text/plain": [
       "<re.Match object; span=(16, 37), match='aña_laura@hotmail.com'>"
      ]
     },
     "execution_count": 56,
     "metadata": {},
     "output_type": "execute_result"
    }
   ],
   "source": [
    "obj_regex.search(texto)"
   ]
  },
  {
   "cell_type": "markdown",
   "id": "25004160",
   "metadata": {
    "id": "25004160"
   },
   "source": [
    "para extraer el match de lo que encontro se usa el método `group`"
   ]
  },
  {
   "cell_type": "code",
   "execution_count": 58,
   "id": "007f5878",
   "metadata": {
    "colab": {
     "base_uri": "https://localhost:8080/",
     "height": 35
    },
    "id": "007f5878",
    "outputId": "930ba8ba-3d7c-46ac-b955-3a5cc6ffedf3"
   },
   "outputs": [
    {
     "data": {
      "text/plain": [
       "'aña_laura@hotmail.com'"
      ]
     },
     "execution_count": 58,
     "metadata": {},
     "output_type": "execute_result"
    }
   ],
   "source": [
    "obj_regex.search(texto).group(0)"
   ]
  },
  {
   "cell_type": "markdown",
   "id": "4881a9ad",
   "metadata": {
    "id": "4881a9ad"
   },
   "source": [
    "¿Qué pasa si quiero tener por separado el usuario y el dominio?\n",
    "\n",
    "para resolver eso se definen grupos dentro del patron de búsqueda de la siguiente manera `()`"
   ]
  },
  {
   "cell_type": "code",
   "execution_count": 60,
   "id": "29e30130",
   "metadata": {
    "colab": {
     "base_uri": "https://localhost:8080/"
    },
    "id": "29e30130",
    "outputId": "cff59b27-2aa6-47f8-ec0b-dceb10ebc7e0"
   },
   "outputs": [
    {
     "data": {
      "text/plain": [
       "<re.Match object; span=(16, 37), match='aña_laura@hotmail.com'>"
      ]
     },
     "execution_count": 60,
     "metadata": {},
     "output_type": "execute_result"
    }
   ],
   "source": [
    "patron = '(\\w+)@(\\w+.\\w+)'\n",
    "\n",
    "regex = re.compile(patron)\n",
    "\n",
    "regex.search(texto)"
   ]
  },
  {
   "cell_type": "markdown",
   "id": "a506c63f",
   "metadata": {
    "id": "a506c63f"
   },
   "source": [
    "Para obtener los grupos que encontró usamos el método `groups`"
   ]
  },
  {
   "cell_type": "code",
   "execution_count": 61,
   "id": "d39239a1",
   "metadata": {
    "colab": {
     "base_uri": "https://localhost:8080/"
    },
    "id": "d39239a1",
    "outputId": "b35d6747-ed63-40d0-8637-782b6463658d"
   },
   "outputs": [
    {
     "data": {
      "text/plain": [
       "('aña_laura', 'hotmail.com')"
      ]
     },
     "execution_count": 61,
     "metadata": {},
     "output_type": "execute_result"
    }
   ],
   "source": [
    "regex.search(texto).groups()"
   ]
  },
  {
   "cell_type": "markdown",
   "id": "c75de188",
   "metadata": {
    "id": "c75de188"
   },
   "source": [
    "Tambien se le puede poner nombre a cada uno de los grupos para poder acceder de una forma más directa y descriptiva `(?P<group_name> )`"
   ]
  },
  {
   "cell_type": "code",
   "execution_count": 66,
   "id": "83716846",
   "metadata": {
    "id": "83716846"
   },
   "outputs": [],
   "source": [
    "patron = '(?P<nombres>\\w+)@(?P<servidores>\\w+.\\w+)'\n",
    "\n",
    "regex = re.compile(patron)"
   ]
  },
  {
   "cell_type": "code",
   "execution_count": 63,
   "id": "78fa152e",
   "metadata": {
    "colab": {
     "base_uri": "https://localhost:8080/"
    },
    "id": "78fa152e",
    "outputId": "d2656eec-27c6-4340-e976-d3f679e2a996"
   },
   "outputs": [
    {
     "data": {
      "text/plain": [
       "('aña_laura', 'hotmail.com')"
      ]
     },
     "execution_count": 63,
     "metadata": {},
     "output_type": "execute_result"
    }
   ],
   "source": [
    "regex.search(texto).groups()"
   ]
  },
  {
   "cell_type": "code",
   "execution_count": 67,
   "id": "ILRQ5H30mNj9",
   "metadata": {
    "colab": {
     "base_uri": "https://localhost:8080/"
    },
    "id": "ILRQ5H30mNj9",
    "outputId": "05a5603d-cff1-441c-cefb-972793d50c82"
   },
   "outputs": [
    {
     "data": {
      "text/plain": [
       "{'nombres': 'aña_laura', 'servidores': 'hotmail.com'}"
      ]
     },
     "execution_count": 67,
     "metadata": {},
     "output_type": "execute_result"
    }
   ],
   "source": [
    "regex.search(texto).groupdict()"
   ]
  },
  {
   "cell_type": "code",
   "execution_count": 69,
   "id": "b00764f9",
   "metadata": {
    "colab": {
     "base_uri": "https://localhost:8080/",
     "height": 35
    },
    "id": "b00764f9",
    "outputId": "fe688123-5384-4e20-af30-fc69d335edea"
   },
   "outputs": [
    {
     "data": {
      "text/plain": [
       "'aña_laura'"
      ]
     },
     "execution_count": 69,
     "metadata": {},
     "output_type": "execute_result"
    }
   ],
   "source": [
    "regex.search(texto).group('nombres')"
   ]
  },
  {
   "cell_type": "markdown",
   "id": "a42da87a",
   "metadata": {
    "id": "a42da87a"
   },
   "source": [
    "Nos apareció el nombre del dominio con el \".com\" podríamos generar otro grupo para captarlo por separado"
   ]
  },
  {
   "cell_type": "code",
   "execution_count": 70,
   "id": "5b49e16d",
   "metadata": {
    "id": "5b49e16d"
   },
   "outputs": [],
   "source": [
    "patron = '(?P<usuario>\\w+)@(?P<dominio>\\w+).(\\w+)'\n",
    "\n",
    "regex = re.compile(patron)"
   ]
  },
  {
   "cell_type": "code",
   "execution_count": 71,
   "id": "9f2e9927",
   "metadata": {
    "colab": {
     "base_uri": "https://localhost:8080/"
    },
    "id": "9f2e9927",
    "outputId": "8194e206-e042-49da-baf9-86144f269b5b"
   },
   "outputs": [
    {
     "data": {
      "text/plain": [
       "('aña_laura', 'hotmail', 'com')"
      ]
     },
     "execution_count": 71,
     "metadata": {},
     "output_type": "execute_result"
    }
   ],
   "source": [
    "regex.search(texto).groups()"
   ]
  },
  {
   "cell_type": "code",
   "execution_count": 72,
   "id": "c7fe433f",
   "metadata": {
    "id": "c7fe433f"
   },
   "outputs": [],
   "source": [
    "texto2= 'Buen dia soy florgimenez@yahoo.com.ar queria saber por que tengo ausente la clase del 35'\n",
    "\n",
    "patron = '(?P<usuario>\\w+)@(?P<dominio>\\w+).(\\w+)'\n",
    "\n",
    "regex = re.compile(patron)"
   ]
  },
  {
   "cell_type": "code",
   "execution_count": 73,
   "id": "841f915c",
   "metadata": {
    "colab": {
     "base_uri": "https://localhost:8080/"
    },
    "id": "841f915c",
    "outputId": "4116ce3b-78fb-47ee-acac-1b9b64624645"
   },
   "outputs": [
    {
     "data": {
      "text/plain": [
       "('florgimenez', 'yahoo', 'com')"
      ]
     },
     "execution_count": 73,
     "metadata": {},
     "output_type": "execute_result"
    }
   ],
   "source": [
    "regex.search(texto2).groups()"
   ]
  },
  {
   "cell_type": "code",
   "execution_count": 74,
   "id": "5db36b7f",
   "metadata": {
    "colab": {
     "base_uri": "https://localhost:8080/"
    },
    "id": "5db36b7f",
    "outputId": "872684bd-745e-4551-e25c-18d5e7e022bb"
   },
   "outputs": [
    {
     "data": {
      "text/plain": [
       "('aña_laura', 'hotmail', 'com')"
      ]
     },
     "execution_count": 74,
     "metadata": {},
     "output_type": "execute_result"
    }
   ],
   "source": [
    "regex.search(texto).groups()"
   ]
  },
  {
   "cell_type": "markdown",
   "id": "173a9655",
   "metadata": {
    "id": "173a9655"
   },
   "source": [
    "### Caracteres optativos `?`"
   ]
  },
  {
   "cell_type": "code",
   "execution_count": 78,
   "id": "a14d968a",
   "metadata": {
    "id": "a14d968a"
   },
   "outputs": [],
   "source": [
    "patron = '(?P<usuario>\\w+)@(?P<dominio>\\w+).(\\w+).(ar)?'\n",
    "regex = re.compile(patron)"
   ]
  },
  {
   "cell_type": "code",
   "execution_count": 79,
   "id": "454de8b0",
   "metadata": {
    "colab": {
     "base_uri": "https://localhost:8080/"
    },
    "id": "454de8b0",
    "outputId": "b050367c-8613-465e-f456-9704e2d06e8e"
   },
   "outputs": [
    {
     "data": {
      "text/plain": [
       "('florgimenez', 'yahoo', 'com', 'ar')"
      ]
     },
     "execution_count": 79,
     "metadata": {},
     "output_type": "execute_result"
    }
   ],
   "source": [
    "regex.search(texto2).groups()"
   ]
  },
  {
   "cell_type": "code",
   "execution_count": 80,
   "id": "d8f2cb98",
   "metadata": {
    "colab": {
     "base_uri": "https://localhost:8080/"
    },
    "id": "d8f2cb98",
    "outputId": "cb4fb299-2005-42e3-d046-078a8e0ac840"
   },
   "outputs": [
    {
     "data": {
      "text/plain": [
       "('aña_laura', 'hotmail', 'com', None)"
      ]
     },
     "execution_count": 80,
     "metadata": {},
     "output_type": "execute_result"
    }
   ],
   "source": [
    "regex.search(texto).groups()"
   ]
  },
  {
   "cell_type": "markdown",
   "id": "izogPnFNrNvb",
   "metadata": {
    "id": "izogPnFNrNvb"
   },
   "source": [
    "### Flags\n"
   ]
  },
  {
   "cell_type": "code",
   "execution_count": 102,
   "id": "5FPzYzd9mn9j",
   "metadata": {
    "colab": {
     "base_uri": "https://localhost:8080/"
    },
    "id": "5FPzYzd9mn9j",
    "outputId": "b605da33-7083-4b18-b90c-ca569dcabd32"
   },
   "outputs": [
    {
     "data": {
      "text/plain": [
       "0                                                None\n",
       "1                                                None\n",
       "2                                                None\n",
       "3         <re.Match object; span=(5, 8), match='amb'>\n",
       "4                                                None\n",
       "5                                                None\n",
       "6                                                None\n",
       "7                                                None\n",
       "8                                                None\n",
       "9                                                None\n",
       "10                                               None\n",
       "11    <re.Match object; span=(155, 158), match='amb'>\n",
       "12                                               None\n",
       "13      <re.Match object; span=(21, 24), match='amb'>\n",
       "14                                               None\n",
       "15                                               None\n",
       "16      <re.Match object; span=(36, 39), match='amb'>\n",
       "17      <re.Match object; span=(12, 15), match='amb'>\n",
       "18    <re.Match object; span=(398, 401), match='amb'>\n",
       "19    <re.Match object; span=(348, 351), match='amb'>\n",
       "20                                               None\n",
       "21                                               None\n",
       "22    <re.Match object; span=(106, 109), match='amb'>\n",
       "23    <re.Match object; span=(399, 402), match='amb'>\n",
       "24      <re.Match object; span=(91, 94), match='amb'>\n",
       "25      <re.Match object; span=(91, 94), match='amb'>\n",
       "26                                               None\n",
       "27                                               None\n",
       "28      <re.Match object; span=(91, 94), match='amb'>\n",
       "29      <re.Match object; span=(40, 43), match='amb'>\n",
       "30                                               None\n",
       "31      <re.Match object; span=(35, 38), match='amb'>\n",
       "32                                               None\n",
       "33      <re.Match object; span=(12, 15), match='amb'>\n",
       "34                                               None\n",
       "35      <re.Match object; span=(31, 34), match='amb'>\n",
       "36                                               None\n",
       "37                                               None\n",
       "38    <re.Match object; span=(253, 256), match='amb'>\n",
       "39                                               None\n",
       "40    <re.Match object; span=(960, 963), match='amb'>\n",
       "41                                               None\n",
       "42                                               None\n",
       "43                                               None\n",
       "44                                               None\n",
       "45      <re.Match object; span=(12, 15), match='amb'>\n",
       "46                                               None\n",
       "47                                               None\n",
       "48                                               None\n",
       "49                                               None\n",
       "Name: description, dtype: object"
      ]
     },
     "execution_count": 102,
     "metadata": {},
     "output_type": "execute_result"
    }
   ],
   "source": [
    "prope.description.apply(lambda x : re.search(\"amb\", x))"
   ]
  },
  {
   "cell_type": "code",
   "execution_count": 106,
   "id": "IwfGgC-frjL7",
   "metadata": {
    "colab": {
     "base_uri": "https://localhost:8080/",
     "height": 54
    },
    "id": "IwfGgC-frjL7",
    "outputId": "20c7f355-57be-4bfe-b756-30b32576e9ac"
   },
   "outputs": [
    {
     "data": {
      "application/vnd.google.colaboratory.intrinsic+json": {
       "type": "string"
      },
      "text/plain": [
       "'2 AMBIENTES TIPO CASA PLANTA BAJA POR PASILLO, REFACCIONADO A NUEVO, PATIO GRANDE, CON LAVADERO, LIVING COMEDOR CON COCINA INTEGRADA, ARTEFACTO DE COCINA, ALACENA, BAÑO COMPLETO, Y DORMITORIO. TODO EN EXCELENTE ESTADO, PARA HABITAR.NO ES APTO CREDITO Aviso publicado por Pixel Inmobiliario (Servicio de Páginas Web para Inmobiliarias).'"
      ]
     },
     "execution_count": 106,
     "metadata": {},
     "output_type": "execute_result"
    }
   ],
   "source": [
    "prope.description[0]"
   ]
  },
  {
   "cell_type": "markdown",
   "id": "w9XxjzCNrtXa",
   "metadata": {
    "id": "w9XxjzCNrtXa"
   },
   "source": [
    "**queremos que ignore si es mayusculas o minisuclas**"
   ]
  },
  {
   "cell_type": "code",
   "execution_count": 107,
   "id": "KXH9cS9nsmPO",
   "metadata": {
    "colab": {
     "base_uri": "https://localhost:8080/"
    },
    "id": "KXH9cS9nsmPO",
    "outputId": "2eb83068-805c-4324-d94d-b80df114ce6b"
   },
   "outputs": [
    {
     "data": {
      "text/plain": [
       "19"
      ]
     },
     "execution_count": 107,
     "metadata": {},
     "output_type": "execute_result"
    }
   ],
   "source": [
    "prope.description.apply(lambda x : re.search(\"amb\", x)).count()"
   ]
  },
  {
   "cell_type": "code",
   "execution_count": 105,
   "id": "2glxkfiXrWjj",
   "metadata": {
    "colab": {
     "base_uri": "https://localhost:8080/"
    },
    "id": "2glxkfiXrWjj",
    "outputId": "ff54b3ff-0927-46e9-b0b0-a645c94e795d"
   },
   "outputs": [
    {
     "data": {
      "text/plain": [
       "25"
      ]
     },
     "execution_count": 105,
     "metadata": {},
     "output_type": "execute_result"
    }
   ],
   "source": [
    "prope.description.apply(lambda x : re.search(\"amb\", x, flags=re.I)).count()"
   ]
  },
  {
   "cell_type": "markdown",
   "id": "QfCbCFQBpqDf",
   "metadata": {
    "id": "QfCbCFQBpqDf"
   },
   "source": [
    "### Flags:\n",
    "\n",
    "Podemos ademas de las wildcards en la expresion regular agregar un parametro global que defina alguna caracteristica de la busqueda:\n",
    "\n",
    "```python\n",
    "re.I\tre.IGNORECASE\tignore case.\n",
    "re.M\tre.MULTILINE\tmake begin/end {^, $} consider each line.\n",
    "re.S\tre.DOTALL\tmake . match newline too.\n",
    "re.U\tre.UNICODE\tmake {\\w, \\W, \\b, \\B} follow Unicode rules.\n",
    "re.L\tre.LOCALE\tmake {\\w, \\W, \\b, \\B} follow locale.\n",
    "re.X\tre.VERBOSE\tallow comment in regex.\n",
    "``` "
   ]
  },
  {
   "cell_type": "markdown",
   "id": "kMnJxLECsy-h",
   "metadata": {
    "id": "kMnJxLECsy-h"
   },
   "source": [
    "# Varias lineas\n"
   ]
  },
  {
   "cell_type": "code",
   "execution_count": 81,
   "id": "445b0810",
   "metadata": {},
   "outputs": [],
   "source": [
    "patron = '(?P<usuario>\\w+)@(?P<dominio>\\w+).(\\w+)'\n",
    "\n"
   ]
  },
  {
   "cell_type": "code",
   "execution_count": 82,
   "id": "22ae22a3",
   "metadata": {
    "id": "22ae22a3"
   },
   "outputs": [],
   "source": [
    "doc=\"\"\"ana_laura@hotmail.com\n",
    "juan.perez@gmail.com\n",
    "florgimenez@yahoo.com.ar\n",
    "PEPITO@FULLZERO.COM\n",
    "mengano arroba gmail.com\n",
    "sultano@gmail.com\n",
    "no\n",
    "jaimito@hotmail.com\n",
    "\n",
    "\n",
    "hector.peres.picaro@gmail.com\"\"\"\n",
    "\n",
    "regex = re.compile(patron, flags = re.I )"
   ]
  },
  {
   "cell_type": "code",
   "execution_count": 83,
   "id": "nJwMnzVCs_eO",
   "metadata": {
    "colab": {
     "base_uri": "https://localhost:8080/"
    },
    "id": "nJwMnzVCs_eO",
    "outputId": "db4f6e03-bfee-43aa-8bb7-bb168cca91fb"
   },
   "outputs": [
    {
     "data": {
      "text/plain": [
       "[('ana_laura', 'hotmail', 'com'),\n",
       " ('perez', 'gmail', 'com'),\n",
       " ('florgimenez', 'yahoo', 'com'),\n",
       " ('PEPITO', 'FULLZERO', 'COM'),\n",
       " ('sultano', 'gmail', 'com'),\n",
       " ('jaimito', 'hotmail', 'com'),\n",
       " ('picaro', 'gmail', 'com')]"
      ]
     },
     "execution_count": 83,
     "metadata": {},
     "output_type": "execute_result"
    }
   ],
   "source": [
    "regex.findall(doc)"
   ]
  },
  {
   "cell_type": "markdown",
   "id": "IKquKtpAtiVC",
   "metadata": {
    "id": "IKquKtpAtiVC"
   },
   "source": [
    "### Solucion:"
   ]
  },
  {
   "cell_type": "code",
   "execution_count": 112,
   "id": "NmrK3O_YtMRV",
   "metadata": {
    "colab": {
     "base_uri": "https://localhost:8080/"
    },
    "id": "NmrK3O_YtMRV",
    "outputId": "f95cb428-645a-4a09-e7c6-fe6e4f29dfa0"
   },
   "outputs": [
    {
     "data": {
      "text/plain": [
       "[('ana_laura', '@', 'hotmail.com', '', ''),\n",
       " ('juan.perez', '@', 'gmail.com', '', ''),\n",
       " ('florgimenez', '@', 'yahoo.com.ar', '', ''),\n",
       " ('PEPITO', '@', 'FULLZERO.COM', '', ''),\n",
       " ('mengano ', 'arroba', ' gmail.com', '', ''),\n",
       " ('sultano', '@', 'gmail.com', '', ''),\n",
       " ('jaimito', '@', 'hotmail.com', '', ''),\n",
       " ('hector.peres.picaro', '@', 'gmail.com', '', '')]"
      ]
     },
     "execution_count": 112,
     "metadata": {},
     "output_type": "execute_result"
    }
   ],
   "source": [
    "re.compile(\"(?P<user>.*)(@|arroba)(?P<dominio>.*(\\.com)?(\\.ar)?)\").findall(doc)"
   ]
  },
  {
   "cell_type": "markdown",
   "id": "_gpqxdAKvugs",
   "metadata": {
    "id": "_gpqxdAKvugs"
   },
   "source": [
    "# Probando patrones:\n",
    "\n",
    "https://regex101.com/\n",
    "\n",
    "``` patron_clase = \"^(?P<nombre_de_usuario>.*)@(?P<dominio>.*)(\\.com)(\\.ar)?$\" ```\n",
    "\n",
    "```\n",
    "ana_laura@hotmail.com\n",
    "juan.perez@gmail.com\n",
    "florgimenez@yahoo.com.ar\n",
    "PEPITO@FULLZERO.COM\n",
    "mengano arroba gmail\n",
    "sultano@gmai.com\n",
    "no\n",
    "jaimito@hotmail.com\n",
    "\n",
    "hector.peres.picaro@gmail.com\n",
    "```"
   ]
  },
  {
   "cell_type": "markdown",
   "id": "3sjFz73Qvw9h",
   "metadata": {
    "id": "3sjFz73Qvw9h"
   },
   "source": [
    "![](https://geekandpoke.typepad.com/.a/6a00d8341d3df553ef0192aa54031f970d-800wi)"
   ]
  }
 ],
 "metadata": {
  "colab": {
   "collapsed_sections": [],
   "name": "C09_regex.ipynb",
   "provenance": []
  },
  "kernelspec": {
   "display_name": "Python 3 (ipykernel)",
   "language": "python",
   "name": "python3"
  },
  "language_info": {
   "codemirror_mode": {
    "name": "ipython",
    "version": 3
   },
   "file_extension": ".py",
   "mimetype": "text/x-python",
   "name": "python",
   "nbconvert_exporter": "python",
   "pygments_lexer": "ipython3",
   "version": "3.8.9"
  }
 },
 "nbformat": 4,
 "nbformat_minor": 5
}
