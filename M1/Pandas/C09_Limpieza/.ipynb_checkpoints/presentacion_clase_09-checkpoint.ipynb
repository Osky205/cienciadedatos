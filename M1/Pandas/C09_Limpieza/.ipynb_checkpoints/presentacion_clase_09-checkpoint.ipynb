{
 "cells": [
  {
   "cell_type": "code",
   "execution_count": 1,
   "metadata": {
    "slideshow": {
     "slide_type": "skip"
    }
   },
   "outputs": [],
   "source": [
    "import pandas as pd\n",
    "import numpy as np"
   ]
  },
  {
   "cell_type": "markdown",
   "metadata": {
    "slideshow": {
     "slide_type": "slide"
    }
   },
   "source": [
    "<link rel=\"stylesheet\" href=\"../../../common/dhds.css\">\n",
    "<div class=\"Table\">\n",
    "    <div class=\"Row\">\n",
    "        <div class=\"Cell grey left\"> <img src=\"https://qph.fs.quoracdn.net/main-qimg-34514a99a842eb5e2f8e590caacbb337\" align=\"center\" /></div>\n",
    "        <div class=\"Cell right\">\n",
    "            <div class=\"div-logo\"><img src=\"https://raw.githubusercontent.com/Digital-House-DATA/ds_blend_2021_img/master/common/logo_DH.png\" align=\"center\" width=70% /></div>\n",
    "            <div class=\"div-curso\">DATA SCIENCE</div>\n",
    "            <div class=\"div-modulo\">MÓDULO 2</div>\n",
    "            <div class=\"div-contenido\">Limpieza de Datos</div>\n",
    "        </div>\n",
    "    </div>\n",
    "</div>"
   ]
  },
  {
   "cell_type": "markdown",
   "metadata": {
    "slideshow": {
     "slide_type": "slide"
    }
   },
   "source": [
    "### Agenda\n",
    "\n",
    "- Aprender operaciones involucradas en la limpieza de datos y los métodos asociados\n",
    "\n",
    "\n",
    "- Introducir el concepto de expresiones regulares (regex) y su utilidad en la limpieza de datos\n"
   ]
  },
  {
   "cell_type": "markdown",
   "metadata": {
    "slideshow": {
     "slide_type": "slide"
    }
   },
   "source": [
    "<div class=\"div-dhds-fondo-1\"> Limpieza y preparación de datos\n",
    "\n",
    "<img src=\"https://raw.githubusercontent.com/Digital-House-DATA/ds_blend_2021_img/master/M2/CLASE_09_LimpiezaDeDatos/Presentacion/img/M2_CLASE_09_separador.png\" align=\"center\"></img>    \n",
    "</div>\n"
   ]
  },
  {
   "cell_type": "markdown",
   "metadata": {
    "slideshow": {
     "slide_type": "slide"
    }
   },
   "source": [
    "### Limpieza y preparación de datos\n",
    "\n",
    "---\n",
    "\n",
    "En 2009 Mike Driscoll (data scientist y CEO de Metamarkets) popularizó el término **\"data munging\"** para referirse al **arduo proceso de limpiar, preparar y validar los datos** \n",
    "\n",
    "\n",
    "<img src=\"https://raw.githubusercontent.com/Digital-House-DATA/ds_blend_2021_img/master/M2/CLASE_09_LimpiezaDeDatos/Presentacion/img/M2_CLASE_09_tiempo_data_scientist_1.png\" align=\"center\"></img>\n",
    "\n",
    "\n",
    "Fuente: <a href=\"http://www.forbes.com/sites/gilpress/2016/03/23/data-preparation-most-time-consuming-least-enjoyable-data-science-task-survey-says/\" target=\"_blank\">http://www.forbes.com/sites/gilpress/2016/03/23/data-preparation-most-time-consuming-least-enjoyable-data-science-task-survey-says/</a>\n",
    "\n"
   ]
  },
  {
   "cell_type": "markdown",
   "metadata": {
    "slideshow": {
     "slide_type": "slide"
    }
   },
   "source": [
    "### Limpieza y preparación de datos\n",
    "\n",
    "---\n",
    "\n",
    "**En 2013**, **Josh Wills** (ex director de Data Science de Cloudera y posterior Director of Data Engineering en Slack ) comenta:  **\"I’m a data janitor. That’s the sexiest job of the 21st century. It’s very flattering, but it’s also a little baffling.\"**\n",
    "\n",
    "<img src=\"https://raw.githubusercontent.com/Digital-House-DATA/ds_blend_2021_img/master/M2/CLASE_09_LimpiezaDeDatos/Presentacion/img/M2_CLASE_09_data_preparation.png\" align=\"center\"></img>\n",
    "\n",
    "\n",
    "Traducción: \n",
    "En Data Science, se invierte un 80% del tiempo en preparar los datos y el 20% restante en quejarse de la necesidad de preparar los datos\n"
   ]
  },
  {
   "cell_type": "markdown",
   "metadata": {
    "slideshow": {
     "slide_type": "fragment"
    }
   },
   "source": [
    "\n"
   ]
  },
  {
   "cell_type": "markdown",
   "metadata": {
    "slideshow": {
     "slide_type": "slide"
    }
   },
   "source": [
    "<div class=\"div-dhds-fondo-1\"> Limpieza de datos con \n",
    "Pandas\n",
    "\n",
    "\n",
    "<img src=\"https://raw.githubusercontent.com/Digital-House-DATA/ds_blend_2021_img/master/M2/CLASE_09_LimpiezaDeDatos/Presentacion/img/M2_CLASE_09_separador.png\" align=\"center\"></img>    \n",
    "</div>\n"
   ]
  },
  {
   "cell_type": "markdown",
   "metadata": {
    "slideshow": {
     "slide_type": "slide"
    }
   },
   "source": [
    "### Limpieza de datos\n",
    "\n",
    "---\n",
    "\n",
    "La limpieza es un paso necesario en todo proyecto de datos. \n",
    "Podemos resumir el proceso de limpieza de datos refiriéndonos a las siguientes <u>cinco tareas</u>:\n",
    "\n",
    "**1. Resolver problemas de formato y asignar los tipos correctos de datos**: \n",
    "\n",
    "Por ejemplo cuando al pasar de CSV a Pandas una fecha no se importa correctamente. Ej: 20090609231247 en lugar de 2009-06-09 23:12:47.\n",
    "\n",
    "El formato en que se encuentran los datos va a afectar nuestro análisis por varias razones. Por ejemplo, las operaciones que se pueden realizar dependen del tipo de datos. Además algunos tipos ocupan menos espacio en memoria que otros.\n",
    "\n",
    "\n",
    "**2. Estandarizar categorías**: \n",
    "\n",
    "Cuando los datos se recolectaron con un sistema que no tiene los valores tipificados, valores que representan las mismas categorías pueden estar expresados de forma distinta, por ejemplo Arg, AR y Argentina. \n",
    "\n",
    "\n",
    "\n"
   ]
  },
  {
   "cell_type": "markdown",
   "metadata": {
    "slideshow": {
     "slide_type": "subslide"
    }
   },
   "source": [
    "**3. Corregir valores erróneos**: \n",
    "\n",
    "Por ejemplo un valor numérico o inválido para describir el género. O una edad representada por un número negativo o mucho mayor que 100.\n",
    "\n",
    "\n",
    "\n",
    "**4. Completar datos faltantes**: \n",
    "\n",
    "Los datasets del mundo real suelen venir con datos faltantes que responden a información que se perdió o nunca se recolectó. \n",
    "\n",
    "Existen varias técnicas para completar datos faltantes. Al proceso de completar datos faltantes se lo llama **\"imputación\"**.\n",
    "\n",
    "\n"
   ]
  },
  {
   "cell_type": "markdown",
   "metadata": {
    "slideshow": {
     "slide_type": "slide"
    }
   },
   "source": [
    "<div class=\"div-dhds-fondo-1\"> Tidy Data\n",
    "\n",
    "<img src=\"https://raw.githubusercontent.com/Digital-House-DATA/ds_blend_2021_img/master/M2/CLASE_09_LimpiezaDeDatos/Presentacion/img/M2_CLASE_09_separador.png\" align=\"center\"></img>    \n",
    "</div>\n"
   ]
  },
  {
   "cell_type": "markdown",
   "metadata": {
    "slideshow": {
     "slide_type": "slide"
    }
   },
   "source": [
    "### Las reglas “tidy data”\n",
    "\n",
    "---\n",
    "\n",
    "Decimos que un dataset está ordenado cuando:\n",
    "\n",
    "* Cada variable es una columna\n",
    "\n",
    "* Cada observación es una fila\n",
    "\n",
    "* Cada tipo de unidad observacional forma una tabla\n",
    "\n",
    "Algunas definiciones:\n",
    "\n",
    "* Variable: Es la medición de un atributo, por ejemplo, peso, altura, etc \n",
    "\n",
    "* Valor: Es la medida que toma una variable para una observación\n",
    "\n",
    "* Observación: Todas las observaciones toman el mismo tipo de valores para cada variable. \n",
    "\n",
    "\n"
   ]
  },
  {
   "cell_type": "markdown",
   "metadata": {
    "slideshow": {
     "slide_type": "slide"
    }
   },
   "source": [
    "### Tidy data:\n",
    "\n",
    "---\n",
    "\n",
    "![](https://www.openscapes.org/img/blog/tidydata/tidydata_2.jpg)\n"
   ]
  },
  {
   "cell_type": "markdown",
   "metadata": {
    "slideshow": {
     "slide_type": "slide"
    }
   },
   "source": [
    "### Limpieza de datos\n",
    "\n",
    "---\n",
    "\n",
    "\n",
    "\n",
    "* Outliers\n",
    "\n",
    "* Nulos/Faltantes\n",
    "\n",
    "* Formato"
   ]
  },
  {
   "cell_type": "markdown",
   "metadata": {
    "slideshow": {
     "slide_type": "slide"
    }
   },
   "source": [
    "<div class=\"div-dhds-fondo-1\"> Datos faltantes\n",
    "\n",
    "<img src=\"https://raw.githubusercontent.com/Digital-House-DATA/ds_blend_2021_img/master/M2/CLASE_09_LimpiezaDeDatos/Presentacion/img/M2_CLASE_09_separador.png\" align=\"center\"></img>    \n",
    "</div>"
   ]
  },
  {
   "cell_type": "markdown",
   "metadata": {
    "slideshow": {
     "slide_type": "slide"
    }
   },
   "source": [
    "### Representación de datos faltantes\n",
    "\n",
    "---\n",
    "\n",
    "* Los datasets del mundo real siempre tienen **datos faltantes**\n",
    "\n",
    "* Cada lenguaje/framework tiene su forma de lidiar con estos\n",
    "\n",
    "* Pandas utiliza los valores **None**, **NaN** o **NaT** debido a que se basa en Numpy\n",
    "\n",
    "    - **None**: objeto de Python que representa ausencia de dato\n",
    "    \n",
    "    - **NaN**: definición de valor faltante de floats \n",
    "    \n",
    "    - **NaT**: se utiliza para valores faltantes del tipo Timestamp\n",
    "\n",
    "\n",
    "Se usa NaN (en vez de  None) por que numpy lo toma como un float64 dtype, en vez del dtype object del None, esto hace manejar estas estructuras de manera mas eficiente.\n"
   ]
  },
  {
   "cell_type": "code",
   "execution_count": 2,
   "metadata": {
    "slideshow": {
     "slide_type": "slide"
    }
   },
   "outputs": [],
   "source": [
    "\n",
    "#  cual es la diferencia entre None y nan?\n",
    "\n",
    "s_bad = pd.Series([1, None], dtype=object)\n",
    "s_good = pd.Series([1, np.nan])"
   ]
  },
  {
   "cell_type": "code",
   "execution_count": 5,
   "metadata": {
    "slideshow": {
     "slide_type": "fragment"
    }
   },
   "outputs": [
    {
     "data": {
      "text/plain": [
       "dtype('O')"
      ]
     },
     "execution_count": 5,
     "metadata": {},
     "output_type": "execute_result"
    }
   ],
   "source": [
    "s_bad.dtype\n"
   ]
  },
  {
   "cell_type": "code",
   "execution_count": 6,
   "metadata": {
    "slideshow": {
     "slide_type": "fragment"
    }
   },
   "outputs": [
    {
     "data": {
      "text/plain": [
       "dtype('float64')"
      ]
     },
     "execution_count": 6,
     "metadata": {},
     "output_type": "execute_result"
    }
   ],
   "source": [
    "s_good.dtype\n"
   ]
  },
  {
   "cell_type": "markdown",
   "metadata": {
    "slideshow": {
     "slide_type": "slide"
    }
   },
   "source": [
    "### Valores faltantes\n",
    "\n",
    "---\n",
    "\n",
    "En general todo conjunto de datos suele tener datos faltantes (ya sea porque esos datos no fueron recolectado o nunca existieron)\n",
    "\n",
    "* Debemos poder detectar, rellenar o eliminar datos faltantes\n",
    "\n",
    "* Hay que utilizar conocimiento del dominio para definir cuáles datos faltantes se completarán y cómo. \n",
    "\n",
    "* Pandas ofrece varias formas de hacer esto.\n",
    "\n",
    "* Los removemos o intentamos completarlos\n",
    "\n"
   ]
  },
  {
   "cell_type": "markdown",
   "metadata": {
    "slideshow": {
     "slide_type": "slide"
    }
   },
   "source": [
    "### Valores faltantes\n",
    "\n",
    "---\n",
    "\n",
    "#### <u>Análisis con datos completos</u>.\n",
    "\n",
    "Una forma de proceder consiste en eliminar los registros que presentan algún dato faltante:\n",
    "\n",
    "* Ventaja: fácil implementación\n",
    "\n",
    "* Desventaja: pérdida importante de información, posibles sesgos en los estimadores de los parámetros.\n",
    "\n",
    "Este método asume que la falta de respuesta se generó de forma aleatoria, lo que por lo general no sucede. \n",
    "\n",
    "Si los datos que faltan son pocos y al azar, entonces este método es el ideal.\n"
   ]
  },
  {
   "cell_type": "code",
   "execution_count": 7,
   "metadata": {
    "slideshow": {
     "slide_type": "subslide"
    }
   },
   "outputs": [
    {
     "name": "stdout",
     "output_type": "stream",
     "text": [
      "(13580, 21)\n"
     ]
    },
    {
     "data": {
      "text/html": [
       "<div>\n",
       "<style scoped>\n",
       "    .dataframe tbody tr th:only-of-type {\n",
       "        vertical-align: middle;\n",
       "    }\n",
       "\n",
       "    .dataframe tbody tr th {\n",
       "        vertical-align: top;\n",
       "    }\n",
       "\n",
       "    .dataframe thead th {\n",
       "        text-align: right;\n",
       "    }\n",
       "</style>\n",
       "<table border=\"1\" class=\"dataframe\">\n",
       "  <thead>\n",
       "    <tr style=\"text-align: right;\">\n",
       "      <th></th>\n",
       "      <th>Suburb</th>\n",
       "      <th>Address</th>\n",
       "      <th>Rooms</th>\n",
       "      <th>Type</th>\n",
       "      <th>Price</th>\n",
       "      <th>Method</th>\n",
       "      <th>SellerG</th>\n",
       "      <th>Date</th>\n",
       "      <th>Distance</th>\n",
       "      <th>Postcode</th>\n",
       "      <th>...</th>\n",
       "      <th>Bathroom</th>\n",
       "      <th>Car</th>\n",
       "      <th>Landsize</th>\n",
       "      <th>BuildingArea</th>\n",
       "      <th>YearBuilt</th>\n",
       "      <th>CouncilArea</th>\n",
       "      <th>Lattitude</th>\n",
       "      <th>Longtitude</th>\n",
       "      <th>Regionname</th>\n",
       "      <th>Propertycount</th>\n",
       "    </tr>\n",
       "  </thead>\n",
       "  <tbody>\n",
       "    <tr>\n",
       "      <th>0</th>\n",
       "      <td>Abbotsford</td>\n",
       "      <td>85 Turner St</td>\n",
       "      <td>2</td>\n",
       "      <td>h</td>\n",
       "      <td>1480000.0</td>\n",
       "      <td>S</td>\n",
       "      <td>Biggin</td>\n",
       "      <td>3/12/2016</td>\n",
       "      <td>2.5</td>\n",
       "      <td>3067.0</td>\n",
       "      <td>...</td>\n",
       "      <td>1.0</td>\n",
       "      <td>1.0</td>\n",
       "      <td>202.0</td>\n",
       "      <td>NaN</td>\n",
       "      <td>NaN</td>\n",
       "      <td>Yarra</td>\n",
       "      <td>-37.7996</td>\n",
       "      <td>144.9984</td>\n",
       "      <td>Northern Metropolitan</td>\n",
       "      <td>4019.0</td>\n",
       "    </tr>\n",
       "    <tr>\n",
       "      <th>1</th>\n",
       "      <td>Abbotsford</td>\n",
       "      <td>25 Bloomburg St</td>\n",
       "      <td>2</td>\n",
       "      <td>h</td>\n",
       "      <td>1035000.0</td>\n",
       "      <td>S</td>\n",
       "      <td>Biggin</td>\n",
       "      <td>4/02/2016</td>\n",
       "      <td>2.5</td>\n",
       "      <td>3067.0</td>\n",
       "      <td>...</td>\n",
       "      <td>1.0</td>\n",
       "      <td>0.0</td>\n",
       "      <td>156.0</td>\n",
       "      <td>79.0</td>\n",
       "      <td>1900.0</td>\n",
       "      <td>Yarra</td>\n",
       "      <td>-37.8079</td>\n",
       "      <td>144.9934</td>\n",
       "      <td>Northern Metropolitan</td>\n",
       "      <td>4019.0</td>\n",
       "    </tr>\n",
       "    <tr>\n",
       "      <th>2</th>\n",
       "      <td>Abbotsford</td>\n",
       "      <td>5 Charles St</td>\n",
       "      <td>3</td>\n",
       "      <td>h</td>\n",
       "      <td>1465000.0</td>\n",
       "      <td>SP</td>\n",
       "      <td>Biggin</td>\n",
       "      <td>4/03/2017</td>\n",
       "      <td>2.5</td>\n",
       "      <td>3067.0</td>\n",
       "      <td>...</td>\n",
       "      <td>2.0</td>\n",
       "      <td>0.0</td>\n",
       "      <td>134.0</td>\n",
       "      <td>150.0</td>\n",
       "      <td>1900.0</td>\n",
       "      <td>Yarra</td>\n",
       "      <td>-37.8093</td>\n",
       "      <td>144.9944</td>\n",
       "      <td>Northern Metropolitan</td>\n",
       "      <td>4019.0</td>\n",
       "    </tr>\n",
       "  </tbody>\n",
       "</table>\n",
       "<p>3 rows × 21 columns</p>\n",
       "</div>"
      ],
      "text/plain": [
       "       Suburb          Address  Rooms Type      Price Method SellerG  \\\n",
       "0  Abbotsford     85 Turner St      2    h  1480000.0      S  Biggin   \n",
       "1  Abbotsford  25 Bloomburg St      2    h  1035000.0      S  Biggin   \n",
       "2  Abbotsford     5 Charles St      3    h  1465000.0     SP  Biggin   \n",
       "\n",
       "        Date  Distance  Postcode  ...  Bathroom  Car  Landsize  BuildingArea  \\\n",
       "0  3/12/2016       2.5    3067.0  ...       1.0  1.0     202.0           NaN   \n",
       "1  4/02/2016       2.5    3067.0  ...       1.0  0.0     156.0          79.0   \n",
       "2  4/03/2017       2.5    3067.0  ...       2.0  0.0     134.0         150.0   \n",
       "\n",
       "   YearBuilt  CouncilArea Lattitude  Longtitude             Regionname  \\\n",
       "0        NaN        Yarra  -37.7996    144.9984  Northern Metropolitan   \n",
       "1     1900.0        Yarra  -37.8079    144.9934  Northern Metropolitan   \n",
       "2     1900.0        Yarra  -37.8093    144.9944  Northern Metropolitan   \n",
       "\n",
       "  Propertycount  \n",
       "0        4019.0  \n",
       "1        4019.0  \n",
       "2        4019.0  \n",
       "\n",
       "[3 rows x 21 columns]"
      ]
     },
     "execution_count": 7,
     "metadata": {},
     "output_type": "execute_result"
    }
   ],
   "source": [
    "data_location = \"../Data/melb_data.csv\"\n",
    "\n",
    "data = pd.read_csv(data_location)\n",
    "\n",
    "print(data.shape)\n",
    "\n",
    "data.head(3)\n",
    "\n"
   ]
  },
  {
   "cell_type": "markdown",
   "metadata": {
    "slideshow": {
     "slide_type": "subslide"
    }
   },
   "source": [
    "##### ```dropna```\n",
    "\n",
    "https://pandas.pydata.org/pandas-docs/stable/reference/api/pandas.DataFrame.dropna.html"
   ]
  },
  {
   "cell_type": "code",
   "execution_count": 8,
   "metadata": {
    "slideshow": {
     "slide_type": "fragment"
    }
   },
   "outputs": [
    {
     "name": "stdout",
     "output_type": "stream",
     "text": [
      "(6196, 21)\n"
     ]
    },
    {
     "data": {
      "text/html": [
       "<div>\n",
       "<style scoped>\n",
       "    .dataframe tbody tr th:only-of-type {\n",
       "        vertical-align: middle;\n",
       "    }\n",
       "\n",
       "    .dataframe tbody tr th {\n",
       "        vertical-align: top;\n",
       "    }\n",
       "\n",
       "    .dataframe thead th {\n",
       "        text-align: right;\n",
       "    }\n",
       "</style>\n",
       "<table border=\"1\" class=\"dataframe\">\n",
       "  <thead>\n",
       "    <tr style=\"text-align: right;\">\n",
       "      <th></th>\n",
       "      <th>Suburb</th>\n",
       "      <th>Address</th>\n",
       "      <th>Rooms</th>\n",
       "      <th>Type</th>\n",
       "      <th>Price</th>\n",
       "      <th>Method</th>\n",
       "      <th>SellerG</th>\n",
       "      <th>Date</th>\n",
       "      <th>Distance</th>\n",
       "      <th>Postcode</th>\n",
       "      <th>...</th>\n",
       "      <th>Bathroom</th>\n",
       "      <th>Car</th>\n",
       "      <th>Landsize</th>\n",
       "      <th>BuildingArea</th>\n",
       "      <th>YearBuilt</th>\n",
       "      <th>CouncilArea</th>\n",
       "      <th>Lattitude</th>\n",
       "      <th>Longtitude</th>\n",
       "      <th>Regionname</th>\n",
       "      <th>Propertycount</th>\n",
       "    </tr>\n",
       "  </thead>\n",
       "  <tbody>\n",
       "    <tr>\n",
       "      <th>1</th>\n",
       "      <td>Abbotsford</td>\n",
       "      <td>25 Bloomburg St</td>\n",
       "      <td>2</td>\n",
       "      <td>h</td>\n",
       "      <td>1035000.0</td>\n",
       "      <td>S</td>\n",
       "      <td>Biggin</td>\n",
       "      <td>4/02/2016</td>\n",
       "      <td>2.5</td>\n",
       "      <td>3067.0</td>\n",
       "      <td>...</td>\n",
       "      <td>1.0</td>\n",
       "      <td>0.0</td>\n",
       "      <td>156.0</td>\n",
       "      <td>79.0</td>\n",
       "      <td>1900.0</td>\n",
       "      <td>Yarra</td>\n",
       "      <td>-37.8079</td>\n",
       "      <td>144.9934</td>\n",
       "      <td>Northern Metropolitan</td>\n",
       "      <td>4019.0</td>\n",
       "    </tr>\n",
       "    <tr>\n",
       "      <th>2</th>\n",
       "      <td>Abbotsford</td>\n",
       "      <td>5 Charles St</td>\n",
       "      <td>3</td>\n",
       "      <td>h</td>\n",
       "      <td>1465000.0</td>\n",
       "      <td>SP</td>\n",
       "      <td>Biggin</td>\n",
       "      <td>4/03/2017</td>\n",
       "      <td>2.5</td>\n",
       "      <td>3067.0</td>\n",
       "      <td>...</td>\n",
       "      <td>2.0</td>\n",
       "      <td>0.0</td>\n",
       "      <td>134.0</td>\n",
       "      <td>150.0</td>\n",
       "      <td>1900.0</td>\n",
       "      <td>Yarra</td>\n",
       "      <td>-37.8093</td>\n",
       "      <td>144.9944</td>\n",
       "      <td>Northern Metropolitan</td>\n",
       "      <td>4019.0</td>\n",
       "    </tr>\n",
       "    <tr>\n",
       "      <th>4</th>\n",
       "      <td>Abbotsford</td>\n",
       "      <td>55a Park St</td>\n",
       "      <td>4</td>\n",
       "      <td>h</td>\n",
       "      <td>1600000.0</td>\n",
       "      <td>VB</td>\n",
       "      <td>Nelson</td>\n",
       "      <td>4/06/2016</td>\n",
       "      <td>2.5</td>\n",
       "      <td>3067.0</td>\n",
       "      <td>...</td>\n",
       "      <td>1.0</td>\n",
       "      <td>2.0</td>\n",
       "      <td>120.0</td>\n",
       "      <td>142.0</td>\n",
       "      <td>2014.0</td>\n",
       "      <td>Yarra</td>\n",
       "      <td>-37.8072</td>\n",
       "      <td>144.9941</td>\n",
       "      <td>Northern Metropolitan</td>\n",
       "      <td>4019.0</td>\n",
       "    </tr>\n",
       "  </tbody>\n",
       "</table>\n",
       "<p>3 rows × 21 columns</p>\n",
       "</div>"
      ],
      "text/plain": [
       "       Suburb          Address  Rooms Type      Price Method SellerG  \\\n",
       "1  Abbotsford  25 Bloomburg St      2    h  1035000.0      S  Biggin   \n",
       "2  Abbotsford     5 Charles St      3    h  1465000.0     SP  Biggin   \n",
       "4  Abbotsford      55a Park St      4    h  1600000.0     VB  Nelson   \n",
       "\n",
       "        Date  Distance  Postcode  ...  Bathroom  Car  Landsize  BuildingArea  \\\n",
       "1  4/02/2016       2.5    3067.0  ...       1.0  0.0     156.0          79.0   \n",
       "2  4/03/2017       2.5    3067.0  ...       2.0  0.0     134.0         150.0   \n",
       "4  4/06/2016       2.5    3067.0  ...       1.0  2.0     120.0         142.0   \n",
       "\n",
       "   YearBuilt  CouncilArea Lattitude  Longtitude             Regionname  \\\n",
       "1     1900.0        Yarra  -37.8079    144.9934  Northern Metropolitan   \n",
       "2     1900.0        Yarra  -37.8093    144.9944  Northern Metropolitan   \n",
       "4     2014.0        Yarra  -37.8072    144.9941  Northern Metropolitan   \n",
       "\n",
       "  Propertycount  \n",
       "1        4019.0  \n",
       "2        4019.0  \n",
       "4        4019.0  \n",
       "\n",
       "[3 rows x 21 columns]"
      ]
     },
     "execution_count": 8,
     "metadata": {},
     "output_type": "execute_result"
    }
   ],
   "source": [
    "# elimino los registros que tienen algún campo con valor nulo\n",
    "# 0, or 'index' : Drop rows which contain missing values.\n",
    "# default 0\n",
    "\n",
    "data.dropna(axis=0, how = 'any', inplace = True)\n",
    "\n",
    "#el any es sobre las columnas\n",
    "\n",
    "print(data.shape)\n",
    "\n",
    "data.head(3)\n"
   ]
  },
  {
   "cell_type": "markdown",
   "metadata": {
    "slideshow": {
     "slide_type": "subslide"
    }
   },
   "source": [
    "```python\n",
    "thresh : int, optional\n",
    "    Require that many non-NA values.\n",
    "subset : array-like, optional\n",
    "    Labels along other axis to consider, e.g. if you are dropping rows\n",
    "    these would be a list of columns to include.\n",
    "``` "
   ]
  },
  {
   "cell_type": "markdown",
   "metadata": {
    "slideshow": {
     "slide_type": "slide"
    }
   },
   "source": [
    "\n",
    "\n",
    "#### <u>Métodos de imputación</u>\n",
    "\n",
    "##### **Imputación Simple**:\n",
    "\n",
    "Consiste en asignar un valor por cada dato faltante a partir de la propia variable o las demás variables para lograr una base de datos completa.\n",
    "\n",
    "\n",
    "##### **Imputación Múltiple**:\n",
    "\n",
    "A cada valor faltante se le asigna un grupo de <i>m</i> valores, generando <i>m</i> bases de datos completas. En cada una de las <i>m</i> bases de datos se estiman los parámetros de interés y luego se combinan los resultados obtenidos.\n",
    "\n"
   ]
  },
  {
   "cell_type": "markdown",
   "metadata": {
    "slideshow": {
     "slide_type": "slide"
    }
   },
   "source": [
    "##### **Imputación por Media**:\n",
    "\n",
    "Se puede completar los valores faltantes reemplazandolos **por la media** de la serie o **por la media condicionada** a determinada categoría. Por ejemplo, dado un valor de estatura faltante para una mujer, reemplazarlo por la media de las mujeres. \n",
    "\n",
    "Este enfoque tiene ventajas y desventajas:\n",
    "\n",
    "* Ventaja: Es muy probable acercarme al verdadero valor del dato faltante\n",
    "\n",
    "* Desventajas: \n",
    "\n",
    "    - Reduzco artificialmente la variabilidad y la aleatoriedad de los datos, lo cual me puede llevar a conclusiones equivocadas.\n",
    "\n",
    "    - Si existía correlación entre esta variable y otras, ese valor puede verse afectado.\n",
    "\n",
    "\n",
    "\n"
   ]
  },
  {
   "cell_type": "markdown",
   "metadata": {
    "slideshow": {
     "slide_type": "slide"
    }
   },
   "source": [
    "\n",
    "##### **Imputación Hot Deck**:\n",
    "\n",
    "Consisten en completar con un dato existente de la muestra, siguiendo algún criterio. \n",
    "\n",
    "Pueden ser \n",
    "\n",
    "* aleatorios (se elige un elemento al azar), \n",
    "* secuencial (se completa con el valor inmediatamente anterior o posterior),\n",
    "* vecino más cercano.\n",
    "\n",
    "##### **Imputación por Regresión**:\n",
    "\n",
    "Se emplean modelos de regresión para estimar el dato que falta a partir de las demás variables del dataset. \n"
   ]
  },
  {
   "cell_type": "markdown",
   "metadata": {
    "slideshow": {
     "slide_type": "slide"
    }
   },
   "source": [
    "<div class=\"div-dhds-fondo-1\"> Introducción a imputación en Pandas\n",
    "\n",
    "<img src=\"https://raw.githubusercontent.com/Digital-House-DATA/ds_blend_2021_img/master/M2/CLASE_09_LimpiezaDeDatos/Presentacion/img/M2_CLASE_09_separador.png\" align=\"center\"></img>    \n",
    "</div>\n"
   ]
  },
  {
   "cell_type": "markdown",
   "metadata": {
    "slideshow": {
     "slide_type": "slide"
    }
   },
   "source": [
    "### Introducción a imputación en Pandas\n",
    "\n",
    "---\n",
    "\n",
    "El método <b>fillna()</b> de Pandas, permite varios tipos de imputación que puede especificarse en el parámetro “method”:\n",
    "\n",
    "* Completar los datos con valores definidos por fuera del data set. (<b>method = None</b>) ya que se ingresa directamente como argumento el valor con el que se imputará. \n",
    "\n",
    "* Completar los datos faltantes con el valor anterior o el siguiente (ideal para series de tiempo) (<b>method = ffill</b>) o (<b>method = bfill</b>)\n",
    "\n",
    "* Completar por la media, moda o la mediana. <b>df.fillna(df.mean())</b>\n"
   ]
  },
  {
   "cell_type": "markdown",
   "metadata": {
    "slideshow": {
     "slide_type": "slide"
    }
   },
   "source": [
    "### Imputación Simple en Pandas"
   ]
  },
  {
   "cell_type": "code",
   "execution_count": 159,
   "metadata": {
    "slideshow": {
     "slide_type": "fragment"
    }
   },
   "outputs": [
    {
     "name": "stdout",
     "output_type": "stream",
     "text": [
      "(13580, 21)\n"
     ]
    },
    {
     "data": {
      "text/plain": [
       "6450"
      ]
     },
     "execution_count": 159,
     "metadata": {},
     "output_type": "execute_result"
    }
   ],
   "source": [
    "data_location = \"../Data/melb_data.csv\"\n",
    "\n",
    "data = pd.read_csv(data_location)\n",
    "\n",
    "print(data.shape)\n",
    "\n",
    "data.BuildingArea.isnull().sum()\n"
   ]
  },
  {
   "cell_type": "markdown",
   "metadata": {
    "slideshow": {
     "slide_type": "subslide"
    }
   },
   "source": [
    "Hay 6450 propiedades que tienen nulo en el dato BuildingArea. \n",
    "\n",
    "Vamos a completar los valores nulos en este campo asignando un valor al azar de ```data.BuildingArea```\n",
    "\n"
   ]
  },
  {
   "cell_type": "code",
   "execution_count": 22,
   "metadata": {
    "slideshow": {
     "slide_type": "fragment"
    }
   },
   "outputs": [
    {
     "data": {
      "text/plain": [
       "0      NaN\n",
       "1     79.0\n",
       "2    150.0\n",
       "3      NaN\n",
       "4    142.0\n",
       "Name: BuildingArea, dtype: float64"
      ]
     },
     "execution_count": 22,
     "metadata": {},
     "output_type": "execute_result"
    }
   ],
   "source": [
    "data.BuildingArea.head(5)"
   ]
  },
  {
   "cell_type": "code",
   "execution_count": 23,
   "metadata": {
    "slideshow": {
     "slide_type": "subslide"
    }
   },
   "outputs": [
    {
     "name": "stdout",
     "output_type": "stream",
     "text": [
      "cantidad de valores posibles:  7130\n",
      "índice del elemento que usamos para imputar:  4582\n",
      "valor de imputación:  98.0\n"
     ]
    }
   ],
   "source": [
    "possible_values = data.BuildingArea[data.BuildingArea.notnull()]\n",
    "\n",
    "print(\"cantidad de valores posibles: \", len(possible_values))\n",
    "\n",
    "rng = np.random.default_rng()\n",
    "\n",
    "# All values generated will be less than high:\n",
    "fill_value_indexes = rng.integers(low = 0, high = len(possible_values), size = 1)\n",
    "\n",
    "fill_value_index = fill_value_indexes[0]\n",
    "\n",
    "print(\"índice del elemento que usamos para imputar: \", fill_value_index)\n",
    "\n",
    "fill_value = possible_values.iloc[fill_value_index]\n",
    "\n",
    "print(\"valor de imputación: \", fill_value)"
   ]
  },
  {
   "cell_type": "code",
   "execution_count": 24,
   "metadata": {
    "slideshow": {
     "slide_type": "subslide"
    }
   },
   "outputs": [
    {
     "name": "stdout",
     "output_type": "stream",
     "text": [
      "cantidad de nulos:  0\n"
     ]
    },
    {
     "data": {
      "text/plain": [
       "0     98.0\n",
       "1     79.0\n",
       "2    150.0\n",
       "3     98.0\n",
       "4    142.0\n",
       "Name: BuildingArea, dtype: float64"
      ]
     },
     "execution_count": 24,
     "metadata": {},
     "output_type": "execute_result"
    }
   ],
   "source": [
    "data_BuildingArea_complete = data.BuildingArea.fillna(fill_value)\n",
    "print(\"cantidad de nulos: \", data_BuildingArea_complete.isnull().sum())\n",
    "data_BuildingArea_complete.head(5)"
   ]
  },
  {
   "cell_type": "markdown",
   "metadata": {
    "slideshow": {
     "slide_type": "slide"
    }
   },
   "source": [
    "### Imputación por Media en Pandas\n",
    "\n",
    "Hay 6450 registros que tienen valor nulo en el campo BuildingArea"
   ]
  },
  {
   "cell_type": "code",
   "execution_count": 25,
   "metadata": {
    "slideshow": {
     "slide_type": "fragment"
    }
   },
   "outputs": [
    {
     "data": {
      "text/plain": [
       "6450"
      ]
     },
     "execution_count": 25,
     "metadata": {},
     "output_type": "execute_result"
    }
   ],
   "source": [
    "data.BuildingArea.isnull().sum()"
   ]
  },
  {
   "cell_type": "markdown",
   "metadata": {
    "slideshow": {
     "slide_type": "subslide"
    }
   },
   "source": [
    "Vamos a completar estos registros con el valor medio del campo BuildingArea"
   ]
  },
  {
   "cell_type": "code",
   "execution_count": 26,
   "metadata": {
    "slideshow": {
     "slide_type": "fragment"
    }
   },
   "outputs": [],
   "source": [
    "data.BuildingArea.fillna(data.BuildingArea.mean(), inplace = True)"
   ]
  },
  {
   "cell_type": "markdown",
   "metadata": {
    "slideshow": {
     "slide_type": "fragment"
    }
   },
   "source": [
    "Y verificamos que no quedó ningún registro con valor nulo en BuildingArea"
   ]
  },
  {
   "cell_type": "code",
   "execution_count": 28,
   "metadata": {
    "slideshow": {
     "slide_type": "fragment"
    }
   },
   "outputs": [
    {
     "data": {
      "text/plain": [
       "0"
      ]
     },
     "execution_count": 28,
     "metadata": {},
     "output_type": "execute_result"
    }
   ],
   "source": [
    "data.BuildingArea.isnull().sum()"
   ]
  },
  {
   "cell_type": "markdown",
   "metadata": {
    "slideshow": {
     "slide_type": "slide"
    }
   },
   "source": [
    "<div class=\"div-dhds-fondo-1\"> Herramientas para la limpieza de datos\n",
    "\n",
    "<img src=\"https://raw.githubusercontent.com/Digital-House-DATA/ds_blend_2021_img/master/M2/CLASE_09_LimpiezaDeDatos/Presentacion/img/M2_CLASE_09_separador.png\" align=\"center\"></img>    \n",
    "</div>"
   ]
  },
  {
   "cell_type": "markdown",
   "metadata": {
    "slideshow": {
     "slide_type": "slide"
    }
   },
   "source": [
    "### Expresiones lambda\n",
    "\n",
    "---\n",
    "\n",
    "Recordemos cómo construir una función usando ```def:```\n",
    "\n",
    "Este forma de declarar funciones sirve, entre otras cosas, para no duplicar y para modularizar el código.\n",
    "\n"
   ]
  },
  {
   "cell_type": "code",
   "execution_count": 19,
   "metadata": {
    "slideshow": {
     "slide_type": "fragment"
    }
   },
   "outputs": [
    {
     "data": {
      "text/plain": [
       "100"
      ]
     },
     "execution_count": 19,
     "metadata": {},
     "output_type": "execute_result"
    }
   ],
   "source": [
    "def square(x):\n",
    "    return x ** 2\n",
    "\n",
    "square(10)"
   ]
  },
  {
   "cell_type": "markdown",
   "metadata": {
    "slideshow": {
     "slide_type": "subslide"
    }
   },
   "source": [
    "¿Tendría sentido definir una función de este modo si vamos a invocar dicha función una única vez?\n",
    "\n",
    "Las funciones ```lambda``` pueden ser directamente definidas en el código que las va a utilizar y sin necesidad de otorgarles un nombre (son **funciones descartables**).\n",
    "\n",
    "**Toman una única expresión y no contienen la expresión ```return```**.\n",
    "\n",
    "Se definen en una única línea.\n"
   ]
  },
  {
   "cell_type": "code",
   "execution_count": 20,
   "metadata": {
    "slideshow": {
     "slide_type": "fragment"
    }
   },
   "outputs": [
    {
     "data": {
      "text/plain": [
       "100"
      ]
     },
     "execution_count": 20,
     "metadata": {},
     "output_type": "execute_result"
    }
   ],
   "source": [
    "square = lambda x: x ** 2\n",
    "\n",
    "square(10)"
   ]
  },
  {
   "cell_type": "markdown",
   "metadata": {
    "slideshow": {
     "slide_type": "slide"
    }
   },
   "source": [
    "### ```apply()``` en Pandas\n",
    "\n",
    "---\n",
    "\n",
    "- El método ```apply()``` permite aplicar cualquier función a los elementos de un DataFrame. \n",
    "\n",
    "    Se puede utilizar:\n",
    "\n",
    "    * Por columna: ```df.apply(mi_funcion)``` (iterando por columnas, axis=0 por default)\n",
    "    \n",
    "    * Por fila  ```df.apply(mi_funcion, axis = 1)``` (iterando por filas)\n",
    "\n",
    "    * Elemento por elemento ```df.applymap(mi_funcion)```\n",
    "\n",
    "\n",
    "- ```.apply()``` también se puede utilizar sobre una instancia de Series, elemento por elemento.\n",
    "\n",
    "\n",
    "- Una buena propiedad de ```apply()``` es que permite aplicar las operaciones vectorizadas de NumPy.\n",
    "\n",
    "#### **el apply devuelve una df/serie depende donde sea usado**\n"
   ]
  },
  {
   "cell_type": "markdown",
   "metadata": {
    "slideshow": {
     "slide_type": "subslide"
    }
   },
   "source": [
    "#### Ejemplo ```apply()``` y ```lambda```"
   ]
  },
  {
   "cell_type": "code",
   "execution_count": 192,
   "metadata": {
    "slideshow": {
     "slide_type": "fragment"
    }
   },
   "outputs": [
    {
     "name": "stdout",
     "output_type": "stream",
     "text": [
      "(13580, 21)\n"
     ]
    },
    {
     "data": {
      "text/html": [
       "<div>\n",
       "<style scoped>\n",
       "    .dataframe tbody tr th:only-of-type {\n",
       "        vertical-align: middle;\n",
       "    }\n",
       "\n",
       "    .dataframe tbody tr th {\n",
       "        vertical-align: top;\n",
       "    }\n",
       "\n",
       "    .dataframe thead th {\n",
       "        text-align: right;\n",
       "    }\n",
       "</style>\n",
       "<table border=\"1\" class=\"dataframe\">\n",
       "  <thead>\n",
       "    <tr style=\"text-align: right;\">\n",
       "      <th></th>\n",
       "      <th>Suburb</th>\n",
       "      <th>Address</th>\n",
       "      <th>Rooms</th>\n",
       "      <th>Type</th>\n",
       "      <th>Price</th>\n",
       "      <th>Method</th>\n",
       "      <th>SellerG</th>\n",
       "      <th>Date</th>\n",
       "      <th>Distance</th>\n",
       "      <th>Postcode</th>\n",
       "      <th>...</th>\n",
       "      <th>Bathroom</th>\n",
       "      <th>Car</th>\n",
       "      <th>Landsize</th>\n",
       "      <th>BuildingArea</th>\n",
       "      <th>YearBuilt</th>\n",
       "      <th>CouncilArea</th>\n",
       "      <th>Lattitude</th>\n",
       "      <th>Longtitude</th>\n",
       "      <th>Regionname</th>\n",
       "      <th>Propertycount</th>\n",
       "    </tr>\n",
       "  </thead>\n",
       "  <tbody>\n",
       "    <tr>\n",
       "      <th>0</th>\n",
       "      <td>Abbotsford</td>\n",
       "      <td>85 Turner St</td>\n",
       "      <td>2</td>\n",
       "      <td>h</td>\n",
       "      <td>1480000.0</td>\n",
       "      <td>S</td>\n",
       "      <td>Biggin</td>\n",
       "      <td>3/12/2016</td>\n",
       "      <td>2.5</td>\n",
       "      <td>3067.0</td>\n",
       "      <td>...</td>\n",
       "      <td>1.0</td>\n",
       "      <td>1.0</td>\n",
       "      <td>202.0</td>\n",
       "      <td>NaN</td>\n",
       "      <td>NaN</td>\n",
       "      <td>Yarra</td>\n",
       "      <td>-37.7996</td>\n",
       "      <td>144.9984</td>\n",
       "      <td>Northern Metropolitan</td>\n",
       "      <td>4019.0</td>\n",
       "    </tr>\n",
       "    <tr>\n",
       "      <th>1</th>\n",
       "      <td>Abbotsford</td>\n",
       "      <td>25 Bloomburg St</td>\n",
       "      <td>2</td>\n",
       "      <td>h</td>\n",
       "      <td>1035000.0</td>\n",
       "      <td>S</td>\n",
       "      <td>Biggin</td>\n",
       "      <td>4/02/2016</td>\n",
       "      <td>2.5</td>\n",
       "      <td>3067.0</td>\n",
       "      <td>...</td>\n",
       "      <td>1.0</td>\n",
       "      <td>0.0</td>\n",
       "      <td>156.0</td>\n",
       "      <td>79.0</td>\n",
       "      <td>1900.0</td>\n",
       "      <td>Yarra</td>\n",
       "      <td>-37.8079</td>\n",
       "      <td>144.9934</td>\n",
       "      <td>Northern Metropolitan</td>\n",
       "      <td>4019.0</td>\n",
       "    </tr>\n",
       "    <tr>\n",
       "      <th>2</th>\n",
       "      <td>Abbotsford</td>\n",
       "      <td>5 Charles St</td>\n",
       "      <td>3</td>\n",
       "      <td>h</td>\n",
       "      <td>1465000.0</td>\n",
       "      <td>SP</td>\n",
       "      <td>Biggin</td>\n",
       "      <td>4/03/2017</td>\n",
       "      <td>2.5</td>\n",
       "      <td>3067.0</td>\n",
       "      <td>...</td>\n",
       "      <td>2.0</td>\n",
       "      <td>0.0</td>\n",
       "      <td>134.0</td>\n",
       "      <td>150.0</td>\n",
       "      <td>1900.0</td>\n",
       "      <td>Yarra</td>\n",
       "      <td>-37.8093</td>\n",
       "      <td>144.9944</td>\n",
       "      <td>Northern Metropolitan</td>\n",
       "      <td>4019.0</td>\n",
       "    </tr>\n",
       "  </tbody>\n",
       "</table>\n",
       "<p>3 rows × 21 columns</p>\n",
       "</div>"
      ],
      "text/plain": [
       "       Suburb          Address  Rooms Type      Price Method SellerG  \\\n",
       "0  Abbotsford     85 Turner St      2    h  1480000.0      S  Biggin   \n",
       "1  Abbotsford  25 Bloomburg St      2    h  1035000.0      S  Biggin   \n",
       "2  Abbotsford     5 Charles St      3    h  1465000.0     SP  Biggin   \n",
       "\n",
       "        Date  Distance  Postcode  ...  Bathroom  Car  Landsize  BuildingArea  \\\n",
       "0  3/12/2016       2.5    3067.0  ...       1.0  1.0     202.0           NaN   \n",
       "1  4/02/2016       2.5    3067.0  ...       1.0  0.0     156.0          79.0   \n",
       "2  4/03/2017       2.5    3067.0  ...       2.0  0.0     134.0         150.0   \n",
       "\n",
       "   YearBuilt  CouncilArea Lattitude  Longtitude             Regionname  \\\n",
       "0        NaN        Yarra  -37.7996    144.9984  Northern Metropolitan   \n",
       "1     1900.0        Yarra  -37.8079    144.9934  Northern Metropolitan   \n",
       "2     1900.0        Yarra  -37.8093    144.9944  Northern Metropolitan   \n",
       "\n",
       "  Propertycount  \n",
       "0        4019.0  \n",
       "1        4019.0  \n",
       "2        4019.0  \n",
       "\n",
       "[3 rows x 21 columns]"
      ]
     },
     "execution_count": 192,
     "metadata": {},
     "output_type": "execute_result"
    }
   ],
   "source": [
    "data = pd.read_csv(data_location)\n",
    "\n",
    "print(data.shape)\n",
    "\n",
    "data.head(3)\n"
   ]
  },
  {
   "cell_type": "markdown",
   "metadata": {
    "slideshow": {
     "slide_type": "subslide"
    }
   },
   "source": [
    "Vamos a calcular el precio por m2 teniendo en cuenta que no podemos dividir por 0:"
   ]
  },
  {
   "cell_type": "code",
   "execution_count": 193,
   "metadata": {
    "slideshow": {
     "slide_type": "fragment"
    }
   },
   "outputs": [
    {
     "name": "stdout",
     "output_type": "stream",
     "text": [
      "<class 'pandas.core.series.Series'>\n"
     ]
    }
   ],
   "source": [
    "precio_m2 = data.apply(lambda x: 0 if x['Landsize'] == 0 else x['Price'] / x['Landsize'], axis=1)\n",
    "\n",
    "print(type(precio_m2))\n"
   ]
  },
  {
   "cell_type": "code",
   "execution_count": 194,
   "metadata": {
    "slideshow": {
     "slide_type": "fragment"
    }
   },
   "outputs": [
    {
     "data": {
      "text/plain": [
       "0     7326.732673\n",
       "1     6634.615385\n",
       "2    10932.835821\n",
       "3     9042.553191\n",
       "4    13333.333333\n",
       "dtype: float64"
      ]
     },
     "execution_count": 194,
     "metadata": {},
     "output_type": "execute_result"
    }
   ],
   "source": [
    "precio_m2.head(5)"
   ]
  },
  {
   "cell_type": "markdown",
   "metadata": {
    "slideshow": {
     "slide_type": "slide"
    }
   },
   "source": [
    "### Imputación por Media Condicionada en Pandas\n",
    "\n",
    "Vamos a calcular la media de BuildingArea por CouncilArea, y vamos a imputar los valores faltantes usando esta media condicionada\n",
    "\n",
    "**Aviso**:\n",
    "    \n",
    "Los métodos presentados en esta parte se verán en profundidad en la clase de Pandas 2, pero los mencionamos aquí para presentar los pasos a seguir al realizar este tipo de imputación."
   ]
  },
  {
   "cell_type": "markdown",
   "metadata": {
    "slideshow": {
     "slide_type": "subslide"
    }
   },
   "source": [
    "Calculamos la media de BuildingArea para cada valor de CouncilArea"
   ]
  },
  {
   "cell_type": "code",
   "execution_count": 12,
   "metadata": {
    "slideshow": {
     "slide_type": "fragment"
    }
   },
   "outputs": [
    {
     "data": {
      "text/plain": [
       "Moreland             658\n",
       "Boroondara           576\n",
       "Moonee Valley        504\n",
       "Darebin              433\n",
       "Glen Eira            426\n",
       "Maribyrnong          401\n",
       "Yarra                339\n",
       "Port Phillip         336\n",
       "Stonnington          335\n",
       "Banyule              279\n",
       "Melbourne            241\n",
       "Bayside              223\n",
       "Hobsons Bay          220\n",
       "Brimbank             193\n",
       "Monash               175\n",
       "Manningham           150\n",
       "Whitehorse           139\n",
       "Kingston             111\n",
       "Hume                  97\n",
       "Whittlesea            89\n",
       "Wyndham               47\n",
       "Melton                42\n",
       "Knox                  42\n",
       "Maroondah             35\n",
       "Frankston             30\n",
       "Greater Dandenong     21\n",
       "Nillumbik             18\n",
       "Casey                 16\n",
       "Yarra Ranges          10\n",
       "Cardinia               5\n",
       "Macedon Ranges         5\n",
       "Name: CouncilArea, dtype: int64"
      ]
     },
     "execution_count": 12,
     "metadata": {},
     "output_type": "execute_result"
    }
   ],
   "source": [
    "data['CouncilArea'].value_counts()\n"
   ]
  },
  {
   "cell_type": "code",
   "execution_count": 84,
   "metadata": {
    "slideshow": {
     "slide_type": "subslide"
    }
   },
   "outputs": [],
   "source": [
    "dic={}\n",
    "\n",
    "for x in data['CouncilArea'].value_counts().index:\n",
    "    dic[str(x)]=data[data['CouncilArea']==x].BuildingArea.mean()\n"
   ]
  },
  {
   "cell_type": "code",
   "execution_count": 158,
   "metadata": {
    "slideshow": {
     "slide_type": "fragment"
    }
   },
   "outputs": [
    {
     "data": {
      "text/plain": [
       "{'Moreland': 136.84631177588795,\n",
       " 'Boroondara': 170.59074421278473,\n",
       " 'Moonee Valley': 150.2116462854482,\n",
       " 'Darebin': 138.3724809913476,\n",
       " 'Glen Eira': 149.21586008911322,\n",
       " 'Stonnington': 140.86686885664014,\n",
       " 'Maribyrnong': 134.148770258555,\n",
       " 'Yarra': 131.53919484855123,\n",
       " 'Port Phillip': 126.39451889794626,\n",
       " 'Banyule': 151.49627300579428,\n",
       " 'Bayside': 172.03511170018095,\n",
       " 'Melbourne': 121.56902505577274,\n",
       " 'Hobsons Bay': 150.18560847519083,\n",
       " 'Brimbank': 147.1018716388367,\n",
       " 'Monash': 149.95013733516126,\n",
       " 'Manningham': 194.35737229242864,\n",
       " 'Whitehorse': 154.55154319863254,\n",
       " 'Kingston': 154.20511589216147,\n",
       " 'Whittlesea': 162.35073737744708,\n",
       " 'Hume': 152.11110940811753,\n",
       " 'Wyndham': 158.52770983544798,\n",
       " 'Knox': 171.78544244950913,\n",
       " 'Maroondah': 150.69470743828893,\n",
       " 'Melton': 174.04584768817205,\n",
       " 'Frankston': 154.25619429304825,\n",
       " 'Greater Dandenong': 145.72075955065273,\n",
       " 'Casey': 156.215806516941,\n",
       " 'Nillumbik': 162.81715827723235,\n",
       " 'Yarra Ranges': 150.08062217235468,\n",
       " 'Cardinia': 224.4616187079243,\n",
       " 'Macedon Ranges': 166.33361425365658,\n",
       " 'Unavailable': 151.96764988779805,\n",
       " 'Moorabool': 151.96764988779805}"
      ]
     },
     "execution_count": 158,
     "metadata": {},
     "output_type": "execute_result"
    }
   ],
   "source": [
    "dic"
   ]
  },
  {
   "cell_type": "code",
   "execution_count": 175,
   "metadata": {
    "slideshow": {
     "slide_type": "subslide"
    }
   },
   "outputs": [],
   "source": [
    "def mifillna(fila):\n",
    "    \n",
    "    if  pd.isnull(fila['BuildingArea']):\n",
    "        nuevovalor=dic[fila['CouncilArea']]\n",
    "        fila['BuildingArea']=nuevovalor\n",
    "    else:      \n",
    "        pass\n",
    "    return fila"
   ]
  },
  {
   "cell_type": "code",
   "execution_count": 182,
   "metadata": {
    "slideshow": {
     "slide_type": "fragment"
    }
   },
   "outputs": [],
   "source": [
    "data=data.dropna(subset=['CouncilArea'])"
   ]
  },
  {
   "cell_type": "code",
   "execution_count": 184,
   "metadata": {
    "slideshow": {
     "slide_type": "fragment"
    }
   },
   "outputs": [],
   "source": [
    "data=data.apply(lambda x: mifillna(x),axis=1)"
   ]
  },
  {
   "cell_type": "markdown",
   "metadata": {
    "slideshow": {
     "slide_type": "subslide"
    }
   },
   "source": [
    "Vemos si quedan registros con valor nulo en el campo BuildingArea después de la imputación"
   ]
  },
  {
   "cell_type": "code",
   "execution_count": 185,
   "metadata": {
    "slideshow": {
     "slide_type": "fragment"
    }
   },
   "outputs": [
    {
     "data": {
      "text/plain": [
       "0"
      ]
     },
     "execution_count": 185,
     "metadata": {},
     "output_type": "execute_result"
    }
   ],
   "source": [
    "data.BuildingArea.isnull().sum()"
   ]
  },
  {
   "cell_type": "markdown",
   "metadata": {
    "slideshow": {
     "slide_type": "slide"
    }
   },
   "source": [
    "### Nan no es Nan"
   ]
  },
  {
   "cell_type": "code",
   "execution_count": 187,
   "metadata": {
    "slideshow": {
     "slide_type": "fragment"
    }
   },
   "outputs": [],
   "source": [
    "data = pd.read_csv(data_location)"
   ]
  },
  {
   "cell_type": "code",
   "execution_count": 188,
   "metadata": {
    "slideshow": {
     "slide_type": "fragment"
    }
   },
   "outputs": [
    {
     "data": {
      "text/plain": [
       "nan"
      ]
     },
     "execution_count": 188,
     "metadata": {},
     "output_type": "execute_result"
    }
   ],
   "source": [
    "data.head(5).BuildingArea.iloc[0]"
   ]
  },
  {
   "cell_type": "code",
   "execution_count": 189,
   "metadata": {
    "slideshow": {
     "slide_type": "fragment"
    }
   },
   "outputs": [
    {
     "data": {
      "text/plain": [
       "numpy.float64"
      ]
     },
     "execution_count": 189,
     "metadata": {},
     "output_type": "execute_result"
    }
   ],
   "source": [
    "type(data.head(5).BuildingArea.iloc[0])"
   ]
  },
  {
   "cell_type": "code",
   "execution_count": 190,
   "metadata": {
    "slideshow": {
     "slide_type": "subslide"
    }
   },
   "outputs": [
    {
     "data": {
      "text/plain": [
       "True"
      ]
     },
     "execution_count": 190,
     "metadata": {},
     "output_type": "execute_result"
    }
   ],
   "source": [
    "pd.isnull(data.head(5).BuildingArea.iloc[0])"
   ]
  },
  {
   "cell_type": "code",
   "execution_count": 191,
   "metadata": {
    "slideshow": {
     "slide_type": "fragment"
    }
   },
   "outputs": [
    {
     "data": {
      "text/plain": [
       "False"
      ]
     },
     "execution_count": 191,
     "metadata": {},
     "output_type": "execute_result"
    }
   ],
   "source": [
    "data.head(5).BuildingArea.iloc[0] == np.nan"
   ]
  },
  {
   "cell_type": "markdown",
   "metadata": {
    "slideshow": {
     "slide_type": "fragment"
    }
   },
   "source": [
    "https://stackoverflow.com/questions/52436356/pandas-numpy-nan-none-comparison"
   ]
  },
  {
   "cell_type": "markdown",
   "metadata": {
    "slideshow": {
     "slide_type": "slide"
    }
   },
   "source": [
    "<div class=\"div-dhds-fondo-1\"> Expresiones regulares\n",
    "\n",
    "<img src=\"https://raw.githubusercontent.com/Digital-House-DATA/ds_blend_2021_img/master/M2/CLASE_09_LimpiezaDeDatos/Presentacion/img/M2_CLASE_09_separador.png\" align=\"center\"></img>    \n",
    "</div>\n"
   ]
  },
  {
   "cell_type": "markdown",
   "metadata": {
    "slideshow": {
     "slide_type": "slide"
    }
   },
   "source": [
    "### Expresiones regulares\n",
    "\n",
    "---\n",
    "\n",
    "¿Qué son las expresiones regulares y para qué sirven?\n",
    "\n",
    "\n",
    "Una expresión regular es una **secuencia de caracteres** que define un **patrón de búsqueda** de texto. Las regex constituyen un lenguaje muy flexible que sirve para identificar y extraer información de un cuerpo de caracteres **no estructurado**.\n",
    "\n",
    "Ejemplos:\n",
    "\n",
    "* identificar direcciones de correo electrónico\n",
    "\n",
    "* identificar DNI, CUIT, CUIL, etc.\n",
    "\n",
    "\n"
   ]
  },
  {
   "cell_type": "code",
   "execution_count": 202,
   "metadata": {
    "slideshow": {
     "slide_type": "slide"
    },
    "tags": []
   },
   "outputs": [
    {
     "data": {
      "text/html": [
       "<div>\n",
       "<style scoped>\n",
       "    .dataframe tbody tr th:only-of-type {\n",
       "        vertical-align: middle;\n",
       "    }\n",
       "\n",
       "    .dataframe tbody tr th {\n",
       "        vertical-align: top;\n",
       "    }\n",
       "\n",
       "    .dataframe thead th {\n",
       "        text-align: right;\n",
       "    }\n",
       "</style>\n",
       "<table border=\"1\" class=\"dataframe\">\n",
       "  <thead>\n",
       "    <tr style=\"text-align: right;\">\n",
       "      <th></th>\n",
       "      <th>place_with_parent_names</th>\n",
       "      <th>lat-lon</th>\n",
       "      <th>price</th>\n",
       "      <th>currency</th>\n",
       "      <th>price_aprox_usd</th>\n",
       "      <th>surface_total_in_m2</th>\n",
       "      <th>surface_covered_in_m2</th>\n",
       "      <th>price_usd_per_m2</th>\n",
       "      <th>floor</th>\n",
       "      <th>rooms</th>\n",
       "      <th>expenses</th>\n",
       "      <th>description</th>\n",
       "      <th>title</th>\n",
       "    </tr>\n",
       "  </thead>\n",
       "  <tbody>\n",
       "    <tr>\n",
       "      <th>0</th>\n",
       "      <td>|Argentina|Capital Federal|Mataderos|</td>\n",
       "      <td>-34.6618237,-58.5088387</td>\n",
       "      <td>62000.0</td>\n",
       "      <td>USD</td>\n",
       "      <td>62000.00</td>\n",
       "      <td>55.0</td>\n",
       "      <td>40.0</td>\n",
       "      <td>1127.272727</td>\n",
       "      <td>NaN</td>\n",
       "      <td>NaN</td>\n",
       "      <td>NaN</td>\n",
       "      <td>2 AMBIENTES TIPO CASA PLANTA BAJA POR PASILLO,...</td>\n",
       "      <td>2 AMB TIPO CASA SIN EXPENSAS EN PB</td>\n",
       "    </tr>\n",
       "    <tr>\n",
       "      <th>1</th>\n",
       "      <td>|Argentina|Bs.As. G.B.A. Zona Sur|La Plata|</td>\n",
       "      <td>-34.9038831,-57.9643295</td>\n",
       "      <td>150000.0</td>\n",
       "      <td>USD</td>\n",
       "      <td>150000.00</td>\n",
       "      <td>NaN</td>\n",
       "      <td>NaN</td>\n",
       "      <td>NaN</td>\n",
       "      <td>NaN</td>\n",
       "      <td>NaN</td>\n",
       "      <td>NaN</td>\n",
       "      <td>Venta de departamento en décimo piso al frente...</td>\n",
       "      <td>VENTA Depto 2 dorm. a estrenar 7 e/ 36 y 37   ...</td>\n",
       "    </tr>\n",
       "    <tr>\n",
       "      <th>2</th>\n",
       "      <td>|Argentina|Capital Federal|Mataderos|</td>\n",
       "      <td>-34.6522615,-58.5229825</td>\n",
       "      <td>72000.0</td>\n",
       "      <td>USD</td>\n",
       "      <td>72000.00</td>\n",
       "      <td>55.0</td>\n",
       "      <td>55.0</td>\n",
       "      <td>1309.090909</td>\n",
       "      <td>NaN</td>\n",
       "      <td>NaN</td>\n",
       "      <td>NaN</td>\n",
       "      <td>2 AMBIENTES 3ER PISO LATERAL LIVING COMEDOR AM...</td>\n",
       "      <td>2 AMB 3ER PISO CON ASCENSOR APTO CREDITO</td>\n",
       "    </tr>\n",
       "    <tr>\n",
       "      <th>3</th>\n",
       "      <td>|Argentina|Capital Federal|Liniers|</td>\n",
       "      <td>-34.6477969,-58.5164244</td>\n",
       "      <td>95000.0</td>\n",
       "      <td>USD</td>\n",
       "      <td>95000.00</td>\n",
       "      <td>NaN</td>\n",
       "      <td>NaN</td>\n",
       "      <td>NaN</td>\n",
       "      <td>NaN</td>\n",
       "      <td>NaN</td>\n",
       "      <td>NaN</td>\n",
       "      <td>PH 3 ambientes con patio. Hay 3 deptos en lote...</td>\n",
       "      <td>PH 3 amb. cfte. reciclado</td>\n",
       "    </tr>\n",
       "    <tr>\n",
       "      <th>4</th>\n",
       "      <td>|Argentina|Buenos Aires Costa Atlántica|Mar de...</td>\n",
       "      <td>-38.0026256,-57.5494468</td>\n",
       "      <td>64000.0</td>\n",
       "      <td>USD</td>\n",
       "      <td>64000.00</td>\n",
       "      <td>35.0</td>\n",
       "      <td>35.0</td>\n",
       "      <td>1828.571429</td>\n",
       "      <td>NaN</td>\n",
       "      <td>NaN</td>\n",
       "      <td>NaN</td>\n",
       "      <td>DEPARTAMENTO CON FANTÁSTICA ILUMINACIÓN NATURA...</td>\n",
       "      <td>DEPTO 2 AMB AL CONTRAFRENTE ZONA CENTRO/PLAZA ...</td>\n",
       "    </tr>\n",
       "    <tr>\n",
       "      <th>5</th>\n",
       "      <td>|Argentina|Entre Ríos|Gualeguaychú|</td>\n",
       "      <td>-33.0140714,-58.519828</td>\n",
       "      <td>NaN</td>\n",
       "      <td>NaN</td>\n",
       "      <td>NaN</td>\n",
       "      <td>53.0</td>\n",
       "      <td>NaN</td>\n",
       "      <td>NaN</td>\n",
       "      <td>NaN</td>\n",
       "      <td>NaN</td>\n",
       "      <td>NaN</td>\n",
       "      <td>Casa en el perímetro del barrio 338, ubicada e...</td>\n",
       "      <td>Casa Barrio 338. Sobre calle 3 de caballería, ...</td>\n",
       "    </tr>\n",
       "    <tr>\n",
       "      <th>6</th>\n",
       "      <td>|Argentina|Bs.As. G.B.A. Zona Norte|Vicente Ló...</td>\n",
       "      <td>-34.5329567,-58.5217825</td>\n",
       "      <td>130000.0</td>\n",
       "      <td>USD</td>\n",
       "      <td>130000.00</td>\n",
       "      <td>106.0</td>\n",
       "      <td>78.0</td>\n",
       "      <td>1226.415094</td>\n",
       "      <td>NaN</td>\n",
       "      <td>NaN</td>\n",
       "      <td>NaN</td>\n",
       "      <td>MUY BUEN PH AL FRENTE CON ENTRADA INDEPENDIENT...</td>\n",
       "      <td>MUY BUEN PH AL FRENTE DOS DORMITORIOS , PATIO,...</td>\n",
       "    </tr>\n",
       "    <tr>\n",
       "      <th>7</th>\n",
       "      <td>|Argentina|Capital Federal|Belgrano|</td>\n",
       "      <td>-34.5598729,-58.443362</td>\n",
       "      <td>138000.0</td>\n",
       "      <td>USD</td>\n",
       "      <td>138000.00</td>\n",
       "      <td>45.0</td>\n",
       "      <td>40.0</td>\n",
       "      <td>3066.666667</td>\n",
       "      <td>NaN</td>\n",
       "      <td>NaN</td>\n",
       "      <td>NaN</td>\n",
       "      <td>EXCELENTE MONOAMBIENTE A ESTRENAR AMPLIO SUPER...</td>\n",
       "      <td>JOSE HERNANDEZ 1400 MONOAMBIENTE  ESTRENAR CAT...</td>\n",
       "    </tr>\n",
       "    <tr>\n",
       "      <th>8</th>\n",
       "      <td>|Argentina|Capital Federal|Belgrano|</td>\n",
       "      <td>-34.5598729,-58.443362</td>\n",
       "      <td>195000.0</td>\n",
       "      <td>USD</td>\n",
       "      <td>195000.00</td>\n",
       "      <td>65.0</td>\n",
       "      <td>60.0</td>\n",
       "      <td>3000.000000</td>\n",
       "      <td>NaN</td>\n",
       "      <td>NaN</td>\n",
       "      <td>NaN</td>\n",
       "      <td>EXCELENTE DOS AMBIENTES  ESTRENAR AMPLIO SUPER...</td>\n",
       "      <td>JOSE HERNANDEZ   1400 DOS AMBIENTES ESTRENAR ,...</td>\n",
       "    </tr>\n",
       "    <tr>\n",
       "      <th>9</th>\n",
       "      <td>|Argentina|Santa Fe|Rosario|</td>\n",
       "      <td>-32.942031,-60.7259192</td>\n",
       "      <td>460000.0</td>\n",
       "      <td>ARS</td>\n",
       "      <td>25798.49</td>\n",
       "      <td>NaN</td>\n",
       "      <td>NaN</td>\n",
       "      <td>NaN</td>\n",
       "      <td>NaN</td>\n",
       "      <td>NaN</td>\n",
       "      <td>NaN</td>\n",
       "      <td>MEDNOZA AL 7600A UNA CUADRA DE CALLE MENDOZAWH...</td>\n",
       "      <td>WHITE 7637 - 2 DORMITORIOS CON PATIO</td>\n",
       "    </tr>\n",
       "    <tr>\n",
       "      <th>10</th>\n",
       "      <td>|Argentina|Córdoba|Córdoba|</td>\n",
       "      <td>-31.4200833,-64.1887761</td>\n",
       "      <td>70000.0</td>\n",
       "      <td>USD</td>\n",
       "      <td>70000.00</td>\n",
       "      <td>1514.0</td>\n",
       "      <td>NaN</td>\n",
       "      <td>46.235139</td>\n",
       "      <td>NaN</td>\n",
       "      <td>NaN</td>\n",
       "      <td>NaN</td>\n",
       "      <td>Hermosa casa sin terminar de 3 dormitorios, ba...</td>\n",
       "      <td>Casa sin terminar en Falda de Cañete.         ...</td>\n",
       "    </tr>\n",
       "    <tr>\n",
       "      <th>11</th>\n",
       "      <td>|Argentina|Bs.As. G.B.A. Zona Norte|San Miguel|</td>\n",
       "      <td>-34.5390571,-58.7196093</td>\n",
       "      <td>150000.0</td>\n",
       "      <td>USD</td>\n",
       "      <td>150000.00</td>\n",
       "      <td>NaN</td>\n",
       "      <td>NaN</td>\n",
       "      <td>NaN</td>\n",
       "      <td>NaN</td>\n",
       "      <td>NaN</td>\n",
       "      <td>NaN</td>\n",
       "      <td>Entrada de Coche, Jardin, Living en desnivel, ...</td>\n",
       "      <td>CHALET</td>\n",
       "    </tr>\n",
       "    <tr>\n",
       "      <th>12</th>\n",
       "      <td>|Argentina|Bs.As. G.B.A. Zona Norte|San Isidro...</td>\n",
       "      <td>-34.4860195,-58.5038139</td>\n",
       "      <td>115000.0</td>\n",
       "      <td>USD</td>\n",
       "      <td>115000.00</td>\n",
       "      <td>39.0</td>\n",
       "      <td>36.0</td>\n",
       "      <td>2948.717949</td>\n",
       "      <td>NaN</td>\n",
       "      <td>NaN</td>\n",
       "      <td>NaN</td>\n",
       "      <td>EXCELENTE DEPARTAMENTO 2 AMBIENTES CONTRAFRENT...</td>\n",
       "      <td>EXCELENTE DEPARTAMENTO 2 AMBIENTES CONTRAFRENT...</td>\n",
       "    </tr>\n",
       "    <tr>\n",
       "      <th>13</th>\n",
       "      <td>|Argentina|Capital Federal|Palermo|Palermo Soho|</td>\n",
       "      <td>NaN</td>\n",
       "      <td>111700.0</td>\n",
       "      <td>USD</td>\n",
       "      <td>111700.00</td>\n",
       "      <td>50.0</td>\n",
       "      <td>30.0</td>\n",
       "      <td>2234.000000</td>\n",
       "      <td>NaN</td>\n",
       "      <td>1.0</td>\n",
       "      <td>NaN</td>\n",
       "      <td>Torre I Mondrian. 3 ambientes con terraza y d...</td>\n",
       "      <td>Vitraux Palermo</td>\n",
       "    </tr>\n",
       "  </tbody>\n",
       "</table>\n",
       "</div>"
      ],
      "text/plain": [
       "                              place_with_parent_names  \\\n",
       "0               |Argentina|Capital Federal|Mataderos|   \n",
       "1         |Argentina|Bs.As. G.B.A. Zona Sur|La Plata|   \n",
       "2               |Argentina|Capital Federal|Mataderos|   \n",
       "3                 |Argentina|Capital Federal|Liniers|   \n",
       "4   |Argentina|Buenos Aires Costa Atlántica|Mar de...   \n",
       "5                 |Argentina|Entre Ríos|Gualeguaychú|   \n",
       "6   |Argentina|Bs.As. G.B.A. Zona Norte|Vicente Ló...   \n",
       "7                |Argentina|Capital Federal|Belgrano|   \n",
       "8                |Argentina|Capital Federal|Belgrano|   \n",
       "9                        |Argentina|Santa Fe|Rosario|   \n",
       "10                        |Argentina|Córdoba|Córdoba|   \n",
       "11    |Argentina|Bs.As. G.B.A. Zona Norte|San Miguel|   \n",
       "12  |Argentina|Bs.As. G.B.A. Zona Norte|San Isidro...   \n",
       "13   |Argentina|Capital Federal|Palermo|Palermo Soho|   \n",
       "\n",
       "                    lat-lon     price currency  price_aprox_usd  \\\n",
       "0   -34.6618237,-58.5088387   62000.0      USD         62000.00   \n",
       "1   -34.9038831,-57.9643295  150000.0      USD        150000.00   \n",
       "2   -34.6522615,-58.5229825   72000.0      USD         72000.00   \n",
       "3   -34.6477969,-58.5164244   95000.0      USD         95000.00   \n",
       "4   -38.0026256,-57.5494468   64000.0      USD         64000.00   \n",
       "5    -33.0140714,-58.519828       NaN      NaN              NaN   \n",
       "6   -34.5329567,-58.5217825  130000.0      USD        130000.00   \n",
       "7    -34.5598729,-58.443362  138000.0      USD        138000.00   \n",
       "8    -34.5598729,-58.443362  195000.0      USD        195000.00   \n",
       "9    -32.942031,-60.7259192  460000.0      ARS         25798.49   \n",
       "10  -31.4200833,-64.1887761   70000.0      USD         70000.00   \n",
       "11  -34.5390571,-58.7196093  150000.0      USD        150000.00   \n",
       "12  -34.4860195,-58.5038139  115000.0      USD        115000.00   \n",
       "13                      NaN  111700.0      USD        111700.00   \n",
       "\n",
       "    surface_total_in_m2  surface_covered_in_m2  price_usd_per_m2  floor  \\\n",
       "0                  55.0                   40.0       1127.272727    NaN   \n",
       "1                   NaN                    NaN               NaN    NaN   \n",
       "2                  55.0                   55.0       1309.090909    NaN   \n",
       "3                   NaN                    NaN               NaN    NaN   \n",
       "4                  35.0                   35.0       1828.571429    NaN   \n",
       "5                  53.0                    NaN               NaN    NaN   \n",
       "6                 106.0                   78.0       1226.415094    NaN   \n",
       "7                  45.0                   40.0       3066.666667    NaN   \n",
       "8                  65.0                   60.0       3000.000000    NaN   \n",
       "9                   NaN                    NaN               NaN    NaN   \n",
       "10               1514.0                    NaN         46.235139    NaN   \n",
       "11                  NaN                    NaN               NaN    NaN   \n",
       "12                 39.0                   36.0       2948.717949    NaN   \n",
       "13                 50.0                   30.0       2234.000000    NaN   \n",
       "\n",
       "    rooms  expenses                                        description  \\\n",
       "0     NaN       NaN  2 AMBIENTES TIPO CASA PLANTA BAJA POR PASILLO,...   \n",
       "1     NaN       NaN  Venta de departamento en décimo piso al frente...   \n",
       "2     NaN       NaN  2 AMBIENTES 3ER PISO LATERAL LIVING COMEDOR AM...   \n",
       "3     NaN       NaN  PH 3 ambientes con patio. Hay 3 deptos en lote...   \n",
       "4     NaN       NaN  DEPARTAMENTO CON FANTÁSTICA ILUMINACIÓN NATURA...   \n",
       "5     NaN       NaN  Casa en el perímetro del barrio 338, ubicada e...   \n",
       "6     NaN       NaN  MUY BUEN PH AL FRENTE CON ENTRADA INDEPENDIENT...   \n",
       "7     NaN       NaN  EXCELENTE MONOAMBIENTE A ESTRENAR AMPLIO SUPER...   \n",
       "8     NaN       NaN  EXCELENTE DOS AMBIENTES  ESTRENAR AMPLIO SUPER...   \n",
       "9     NaN       NaN  MEDNOZA AL 7600A UNA CUADRA DE CALLE MENDOZAWH...   \n",
       "10    NaN       NaN  Hermosa casa sin terminar de 3 dormitorios, ba...   \n",
       "11    NaN       NaN  Entrada de Coche, Jardin, Living en desnivel, ...   \n",
       "12    NaN       NaN  EXCELENTE DEPARTAMENTO 2 AMBIENTES CONTRAFRENT...   \n",
       "13    1.0       NaN   Torre I Mondrian. 3 ambientes con terraza y d...   \n",
       "\n",
       "                                                title  \n",
       "0                  2 AMB TIPO CASA SIN EXPENSAS EN PB  \n",
       "1   VENTA Depto 2 dorm. a estrenar 7 e/ 36 y 37   ...  \n",
       "2            2 AMB 3ER PISO CON ASCENSOR APTO CREDITO  \n",
       "3                        PH 3 amb. cfte. reciclado     \n",
       "4   DEPTO 2 AMB AL CONTRAFRENTE ZONA CENTRO/PLAZA ...  \n",
       "5   Casa Barrio 338. Sobre calle 3 de caballería, ...  \n",
       "6   MUY BUEN PH AL FRENTE DOS DORMITORIOS , PATIO,...  \n",
       "7   JOSE HERNANDEZ 1400 MONOAMBIENTE  ESTRENAR CAT...  \n",
       "8   JOSE HERNANDEZ   1400 DOS AMBIENTES ESTRENAR ,...  \n",
       "9          WHITE 7637 - 2 DORMITORIOS CON PATIO        \n",
       "10  Casa sin terminar en Falda de Cañete.         ...  \n",
       "11                                            CHALET   \n",
       "12  EXCELENTE DEPARTAMENTO 2 AMBIENTES CONTRAFRENT...  \n",
       "13                                    Vitraux Palermo  "
      ]
     },
     "execution_count": 202,
     "metadata": {},
     "output_type": "execute_result"
    }
   ],
   "source": [
    "prope=pd.read_csv('https://raw.githubusercontent.com/carabedo/labs/master/data/prope.csv',index_col=0)\n",
    "prope.head(14)"
   ]
  },
  {
   "cell_type": "code",
   "execution_count": 204,
   "metadata": {
    "slideshow": {
     "slide_type": "slide"
    },
    "tags": []
   },
   "outputs": [
    {
     "data": {
      "text/plain": [
       "array(['2 AMBIENTES TIPO CASA PLANTA BAJA POR PASILLO, REFACCIONADO A NUEVO, PATIO GRANDE, CON LAVADERO, LIVING COMEDOR CON COCINA INTEGRADA, ARTEFACTO DE COCINA, ALACENA, BAÑO COMPLETO, Y DORMITORIO. TODO EN EXCELENTE ESTADO, PARA HABITAR.NO ES APTO CREDITO Aviso publicado por Pixel Inmobiliario (Servicio de Páginas Web para Inmobiliarias).',\n",
       "       'Venta de departamento en décimo piso al frente, a estrenar. Living comedor con ventanales hacia el balcón con pisos de madera. Cocina completa con doble mesada, muebles bajo mesada. Lavadero separado. Toilette.Dormitorio con placard. Segundo dormitorio a dividir. Calefacción por radiadorBaño completo.Balcón corrido. Posibilidad de cochera semicubierta. U$D 20.000                     Aviso publicado por Pixel Inmobiliario (Servicio de Páginas Web para Inmobiliarias).'],\n",
       "      dtype=object)"
      ]
     },
     "execution_count": 204,
     "metadata": {},
     "output_type": "execute_result"
    }
   ],
   "source": [
    "prope.iloc[:2,-2].values"
   ]
  },
  {
   "cell_type": "code",
   "execution_count": 205,
   "metadata": {
    "slideshow": {
     "slide_type": "fragment"
    },
    "tags": []
   },
   "outputs": [
    {
     "data": {
      "text/html": [
       "<div>\n",
       "<style scoped>\n",
       "    .dataframe tbody tr th:only-of-type {\n",
       "        vertical-align: middle;\n",
       "    }\n",
       "\n",
       "    .dataframe tbody tr th {\n",
       "        vertical-align: top;\n",
       "    }\n",
       "\n",
       "    .dataframe thead th {\n",
       "        text-align: right;\n",
       "    }\n",
       "</style>\n",
       "<table border=\"1\" class=\"dataframe\">\n",
       "  <thead>\n",
       "    <tr style=\"text-align: right;\">\n",
       "      <th></th>\n",
       "      <th>place_with_parent_names</th>\n",
       "      <th>lat-lon</th>\n",
       "      <th>price</th>\n",
       "      <th>currency</th>\n",
       "      <th>price_aprox_usd</th>\n",
       "      <th>surface_total_in_m2</th>\n",
       "      <th>surface_covered_in_m2</th>\n",
       "      <th>price_usd_per_m2</th>\n",
       "      <th>floor</th>\n",
       "      <th>rooms</th>\n",
       "      <th>expenses</th>\n",
       "      <th>description</th>\n",
       "      <th>title</th>\n",
       "    </tr>\n",
       "  </thead>\n",
       "  <tbody>\n",
       "    <tr>\n",
       "      <th>0</th>\n",
       "      <td>|Argentina|Capital Federal|Mataderos|</td>\n",
       "      <td>-34.6618237,-58.5088387</td>\n",
       "      <td>62000.0</td>\n",
       "      <td>USD</td>\n",
       "      <td>62000.0</td>\n",
       "      <td>55.0</td>\n",
       "      <td>40.0</td>\n",
       "      <td>1127.272727</td>\n",
       "      <td>NaN</td>\n",
       "      <td>NaN</td>\n",
       "      <td>NaN</td>\n",
       "      <td>2 AMBIENTES TIPO CASA PLANTA BAJA POR PASILLO,...</td>\n",
       "      <td>2 AMB TIPO CASA SIN EXPENSAS EN PB</td>\n",
       "    </tr>\n",
       "    <tr>\n",
       "      <th>1</th>\n",
       "      <td>|Argentina|Bs.As. G.B.A. Zona Sur|La Plata|</td>\n",
       "      <td>-34.9038831,-57.9643295</td>\n",
       "      <td>150000.0</td>\n",
       "      <td>USD</td>\n",
       "      <td>150000.0</td>\n",
       "      <td>NaN</td>\n",
       "      <td>NaN</td>\n",
       "      <td>NaN</td>\n",
       "      <td>NaN</td>\n",
       "      <td>NaN</td>\n",
       "      <td>NaN</td>\n",
       "      <td>Venta de departamento en décimo piso al frente...</td>\n",
       "      <td>VENTA Depto 2 dorm. a estrenar 7 e/ 36 y 37   ...</td>\n",
       "    </tr>\n",
       "  </tbody>\n",
       "</table>\n",
       "</div>"
      ],
      "text/plain": [
       "                       place_with_parent_names                  lat-lon  \\\n",
       "0        |Argentina|Capital Federal|Mataderos|  -34.6618237,-58.5088387   \n",
       "1  |Argentina|Bs.As. G.B.A. Zona Sur|La Plata|  -34.9038831,-57.9643295   \n",
       "\n",
       "      price currency  price_aprox_usd  surface_total_in_m2  \\\n",
       "0   62000.0      USD          62000.0                 55.0   \n",
       "1  150000.0      USD         150000.0                  NaN   \n",
       "\n",
       "   surface_covered_in_m2  price_usd_per_m2  floor  rooms  expenses  \\\n",
       "0                   40.0       1127.272727    NaN    NaN       NaN   \n",
       "1                    NaN               NaN    NaN    NaN       NaN   \n",
       "\n",
       "                                         description  \\\n",
       "0  2 AMBIENTES TIPO CASA PLANTA BAJA POR PASILLO,...   \n",
       "1  Venta de departamento en décimo piso al frente...   \n",
       "\n",
       "                                               title  \n",
       "0                 2 AMB TIPO CASA SIN EXPENSAS EN PB  \n",
       "1  VENTA Depto 2 dorm. a estrenar 7 e/ 36 y 37   ...  "
      ]
     },
     "execution_count": 205,
     "metadata": {},
     "output_type": "execute_result"
    }
   ],
   "source": [
    "prope.head(2)"
   ]
  },
  {
   "cell_type": "markdown",
   "metadata": {
    "slideshow": {
     "slide_type": "slide"
    }
   },
   "source": [
    "### Metacaracteres especiales (wildcards/comodines)\n",
    "\n",
    "---\n",
    "\n",
    "Los **metacaracteres especiales** son aquellos que indican que se debe matchear algo de forma **no literal**, o que afectan a otras partes de la regex repitiendo caracteres o cambiando su significado.\n",
    "\n"
   ]
  },
  {
   "cell_type": "markdown",
   "metadata": {
    "slideshow": {
     "slide_type": "subslide"
    }
   },
   "source": [
    "<u>Algunos metacaracteres frecuentes</u>:\n",
    "\n",
    "**\\d** Cualquier dígito del 0 al 9\n",
    "\n",
    "**\\w** Cualquier caracter alfanumérico (A-Z, a-z, 0-9 y _)\n",
    "\n",
    "**\\s** Cualquier espacio en blanco (espacio, tabulado, nueva línea, etc.)\n",
    "\n",
    "**.** Cualquier caracter con excepción de nueva línea (\\n)\n",
    "\n",
    "\n",
    "Y sus complementos:\n",
    "\n",
    "**\\D** Todo menos cualquier dígito\n",
    "\n",
    "**\\W** Todo menos cualquier carácter alfanumérico\n",
    "\n",
    "**\\S** Todo menos cualquier espacio en blanco"
   ]
  },
  {
   "cell_type": "markdown",
   "metadata": {
    "slideshow": {
     "slide_type": "subslide"
    }
   },
   "source": [
    "<u>Cuantificadores</u>:\n",
    "\n",
    "**\\*** Cero o más del elemento anterior\n",
    "\n",
    "**+** Uno o más del elemento anterior\n",
    "\n",
    "**{min,max}** Definen mínimos y máximos de repetición\n",
    "\n",
    "**?** Opcional, ó cero o uno del elemento anterior\n",
    "\n"
   ]
  },
  {
   "cell_type": "markdown",
   "metadata": {
    "slideshow": {
     "slide_type": "subslide"
    }
   },
   "source": [
    "<u>Ejemplos</u>:\n",
    "\n",
    "**\\d+** Encuentra un número o más\n",
    "\n",
    "**.\\*** Encuentra cero o más de cualquier caracter\n",
    "\n",
    "**\\w{2,6}** Encuentra un conjunto de caracteres alfanuméricos con una longitud que va de 2 a 6 caracteres"
   ]
  },
  {
   "cell_type": "markdown",
   "metadata": {
    "slideshow": {
     "slide_type": "subslide"
    }
   },
   "source": [
    "<u>Otros metacaracteres importantes</u>:\n",
    "\n",
    "**[ ]** Definen un conjunto de caracteres\n",
    "\n",
    "**[A-Za-z0-9_]** Definen rangos\n",
    "\n",
    "**( )** Definen un grupo de captura\n",
    "\n",
    "**|** Operador \"o\"\n",
    "\n",
    "**\\** Escapa los caracteres especiales\n",
    "\n",
    "Metacaracteres de posición:\n",
    "\n",
    "**^** Comienzo de un string (o negación dentro de un conjunto, [^ ])\n",
    "\n",
    "**$** Final de un string\n",
    "\n",
    "**\\b** Límite de palabra\n",
    "\n"
   ]
  },
  {
   "cell_type": "markdown",
   "metadata": {
    "slideshow": {
     "slide_type": "slide"
    }
   },
   "source": [
    "### ¿Qué patrón pueden identificar para los siguientes strings?\n",
    "\n",
    "---\n",
    "\n",
    "```\n",
    "ana_laura@hotmail.com\n",
    "juan.perez@gmail.com\n",
    "florgimenez@yahoo.com.ar\n",
    "PEPITO@FULLZERO.COM\n",
    "mengano arroba gmail\n",
    "sultano@gmai.com\n",
    "no\n",
    "jaimito@hotmail.com\n",
    "\n",
    "\n",
    "hector.peres.picaro@gmail.com\n",
    "```"
   ]
  },
  {
   "cell_type": "markdown",
   "metadata": {
    "slideshow": {
     "slide_type": "subslide"
    }
   },
   "source": [
    "Queremos una expresión que sirva como patrón para cualquier direcciones de email presentadas.\n",
    "\n",
    "\n",
    "### Empecemos con:\n",
    "\n",
    "```\n",
    "ana_laura@hotmail.com\n",
    "```\n",
    "\n",
    "Cada par de paréntesis ( ) define un grupo:\n",
    "\n",
    "```(usuario) @ (dominio) .com```"
   ]
  },
  {
   "cell_type": "code",
   "execution_count": 217,
   "metadata": {
    "slideshow": {
     "slide_type": "fragment"
    }
   },
   "outputs": [],
   "source": [
    "import re\n",
    "\n",
    "patron = \"(.*)@(.*)(\\.com)\"\n",
    "\n",
    "regex = re.compile(patron)"
   ]
  },
  {
   "cell_type": "code",
   "execution_count": 220,
   "metadata": {
    "slideshow": {
     "slide_type": "fragment"
    }
   },
   "outputs": [
    {
     "data": {
      "text/plain": [
       "[('ana_laura', 'hotmail', '.com')]"
      ]
     },
     "execution_count": 220,
     "metadata": {},
     "output_type": "execute_result"
    }
   ],
   "source": [
    "texto1 = \"ana_laura@hotmail.com\"\n",
    "\n",
    "\n",
    "regex.findall(texto1) \n",
    "\n",
    "# este metodo encuentra todos los grupos y devuelve una lista\n",
    "# una lista de que?"
   ]
  },
  {
   "cell_type": "code",
   "execution_count": 221,
   "metadata": {},
   "outputs": [
    {
     "data": {
      "text/plain": [
       "<re.Match object; span=(0, 21), match='ana_laura@hotmail.com'>"
      ]
     },
     "execution_count": 221,
     "metadata": {},
     "output_type": "execute_result"
    }
   ],
   "source": [
    "regex.search(texto1)\n",
    "\n",
    "#este metodo encuentra todos los grupos y devuelve un objeto match"
   ]
  },
  {
   "cell_type": "code",
   "execution_count": 208,
   "metadata": {},
   "outputs": [
    {
     "data": {
      "text/plain": [
       "('ana_laura', 'hotmail', '.com')"
      ]
     },
     "execution_count": 208,
     "metadata": {},
     "output_type": "execute_result"
    }
   ],
   "source": [
    "regex.search(texto1).groups()"
   ]
  },
  {
   "cell_type": "code",
   "execution_count": 209,
   "metadata": {
    "slideshow": {
     "slide_type": "subslide"
    }
   },
   "outputs": [
    {
     "data": {
      "text/plain": [
       "'ana_laura@hotmail.com'"
      ]
     },
     "execution_count": 209,
     "metadata": {},
     "output_type": "execute_result"
    }
   ],
   "source": [
    "regex.search(texto1).group(0)"
   ]
  },
  {
   "cell_type": "code",
   "execution_count": 210,
   "metadata": {
    "slideshow": {
     "slide_type": "fragment"
    }
   },
   "outputs": [
    {
     "data": {
      "text/plain": [
       "'ana_laura'"
      ]
     },
     "execution_count": 210,
     "metadata": {},
     "output_type": "execute_result"
    }
   ],
   "source": [
    "regex.search(texto1).group(1)"
   ]
  },
  {
   "cell_type": "code",
   "execution_count": 183,
   "metadata": {
    "slideshow": {
     "slide_type": "fragment"
    }
   },
   "outputs": [
    {
     "data": {
      "text/plain": [
       "'hotmail'"
      ]
     },
     "execution_count": 183,
     "metadata": {},
     "output_type": "execute_result"
    }
   ],
   "source": [
    "regex.search(texto1).group(2)"
   ]
  },
  {
   "cell_type": "code",
   "execution_count": 184,
   "metadata": {
    "slideshow": {
     "slide_type": "fragment"
    }
   },
   "outputs": [
    {
     "data": {
      "text/plain": [
       "'.com'"
      ]
     },
     "execution_count": 184,
     "metadata": {},
     "output_type": "execute_result"
    }
   ],
   "source": [
    "regex.search(texto1).group(3)"
   ]
  },
  {
   "cell_type": "markdown",
   "metadata": {},
   "source": [
    "### poniendole nombre a los grupos"
   ]
  },
  {
   "cell_type": "code",
   "execution_count": 223,
   "metadata": {},
   "outputs": [],
   "source": [
    "patron2 = \"(?P<user>.*)@(?P<dominio>.*)(\\.com)\"\n",
    "\n",
    "\n",
    "regex2 = re.compile(patron2)"
   ]
  },
  {
   "cell_type": "code",
   "execution_count": 224,
   "metadata": {
    "jupyter": {
     "source_hidden": true
    },
    "slideshow": {
     "slide_type": "subslide"
    }
   },
   "outputs": [
    {
     "data": {
      "text/plain": [
       "'ana_laura'"
      ]
     },
     "execution_count": 224,
     "metadata": {},
     "output_type": "execute_result"
    }
   ],
   "source": [
    "regex2.search(texto1).group(\"user\")"
   ]
  },
  {
   "cell_type": "code",
   "execution_count": 225,
   "metadata": {
    "slideshow": {
     "slide_type": "fragment"
    }
   },
   "outputs": [
    {
     "data": {
      "text/plain": [
       "'hotmail'"
      ]
     },
     "execution_count": 225,
     "metadata": {},
     "output_type": "execute_result"
    }
   ],
   "source": [
    "regex2.search(texto1).group(\"dominio\")"
   ]
  },
  {
   "cell_type": "markdown",
   "metadata": {},
   "source": [
    "```\n",
    "ana_laura@hotmail.com\n",
    "juan.perez@gmail.com\n",
    "florgimenez@yahoo.com.ar\n",
    "\n",
    "```"
   ]
  },
  {
   "cell_type": "code",
   "execution_count": 226,
   "metadata": {
    "slideshow": {
     "slide_type": "subslide"
    }
   },
   "outputs": [
    {
     "data": {
      "text/plain": [
       "('juan.perez', 'gmail', '.com')"
      ]
     },
     "execution_count": 226,
     "metadata": {},
     "output_type": "execute_result"
    }
   ],
   "source": [
    "texto2 = \"juan.perez@gmail.com\"\n",
    "\n",
    "regex2.search(texto2).groups()\n"
   ]
  },
  {
   "cell_type": "code",
   "execution_count": 227,
   "metadata": {
    "slideshow": {
     "slide_type": "fragment"
    }
   },
   "outputs": [
    {
     "data": {
      "text/plain": [
       "('florgimenez', 'yahoo', '.com')"
      ]
     },
     "execution_count": 227,
     "metadata": {},
     "output_type": "execute_result"
    }
   ],
   "source": [
    "texto3 = \"florgimenez@yahoo.com.ar\"\n",
    "\n",
    "regex2.search(texto3).groups()\n"
   ]
  },
  {
   "cell_type": "code",
   "execution_count": 228,
   "metadata": {},
   "outputs": [
    {
     "data": {
      "text/plain": [
       "{'user': 'florgimenez', 'dominio': 'yahoo'}"
      ]
     },
     "execution_count": 228,
     "metadata": {},
     "output_type": "execute_result"
    }
   ],
   "source": [
    "regex2.search(texto3).groupdict()"
   ]
  },
  {
   "cell_type": "markdown",
   "metadata": {},
   "source": [
    "#### Cual es el problema?\n",
    "\n",
    "Que paso con el .ar?\n"
   ]
  },
  {
   "cell_type": "code",
   "execution_count": 229,
   "metadata": {},
   "outputs": [],
   "source": [
    "patron3 = \"(?P<user>.*)@(?P<dominio>.*)(\\.com)(\\.ar)?\"\n",
    "regex3 = re.compile(patron3)"
   ]
  },
  {
   "cell_type": "code",
   "execution_count": 230,
   "metadata": {},
   "outputs": [
    {
     "data": {
      "text/plain": [
       "('florgimenez', 'yahoo', '.com', '.ar')"
      ]
     },
     "execution_count": 230,
     "metadata": {},
     "output_type": "execute_result"
    }
   ],
   "source": [
    "texto3 = \"florgimenez@yahoo.com.ar\"\n",
    "\n",
    "regex3.search(texto3).groups()\n"
   ]
  },
  {
   "cell_type": "code",
   "execution_count": 231,
   "metadata": {},
   "outputs": [
    {
     "data": {
      "text/plain": [
       "{'user': 'florgimenez', 'dominio': 'yahoo'}"
      ]
     },
     "execution_count": 231,
     "metadata": {},
     "output_type": "execute_result"
    }
   ],
   "source": [
    "regex3.search(texto3).groupdict()"
   ]
  },
  {
   "cell_type": "code",
   "execution_count": 232,
   "metadata": {},
   "outputs": [
    {
     "data": {
      "text/plain": [
       "{'user': 'florgimenez', 'dominio': 'yahoo.com.ar'}"
      ]
     },
     "execution_count": 232,
     "metadata": {},
     "output_type": "execute_result"
    }
   ],
   "source": [
    "patron4 = \"(?P<user>.*)@(?P<dominio>.*\\.com(\\.ar)?)\"\n",
    "regex4 = re.compile(patron4)\n",
    "regex4.search(texto3).groupdict()"
   ]
  },
  {
   "cell_type": "code",
   "execution_count": 233,
   "metadata": {},
   "outputs": [
    {
     "data": {
      "text/plain": [
       "{'user': 'ana_laura', 'dominio': 'hotmail.com'}"
      ]
     },
     "execution_count": 233,
     "metadata": {},
     "output_type": "execute_result"
    }
   ],
   "source": [
    "regex4.search(texto1).groupdict()"
   ]
  },
  {
   "cell_type": "code",
   "execution_count": 234,
   "metadata": {},
   "outputs": [
    {
     "data": {
      "text/plain": [
       "{'user': 'juan.perez', 'dominio': 'gmail.com'}"
      ]
     },
     "execution_count": 234,
     "metadata": {},
     "output_type": "execute_result"
    }
   ],
   "source": [
    "regex4.search(texto2).groupdict()"
   ]
  },
  {
   "cell_type": "code",
   "execution_count": 235,
   "metadata": {},
   "outputs": [
    {
     "ename": "AttributeError",
     "evalue": "'NoneType' object has no attribute 'groupdict'",
     "output_type": "error",
     "traceback": [
      "\u001b[0;31m---------------------------------------------------------------------------\u001b[0m",
      "\u001b[0;31mAttributeError\u001b[0m                            Traceback (most recent call last)",
      "\u001b[0;32m<ipython-input-235-92c8f6e2aaf2>\u001b[0m in \u001b[0;36m<module>\u001b[0;34m\u001b[0m\n\u001b[1;32m      1\u001b[0m \u001b[0mtexto4\u001b[0m\u001b[0;34m=\u001b[0m\u001b[0;34m\"PEPITO@FULLZERO.COM\"\u001b[0m\u001b[0;34m\u001b[0m\u001b[0;34m\u001b[0m\u001b[0m\n\u001b[0;32m----> 2\u001b[0;31m \u001b[0mregex4\u001b[0m\u001b[0;34m.\u001b[0m\u001b[0msearch\u001b[0m\u001b[0;34m(\u001b[0m\u001b[0mtexto4\u001b[0m\u001b[0;34m)\u001b[0m\u001b[0;34m.\u001b[0m\u001b[0mgroupdict\u001b[0m\u001b[0;34m(\u001b[0m\u001b[0;34m)\u001b[0m\u001b[0;34m\u001b[0m\u001b[0;34m\u001b[0m\u001b[0m\n\u001b[0m",
      "\u001b[0;31mAttributeError\u001b[0m: 'NoneType' object has no attribute 'groupdict'"
     ]
    }
   ],
   "source": [
    "texto4=\"PEPITO@FULLZERO.COM\"\n",
    "regex4.search(texto4).groupdict()"
   ]
  },
  {
   "cell_type": "code",
   "execution_count": 236,
   "metadata": {},
   "outputs": [
    {
     "data": {
      "text/plain": [
       "{'user': 'pepito', 'dominio': 'fullzero.com'}"
      ]
     },
     "execution_count": 236,
     "metadata": {},
     "output_type": "execute_result"
    }
   ],
   "source": [
    "texto5=\"pepito@fullzero.com\"\n",
    "regex4.search(texto5).groupdict()"
   ]
  },
  {
   "cell_type": "markdown",
   "metadata": {},
   "source": [
    "### Flags:\n",
    "\n",
    "Podemos ademas de la expresion regular agregar un parametro global que defina alguna caracteristica de la busqueda:\n",
    "\n",
    "```python\n",
    "re.I\tre.IGNORECASE\tignore case.\n",
    "re.M\tre.MULTILINE\tmake begin/end {^, $} consider each line.\n",
    "re.S\tre.DOTALL\tmake . match newline too.\n",
    "re.U\tre.UNICODE\tmake {\\w, \\W, \\b, \\B} follow Unicode rules.\n",
    "re.L\tre.LOCALE\tmake {\\w, \\W, \\b, \\B} follow locale.\n",
    "re.X\tre.VERBOSE\tallow comment in regex.\n",
    "```"
   ]
  },
  {
   "cell_type": "code",
   "execution_count": 237,
   "metadata": {},
   "outputs": [
    {
     "data": {
      "text/plain": [
       "{'user': 'PEPITO', 'dominio': 'FULLZERO.COM'}"
      ]
     },
     "execution_count": 237,
     "metadata": {},
     "output_type": "execute_result"
    }
   ],
   "source": [
    "patron5 = \"(?P<user>.*)@(?P<dominio>.*\\.com(\\.ar)?)\"\n",
    "regex5 = re.compile(patron5, flags=re.I)\n",
    "regex5.search(texto4).groupdict()"
   ]
  },
  {
   "cell_type": "code",
   "execution_count": 238,
   "metadata": {},
   "outputs": [],
   "source": [
    "doc=\"\"\"ana_laura@hotmail.com\n",
    "juan.perez@gmail.com\n",
    "florgimenez@yahoo.com.ar\n",
    "PEPITO@FULLZERO.COM\n",
    "mengano arroba gmail.com\n",
    "sultano@gmail.com\n",
    "no\n",
    "jaimito@hotmail.com\n",
    "\n",
    "\n",
    "hector.peres.picaro@gmail.com\"\"\"\n",
    "\n",
    "\n",
    "regex6 = re.compile(patron5, flags = re.I )"
   ]
  },
  {
   "cell_type": "code",
   "execution_count": 246,
   "metadata": {},
   "outputs": [
    {
     "data": {
      "text/plain": [
       "[('ana_laura', 'hotmail.com', ''),\n",
       " ('juan.perez', 'gmail.com', ''),\n",
       " ('florgimenez', 'yahoo.com.ar', '.ar'),\n",
       " ('PEPITO', 'FULLZERO.COM', ''),\n",
       " ('sultano', 'gmail.com', ''),\n",
       " ('jaimito', 'hotmail.com', ''),\n",
       " ('hector.peres.picaro', 'gmail.com', '')]"
      ]
     },
     "execution_count": 246,
     "metadata": {},
     "output_type": "execute_result"
    }
   ],
   "source": [
    "regex6.findall(doc)"
   ]
  },
  {
   "cell_type": "code",
   "execution_count": 247,
   "metadata": {},
   "outputs": [],
   "source": [
    "mails=regex6.findall(doc)"
   ]
  },
  {
   "cell_type": "code",
   "execution_count": 248,
   "metadata": {},
   "outputs": [
    {
     "data": {
      "text/plain": [
       "(list, tuple, str)"
      ]
     },
     "execution_count": 248,
     "metadata": {},
     "output_type": "execute_result"
    }
   ],
   "source": [
    "type(mails),type(mails[0]),type(mails[0][0])"
   ]
  },
  {
   "cell_type": "code",
   "execution_count": 250,
   "metadata": {},
   "outputs": [
    {
     "data": {
      "text/plain": [
       "[('ana_laura', '@', 'hotmail.com', '', ''),\n",
       " ('juan.perez', '@', 'gmail.com', '', ''),\n",
       " ('florgimenez', '@', 'yahoo.com.ar', '', ''),\n",
       " ('PEPITO', '@', 'FULLZERO.COM', '', ''),\n",
       " ('mengano ', 'arroba', ' gmail.com', '', ''),\n",
       " ('sultano', '@', 'gmail.com', '', ''),\n",
       " ('jaimito', '@', 'hotmail.com', '', ''),\n",
       " ('hector.peres.picaro', '@', 'gmail.com', '', '')]"
      ]
     },
     "execution_count": 250,
     "metadata": {},
     "output_type": "execute_result"
    }
   ],
   "source": [
    "# podemos hacer todo en una linea\n",
    "\n",
    "re.compile(\"(?P<user>.*)(@|arroba)(?P<dominio>.*(\\.com)?(\\.ar)?)\", flags = re.I ).findall(doc)\n"
   ]
  },
  {
   "cell_type": "markdown",
   "metadata": {},
   "source": [
    "## Otro ejemplo, usuarios de twitter:\n",
    "\n",
    "```\n",
    "f@ulanito\n",
    "@pepito1\n",
    "@pepito23\n",
    "@mengano\n",
    "```\n",
    "\n",
    "### Line Anchors\n",
    "\n",
    "Voy querer que agarre cosas SI Y SOLO SI aparecen al principio (^) de la linea  o al final ($).\n",
    "\n",
    "\n",
    "https://stackoverflow.com/questions/16944357/carets-in-regular-expressions\n"
   ]
  },
  {
   "cell_type": "code",
   "execution_count": 255,
   "metadata": {},
   "outputs": [
    {
     "data": {
      "text/plain": [
       "['pepito', 'pepito', 'mengano']"
      ]
     },
     "execution_count": 255,
     "metadata": {},
     "output_type": "execute_result"
    }
   ],
   "source": [
    "doc2=\"\"\"f@ulanito\n",
    "@pepito1\n",
    "@pepito23\n",
    "@mengano\"\"\"\n",
    "\n",
    "\n",
    "\n",
    "### \\D complemento de \\d  agarra todo lo que no es digitos (tambien podes negar la lista  [^0-9] con el ^ )\n",
    "\n",
    "patron6 = \"^@(\\D*)?\"\n",
    "\n",
    "\n",
    "\n",
    "#re.M    re.MULTILINE    make begin/end {^, $} consider each line.\n",
    "regex7 = re.compile(patron6, flags = re.MULTILINE)\n",
    "\n",
    "\n",
    "regex7.findall(doc2)"
   ]
  },
  {
   "cell_type": "code",
   "execution_count": 256,
   "metadata": {},
   "outputs": [
    {
     "data": {
      "text/plain": [
       "['', '1', '', '23', '', '']"
      ]
     },
     "execution_count": 256,
     "metadata": {},
     "output_type": "execute_result"
    }
   ],
   "source": [
    "# quiero agarrar los numeros que estan al final de la linea\n",
    "### multiplicadores\n",
    "### \\d matches a digit (equivalent to [0-9])\n",
    "# * matches the previous token between zero and unlimited times, as many times as possible, giving back as needed\n",
    "\n",
    "regex8 = re.compile(\"\\d*$\", flags = re.MULTILINE )\n",
    "regex8.findall(doc2)"
   ]
  },
  {
   "cell_type": "code",
   "execution_count": 257,
   "metadata": {},
   "outputs": [
    {
     "data": {
      "text/plain": [
       "['1', '23']"
      ]
     },
     "execution_count": 257,
     "metadata": {},
     "output_type": "execute_result"
    }
   ],
   "source": [
    "### multiplicadores\n",
    "### + matches the previous token between one and unlimited times, as many times as possible, giving back as needed\n",
    "\n",
    "regex9 = re.compile(\"\\d+$\", flags = re.MULTILINE )\n",
    "regex9.findall(doc2)"
   ]
  },
  {
   "cell_type": "markdown",
   "metadata": {
    "slideshow": {
     "slide_type": "slide"
    },
    "tags": []
   },
   "source": [
    "# Probando patrones:\n",
    "\n",
    "https://regex101.com/\n",
    "\n",
    "``` patron_clase = \"^(?P<nombre_de_usuario>.*)@(?P<dominio>.*)(\\.com)(\\.ar)?$\" ```\n",
    "\n",
    "```\n",
    "ana_laura@hotmail.com\n",
    "juan.perez@gmail.com\n",
    "florgimenez@yahoo.com.ar\n",
    "PEPITO@FULLZERO.COM\n",
    "mengano arroba gmail\n",
    "sultano@gmai.com\n",
    "no\n",
    "jaimito@hotmail.com\n",
    "\n",
    "hector.peres.picaro@gmail.com\n",
    "```"
   ]
  },
  {
   "cell_type": "code",
   "execution_count": null,
   "metadata": {
    "slideshow": {
     "slide_type": "fragment"
    },
    "tags": []
   },
   "outputs": [],
   "source": [
    "#(?P<nombre_de_usuario>.*)(@|arroba)(?P<dominio>.*)(\\.com)?(\\.ar)?"
   ]
  },
  {
   "cell_type": "markdown",
   "metadata": {
    "slideshow": {
     "slide_type": "slide"
    },
    "tags": []
   },
   "source": [
    "![](https://geekandpoke.typepad.com/.a/6a00d8341d3df553ef0192aa54031f970d-800wi)"
   ]
  },
  {
   "cell_type": "markdown",
   "metadata": {
    "slideshow": {
     "slide_type": "slide"
    },
    "tags": []
   },
   "source": [
    "![](https://imgs.xkcd.com/comics/perl_problems_2x.png)"
   ]
  },
  {
   "cell_type": "markdown",
   "metadata": {
    "slideshow": {
     "slide_type": "slide"
    },
    "tags": []
   },
   "source": [
    "### Para llevarse:\n",
    "\n",
    "---\n",
    "\n",
    "* Formato: Variables=Columnas, Observaciones=Filas\n",
    "\n",
    "* Outliers, puedo filtar con mascaras mirando la distribucion de los datos\n",
    "\n",
    "* Nulos/Faltantes, uso `.dropna()` para tirar las filas que tengan alguna, varias o las que yo elija columnas con datos faltantes\n",
    "\n",
    "* `.apply()` me permitia 'iterar' de manera eficiente por filas o por columnas y aplicar alguna funcion\n",
    "\n",
    "* las `lambda x :` son funciones de `x` descartables que podia usar con el apply para hacer algo corto o puedo usar una funcion definida previamente\n",
    "\n",
    "* la syntaxis `regex`  me permitia procesar grandes volumenes de texto de manera eficiente para la busqueda y reemplazo de patrones de texto\n",
    "\n"
   ]
  },
  {
   "cell_type": "markdown",
   "metadata": {
    "slideshow": {
     "slide_type": "slide"
    }
   },
   "source": [
    "<div class=\"div-dhds-fondo-1\"> Hands-on\n",
    "<img src=\"https://raw.githubusercontent.com/Digital-House-DATA/ds_blend_2021_img/master/M2/CLASE_09_LimpiezaDeDatos/Presentacion/img/M2_CLASE_09_separador.png\" align=\"center\"></img>    \n",
    "</div>\n"
   ]
  },
  {
   "cell_type": "markdown",
   "metadata": {
    "slideshow": {
     "slide_type": "slide"
    }
   },
   "source": [
    "### Ejercicio 1\n",
    "\n",
    "Usando los datos de propiedades de Melbourne (../Data/melb_data.csv), queremos imputar los valores faltantes del campo ```YearBuilt``` usando la mediana de ese campo por vendedor ```SellerG```\n",
    "\n",
    "¿Cántos valores nulos en el campo ```YearBuilt``` hay antes de la imputación?\n",
    "\n",
    "¿Cántos valores nulos en el campo ```YearBuilt``` hay después de la imputación?\n",
    "\n",
    "\n"
   ]
  },
  {
   "cell_type": "markdown",
   "metadata": {
    "slideshow": {
     "slide_type": "slide"
    }
   },
   "source": [
    "### Ejercicio 2\n",
    "\n",
    "\n",
    "Queremos definir una expresión regular que nos permita extraer el punto cardinal al que referencia Regionname en los datos de propiedades de Melbourne (../Data/melb_data.csv), \n",
    "\n",
    "Por ejemplo:\n",
    "\n",
    "* si el valor es Northern Metropolitan o Northern Victoria, el resultado debe ser North\n",
    "\n",
    "* si el valor es Western Metropolitan o Western Victoria, el resultado debe ser West\n",
    "\n",
    "* si el valor es Southern Metropolitan o Southern Victoria, el resultado debe ser South\n",
    "\n",
    "* si el valor es Eastern Metropolitan o Eastern Victoria, el resultado debe ser East\n",
    "\n",
    "\n",
    "\n",
    "\n"
   ]
  },
  {
   "cell_type": "markdown",
   "metadata": {
    "slideshow": {
     "slide_type": "subslide"
    }
   },
   "source": [
    "Sugerencia: usar como textos para hacer pruebas \n",
    "\n",
    "* 'Northern Metropolitan', \n",
    "\n",
    "* 'Western Metropolitan', \n",
    "\n",
    "* 'Southern Metropolitan', \n",
    "\n",
    "* 'Eastern Metropolitan', \n",
    "\n",
    "* 'South-Eastern Metropolitan', \n",
    "\n",
    "* 'Eastern Victoria',\n",
    "\n",
    "* 'Northern Victoria', \n",
    "\n",
    "* 'Western Victoria' \n",
    "\n",
    "y el método ```search```"
   ]
  },
  {
   "cell_type": "markdown",
   "metadata": {
    "slideshow": {
     "slide_type": "slide"
    }
   },
   "source": [
    "### Ejercicio 3\n",
    "\n",
    "Usando la expresión regular definida en el punto anterior, el método ```apply``` y una función ```lambda```, obtener una instancia de Series con los puntos cardinales a los que referencia ```Regionname``` en cada registro."
   ]
  },
  {
   "cell_type": "markdown",
   "metadata": {
    "slideshow": {
     "slide_type": "slide"
    }
   },
   "source": [
    "### Solución\n",
    "\n",
    "---\n"
   ]
  },
  {
   "cell_type": "markdown",
   "metadata": {
    "slideshow": {
     "slide_type": "slide"
    }
   },
   "source": [
    "### Ejercicio 1\n"
   ]
  },
  {
   "cell_type": "code",
   "execution_count": 258,
   "metadata": {
    "slideshow": {
     "slide_type": "fragment"
    }
   },
   "outputs": [
    {
     "name": "stdout",
     "output_type": "stream",
     "text": [
      "cantidad de nulos antes de la imputación:  5375\n"
     ]
    }
   ],
   "source": [
    "data_location = \"../Data/melb_data.csv\"\n",
    "\n",
    "data = pd.read_csv(data_location)\n",
    "\n",
    "print(\"cantidad de nulos antes de la imputación: \", data.YearBuilt.isnull().sum())\n"
   ]
  },
  {
   "cell_type": "code",
   "execution_count": 259,
   "metadata": {
    "slideshow": {
     "slide_type": "subslide"
    }
   },
   "outputs": [
    {
     "data": {
      "text/plain": [
       "SellerG\n",
       "@Realty         1970.0\n",
       "ASL             1962.5\n",
       "Abercromby's    1946.5\n",
       "Ace                NaN\n",
       "Alexkarbon      2000.0\n",
       "Name: YearBuilt, dtype: float64"
      ]
     },
     "execution_count": 259,
     "metadata": {},
     "output_type": "execute_result"
    }
   ],
   "source": [
    "fill_values = data.groupby('SellerG').YearBuilt.median()\n",
    "\n",
    "fill_values.head(5)"
   ]
  },
  {
   "cell_type": "code",
   "execution_count": 37,
   "metadata": {
    "slideshow": {
     "slide_type": "subslide"
    }
   },
   "outputs": [
    {
     "data": {
      "text/html": [
       "<div>\n",
       "<style scoped>\n",
       "    .dataframe tbody tr th:only-of-type {\n",
       "        vertical-align: middle;\n",
       "    }\n",
       "\n",
       "    .dataframe tbody tr th {\n",
       "        vertical-align: top;\n",
       "    }\n",
       "\n",
       "    .dataframe thead th {\n",
       "        text-align: right;\n",
       "    }\n",
       "</style>\n",
       "<table border=\"1\" class=\"dataframe\">\n",
       "  <thead>\n",
       "    <tr style=\"text-align: right;\">\n",
       "      <th></th>\n",
       "      <th>SellerG</th>\n",
       "      <th>YearBuilt</th>\n",
       "    </tr>\n",
       "  </thead>\n",
       "  <tbody>\n",
       "    <tr>\n",
       "      <th>0</th>\n",
       "      <td>@Realty</td>\n",
       "      <td>1970.0</td>\n",
       "    </tr>\n",
       "    <tr>\n",
       "      <th>1</th>\n",
       "      <td>ASL</td>\n",
       "      <td>1962.5</td>\n",
       "    </tr>\n",
       "    <tr>\n",
       "      <th>2</th>\n",
       "      <td>Abercromby's</td>\n",
       "      <td>1946.5</td>\n",
       "    </tr>\n",
       "    <tr>\n",
       "      <th>3</th>\n",
       "      <td>Ace</td>\n",
       "      <td>NaN</td>\n",
       "    </tr>\n",
       "    <tr>\n",
       "      <th>4</th>\n",
       "      <td>Alexkarbon</td>\n",
       "      <td>2000.0</td>\n",
       "    </tr>\n",
       "  </tbody>\n",
       "</table>\n",
       "</div>"
      ],
      "text/plain": [
       "        SellerG  YearBuilt\n",
       "0       @Realty     1970.0\n",
       "1           ASL     1962.5\n",
       "2  Abercromby's     1946.5\n",
       "3           Ace        NaN\n",
       "4    Alexkarbon     2000.0"
      ]
     },
     "execution_count": 37,
     "metadata": {},
     "output_type": "execute_result"
    }
   ],
   "source": [
    "fill_values_df = pd.DataFrame(fill_values)\n",
    "fill_values_df.reset_index(inplace=True)\n",
    "fill_values_df.head(5)"
   ]
  },
  {
   "cell_type": "code",
   "execution_count": 38,
   "metadata": {
    "slideshow": {
     "slide_type": "subslide"
    }
   },
   "outputs": [
    {
     "data": {
      "text/html": [
       "<div>\n",
       "<style scoped>\n",
       "    .dataframe tbody tr th:only-of-type {\n",
       "        vertical-align: middle;\n",
       "    }\n",
       "\n",
       "    .dataframe tbody tr th {\n",
       "        vertical-align: top;\n",
       "    }\n",
       "\n",
       "    .dataframe thead th {\n",
       "        text-align: right;\n",
       "    }\n",
       "</style>\n",
       "<table border=\"1\" class=\"dataframe\">\n",
       "  <thead>\n",
       "    <tr style=\"text-align: right;\">\n",
       "      <th></th>\n",
       "      <th>Suburb</th>\n",
       "      <th>Address</th>\n",
       "      <th>Rooms</th>\n",
       "      <th>Type</th>\n",
       "      <th>Price</th>\n",
       "      <th>Method</th>\n",
       "      <th>SellerG</th>\n",
       "      <th>Date</th>\n",
       "      <th>Distance</th>\n",
       "      <th>Postcode</th>\n",
       "      <th>...</th>\n",
       "      <th>Car</th>\n",
       "      <th>Landsize</th>\n",
       "      <th>BuildingArea</th>\n",
       "      <th>YearBuilt</th>\n",
       "      <th>CouncilArea</th>\n",
       "      <th>Lattitude</th>\n",
       "      <th>Longtitude</th>\n",
       "      <th>Regionname</th>\n",
       "      <th>Propertycount</th>\n",
       "      <th>YearBuilt_median</th>\n",
       "    </tr>\n",
       "  </thead>\n",
       "  <tbody>\n",
       "    <tr>\n",
       "      <th>0</th>\n",
       "      <td>Abbotsford</td>\n",
       "      <td>85 Turner St</td>\n",
       "      <td>2</td>\n",
       "      <td>h</td>\n",
       "      <td>1480000.0</td>\n",
       "      <td>S</td>\n",
       "      <td>Biggin</td>\n",
       "      <td>3/12/2016</td>\n",
       "      <td>2.5</td>\n",
       "      <td>3067.0</td>\n",
       "      <td>...</td>\n",
       "      <td>1.0</td>\n",
       "      <td>202.0</td>\n",
       "      <td>NaN</td>\n",
       "      <td>NaN</td>\n",
       "      <td>Yarra</td>\n",
       "      <td>-37.7996</td>\n",
       "      <td>144.9984</td>\n",
       "      <td>Northern Metropolitan</td>\n",
       "      <td>4019.0</td>\n",
       "      <td>1970.0</td>\n",
       "    </tr>\n",
       "    <tr>\n",
       "      <th>1</th>\n",
       "      <td>Abbotsford</td>\n",
       "      <td>25 Bloomburg St</td>\n",
       "      <td>2</td>\n",
       "      <td>h</td>\n",
       "      <td>1035000.0</td>\n",
       "      <td>S</td>\n",
       "      <td>Biggin</td>\n",
       "      <td>4/02/2016</td>\n",
       "      <td>2.5</td>\n",
       "      <td>3067.0</td>\n",
       "      <td>...</td>\n",
       "      <td>0.0</td>\n",
       "      <td>156.0</td>\n",
       "      <td>79.0</td>\n",
       "      <td>1900.0</td>\n",
       "      <td>Yarra</td>\n",
       "      <td>-37.8079</td>\n",
       "      <td>144.9934</td>\n",
       "      <td>Northern Metropolitan</td>\n",
       "      <td>4019.0</td>\n",
       "      <td>1970.0</td>\n",
       "    </tr>\n",
       "    <tr>\n",
       "      <th>2</th>\n",
       "      <td>Abbotsford</td>\n",
       "      <td>5 Charles St</td>\n",
       "      <td>3</td>\n",
       "      <td>h</td>\n",
       "      <td>1465000.0</td>\n",
       "      <td>SP</td>\n",
       "      <td>Biggin</td>\n",
       "      <td>4/03/2017</td>\n",
       "      <td>2.5</td>\n",
       "      <td>3067.0</td>\n",
       "      <td>...</td>\n",
       "      <td>0.0</td>\n",
       "      <td>134.0</td>\n",
       "      <td>150.0</td>\n",
       "      <td>1900.0</td>\n",
       "      <td>Yarra</td>\n",
       "      <td>-37.8093</td>\n",
       "      <td>144.9944</td>\n",
       "      <td>Northern Metropolitan</td>\n",
       "      <td>4019.0</td>\n",
       "      <td>1970.0</td>\n",
       "    </tr>\n",
       "    <tr>\n",
       "      <th>3</th>\n",
       "      <td>Abbotsford</td>\n",
       "      <td>40 Federation La</td>\n",
       "      <td>3</td>\n",
       "      <td>h</td>\n",
       "      <td>850000.0</td>\n",
       "      <td>PI</td>\n",
       "      <td>Biggin</td>\n",
       "      <td>4/03/2017</td>\n",
       "      <td>2.5</td>\n",
       "      <td>3067.0</td>\n",
       "      <td>...</td>\n",
       "      <td>1.0</td>\n",
       "      <td>94.0</td>\n",
       "      <td>NaN</td>\n",
       "      <td>NaN</td>\n",
       "      <td>Yarra</td>\n",
       "      <td>-37.7969</td>\n",
       "      <td>144.9969</td>\n",
       "      <td>Northern Metropolitan</td>\n",
       "      <td>4019.0</td>\n",
       "      <td>1970.0</td>\n",
       "    </tr>\n",
       "    <tr>\n",
       "      <th>4</th>\n",
       "      <td>Abbotsford</td>\n",
       "      <td>55a Park St</td>\n",
       "      <td>4</td>\n",
       "      <td>h</td>\n",
       "      <td>1600000.0</td>\n",
       "      <td>VB</td>\n",
       "      <td>Nelson</td>\n",
       "      <td>4/06/2016</td>\n",
       "      <td>2.5</td>\n",
       "      <td>3067.0</td>\n",
       "      <td>...</td>\n",
       "      <td>2.0</td>\n",
       "      <td>120.0</td>\n",
       "      <td>142.0</td>\n",
       "      <td>2014.0</td>\n",
       "      <td>Yarra</td>\n",
       "      <td>-37.8072</td>\n",
       "      <td>144.9941</td>\n",
       "      <td>Northern Metropolitan</td>\n",
       "      <td>4019.0</td>\n",
       "      <td>1960.0</td>\n",
       "    </tr>\n",
       "  </tbody>\n",
       "</table>\n",
       "<p>5 rows × 22 columns</p>\n",
       "</div>"
      ],
      "text/plain": [
       "       Suburb           Address  Rooms Type      Price Method SellerG  \\\n",
       "0  Abbotsford      85 Turner St      2    h  1480000.0      S  Biggin   \n",
       "1  Abbotsford   25 Bloomburg St      2    h  1035000.0      S  Biggin   \n",
       "2  Abbotsford      5 Charles St      3    h  1465000.0     SP  Biggin   \n",
       "3  Abbotsford  40 Federation La      3    h   850000.0     PI  Biggin   \n",
       "4  Abbotsford       55a Park St      4    h  1600000.0     VB  Nelson   \n",
       "\n",
       "        Date  Distance  Postcode  ...  Car  Landsize  BuildingArea  YearBuilt  \\\n",
       "0  3/12/2016       2.5    3067.0  ...  1.0     202.0           NaN        NaN   \n",
       "1  4/02/2016       2.5    3067.0  ...  0.0     156.0          79.0     1900.0   \n",
       "2  4/03/2017       2.5    3067.0  ...  0.0     134.0         150.0     1900.0   \n",
       "3  4/03/2017       2.5    3067.0  ...  1.0      94.0           NaN        NaN   \n",
       "4  4/06/2016       2.5    3067.0  ...  2.0     120.0         142.0     2014.0   \n",
       "\n",
       "   CouncilArea  Lattitude Longtitude             Regionname  Propertycount  \\\n",
       "0        Yarra   -37.7996   144.9984  Northern Metropolitan         4019.0   \n",
       "1        Yarra   -37.8079   144.9934  Northern Metropolitan         4019.0   \n",
       "2        Yarra   -37.8093   144.9944  Northern Metropolitan         4019.0   \n",
       "3        Yarra   -37.7969   144.9969  Northern Metropolitan         4019.0   \n",
       "4        Yarra   -37.8072   144.9941  Northern Metropolitan         4019.0   \n",
       "\n",
       "  YearBuilt_median  \n",
       "0           1970.0  \n",
       "1           1970.0  \n",
       "2           1970.0  \n",
       "3           1970.0  \n",
       "4           1960.0  \n",
       "\n",
       "[5 rows x 22 columns]"
      ]
     },
     "execution_count": 38,
     "metadata": {},
     "output_type": "execute_result"
    }
   ],
   "source": [
    "data = data.merge(fill_values_df, on = \"SellerG\", suffixes = (\"\", \"_median\"), how = 'left')\n",
    "data.head(5)"
   ]
  },
  {
   "cell_type": "code",
   "execution_count": 39,
   "metadata": {
    "slideshow": {
     "slide_type": "subslide"
    }
   },
   "outputs": [
    {
     "data": {
      "text/html": [
       "<div>\n",
       "<style scoped>\n",
       "    .dataframe tbody tr th:only-of-type {\n",
       "        vertical-align: middle;\n",
       "    }\n",
       "\n",
       "    .dataframe tbody tr th {\n",
       "        vertical-align: top;\n",
       "    }\n",
       "\n",
       "    .dataframe thead th {\n",
       "        text-align: right;\n",
       "    }\n",
       "</style>\n",
       "<table border=\"1\" class=\"dataframe\">\n",
       "  <thead>\n",
       "    <tr style=\"text-align: right;\">\n",
       "      <th></th>\n",
       "      <th>Suburb</th>\n",
       "      <th>Address</th>\n",
       "      <th>Rooms</th>\n",
       "      <th>Type</th>\n",
       "      <th>Price</th>\n",
       "      <th>Method</th>\n",
       "      <th>SellerG</th>\n",
       "      <th>Date</th>\n",
       "      <th>Distance</th>\n",
       "      <th>Postcode</th>\n",
       "      <th>...</th>\n",
       "      <th>Car</th>\n",
       "      <th>Landsize</th>\n",
       "      <th>BuildingArea</th>\n",
       "      <th>YearBuilt</th>\n",
       "      <th>CouncilArea</th>\n",
       "      <th>Lattitude</th>\n",
       "      <th>Longtitude</th>\n",
       "      <th>Regionname</th>\n",
       "      <th>Propertycount</th>\n",
       "      <th>YearBuilt_median</th>\n",
       "    </tr>\n",
       "  </thead>\n",
       "  <tbody>\n",
       "    <tr>\n",
       "      <th>0</th>\n",
       "      <td>Abbotsford</td>\n",
       "      <td>85 Turner St</td>\n",
       "      <td>2</td>\n",
       "      <td>h</td>\n",
       "      <td>1480000.0</td>\n",
       "      <td>S</td>\n",
       "      <td>Biggin</td>\n",
       "      <td>3/12/2016</td>\n",
       "      <td>2.5</td>\n",
       "      <td>3067.0</td>\n",
       "      <td>...</td>\n",
       "      <td>1.0</td>\n",
       "      <td>202.0</td>\n",
       "      <td>NaN</td>\n",
       "      <td>1970.0</td>\n",
       "      <td>Yarra</td>\n",
       "      <td>-37.7996</td>\n",
       "      <td>144.9984</td>\n",
       "      <td>Northern Metropolitan</td>\n",
       "      <td>4019.0</td>\n",
       "      <td>1970.0</td>\n",
       "    </tr>\n",
       "    <tr>\n",
       "      <th>1</th>\n",
       "      <td>Abbotsford</td>\n",
       "      <td>25 Bloomburg St</td>\n",
       "      <td>2</td>\n",
       "      <td>h</td>\n",
       "      <td>1035000.0</td>\n",
       "      <td>S</td>\n",
       "      <td>Biggin</td>\n",
       "      <td>4/02/2016</td>\n",
       "      <td>2.5</td>\n",
       "      <td>3067.0</td>\n",
       "      <td>...</td>\n",
       "      <td>0.0</td>\n",
       "      <td>156.0</td>\n",
       "      <td>79.0</td>\n",
       "      <td>1900.0</td>\n",
       "      <td>Yarra</td>\n",
       "      <td>-37.8079</td>\n",
       "      <td>144.9934</td>\n",
       "      <td>Northern Metropolitan</td>\n",
       "      <td>4019.0</td>\n",
       "      <td>1970.0</td>\n",
       "    </tr>\n",
       "    <tr>\n",
       "      <th>2</th>\n",
       "      <td>Abbotsford</td>\n",
       "      <td>5 Charles St</td>\n",
       "      <td>3</td>\n",
       "      <td>h</td>\n",
       "      <td>1465000.0</td>\n",
       "      <td>SP</td>\n",
       "      <td>Biggin</td>\n",
       "      <td>4/03/2017</td>\n",
       "      <td>2.5</td>\n",
       "      <td>3067.0</td>\n",
       "      <td>...</td>\n",
       "      <td>0.0</td>\n",
       "      <td>134.0</td>\n",
       "      <td>150.0</td>\n",
       "      <td>1900.0</td>\n",
       "      <td>Yarra</td>\n",
       "      <td>-37.8093</td>\n",
       "      <td>144.9944</td>\n",
       "      <td>Northern Metropolitan</td>\n",
       "      <td>4019.0</td>\n",
       "      <td>1970.0</td>\n",
       "    </tr>\n",
       "    <tr>\n",
       "      <th>3</th>\n",
       "      <td>Abbotsford</td>\n",
       "      <td>40 Federation La</td>\n",
       "      <td>3</td>\n",
       "      <td>h</td>\n",
       "      <td>850000.0</td>\n",
       "      <td>PI</td>\n",
       "      <td>Biggin</td>\n",
       "      <td>4/03/2017</td>\n",
       "      <td>2.5</td>\n",
       "      <td>3067.0</td>\n",
       "      <td>...</td>\n",
       "      <td>1.0</td>\n",
       "      <td>94.0</td>\n",
       "      <td>NaN</td>\n",
       "      <td>1970.0</td>\n",
       "      <td>Yarra</td>\n",
       "      <td>-37.7969</td>\n",
       "      <td>144.9969</td>\n",
       "      <td>Northern Metropolitan</td>\n",
       "      <td>4019.0</td>\n",
       "      <td>1970.0</td>\n",
       "    </tr>\n",
       "    <tr>\n",
       "      <th>4</th>\n",
       "      <td>Abbotsford</td>\n",
       "      <td>55a Park St</td>\n",
       "      <td>4</td>\n",
       "      <td>h</td>\n",
       "      <td>1600000.0</td>\n",
       "      <td>VB</td>\n",
       "      <td>Nelson</td>\n",
       "      <td>4/06/2016</td>\n",
       "      <td>2.5</td>\n",
       "      <td>3067.0</td>\n",
       "      <td>...</td>\n",
       "      <td>2.0</td>\n",
       "      <td>120.0</td>\n",
       "      <td>142.0</td>\n",
       "      <td>2014.0</td>\n",
       "      <td>Yarra</td>\n",
       "      <td>-37.8072</td>\n",
       "      <td>144.9941</td>\n",
       "      <td>Northern Metropolitan</td>\n",
       "      <td>4019.0</td>\n",
       "      <td>1960.0</td>\n",
       "    </tr>\n",
       "  </tbody>\n",
       "</table>\n",
       "<p>5 rows × 22 columns</p>\n",
       "</div>"
      ],
      "text/plain": [
       "       Suburb           Address  Rooms Type      Price Method SellerG  \\\n",
       "0  Abbotsford      85 Turner St      2    h  1480000.0      S  Biggin   \n",
       "1  Abbotsford   25 Bloomburg St      2    h  1035000.0      S  Biggin   \n",
       "2  Abbotsford      5 Charles St      3    h  1465000.0     SP  Biggin   \n",
       "3  Abbotsford  40 Federation La      3    h   850000.0     PI  Biggin   \n",
       "4  Abbotsford       55a Park St      4    h  1600000.0     VB  Nelson   \n",
       "\n",
       "        Date  Distance  Postcode  ...  Car  Landsize  BuildingArea  YearBuilt  \\\n",
       "0  3/12/2016       2.5    3067.0  ...  1.0     202.0           NaN     1970.0   \n",
       "1  4/02/2016       2.5    3067.0  ...  0.0     156.0          79.0     1900.0   \n",
       "2  4/03/2017       2.5    3067.0  ...  0.0     134.0         150.0     1900.0   \n",
       "3  4/03/2017       2.5    3067.0  ...  1.0      94.0           NaN     1970.0   \n",
       "4  4/06/2016       2.5    3067.0  ...  2.0     120.0         142.0     2014.0   \n",
       "\n",
       "   CouncilArea  Lattitude Longtitude             Regionname  Propertycount  \\\n",
       "0        Yarra   -37.7996   144.9984  Northern Metropolitan         4019.0   \n",
       "1        Yarra   -37.8079   144.9934  Northern Metropolitan         4019.0   \n",
       "2        Yarra   -37.8093   144.9944  Northern Metropolitan         4019.0   \n",
       "3        Yarra   -37.7969   144.9969  Northern Metropolitan         4019.0   \n",
       "4        Yarra   -37.8072   144.9941  Northern Metropolitan         4019.0   \n",
       "\n",
       "  YearBuilt_median  \n",
       "0           1970.0  \n",
       "1           1970.0  \n",
       "2           1970.0  \n",
       "3           1970.0  \n",
       "4           1960.0  \n",
       "\n",
       "[5 rows x 22 columns]"
      ]
     },
     "execution_count": 39,
     "metadata": {},
     "output_type": "execute_result"
    }
   ],
   "source": [
    "data.YearBuilt.fillna(data.YearBuilt_median, inplace = True)\n",
    "\n",
    "data.head(5)"
   ]
  },
  {
   "cell_type": "code",
   "execution_count": 40,
   "metadata": {
    "slideshow": {
     "slide_type": "subslide"
    }
   },
   "outputs": [
    {
     "name": "stdout",
     "output_type": "stream",
     "text": [
      "cantidad de nulos después de la imputación:  51\n"
     ]
    }
   ],
   "source": [
    "print(\"cantidad de nulos después de la imputación: \", data.YearBuilt.isnull().sum())"
   ]
  },
  {
   "cell_type": "markdown",
   "metadata": {
    "slideshow": {
     "slide_type": "fragment"
    }
   },
   "source": [
    "**¿A qué vendedores corrresponden los 51 registros que quedaron en nulo?**"
   ]
  },
  {
   "cell_type": "markdown",
   "metadata": {
    "slideshow": {
     "slide_type": "slide"
    }
   },
   "source": [
    "### Ejercicio 2\n"
   ]
  },
  {
   "cell_type": "code",
   "execution_count": 260,
   "metadata": {
    "slideshow": {
     "slide_type": "fragment"
    }
   },
   "outputs": [],
   "source": [
    "data_location = \"../Data/melb_data.csv\"\n",
    "\n",
    "data = pd.read_csv(data_location)"
   ]
  },
  {
   "cell_type": "code",
   "execution_count": 261,
   "metadata": {
    "slideshow": {
     "slide_type": "fragment"
    }
   },
   "outputs": [],
   "source": [
    "patron = \"^(?P<punto_cardinal>.*)ern\\s(Metropolitan|Victoria)$\"\n",
    "\n",
    "regex = re.compile(patron, flags = re.IGNORECASE)\n"
   ]
  },
  {
   "cell_type": "code",
   "execution_count": 262,
   "metadata": {
    "slideshow": {
     "slide_type": "subslide"
    }
   },
   "outputs": [
    {
     "data": {
      "text/plain": [
       "'North'"
      ]
     },
     "execution_count": 262,
     "metadata": {},
     "output_type": "execute_result"
    }
   ],
   "source": [
    "texto1 = 'Northern Metropolitan'\n",
    "\n",
    "regex.search(texto1).group(\"punto_cardinal\")"
   ]
  },
  {
   "cell_type": "code",
   "execution_count": 44,
   "metadata": {
    "slideshow": {
     "slide_type": "fragment"
    }
   },
   "outputs": [
    {
     "data": {
      "text/plain": [
       "'West'"
      ]
     },
     "execution_count": 44,
     "metadata": {},
     "output_type": "execute_result"
    }
   ],
   "source": [
    "texto2 = 'Western Metropolitan'\n",
    "\n",
    "regex.search(texto2).group(\"punto_cardinal\")"
   ]
  },
  {
   "cell_type": "code",
   "execution_count": 45,
   "metadata": {
    "slideshow": {
     "slide_type": "fragment"
    }
   },
   "outputs": [
    {
     "data": {
      "text/plain": [
       "'South'"
      ]
     },
     "execution_count": 45,
     "metadata": {},
     "output_type": "execute_result"
    }
   ],
   "source": [
    "texto3 = 'Southern Metropolitan'\n",
    "\n",
    "regex.search(texto3).group(\"punto_cardinal\")"
   ]
  },
  {
   "cell_type": "code",
   "execution_count": 46,
   "metadata": {
    "slideshow": {
     "slide_type": "subslide"
    }
   },
   "outputs": [
    {
     "data": {
      "text/plain": [
       "'South'"
      ]
     },
     "execution_count": 46,
     "metadata": {},
     "output_type": "execute_result"
    }
   ],
   "source": [
    "texto4 = 'Southern Metropolitan'\n",
    "\n",
    "regex.search(texto4).group(\"punto_cardinal\")"
   ]
  },
  {
   "cell_type": "code",
   "execution_count": 47,
   "metadata": {
    "slideshow": {
     "slide_type": "fragment"
    }
   },
   "outputs": [
    {
     "data": {
      "text/plain": [
       "'South-East'"
      ]
     },
     "execution_count": 47,
     "metadata": {},
     "output_type": "execute_result"
    }
   ],
   "source": [
    "texto5 = \"South-Eastern Metropolitan\"\n",
    "\n",
    "regex.search(texto5).group(\"punto_cardinal\")"
   ]
  },
  {
   "cell_type": "code",
   "execution_count": 48,
   "metadata": {
    "slideshow": {
     "slide_type": "fragment"
    }
   },
   "outputs": [
    {
     "data": {
      "text/plain": [
       "'East'"
      ]
     },
     "execution_count": 48,
     "metadata": {},
     "output_type": "execute_result"
    }
   ],
   "source": [
    "texto6 = \"Eastern Victoria\"\n",
    "\n",
    "regex.search(texto6).group(\"punto_cardinal\")"
   ]
  },
  {
   "cell_type": "code",
   "execution_count": 49,
   "metadata": {
    "slideshow": {
     "slide_type": "subslide"
    }
   },
   "outputs": [
    {
     "data": {
      "text/plain": [
       "'North'"
      ]
     },
     "execution_count": 49,
     "metadata": {},
     "output_type": "execute_result"
    }
   ],
   "source": [
    "texto7 = \"Northern Victoria\"\n",
    "\n",
    "regex.search(texto7).group(\"punto_cardinal\")"
   ]
  },
  {
   "cell_type": "code",
   "execution_count": 50,
   "metadata": {
    "slideshow": {
     "slide_type": "fragment"
    }
   },
   "outputs": [
    {
     "data": {
      "text/plain": [
       "'West'"
      ]
     },
     "execution_count": 50,
     "metadata": {},
     "output_type": "execute_result"
    }
   ],
   "source": [
    "texto8 = \"Western Victoria\"\n",
    "\n",
    "regex.search(texto8).group(\"punto_cardinal\")"
   ]
  },
  {
   "cell_type": "markdown",
   "metadata": {
    "slideshow": {
     "slide_type": "slide"
    }
   },
   "source": [
    "### Ejercicio 3"
   ]
  },
  {
   "cell_type": "code",
   "execution_count": 263,
   "metadata": {
    "slideshow": {
     "slide_type": "fragment"
    }
   },
   "outputs": [],
   "source": [
    "patron = \"^(?P<punto_cardinal>.*)ern\\s(Metropolitan|Victoria)$\"\n",
    "\n",
    "regex = re.compile(patron, flags = re.IGNORECASE)\n"
   ]
  },
  {
   "cell_type": "code",
   "execution_count": 264,
   "metadata": {
    "slideshow": {
     "slide_type": "subslide"
    }
   },
   "outputs": [
    {
     "data": {
      "text/plain": [
       "763      South\n",
       "7500     South\n",
       "7814      West\n",
       "5890      West\n",
       "3328     South\n",
       "6918     North\n",
       "7675     South\n",
       "6179     South\n",
       "647      South\n",
       "11380    North\n",
       "Name: Regionname, dtype: object"
      ]
     },
     "execution_count": 264,
     "metadata": {},
     "output_type": "execute_result"
    }
   ],
   "source": [
    "resultado = data.Regionname.apply(lambda x: regex.search(x).group(\"punto_cardinal\"))\n",
    "\n",
    "resultado.sample(10)"
   ]
  },
  {
   "cell_type": "code",
   "execution_count": 265,
   "metadata": {
    "slideshow": {
     "slide_type": "fragment"
    }
   },
   "outputs": [
    {
     "data": {
      "text/plain": [
       "pandas.core.series.Series"
      ]
     },
     "execution_count": 265,
     "metadata": {},
     "output_type": "execute_result"
    }
   ],
   "source": [
    "type(resultado)"
   ]
  },
  {
   "cell_type": "markdown",
   "metadata": {
    "slideshow": {
     "slide_type": "slide"
    }
   },
   "source": [
    "<div class=\"div-dhds-fondo-1\"> Referencias\n",
    "\n",
    "<img src=\"https://raw.githubusercontent.com/Digital-House-DATA/ds_blend_2021_img/master/M2/CLASE_09_LimpiezaDeDatos/Presentacion/img/M2_CLASE_09_separador.png\" align=\"center\"></img>    \n",
    "</div>\n"
   ]
  },
  {
   "cell_type": "markdown",
   "metadata": {
    "slideshow": {
     "slide_type": "slide"
    }
   },
   "source": [
    "Tutorial de expresiones regulares:\n",
    "\n",
    "<a href=\"https://github.com/Digital-House-DATA/ds_blend_2021_img/wiki/Tutorial-de-Expresiones-Regulares-(regex)\" target=\"_blank\">Tutorial de Expresiones Regulares (regex)</a>\n",
    "\n",
    "Documentación:\n",
    "\n",
    "<a href=\"https://docs.python.org/3/library/re.html\" target=\"_blank\">re</a>\n",
    "\n",
    "<a href=\"https://docs.python.org/3/howto/regex.html\" target=\"_blank\">regex</a>\n",
    "\n",
    "\n",
    "Sitios web para practicar:\n",
    "\n",
    "<a href=\"https://regexr.com/\" target=\"_blank\">regexr</a>\n",
    "\n",
    "<a href=\"https://regex101.com/\" target=\"_blank\">regex101</a>\n",
    "\n",
    "Missing Data\n",
    "\n",
    "https://pandas.pydata.org/pandas-docs/stable/user_guide/missing_data.html\n",
    "\n",
    "https://pandas.pydata.org/pandas-docs/stable/user_guide/missing_data.html#filling-missing-values-fillna"
   ]
  }
 ],
 "metadata": {
  "celltoolbar": "Slideshow",
  "kernelspec": {
   "display_name": "Python 3 (ipykernel)",
   "language": "python",
   "name": "python3"
  },
  "language_info": {
   "codemirror_mode": {
    "name": "ipython",
    "version": 3
   },
   "file_extension": ".py",
   "mimetype": "text/x-python",
   "name": "python",
   "nbconvert_exporter": "python",
   "pygments_lexer": "ipython3",
   "version": "3.9.5"
  }
 },
 "nbformat": 4,
 "nbformat_minor": 4
}
