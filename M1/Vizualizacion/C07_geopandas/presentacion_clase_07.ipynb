{
 "cells": [
  {
   "cell_type": "markdown",
   "metadata": {
    "slideshow": {
     "slide_type": "slide"
    }
   },
   "source": [
    "<link rel=\"stylesheet\" href='../../../common/dhds.css'>\n",
    "<div class=\"Table\">\n",
    "    <div class=\"Row\">\n",
    "        <div class=\"Cell grey left\"> <img src=\"https://i.pinimg.com/originals/11/10/00/111000c0a7f37113e98b211a00f74d0d.png\" align=\"center\" width=90%/> </div>                \n",
    "    <div class=\"Cell right\">\n",
    "            <div class=\"div-logo\"></div> \n",
    "            <div class=\"div-curso\">DATA SCIENCE</div>\n",
    "            <div class=\"div-modulo\">MÓDULO 1</div>            \n",
    "            <div class=\"div-contenido\">GeoPandas</div>        \n",
    "        </div>\n",
    "    </div>    \n",
    "</div>        "
   ]
  },
  {
   "cell_type": "markdown",
   "metadata": {
    "slideshow": {
     "slide_type": "slide"
    }
   },
   "source": [
    "## Objetivos de la clase\n",
    "\n",
    "---\n",
    "\n",
    "\n",
    "- Presentar que son los datos geoespaciales\n",
    "\n",
    "- GeoPandas y sus tipos de datos\n",
    "\n",
    "- Realizar operaciones con los datos geoespaciales usando GeoPandas"
   ]
  },
  {
   "cell_type": "markdown",
   "metadata": {
    "slideshow": {
     "slide_type": "slide"
    }
   },
   "source": [
    "<div class=\"div-dhds-fondo-1\">  GIS (Sistemas de Información Geográfica)\n",
    "<img src=\"https://raw.githubusercontent.com/Digital-House-DATA/ds_blend_2021_img/master/M1/CLASE_05_Pandas1/Presentacion/img/M1_CLASE_05_separador.png\" align=\"center\"></img>    \n",
    "</div>\n"
   ]
  },
  {
   "cell_type": "markdown",
   "metadata": {
    "slideshow": {
     "slide_type": "slide"
    }
   },
   "source": [
    "### Sistemas de Información Geográfica (SIG)\n",
    "\n",
    "---\n",
    "\n",
    "Un SIG está conformado por objetos y capas de información geográfica georreferenciadas, sus atributos y sus relaciones espaciales; y es esencial para la toma de decisiones en el ámbito social, económico y ambiental.\n",
    "\n",
    "<div>\n",
    "    <div class = \"mapa\">\n",
    "        <img src='https://raw.githubusercontent.com/Digital-House-DATA/ds_blend_2021_img/master/M1/CLASE_07_Geopandas/Presentacion/img/M1_Clase_07_1_001_SIG.jpg' alt=\"Ejemplo de SIG\" width=30% height=40% align=\"center\">\n",
    "    </div>\n",
    "</div>\n",
    "\n",
    "El sistema permite separar la información en diferentes capas temáticas, las almacena independientemente, y luego se pueden presentar todas juntas.\n",
    "\n",
    "<div>\n",
    "    <div class = \"mapa\">\n",
    "        <img src='https://raw.githubusercontent.com/Digital-House-DATA/ds_blend_2021_img/master/M1/CLASE_07_Geopandas/Presentacion/img/M1_Clase_07_1_002_Capas.PNG' alt=\"Varias capas temáticas\" width=40% height=50% align=\"center\">\n",
    "    </div>\n",
    "</div>"
   ]
  },
  {
   "cell_type": "markdown",
   "metadata": {
    "slideshow": {
     "slide_type": "slide"
    }
   },
   "source": [
    "### Datos Geoespaciales\n",
    "\n",
    "---\n",
    "\n",
    "\n",
    "La *georreferenciación* es la técnica de posicionamiento espacial de una entidad en una localización geográfica única y bien definida en un *sistema de coordenadas*.\n",
    "\n",
    "Ejemplos:\n",
    "\n",
    "La posicion en un sistema de coordenanas de pozos petroleros.\n",
    "\n",
    "La posicion en tiempo real del transito vehicular\n",
    "\n",
    "La posicion de inmuebles a la venta\n",
    "\n",
    "La posicion de hechos delictivos\n",
    "\n"
   ]
  },
  {
   "cell_type": "markdown",
   "metadata": {
    "slideshow": {
     "slide_type": "slide"
    }
   },
   "source": [
    "### Sistema de coordenadas geográficas\n",
    "\n",
    "---\n",
    "\n",
    "Son los sistemas que permiten la proyeccion de el esferoide (Tierra) en un plano. El sistema más usual es el WGS 84, que usa las medidas *latitud* y *longitud*. \n",
    "\n",
    "\n",
    "https://thetruesize.com/#?borders=1~!MTY5NTYyNjI.MzE4MzM2*MzYwMDAwMDA(MA~!AR*MA.MTgwMDAwMDA)Mw\n",
    "\n",
    "https://www.jasondavies.com/maps/transition/\n",
    "      \n",
    "En esta proyeccion existen dos líneas fundamentales: el *meridiano de Greenwich*, que va de un polo a otro, y el *Ecuador*, que cruza al eje de rotación por el centro de la esfera. Las líneas paralelas al Ecuador se denominan *latitud*, y las lineas paralelas a Greenwich, *longitud*.\n",
    "      \n",
    "<div>\n",
    "    <div class = \"mapa\">\n",
    "        <img src='https://raw.githubusercontent.com/Digital-House-DATA/ds_blend_2021_img/master/M1/CLASE_07_Geopandas/Presentacion/img/M1_Clase_07_1_008_Latitud_Longitud.PNG' alt=\"Latitud y Longitud\" width=40% height=30% align=\"center\">\n",
    "    </div>\n",
    "</div> \n",
    "\n",
    "El Teorema Egregium de Gauss prueba que no es posible representar la superficie de una espefera en un plano sin distorsionarlo. Esta proyeccion conserva los angulos pero no las areas, por eso es tan importante para la navegacion.\n"
   ]
  },
  {
   "cell_type": "markdown",
   "metadata": {
    "slideshow": {
     "slide_type": "slide"
    }
   },
   "source": [
    "<div class=\"div-dhds-fondo-1\">  Tipos de Datos Geoespaciales\n",
    "<img src=\"https://raw.githubusercontent.com/Digital-House-DATA/ds_blend_2021_img/master/M1/CLASE_05_Pandas1/Presentacion/img/M1_CLASE_05_separador.png\" align=\"center\"></img>    \n",
    "</div>"
   ]
  },
  {
   "cell_type": "markdown",
   "metadata": {
    "slideshow": {
     "slide_type": "slide"
    }
   },
   "source": [
    "### Tipos de Datos Geoespaciales\n",
    "\n",
    "---\n",
    "\n",
    "Existen dos tipos de datos geoespaciales en los Sistemas de Información Geográfica: *raster* y *vectorial*."
   ]
  },
  {
   "cell_type": "markdown",
   "metadata": {
    "slideshow": {
     "slide_type": "slide"
    }
   },
   "source": [
    "### Tipos de Datos Raster\n",
    "\n",
    "---\n",
    "\n",
    "El tipo de datos **raster** es lo que consideramos imagenes digitales, o mapas. Se representan mediante mallas o cuadriculas; divide el espacio en celdas regulares donde cada una de ellas representa un único valor. Similar a la fotografía digital donde el píxel es la unidad menor de información de una imagen, y una combinación de estos píxeles crea una imagen. \n",
    "\n",
    "Este tipo de datos se centra en las propiedades del espacio, por ejemplo, elevaciones sobre un terreno, nivel de luz, variedad de cultivos. No siendo tan precisos en la localizacion en el espacio.\n",
    "\n",
    "<div>\n",
    "    <div class = \"mapa\">\n",
    "        <img src='https://raw.githubusercontent.com/Digital-House-DATA/ds_blend_2021_img/master/M1/CLASE_07_Geopandas/Presentacion/img/M1_Clase_07_1_003_Mapa.PNG' alt=\"Datos tipo raster\" width=60% align=\"center\">\n",
    "    </div>\n",
    "</div> \n",
    "\n",
    "Mapa y mapa pixelado"
   ]
  },
  {
   "cell_type": "markdown",
   "metadata": {
    "slideshow": {
     "slide_type": "slide"
    }
   },
   "source": [
    "### Tipos de Datos Vectorial\n",
    "\n",
    "---\n",
    "\n",
    "El tipo de datos **vectorial** representan objetos que provienen de diversas fuentes: localidades, negocios, barrios, rutas, nivel de contaminación, etc. Son datos discretos, es decir, con limites definidos. Y con una localizacion precisa sobre el espacio. \n",
    "\n",
    "<div>\n",
    "    <div class = \"mapa\">\n",
    "        <img src='https://raw.githubusercontent.com/Digital-House-DATA/ds_blend_2021_img/master/M1/CLASE_07_Geopandas/Presentacion/img/M1_Clase_07_1_005_Vectorial.PNG' alt=\"Tipo de dato Vectorial\" width=30% height=40%>\n",
    "    </div>\n",
    "</div>\n",
    "\n",
    "Para modelar los objetos se utilizan tres formas: el punto, la línea y el polígono.\n",
    "<div>\n",
    "    <div class = \"mapa\">\n",
    "        <img src='https://raw.githubusercontent.com/Digital-House-DATA/ds_blend_2021_img/master/M1/CLASE_07_Geopandas/Presentacion/img/M1_Clase_07_1_006_Vectorial.PNG' alt=\"Elementos geométricos\" width=30% height=40%>\n",
    "    </div>\n",
    "</div>\n"
   ]
  },
  {
   "cell_type": "markdown",
   "metadata": {
    "slideshow": {
     "slide_type": "slide"
    }
   },
   "source": [
    "### Tipos de Datos Vectorial\n",
    "\n",
    "---\n",
    "\n",
    "- Los **puntos** se utilizan para las entidades geográficas que mejor pueden ser expresadas por un único punto de referencia. Por ejemplo, estaciones de subte, edificios, localizaciones de los pozos, puntos de interés.\n",
    "- Las **líneas unidimensionales o polilíneas** son usadas para rasgos lineales como ríos, caminos, ferrocarriles, líneas topográficas o curvas de nivel. En los elementos lineales puede medirse la *distancia*.\n",
    "- Los **polígonos** se utilizan para representar elementos geográficos que cubren un área particular de la superficie de la tierra. Por ejemplo, lagos, límites de parques naturales, yacimientos, provincias. Con ellos se pueden medir el *perímetro* y el *área*.\n",
    "<div>\n",
    "    <div class = \"mapa\">\n",
    "        <img src='https://raw.githubusercontent.com/Digital-House-DATA/ds_blend_2021_img/master/M1/CLASE_07_Geopandas/Presentacion/img/M1_Clase_07_1_010_Formas.PNG' alt=\"Elementos geométricos\" width=70% >\n",
    "    </div>\n",
    "</div>"
   ]
  },
  {
   "cell_type": "markdown",
   "metadata": {
    "slideshow": {
     "slide_type": "slide"
    }
   },
   "source": [
    "### Archivos de Datos Geoespaciales\n",
    "\n",
    "---\n",
    "\n",
    "En general, se denomina formato SIG a los formatos de archivos con datos geoespaciales.\n",
    "\n",
    "\n",
    "\n",
    "Los datos geoespaciales de tipo *raster* se almacenan en los tipos de archivos que conocemos para almacenar imágenes. Por ejemplo, los formatos TIFF, JPEG, PNG, etc. (googlemaps)\n",
    "\n",
    "Los datos geoespaciales de tipo *vectorial* más comunes son: \n",
    "\n",
    "https://www.ign.gob.ar/NuestrasActividades/InformacionGeoespacial/CapasSIG\n",
    "\n",
    "\n",
    "- **SHP (Shapefile).** El archivo shapefile es el tipo de archivo geoespacial más común. Todos los formatos comerciales y de código abierto aceptan shapefile como formatos SIG. Se ha convertido en el estándar de la industria.\n",
    "\n",
    "\n",
    "\n",
    "- **CSV / GeoCSV.**  CSV (Comma-separated values) representa datos en forma de tabla separados por comas. Es usual encontrarlos en publicaciones de organismos, por ejemplo https://data.buenosaires.gob.ar/dataset. La ventaja es que ocupan poco espacio y es fácil compartirlos. GeoCSV es el mismo formato CSV con una extensión de geometría espacial.\n",
    "\n",
    "Existen otros tipos de archivos, por ejemplo: GeoJSON (Javascript Object Notation), KMZ/KML (Keyhole Markup Language), OSM (OpenStreetMap), PostGIS + PostgreSQL, etc."
   ]
  },
  {
   "cell_type": "markdown",
   "metadata": {
    "slideshow": {
     "slide_type": "slide"
    }
   },
   "source": [
    "<div class=\"div-dhds-fondo-1\">  GeoPandas\n",
    "<img src=\"https://raw.githubusercontent.com/Digital-House-DATA/ds_blend_2021_img/master/M1/CLASE_05_Pandas1/Presentacion/img/M1_CLASE_05_separador.png\" align=\"center\"></img>    \n",
    "</div>"
   ]
  },
  {
   "cell_type": "markdown",
   "metadata": {
    "slideshow": {
     "slide_type": "slide"
    }
   },
   "source": [
    "### GeoPandas\n",
    "\n",
    "---\n",
    "\n",
    "**GeoPandas** es una biblioteca que permite trabajar con datos geoespaciales en Python. Para ello, usa las facilidades de otras bibliotecas de Python.\n",
    "\n",
    "- Extiende la funcionalidad de **pandas**. Es decir que se pueden realizar todas las operaciones que se aplican a las *Series* y *DataFrame*. \n",
    "\n",
    "- Provee una interfaz con la libreria **matplotlib** para generar mapas. Las figuras geométricas se pueden mapear facilmente con el método plot().\n",
    "\n",
    "- Permite operaciones sobre los datos geométricos que representan a los datos espaciales (puntos, líneas y polígonos). Para ello hace uso de la libreria **shapely**.\n",
    "\n",
    "- Facilita el acceso a datos en múltiples *formatos de archivos*, extendiendo las operaciones que brinda la librería **fiona**.\n",
    "\n",
    "- Realiza **proyecciones**, es decir, permite usar distintos tipos de coordenadas para referenciar la posición geográfica de los datos geoespaciales."
   ]
  },
  {
   "cell_type": "markdown",
   "metadata": {
    "slideshow": {
     "slide_type": "slide"
    }
   },
   "source": [
    "### GeoSeries y GeoDataFrame\n",
    "\n",
    "---\n",
    "Así como *Pandas* tiene como estructura de datos a las *Series* y *Dataframe*, *Geopandas* tiene algo similar llamado *Geoseries* y *GeoDataFrame*.\n",
    "\n",
    "La diferencia entre ellos es que tanto **GeoSeries** como **GeoDataFrame**, deben contener al menos una columna con tipos de datos geoespaciales. Esta columna se la llama por default *geometry*.\n",
    "\n",
    "La columna *geometry* contiene una forma geométrica que representa la posición espacial del objeto. Por ejemplo, la posicion espacial de un negocio - sus coordenadas- se expresan mediante la forma geométrica *punto*.\n",
    "\n",
    "Las formas geométricas son:\n",
    "- POINT. Un punto\n",
    "- LINESTRING. Una línea\n",
    "- POLYGON. Una superficie\n",
    "\n",
    "También se pueden representar colecciones de formas:\n",
    "\n",
    "- MULTIPOINT. Varios puntos\n",
    "- MULTILINESTRING. Varias líneas\n",
    "- MULTIPOLYGON. Varias superficies"
   ]
  },
  {
   "cell_type": "markdown",
   "metadata": {
    "slideshow": {
     "slide_type": "slide"
    }
   },
   "source": [
    "### En Python\n",
    "\n",
    "Vamos a trabajar con algunos datos geoespaciales con GeoPandas.\n",
    "\n",
    "* Puntos, que representan un lugar determinado. Como tienen cero dimensiones no se puede medir la longitud ni el área. \n",
    "\n",
    "* Líneas, que pueden representar ríos, senderos, calles, etc. Como tienen una dimensión, se puede medir su longitud. Tienen un punto inicial y un punto final. \n",
    "\n",
    "* Polígonos, se utilizan para representar áreas tales como el límite de una ciudad (en un mapa a gran escala), un lago o un bosque. Las características del polígono son bidimensionales y, por lo tanto, se pueden usar para medir el área y el perímetro de una característica geográfica."
   ]
  },
  {
   "cell_type": "markdown",
   "metadata": {
    "slideshow": {
     "slide_type": "slide"
    }
   },
   "source": [
    "### Puntos\n",
    "\n",
    "---\n",
    "Con **puntos** vamos a representar locales bailables de Buenos Aires.\n",
    "\n",
    "Leemos un archivo del tipo de datos *CSV*, y lo transformamos en un DataFrame. Se muestran algunas filas y columnas."
   ]
  },
  {
   "cell_type": "code",
   "execution_count": 60,
   "metadata": {
    "slideshow": {
     "slide_type": "fragment"
    }
   },
   "outputs": [],
   "source": [
    "# pip3 install geopandas\n",
    "# pip3 install geopy\n",
    "\n",
    "import pandas as pd\n",
    "import geopandas as gpd\n",
    "import matplotlib.pyplot as plt\n",
    "#import descartes"
   ]
  },
  {
   "cell_type": "code",
   "execution_count": 2,
   "metadata": {
    "colab": {
     "base_uri": "https://localhost:8080/",
     "height": 289
    },
    "colab_type": "code",
    "executionInfo": {
     "elapsed": 830,
     "status": "ok",
     "timestamp": 1567641541793,
     "user": {
      "displayName": "Julián Ansaldo",
      "photoUrl": "https://lh3.googleusercontent.com/a-/AAuE7mCQI0iy6sTR9TfuLMfXZ90XCqxfdAQtMEcBkjfs1w=s64",
      "userId": "10643095115217147090"
     },
     "user_tz": 180
    },
    "id": "vRpX0jS6G_x5",
    "outputId": "178eafb8-17f3-4205-fcbe-9368fbd51efa",
    "slideshow": {
     "slide_type": "fragment"
    }
   },
   "outputs": [
    {
     "data": {
      "text/html": [
       "<div>\n",
       "<style scoped>\n",
       "    .dataframe tbody tr th:only-of-type {\n",
       "        vertical-align: middle;\n",
       "    }\n",
       "\n",
       "    .dataframe tbody tr th {\n",
       "        vertical-align: top;\n",
       "    }\n",
       "\n",
       "    .dataframe thead th {\n",
       "        text-align: right;\n",
       "    }\n",
       "</style>\n",
       "<table border=\"1\" class=\"dataframe\">\n",
       "  <thead>\n",
       "    <tr style=\"text-align: right;\">\n",
       "      <th></th>\n",
       "      <th>X</th>\n",
       "      <th>Y</th>\n",
       "      <th>NOMBRE</th>\n",
       "      <th>CALLE</th>\n",
       "      <th>NUMERO</th>\n",
       "    </tr>\n",
       "  </thead>\n",
       "  <tbody>\n",
       "    <tr>\n",
       "      <th>0</th>\n",
       "      <td>-58.393750</td>\n",
       "      <td>-34.605027</td>\n",
       "      <td>CASTELBAMBA</td>\n",
       "      <td>RIOBAMBA</td>\n",
       "      <td>345</td>\n",
       "    </tr>\n",
       "    <tr>\n",
       "      <th>1</th>\n",
       "      <td>-58.378510</td>\n",
       "      <td>-34.596003</td>\n",
       "      <td>GOLDEN</td>\n",
       "      <td>ESMERALDA</td>\n",
       "      <td>1040</td>\n",
       "    </tr>\n",
       "    <tr>\n",
       "      <th>2</th>\n",
       "      <td>-58.374727</td>\n",
       "      <td>-34.612002</td>\n",
       "      <td>REY CASTRO</td>\n",
       "      <td>PERU</td>\n",
       "      <td>342</td>\n",
       "    </tr>\n",
       "    <tr>\n",
       "      <th>3</th>\n",
       "      <td>-58.390154</td>\n",
       "      <td>-34.605531</td>\n",
       "      <td>LA FRANCE</td>\n",
       "      <td>SARMIENTO</td>\n",
       "      <td>1656</td>\n",
       "    </tr>\n",
       "    <tr>\n",
       "      <th>4</th>\n",
       "      <td>-58.371747</td>\n",
       "      <td>-34.601950</td>\n",
       "      <td>BAHREIN</td>\n",
       "      <td>LAVALLE</td>\n",
       "      <td>343</td>\n",
       "    </tr>\n",
       "  </tbody>\n",
       "</table>\n",
       "</div>"
      ],
      "text/plain": [
       "           X          Y       NOMBRE       CALLE NUMERO\n",
       "0 -58.393750 -34.605027  CASTELBAMBA   RIOBAMBA     345\n",
       "1 -58.378510 -34.596003       GOLDEN  ESMERALDA    1040\n",
       "2 -58.374727 -34.612002   REY CASTRO       PERU     342\n",
       "3 -58.390154 -34.605531    LA FRANCE  SARMIENTO    1656\n",
       "4 -58.371747 -34.601950     BAHREIN     LAVALLE     343"
      ]
     },
     "execution_count": 2,
     "metadata": {},
     "output_type": "execute_result"
    }
   ],
   "source": [
    "df_locales = pd.read_csv(\"../Data/locales-bailables.csv\", encoding='latin1')\n",
    "df_locales.loc[:4, ['X', 'Y','NOMBRE','CALLE','NUMERO']]"
   ]
  },
  {
   "cell_type": "markdown",
   "metadata": {
    "slideshow": {
     "slide_type": "slide"
    }
   },
   "source": [
    "### Puntos\n",
    "\n",
    "---\n",
    "Observar que la posición geoespacial de cada local se representa por la *latitud* (columna Y) y *longitud* (columna X). Son datos *numéricos*.\n",
    "\n",
    "Pero para generar un GeoDataFrame, necesitamos que una columna contenga una forma geométrica. Es este caso, un *punto*. Es recomendable que la columna se llame *geometry*.\n",
    "\n",
    "Con el método `gpd.points_from_xy(df_locales.X, df_locales.Y)` lo realizamos.\n",
    "\n",
    "**IMPORTANTE:** este método tiene dos parámetros, el primero, x, debe recibir la **longitud**, y el segundo, y, la **latitud**. Se puede pensar lógicamente que debe ser a la inversa."
   ]
  },
  {
   "cell_type": "code",
   "execution_count": 3,
   "metadata": {
    "colab": {
     "base_uri": "https://localhost:8080/",
     "height": 289
    },
    "colab_type": "code",
    "executionInfo": {
     "elapsed": 830,
     "status": "ok",
     "timestamp": 1567641541793,
     "user": {
      "displayName": "Julián Ansaldo",
      "photoUrl": "https://lh3.googleusercontent.com/a-/AAuE7mCQI0iy6sTR9TfuLMfXZ90XCqxfdAQtMEcBkjfs1w=s64",
      "userId": "10643095115217147090"
     },
     "user_tz": 180
    },
    "id": "vRpX0jS6G_x5",
    "outputId": "178eafb8-17f3-4205-fcbe-9368fbd51efa",
    "slideshow": {
     "slide_type": "fragment"
    }
   },
   "outputs": [],
   "source": [
    "geo_locales = gpd.GeoDataFrame(df_locales,geometry=gpd.points_from_xy(df_locales.X, df_locales.Y))"
   ]
  },
  {
   "cell_type": "code",
   "execution_count": 4,
   "metadata": {},
   "outputs": [
    {
     "data": {
      "text/html": [
       "<div>\n",
       "<style scoped>\n",
       "    .dataframe tbody tr th:only-of-type {\n",
       "        vertical-align: middle;\n",
       "    }\n",
       "\n",
       "    .dataframe tbody tr th {\n",
       "        vertical-align: top;\n",
       "    }\n",
       "\n",
       "    .dataframe thead th {\n",
       "        text-align: right;\n",
       "    }\n",
       "</style>\n",
       "<table border=\"1\" class=\"dataframe\">\n",
       "  <thead>\n",
       "    <tr style=\"text-align: right;\">\n",
       "      <th></th>\n",
       "      <th>X</th>\n",
       "      <th>Y</th>\n",
       "      <th>NUMERO_REGISTRO</th>\n",
       "      <th>NOMBRE</th>\n",
       "      <th>CALLE</th>\n",
       "      <th>NUMERO</th>\n",
       "      <th>DIRECCION_NORMALIZADA</th>\n",
       "      <th>NUMERO_EXPEDIENTE</th>\n",
       "      <th>CAPACIDAD</th>\n",
       "      <th>CLASE</th>\n",
       "      <th>...</th>\n",
       "      <th>FECHA_DISPOSICION_DE_RECHAZO</th>\n",
       "      <th>NUMERO_DISPOSICION_DE_RECALCULO_CAPACIDAD</th>\n",
       "      <th>FECHA_DISPOSICION_DE_CAPACIDAD</th>\n",
       "      <th>FECHA_DE_ENTREGA_NUEVA_REVALIDA</th>\n",
       "      <th>VENCIMIENTO</th>\n",
       "      <th>BARRIO</th>\n",
       "      <th>COMUNA</th>\n",
       "      <th>CP</th>\n",
       "      <th>CPA</th>\n",
       "      <th>geometry</th>\n",
       "    </tr>\n",
       "  </thead>\n",
       "  <tbody>\n",
       "    <tr>\n",
       "      <th>0</th>\n",
       "      <td>-58.393750</td>\n",
       "      <td>-34.605027</td>\n",
       "      <td>1</td>\n",
       "      <td>CASTELBAMBA</td>\n",
       "      <td>RIOBAMBA</td>\n",
       "      <td>345</td>\n",
       "      <td>RIOBAMBA  345</td>\n",
       "      <td>4627093/18</td>\n",
       "      <td>428 personas</td>\n",
       "      <td>\"C\"</td>\n",
       "      <td>...</td>\n",
       "      <td>NaN</td>\n",
       "      <td>158</td>\n",
       "      <td>2005-12-12 00:00:00</td>\n",
       "      <td>2018-01-25</td>\n",
       "      <td>2018-04-13</td>\n",
       "      <td>Balvanera</td>\n",
       "      <td>Comuna 3</td>\n",
       "      <td>1025.0</td>\n",
       "      <td>C1025ABG</td>\n",
       "      <td>POINT (-58.39375 -34.60503)</td>\n",
       "    </tr>\n",
       "    <tr>\n",
       "      <th>1</th>\n",
       "      <td>-58.378510</td>\n",
       "      <td>-34.596003</td>\n",
       "      <td>2</td>\n",
       "      <td>GOLDEN</td>\n",
       "      <td>ESMERALDA</td>\n",
       "      <td>1040</td>\n",
       "      <td>ESMERALDA  1040</td>\n",
       "      <td>10561/05</td>\n",
       "      <td>408 personas</td>\n",
       "      <td>\"C.C\"</td>\n",
       "      <td>...</td>\n",
       "      <td>NaN</td>\n",
       "      <td>98</td>\n",
       "      <td>2005-08-08 00:00:00</td>\n",
       "      <td>NaN</td>\n",
       "      <td>NaN</td>\n",
       "      <td>Retiro</td>\n",
       "      <td>Comuna 1</td>\n",
       "      <td>1007.0</td>\n",
       "      <td>C1007ABN</td>\n",
       "      <td>POINT (-58.37851 -34.59600)</td>\n",
       "    </tr>\n",
       "    <tr>\n",
       "      <th>2</th>\n",
       "      <td>-58.374727</td>\n",
       "      <td>-34.612002</td>\n",
       "      <td>3</td>\n",
       "      <td>REY CASTRO</td>\n",
       "      <td>PERU</td>\n",
       "      <td>342</td>\n",
       "      <td>PERU  342</td>\n",
       "      <td>4407796/18</td>\n",
       "      <td>901 personas</td>\n",
       "      <td>\"C\"</td>\n",
       "      <td>...</td>\n",
       "      <td>NaN</td>\n",
       "      <td>67</td>\n",
       "      <td>2006-04-24 00:00:00</td>\n",
       "      <td>2018-05-31</td>\n",
       "      <td>2018-09-03</td>\n",
       "      <td>Monserrat</td>\n",
       "      <td>Comuna 1</td>\n",
       "      <td>1067.0</td>\n",
       "      <td>C1067AAH</td>\n",
       "      <td>POINT (-58.37473 -34.61200)</td>\n",
       "    </tr>\n",
       "    <tr>\n",
       "      <th>3</th>\n",
       "      <td>-58.390154</td>\n",
       "      <td>-34.605531</td>\n",
       "      <td>4</td>\n",
       "      <td>LA FRANCE</td>\n",
       "      <td>SARMIENTO</td>\n",
       "      <td>1656</td>\n",
       "      <td>SARMIENTO  1656</td>\n",
       "      <td>3005915/18</td>\n",
       "      <td>1372 personas</td>\n",
       "      <td>\"C.C\"</td>\n",
       "      <td>...</td>\n",
       "      <td>NaN</td>\n",
       "      <td>136</td>\n",
       "      <td>2005-09-29 00:00:00</td>\n",
       "      <td>2018-07-13</td>\n",
       "      <td>2018-10-13</td>\n",
       "      <td>San Nicolas</td>\n",
       "      <td>Comuna 1</td>\n",
       "      <td>1042.0</td>\n",
       "      <td>C1042ABF</td>\n",
       "      <td>POINT (-58.39015 -34.60553)</td>\n",
       "    </tr>\n",
       "    <tr>\n",
       "      <th>4</th>\n",
       "      <td>-58.371747</td>\n",
       "      <td>-34.601950</td>\n",
       "      <td>5</td>\n",
       "      <td>BAHREIN</td>\n",
       "      <td>LAVALLE</td>\n",
       "      <td>343</td>\n",
       "      <td>LAVALLE  343</td>\n",
       "      <td>2219876/18</td>\n",
       "      <td>880 personas</td>\n",
       "      <td>\"C\"</td>\n",
       "      <td>...</td>\n",
       "      <td>NaN</td>\n",
       "      <td>95</td>\n",
       "      <td>2007-11-06 00:00:00</td>\n",
       "      <td>2018-06-28</td>\n",
       "      <td>2018-09-30</td>\n",
       "      <td>San Nicolas</td>\n",
       "      <td>Comuna 1</td>\n",
       "      <td>1047.0</td>\n",
       "      <td>C1047AAG</td>\n",
       "      <td>POINT (-58.37175 -34.60195)</td>\n",
       "    </tr>\n",
       "  </tbody>\n",
       "</table>\n",
       "<p>5 rows × 26 columns</p>\n",
       "</div>"
      ],
      "text/plain": [
       "           X          Y  NUMERO_REGISTRO       NOMBRE       CALLE NUMERO  \\\n",
       "0 -58.393750 -34.605027                1  CASTELBAMBA   RIOBAMBA     345   \n",
       "1 -58.378510 -34.596003                2       GOLDEN  ESMERALDA    1040   \n",
       "2 -58.374727 -34.612002                3   REY CASTRO       PERU     342   \n",
       "3 -58.390154 -34.605531                4    LA FRANCE  SARMIENTO    1656   \n",
       "4 -58.371747 -34.601950                5     BAHREIN     LAVALLE     343   \n",
       "\n",
       "  DIRECCION_NORMALIZADA NUMERO_EXPEDIENTE      CAPACIDAD  CLASE  ...  \\\n",
       "0         RIOBAMBA  345        4627093/18   428 personas    \"C\"  ...   \n",
       "1       ESMERALDA  1040          10561/05   408 personas  \"C.C\"  ...   \n",
       "2             PERU  342        4407796/18   901 personas    \"C\"  ...   \n",
       "3       SARMIENTO  1656        3005915/18  1372 personas  \"C.C\"  ...   \n",
       "4          LAVALLE  343        2219876/18   880 personas    \"C\"  ...   \n",
       "\n",
       "  FECHA_DISPOSICION_DE_RECHAZO  NUMERO_DISPOSICION_DE_RECALCULO_CAPACIDAD  \\\n",
       "0                          NaN                                        158   \n",
       "1                          NaN                                         98   \n",
       "2                          NaN                                         67   \n",
       "3                          NaN                                        136   \n",
       "4                          NaN                                         95   \n",
       "\n",
       "  FECHA_DISPOSICION_DE_CAPACIDAD  FECHA_DE_ENTREGA_NUEVA_REVALIDA VENCIMIENTO  \\\n",
       "0            2005-12-12 00:00:00                       2018-01-25  2018-04-13   \n",
       "1            2005-08-08 00:00:00                              NaN         NaN   \n",
       "2            2006-04-24 00:00:00                       2018-05-31  2018-09-03   \n",
       "3            2005-09-29 00:00:00                       2018-07-13  2018-10-13   \n",
       "4            2007-11-06 00:00:00                       2018-06-28  2018-09-30   \n",
       "\n",
       "        BARRIO    COMUNA      CP       CPA                     geometry  \n",
       "0    Balvanera  Comuna 3  1025.0  C1025ABG  POINT (-58.39375 -34.60503)  \n",
       "1       Retiro  Comuna 1  1007.0  C1007ABN  POINT (-58.37851 -34.59600)  \n",
       "2    Monserrat  Comuna 1  1067.0  C1067AAH  POINT (-58.37473 -34.61200)  \n",
       "3  San Nicolas  Comuna 1  1042.0  C1042ABF  POINT (-58.39015 -34.60553)  \n",
       "4  San Nicolas  Comuna 1  1047.0  C1047AAG  POINT (-58.37175 -34.60195)  \n",
       "\n",
       "[5 rows x 26 columns]"
      ]
     },
     "execution_count": 4,
     "metadata": {},
     "output_type": "execute_result"
    }
   ],
   "source": [
    "geo_locales.head()"
   ]
  },
  {
   "cell_type": "code",
   "execution_count": 5,
   "metadata": {
    "colab": {
     "base_uri": "https://localhost:8080/",
     "height": 289
    },
    "colab_type": "code",
    "executionInfo": {
     "elapsed": 830,
     "status": "ok",
     "timestamp": 1567641541793,
     "user": {
      "displayName": "Julián Ansaldo",
      "photoUrl": "https://lh3.googleusercontent.com/a-/AAuE7mCQI0iy6sTR9TfuLMfXZ90XCqxfdAQtMEcBkjfs1w=s64",
      "userId": "10643095115217147090"
     },
     "user_tz": 180
    },
    "id": "vRpX0jS6G_x5",
    "outputId": "178eafb8-17f3-4205-fcbe-9368fbd51efa",
    "slideshow": {
     "slide_type": "fragment"
    }
   },
   "outputs": [
    {
     "data": {
      "text/html": [
       "<div>\n",
       "<style scoped>\n",
       "    .dataframe tbody tr th:only-of-type {\n",
       "        vertical-align: middle;\n",
       "    }\n",
       "\n",
       "    .dataframe tbody tr th {\n",
       "        vertical-align: top;\n",
       "    }\n",
       "\n",
       "    .dataframe thead th {\n",
       "        text-align: right;\n",
       "    }\n",
       "</style>\n",
       "<table border=\"1\" class=\"dataframe\">\n",
       "  <thead>\n",
       "    <tr style=\"text-align: right;\">\n",
       "      <th></th>\n",
       "      <th>geometry</th>\n",
       "      <th>X</th>\n",
       "      <th>Y</th>\n",
       "      <th>NOMBRE</th>\n",
       "      <th>CALLE</th>\n",
       "      <th>NUMERO</th>\n",
       "    </tr>\n",
       "  </thead>\n",
       "  <tbody>\n",
       "    <tr>\n",
       "      <th>0</th>\n",
       "      <td>POINT (-58.39375 -34.60503)</td>\n",
       "      <td>-58.393750</td>\n",
       "      <td>-34.605027</td>\n",
       "      <td>CASTELBAMBA</td>\n",
       "      <td>RIOBAMBA</td>\n",
       "      <td>345</td>\n",
       "    </tr>\n",
       "    <tr>\n",
       "      <th>1</th>\n",
       "      <td>POINT (-58.37851 -34.59600)</td>\n",
       "      <td>-58.378510</td>\n",
       "      <td>-34.596003</td>\n",
       "      <td>GOLDEN</td>\n",
       "      <td>ESMERALDA</td>\n",
       "      <td>1040</td>\n",
       "    </tr>\n",
       "    <tr>\n",
       "      <th>2</th>\n",
       "      <td>POINT (-58.37473 -34.61200)</td>\n",
       "      <td>-58.374727</td>\n",
       "      <td>-34.612002</td>\n",
       "      <td>REY CASTRO</td>\n",
       "      <td>PERU</td>\n",
       "      <td>342</td>\n",
       "    </tr>\n",
       "    <tr>\n",
       "      <th>3</th>\n",
       "      <td>POINT (-58.39015 -34.60553)</td>\n",
       "      <td>-58.390154</td>\n",
       "      <td>-34.605531</td>\n",
       "      <td>LA FRANCE</td>\n",
       "      <td>SARMIENTO</td>\n",
       "      <td>1656</td>\n",
       "    </tr>\n",
       "    <tr>\n",
       "      <th>4</th>\n",
       "      <td>POINT (-58.37175 -34.60195)</td>\n",
       "      <td>-58.371747</td>\n",
       "      <td>-34.601950</td>\n",
       "      <td>BAHREIN</td>\n",
       "      <td>LAVALLE</td>\n",
       "      <td>343</td>\n",
       "    </tr>\n",
       "  </tbody>\n",
       "</table>\n",
       "</div>"
      ],
      "text/plain": [
       "                      geometry          X          Y       NOMBRE       CALLE  \\\n",
       "0  POINT (-58.39375 -34.60503) -58.393750 -34.605027  CASTELBAMBA   RIOBAMBA    \n",
       "1  POINT (-58.37851 -34.59600) -58.378510 -34.596003       GOLDEN  ESMERALDA    \n",
       "2  POINT (-58.37473 -34.61200) -58.374727 -34.612002   REY CASTRO       PERU    \n",
       "3  POINT (-58.39015 -34.60553) -58.390154 -34.605531    LA FRANCE  SARMIENTO    \n",
       "4  POINT (-58.37175 -34.60195) -58.371747 -34.601950     BAHREIN     LAVALLE    \n",
       "\n",
       "  NUMERO  \n",
       "0    345  \n",
       "1   1040  \n",
       "2    342  \n",
       "3   1656  \n",
       "4    343  "
      ]
     },
     "execution_count": 5,
     "metadata": {},
     "output_type": "execute_result"
    }
   ],
   "source": [
    "geo_locales.loc[:4, ['geometry', 'X', 'Y','NOMBRE','CALLE','NUMERO']]"
   ]
  },
  {
   "cell_type": "code",
   "execution_count": 6,
   "metadata": {},
   "outputs": [
    {
     "data": {
      "image/svg+xml": [
       "<svg xmlns=\"http://www.w3.org/2000/svg\" xmlns:xlink=\"http://www.w3.org/1999/xlink\" width=\"100.0\" height=\"100.0\" viewBox=\"-59.39375 -35.605027 2.0 2.0\" preserveAspectRatio=\"xMinYMin meet\"><g transform=\"matrix(1,0,0,-1,0,-69.210054)\"><circle cx=\"-58.39375\" cy=\"-34.605027\" r=\"0.06\" stroke=\"#555555\" stroke-width=\"0.02\" fill=\"#66cc99\" opacity=\"0.6\" /></g></svg>"
      ],
      "text/plain": [
       "<shapely.geometry.point.Point at 0x7f4b941063a0>"
      ]
     },
     "execution_count": 6,
     "metadata": {},
     "output_type": "execute_result"
    }
   ],
   "source": [
    "geo_locales.geometry.values[0]"
   ]
  },
  {
   "cell_type": "markdown",
   "metadata": {
    "slideshow": {
     "slide_type": "slide"
    }
   },
   "source": [
    "### Polígonos\n",
    "\n",
    "---\n",
    "\n",
    "Con **polígonos** vamos a representar los barrios de Buenos Aires.\n",
    "\n",
    "El archivo barrios.csv es del tipo *GeoCSV*, con el formato habitual para los csv pero con una columna del tipo de datos geoespaciales *WKT*, donde se indican los contornos o límites de cada barrio.\n",
    "\n",
    "Pero la variable barrios generada a partir de la lectura del archivo es un *DataFrame, NO un GeoDataFrame*. Se debe transformar."
   ]
  },
  {
   "cell_type": "code",
   "execution_count": 7,
   "metadata": {},
   "outputs": [
    {
     "data": {
      "text/html": [
       "<div>\n",
       "<style scoped>\n",
       "    .dataframe tbody tr th:only-of-type {\n",
       "        vertical-align: middle;\n",
       "    }\n",
       "\n",
       "    .dataframe tbody tr th {\n",
       "        vertical-align: top;\n",
       "    }\n",
       "\n",
       "    .dataframe thead th {\n",
       "        text-align: right;\n",
       "    }\n",
       "</style>\n",
       "<table border=\"1\" class=\"dataframe\">\n",
       "  <thead>\n",
       "    <tr style=\"text-align: right;\">\n",
       "      <th></th>\n",
       "      <th>WKT</th>\n",
       "      <th>BARRIO</th>\n",
       "      <th>COMUNA</th>\n",
       "      <th>PERIMETRO</th>\n",
       "      <th>AREA</th>\n",
       "    </tr>\n",
       "  </thead>\n",
       "  <tbody>\n",
       "    <tr>\n",
       "      <th>0</th>\n",
       "      <td>POLYGON ((-58.4528200492791 -34.5959886570639,...</td>\n",
       "      <td>CHACARITA</td>\n",
       "      <td>15.0</td>\n",
       "      <td>7725.695228</td>\n",
       "      <td>3.118101e+06</td>\n",
       "    </tr>\n",
       "    <tr>\n",
       "      <th>1</th>\n",
       "      <td>POLYGON ((-58.4655768128541 -34.5965577078058,...</td>\n",
       "      <td>PATERNAL</td>\n",
       "      <td>15.0</td>\n",
       "      <td>7087.513295</td>\n",
       "      <td>2.229829e+06</td>\n",
       "    </tr>\n",
       "    <tr>\n",
       "      <th>2</th>\n",
       "      <td>POLYGON ((-58.4237529813037 -34.5978273383243,...</td>\n",
       "      <td>VILLA CRESPO</td>\n",
       "      <td>15.0</td>\n",
       "      <td>8132.699348</td>\n",
       "      <td>3.613584e+06</td>\n",
       "    </tr>\n",
       "    <tr>\n",
       "      <th>3</th>\n",
       "      <td>POLYGON ((-58.4946097568899 -34.6148652395239,...</td>\n",
       "      <td>VILLA DEL PARQUE</td>\n",
       "      <td>11.0</td>\n",
       "      <td>7705.389797</td>\n",
       "      <td>3.399596e+06</td>\n",
       "    </tr>\n",
       "    <tr>\n",
       "      <th>4</th>\n",
       "      <td>POLYGON ((-58.4128700313089 -34.6141162515854,...</td>\n",
       "      <td>ALMAGRO</td>\n",
       "      <td>5.0</td>\n",
       "      <td>8537.901368</td>\n",
       "      <td>4.050752e+06</td>\n",
       "    </tr>\n",
       "  </tbody>\n",
       "</table>\n",
       "</div>"
      ],
      "text/plain": [
       "                                                 WKT            BARRIO  \\\n",
       "0  POLYGON ((-58.4528200492791 -34.5959886570639,...         CHACARITA   \n",
       "1  POLYGON ((-58.4655768128541 -34.5965577078058,...          PATERNAL   \n",
       "2  POLYGON ((-58.4237529813037 -34.5978273383243,...      VILLA CRESPO   \n",
       "3  POLYGON ((-58.4946097568899 -34.6148652395239,...  VILLA DEL PARQUE   \n",
       "4  POLYGON ((-58.4128700313089 -34.6141162515854,...           ALMAGRO   \n",
       "\n",
       "   COMUNA    PERIMETRO          AREA  \n",
       "0    15.0  7725.695228  3.118101e+06  \n",
       "1    15.0  7087.513295  2.229829e+06  \n",
       "2    15.0  8132.699348  3.613584e+06  \n",
       "3    11.0  7705.389797  3.399596e+06  \n",
       "4     5.0  8537.901368  4.050752e+06  "
      ]
     },
     "execution_count": 7,
     "metadata": {},
     "output_type": "execute_result"
    }
   ],
   "source": [
    "barrios = pd.read_csv(\"../Data/barrios.csv\", encoding='latin1')\n",
    "barrios.head()"
   ]
  },
  {
   "cell_type": "code",
   "execution_count": null,
   "metadata": {
    "slideshow": {
     "slide_type": "fragment"
    }
   },
   "outputs": [],
   "source": []
  },
  {
   "cell_type": "markdown",
   "metadata": {
    "slideshow": {
     "slide_type": "slide"
    }
   },
   "source": [
    "### Polígonos\n",
    "\n",
    "---\n",
    "\n",
    "Para convertir de DataFrame a GeoDataFrame a *barrios*, debemos transformar la columna WKT en una columna del tipo *geometry*, el tipo de datos geoespaciales que requiere GeoDataFrame. Para ello, Geopandas usa la libreria **shapely**."
   ]
  },
  {
   "cell_type": "code",
   "execution_count": 8,
   "metadata": {
    "colab": {},
    "colab_type": "code",
    "id": "F1J5ZR8OVecD"
   },
   "outputs": [
    {
     "data": {
      "text/plain": [
       "geopandas.geodataframe.GeoDataFrame"
      ]
     },
     "execution_count": 8,
     "metadata": {},
     "output_type": "execute_result"
    }
   ],
   "source": [
    "import shapely.wkt\n",
    "\n",
    "\n",
    "barrios[\"WKT\"] = barrios[\"WKT\"].apply(shapely.wkt.loads) \n",
    "\n",
    "\n",
    "\n",
    "\n",
    "\n",
    "geo_barrios = gpd.GeoDataFrame(barrios, geometry='WKT')\n",
    "type(geo_barrios)"
   ]
  },
  {
   "cell_type": "code",
   "execution_count": 9,
   "metadata": {},
   "outputs": [
    {
     "data": {
      "image/svg+xml": [
       "<svg xmlns=\"http://www.w3.org/2000/svg\" xmlns:xlink=\"http://www.w3.org/1999/xlink\" width=\"100.0\" height=\"100.0\" viewBox=\"-58.467959869157035 -34.59896645791263 0.030555815960667587 0.021803494699263126\" preserveAspectRatio=\"xMinYMin meet\"><g transform=\"matrix(1,0,0,-1,0,-69.176129421126)\"><path fill-rule=\"evenodd\" fill=\"#66cc99\" stroke=\"#555555\" stroke-width=\"0.0006111163192133517\" opacity=\"0.6\" d=\"M -58.4528200492791,-34.5959886570639 L -58.453655193137,-34.5965557163041 L -58.4537674321647,-34.5966342484152 L -58.4538163134148,-34.5966684788922 L -58.4547947928051,-34.5973527273644 L -58.4554840815948,-34.5978347610252 L -58.4559204833296,-34.5976953435829 L -58.4560093721285,-34.5976669530232 L -58.4560576047802,-34.5976515472868 L -58.4562363723257,-34.5975900748435 L -58.4564940053845,-34.597501563774 L -58.4570733158433,-34.5973024999733 L -58.4576142986162,-34.5971165306991 L -58.4578298572666,-34.5970394940224 L -58.4579314199407,-34.5970031094655 L -58.4579383597538,-34.5970006235554 L -58.457939151188,-34.5970004324803 L -58.4580314840712,-34.5969781271249 L -58.4582467474022,-34.5969261254882 L -58.4592081863103,-34.5966936826245 L -58.4592753814056,-34.5966774864904 L -58.4607717313584,-34.5965908256843 L -58.461008489241,-34.5965771669178 L -58.461500184562,-34.5965469590603 L -58.4615048306102,-34.5965466787569 L -58.4623220712384,-34.5965110490604 L -58.4624802220071,-34.5965042183086 L -58.4625206541306,-34.5965018079147 L -58.4637678264729,-34.5964274496069 L -58.4638637221527,-34.5964294210885 L -58.4646140234657,-34.5964785682445 L -58.4651592721924,-34.5965757917791 L -58.4651613793847,-34.5965761676386 L -58.4652710724273,-34.5966020115654 L -58.465339885911,-34.5966119403979 L -58.4654505835153,-34.59661891152 L -58.4655402165487,-34.5966463016308 L -58.4656201094845,-34.5967043067336 L -58.4655768128541,-34.5965577078058 L -58.465554434696,-34.5964822872553 L -58.4655118251641,-34.5963386864843 L -58.4654546732526,-34.5961458635988 L -58.4651988343882,-34.5953364276981 L -58.4650736836825,-34.5949011987359 L -58.4648267024928,-34.5940422724471 L -58.4644540217146,-34.5927935584922 L -58.4643817851099,-34.5925515163591 L -58.4644091198271,-34.5924672868431 L -58.4650280527625,-34.5919364107241 L -58.4658796865855,-34.5912081588557 L -58.4660489985854,-34.5910867180571 L -58.4663928573575,-34.5908622593099 L -58.4665306488686,-34.5907723125485 L -58.4665923016107,-34.5907351963295 L -58.4668281722696,-34.5905930920952 L -58.4657830008228,-34.5896043925249 L -58.4645332635208,-34.5884221360889 L -58.4630744816449,-34.5870649213261 L -58.4629751205092,-34.5869805400343 L -58.461952645947,-34.5861122031234 L -58.4618702043843,-34.5860421891544 L -58.4614638213396,-34.5858332613902 L -58.4603788016938,-34.5855276845223 L -58.4604139194362,-34.5854024167589 L -58.4604462802733,-34.5852877643506 L -58.4604255057232,-34.5852032534777 L -58.4604706411008,-34.5850361353814 L -58.4605356159209,-34.5849439493523 L -58.4605345318123,-34.5840461665945 L -58.4605331978237,-34.5829502757213 L -58.460531948912,-34.5818532587471 L -58.4605306146065,-34.580772157502 L -58.4605292809645,-34.5796668306049 L -58.4605276992685,-34.5782946601008 L -58.4605232166307,-34.5782946690354 L -58.4602248340306,-34.5782952880515 L -58.4601985594291,-34.5782953479127 L -58.4601021385732,-34.5782955676544 L -58.4597845714173,-34.5783147333419 L -58.4596950535932,-34.5783201362424 L -58.4585384246269,-34.5783900346815 L -58.4577639164539,-34.57843681251 L -58.4577436676417,-34.5784380358534 L -58.4573407479054,-34.5785467557746 L -58.457161766713,-34.5785949886773 L -58.4571475839219,-34.5785988155734 L -58.4559708829345,-34.5789162808655 L -58.4553992793144,-34.579070479135 L -58.4548623268909,-34.5792427067768 L -58.453533474128,-34.5796688999369 L -58.4530206113015,-34.5798333742389 L -58.4521930272086,-34.5800988095872 L -58.4521387166743,-34.5801162118212 L -58.4520222992006,-34.5801535152443 L -58.4512517652657,-34.5804006516243 L -58.451017590163,-34.5804757586408 L -58.4510096596172,-34.5804789048291 L -58.450952449802,-34.5805016004481 L -58.4505172245318,-34.5806742198247 L -58.4499989853758,-34.5808797606533 L -58.4496743253071,-34.5810085114951 L -58.449595440632,-34.5810397949395 L -58.4494416523924,-34.5810963999448 L -58.4491919812231,-34.5811882776715 L -58.448459568068,-34.5814579241167 L -58.4483934029757,-34.5814822833589 L -58.4483258230482,-34.5815071661386 L -58.4482895615355,-34.5815205167813 L -58.4482796339798,-34.5815241718727 L -58.4482750418364,-34.5815261463977 L -58.4480518326744,-34.5816220940359 L -58.4470924721564,-34.5820344712672 L -58.4461817147653,-34.5824259258651 L -58.4457859875885,-34.5825960105066 L -58.4446425154933,-34.5830874842646 L -58.4444715140105,-34.5831609807395 L -58.4444485731026,-34.5831708409276 L -58.4444069042627,-34.583188756327 L -58.4443997765097,-34.5831918210746 L -58.4444002339388,-34.5831933878554 L -58.4447856534,-34.5845135514129 L -58.4445857679104,-34.5846657823276 L -58.4434772519387,-34.5854009946445 L -58.4424251828668,-34.5860987403321 L -58.4413975399073,-34.586780283069 L -58.441089226108,-34.5869846738708 L -58.4401565270955,-34.5876011493313 L -58.4393890485044,-34.5881083499955 L -58.4386143204607,-34.5886204031453 L -58.4385455945534,-34.5886617712813 L -58.4385357500838,-34.5886677008384 L -58.4385362274348,-34.5886679479287 L -58.4385831147669,-34.5886918427826 L -58.4386416493153,-34.5887216732237 L -58.4386702473123,-34.5887347948778 L -58.4386988453235,-34.5887478984962 L -58.4387274651478,-34.5887609885906 L -58.4387560740821,-34.5887740741688 L -58.4387569754002,-34.5887744854044 L -58.4387846939256,-34.5887871597424 L -58.4388133246817,-34.5888002326912 L -58.4388419434531,-34.5888133182512 L -58.4388705524208,-34.5888264128169 L -58.4388991613986,-34.5888395037702 L -58.4389277605693,-34.588852615448 L -58.4389563586565,-34.5888657361333 L -58.4389849360348,-34.5888788838513 L -58.439013488347,-34.588892048685 L -58.4390420341205,-34.5889052405542 L -58.4390705548219,-34.5889184711739 L -58.4390990548158,-34.588931724319 L -58.4391275340973,-34.588945017117 L -58.4391559806754,-34.5889583531714 L -58.4391844032722,-34.5889717252723 L -58.4392127942544,-34.588985145137 L -58.4392411525366,-34.5889985965393 L -58.4392694879268,-34.5890120866928 L -58.439297814596,-34.5890256128957 L -58.4393261074792,-34.5890391562131 L -58.439354399274,-34.5890527265669 L -58.4393826703621,-34.5890663176435 L -58.4394109305577,-34.5890799141201 L -58.4394391907565,-34.5890935322247 L -58.4394674411557,-34.5891071458137 L -58.4394956904703,-34.5891207729176 L -58.4395239408854,-34.589134395508 L -58.439552188041,-34.5891480135839 L -58.4395804482894,-34.5891616190355 L -58.4396087085473,-34.5891752235791 L -58.439636979718,-34.5891888154979 L -58.4396652748867,-34.5892023767656 L -58.4396935787896,-34.5892159199995 L -58.4397218707115,-34.5892294632245 L -58.4397501735404,-34.5892430154594 L -58.4397784796509,-34.5892565586739 L -58.4398067726904,-34.5892701018793 L -58.4398350755456,-34.5892836586017 L -58.4398633816837,-34.5892972017964 L -58.4398916845609,-34.5893107449839 L -58.4399199874473,-34.5893242881649 L -58.439948293613,-34.5893378313398 L -58.4399765965178,-34.5893513745076 L -58.4400048896216,-34.5893649176669 L -58.4400331925448,-34.5893784608215 L -58.440061498747,-34.5893920048715 L -58.4400898016885,-34.5894055480129 L -58.440118104638,-34.5894190956549 L -58.440146410868,-34.5894326387837 L -58.4401747138371,-34.5894461819053 L -58.4402030168179,-34.5894597160059 L -58.4402313339756,-34.589473259117 L -58.4402596369744,-34.5894867941058 L -58.4402879399803,-34.5895003372011 L -58.4403162462678,-34.5895138712759 L -58.4403445601946,-34.5895274053455 L -58.440372864318,-34.5895409484212 L -58.4404011695428,-34.5895544833775 L -58.4404294834972,-34.5895680174273 L -58.4404577876506,-34.5895815514688 L -58.4404861038031,-34.5895950864073 L -58.4405144068837,-34.5896086249425 L -58.4405427208769,-34.589622150853 L -58.4405710490499,-34.589635675858 L -58.440599363065,-34.5896491882336 L -58.4406276901708,-34.5896626960977 L -58.440656026006,-34.5896762039569 L -58.4406843531301,-34.5896897118078 L -58.4407126780857,-34.5897032106373 L -58.4407410161282,-34.5897167193785 L -58.44076935418,-34.5897302272115 L -58.4407976780731,-34.589743726021 L -58.4408260063331,-34.5897572338392 L -58.4408543411436,-34.5897707371446 L -58.4408826683319,-34.5897842449494 L -58.4409109835369,-34.5897977617598 L -58.4409393107412,-34.5898112785658 L -58.4409676248723,-34.5898248034758 L -58.4409959291999,-34.5898383382934 L -58.4410242335345,-34.5898518812174 L -58.441052537875,-34.589865436755 L -58.4410808324132,-34.589878997693 L -58.4410981757752,-34.5898873219982 L -58.4410982444382,-34.5898873544624 L -58.4411091040679,-34.5898925667333 L -58.4411373866275,-34.5899061537978 L -58.44116564739,-34.5899197633881 L -58.4411747424966,-34.5899241433085 L -58.4411938961728,-34.589933367561 L -58.4412221471414,-34.5899469852494 L -58.4412503970258,-34.5899606164527 L -58.4412786349279,-34.5899742521545 L -58.4413068750208,-34.5899878824415 L -58.4413351140314,-34.5900015181304 L -58.4413633410567,-34.5900151709381 L -58.4413915811769,-34.5900288021069 L -58.4414198191232,-34.5900424458889 L -58.4414480592619,-34.5900560770445 L -58.4414950008443,-34.590078729495 L -58.4415232290096,-34.5900923912802 L -58.4415514462872,-34.5901060395352 L -58.441579674471,-34.5901197013073 L -58.4416078917614,-34.5901333720854 L -58.4416361101534,-34.5901470338427 L -58.4416643274658,-34.590160691086 L -58.4416925447842,-34.590174360943 L -58.4417207621116,-34.5901880316949 L -58.4417489783583,-34.59020170244 L -58.4417771957076,-34.5902153596571 L -58.4418054130627,-34.5902290303894 L -58.4418336304274,-34.5902427002136 L -58.4418618478032,-34.5902563619183 L -58.4418900651873,-34.5902700281236 L -58.4419182825816,-34.5902836898152 L -58.4419465010753,-34.5902973515004 L -58.4419747293884,-34.5903110131807 L -58.4420029468116,-34.5903246703454 L -58.4420311751455,-34.5903383229982 L -58.4420594023985,-34.5903519756442 L -58.4420876318418,-34.5903656246783 L -58.4421158602056,-34.5903792682969 L -58.4421440983889,-34.5903929119107 L -58.4421723387623,-34.5904065519124 L -58.4422005780563,-34.5904201864988 L -58.4422288173626,-34.5904338084584 L -58.4422570686651,-34.5904474439351 L -58.4422853178024,-34.5904610568687 L -58.4423135691278,-34.5904746743034 L -58.4423418193732,-34.5904882881256 L -58.4423700794395,-34.5905018965341 L -58.4423983406061,-34.590515500429 L -58.4424266017828,-34.5905291007116 L -58.4424548738682,-34.5905427045952 L -58.4424831361566,-34.5905562913432 L -58.4425114082613,-34.5905698916079 L -58.4425396803784,-34.5905834783443 L -58.4425679525047,-34.5905970650741 L -58.4425962246392,-34.5906106563046 L -58.4426244967861,-34.5906242340069 L -58.4426527787504,-34.5906378207186 L -58.4426810520046,-34.5906514029151 L -58.4427093241792,-34.5906649805977 L -58.4427376072632,-34.5906785582754 L -58.4427658903565,-34.5906921359465 L -58.4427941625575,-34.5907057181165 L -58.4428224456692,-34.5907192957745 L -58.4428507178895,-34.5907328743256 L -58.4428790021086,-34.5907464564778 L -58.4429072841557,-34.5907600431303 L -58.442935556406,-34.5907736117458 L -58.4429638286601,-34.5907872028908 L -58.442992111827,-34.5908007805093 L -58.4430203841007,-34.5908143671339 L -58.4430486563835,-34.5908279537519 L -58.4430769286745,-34.5908415448706 L -58.4431052009758,-34.5908551314755 L -58.4431334732833,-34.590868730694 L -58.4431617347005,-34.5908823262984 L -58.4431899972169,-34.5908959218964 L -58.4432182586475,-34.5909095391223 L -58.4432465200905,-34.5909231428201 L -58.4432747706371,-34.5909367690456 L -58.4433030211981,-34.5909503727284 L -58.4433312717631,-34.5909639989408 L -58.4433595234303,-34.5909776125265 L -58.4433877838262,-34.5909912297128 L -58.4434160344241,-34.5910048333694 L -58.4434442959306,-34.5910184415283 L -58.4434725574471,-34.5910320460749 L -58.4435008298773,-34.5910456325877 L -58.4435291023157,-34.5910592236012 L -58.4435573856667,-34.5910728010882 L -58.4435662630454,-34.5910770572975 L -58.4435856690312,-34.5910863605397 L -58.4436139643929,-34.5910999299023 L -58.4436422575869,-34.5911134857364 L -58.4436705529713,-34.5911270361555 L -58.4436988570851,-34.5911405874709 L -58.4437271633902,-34.5911541297656 L -58.4437554686144,-34.5911676720535 L -58.4437837727596,-34.5911812062217 L -58.4438120790923,-34.5911947484966 L -58.443840383254,-34.5912082907645 L -58.443868689605,-34.5912218330262 L -58.4438969948752,-34.5912353752812 L -58.4439253001535,-34.5912489220368 L -58.4439535945396,-34.5912624732913 L -58.443981888935,-34.5912760245393 L -58.4440101844275,-34.5912895847952 L -58.4440384777493,-34.5913031441428 L -58.4440667612677,-34.5913167133983 L -58.4440950447946,-34.5913302862529 L -58.4441233283297,-34.5913438636081 L -58.4441516118759,-34.5913574319423 L -58.4441798954312,-34.5913710011714 L -58.4442081789928,-34.5913845830141 L -58.4442364636547,-34.5913981603432 L -58.4442647363353,-34.5914117376639 L -58.4442930188346,-34.5914253194867 L -58.4443212915337,-34.5914388967942 L -58.4443495751421,-34.5914524749982 L -58.4443778478596,-34.5914660522926 L -58.4444061325737,-34.5914796431039 L -58.4444344053096,-34.5914932203851 L -58.4444626889551,-34.5915067976613 L -58.4444909617064,-34.591520388451 L -58.4445192344699,-34.5915339657125 L -58.4445475072406,-34.5915475519819 L -58.4445757909219,-34.591561133739 L -58.4446040637111,-34.5915747199952 L -58.4446323365113,-34.5915882972304 L -58.4446606213084,-34.5916018879824 L -58.4446888941251,-34.5916154742188 L -58.444717166953,-34.5916290514343 L -58.4447454496006,-34.5916426286445 L -58.4447737224439,-34.5916562193685 L -58.4448020061999,-34.5916697965658 L -58.4448302790646,-34.5916833737549 L -58.444858562838,-34.5916969554462 L -58.4448868368112,-34.5917105326224 L -58.4449151206039,-34.5917241097933 L -58.4449433935045,-34.5917376914634 L -58.4449716762254,-34.5917512695224 L -58.4449999600458,-34.5917648466736 L -58.4450282449674,-34.591778414804 L -58.4450565288052,-34.5917919964493 L -58.4450848126549,-34.5918055654678 L -58.445113095424,-34.591819133578 L -58.4451413792921,-34.5918327025834 L -58.4451696642587,-34.591846275188 L -58.4451979481454,-34.5918598432787 L -58.4452262418534,-34.5918734032512 L -58.445254537749,-34.5918869713305 L -58.445282821665,-34.5919005312884 L -58.4453111153999,-34.591914094847 L -58.4453394113267,-34.591927645779 L -58.4453677061707,-34.5919412057188 L -58.4453960010277,-34.591954747623 L -58.4454243067925,-34.5919682985367 L -58.4454526125665,-34.5919818494438 L -58.445480907451,-34.5919953913283 L -58.4455092132443,-34.592008937715 L -58.4455375201378,-34.592022479588 L -58.4455658248603,-34.5920360214541 L -58.4455941415845,-34.5920495543008 L -58.4456224485072,-34.5920630880411 L -58.4456507532591,-34.592076620873 L -58.4456790700108,-34.5920901536999 L -58.445683127874,-34.5920920932723 L -58.4457073867715,-34.5921036874218 L -58.4457356937329,-34.5921172112197 L -58.4457640094221,-34.5921307440268 L -58.4457923262122,-34.5921442687144 L -58.4458206440999,-34.5921578015085 L -58.4458489609083,-34.5921713261829 L -58.4458772777259,-34.5921848508507 L -58.4459055945529,-34.5921983746104 L -58.4459339102972,-34.5922119073778 L -58.4459622282324,-34.592225432026 L -58.4459905450867,-34.5922389566674 L -58.4460188510499,-34.5922524803993 L -58.4460471679208,-34.5922660140419 L -58.4460681287343,-34.5922760247334 L -58.4460754848028,-34.5922795377621 L -58.4461038016939,-34.5922930623771 L -58.4461321185925,-34.5923065950985 L -58.4461604256898,-34.592320127812 L -58.4461887415184,-34.592333652407 L -58.4462170584446,-34.5923471851087 L -58.4462453655671,-34.5923607295211 L -58.4462736705211,-34.5923742622079 L -58.4463019874748,-34.5923877948898 L -58.4463302946255,-34.5924013365781 L -58.446358599605,-34.592414879161 L -58.4463869056836,-34.5924284226389 L -58.4464152019613,-34.5924419643061 L -58.4464435069668,-34.5924555149822 L -58.4464718032611,-34.5924690656506 L -58.4465001082847,-34.5924826181164 L -58.4465284045974,-34.5924961687716 L -58.4465566889269,-34.5925097284331 L -58.446584983074,-34.5925232989066 L -58.4466132685121,-34.5925368576536 L -58.4466415637677,-34.5925504281141 L -58.4466698481324,-34.5925639958622 L -58.4466717849849,-34.5925649255055 L -58.4466981314158,-34.5925775663079 L -58.446726416887,-34.5925911439589 L -58.446754701279,-34.5926047134902 L -58.4467829856788,-34.5926182902264 L -58.4468112591867,-34.592631869659 L -58.4468395436066,-34.5926454373676 L -58.4468678291236,-34.5926590167886 L -58.4468961124696,-34.5926725962027 L -58.4469243860149,-34.5926861729046 L -58.4469526704696,-34.5926997514042 L -58.4469809549353,-34.5927133199814 L -58.4470092404985,-34.592726898468 L -58.4470375249826,-34.592740467032 L -58.4470658083841,-34.5927540455051 L -58.4470940928866,-34.5927676140559 L -58.4471223784881,-34.5927811844032 L -58.4471506630109,-34.592794743025 L -58.4471789573513,-34.5928083133602 L -58.447207253883,-34.5928218728718 L -58.4472355384334,-34.5928354314738 L -58.4472638328045,-34.5928489846618 L -58.447292140266,-34.5928625351406 L -58.447320434656,-34.5928760856111 L -58.4473487421376,-34.5928896270622 L -58.447377048538,-34.5929031703094 L -58.4474053549479,-34.5929167117472 L -58.4474336722708,-34.5929302360524 L -58.447461989603,-34.5929437594494 L -58.4474903069442,-34.5929572837414 L -58.4475186351968,-34.5929707990136 L -58.4475469634603,-34.5929843052648 L -58.4475752917334,-34.5929978088051 L -58.4476036309158,-34.5930113150444 L -58.4476319592082,-34.5930248131629 L -58.4476602984106,-34.5930383103746 L -58.4476886376225,-34.5930518057768 L -58.4477169779349,-34.5930652939609 L -58.4477453171647,-34.5930787920542 L -58.4477736553156,-34.593092278422 L -58.4478020054661,-34.5931057665876 L -58.4478303458155,-34.5931192529424 L -58.447858685082,-34.5931327501078 L -58.4478870243592,-34.5931462391536 L -58.4479153734566,-34.5931597254897 L -58.4479437138407,-34.5931732226355 L -58.4479720531438,-34.5931867206759 L -58.4480003815555,-34.593200217807 L -58.448033331467,-34.5932159141089 L -58.4480550550066,-34.5932242523706 L -58.4480832307956,-34.5932379766279 L -58.4481114174949,-34.5932516981757 L -58.4481395933029,-34.5932654197156 L -58.4481677691201,-34.593279141249 L -58.4481959460365,-34.5932928636774 L -58.4482241207806,-34.5933065942121 L -58.4482522966256,-34.5933203157259 L -58.44828047357,-34.5933340372333 L -58.4483086483414,-34.5933477704526 L -58.4483147522044,-34.593350745036 L -58.4483368242127,-34.5933615009613 L -58.4483650011833,-34.5933752314635 L -58.4483931661725,-34.5933889619578 L -58.448421331169,-34.5934027032629 L -58.4484494961736,-34.593416451773 L -58.448477660099,-34.593430191262 L -58.4485058153112,-34.5934439415608 L -58.4485339803452,-34.5934576810368 L -58.448562144297,-34.5934714286193 L -58.4485902995371,-34.5934851788985 L -58.4486184635073,-34.5934989273693 L -58.4486466187659,-34.5935126776355 L -58.4486747827549,-34.5935264251918 L -58.4487029380324,-34.593540173642 L -58.4487310922288,-34.5935539238885 L -58.4487592573341,-34.5935676804397 L -58.4487874115491,-34.5935814306732 L -58.4488155657737,-34.5935951790972 L -58.4488437200057,-34.593608938332 L -58.4488718742475,-34.5936226948559 L -58.4489000394003,-34.5936364450645 L -58.4489281936605,-34.5936502024768 L -58.4489563479315,-34.5936639499667 L -58.44898450221,-34.5936777091689 L -58.4490126575883,-34.5936914656603 L -58.4490408118868,-34.593705215835 L -58.4490689661934,-34.5937189732147 L -58.4490971096069,-34.5937327405026 L -58.4491252519367,-34.5937465258127 L -58.4491533746531,-34.5937603201285 L -58.4491814962872,-34.5937741234522 L -58.4492096190194,-34.5937879348825 L -58.4492377286799,-34.5938017472062 L -58.4492658503406,-34.5938155586233 L -58.4492939611099,-34.5938293700327 L -58.4493220838807,-34.593843173324 L -58.4493502044806,-34.5938569766084 L -58.449378337082,-34.5938707708733 L -58.4494064696959,-34.5938845452998 L -58.4494346252118,-34.5938983125108 L -58.4494627796499,-34.5939120607848 L -58.4494909548113,-34.5939257928286 L -58.4495191430677,-34.5939394942181 L -58.449547352047,-34.5939531811802 L -58.4495755719406,-34.5939668410936 L -58.4496038136495,-34.5939804721567 L -58.4496320880771,-34.593994057243 L -58.4496604061279,-34.5940075720147 L -58.4496887787013,-34.5940210245861 L -58.4497172068907,-34.5940343942239 L -58.4497456765204,-34.5940477106742 L -58.4497741908636,-34.5940609541057 L -58.44980274883,-34.5940741254196 L -58.4498313504153,-34.5940872525606 L -58.4498599858132,-34.5941003075829 L -58.4498886528394,-34.5941133157268 L -58.4499173722102,-34.5941262454437 L -58.4499462038917,-34.5941390201172 L -58.4499751435257,-34.5941516235209 L -58.4500042140081,-34.5941640286136 L -58.4500334142536,-34.5941762011402 L -58.4500627573462,-34.594188120369 L -58.4500911434612,-34.5941993598031 L -58.4500922432844,-34.5941997953141 L -58.4501218578899,-34.5942112719477 L -58.4501515935335,-34.5942225412545 L -58.4501814284092,-34.5942336311768 L -58.4502113494332,-34.5942445597422 L -58.4502413457035,-34.594255334161 L -58.4502443476215,-34.5942564026785 L -58.4502713757865,-34.5942660247417 L -58.4503014396731,-34.5942766918807 L -58.4503315221069,-34.5942873040262 L -58.4503616514339,-34.5942978341376 L -58.4503918451004,-34.5943082479617 L -58.4504220932998,-34.59431851575 L -58.4504524276478,-34.5943286149694 L -58.450482861231,-34.5943385050562 L -58.4505134038622,-34.5943481706867 L -58.4505488949718,-34.5943537370358 L -58.4506005822013,-34.5943989522846 L -58.4506310848741,-34.5944213498744 L -58.4509568590193,-34.5946605554372 L -58.4517045016343,-34.5952095178055 L -58.451886479147,-34.5953370036164 L -58.4520837007571,-34.5954757585265 L -58.4526072418644,-34.5958441274194 L -58.4528200492791,-34.5959886570639 z\" /></g></svg>"
      ],
      "text/plain": [
       "<shapely.geometry.polygon.Polygon at 0x7f4bcc793cd0>"
      ]
     },
     "execution_count": 9,
     "metadata": {},
     "output_type": "execute_result"
    }
   ],
   "source": [
    "geo_barrios.geometry.values[0]"
   ]
  },
  {
   "cell_type": "code",
   "execution_count": 10,
   "metadata": {},
   "outputs": [
    {
     "data": {
      "image/svg+xml": [
       "<svg xmlns=\"http://www.w3.org/2000/svg\" xmlns:xlink=\"http://www.w3.org/1999/xlink\" width=\"100.0\" height=\"100.0\" viewBox=\"-58.499276798806555 -34.640010625393856 0.02904980249861211 0.024358202569111143\" preserveAspectRatio=\"xMinYMin meet\"><g transform=\"matrix(1,0,0,-1,0,-69.2556630482186)\"><path fill-rule=\"evenodd\" fill=\"#66cc99\" stroke=\"#555555\" stroke-width=\"0.0005809960499722422\" opacity=\"0.6\" d=\"M -58.4833907036583,-34.6241108718058 L -58.4827426404615,-34.6246298692564 L -58.4819203599833,-34.6242871724757 L -58.4818862891898,-34.6242725195331 L -58.4818862532007,-34.6242725042143 L -58.4818223801745,-34.6242450356663 L -58.4817872755475,-34.6242299384484 L -58.4817331719717,-34.6242066356788 L -58.4807400698347,-34.6237793780883 L -58.4797556684943,-34.6233557728123 L -58.479376104717,-34.623192439371 L -58.4787991307898,-34.6229104645457 L -58.4782859120112,-34.6226358039473 L -58.4781160816154,-34.6225449063233 L -58.4780062596719,-34.6224878058362 L -58.4778072341569,-34.6223843057071 L -58.4774145651728,-34.6232231153404 L -58.4770144801856,-34.6240777690669 L -58.4769505241005,-34.6242175708817 L -58.4764901368165,-34.6252236436361 L -58.4760364666258,-34.6262150662696 L -58.4754686616271,-34.6274556621961 L -58.474990098063,-34.6285013101333 L -58.4745536816776,-34.6294548357137 L -58.4742537041676,-34.630110378933 L -58.4741608719233,-34.6303132167718 L -58.4741036285996,-34.630438291323 L -58.4734838074794,-34.6317918439484 L -58.4728742773563,-34.6331512371921 L -58.4722802295771,-34.6344758357784 L -58.4717559283925,-34.6356449983298 L -58.471302914919,-34.6366552047109 L -58.4724169331591,-34.6369875261468 L -58.473492274813,-34.6373083610103 L -58.4744154022863,-34.6379169579457 L -58.4753231114258,-34.6384744902161 L -58.4760723304552,-34.6389347067828 L -58.4762905199978,-34.6387620015392 L -58.4767783554091,-34.6383760183565 L -58.4775912055511,-34.6377328733507 L -58.478356760062,-34.6371271241759 L -58.4785455517697,-34.6369942783834 L -58.478787247917,-34.6368243113421 L -58.478904814282,-34.6367300676079 L -58.4792007719797,-34.6364926965361 L -58.4796950535282,-34.6360962070387 L -58.4799271144547,-34.6359101123361 L -58.4810066415928,-34.6350442223726 L -58.4823802976343,-34.6339424234015 L -58.4831091573853,-34.6333818435436 L -58.4833831086679,-34.6331461750036 L -58.48357157417,-34.6329937656041 L -58.4837158700788,-34.6328835111699 L -58.4847314900197,-34.6320728046981 L -58.4855735176658,-34.6314024168004 L -58.4860277053166,-34.6310408395696 L -58.4867255885108,-34.6304851926617 L -58.4868622163254,-34.6303764999675 L -58.4869460330396,-34.630309791309 L -58.4877176693076,-34.6296956710939 L -58.4880833376484,-34.6294046706548 L -58.4882339315402,-34.6292847758275 L -58.4892859475057,-34.6284475507958 L -58.4902216803606,-34.627702811573 L -58.4904002959116,-34.6275614327344 L -58.4910956460742,-34.6270110381185 L -58.4913562747012,-34.6268037165106 L -58.4917051737442,-34.6265242086783 L -58.4917412516152,-34.6264953053667 L -58.4927564041214,-34.6256885535948 L -58.492816959084,-34.6256404378644 L -58.4933552308064,-34.6252126835522 L -58.4938924754898,-34.624785631123 L -58.4940567647173,-34.6246551624515 L -58.4942014646291,-34.6245404025912 L -58.4949270045566,-34.6239654048369 L -58.4949677995059,-34.623933069336 L -58.4955075823536,-34.6235053050129 L -58.4960449755675,-34.6230793697498 L -58.497121363216,-34.6222262241611 L -58.4976629977746,-34.6217969000898 L -58.4978564859997,-34.6216435294113 L -58.4982008801955,-34.6213705332025 L -58.4972209437425,-34.6205620534234 L -58.4963190853813,-34.6198178429832 L -58.4954463870908,-34.6190977738474 L -58.4947132705271,-34.6184927450997 L -58.4946578096332,-34.6184469736886 L -58.4945163538654,-34.618327217367 L -58.4937929731348,-34.6177145660021 L -58.4936343907419,-34.6175793902633 L -58.4927782612984,-34.6168496485411 L -58.4926363840486,-34.6167283414358 L -58.4915617282155,-34.6175887711054 L -58.4906161587058,-34.6183457791439 L -58.4904887527655,-34.6184472905738 L -58.4894124322764,-34.6193043219589 L -58.4883373673246,-34.6201603572932 L -58.4882038236958,-34.6202666560468 L -58.4872641546795,-34.6210161708268 L -58.4861843614612,-34.6218774703457 L -58.4851125524808,-34.6227323494872 L -58.4849704838864,-34.6228456891718 L -58.4840382529179,-34.6235922901288 L -58.4833907036583,-34.6241108718058 z\" /></g></svg>"
      ],
      "text/plain": [
       "<shapely.geometry.polygon.Polygon at 0x7f4b93de66a0>"
      ]
     },
     "execution_count": 10,
     "metadata": {},
     "output_type": "execute_result"
    }
   ],
   "source": [
    "geo_barrios.geometry.values[10]"
   ]
  },
  {
   "cell_type": "code",
   "execution_count": 11,
   "metadata": {
    "colab": {
     "base_uri": "https://localhost:8080/",
     "height": 289
    },
    "colab_type": "code",
    "executionInfo": {
     "elapsed": 830,
     "status": "ok",
     "timestamp": 1567641541793,
     "user": {
      "displayName": "Julián Ansaldo",
      "photoUrl": "https://lh3.googleusercontent.com/a-/AAuE7mCQI0iy6sTR9TfuLMfXZ90XCqxfdAQtMEcBkjfs1w=s64",
      "userId": "10643095115217147090"
     },
     "user_tz": 180
    },
    "id": "vRpX0jS6G_x5",
    "outputId": "178eafb8-17f3-4205-fcbe-9368fbd51efa",
    "slideshow": {
     "slide_type": "fragment"
    }
   },
   "outputs": [
    {
     "data": {
      "text/plain": [
       "<AxesSubplot:>"
      ]
     },
     "execution_count": 11,
     "metadata": {},
     "output_type": "execute_result"
    },
    {
     "data": {
      "image/png": "[encoded data removed]",
      "text/plain": [
       "<Figure size 432x288 with 1 Axes>"
      ]
     },
     "metadata": {
      "needs_background": "light"
     },
     "output_type": "display_data"
    }
   ],
   "source": [
    "geo_barrios.plot()"
   ]
  },
  {
   "cell_type": "markdown",
   "metadata": {
    "slideshow": {
     "slide_type": "slide"
    }
   },
   "source": [
    "### Líneas\n",
    "\n",
    "---\n",
    "\n",
    "Las **líneas** se realizan a partir de dos puntos. \n",
    "\n",
    "Por ejemplo, generemos una línea entre el edificio de Digital House y el local bailable \"AFRIKA\". \n",
    "\n",
    "Cada lugar debe ser representado por una forma geométrica *punto*. Para lo cual necesitamos su latitud y longitud.\n",
    "\n",
    "Se usa la libreria `shapely` para generar el tipo de datos Point.\n",
    "\n",
    "Observar que para definir el tipo *punto*, primero se ingresa la **longitud** y luego la **latitud**."
   ]
  },
  {
   "cell_type": "code",
   "execution_count": 12,
   "metadata": {
    "colab": {},
    "colab_type": "code",
    "id": "pcpVLTgiG_y2",
    "slideshow": {
     "slide_type": "fragment"
    }
   },
   "outputs": [
    {
     "data": {
      "text/plain": [
       "shapely.geometry.point.Point"
      ]
     },
     "execution_count": 12,
     "metadata": {},
     "output_type": "execute_result"
    }
   ],
   "source": [
    "from shapely.geometry import Point\n",
    "\n",
    "\n",
    "\n",
    "punto_dh = Point( -58.443555,-34.548921) # dato geoespacial de DH.\n",
    "punto_afrika = Point( -58.39239, -34.58843) # dato geoespacial de Afrika\n",
    "\n",
    "type(punto_dh)"
   ]
  },
  {
   "cell_type": "markdown",
   "metadata": {
    "slideshow": {
     "slide_type": "fragment"
    }
   },
   "source": [
    "Y ahora sí creamos la línea entre los dos puntos, usando el método `from shapely.geometry import LineString`."
   ]
  },
  {
   "cell_type": "code",
   "execution_count": 13,
   "metadata": {
    "slideshow": {
     "slide_type": "fragment"
    }
   },
   "outputs": [
    {
     "data": {
      "text/plain": [
       "'LineString'"
      ]
     },
     "execution_count": 13,
     "metadata": {},
     "output_type": "execute_result"
    }
   ],
   "source": [
    "from shapely.geometry import LineString\n",
    "\n",
    "linea_a = LineString([punto_dh, punto_afrika])\n",
    "linea_a.type"
   ]
  },
  {
   "cell_type": "code",
   "execution_count": 14,
   "metadata": {},
   "outputs": [
    {
     "data": {
      "text/plain": [
       "shapely.geometry.linestring.LineString"
      ]
     },
     "execution_count": 14,
     "metadata": {},
     "output_type": "execute_result"
    }
   ],
   "source": [
    "type(linea_a)"
   ]
  },
  {
   "cell_type": "markdown",
   "metadata": {
    "slideshow": {
     "slide_type": "slide"
    }
   },
   "source": [
    "### Líneas\n",
    "\n",
    "---\n",
    "\n",
    "Y podemos graficar la línea sobre el mapa de barrios de Buenos Aires.\n",
    "\n",
    "Para ello, se necesita crear un tipo de datos GeoSeries con los dos puntos y la línea."
   ]
  },
  {
   "cell_type": "code",
   "execution_count": 15,
   "metadata": {
    "slideshow": {
     "slide_type": "fragment"
    }
   },
   "outputs": [],
   "source": [
    "linea_a_geo = gpd.GeoSeries([punto_dh, punto_afrika, linea_a])"
   ]
  },
  {
   "cell_type": "code",
   "execution_count": 16,
   "metadata": {},
   "outputs": [],
   "source": [
    "linea_b_geo = gpd.GeoSeries([ linea_a])"
   ]
  },
  {
   "cell_type": "code",
   "execution_count": 17,
   "metadata": {
    "slideshow": {
     "slide_type": "fragment"
    }
   },
   "outputs": [
    {
     "data": {
      "image/png": "[encoded data removed]",
      "text/plain": [
       "<Figure size 432x288 with 1 Axes>"
      ]
     },
     "metadata": {
      "needs_background": "light"
     },
     "output_type": "display_data"
    }
   ],
   "source": [
    "\n",
    "fig, ax = plt.subplots()\n",
    "\n",
    "ax.set_aspect('equal')\n",
    "\n",
    "\n",
    "\n",
    "\n",
    "geo_barrios.plot(ax=ax, color='white', edgecolor='black')\n",
    "\n",
    "linea_b_geo.plot(ax=ax, color='red')\n",
    "\n",
    "\n",
    "plt.show();\n"
   ]
  },
  {
   "cell_type": "markdown",
   "metadata": {
    "slideshow": {
     "slide_type": "slide"
    }
   },
   "source": [
    "<div class=\"div-dhds-fondo-1\"> Operaciones con GeoPandas\n",
    "<img src=\"https://raw.githubusercontent.com/Digital-House-DATA/ds_blend_2021_img/master/M1/CLASE_05_Pandas1/Presentacion/img/M1_CLASE_05_separador.png\" align=\"center\"></img>    \n",
    "</div>"
   ]
  },
  {
   "cell_type": "markdown",
   "metadata": {
    "slideshow": {
     "slide_type": "slide"
    }
   },
   "source": [
    "### Operaciones con GeoPandas\n",
    "\n",
    "---\n",
    "\n",
    "Es interesante realizar operaciones entre los distintos objetos usando su posición espacial.\n",
    "Vamos a ver algunas de ellas:\n",
    "\n",
    "1) Determinar si un punto se encuentra dentro de un polígono.\n",
    "2) Dada una línea, conocer qué poligonos atraviesa.\n",
    "3) Calcular la distancia entre dos puntos."
   ]
  },
  {
   "cell_type": "markdown",
   "metadata": {
    "slideshow": {
     "slide_type": "slide"
    }
   },
   "source": [
    "### 1. - Determinar si un punto se encuentra dentro de un polígono\n",
    "\n",
    "---\n",
    "\n",
    "Con el método `GeoDataFrame.contains` podemos ver si un polígono contiene un punto.\n",
    "\n",
    "Como ejemplo, veamos si el local bailable *REY CASTRO* se encuentra en el barrio *MONSERRAT*.\n",
    "\n",
    "Primero generamos dos GeoDataFrame con los datos del barrio y del local bailable, para usar el método plot, para graficarlos."
   ]
  },
  {
   "cell_type": "code",
   "execution_count": 102,
   "metadata": {
    "slideshow": {
     "slide_type": "fragment"
    }
   },
   "outputs": [],
   "source": [
    "geo_monserrat = geo_barrios.loc[geo_barrios[\"BARRIO\"]==\"MONSERRAT\"]\n",
    "\n",
    "geo_retiro = geo_barrios.loc[geo_barrios[\"BARRIO\"]==\"RETIRO\"]\n",
    "\n",
    "\n",
    "geo_rey_castro = geo_locales[geo_locales['NOMBRE']=='REY CASTRO'] "
   ]
  },
  {
   "cell_type": "code",
   "execution_count": 103,
   "metadata": {},
   "outputs": [
    {
     "data": {
      "text/html": [
       "<div>\n",
       "<style scoped>\n",
       "    .dataframe tbody tr th:only-of-type {\n",
       "        vertical-align: middle;\n",
       "    }\n",
       "\n",
       "    .dataframe tbody tr th {\n",
       "        vertical-align: top;\n",
       "    }\n",
       "\n",
       "    .dataframe thead th {\n",
       "        text-align: right;\n",
       "    }\n",
       "</style>\n",
       "<table border=\"1\" class=\"dataframe\">\n",
       "  <thead>\n",
       "    <tr style=\"text-align: right;\">\n",
       "      <th></th>\n",
       "      <th>WKT</th>\n",
       "      <th>BARRIO</th>\n",
       "      <th>COMUNA</th>\n",
       "      <th>PERIMETRO</th>\n",
       "      <th>AREA</th>\n",
       "    </tr>\n",
       "  </thead>\n",
       "  <tbody>\n",
       "    <tr>\n",
       "      <th>41</th>\n",
       "      <td>POLYGON ((-58.36880 -34.60683, -58.36815 -34.6...</td>\n",
       "      <td>MONSERRAT</td>\n",
       "      <td>1.0</td>\n",
       "      <td>6739.222298</td>\n",
       "      <td>2.198622e+06</td>\n",
       "    </tr>\n",
       "  </tbody>\n",
       "</table>\n",
       "</div>"
      ],
      "text/plain": [
       "                                                  WKT     BARRIO  COMUNA  \\\n",
       "41  POLYGON ((-58.36880 -34.60683, -58.36815 -34.6...  MONSERRAT     1.0   \n",
       "\n",
       "      PERIMETRO          AREA  \n",
       "41  6739.222298  2.198622e+06  "
      ]
     },
     "execution_count": 103,
     "metadata": {},
     "output_type": "execute_result"
    }
   ],
   "source": [
    "geo_monserrat"
   ]
  },
  {
   "cell_type": "code",
   "execution_count": 104,
   "metadata": {},
   "outputs": [
    {
     "data": {
      "text/plain": [
       "geopandas.geodataframe.GeoDataFrame"
      ]
     },
     "execution_count": 104,
     "metadata": {},
     "output_type": "execute_result"
    }
   ],
   "source": [
    "type(geo_monserrat)"
   ]
  },
  {
   "cell_type": "code",
   "execution_count": 105,
   "metadata": {},
   "outputs": [
    {
     "data": {
      "text/plain": [
       "(41    POLYGON ((-58.36880 -34.60683, -58.36815 -34.6...\n",
       " Name: WKT, dtype: geometry,\n",
       " shapely.geometry.polygon.Polygon)"
      ]
     },
     "execution_count": 105,
     "metadata": {},
     "output_type": "execute_result"
    }
   ],
   "source": [
    "geo_monserrat.geometry,type(geo_monserrat.geometry.iloc[0])"
   ]
  },
  {
   "cell_type": "code",
   "execution_count": 106,
   "metadata": {
    "slideshow": {
     "slide_type": "fragment"
    }
   },
   "outputs": [
    {
     "data": {
      "text/html": [
       "<div>\n",
       "<style scoped>\n",
       "    .dataframe tbody tr th:only-of-type {\n",
       "        vertical-align: middle;\n",
       "    }\n",
       "\n",
       "    .dataframe tbody tr th {\n",
       "        vertical-align: top;\n",
       "    }\n",
       "\n",
       "    .dataframe thead th {\n",
       "        text-align: right;\n",
       "    }\n",
       "</style>\n",
       "<table border=\"1\" class=\"dataframe\">\n",
       "  <thead>\n",
       "    <tr style=\"text-align: right;\">\n",
       "      <th></th>\n",
       "      <th>X</th>\n",
       "      <th>Y</th>\n",
       "      <th>NUMERO_REGISTRO</th>\n",
       "      <th>NOMBRE</th>\n",
       "      <th>CALLE</th>\n",
       "      <th>NUMERO</th>\n",
       "      <th>DIRECCION_NORMALIZADA</th>\n",
       "      <th>NUMERO_EXPEDIENTE</th>\n",
       "      <th>CAPACIDAD</th>\n",
       "      <th>CLASE</th>\n",
       "      <th>...</th>\n",
       "      <th>FECHA_DISPOSICION_DE_RECHAZO</th>\n",
       "      <th>NUMERO_DISPOSICION_DE_RECALCULO_CAPACIDAD</th>\n",
       "      <th>FECHA_DISPOSICION_DE_CAPACIDAD</th>\n",
       "      <th>FECHA_DE_ENTREGA_NUEVA_REVALIDA</th>\n",
       "      <th>VENCIMIENTO</th>\n",
       "      <th>BARRIO</th>\n",
       "      <th>COMUNA</th>\n",
       "      <th>CP</th>\n",
       "      <th>CPA</th>\n",
       "      <th>geometry</th>\n",
       "    </tr>\n",
       "  </thead>\n",
       "  <tbody>\n",
       "    <tr>\n",
       "      <th>2</th>\n",
       "      <td>-58.374727</td>\n",
       "      <td>-34.612002</td>\n",
       "      <td>3</td>\n",
       "      <td>REY CASTRO</td>\n",
       "      <td>PERU</td>\n",
       "      <td>342</td>\n",
       "      <td>PERU  342</td>\n",
       "      <td>4407796/18</td>\n",
       "      <td>901 personas</td>\n",
       "      <td>\"C\"</td>\n",
       "      <td>...</td>\n",
       "      <td>NaN</td>\n",
       "      <td>67</td>\n",
       "      <td>2006-04-24 00:00:00</td>\n",
       "      <td>2018-05-31</td>\n",
       "      <td>2018-09-03</td>\n",
       "      <td>Monserrat</td>\n",
       "      <td>Comuna 1</td>\n",
       "      <td>1067.0</td>\n",
       "      <td>C1067AAH</td>\n",
       "      <td>POINT (-58.37473 -34.61200)</td>\n",
       "    </tr>\n",
       "  </tbody>\n",
       "</table>\n",
       "<p>1 rows × 26 columns</p>\n",
       "</div>"
      ],
      "text/plain": [
       "           X          Y  NUMERO_REGISTRO      NOMBRE  CALLE NUMERO  \\\n",
       "2 -58.374727 -34.612002                3  REY CASTRO  PERU     342   \n",
       "\n",
       "  DIRECCION_NORMALIZADA NUMERO_EXPEDIENTE     CAPACIDAD CLASE  ...  \\\n",
       "2             PERU  342        4407796/18  901 personas   \"C\"  ...   \n",
       "\n",
       "  FECHA_DISPOSICION_DE_RECHAZO  NUMERO_DISPOSICION_DE_RECALCULO_CAPACIDAD  \\\n",
       "2                          NaN                                         67   \n",
       "\n",
       "  FECHA_DISPOSICION_DE_CAPACIDAD  FECHA_DE_ENTREGA_NUEVA_REVALIDA VENCIMIENTO  \\\n",
       "2            2006-04-24 00:00:00                       2018-05-31  2018-09-03   \n",
       "\n",
       "      BARRIO    COMUNA      CP       CPA                     geometry  \n",
       "2  Monserrat  Comuna 1  1067.0  C1067AAH  POINT (-58.37473 -34.61200)  \n",
       "\n",
       "[1 rows x 26 columns]"
      ]
     },
     "execution_count": 106,
     "metadata": {},
     "output_type": "execute_result"
    }
   ],
   "source": [
    "geo_rey_castro"
   ]
  },
  {
   "cell_type": "code",
   "execution_count": 107,
   "metadata": {},
   "outputs": [
    {
     "data": {
      "text/plain": [
       "(2    POINT (-58.37473 -34.61200)\n",
       " Name: geometry, dtype: geometry,\n",
       " shapely.geometry.point.Point)"
      ]
     },
     "execution_count": 107,
     "metadata": {},
     "output_type": "execute_result"
    }
   ],
   "source": [
    "geo_rey_castro.geometry,type(geo_rey_castro.geometry.iloc[0])"
   ]
  },
  {
   "cell_type": "markdown",
   "metadata": {
    "slideshow": {
     "slide_type": "slide"
    }
   },
   "source": [
    "### 1. - Determinar si un punto se encuentra dentro de un polígono\n",
    "\n",
    "---\n",
    "\n",
    "Chequeamos visualmente si se encuentra \"REY CASTRO\" en el barrio \"MONSERRAT\""
   ]
  },
  {
   "cell_type": "code",
   "execution_count": 108,
   "metadata": {
    "slideshow": {
     "slide_type": "fragment"
    }
   },
   "outputs": [
    {
     "data": {
      "image/png": "[encoded data removed]",
      "text/plain": [
       "<Figure size 432x288 with 1 Axes>"
      ]
     },
     "metadata": {
      "needs_background": "light"
     },
     "output_type": "display_data"
    }
   ],
   "source": [
    "# creo el canvas o figura\n",
    "fig, ax = plt.subplots()\n",
    "\n",
    "\n",
    "# ploteo barrio\n",
    "geo_monserrat.plot(ax=ax, color='green', edgecolor='black')\n",
    "\n",
    "\n",
    "# ploteo local\n",
    "geo_rey_castro.plot(ax=ax, marker='x', color='b', markersize=440)\n",
    "\n",
    "\n",
    "# muestro la figura con los ploteos\n",
    "plt.show();"
   ]
  },
  {
   "cell_type": "markdown",
   "metadata": {
    "slideshow": {
     "slide_type": "slide"
    }
   },
   "source": [
    "### 1. - Determinar si un punto se encuentra dentro de un polígono\n",
    "\n",
    "---\n",
    "Se valida con el método `GeoDataFrame.contains`.\n",
    "\n",
    "Por un lado, el **polígono** se representa con el GeoDataFrame *geo_monserrat*. "
   ]
  },
  {
   "cell_type": "markdown",
   "metadata": {
    "slideshow": {
     "slide_type": "slide"
    }
   },
   "source": [
    "Aplicando el método `contains` sobre el geoDataFrame, nos devuelve *True*."
   ]
  },
  {
   "cell_type": "code",
   "execution_count": 109,
   "metadata": {},
   "outputs": [
    {
     "data": {
      "text/html": [
       "<div>\n",
       "<style scoped>\n",
       "    .dataframe tbody tr th:only-of-type {\n",
       "        vertical-align: middle;\n",
       "    }\n",
       "\n",
       "    .dataframe tbody tr th {\n",
       "        vertical-align: top;\n",
       "    }\n",
       "\n",
       "    .dataframe thead th {\n",
       "        text-align: right;\n",
       "    }\n",
       "</style>\n",
       "<table border=\"1\" class=\"dataframe\">\n",
       "  <thead>\n",
       "    <tr style=\"text-align: right;\">\n",
       "      <th></th>\n",
       "      <th>X</th>\n",
       "      <th>Y</th>\n",
       "      <th>NUMERO_REGISTRO</th>\n",
       "      <th>NOMBRE</th>\n",
       "      <th>CALLE</th>\n",
       "      <th>NUMERO</th>\n",
       "      <th>DIRECCION_NORMALIZADA</th>\n",
       "      <th>NUMERO_EXPEDIENTE</th>\n",
       "      <th>CAPACIDAD</th>\n",
       "      <th>CLASE</th>\n",
       "      <th>...</th>\n",
       "      <th>FECHA_DISPOSICION_DE_RECHAZO</th>\n",
       "      <th>NUMERO_DISPOSICION_DE_RECALCULO_CAPACIDAD</th>\n",
       "      <th>FECHA_DISPOSICION_DE_CAPACIDAD</th>\n",
       "      <th>FECHA_DE_ENTREGA_NUEVA_REVALIDA</th>\n",
       "      <th>VENCIMIENTO</th>\n",
       "      <th>BARRIO</th>\n",
       "      <th>COMUNA</th>\n",
       "      <th>CP</th>\n",
       "      <th>CPA</th>\n",
       "      <th>geometry</th>\n",
       "    </tr>\n",
       "  </thead>\n",
       "  <tbody>\n",
       "    <tr>\n",
       "      <th>2</th>\n",
       "      <td>-58.374727</td>\n",
       "      <td>-34.612002</td>\n",
       "      <td>3</td>\n",
       "      <td>REY CASTRO</td>\n",
       "      <td>PERU</td>\n",
       "      <td>342</td>\n",
       "      <td>PERU  342</td>\n",
       "      <td>4407796/18</td>\n",
       "      <td>901 personas</td>\n",
       "      <td>\"C\"</td>\n",
       "      <td>...</td>\n",
       "      <td>NaN</td>\n",
       "      <td>67</td>\n",
       "      <td>2006-04-24 00:00:00</td>\n",
       "      <td>2018-05-31</td>\n",
       "      <td>2018-09-03</td>\n",
       "      <td>Monserrat</td>\n",
       "      <td>Comuna 1</td>\n",
       "      <td>1067.0</td>\n",
       "      <td>C1067AAH</td>\n",
       "      <td>POINT (-58.37473 -34.61200)</td>\n",
       "    </tr>\n",
       "  </tbody>\n",
       "</table>\n",
       "<p>1 rows × 26 columns</p>\n",
       "</div>"
      ],
      "text/plain": [
       "           X          Y  NUMERO_REGISTRO      NOMBRE  CALLE NUMERO  \\\n",
       "2 -58.374727 -34.612002                3  REY CASTRO  PERU     342   \n",
       "\n",
       "  DIRECCION_NORMALIZADA NUMERO_EXPEDIENTE     CAPACIDAD CLASE  ...  \\\n",
       "2             PERU  342        4407796/18  901 personas   \"C\"  ...   \n",
       "\n",
       "  FECHA_DISPOSICION_DE_RECHAZO  NUMERO_DISPOSICION_DE_RECALCULO_CAPACIDAD  \\\n",
       "2                          NaN                                         67   \n",
       "\n",
       "  FECHA_DISPOSICION_DE_CAPACIDAD  FECHA_DE_ENTREGA_NUEVA_REVALIDA VENCIMIENTO  \\\n",
       "2            2006-04-24 00:00:00                       2018-05-31  2018-09-03   \n",
       "\n",
       "      BARRIO    COMUNA      CP       CPA                     geometry  \n",
       "2  Monserrat  Comuna 1  1067.0  C1067AAH  POINT (-58.37473 -34.61200)  \n",
       "\n",
       "[1 rows x 26 columns]"
      ]
     },
     "execution_count": 109,
     "metadata": {},
     "output_type": "execute_result"
    }
   ],
   "source": [
    "geo_rey_castro"
   ]
  },
  {
   "cell_type": "code",
   "execution_count": 110,
   "metadata": {},
   "outputs": [
    {
     "data": {
      "text/plain": [
       "shapely.geometry.point.Point"
      ]
     },
     "execution_count": 110,
     "metadata": {},
     "output_type": "execute_result"
    }
   ],
   "source": [
    "type(geo_rey_castro.iloc[0].geometry)"
   ]
  },
  {
   "cell_type": "code",
   "execution_count": 111,
   "metadata": {
    "slideshow": {
     "slide_type": "fragment"
    }
   },
   "outputs": [
    {
     "data": {
      "text/plain": [
       "41    True\n",
       "dtype: bool"
      ]
     },
     "execution_count": 111,
     "metadata": {},
     "output_type": "execute_result"
    }
   ],
   "source": [
    "geo_monserrat.contains(geo_rey_castro.iloc[0].geometry)"
   ]
  },
  {
   "cell_type": "code",
   "execution_count": 113,
   "metadata": {},
   "outputs": [
    {
     "data": {
      "text/plain": [
       "45    False\n",
       "dtype: bool"
      ]
     },
     "execution_count": 113,
     "metadata": {},
     "output_type": "execute_result"
    }
   ],
   "source": [
    "# retiro contiene al local?\n",
    "\n",
    "geo_retiro.contains(geo_rey_castro.iloc[0].geometry)"
   ]
  },
  {
   "cell_type": "markdown",
   "metadata": {
    "slideshow": {
     "slide_type": "slide"
    }
   },
   "source": [
    "### 2. Dada una línea, conocer qué poligonos atraviesa\n",
    "\n",
    "---\n",
    "\n",
    "Pensados como figuras geométricas, una línea puede pasar por varios polígonos.\n",
    "\n",
    "Como ejemplo, consideremos la linea que realizamos entre el edificio de Digital House y el local bailable \"AFRIKA\" con el método `linea_a = LineString([punto_dh, punto_afrika])`.\n",
    "\n",
    "Y analicemos que barrios atraviesa."
   ]
  },
  {
   "cell_type": "markdown",
   "metadata": {
    "slideshow": {
     "slide_type": "fragment"
    }
   },
   "source": [
    "El método **crosses** aplicado al GeoDataFrame de los barrios, indica con *True* o *False* si la línea atraviesa o no cada barrio (polígono). \n",
    "Observamos que para cada índice del barrio devuelve si pasa o no."
   ]
  },
  {
   "cell_type": "code",
   "execution_count": 49,
   "metadata": {
    "slideshow": {
     "slide_type": "fragment"
    }
   },
   "outputs": [
    {
     "data": {
      "text/plain": [
       "0     False\n",
       "1     False\n",
       "2     False\n",
       "3     False\n",
       "4     False\n",
       "5     False\n",
       "6     False\n",
       "7     False\n",
       "8     False\n",
       "9     False\n",
       "10    False\n",
       "11    False\n",
       "12    False\n",
       "13    False\n",
       "14    False\n",
       "15    False\n",
       "16    False\n",
       "17    False\n",
       "18    False\n",
       "19    False\n",
       "20    False\n",
       "21    False\n",
       "22    False\n",
       "23    False\n",
       "24    False\n",
       "25    False\n",
       "26    False\n",
       "27    False\n",
       "28    False\n",
       "29    False\n",
       "30    False\n",
       "31    False\n",
       "32    False\n",
       "33     True\n",
       "34    False\n",
       "35    False\n",
       "36    False\n",
       "37    False\n",
       "38    False\n",
       "39    False\n",
       "40    False\n",
       "41    False\n",
       "42    False\n",
       "43     True\n",
       "44     True\n",
       "45    False\n",
       "46    False\n",
       "47    False\n",
       "dtype: bool"
      ]
     },
     "execution_count": 49,
     "metadata": {},
     "output_type": "execute_result"
    }
   ],
   "source": [
    "geo_barrios.crosses(linea_a)"
   ]
  },
  {
   "cell_type": "markdown",
   "metadata": {
    "slideshow": {
     "slide_type": "slide"
    }
   },
   "source": [
    "### 2. Dada una línea, conocer qué poligonos atraviesa\n",
    "\n",
    "---\n",
    "Ahora aplicamos el resultado anterior para obtener los barrios por donde pasa."
   ]
  },
  {
   "cell_type": "code",
   "execution_count": 50,
   "metadata": {
    "slideshow": {
     "slide_type": "fragment"
    }
   },
   "outputs": [
    {
     "data": {
      "text/plain": [
       "33     PALERMO\n",
       "43    BELGRANO\n",
       "44    RECOLETA\n",
       "Name: BARRIO, dtype: object"
      ]
     },
     "execution_count": 50,
     "metadata": {},
     "output_type": "execute_result"
    }
   ],
   "source": [
    "geo_barrios.loc[geo_barrios.crosses(linea_a), 'BARRIO']"
   ]
  },
  {
   "cell_type": "markdown",
   "metadata": {
    "slideshow": {
     "slide_type": "slide"
    }
   },
   "source": [
    "\n",
    "\n",
    "Lo podemos verificar visualmente."
   ]
  },
  {
   "cell_type": "code",
   "execution_count": 63,
   "metadata": {},
   "outputs": [],
   "source": [
    "options = ['PALERMO','BELGRANO','RECOLETA'] \n",
    "\n",
    "# .isin es un metodo de pandas, que mira si cada valor de la serie pertenece a una lista\n",
    "#  en este caso la lista options\n",
    "geo_barrios['BARRIO'].isin(options)\n"
   ]
  },
  {
   "cell_type": "code",
   "execution_count": 66,
   "metadata": {},
   "outputs": [
    {
     "data": {
      "text/plain": [
       "pandas.core.series.Series"
      ]
     },
     "execution_count": 66,
     "metadata": {},
     "output_type": "execute_result"
    }
   ],
   "source": [
    "type(mascara_barrios)"
   ]
  },
  {
   "cell_type": "code",
   "execution_count": 67,
   "metadata": {
    "slideshow": {
     "slide_type": "fragment"
    }
   },
   "outputs": [
    {
     "data": {
      "text/html": [
       "<div>\n",
       "<style scoped>\n",
       "    .dataframe tbody tr th:only-of-type {\n",
       "        vertical-align: middle;\n",
       "    }\n",
       "\n",
       "    .dataframe tbody tr th {\n",
       "        vertical-align: top;\n",
       "    }\n",
       "\n",
       "    .dataframe thead th {\n",
       "        text-align: right;\n",
       "    }\n",
       "</style>\n",
       "<table border=\"1\" class=\"dataframe\">\n",
       "  <thead>\n",
       "    <tr style=\"text-align: right;\">\n",
       "      <th></th>\n",
       "      <th>WKT</th>\n",
       "      <th>BARRIO</th>\n",
       "      <th>COMUNA</th>\n",
       "      <th>PERIMETRO</th>\n",
       "      <th>AREA</th>\n",
       "    </tr>\n",
       "  </thead>\n",
       "  <tbody>\n",
       "    <tr>\n",
       "      <th>33</th>\n",
       "      <td>POLYGON ((-58.42676 -34.55202, -58.42676 -34.5...</td>\n",
       "      <td>PALERMO</td>\n",
       "      <td>14.0</td>\n",
       "      <td>21768.074886</td>\n",
       "      <td>1.577250e+07</td>\n",
       "    </tr>\n",
       "    <tr>\n",
       "      <th>43</th>\n",
       "      <td>POLYGON ((-58.45159 -34.53153, -58.45152 -34.5...</td>\n",
       "      <td>BELGRANO</td>\n",
       "      <td>13.0</td>\n",
       "      <td>21504.197774</td>\n",
       "      <td>7.932303e+06</td>\n",
       "    </tr>\n",
       "    <tr>\n",
       "      <th>44</th>\n",
       "      <td>POLYGON ((-58.39521 -34.57219, -58.39482 -34.5...</td>\n",
       "      <td>RECOLETA</td>\n",
       "      <td>2.0</td>\n",
       "      <td>21246.611702</td>\n",
       "      <td>6.140873e+06</td>\n",
       "    </tr>\n",
       "  </tbody>\n",
       "</table>\n",
       "</div>"
      ],
      "text/plain": [
       "                                                  WKT    BARRIO  COMUNA  \\\n",
       "33  POLYGON ((-58.42676 -34.55202, -58.42676 -34.5...   PALERMO    14.0   \n",
       "43  POLYGON ((-58.45159 -34.53153, -58.45152 -34.5...  BELGRANO    13.0   \n",
       "44  POLYGON ((-58.39521 -34.57219, -58.39482 -34.5...  RECOLETA     2.0   \n",
       "\n",
       "       PERIMETRO          AREA  \n",
       "33  21768.074886  1.577250e+07  \n",
       "43  21504.197774  7.932303e+06  \n",
       "44  21246.611702  6.140873e+06  "
      ]
     },
     "execution_count": 67,
     "metadata": {},
     "output_type": "execute_result"
    }
   ],
   "source": [
    "mascara_barrios=geo_barrios['BARRIO'].isin(options)\n",
    "\n",
    "# si era fancy y no aclaro, agarra filas, le estoy pasando una serie booleana, me devuelve las filas con true\n",
    "\n",
    "geo_barrios_recorrida = geo_barrios[mascara_barrios] \n",
    "\n",
    "\n",
    "\n",
    "geo_barrios_recorrida"
   ]
  },
  {
   "cell_type": "code",
   "execution_count": 70,
   "metadata": {
    "slideshow": {
     "slide_type": "fragment"
    }
   },
   "outputs": [
    {
     "data": {
      "image/png": "[encoded data removed]",
      "text/plain": [
       "<Figure size 432x288 with 1 Axes>"
      ]
     },
     "metadata": {
      "needs_background": "light"
     },
     "output_type": "display_data"
    }
   ],
   "source": [
    "# creo el objeto figura y eje ax\n",
    "fig, ax = plt.subplots()\n",
    "\n",
    "#ploteo sobre el eje ax\n",
    "geo_barrios_recorrida.plot(ax=ax, color='white', edgecolor='black')\n",
    "\n",
    "#otro ploteo sobre el eje ax\n",
    "\n",
    "linea_a_geo.plot(ax=ax, color='red')\n",
    "\n",
    "# muestro la figura\n",
    "plt.show()"
   ]
  },
  {
   "cell_type": "markdown",
   "metadata": {
    "slideshow": {
     "slide_type": "slide"
    }
   },
   "source": [
    "### 3. Calcular la distancia entre dos puntos\n",
    "\n",
    "---\n",
    "\n",
    "Ahora que sabemos como trazar líneas entre dos puntos, es razonable preguntarse cual es la distancia entre ellos. \n",
    "\n",
    "Vamos a calcular la *distancia* entre la ubicación de Digital House y el local bailable \"AFRIKA\"."
   ]
  },
  {
   "cell_type": "markdown",
   "metadata": {},
   "source": [
    "Generamos un punto que identifique la posición geoespacial de cada lugar. Observar que para definir la latitud y longitud de cada lugar, la libreria **geopy** necesita que se exprese como una **tupla**."
   ]
  },
  {
   "cell_type": "code",
   "execution_count": 52,
   "metadata": {
    "slideshow": {
     "slide_type": "fragment"
    }
   },
   "outputs": [],
   "source": [
    "punto_dh_t = ( -58.443555,-34.548921) # dato geoespacial de DH\n",
    "\n",
    "punto_afrika_t = ( -58.39239, -34.58843) # dato geoespacial de Afrika"
   ]
  },
  {
   "cell_type": "code",
   "execution_count": 24,
   "metadata": {
    "slideshow": {
     "slide_type": "fragment"
    }
   },
   "outputs": [
    {
     "data": {
      "text/plain": [
       "tuple"
      ]
     },
     "execution_count": 24,
     "metadata": {},
     "output_type": "execute_result"
    }
   ],
   "source": [
    "type(punto_dh_t)"
   ]
  },
  {
   "cell_type": "markdown",
   "metadata": {
    "slideshow": {
     "slide_type": "slide"
    }
   },
   "source": [
    "### 3. Calcular la distancia entre dos puntos\n",
    "\n",
    "---\n",
    "\n",
    "Para calcular distancias entre dos puntos, usamos <code>import geopy.distance</code>.\n",
    "\n",
    "Observar que el resultado se puede expresar en diferentes unidades de medida: meters, kilometers, miles."
   ]
  },
  {
   "cell_type": "code",
   "execution_count": 56,
   "metadata": {
    "slideshow": {
     "slide_type": "fragment"
    }
   },
   "outputs": [],
   "source": [
    "import geopy.distance\n",
    "\n",
    "\n",
    "\n",
    "dist = geopy.distance.geodesic(\n",
    "    punto_dh_t,punto_afrika_t)"
   ]
  },
  {
   "cell_type": "code",
   "execution_count": 57,
   "metadata": {},
   "outputs": [
    {
     "data": {
      "text/plain": [
       "6.149000030999573"
      ]
     },
     "execution_count": 57,
     "metadata": {},
     "output_type": "execute_result"
    }
   ],
   "source": [
    "dist.kilometers"
   ]
  },
  {
   "cell_type": "code",
   "execution_count": 58,
   "metadata": {
    "slideshow": {
     "slide_type": "fragment"
    }
   },
   "outputs": [
    {
     "data": {
      "text/plain": [
       "6149.000030999573"
      ]
     },
     "execution_count": 58,
     "metadata": {},
     "output_type": "execute_result"
    }
   ],
   "source": [
    "dist.meters"
   ]
  },
  {
   "cell_type": "code",
   "execution_count": 101,
   "metadata": {},
   "outputs": [
    {
     "data": {
      "text/plain": [
       "6136.920412395605"
      ]
     },
     "execution_count": 101,
     "metadata": {},
     "output_type": "execute_result"
    }
   ],
   "source": [
    "# otro tipo de distancia\n",
    "\n",
    "geopy.distance.great_circle(punto_dh_t,punto_afrika_t).meters"
   ]
  },
  {
   "cell_type": "markdown",
   "metadata": {
    "slideshow": {
     "slide_type": "slide"
    }
   },
   "source": [
    "<div class=\"div-dhds-fondo-1\"> Hands-on\n",
    "<img src=\"https://raw.githubusercontent.com/Digital-House-DATA/ds_blend_2021_img/master/M1/CLASE_05_Pandas1/Presentacion/img/M1_CLASE_05_separador.png\" align=\"center\"></img>    \n",
    "</div>"
   ]
  },
  {
   "cell_type": "markdown",
   "metadata": {
    "slideshow": {
     "slide_type": "slide"
    }
   },
   "source": [
    "### Ejercicio\n",
    "\n",
    "Representar ciudades de Colombia sobre el mapa del país. Y luego generar una línea entre las ciudades de Bogotá y Barranquilla.\n",
    "\n",
    "Usar este código para generar el DataFrame de las ciudades:"
   ]
  },
  {
   "cell_type": "code",
   "execution_count": 74,
   "metadata": {
    "slideshow": {
     "slide_type": "fragment"
    }
   },
   "outputs": [],
   "source": [
    "df_ciudad = pd.DataFrame(\n",
    "    {'Ciudad': ['Bogota','Cali', 'Medellin', 'Barranquilla'],\n",
    "     'Latitud': [4.60971, 3.43722, 6.25184, 10.96854],\n",
    "     'Longitud': [-74.08175, -76.5225, -75.56359, -74.78132]})\n",
    "\n"
   ]
  },
  {
   "cell_type": "code",
   "execution_count": 75,
   "metadata": {},
   "outputs": [
    {
     "data": {
      "text/html": [
       "<div>\n",
       "<style scoped>\n",
       "    .dataframe tbody tr th:only-of-type {\n",
       "        vertical-align: middle;\n",
       "    }\n",
       "\n",
       "    .dataframe tbody tr th {\n",
       "        vertical-align: top;\n",
       "    }\n",
       "\n",
       "    .dataframe thead th {\n",
       "        text-align: right;\n",
       "    }\n",
       "</style>\n",
       "<table border=\"1\" class=\"dataframe\">\n",
       "  <thead>\n",
       "    <tr style=\"text-align: right;\">\n",
       "      <th></th>\n",
       "      <th>Ciudad</th>\n",
       "      <th>Latitud</th>\n",
       "      <th>Longitud</th>\n",
       "    </tr>\n",
       "  </thead>\n",
       "  <tbody>\n",
       "    <tr>\n",
       "      <th>0</th>\n",
       "      <td>Bogota</td>\n",
       "      <td>4.60971</td>\n",
       "      <td>-74.08175</td>\n",
       "    </tr>\n",
       "    <tr>\n",
       "      <th>1</th>\n",
       "      <td>Cali</td>\n",
       "      <td>3.43722</td>\n",
       "      <td>-76.52250</td>\n",
       "    </tr>\n",
       "    <tr>\n",
       "      <th>2</th>\n",
       "      <td>Medellin</td>\n",
       "      <td>6.25184</td>\n",
       "      <td>-75.56359</td>\n",
       "    </tr>\n",
       "    <tr>\n",
       "      <th>3</th>\n",
       "      <td>Barranquilla</td>\n",
       "      <td>10.96854</td>\n",
       "      <td>-74.78132</td>\n",
       "    </tr>\n",
       "  </tbody>\n",
       "</table>\n",
       "</div>"
      ],
      "text/plain": [
       "         Ciudad   Latitud  Longitud\n",
       "0        Bogota   4.60971 -74.08175\n",
       "1          Cali   3.43722 -76.52250\n",
       "2      Medellin   6.25184 -75.56359\n",
       "3  Barranquilla  10.96854 -74.78132"
      ]
     },
     "execution_count": 75,
     "metadata": {},
     "output_type": "execute_result"
    }
   ],
   "source": [
    "# df comun y corriente\n",
    "\n",
    "df_ciudad"
   ]
  },
  {
   "cell_type": "code",
   "execution_count": 76,
   "metadata": {},
   "outputs": [],
   "source": [
    "# armo el geodf\n",
    "\n",
    "geo_2 = gpd.GeoDataFrame(df_ciudad, geometry=gpd.points_from_xy(df_ciudad.Latitud, df_ciudad.Longitud))"
   ]
  },
  {
   "cell_type": "code",
   "execution_count": 77,
   "metadata": {},
   "outputs": [
    {
     "data": {
      "text/html": [
       "<div>\n",
       "<style scoped>\n",
       "    .dataframe tbody tr th:only-of-type {\n",
       "        vertical-align: middle;\n",
       "    }\n",
       "\n",
       "    .dataframe tbody tr th {\n",
       "        vertical-align: top;\n",
       "    }\n",
       "\n",
       "    .dataframe thead th {\n",
       "        text-align: right;\n",
       "    }\n",
       "</style>\n",
       "<table border=\"1\" class=\"dataframe\">\n",
       "  <thead>\n",
       "    <tr style=\"text-align: right;\">\n",
       "      <th></th>\n",
       "      <th>Ciudad</th>\n",
       "      <th>Latitud</th>\n",
       "      <th>Longitud</th>\n",
       "      <th>geometry</th>\n",
       "    </tr>\n",
       "  </thead>\n",
       "  <tbody>\n",
       "    <tr>\n",
       "      <th>0</th>\n",
       "      <td>Bogota</td>\n",
       "      <td>4.60971</td>\n",
       "      <td>-74.08175</td>\n",
       "      <td>POINT (4.60971 -74.08175)</td>\n",
       "    </tr>\n",
       "    <tr>\n",
       "      <th>1</th>\n",
       "      <td>Cali</td>\n",
       "      <td>3.43722</td>\n",
       "      <td>-76.52250</td>\n",
       "      <td>POINT (3.43722 -76.52250)</td>\n",
       "    </tr>\n",
       "    <tr>\n",
       "      <th>2</th>\n",
       "      <td>Medellin</td>\n",
       "      <td>6.25184</td>\n",
       "      <td>-75.56359</td>\n",
       "      <td>POINT (6.25184 -75.56359)</td>\n",
       "    </tr>\n",
       "    <tr>\n",
       "      <th>3</th>\n",
       "      <td>Barranquilla</td>\n",
       "      <td>10.96854</td>\n",
       "      <td>-74.78132</td>\n",
       "      <td>POINT (10.96854 -74.78132)</td>\n",
       "    </tr>\n",
       "  </tbody>\n",
       "</table>\n",
       "</div>"
      ],
      "text/plain": [
       "         Ciudad   Latitud  Longitud                    geometry\n",
       "0        Bogota   4.60971 -74.08175   POINT (4.60971 -74.08175)\n",
       "1          Cali   3.43722 -76.52250   POINT (3.43722 -76.52250)\n",
       "2      Medellin   6.25184 -75.56359   POINT (6.25184 -75.56359)\n",
       "3  Barranquilla  10.96854 -74.78132  POINT (10.96854 -74.78132)"
      ]
     },
     "execution_count": 77,
     "metadata": {},
     "output_type": "execute_result"
    }
   ],
   "source": [
    "geo_2"
   ]
  },
  {
   "cell_type": "markdown",
   "metadata": {
    "slideshow": {
     "slide_type": "slide"
    }
   },
   "source": [
    "Llevar la latitud y longitud a una forma geométrica de Punto, y junto a los datos del DataFrame df_ciudad, generar el GeoDataFrame geo_ciudad."
   ]
  },
  {
   "cell_type": "code",
   "execution_count": 78,
   "metadata": {
    "colab": {
     "base_uri": "https://localhost:8080/",
     "height": 289
    },
    "colab_type": "code",
    "executionInfo": {
     "elapsed": 830,
     "status": "ok",
     "timestamp": 1567641541793,
     "user": {
      "displayName": "Julián Ansaldo",
      "photoUrl": "https://lh3.googleusercontent.com/a-/AAuE7mCQI0iy6sTR9TfuLMfXZ90XCqxfdAQtMEcBkjfs1w=s64",
      "userId": "10643095115217147090"
     },
     "user_tz": 180
    },
    "id": "vRpX0jS6G_x5",
    "outputId": "178eafb8-17f3-4205-fcbe-9368fbd51efa",
    "slideshow": {
     "slide_type": "fragment"
    }
   },
   "outputs": [
    {
     "data": {
      "text/plain": [
       "0     POINT (4.60971 -74.08175)\n",
       "1     POINT (3.43722 -76.52250)\n",
       "2     POINT (6.25184 -75.56359)\n",
       "3    POINT (10.96854 -74.78132)\n",
       "Name: geometry, dtype: geometry"
      ]
     },
     "execution_count": 78,
     "metadata": {},
     "output_type": "execute_result"
    }
   ],
   "source": [
    "geo_2.geometry"
   ]
  },
  {
   "cell_type": "code",
   "execution_count": 79,
   "metadata": {},
   "outputs": [
    {
     "data": {
      "image/svg+xml": [
       "<svg xmlns=\"http://www.w3.org/2000/svg\" xmlns:xlink=\"http://www.w3.org/1999/xlink\" width=\"100.0\" height=\"100.0\" viewBox=\"3.6097099999999998 -75.08175 2.0 2.0\" preserveAspectRatio=\"xMinYMin meet\"><g transform=\"matrix(1,0,0,-1,0,-148.1635)\"><circle cx=\"4.60971\" cy=\"-74.08175\" r=\"0.06\" stroke=\"#555555\" stroke-width=\"0.02\" fill=\"#66cc99\" opacity=\"0.6\" /></g></svg>"
      ],
      "text/plain": [
       "<shapely.geometry.point.Point at 0x7f4b909d1d60>"
      ]
     },
     "execution_count": 79,
     "metadata": {},
     "output_type": "execute_result"
    }
   ],
   "source": [
    "geo_2.geometry.iloc[0]"
   ]
  },
  {
   "cell_type": "code",
   "execution_count": 80,
   "metadata": {},
   "outputs": [
    {
     "data": {
      "text/plain": [
       "shapely.geometry.point.Point"
      ]
     },
     "execution_count": 80,
     "metadata": {},
     "output_type": "execute_result"
    }
   ],
   "source": [
    "type(geo_2.geometry.iloc[0])"
   ]
  },
  {
   "cell_type": "markdown",
   "metadata": {
    "slideshow": {
     "slide_type": "fragment"
    }
   },
   "source": [
    "Que tipo de datos tiene la nueva columna *geometry*?"
   ]
  },
  {
   "cell_type": "code",
   "execution_count": 81,
   "metadata": {
    "slideshow": {
     "slide_type": "fragment"
    }
   },
   "outputs": [
    {
     "data": {
      "text/plain": [
       "'/home/fernando/.local/lib/python3.9/site-packages/geopandas/datasets/naturalearth_lowres/naturalearth_lowres.shp'"
      ]
     },
     "execution_count": 81,
     "metadata": {},
     "output_type": "execute_result"
    }
   ],
   "source": [
    "gpd.datasets.get_path('naturalearth_lowres')"
   ]
  },
  {
   "cell_type": "markdown",
   "metadata": {
    "slideshow": {
     "slide_type": "fragment"
    }
   },
   "source": [
    "Usar este código para leer el polígono que representa al contorno de Colombia:"
   ]
  },
  {
   "cell_type": "code",
   "execution_count": 83,
   "metadata": {
    "slideshow": {
     "slide_type": "fragment"
    }
   },
   "outputs": [
    {
     "data": {
      "text/html": [
       "<div>\n",
       "<style scoped>\n",
       "    .dataframe tbody tr th:only-of-type {\n",
       "        vertical-align: middle;\n",
       "    }\n",
       "\n",
       "    .dataframe tbody tr th {\n",
       "        vertical-align: top;\n",
       "    }\n",
       "\n",
       "    .dataframe thead th {\n",
       "        text-align: right;\n",
       "    }\n",
       "</style>\n",
       "<table border=\"1\" class=\"dataframe\">\n",
       "  <thead>\n",
       "    <tr style=\"text-align: right;\">\n",
       "      <th></th>\n",
       "      <th>pop_est</th>\n",
       "      <th>continent</th>\n",
       "      <th>name</th>\n",
       "      <th>iso_a3</th>\n",
       "      <th>gdp_md_est</th>\n",
       "      <th>geometry</th>\n",
       "    </tr>\n",
       "  </thead>\n",
       "  <tbody>\n",
       "    <tr>\n",
       "      <th>32</th>\n",
       "      <td>47698524</td>\n",
       "      <td>South America</td>\n",
       "      <td>Colombia</td>\n",
       "      <td>COL</td>\n",
       "      <td>688000.0</td>\n",
       "      <td>POLYGON ((-66.87633 1.25336, -67.06505 1.13011...</td>\n",
       "    </tr>\n",
       "  </tbody>\n",
       "</table>\n",
       "</div>"
      ],
      "text/plain": [
       "     pop_est      continent      name iso_a3  gdp_md_est  \\\n",
       "32  47698524  South America  Colombia    COL    688000.0   \n",
       "\n",
       "                                             geometry  \n",
       "32  POLYGON ((-66.87633 1.25336, -67.06505 1.13011...  "
      ]
     },
     "execution_count": 83,
     "metadata": {},
     "output_type": "execute_result"
    }
   ],
   "source": [
    "\n",
    "\n",
    "world = gpd.read_file(gpd.datasets.get_path('naturalearth_lowres')\n",
    "\n",
    "\n",
    "geo_colombia = world[world.name=='Colombia']\n",
    "geo_colombia"
   ]
  },
  {
   "cell_type": "markdown",
   "metadata": {
    "slideshow": {
     "slide_type": "slide"
    }
   },
   "source": [
    "Que tipo de datos es geo_colombia?"
   ]
  },
  {
   "cell_type": "code",
   "execution_count": 84,
   "metadata": {
    "slideshow": {
     "slide_type": "fragment"
    }
   },
   "outputs": [
    {
     "data": {
      "image/svg+xml": [
       "<svg xmlns=\"http://www.w3.org/2000/svg\" xmlns:xlink=\"http://www.w3.org/1999/xlink\" width=\"100.0\" height=\"100.0\" viewBox=\"-79.6603548326659 -4.967606548689193 13.453448584038185 18.07432932136137\" preserveAspectRatio=\"xMinYMin meet\"><g transform=\"matrix(1,0,0,-1,0,8.139116223982981)\"><path fill-rule=\"evenodd\" fill=\"#66cc99\" stroke=\"#555555\" stroke-width=\"0.36148658642722736\" opacity=\"0.6\" d=\"M -66.87632585312258,1.253360500489336 L -67.0650481838525,1.130112209473225 L -67.2599975246736,1.7199986840849562 L -67.5378100246747,2.03716278727633 L -67.86856502955884,1.6924551456733923 L -69.81697323269162,1.7148052026396243 L -69.80459672715773,1.0890811222334662 L -69.21863766140018,0.9856765812174331 L -69.25243404811906,0.6026508650700748 L -69.45239600287246,0.7061587589506929 L -70.01556576198931,0.5414142928042054 L -70.02065589057005,-0.18515634521953928 L -69.5770653957766,-0.549991957200163 L -69.42048580593223,-1.1226185034264091 L -69.44410193548961,-1.5562871232198177 L -69.89363521999663,-4.2981869441943275 L -70.39404395209499,-3.7665914852078255 L -70.69268205430971,-3.742872002785859 L -70.04770850287485,-2.725156345229699 L -70.81347571479196,-2.2568645158007428 L -71.41364579942979,-2.3428024227021282 L -71.7747607082854,-2.169789727388938 L -72.32578650581365,-2.434218031426454 L -73.07039221870724,-2.3089543595509525 L -73.6595035468346,-1.2604912247811342 L -74.12239518908906,-1.002832533373848 L -74.44160051135597,-0.5308200008198867 L -75.10662451852008,-0.05720549886486026 L -75.37322323271385,-0.1520317521204504 L -75.8014658271166,0.08480133707320192 L -76.29231441924097,0.4160472680641192 L -76.5763797675494,0.256935533037435 L -77.4249843004304,0.395686753741117 L -77.66861284047044,0.8258930525709616 L -77.85506140817952,0.8099250349927729 L -78.85525875518871,1.380923773601822 L -78.99093522817104,1.6913699405952514 L -78.61783138702371,1.766404120283056 L -78.66211808949785,2.2673554549204766 L -78.42761043975733,2.629555568854215 L -77.93154252797149,2.6966057397529255 L -77.51043128122501,3.325016994638247 L -77.12768978545526,3.8496361352653565 L -77.49627193877703,4.087606105969428 L -77.3076012844794,4.6679841170394525 L -77.53322058786573,5.582811997902497 L -77.31881507028675,5.84535411216136 L -77.47666073272228,6.691116441266303 L -77.88157141794525,7.223771267114785 L -77.7534138658614,7.709839789252143 L -77.43110795765699,7.638061224798734 L -77.24256649444008,7.935278225125444 L -77.47472286651133,8.524286200388218 L -77.35336076527386,8.67050466555807 L -76.83667395700357,8.638749497914716 L -76.08638383655786,9.336820583529487 L -75.67460018584006,9.443248195834599 L -75.66470414905618,9.774003200718738 L -75.48042599150335,10.618990383339309 L -74.90689510771199,11.083044745320322 L -74.27675269234489,11.102035834187587 L -74.1972226630477,11.310472723836867 L -73.41476396350029,11.22701528568548 L -72.62783525255963,11.731971543825523 L -72.23819495307892,11.955549628136326 L -71.75409013536864,12.437303168177309 L -71.3998223537917,12.376040757695293 L -71.13746110704588,12.112981879113505 L -71.3315836249503,11.776284084515808 L -71.97392167833829,11.60867157637712 L -72.22757544624294,11.10870209395324 L -72.61465776232521,10.821975409381778 L -72.9052860175347,10.450344346554772 L -73.02760413276957,9.736770331252444 L -73.30495154488005,9.151999823437606 L -72.7887298245004,9.085027167187334 L -72.6604947577681,8.625287787302682 L -72.43986223009796,8.405275376820029 L -72.36090064155597,8.002638454617895 L -72.47967892117885,7.632506008327354 L -72.44448727078807,7.423784898300482 L -72.19835242378188,7.340430813013683 L -71.96017574734864,6.991614895043539 L -70.67423356798152,7.087784735538719 L -70.09331295437242,6.96037649172311 L -69.38947994655712,6.0998605411988365 L -68.98531856960236,6.206804917826858 L -68.26505245631823,6.153268133972475 L -67.69508724635502,6.267318020040647 L -67.34143958196557,6.095468044454023 L -67.52153194850275,5.556870428891969 L -67.74469662135522,5.221128648291668 L -67.82301225449355,4.503937282728899 L -67.62183590358129,3.8394817163199946 L -67.33756384954368,3.5423422306417223 L -67.30317318385345,3.31845408773718 L -67.8099381171237,2.820655015469569 L -67.44709204778631,2.6002808699608693 L -67.18129431829307,2.250638129074062 L -66.87632585312258,1.253360500489336 z\" /></g></svg>"
      ],
      "text/plain": [
       "<shapely.geometry.polygon.Polygon at 0x7f4b909fb1f0>"
      ]
     },
     "execution_count": 84,
     "metadata": {},
     "output_type": "execute_result"
    }
   ],
   "source": [
    "geo_colombia.geometry.values[0]"
   ]
  },
  {
   "cell_type": "markdown",
   "metadata": {
    "slideshow": {
     "slide_type": "fragment"
    }
   },
   "source": [
    "En que columna se encuentra representado el polígono?"
   ]
  },
  {
   "cell_type": "code",
   "execution_count": 85,
   "metadata": {
    "slideshow": {
     "slide_type": "fragment"
    }
   },
   "outputs": [
    {
     "data": {
      "text/html": [
       "<div>\n",
       "<style scoped>\n",
       "    .dataframe tbody tr th:only-of-type {\n",
       "        vertical-align: middle;\n",
       "    }\n",
       "\n",
       "    .dataframe tbody tr th {\n",
       "        vertical-align: top;\n",
       "    }\n",
       "\n",
       "    .dataframe thead th {\n",
       "        text-align: right;\n",
       "    }\n",
       "</style>\n",
       "<table border=\"1\" class=\"dataframe\">\n",
       "  <thead>\n",
       "    <tr style=\"text-align: right;\">\n",
       "      <th></th>\n",
       "      <th>pop_est</th>\n",
       "      <th>continent</th>\n",
       "      <th>name</th>\n",
       "      <th>iso_a3</th>\n",
       "      <th>gdp_md_est</th>\n",
       "      <th>geometry</th>\n",
       "    </tr>\n",
       "  </thead>\n",
       "  <tbody>\n",
       "    <tr>\n",
       "      <th>32</th>\n",
       "      <td>47698524</td>\n",
       "      <td>South America</td>\n",
       "      <td>Colombia</td>\n",
       "      <td>COL</td>\n",
       "      <td>688000.0</td>\n",
       "      <td>POLYGON ((-66.87633 1.25336, -67.06505 1.13011...</td>\n",
       "    </tr>\n",
       "  </tbody>\n",
       "</table>\n",
       "</div>"
      ],
      "text/plain": [
       "     pop_est      continent      name iso_a3  gdp_md_est  \\\n",
       "32  47698524  South America  Colombia    COL    688000.0   \n",
       "\n",
       "                                             geometry  \n",
       "32  POLYGON ((-66.87633 1.25336, -67.06505 1.13011...  "
      ]
     },
     "execution_count": 85,
     "metadata": {},
     "output_type": "execute_result"
    }
   ],
   "source": [
    "geo_colombia"
   ]
  },
  {
   "cell_type": "markdown",
   "metadata": {
    "slideshow": {
     "slide_type": "fragment"
    }
   },
   "source": [
    "Usando la funcion graficar, generar un grafico de las ciudades sobre el mapa del pais."
   ]
  },
  {
   "cell_type": "code",
   "execution_count": 86,
   "metadata": {
    "slideshow": {
     "slide_type": "fragment"
    }
   },
   "outputs": [],
   "source": [
    "def graficar(p_ciudad, p_pais):\n",
    "    \"\"\"Grafica ciudades sobre el mapa del pais\"\"\"\n",
    "    \n",
    "    ax = p_pais.plot(color='white', edgecolor='black')\n",
    "\n",
    "    # Sobre las ciudades superpone el mapa del país\n",
    "    p_ciudad.plot(ax=ax, color='red')\n",
    "\n",
    "plt.show()"
   ]
  },
  {
   "cell_type": "code",
   "execution_count": null,
   "metadata": {
    "slideshow": {
     "slide_type": "fragment"
    }
   },
   "outputs": [],
   "source": []
  },
  {
   "cell_type": "markdown",
   "metadata": {
    "slideshow": {
     "slide_type": "fragment"
    }
   },
   "source": [
    "Crear una línea entre las ciudades de Bogotá y Barranquilla."
   ]
  },
  {
   "cell_type": "code",
   "execution_count": null,
   "metadata": {
    "slideshow": {
     "slide_type": "fragment"
    }
   },
   "outputs": [],
   "source": []
  },
  {
   "cell_type": "markdown",
   "metadata": {
    "slideshow": {
     "slide_type": "slide"
    }
   },
   "source": [
    "### Solución\n",
    "\n",
    "----"
   ]
  },
  {
   "cell_type": "markdown",
   "metadata": {
    "slideshow": {
     "slide_type": "slide"
    }
   },
   "source": [
    "### Ejercicio\n",
    "\n",
    "Representar ciudades de Colombia sobre el mapa del país. Y luego generar una línea entre las ciudades de Bogotá y Barranquilla.\n",
    "\n",
    "Usar este código para generar el DataFrame de las ciudades:"
   ]
  },
  {
   "cell_type": "code",
   "execution_count": 87,
   "metadata": {
    "slideshow": {
     "slide_type": "fragment"
    }
   },
   "outputs": [],
   "source": [
    "df_ciudad = pd.DataFrame(\n",
    "    {'Ciudad': ['Bogota','Cali', 'Medellin', 'Barranquilla'],\n",
    "     'Latitud': [4.60971, 3.43722, 6.25184, 10.96854],\n",
    "     'Longitud': [-74.08175, -76.5225, -75.56359, -74.78132]})"
   ]
  },
  {
   "cell_type": "markdown",
   "metadata": {
    "slideshow": {
     "slide_type": "fragment"
    }
   },
   "source": [
    "Llevar la latitud y longitud a una forma geométrica de Punto, y junto a los datos del DataFrame df_ciudad, generar el GeoDataFrame geo_ciudad.\n",
    "\n",
    "Con el método `gpd.points_from_xy(df_locales.X, df_locales.Y)` lo realizamos.\n",
    "\n",
    "**IMPORTANTE:** este método tiene dos parámetros, el primero, x, debe recibir la **longitud**, y el segundo, y, la **latitud**. Se puede pensar lógicamente que debe ser a la inversa."
   ]
  },
  {
   "cell_type": "code",
   "execution_count": 88,
   "metadata": {
    "colab": {
     "base_uri": "https://localhost:8080/",
     "height": 289
    },
    "colab_type": "code",
    "executionInfo": {
     "elapsed": 830,
     "status": "ok",
     "timestamp": 1567641541793,
     "user": {
      "displayName": "Julián Ansaldo",
      "photoUrl": "https://lh3.googleusercontent.com/a-/AAuE7mCQI0iy6sTR9TfuLMfXZ90XCqxfdAQtMEcBkjfs1w=s64",
      "userId": "10643095115217147090"
     },
     "user_tz": 180
    },
    "id": "vRpX0jS6G_x5",
    "outputId": "178eafb8-17f3-4205-fcbe-9368fbd51efa",
    "slideshow": {
     "slide_type": "fragment"
    }
   },
   "outputs": [
    {
     "data": {
      "text/html": [
       "<div>\n",
       "<style scoped>\n",
       "    .dataframe tbody tr th:only-of-type {\n",
       "        vertical-align: middle;\n",
       "    }\n",
       "\n",
       "    .dataframe tbody tr th {\n",
       "        vertical-align: top;\n",
       "    }\n",
       "\n",
       "    .dataframe thead th {\n",
       "        text-align: right;\n",
       "    }\n",
       "</style>\n",
       "<table border=\"1\" class=\"dataframe\">\n",
       "  <thead>\n",
       "    <tr style=\"text-align: right;\">\n",
       "      <th></th>\n",
       "      <th>Ciudad</th>\n",
       "      <th>Latitud</th>\n",
       "      <th>Longitud</th>\n",
       "      <th>geometry</th>\n",
       "    </tr>\n",
       "  </thead>\n",
       "  <tbody>\n",
       "    <tr>\n",
       "      <th>0</th>\n",
       "      <td>Bogota</td>\n",
       "      <td>4.60971</td>\n",
       "      <td>-74.08175</td>\n",
       "      <td>POINT (-74.08175 4.60971)</td>\n",
       "    </tr>\n",
       "    <tr>\n",
       "      <th>1</th>\n",
       "      <td>Cali</td>\n",
       "      <td>3.43722</td>\n",
       "      <td>-76.52250</td>\n",
       "      <td>POINT (-76.52250 3.43722)</td>\n",
       "    </tr>\n",
       "    <tr>\n",
       "      <th>2</th>\n",
       "      <td>Medellin</td>\n",
       "      <td>6.25184</td>\n",
       "      <td>-75.56359</td>\n",
       "      <td>POINT (-75.56359 6.25184)</td>\n",
       "    </tr>\n",
       "    <tr>\n",
       "      <th>3</th>\n",
       "      <td>Barranquilla</td>\n",
       "      <td>10.96854</td>\n",
       "      <td>-74.78132</td>\n",
       "      <td>POINT (-74.78132 10.96854)</td>\n",
       "    </tr>\n",
       "  </tbody>\n",
       "</table>\n",
       "</div>"
      ],
      "text/plain": [
       "         Ciudad   Latitud  Longitud                    geometry\n",
       "0        Bogota   4.60971 -74.08175   POINT (-74.08175 4.60971)\n",
       "1          Cali   3.43722 -76.52250   POINT (-76.52250 3.43722)\n",
       "2      Medellin   6.25184 -75.56359   POINT (-75.56359 6.25184)\n",
       "3  Barranquilla  10.96854 -74.78132  POINT (-74.78132 10.96854)"
      ]
     },
     "execution_count": 88,
     "metadata": {},
     "output_type": "execute_result"
    }
   ],
   "source": [
    "geo_ciudad = gpd.GeoDataFrame(df_ciudad\n",
    "                           ,geometry=gpd.points_from_xy(df_ciudad.Longitud, df_ciudad.Latitud))\n",
    "geo_ciudad"
   ]
  },
  {
   "cell_type": "markdown",
   "metadata": {
    "slideshow": {
     "slide_type": "slide"
    }
   },
   "source": [
    "Que tipo de datos tiene la nueva columna *geometry*? **geometry**"
   ]
  },
  {
   "cell_type": "code",
   "execution_count": 89,
   "metadata": {
    "slideshow": {
     "slide_type": "fragment"
    }
   },
   "outputs": [
    {
     "data": {
      "text/plain": [
       "Ciudad        object\n",
       "Latitud      float64\n",
       "Longitud     float64\n",
       "geometry    geometry\n",
       "dtype: object"
      ]
     },
     "execution_count": 89,
     "metadata": {},
     "output_type": "execute_result"
    }
   ],
   "source": [
    "geo_ciudad.dtypes"
   ]
  },
  {
   "cell_type": "markdown",
   "metadata": {
    "slideshow": {
     "slide_type": "fragment"
    }
   },
   "source": [
    "Usar este código para leer el polígono que representa al contorno de Colombia:"
   ]
  },
  {
   "cell_type": "code",
   "execution_count": 90,
   "metadata": {
    "slideshow": {
     "slide_type": "fragment"
    }
   },
   "outputs": [
    {
     "data": {
      "text/html": [
       "<div>\n",
       "<style scoped>\n",
       "    .dataframe tbody tr th:only-of-type {\n",
       "        vertical-align: middle;\n",
       "    }\n",
       "\n",
       "    .dataframe tbody tr th {\n",
       "        vertical-align: top;\n",
       "    }\n",
       "\n",
       "    .dataframe thead th {\n",
       "        text-align: right;\n",
       "    }\n",
       "</style>\n",
       "<table border=\"1\" class=\"dataframe\">\n",
       "  <thead>\n",
       "    <tr style=\"text-align: right;\">\n",
       "      <th></th>\n",
       "      <th>pop_est</th>\n",
       "      <th>continent</th>\n",
       "      <th>name</th>\n",
       "      <th>iso_a3</th>\n",
       "      <th>gdp_md_est</th>\n",
       "      <th>geometry</th>\n",
       "    </tr>\n",
       "  </thead>\n",
       "  <tbody>\n",
       "    <tr>\n",
       "      <th>32</th>\n",
       "      <td>47698524</td>\n",
       "      <td>South America</td>\n",
       "      <td>Colombia</td>\n",
       "      <td>COL</td>\n",
       "      <td>688000.0</td>\n",
       "      <td>POLYGON ((-66.87633 1.25336, -67.06505 1.13011...</td>\n",
       "    </tr>\n",
       "  </tbody>\n",
       "</table>\n",
       "</div>"
      ],
      "text/plain": [
       "     pop_est      continent      name iso_a3  gdp_md_est  \\\n",
       "32  47698524  South America  Colombia    COL    688000.0   \n",
       "\n",
       "                                             geometry  \n",
       "32  POLYGON ((-66.87633 1.25336, -67.06505 1.13011...  "
      ]
     },
     "execution_count": 90,
     "metadata": {},
     "output_type": "execute_result"
    }
   ],
   "source": [
    "world = gpd.read_file(gpd.datasets.get_path('naturalearth_lowres'))\n",
    "geo_colombia = world[world.name=='Colombia']\n",
    "geo_colombia"
   ]
  },
  {
   "cell_type": "markdown",
   "metadata": {
    "slideshow": {
     "slide_type": "slide"
    }
   },
   "source": [
    "Que tipo de datos es geo_colombia? **GeoDataFrame**"
   ]
  },
  {
   "cell_type": "code",
   "execution_count": 91,
   "metadata": {
    "slideshow": {
     "slide_type": "fragment"
    }
   },
   "outputs": [
    {
     "data": {
      "text/plain": [
       "geopandas.geodataframe.GeoDataFrame"
      ]
     },
     "execution_count": 91,
     "metadata": {},
     "output_type": "execute_result"
    }
   ],
   "source": [
    "type(geo_colombia)"
   ]
  },
  {
   "cell_type": "markdown",
   "metadata": {
    "slideshow": {
     "slide_type": "fragment"
    }
   },
   "source": [
    "En que columna se encuentra representado el polígono? la columna **geometry**"
   ]
  },
  {
   "cell_type": "code",
   "execution_count": 92,
   "metadata": {
    "slideshow": {
     "slide_type": "fragment"
    }
   },
   "outputs": [
    {
     "data": {
      "text/plain": [
       "pop_est          int64\n",
       "continent       object\n",
       "name            object\n",
       "iso_a3          object\n",
       "gdp_md_est     float64\n",
       "geometry      geometry\n",
       "dtype: object"
      ]
     },
     "execution_count": 92,
     "metadata": {},
     "output_type": "execute_result"
    }
   ],
   "source": [
    "geo_colombia.dtypes"
   ]
  },
  {
   "cell_type": "markdown",
   "metadata": {
    "slideshow": {
     "slide_type": "slide"
    }
   },
   "source": [
    "Usando la funcion graficar, generar un grafico de las ciudades sobre el mapa del pais."
   ]
  },
  {
   "cell_type": "code",
   "execution_count": 93,
   "metadata": {
    "slideshow": {
     "slide_type": "fragment"
    }
   },
   "outputs": [],
   "source": [
    "def graficar(p_ciudad, p_pais):\n",
    "    \"\"\"Grafica ciudades sobre el mapa del pais\"\"\"\n",
    "    \n",
    "    \n",
    "    \n",
    "    ax = p_pais.plot(color='white', edgecolor='black')\n",
    "\n",
    "    # Sobre las ciudades superpone el mapa del país\n",
    "    p_ciudad.plot(ax=ax, color='red')\n",
    "\n",
    "plt.show()"
   ]
  },
  {
   "cell_type": "code",
   "execution_count": 94,
   "metadata": {
    "slideshow": {
     "slide_type": "fragment"
    }
   },
   "outputs": [
    {
     "data": {
      "image/png": "[encoded data removed]",
      "text/plain": [
       "<Figure size 432x288 with 1 Axes>"
      ]
     },
     "metadata": {
      "needs_background": "light"
     },
     "output_type": "display_data"
    }
   ],
   "source": [
    "graficar(geo_ciudad, geo_colombia)"
   ]
  },
  {
   "cell_type": "markdown",
   "metadata": {
    "slideshow": {
     "slide_type": "slide"
    }
   },
   "source": [
    "Crear una línea entre las ciudades de Bogotá y Barranquilla."
   ]
  },
  {
   "cell_type": "markdown",
   "metadata": {
    "slideshow": {
     "slide_type": "fragment"
    }
   },
   "source": [
    "Las **líneas** se realizan a partir de dos puntos. \n",
    "\n",
    "Cada lugar debe ser representado por una forma geométrica *punto*. Para lo cual necesitamos su latitud y longitud.\n",
    "\n",
    "Observar que para definir el tipo *punto*, primero se ingresa la **longitud** y luego la **latitud**."
   ]
  },
  {
   "cell_type": "code",
   "execution_count": 95,
   "metadata": {
    "colab": {
     "base_uri": "https://localhost:8080/",
     "height": 289
    },
    "colab_type": "code",
    "executionInfo": {
     "elapsed": 830,
     "status": "ok",
     "timestamp": 1567641541793,
     "user": {
      "displayName": "Julián Ansaldo",
      "photoUrl": "https://lh3.googleusercontent.com/a-/AAuE7mCQI0iy6sTR9TfuLMfXZ90XCqxfdAQtMEcBkjfs1w=s64",
      "userId": "10643095115217147090"
     },
     "user_tz": 180
    },
    "id": "vRpX0jS6G_x5",
    "outputId": "178eafb8-17f3-4205-fcbe-9368fbd51efa",
    "slideshow": {
     "slide_type": "fragment"
    }
   },
   "outputs": [
    {
     "data": {
      "text/html": [
       "<div>\n",
       "<style scoped>\n",
       "    .dataframe tbody tr th:only-of-type {\n",
       "        vertical-align: middle;\n",
       "    }\n",
       "\n",
       "    .dataframe tbody tr th {\n",
       "        vertical-align: top;\n",
       "    }\n",
       "\n",
       "    .dataframe thead th {\n",
       "        text-align: right;\n",
       "    }\n",
       "</style>\n",
       "<table border=\"1\" class=\"dataframe\">\n",
       "  <thead>\n",
       "    <tr style=\"text-align: right;\">\n",
       "      <th></th>\n",
       "      <th>Ciudad</th>\n",
       "      <th>Latitud</th>\n",
       "      <th>Longitud</th>\n",
       "      <th>geometry</th>\n",
       "    </tr>\n",
       "  </thead>\n",
       "  <tbody>\n",
       "    <tr>\n",
       "      <th>0</th>\n",
       "      <td>Bogota</td>\n",
       "      <td>4.60971</td>\n",
       "      <td>-74.08175</td>\n",
       "      <td>POINT (-74.08175 4.60971)</td>\n",
       "    </tr>\n",
       "    <tr>\n",
       "      <th>1</th>\n",
       "      <td>Cali</td>\n",
       "      <td>3.43722</td>\n",
       "      <td>-76.52250</td>\n",
       "      <td>POINT (-76.52250 3.43722)</td>\n",
       "    </tr>\n",
       "    <tr>\n",
       "      <th>2</th>\n",
       "      <td>Medellin</td>\n",
       "      <td>6.25184</td>\n",
       "      <td>-75.56359</td>\n",
       "      <td>POINT (-75.56359 6.25184)</td>\n",
       "    </tr>\n",
       "    <tr>\n",
       "      <th>3</th>\n",
       "      <td>Barranquilla</td>\n",
       "      <td>10.96854</td>\n",
       "      <td>-74.78132</td>\n",
       "      <td>POINT (-74.78132 10.96854)</td>\n",
       "    </tr>\n",
       "  </tbody>\n",
       "</table>\n",
       "</div>"
      ],
      "text/plain": [
       "         Ciudad   Latitud  Longitud                    geometry\n",
       "0        Bogota   4.60971 -74.08175   POINT (-74.08175 4.60971)\n",
       "1          Cali   3.43722 -76.52250   POINT (-76.52250 3.43722)\n",
       "2      Medellin   6.25184 -75.56359   POINT (-75.56359 6.25184)\n",
       "3  Barranquilla  10.96854 -74.78132  POINT (-74.78132 10.96854)"
      ]
     },
     "execution_count": 95,
     "metadata": {},
     "output_type": "execute_result"
    }
   ],
   "source": [
    "geo_ciudad"
   ]
  },
  {
   "cell_type": "code",
   "execution_count": 96,
   "metadata": {
    "colab": {},
    "colab_type": "code",
    "id": "pcpVLTgiG_y2",
    "slideshow": {
     "slide_type": "fragment"
    }
   },
   "outputs": [],
   "source": [
    "from shapely.geometry import Point\n",
    "\n",
    "\n",
    "punto_bogota = Point( -74.08175,4.60971)\n",
    "\n",
    "punto_barranquilla = Point( -74.78132, 10.96854)"
   ]
  },
  {
   "cell_type": "markdown",
   "metadata": {
    "slideshow": {
     "slide_type": "fragment"
    }
   },
   "source": [
    "Y ahora sí creamos la línea entre los dos puntos, usando el método `from shapely.geometry import LineString`."
   ]
  },
  {
   "cell_type": "code",
   "execution_count": 97,
   "metadata": {
    "slideshow": {
     "slide_type": "fragment"
    }
   },
   "outputs": [
    {
     "data": {
      "text/plain": [
       "'LineString'"
      ]
     },
     "execution_count": 97,
     "metadata": {},
     "output_type": "execute_result"
    }
   ],
   "source": [
    "from shapely.geometry import LineString\n",
    "\n",
    "linea = LineString([punto_bogota, punto_barranquilla])\n",
    "linea.type"
   ]
  },
  {
   "cell_type": "markdown",
   "metadata": {
    "slideshow": {
     "slide_type": "slide"
    }
   },
   "source": [
    "- Extra\n",
    "\n",
    "Graficar la línea sobre el mapa de Colombia.\n",
    "\n",
    "Para ello, se necesita crear un tipo de datos GeoSeries con los dos puntos y la línea."
   ]
  },
  {
   "cell_type": "code",
   "execution_count": 98,
   "metadata": {
    "slideshow": {
     "slide_type": "fragment"
    }
   },
   "outputs": [],
   "source": [
    "linea_geo = gpd.GeoSeries([punto_bogota, punto_barranquilla, linea])"
   ]
  },
  {
   "cell_type": "code",
   "execution_count": 99,
   "metadata": {
    "slideshow": {
     "slide_type": "fragment"
    }
   },
   "outputs": [
    {
     "data": {
      "image/png": "[encoded data removed]",
      "text/plain": [
       "<Figure size 432x288 with 1 Axes>"
      ]
     },
     "metadata": {
      "needs_background": "light"
     },
     "output_type": "display_data"
    }
   ],
   "source": [
    "fig, ax = plt.subplots()\n",
    "\n",
    "\n",
    "ax.set_aspect('equal')\n",
    "\n",
    "\n",
    "\n",
    "geo_colombia.plot(ax=ax, color='white', edgecolor='black')\n",
    "linea_geo.plot(ax=ax, color='red')\n",
    "\n",
    "plt.show();"
   ]
  },
  {
   "cell_type": "markdown",
   "metadata": {
    "slideshow": {
     "slide_type": "slide"
    }
   },
   "source": [
    "<div class=\"div-dhds-fondo-1\"> Referencias y Material Adicional\n",
    "<img src=\"https://raw.githubusercontent.com/Digital-House-DATA/ds_blend_2021_img/master/M1/CLASE_05_Pandas1/Presentacion/img/M1_CLASE_05_separador.png\" align=\"center\"></img>    \n",
    "</div>"
   ]
  },
  {
   "cell_type": "markdown",
   "metadata": {
    "slideshow": {
     "slide_type": "slide"
    }
   },
   "source": [
    "### Referencias y Material Adicional\n",
    "\n",
    "---\n",
    "\n",
    "\n",
    "<a href=\"https://www.esri.cl/es-cl/que-es-el-gis/que-es-gis\" target=\"_blank\" > Que es GIS? </a>\n",
    "\n",
    "<a href=\"https://www.um.es/geograf/sigmur/sigpdf/temario.pdf\" target=\"_blank\" > Sistemas de Información Geográfica</a>\n",
    "\n",
    "<a href=\"https://mappinggis.com/2013/11/los-formatos-gis-vectoriales-mas-populares\" target=\"_blank\" > Formatos SIG</a>\n",
    "\n",
    "<a href=\"https://geopandas.org\" target=\"_blank\" >Geopandas Documentacion</a>\n",
    "    \n",
    "<a href=\"https://www.martinalarcon.org/2018-12-31-d-geopandas\n",
    "\" target=\"_blank\" > The GeoPandas Cookbook</a>\n",
    "\n",
    "<a href=\"https://shapely.readthedocs.io/en/stable/manual.html\" target=\"_blank\" > The Shapely User Manual</a>\n"
   ]
  }
 ],
 "metadata": {
  "kernelspec": {
   "display_name": "Python 3",
   "language": "python",
   "name": "python3"
  },
  "language_info": {
   "codemirror_mode": {
    "name": "ipython",
    "version": 3
   },
   "file_extension": ".py",
   "mimetype": "text/x-python",
   "name": "python",
   "nbconvert_exporter": "python",
   "pygments_lexer": "ipython3",
   "version": "3.9.5"
  }
 },
 "nbformat": 4,
 "nbformat_minor": 4
}
