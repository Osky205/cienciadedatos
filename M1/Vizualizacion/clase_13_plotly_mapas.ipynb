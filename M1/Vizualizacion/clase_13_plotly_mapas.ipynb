{
 "cells": [
  {
   "cell_type": "markdown",
   "metadata": {
    "slideshow": {
     "slide_type": "slide"
    }
   },
   "source": [
    "       \n",
    "<h1>Visualización 2</h1>        \n"
   ]
  },
  {
   "cell_type": "markdown",
   "metadata": {
    "slideshow": {
     "slide_type": "slide"
    }
   },
   "source": [
    "## Objetivos de la clase\n",
    "\n",
    "---\n",
    "\n",
    "- Estudiar las librerias de visualización interactivas:\n",
    "\n",
    "    - Plotly\n",
    "    - Bokeh"
   ]
  },
  {
   "cell_type": "markdown",
   "metadata": {
    "slideshow": {
     "slide_type": "slide"
    }
   },
   "source": [
    "### Introducción\n",
    "\n",
    "---\n",
    "\n",
    "En la clase *Visualización 1* vimos como realizar gráficos estáticos, es decir que no permiten analizarlos en forma dinámica, interactuando con ellos.\n",
    "\n",
    "Python ofrece librerías que preparan los datos para una visualización donde el usuario sí puede interactuar.\n",
    "\n",
    "Dos de las librerías más usadas actualmente son **Plotly** y **Bokeh**."
   ]
  },
  {
   "cell_type": "markdown",
   "metadata": {
    "slideshow": {
     "slide_type": "slide"
    }
   },
   "source": [
    "### Introducción\n",
    "\n",
    "---\n",
    "\n",
    "<div>\n",
    "    <div class = \"mapa\">\n",
    "        <img src='https://raw.githubusercontent.com/Digital-House-DATA/ds_blend_2021_img/master/M2/CLASE_13_Visualizacion_2/Presentacion/img/M2_CLASE_13_plotly_001.png' alt=\"logo bokeh\" width=50% height=70% align=\"center\">\n",
    "    </div>\n",
    "</div>\n",
    "\n",
    "**Plotly** es una librería de Python que genera gráficos interactivos de *una manera sencilla*.\n",
    "\n",
    "Basicámente podemos crear todos los gráficos que vimos hasta ahora: diagramas de líneas, de barras, de áreas, histogramas, etc, y otros como diagrama de burbujas. Ademas de disponer de una *grilla de gráficos, hovertool y animaciones*.\n",
    "\n",
    "Se pueden mostrar usando *Jupyter notebooks*, grabarlos como *archivos html*, y también en una aplicación Web usando la *librería Dash*.\n",
    "\n",
    "Tiene una versión web, que permite publicar los gráficos. Esa versión *online* se trabaja con el paquete *chart-studio*. No forma parte de esta clase."
   ]
  },
  {
   "cell_type": "markdown",
   "metadata": {
    "slideshow": {
     "slide_type": "slide"
    }
   },
   "source": [
    "### Plotly express\n",
    "\n",
    "---\n",
    "\n",
    "**Plotly Express** es una función de Plotly con una interfaz de alto nivel. Opera sobre una variedad de tipos de datos y genera figuras fáciles de trabajar en su estilo.\n",
    "\n",
    "Todos los gráficos de esta clase los vamos a generar usando *Plotly Express*. \n",
    "\n",
    "Las funciones de Plotly Express devuelven un objeto de tipo `graph_objects.Figure` cuyos datos y layout se definen de acuerdo a los argumentos provistos.  Y que se muestra en la notebook con el método `show`.  Con `write_image` se graba en un archivo. "
   ]
  },
  {
   "cell_type": "markdown",
   "metadata": {
    "slideshow": {
     "slide_type": "fragment"
    }
   },
   "source": [
    "El **esquema general** para crear gráficos es:\n",
    "\n",
    "fig = px.chart_type(df, parameters) (*chart_type:* bar, scatter, etc. *df:* dataframe)\n",
    "\n",
    "fig.update_layout(layout_parameters or add annotations)\n",
    "\n",
    "fig.update_traces(further graph parameters)\n",
    "\n",
    "fig.update_xaxis() # or update_yaxis\n",
    "\n",
    "fig.show()"
   ]
  },
  {
   "cell_type": "code",
   "execution_count": null,
   "metadata": {
    "slideshow": {
     "slide_type": "slide"
    }
   },
   "outputs": [],
   "source": [
    "import numpy as np\n",
    "import pandas as pd\n",
    "import plotly.express as px\n",
    "import plotly as pl\n",
    "import matplotlib.pyplot as plt"
   ]
  },
  {
   "cell_type": "code",
   "execution_count": null,
   "metadata": {},
   "outputs": [],
   "source": [
    "df_tips = px.data.tips()\n",
    "df_tips"
   ]
  },
  {
   "cell_type": "code",
   "execution_count": null,
   "metadata": {},
   "outputs": [],
   "source": [
    "# ploteos con matplotlib\n",
    "\n",
    "df_tips.hist()"
   ]
  },
  {
   "cell_type": "code",
   "execution_count": null,
   "metadata": {},
   "outputs": [],
   "source": [
    "plt.figure(figsize=[10,5])\n",
    "plt.plot(df_tips.tip,df_tips.total_bill,'o')\n",
    "plt.xlabel('tip')\n",
    "plt.ylabel('total_bill')\n",
    "plt.grid(True)"
   ]
  },
  {
   "cell_type": "markdown",
   "metadata": {},
   "source": [
    "# Scatter en plotly"
   ]
  },
  {
   "cell_type": "code",
   "execution_count": null,
   "metadata": {},
   "outputs": [],
   "source": [
    "px.scatter(df_tips,x='tip',y='total_bill')"
   ]
  },
  {
   "cell_type": "markdown",
   "metadata": {
    "slideshow": {
     "slide_type": "slide"
    }
   },
   "source": [
    "### Diagrama de Barras\n",
    "\n",
    "---\n",
    "Con  `px.bar`, cada fila de un Dataframe se representa con una barra.\n",
    "\n",
    "Podemos hacer diagramas de barras (bar), barras apiladas (stacked bar), y agrupadas por una variable categórica."
   ]
  },
  {
   "cell_type": "markdown",
   "metadata": {
    "slideshow": {
     "slide_type": "fragment"
    }
   },
   "source": [
    "En este ejemplo, a partir del Dataframe df_tips, usamos las variables categóricas sex y time (en qué momento del día), para clasificar las barras por el total de propinas recibidas."
   ]
  },
  {
   "cell_type": "code",
   "execution_count": null,
   "metadata": {
    "slideshow": {
     "slide_type": "fragment"
    }
   },
   "outputs": [],
   "source": [
    "df_tips = px.data.tips()\n",
    "df_tips.sample(3)"
   ]
  },
  {
   "cell_type": "markdown",
   "metadata": {
    "slideshow": {
     "slide_type": "slide"
    }
   },
   "source": [
    "Con `px.bar` definimos los datos y ajustes generales. Con el parámetro `color` indicamos la tercera variable.\n",
    "\n",
    "Con el método `update_layout` incorporamos otra información de estilo.\n",
    "\n",
    "Pasando el mouse, observamos los valores de cada fila."
   ]
  },
  {
   "cell_type": "code",
   "execution_count": null,
   "metadata": {
    "slideshow": {
     "slide_type": "fragment"
    }
   },
   "outputs": [],
   "source": [
    "df_tips = px.data.tips() # Dataset de propinas\n",
    "\n",
    "fig = px.bar(data_frame=df_tips, x=\"sex\", y=\"total_bill\", color='time', \n",
    "             width=700, height=350)\n",
    "\n",
    "fig.update_layout(\n",
    "    title='Propinas por sexo y tiempo',\n",
    "    xaxis_tickfont_size=10,\n",
    "    yaxis=dict(title='Total Propinas',titlefont_size=14,tickfont_size=10))\n",
    "\n",
    "fig.show()"
   ]
  },
  {
   "cell_type": "markdown",
   "metadata": {
    "slideshow": {
     "slide_type": "slide"
    }
   },
   "source": [
    "### Diagrama de burbujas\n",
    "\n",
    "---\n",
    "**Bubble chart** o diagrama de burbujas, es simplemente un diagrama *scatter o de dispersión*, donde el tamaño de cada punto representa el valor de una columna del dataframe.\n",
    "\n",
    "Lo representamos con el parámetro `size`.\n",
    "\n",
    "En este ejemplo, tenemos datos sobre la expectativa de vida (lifeExp), el producto interno bruto per cápita (gdpPercap) y la población (pop), por año, continente y país.\n",
    "\n",
    "La burbuja o tamaño de cada punto, representa el valor de la variable pop."
   ]
  },
  {
   "cell_type": "code",
   "execution_count": null,
   "metadata": {
    "slideshow": {
     "slide_type": "fragment"
    }
   },
   "outputs": [],
   "source": [
    "data_gap = pd.read_csv('https://github.com/plotly/datasets/raw/master/gapminderDataFiveYear.csv', sep=',')\n",
    "\n",
    "data_gap.sample(5)"
   ]
  },
  {
   "cell_type": "markdown",
   "metadata": {
    "slideshow": {
     "slide_type": "slide"
    }
   },
   "source": [
    "### Bubble chart\n",
    "\n",
    "---\n",
    "Creamos un gráfico con los siguientes lineamientos:\n",
    "\n",
    "* Scatter plot de expectativa de vida (lifeExp) versus PIB per cápita (gdpPercap), para el año 2007, para todos los países.\n",
    "\n",
    "* El tamaño de los marcadores (burbujas) es creciente en función del tamaño de la población (pop).\n",
    "\n",
    "* Cada continente (continent) se representa con un color distinto.\n",
    "\n",
    "* El texto que se muestra al pasar el mouse, hover, tiene que tener como título el país (country).\n",
    "\n",
    "* Creamos una barra para seleccionar el rango del eje x que queremos ver `fig.update_xaxes(rangeslider_visible=True)`"
   ]
  },
  {
   "cell_type": "code",
   "execution_count": null,
   "metadata": {
    "slideshow": {
     "slide_type": "fragment"
    }
   },
   "outputs": [],
   "source": [
    "# El año 2007 para todos los países\n",
    "data_year_mask = data_gap['year'] == 2007\n",
    "data_year = data_gap.loc[data_year_mask, :] \n",
    "data_year.head(3)"
   ]
  },
  {
   "cell_type": "code",
   "execution_count": null,
   "metadata": {
    "slideshow": {
     "slide_type": "slide"
    }
   },
   "outputs": [],
   "source": [
    "fig = px.scatter(data_frame = data_year, x = \"gdpPercap\", y = \"lifeExp\",\n",
    "                 size = \"pop\", color = \"continent\", opacity = 0.6,\n",
    "                 hover_name=\"country\", width=700, height=500)\n",
    "\n",
    "fig.update_xaxes(rangeslider_visible=True)\n",
    "\n",
    "fig.show()"
   ]
  },
  {
   "cell_type": "markdown",
   "metadata": {
    "slideshow": {
     "slide_type": "slide"
    }
   },
   "source": [
    "### Facet\n",
    "\n",
    "---\n",
    "**Facet** es la facilidad que brinda *Plotly* para generar múltiple gráficos vinculados, similar a *gridplot* en Bokeh.\n",
    "\n",
    "El valor del argumento `facet_col` (o `facet_row`) crea los gráficos vinculados, donde las distintas columnas de la grilla de gráficos corresponden a los diferentes valores de la columna indicada por el argumento.\n",
    "\n",
    "El valor de `facet_col_wrap` indica el máximo número de columnas que tendrá el gráfico.\n",
    "\n",
    "En este ejemplo, la columna year indica que cada columna de la grilla corresponde a un año. "
   ]
  },
  {
   "cell_type": "code",
   "execution_count": null,
   "metadata": {
    "slideshow": {
     "slide_type": "slide"
    }
   },
   "outputs": [],
   "source": [
    "fig = px.scatter(data_gap, x = 'gdpPercap', y = 'lifeExp',\n",
    "                color = 'continent', size = 'pop',\n",
    "                facet_col = 'year', facet_col_wrap = 3)\n",
    "fig.show()"
   ]
  },
  {
   "cell_type": "markdown",
   "metadata": {
    "slideshow": {
     "slide_type": "slide"
    }
   },
   "source": [
    "### Animaciones\n",
    "\n",
    "---\n",
    "Las animaciones son gráficos que muestran un \"movimiento\" de acuerdo a los valores de alguna columna.\n",
    "\n",
    "El valor del argumento `animation_frame` indica la columna sobre la cual el gráfico evoluciona, o dicho de otra forma, el que define cada cuadro (frame) de la animación. Generalmente es una variable de tiempo.\n",
    "\n",
    "El valor del argumento `animation_group` indica la columna que provee la consistencia entre los frames; los registros que coinciden en el valor de animation_group representan el mismo objeto en todos los frames. En el ejemplo, la columna country indica que todos los registros de un país se consideran relacionados en todos los frames.\n",
    "\n",
    "`range_x` y `range_y` definen el rango de valores de los ejes x e y respectivamente. Si el valor del argumento `log_x` (`log_y`) es True, la escala del eje x (eje y) es logarítmica. Los rangos deben asegurar que todos los datos sean visibles, que no salgan de los rangos. \n",
    "\n",
    "Generemos ahora una animación sobre los años usando como base el bubble chart que generamos anteriormente."
   ]
  },
  {
   "cell_type": "code",
   "execution_count": null,
   "metadata": {
    "slideshow": {
     "slide_type": "slide"
    }
   },
   "outputs": [],
   "source": [
    "fig = px.scatter(data_gap, \n",
    "           x = \"gdpPercap\", y = \"lifeExp\", \n",
    "           animation_frame = \"year\", animation_group = \"country\",\n",
    "           size = \"pop\", color = \"continent\", hover_name=\"country\",\n",
    "           log_x=True, size_max=55, range_x=[100,100000], range_y=[25,90])\n",
    "fig.show()"
   ]
  },
  {
   "cell_type": "markdown",
   "metadata": {},
   "source": [
    "# Geovisualizacion sin geopandas, es posible?\n",
    "\n",
    "Alternativas para plotear puntos y polygonos"
   ]
  },
  {
   "cell_type": "code",
   "execution_count": null,
   "metadata": {},
   "outputs": [],
   "source": [
    "data=pd.read_csv('https://raw.githubusercontent.com/carabedo/labs/master/data/properati_caba.csv',delimiter='\\t')"
   ]
  },
  {
   "cell_type": "code",
   "execution_count": null,
   "metadata": {},
   "outputs": [],
   "source": [
    "data"
   ]
  },
  {
   "cell_type": "code",
   "execution_count": null,
   "metadata": {},
   "outputs": [],
   "source": [
    "df=data.sample(300)\n",
    "\n",
    "\n",
    "fig = px.scatter_mapbox(df, lat=\"lat\", lon=\"lon\", zoom=5, height=600)\n",
    "fig.update_layout(mapbox_style=\"white-bg\")\n",
    "fig.show()"
   ]
  },
  {
   "cell_type": "markdown",
   "metadata": {},
   "source": [
    "# Estilos de mapa:\n",
    "\n",
    "* \"white-bg\" yields an empty white canvas which results in no external HTTP requests\n",
    "* \"open-street-map\", \"carto-positron\", \"carto-darkmatter\", \"stamen-terrain\", \"stamen-toner\" or \"stamen-watercolor\" yield maps composed of raster tiles from various public tile servers which do not require signups or access tokens\n",
    "* \"basic\", \"streets\", \"outdoors\", \"light\", \"dark\", \"satellite\", or \"satellite-streets\" yield maps composed of vector tiles from the Mapbox service, and do require a Mapbox Access Token or an on-premise Mapbox installation.\n",
    "* A Mapbox service style URL, which requires a Mapbox Access Token or an on-premise Mapbox installation.\n",
    "* A Mapbox Style object as defined at https://docs.mapbox.com/mapbox-gl-js/style-spec/"
   ]
  },
  {
   "cell_type": "code",
   "execution_count": null,
   "metadata": {},
   "outputs": [],
   "source": [
    "\n",
    "\n",
    "fig = px.scatter_mapbox(df, lat=\"lat\", lon=\"lon\", zoom=9, height=600)\n",
    "fig.update_layout(mapbox_style=\"carto-positron\")\n",
    "\n",
    "fig.show()"
   ]
  },
  {
   "cell_type": "code",
   "execution_count": null,
   "metadata": {},
   "outputs": [],
   "source": [
    "df.columns"
   ]
  },
  {
   "cell_type": "code",
   "execution_count": null,
   "metadata": {
    "scrolled": false
   },
   "outputs": [],
   "source": [
    "df=data.sample(1000)\n",
    "fig = px.scatter_mapbox(df, lat=\"lat\", lon=\"lon\", zoom=9, height=600, color='price')\n",
    "fig.update_layout(mapbox_style=\"carto-positron\")\n",
    "fig.update_layout(margin={\"r\":0,\"t\":0,\"l\":0,\"b\":0})\n",
    "fig.show()"
   ]
  },
  {
   "cell_type": "code",
   "execution_count": null,
   "metadata": {},
   "outputs": [],
   "source": [
    "df=data.sample(1000)\n",
    "df['pm2']=np.log(df['price']/df.surface_total_in_m2)"
   ]
  },
  {
   "cell_type": "code",
   "execution_count": null,
   "metadata": {},
   "outputs": [],
   "source": [
    "fig = px.scatter_mapbox(df, lat=\"lat\", lon=\"lon\", zoom=9, height=600, color='pm2')\n",
    "fig.update_layout(mapbox_style=\"carto-positron\")\n",
    "fig.update_layout(margin={\"r\":0,\"t\":0,\"l\":0,\"b\":0})\n",
    "fig.show()"
   ]
  },
  {
   "cell_type": "markdown",
   "metadata": {},
   "source": [
    "# Polygonos en un mapa\n",
    "\n",
    "\n",
    "Se acuerdan de los wkt? Era la syntaxis en la que estaban descriptos los poligonos, puntos, lineas, por ejemplo: los barrios de capital\n",
    "\n",
    "https://raw.githubusercontent.com/francodegio/DigitalHouse/master/barrios.csv\n",
    "\n",
    "\n",
    "plotly no lee directamente este formato, usa otra syntasis llamada GeoJson, necesitamos una libreria que nos convierta wkt a geojson\n",
    "\n",
    "\n",
    "`conda install -c conda-forge geomet`\n",
    "\n",
    "\n"
   ]
  },
  {
   "cell_type": "code",
   "execution_count": null,
   "metadata": {},
   "outputs": [],
   "source": [
    "polys=pd.read_csv('https://raw.githubusercontent.com/francodegio/DigitalHouse/master/barrios.csv',encoding='latin1')"
   ]
  },
  {
   "cell_type": "code",
   "execution_count": null,
   "metadata": {},
   "outputs": [],
   "source": [
    "polys.head()"
   ]
  },
  {
   "cell_type": "code",
   "execution_count": null,
   "metadata": {},
   "outputs": [],
   "source": [
    "polys.WKT.iloc[0]\n"
   ]
  },
  {
   "cell_type": "code",
   "execution_count": null,
   "metadata": {},
   "outputs": [],
   "source": [
    "# para que plotly grafique poligonos, se lo tenemos que pasar en el formato GEOjson\n",
    "# esta libreria convierte strings wkt en GEOJSON\n",
    "\n",
    "from geomet import wkt\n",
    "gjson=wkt.loads(poly)\n",
    "gjson"
   ]
  },
  {
   "cell_type": "markdown",
   "metadata": {},
   "source": [
    "## Mapa de coropletas\n",
    "\n",
    "\n",
    "<img src='https://external-preview.redd.it/hMTGaxDhWqQTOj__wr36QF6ntTlDBZ7ebgbacrfX-PA.jpg?auto=webp&s=5607a02cda185c9f01c17eabad81cc33536e7bba' width=400 >\n",
    "\n",
    "\n",
    "In a Mapbox choropleth map, each row of data_frame is represented by a colored region on a Mapbox map.\n",
    "\n",
    "Parameters:\n",
    "    \n",
    "+ data_frame (DataFrame or array-like or dict) – This argument needs to be passed for column names (and not keyword names) to be used. Array-like and dict are tranformed internally to a pandas DataFrame. Optional: if missing, a DataFrame gets constructed under the hood using the other arguments.\n",
    "\n",
    "+ geojson (GeoJSON-formatted dict) – Must contain a Polygon feature collection, with IDs, which are references from locations.\n",
    "\n",
    "+ locations (str or int or Series or array-like) – Either a name of a column in data_frame, or a pandas Series or array_like object. Values from this column or array_like are to be interpreted according to locationmode and mapped to longitude/latitude.\n",
    "\n",
    "+ color (str or int or Series or array-like) – Either a name of a column in data_frame, or a pandas Series or array_like object. Values from this column or array_like are used to assign color to marks.\n",
    "\n",
    "\n",
    "\n",
    "\n",
    "\n"
   ]
  },
  {
   "cell_type": "markdown",
   "metadata": {},
   "source": [
    "<div class='alert alert-warning'>\n",
    "Necesitamos pasar las geometrias en este formato:\n",
    "    \n",
    "    \n",
    "**geojson** (GeoJSON-formatted dict) – Must contain a Polygon feature collection, with IDs, which are references from locations.\n",
    "    \n",
    "    \n",
    "el input es un GEOJSON, un diccionario del tipo feature collection, en la llave features esta la lista de las shapes, con su geometria y su id\n",
    "</div>"
   ]
  },
  {
   "cell_type": "markdown",
   "metadata": {},
   "source": [
    "## Ejemplo con Chacarita"
   ]
  },
  {
   "cell_type": "code",
   "execution_count": null,
   "metadata": {},
   "outputs": [],
   "source": [
    "lista_polygonos=[ {'geometry': gjson ,\n",
    "                   'id' : 'CHACARITA' }\n",
    "                ]"
   ]
  },
  {
   "cell_type": "code",
   "execution_count": null,
   "metadata": {},
   "outputs": [],
   "source": [
    "#un dict con esta llave general y una lista de 'features' que son los gjson que tira el geomet de cada poligono\n",
    "\n",
    "geojson_chacarita={ 'type': 'FeatureCollection' ,\n",
    "                    'features' : lista_polygonos\n",
    "                  }"
   ]
  },
  {
   "cell_type": "code",
   "execution_count": null,
   "metadata": {},
   "outputs": [],
   "source": [
    "polys.head()"
   ]
  },
  {
   "cell_type": "code",
   "execution_count": null,
   "metadata": {},
   "outputs": [],
   "source": [
    "# polys es el df comun y corriente de pandas\n",
    "# gd es un diccionario con las geometrias en geojson\n",
    "# con locations le digo en que columna del df esta las ID de los poligonos del dict GD\n",
    "\n",
    "\n",
    "fig = px.choropleth_mapbox(polys,\n",
    "                           \n",
    "                           geojson=geojson_chacarita, \n",
    "                           \n",
    "                           locations='BARRIO',\n",
    "                           \n",
    "                           mapbox_style=\"carto-positron\",\n",
    "                           center = {\"lat\": -34.6, \"lon\": -58.35}, \n",
    "                           opacity=0.5, zoom= 10, height=500)\n",
    "fig.show()"
   ]
  },
  {
   "cell_type": "markdown",
   "metadata": {},
   "source": [
    "## Ejemplo con todo capital"
   ]
  },
  {
   "cell_type": "code",
   "execution_count": null,
   "metadata": {},
   "outputs": [],
   "source": [
    "# Nesecito la lista de diccionarios con la geo y el id de las shapes, \n",
    "# uso el mismo del dataframe para generar esta lista, itero por fila convierto el WKT y saco el ID\n",
    "# el iterrows tira indice y la serie fila, por eso el for i,x, pero solo uso el x\n",
    "\n",
    "lista_polygonos=[ {'geometry': wkt.loads(x.WKT),'id' : x.BARRIO } for i,x in polys.iterrows()] \n",
    "\n"
   ]
  },
  {
   "cell_type": "code",
   "execution_count": null,
   "metadata": {},
   "outputs": [],
   "source": [
    "len(lista_polygonos)"
   ]
  },
  {
   "cell_type": "code",
   "execution_count": null,
   "metadata": {},
   "outputs": [],
   "source": [
    "# ahora armo el diccionario GeoJSON con esta lista:\n",
    "\n",
    "geojson_capital= {'type': 'FeatureCollection' ,\n",
    "                  'features' : lista_polygonos }"
   ]
  },
  {
   "cell_type": "code",
   "execution_count": null,
   "metadata": {},
   "outputs": [],
   "source": [
    "fig = px.choropleth_mapbox(polys,\n",
    "                           \n",
    "                           geojson=geojson_capital, \n",
    "                           \n",
    "                           locations='BARRIO',\n",
    "                           \n",
    "                           mapbox_style=\"carto-positron\",\n",
    "                           center = {\"lat\": -34.6, \"lon\": -58.35}, \n",
    "                           opacity=0.5, zoom= 10, height=500)\n",
    "fig.show()"
   ]
  },
  {
   "cell_type": "code",
   "execution_count": null,
   "metadata": {},
   "outputs": [],
   "source": [
    "fig = px.choropleth_mapbox(polys,\n",
    "                           \n",
    "                           geojson=geojson_capital, \n",
    "                           \n",
    "                           locations='BARRIO',\n",
    "                           \n",
    "                           color='PERIMETRO',\n",
    "                           \n",
    "                           mapbox_style=\"carto-positron\",\n",
    "                           center = {\"lat\": -34.6, \"lon\": -58.35}, \n",
    "                           opacity=0.5, zoom= 10, height=500)\n",
    "fig.show()"
   ]
  },
  {
   "cell_type": "markdown",
   "metadata": {},
   "source": [
    "## Ejemplo COVID"
   ]
  },
  {
   "cell_type": "code",
   "execution_count": null,
   "metadata": {
    "scrolled": false
   },
   "outputs": [],
   "source": [
    "df_barrios_1w=pd.read_csv('covid_barrios.csv',index_col=0)\n",
    "df_barrios_1w"
   ]
  },
  {
   "cell_type": "code",
   "execution_count": null,
   "metadata": {},
   "outputs": [],
   "source": [
    "df_barrios_1w.groupby('BARRIO').sum()"
   ]
  },
  {
   "cell_type": "code",
   "execution_count": null,
   "metadata": {},
   "outputs": [],
   "source": [
    "polys.head()"
   ]
  },
  {
   "cell_type": "code",
   "execution_count": null,
   "metadata": {},
   "outputs": [],
   "source": [
    "df_covid=pd.merge(polys,df_barrios_1w.groupby('BARRIO').sum(),on='BARRIO')\n",
    "df_covid"
   ]
  },
  {
   "cell_type": "code",
   "execution_count": null,
   "metadata": {},
   "outputs": [],
   "source": [
    "fig = px.choropleth_mapbox(df_covid,\n",
    "                           \n",
    "                           geojson=geojson_capital, \n",
    "                           \n",
    "                           locations='BARRIO',\n",
    "                           \n",
    "                           color='clasificacion',\n",
    "                           \n",
    "                           mapbox_style=\"carto-positron\",\n",
    "                           center = {\"lat\": -34.6, \"lon\": -58.35}, \n",
    "                           opacity=0.5, zoom= 10, height=500)\n",
    "fig.show()"
   ]
  },
  {
   "cell_type": "markdown",
   "metadata": {},
   "source": [
    "## Animacion"
   ]
  },
  {
   "cell_type": "code",
   "execution_count": null,
   "metadata": {},
   "outputs": [],
   "source": [
    "# voy a armar una columna de strings con el tiempo, por que la animacion de plotly no acepta la columna de datetime\n",
    "\n",
    "df_barrios_1w['dt']=df_barrios_1w.index"
   ]
  },
  {
   "cell_type": "code",
   "execution_count": null,
   "metadata": {},
   "outputs": [],
   "source": [
    "fig = px.choropleth_mapbox(df_barrios_1w,geojson=geojson_capital, \n",
    "                           locations='BARRIO', color='clasificacion' ,\n",
    "                           mapbox_style=\"white-bg\",\n",
    "                           center = {\"lat\": -34.6, \"lon\": -58.35},  \n",
    "                           opacity=0.5, zoom= 10, height=800 ,width=800, \n",
    "                           color_continuous_scale=\"Viridis\"\n",
    "                           ,animation_frame='dt',range_color=(0,1000)\n",
    "                        )"
   ]
  },
  {
   "cell_type": "code",
   "execution_count": null,
   "metadata": {},
   "outputs": [],
   "source": [
    "fig.show()"
   ]
  },
  {
   "cell_type": "markdown",
   "metadata": {},
   "source": [
    "# Timestamps\n",
    "\n",
    "https://colab.research.google.com/drive/1LlltLti_WvzaXhJwvML9HHmDD3OWc6al?usp=sharing\n"
   ]
  },
  {
   "cell_type": "markdown",
   "metadata": {
    "slideshow": {
     "slide_type": "slide"
    }
   },
   "source": [
    "\n",
    "### Bokeh\n",
    "\n",
    "---\n",
    "\n",
    "<div>\n",
    "    <div class = \"mapa\">\n",
    "        <img src='https://raw.githubusercontent.com/Digital-House-DATA/ds_blend_2021_img/master/M2/CLASE_13_Visualizacion_2/Presentacion/img/M2_CLASE_13_bokeh_001.png' alt=\"logo bokeh\" width=50% height=70% align=\"center\">\n",
    "    </div>\n",
    "</div>\n",
    "\n",
    "\n",
    "**Bokeh**, del japonés ぼけ (boke), significa 'desenfoque'. De un modo más gráfico y práctico se puede entender como la clásica imagen en la que el elemento principal es lo único que aparece enfocado y el resto de los elementos \"desaparecen\", totalmente desenfocados.\n",
    "\n",
    "Para entender *Bokeh*, podemos compararlo con *Matplotlib*, ya que ambos generan gráficos, pero tienen un uso bastante diferente. Matplotlib crea gráficos estáticos útiles para una rápida y simple visualización. Bokeh crea visualizaciones para mostrar en la web, y son altamente interactivas. \n",
    "\n",
    "**Bokeh** entonces es una librería de visualización interactiva. Proporciona una construcción concisa de gráficos en forma versátil, ofreciendo interactividad de alto rendimiento sobre grandes volúmenes de datos o streaming. "
   ]
  },
  {
   "cell_type": "markdown",
   "metadata": {
    "slideshow": {
     "slide_type": "slide"
    }
   },
   "source": [
    "### Bokeh.plotting\n",
    "\n",
    "---\n",
    "\n",
    "`bokeh.plotting` provee los elementos para crear los gráficos interactivos. Para usarlo adecuadamente, conviene seguir unos pasos básicos.\n",
    "\n",
    "1. Preparar el *dataset*. Una simple lista, tipos de datos de Numpy y Pandas.\n",
    "\n",
    "2. Informar *donde* se genera la salida del gráfico.\n",
    "Se usa generalmente las funciones: `output_file`: genera archivos html para las visualizaciones Bokeh.  `output_notebook`: las muestra como celdas de jupyter notebooks. Se debe realizar solo una vez salvo que se quiere modificar posteriormente la salida.\n",
    "\n",
    "3. Llamar a la función `figure()`. Similar a Matplotlib, es el contenedor donde se definen el estilo general, los títulos, grillas, labels de los ejes y además los **tools** (la barra con los botones para actuar en forma interactiva).\n",
    "\n",
    "4. Agregar los **Glyphs** (glifos). El término *glyph* en Bokeh se refiere a los puntos, líneas, áreas y otras figuras geométricas que representan a los datos.\n",
    "\n",
    "    Estos dos últimos pasos los podemos repetir para mostrar varios gráficos juntos.\n",
    "\n",
    "5. Informar a Bokeh como mostramos los resultados. `show()` muestra en el browser el gráfico. `save()` lo graba en el file definido anteriormente."
   ]
  },
  {
   "cell_type": "markdown",
   "metadata": {
    "slideshow": {
     "slide_type": "slide"
    }
   },
   "source": [
    "### Ejemplo\n",
    "\n",
    "---"
   ]
  },
  {
   "cell_type": "code",
   "execution_count": null,
   "metadata": {
    "slideshow": {
     "slide_type": "fragment"
    }
   },
   "outputs": [],
   "source": [
    "from bokeh.plotting import figure, output_notebook, show\n",
    "from bokeh.io import output_notebook\n",
    "from bokeh.resources import INLINE\n",
    "\n",
    "# Dataset\n",
    "circle_x = [1, 2.5, 3, 2]; circle_y = [2, 3, 1, 1.5]\n",
    "triangle_x = [1, 3, 2]; triangle_y = [3, 1, 1.5]\n",
    "\n",
    "# Salida del gráfico\n",
    "output_notebook(INLINE)\n",
    "\n",
    "# Figure\n",
    "p = figure(plot_width=700, plot_height=350, tools=\"pan,reset,save\")\n",
    "\n",
    "# Glyphs\n",
    "p.triangle(x=triangle_x, y=triangle_y, color='red', size=20)\n",
    "p.circle(x=circle_x, y=circle_y, radius=0.3, alpha=0.5)\n",
    "\n",
    "show(p) # Mostrar los resultados"
   ]
  },
  {
   "cell_type": "markdown",
   "metadata": {
    "slideshow": {
     "slide_type": "slide"
    }
   },
   "source": [
    "### Datasets\n",
    "\n",
    "---\n",
    "\n",
    "Bokeh ofrece datasets de ejemplo, que se pueden bajar en C:\\Users\\xxxxx\\.bokeh\\data (Windows):\n",
    "\n",
    "<code>import bokeh.sampledata\n",
    "bokeh.sampledata.download()</code>\n",
    "\n",
    "También se puede importar:"
   ]
  },
  {
   "cell_type": "code",
   "execution_count": null,
   "metadata": {
    "slideshow": {
     "slide_type": "fragment"
    }
   },
   "outputs": [],
   "source": [
    "from bokeh.sampledata.gapminder import fertility, life_expectancy, population, regions\n",
    "\n",
    "anios = ['1970','1980','1990','2000','2010']\n",
    "\n",
    "s_argentina = life_expectancy.loc['Argentina',anios]\n",
    "s_zambia = life_expectancy.loc['Zambia',anios]\n",
    "s_suecia = life_expectancy.loc['Sweden',anios]\n",
    "s_china = life_expectancy.loc['China',anios]\n",
    "s_usa = life_expectancy.loc['United States',anios]\n",
    "\n",
    "life_expectancy.sample(2)"
   ]
  },
  {
   "cell_type": "markdown",
   "metadata": {
    "slideshow": {
     "slide_type": "slide"
    }
   },
   "source": [
    "### Figure\n",
    "\n",
    "---\n",
    "En este ejemplo, en `Figure` agregamos el título, etiquetas de los ejes, el tamaño del gráfico.\n",
    "\n",
    "Además con el parámetro `tools` se describen las acciones interactivas permitidas. Se agrupan por:\n",
    "\n",
    "- *drag tools* (arrastrando el mouse). Por ejemplo, `box_select` (un rectángulo);  (selecciona rectángulo donde hacer zoom); `lasso_select` (con un lazo), `pan` (genera una panorámica, sosteniendo el click y moviendo el mouse).\n",
    "\n",
    "- *click tools* (con un click). `tap` (selecciona un punto), entre otros.\n",
    "\n",
    "- *scroll tools* (scrolling). `wheel_zoom` (zoom con la ruedita del mouse),`box_zoom`.\n",
    "\n",
    "- Acciones. `reset` (vuelve a los valores originales);  `save` (graba el gráfico como un archivo PNG)\n",
    "\n",
    "https://docs.bokeh.org/en/latest/docs/reference/plotting.html?highlight=figure#bokeh.plotting.figure.Figure"
   ]
  },
  {
   "cell_type": "markdown",
   "metadata": {
    "slideshow": {
     "slide_type": "slide"
    }
   },
   "source": [
    "### Figure\n",
    "\n",
    "---"
   ]
  },
  {
   "cell_type": "code",
   "execution_count": null,
   "metadata": {
    "slideshow": {
     "slide_type": "fragment"
    }
   },
   "outputs": [],
   "source": [
    "# Dataset\n",
    "anios = ['1970','1980','1990','2000','2010']\n",
    "\n",
    "output_notebook(INLINE)\n",
    "\n",
    "# Figure\n",
    "fig = figure(title=\"Expectativa de vida\", x_axis_label='Años',y_axis_label='Años de vida',\n",
    "             tools=\"box_select,box_zoom,lasso_select,tap,wheel_zoom,pan,reset,save\",\n",
    "             toolbar_location=\"above\", plot_width=400, plot_height=250)\n",
    "\n",
    "# Tres Glyphs.\n",
    "fig.circle(x=anios, y=s_argentina, color='red', size=4)\n",
    "fig.triangle(x=anios, y=s_suecia, color='aquamarine', size=8)\n",
    "fig.circle_x(x=anios, y=s_zambia, size=10, alpha=0.5)\n",
    "show(fig) # Mostrar los resultados"
   ]
  },
  {
   "cell_type": "markdown",
   "metadata": {
    "slideshow": {
     "slide_type": "slide"
    }
   },
   "source": [
    "### Palette\n",
    "\n",
    "---\n",
    "Bokeh provee una colección de paletas predefinidas que podemos ver en \n",
    "\n",
    "https://docs.bokeh.org/en/latest/docs/reference/palettes.html\n",
    "\n",
    "Useremos colores de **Set2** para colorear las barras del siguiente gráfico. Observar que tenemos que informar cuantos colores vamos a usar. En este ejemplo, son cinco."
   ]
  },
  {
   "cell_type": "code",
   "execution_count": null,
   "metadata": {
    "slideshow": {
     "slide_type": "fragment"
    }
   },
   "outputs": [],
   "source": [
    "from bokeh.palettes import Set2\n",
    "colors = Set2[5]"
   ]
  },
  {
   "cell_type": "code",
   "execution_count": null,
   "metadata": {
    "slideshow": {
     "slide_type": "fragment"
    }
   },
   "outputs": [],
   "source": [
    "colors[1]"
   ]
  },
  {
   "cell_type": "markdown",
   "metadata": {
    "slideshow": {
     "slide_type": "slide"
    }
   },
   "source": [
    "### Barras\n",
    "\n",
    "---\n",
    "Se grafican tanto barras verticales, como horizontales. Y también barras apiladas.\n",
    "\n",
    "Para las barras verticales `vbar()` necesitamos el rango de valores para el eje x `x=`, los valores del eje y que se indican con `top=`. También se puede agregar un valor `bottom=`. El proceso es similar para las barras horizontales.\n",
    "\n",
    "En el proximo ejemplo vamos a generar barras de varias variables. Como en Matplotlib, luego de definir la primera barra, las siguientes deben tener un offset para que no se superpongan.\n",
    "\n",
    "Para que la leyenda con los nombres de los países quede afuera del gráfico, usamos el método `p.add_layout`.\n",
    "\n",
    "Nota: se debe agregar en la función `Figure`, el parámetro *x_range=anios* para que admita valores categóricos en el eje x."
   ]
  },
  {
   "cell_type": "code",
   "execution_count": null,
   "metadata": {
    "slideshow": {
     "slide_type": "slide"
    }
   },
   "outputs": [],
   "source": [
    "import numpy as np\n",
    "from bokeh.models import Legend\n",
    "\n",
    "p = figure(x_range=anios, plot_width=600, plot_height=230\n",
    "           , title='Comparacion de paises', x_axis_label='Años',y_axis_label='Años de vida')\n",
    "\n",
    "r0 = p.vbar(x=anios, top=s_zambia, width=0.1, bottom=0, color=colors[0])\n",
    "offsets = [0.1, 0.1, 0.1, 0.1, 0.1]\n",
    "anios_off = list(zip(anios, offsets))\n",
    "r1 = p.vbar(x=anios_off, top=s_suecia, width=0.1, bottom=0, color=colors[1])\n",
    "anios_off = list(zip(anios, np.array(offsets)*2))\n",
    "r2 = p.vbar(x=anios_off, top=s_argentina, width=0.1, bottom=0, color=colors[2])\n",
    "anios_off = list(zip(anios, np.array(offsets)*3))\n",
    "r3 = p.vbar(x=anios_off, top=s_usa, width=0.1, bottom=0, color=colors[3])\n",
    "anios_off = list(zip(anios, np.array(offsets)*4))\n",
    "r4 = p.vbar(x=anios_off, top=s_china, width=0.1, bottom=0, color=colors[4])\n",
    "\n",
    "legend = Legend(items=[(\"Zambia\", [r0]), (\"Suecia\", [r1]), (\"Argentina\", [r2]),\n",
    "    (\"USA\", [r3]), (\"China\", [r4])], location=\"center\")\n",
    "\n",
    "p.add_layout(legend, 'right')\n",
    "show(p)"
   ]
  },
  {
   "cell_type": "markdown",
   "metadata": {
    "slideshow": {
     "slide_type": "slide"
    }
   },
   "source": [
    "### Areas\n",
    "\n",
    "---\n",
    "Las áreas se grafican pintando la región entre dos series que compartan un eje x o índice común.\n",
    "\n",
    "En el ejemplo, dibujamos el área bajo la curva de los Estados Unidos."
   ]
  },
  {
   "cell_type": "code",
   "execution_count": null,
   "metadata": {
    "slideshow": {
     "slide_type": "fragment"
    }
   },
   "outputs": [],
   "source": [
    "output_notebook(INLINE)\n",
    "\n",
    "# Figure\n",
    "fig = figure(title = \"Expectativa de vida\", x_axis_label = 'Años', y_axis_label = 'Años de vida',\n",
    "             tools = \"pan,reset,save,wheel_zoom\", toolbar_location = \"below\",\n",
    "             x_range = anios, plot_width = 400, plot_height = 250)\n",
    "# Area\n",
    "fig.varea(x = anios, y1 = 0, y2 = s_usa , fill_color = 'blueviolet', alpha = 0.3);\n",
    "\n",
    "show(fig)\n"
   ]
  },
  {
   "cell_type": "markdown",
   "metadata": {
    "slideshow": {
     "slide_type": "slide"
    }
   },
   "source": [
    "### Rectángulos, elipses y polígonos\n",
    "\n",
    "---\n",
    "Se pueden graficar rectángulos, elipses y polígonos con Bokeh.\n",
    "\n",
    "`rect()` y `square()` generan rectángulos y cuadrados basado en las coordenadas del centro de la figura. Las dimensiones, `rect()` las define con el ancho y largo y `square()` con el parámetro `size`.\n",
    "\n",
    "`ellipse()` crea glyphs con las coordenadas x, y, y el ancho y el largo."
   ]
  },
  {
   "cell_type": "code",
   "execution_count": null,
   "metadata": {
    "slideshow": {
     "slide_type": "fragment"
    }
   },
   "outputs": [],
   "source": [
    "# Salida del gráfico\n",
    "output_notebook(INLINE)\n",
    "# Figure\n",
    "fig = figure(plot_width=300, plot_height=150)\n",
    "# Glyphs\n",
    "fig.rect(x=10,y=10,width=100, height=50, color='green',width_units='screen', height_units='screen')\n",
    "fig.square(x=2,y=3,size=80, color='red')\n",
    "fig.ellipse(x=7,y=6, width=30, height=10, fill_color=None, line_width=2)\n",
    "fig.ellipse(x=15,y=6,width=2, height=1, angle=-0.4)\n",
    "show(fig)"
   ]
  },
  {
   "cell_type": "markdown",
   "metadata": {
    "slideshow": {
     "slide_type": "slide"
    }
   },
   "source": [
    "### ColumnDataSource - Gridplot\n",
    "\n",
    "---\n",
    "**`ColumnDataSource`** es muy usado en los gráficos de Bokeh; permite fácilmente compartir datos entre múltiples gráficos. \n",
    "\n",
    "Cuando se utiliza el mismo objeto `ColumnDataSource` como *origen de datos* de múltiples gráficos, la selección del origen de datos también se comparte. Es decir, que con una herramienta de selección aplicada en un gráfico, se reflejan los puntos seleccionados en los otros gráficos.\n",
    "\n",
    "**`gridplot`** crea una grilla de plots, y construye una *única toolbar* compartida entre todos los plots de la grilla.\n",
    "\n",
    "\n",
    "Observar que cada gráfico debe tener su `Figure` y su glyph; luego se unen con `gridplot`."
   ]
  },
  {
   "cell_type": "code",
   "execution_count": null,
   "metadata": {
    "slideshow": {
     "slide_type": "fragment"
    }
   },
   "outputs": [],
   "source": [
    "from bokeh.models import ColumnDataSource\n",
    "from bokeh.layouts import gridplot\n",
    "# datos de autos\n",
    "from bokeh.sampledata.autompg import autompg as data_cars"
   ]
  },
  {
   "cell_type": "code",
   "execution_count": null,
   "metadata": {
    "slideshow": {
     "slide_type": "slide"
    }
   },
   "outputs": [],
   "source": [
    "data_bokeh = ColumnDataSource(data_cars)\n",
    "options = {'plot_width': 300,'plot_height': 150,'tools': 'pan, box_select, lasso_select, reset'}\n",
    "\n",
    "p1 = figure(title=\"MPG por Año\", x_axis_label = \"MPG\", y_axis_label = \"Año\", **options)\n",
    "p1.circle(\"yr\", \"mpg\", color = \"blue\", source = data_bokeh)\n",
    "\n",
    "p2 = figure(title=\"HP vs. Desplazamiento\", x_axis_label = \"HP\",y_axis_label = \"Desp\", **options)\n",
    "p2.cross(\"hp\", \"displ\", color = \"green\", source = data_bokeh)\n",
    "\n",
    "p3 = figure(title=\"MPG vs. Desplazamiento\", x_axis_label = \"MPG\", y_axis_label = \"Desp\", **options)\n",
    "p3.diamond(\"mpg\", \"displ\", size = \"cyl\", line_color=\"red\", fill_color = None\n",
    "           , source = data_bokeh)\n",
    "\n",
    "p4 = figure(title=\"Aceleración vs. Desplazamiento\", x_axis_label = \"Aceleración\", y_axis_label = \"Desp\",  **options)\n",
    "p4.triangle(\"accel\", \"displ\", color = \"yellow\", source = data_bokeh)\n",
    "\n",
    "p = gridplot([[p1, p2], [p3, p4]] , toolbar_location=\"right\")\n",
    "show(p)"
   ]
  },
  {
   "cell_type": "markdown",
   "metadata": {
    "slideshow": {
     "slide_type": "slide"
    }
   },
   "source": [
    "### HoverTool\n",
    "\n",
    "---\n",
    "Es una herramienta de inspección pasiva, que permite asociar a cada dato que se visualiza en el gráfico, con una tabla de valores que lo complementa. En el próximo ejemplo, cuando pasemos el mouse por un círculo, veremos una tabla con las coordenadas de ese punto y una descripción.\n",
    "\n",
    "La función `Hovertool` nos permite crearlo. Podemos asociar un etiqueta a cada dato:\n",
    "\n",
    "`hover = HoverTool(tooltips=[(\"index\", \"$index\"), (\"(x,y)\", \"($x, $y)\"),(\"desc\", \"@desc\")])`\n",
    "\n",
    "Las etiquetas y los valores se asignan en una lista de tuplas *(etiqueta, valor)*.\n",
    "\n",
    "1. Los nombres de campo que comienzan con **'$'** son \"campos especiales\". A menudo son valores intrínsecos del gráfico, como las coordenadas del mouse en pantalla. Ejemplos:\n",
    "\n",
    "    - `$index`: indíce del punto seleccionado en el dataset. Un ID.\n",
    "    - `$x`: coordenada x del cursor en el espacio de datos\n",
    "    - `$y`: coordenada y del cursor en el espacio de datos\n",
    "\n",
    "2. Los nombres de campo que comienzan con **'@'** están asociados con columnas definidas en `ColumnDataSource`. "
   ]
  },
  {
   "cell_type": "code",
   "execution_count": null,
   "metadata": {
    "slideshow": {
     "slide_type": "slide"
    }
   },
   "outputs": [],
   "source": [
    "from bokeh.plotting import ColumnDataSource, figure, output_file, show\n",
    "from bokeh.models import HoverTool\n",
    "output_notebook(INLINE)\n",
    "\n",
    "# Dataset\n",
    "source = ColumnDataSource(data=dict(\n",
    "    x=[1, 2, 3, 4, 5],\n",
    "    y=[2, 5, 8, 2, 7],\n",
    "    desc=['A', 'b', 'C', 'd', 'E'],\n",
    "))\n",
    "# Figure\n",
    "p = figure(plot_width=400, plot_height=200, tools = ['pan', 'box_zoom', 'reset'],title=\"Mouse over the dots\")\n",
    "p.circle('x', 'y', size=20, source=source,hover_color=\"pink\", hover_alpha=0.6)\n",
    "\n",
    "# Tooltips indica que valores muestra al pasar el mouse por los puntos\n",
    "hover = HoverTool(tooltips=[(\"index\", \"$index\"), (\"(x,y)\", \"($x, $y)\"),(\"desc\", \"@desc\")])\n",
    "p.add_tools(hover)\n",
    "show(p)"
   ]
  },
  {
   "cell_type": "markdown",
   "metadata": {
    "slideshow": {
     "slide_type": "slide"
    }
   },
   "source": [
    "### Archivos HTML\n",
    "\n",
    "---\n",
    "Bokeh también permite guardar plots en archivos HTML. Para eso usamos la función `output_file` y `save`, en lugar de `output_notebook()` y `show`.\n",
    "\n",
    "También podemos usar la combinación `output_file` y `show` que abre en una nueva pestaña el gráfico guardado.\n",
    "\n",
    "Guardemos el último gráfico generado, que está asignado a la variable `p` "
   ]
  },
  {
   "cell_type": "code",
   "execution_count": null,
   "metadata": {
    "slideshow": {
     "slide_type": "fragment"
    }
   },
   "outputs": [],
   "source": [
    "from bokeh.plotting import output_file, save\n",
    "output_file(\"test_save_plot.html\", mode='inline')\n",
    "save(p);"
   ]
  },
  {
   "cell_type": "markdown",
   "metadata": {
    "slideshow": {
     "slide_type": "fragment"
    }
   },
   "source": [
    "Para resetear los settings de output usamos `reset_output`"
   ]
  },
  {
   "cell_type": "code",
   "execution_count": null,
   "metadata": {
    "slideshow": {
     "slide_type": "fragment"
    }
   },
   "outputs": [],
   "source": [
    "from bokeh.plotting import reset_output\n",
    "reset_output()"
   ]
  },
  {
   "cell_type": "markdown",
   "metadata": {
    "slideshow": {
     "slide_type": "slide"
    }
   },
   "source": [
    "<div class=\"div-dhds-fondo-1\"> Hands-on\n",
    "<img src=\"https://raw.githubusercontent.com/Digital-House-DATA/ds_blend_2021_img/master/M1/CLASE_05_Pandas1/Presentacion/img/M1_CLASE_05_separador.png\" align=\"center\"></img>    \n",
    "</div>"
   ]
  },
  {
   "cell_type": "markdown",
   "metadata": {
    "slideshow": {
     "slide_type": "slide"
    }
   },
   "source": [
    "### Bokeh\n",
    "\n",
    "A partir de los datos de los autos que vimos anteriormente, generar un gráfico de barras `vbar` que muestre la cantidad de autos por año.\n",
    "\n",
    "Las barras deben medir 0.1 y tienen que tener el color rojo.\n",
    "\n",
    "Ayuda: \n",
    "- se debe usar groupby.\n",
    "`df_autos_anio = data_cars.groupby(\"xxx\")[\"yyy\"].count()`\n",
    "\n",
    "- df_autos_anio es una Pandas Serie, no un DataFrame."
   ]
  },
  {
   "cell_type": "code",
   "execution_count": null,
   "metadata": {
    "slideshow": {
     "slide_type": "fragment"
    }
   },
   "outputs": [],
   "source": [
    "# datos de autos\n",
    "from bokeh.sampledata.autompg import autompg as data_cars\n",
    "data_cars.sample(3)"
   ]
  },
  {
   "cell_type": "code",
   "execution_count": null,
   "metadata": {
    "slideshow": {
     "slide_type": "fragment"
    }
   },
   "outputs": [],
   "source": []
  },
  {
   "cell_type": "markdown",
   "metadata": {
    "slideshow": {
     "slide_type": "slide"
    }
   },
   "source": [
    "### Plotly\n",
    "\n",
    "Hacer el ejercicio anterior con Plotly.\n",
    "\n",
    "A partir de los datos de los autos que vimos anteriormente, generar un gráfico de barras que muestre la cantidad de autos por año.\n",
    "\n",
    "Las barras deben medir 0.1 y tienen que tener el color rojo.\n",
    "\n",
    "Ayuda: \n",
    "- se debe usar groupby.\n",
    "`df_autos_anio = data_cars.groupby(\"xxx\")[\"yyy\"].count()`\n",
    "\n",
    "- df_autos_anio es una Pandas Serie, no un DataFrame."
   ]
  },
  {
   "cell_type": "code",
   "execution_count": null,
   "metadata": {
    "slideshow": {
     "slide_type": "fragment"
    }
   },
   "outputs": [],
   "source": []
  },
  {
   "cell_type": "markdown",
   "metadata": {
    "slideshow": {
     "slide_type": "slide"
    }
   },
   "source": [
    "### Solución\n",
    "\n",
    "----"
   ]
  },
  {
   "cell_type": "markdown",
   "metadata": {
    "slideshow": {
     "slide_type": "slide"
    }
   },
   "source": [
    "### Bokeh\n",
    "\n",
    "A partir de los datos de los autos que vimos anteriormente, generar un gráfico de barras `vbar` que muestre la cantidad de autos por año.\n",
    "\n",
    "Las barras deben medir 0.1 y tienen que tener el color rojo.\n",
    "\n",
    "Ayuda: \n",
    "- se debe usar groupby.\n",
    "`df_autos_anio = data_cars.groupby(\"xxx\")[\"yyy\"].count()`\n",
    "\n",
    "- df_autos_anio es una Pandas Serie, no un DataFrame."
   ]
  },
  {
   "cell_type": "code",
   "execution_count": null,
   "metadata": {
    "slideshow": {
     "slide_type": "fragment"
    }
   },
   "outputs": [],
   "source": [
    "# datos de autos\n",
    "from bokeh.sampledata.autompg import autompg as data_cars\n",
    "data_cars.sample(3)"
   ]
  },
  {
   "cell_type": "code",
   "execution_count": null,
   "metadata": {
    "slideshow": {
     "slide_type": "slide"
    }
   },
   "outputs": [],
   "source": [
    "df_autos_anio = data_cars.groupby(\"yr\")[\"name\"].count()\n",
    "type(df_autos_anio)"
   ]
  },
  {
   "cell_type": "code",
   "execution_count": null,
   "metadata": {
    "slideshow": {
     "slide_type": "fragment"
    }
   },
   "outputs": [],
   "source": [
    "df_autos_anio.head(3)"
   ]
  },
  {
   "cell_type": "code",
   "execution_count": null,
   "metadata": {
    "slideshow": {
     "slide_type": "fragment"
    }
   },
   "outputs": [],
   "source": [
    "df_autos_anio.index"
   ]
  },
  {
   "cell_type": "code",
   "execution_count": null,
   "metadata": {
    "slideshow": {
     "slide_type": "slide"
    }
   },
   "outputs": [],
   "source": [
    "output_notebook(INLINE)\n",
    "\n",
    "options = {'plot_width': 500,'plot_height': 300,'tools': 'pan, box_select, lasso_select, reset'}\n",
    "p = figure(title=\"Autos por Año\", x_axis_label = \"Años\", y_axis_label = \"Total Autos\", **options)\n",
    "\n",
    "p.vbar(x=df_autos_anio.index, top=df_autos_anio, color = \"red\",width=0.1)\n",
    "show(p)"
   ]
  },
  {
   "cell_type": "markdown",
   "metadata": {
    "slideshow": {
     "slide_type": "slide"
    }
   },
   "source": [
    "### Plotly\n",
    "\n",
    "Hacer el ejercicio anterior con Plotly.\n",
    "\n",
    "A partir de los datos de los autos que vimos anteriormente, generar un gráfico de barras que muestre la cantidad de autos por año.\n",
    "\n",
    "Las barras deben medir 0.1 y tienen que tener el color rojo.\n",
    "\n",
    "Ayuda: \n",
    "- se debe usar groupby.\n",
    "`df_autos_anio = data_cars.groupby(\"xxx\")[\"yyy\"].count()`\n",
    "\n",
    "- df_autos_anio es una Pandas Serie, no un DataFrame."
   ]
  },
  {
   "cell_type": "code",
   "execution_count": null,
   "metadata": {
    "slideshow": {
     "slide_type": "fragment"
    }
   },
   "outputs": [],
   "source": [
    "df_autos_anio.head(3)"
   ]
  },
  {
   "cell_type": "code",
   "execution_count": null,
   "metadata": {
    "slideshow": {
     "slide_type": "slide"
    }
   },
   "outputs": [],
   "source": [
    "fig = px.bar(x=df_autos_anio.index, y=df_autos_anio, width=600, height=400)\n",
    "\n",
    "fig.update_layout(\n",
    "    title='Autos por Año',\n",
    "    xaxis_tickfont_size=10,\n",
    "    xaxis=dict(title='Años',titlefont_size=14,tickfont_size=10),\n",
    "    yaxis=dict(title='Total Autos',titlefont_size=14,tickfont_size=10))\n",
    "\n",
    "fig.update_traces(marker_color='red',  width=0.1)\n",
    "\n",
    "fig.show()"
   ]
  },
  {
   "cell_type": "markdown",
   "metadata": {
    "slideshow": {
     "slide_type": "slide"
    }
   },
   "source": [
    "<div class=\"div-dhds-fondo-1\"> Referencias y Material Adicional\n",
    "<img src=\"https://raw.githubusercontent.com/Digital-House-DATA/ds_blend_2021_img/master/M1/CLASE_05_Pandas1/Presentacion/img/M1_CLASE_05_separador.png\" align=\"center\"></img>    \n",
    "</div>"
   ]
  },
  {
   "cell_type": "markdown",
   "metadata": {
    "slideshow": {
     "slide_type": "slide"
    }
   },
   "source": [
    "### Referencias y Material Adicional\n",
    "\n",
    "---\n",
    "\n",
    "<a href=\"https://bokeh.org/\" target=\"_blank\" >Bokeh Presentación</a>\n",
    "\n",
    "\n",
    "<a href=\"https://www.tutorialspoint.com/bokeh/bokeh_tutorial.pdf\" target=\"_blank\" >Bokeh Tutorial</a>\n",
    "\n",
    "<a href=\"https://docs.bokeh.org/en/latest/index.html#\" target=\"_blank\" >Bokeh Documentacion</a>\n",
    "\n",
    "<a href=\"https://programminghistorian.org/en/lessons/visualizing-with-bokeh\" target=\"_blank\" >VisualiBokeh Documentacion</a>\n",
    "\n",
    "<a href=\"https://pypi.org/project/plotly/\" target=\"_blank\" >Plotly Documentacion</a>\n",
    "\n",
    "<a href=\"https://plotly.com/python/\" target=\"_blank\" >Plotly Python Open Source Graphing Library</a>\n",
    "\n",
    "<a href=\"https://towardsdatascience.com/visualization-with-plotly-express-comprehensive-guide-eb5ee4b50b57\" target=\"_blank\" >Visualization with plotly express comprehensive guide</a>"
   ]
  }
 ],
 "metadata": {
  "kernelspec": {
   "display_name": "Python 3 (ipykernel)",
   "language": "python",
   "name": "python3"
  },
  "language_info": {
   "codemirror_mode": {
    "name": "ipython",
    "version": 3
   },
   "file_extension": ".py",
   "mimetype": "text/x-python",
   "name": "python",
   "nbconvert_exporter": "python",
   "pygments_lexer": "ipython3",
   "version": "3.9.7"
  }
 },
 "nbformat": 4,
 "nbformat_minor": 4
}
