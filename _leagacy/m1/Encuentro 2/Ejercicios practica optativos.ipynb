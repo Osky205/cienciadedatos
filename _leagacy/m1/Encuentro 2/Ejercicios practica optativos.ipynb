{
 "cells": [
  {
   "cell_type": "markdown",
   "id": "Gq0HslEHCsd0",
   "metadata": {
    "id": "Gq0HslEHCsd0"
   },
   "source": [
    "## Ejercitación de práctica optativos\n"
   ]
  },
  {
   "cell_type": "markdown",
   "id": "s6RSVukRfyaE",
   "metadata": {
    "id": "s6RSVukRfyaE"
   },
   "source": [
    "#### Tipos de datos\n",
    "\n",
    "1. Armar una lista con 6 ciudades\n",
    "\n",
    "2. Seleccionar la segunda ciudad\n",
    "\n",
    "3. Eliminar la última ciudad\n",
    "\n",
    "4. Reemplazar la primer ciudad con otra\n",
    "\n",
    "5. Agregar una ciudad al final\n",
    "\n",
    "6. Armar un diccionario que tenga 3 duplas de Provincia y Ciudad (ej: \"Provincia de Buenos Aires: La Plata\"\n",
    "\n",
    "7. Eliminar el último registro (dupla Ciudad-Provincia)\n",
    "\n",
    "8. Ver todas las claves (*keys*)\n",
    "\n"
   ]
  },
  {
   "cell_type": "markdown",
   "id": "QlLQYRzggjc0",
   "metadata": {
    "id": "QlLQYRzggjc0"
   },
   "source": [
    "#### Estructuras de Control\n",
    "\n",
    "1. Como en una playa, crear una estructura condicional donde si la bandera es igual a \"roja\", imprima \"prohibición de baño\", si es \"roja con negro\", imprima \"mar peligroso; si es \"amarilla con negro\", imprima \"mar dudoso\" y si es \"celeste\" imprima \"mar calmo\"\n",
    "\n",
    "2. Crear una estructura condicional que indique que si la bandera es \"roja\" **o** \"llueve\", imprima \"no puedo entrar al mar\"\n",
    "\n",
    "3. Crear una estructura condicional que indique que si \"no llueve\" **y** la bandera es \"celeste\" imprima \"puedo entrar al mar\"\n",
    "\n",
    "4. Crear una estructura de iteración donde cuente la cantidad de ciudades en la lista creada anteriormente\n",
    "\n",
    "5. Crear una lista de números y crear una estructura de iteración donde se vayan multiplicando e imprima el resultado final\n",
    "\n",
    "6. Crear una función que reciba como argumento 2 números y los multiplique\n",
    "\n",
    "7. Crear una función que reciba como argumento una ciudad y devuelva su Provincia de acuerdo al diccionario definido previamente\n",
    "\n",
    "8. Crear una función que reciba el color de una bandera e imprima el significado (combinar función con estructura condicional)\n"
   ]
  },
  {
   "cell_type": "markdown",
   "id": "qWMmd47dZSGu",
   "metadata": {
    "id": "qWMmd47dZSGu"
   },
   "source": [
    "#### Exploración de dataset\n",
    "\n",
    "Para esta ejercitación utilizaremos un dataset extraído de https://data.buenosaires.gob.ar/dataset/murales\n",
    "\n",
    "Registro de murales relevados por la Comisión para la Preservación del Patrimonio Histórico Cultural de la Ciudad de Buenos Aires con la ubicación, artista, tamaño y nombre de la obra."
   ]
  },
  {
   "cell_type": "code",
   "execution_count": null,
   "id": "dependent-calendar",
   "metadata": {
    "id": "dependent-calendar"
   },
   "outputs": [],
   "source": [
    "#Importamos la librería que utilizaremos\n",
    "\n",
    "import pandas as pd"
   ]
  },
  {
   "cell_type": "code",
   "execution_count": null,
   "id": "ixmX9QM6ZrNK",
   "metadata": {
    "id": "ixmX9QM6ZrNK"
   },
   "outputs": [],
   "source": [
    "# Archivo desde Drive\n",
    "\n",
    "from google.colab import drive\n",
    "drive.mount('/content/drive')"
   ]
  },
  {
   "cell_type": "code",
   "execution_count": null,
   "id": "o0uJjKtsDfXu",
   "metadata": {
    "id": "o0uJjKtsDfXu"
   },
   "outputs": [],
   "source": [
    "# Archivo desde computadora\n",
    "\n",
    "from google.colab import files\n",
    "import io\n",
    "\n",
    "filesUploaded = files.upload()"
   ]
  },
  {
   "cell_type": "markdown",
   "id": "satisfactory-toronto",
   "metadata": {
    "id": "satisfactory-toronto"
   },
   "source": [
    "### Ejercicios pandas 1: exploración\n",
    "\n",
    "1. Definir el Dataframe con pd.read_csv. Ver los ulitmos 5 registros del dataset\n",
    "\n",
    "2. Ver una muestra aleatoria de 6 murales\n",
    "\n",
    "3. Ver los \"Autores\" posibles\n",
    "\n",
    "4. ¿Hay más de un mural con el mismo nombre? \n",
    "\n",
    "5. Modificar el nombre de la columna \"F_E\"\n",
    "\n",
    "6. Renombrar todas las columnas\n",
    "\n",
    "7. Eliminar la columna \"UBICACION\". ¿Cuál es el código para eliminar dos columnas a la vez?\n"
   ]
  },
  {
   "cell_type": "markdown",
   "id": "PaOdquIUsIPq",
   "metadata": {
    "id": "PaOdquIUsIPq"
   },
   "source": [
    "#### Ejericios pandas 2: filtrar y agrupar\n",
    "\n",
    "1. Hacer un filtro para seleccionar solo los murales realizados en el año 1939 / antes del año 1950\n",
    "\n",
    "2. Hacer un filtro para seleccionar solo los murales que Luis Seoane. ¿Cuántos murales realizó? \n",
    "\n",
    "3. De los murales de Luis Seoane ¿Cuál fue el primero?¿Y el úlitmo?\n",
    "\n",
    "4. Hacer un filtro para seleccionar los murales que NO son realizados con la Técnica \"MURAL CERAMICO\" \n",
    "\n",
    "5. Hacer una agrupación y crear un DataFrame que tenga cada uno de los autores y el año de su primer mural\n",
    "\n",
    "6. Hacer una agrupación y crear un DataFrame que tenga cada uno de los autores y el año de su último mural"
   ]
  }
 ],
 "metadata": {
  "colab": {
   "name": "Ejercicios practica optativos.ipynb",
   "provenance": []
  },
  "kernelspec": {
   "display_name": "Python 3 (ipykernel)",
   "language": "python",
   "name": "python3"
  },
  "language_info": {
   "codemirror_mode": {
    "name": "ipython",
    "version": 3
   },
   "file_extension": ".py",
   "mimetype": "text/x-python",
   "name": "python",
   "nbconvert_exporter": "python",
   "pygments_lexer": "ipython3",
   "version": "3.9.5"
  }
 },
 "nbformat": 4,
 "nbformat_minor": 5
}
