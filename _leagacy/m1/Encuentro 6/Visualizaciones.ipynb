{
 "cells": [
  {
   "cell_type": "markdown",
   "id": "neither-theorem",
   "metadata": {
    "id": "neither-theorem"
   },
   "source": [
    "## Gráficos\n",
    "\n",
    "En la clase de hoy haremos una introducción a la creación de gráficos con dos librerías: matplotlib y seaborn. La librería matplotlib está conformada por diversos módulos. De todos ellos nos interesa trabajar con pyplot, el cual contiene las funciones básicas para generar gráficos. \n",
    "\n",
    "#### Matplotlib y Seaborn.\n",
    " \n",
    "[Matplotlib](https://matplotlib.org/) es una de las principales librerías a la hora de graficar datos. Con esta se pueden realizar gráficos de barra, gráficos de línea, histogramas, gráficos de dispersión, mapas de calor, y otras visualizaciones. Incluso nos permite combinar diferentes tipos de visualización. Todo esto permitiendo editar los colores, fuentes, texto, etc. \n",
    " \n",
    "Por su parte [Seaborn](https://seaborn.pydata.org/) es una libreria que une lo mejor de Matplotlib y Pandas, permitiendo crear, de forma muy sencilla gráficos de Matplotlib partiendo del uso de Data Frames de Pandas. Seaborn también tiene una [hoja de trucos](https://s3.amazonaws.com/assets.datacamp.com/blog_assets/Python_Seaborn_Cheat_Sheet.pdf) muy útil. \n",
    " \n"
   ]
  },
  {
   "cell_type": "code",
   "execution_count": 2,
   "id": "collaborative-order",
   "metadata": {
    "executionInfo": {
     "elapsed": 1232,
     "status": "ok",
     "timestamp": 1646411332058,
     "user": {
      "displayName": "Valeria Bellino",
      "photoUrl": "https://lh3.googleusercontent.com/a/default-user=s64",
      "userId": "05918551666787590515"
     },
     "user_tz": 180
    },
    "id": "collaborative-order"
   },
   "outputs": [],
   "source": [
    "#importamos las librerias que utilizaremos\n",
    "import pandas as pd\n",
    "import matplotlib.pyplot as plt   # Solo importamos el módulo pyplot. se podría hacer \"from matplotlib import pyplot as plt\"\n",
    "import seaborn as sns"
   ]
  },
  {
   "cell_type": "markdown",
   "id": "FHj6Uaq7uHBY",
   "metadata": {
    "id": "FHj6Uaq7uHBY"
   },
   "source": [
    "La librería Seaborn permite cargar Dataset incluídos en ella. En este caso utilizaremos un dataset de exoplanetas que se han descubierto hasta 2014 extraído de https://exoplanets.nasa.gov/discovery/exoplanet-catalog/"
   ]
  },
  {
   "cell_type": "code",
   "execution_count": 6,
   "id": "vYcqlx9Mt3t9",
   "metadata": {
    "id": "vYcqlx9Mt3t9"
   },
   "outputs": [
    {
     "data": {
      "text/html": [
       "<div>\n",
       "<style scoped>\n",
       "    .dataframe tbody tr th:only-of-type {\n",
       "        vertical-align: middle;\n",
       "    }\n",
       "\n",
       "    .dataframe tbody tr th {\n",
       "        vertical-align: top;\n",
       "    }\n",
       "\n",
       "    .dataframe thead th {\n",
       "        text-align: right;\n",
       "    }\n",
       "</style>\n",
       "<table border=\"1\" class=\"dataframe\">\n",
       "  <thead>\n",
       "    <tr style=\"text-align: right;\">\n",
       "      <th></th>\n",
       "      <th>method</th>\n",
       "      <th>number</th>\n",
       "      <th>orbital_period</th>\n",
       "      <th>mass</th>\n",
       "      <th>distance</th>\n",
       "      <th>year</th>\n",
       "    </tr>\n",
       "  </thead>\n",
       "  <tbody>\n",
       "    <tr>\n",
       "      <th>614</th>\n",
       "      <td>Radial Velocity</td>\n",
       "      <td>1</td>\n",
       "      <td>3999.000000</td>\n",
       "      <td>1.9</td>\n",
       "      <td>50.45</td>\n",
       "      <td>2011</td>\n",
       "    </tr>\n",
       "    <tr>\n",
       "      <th>919</th>\n",
       "      <td>Microlensing</td>\n",
       "      <td>1</td>\n",
       "      <td>3300.000000</td>\n",
       "      <td>NaN</td>\n",
       "      <td>NaN</td>\n",
       "      <td>2006</td>\n",
       "    </tr>\n",
       "    <tr>\n",
       "      <th>351</th>\n",
       "      <td>Radial Velocity</td>\n",
       "      <td>1</td>\n",
       "      <td>6.276000</td>\n",
       "      <td>1.9</td>\n",
       "      <td>58.82</td>\n",
       "      <td>2001</td>\n",
       "    </tr>\n",
       "    <tr>\n",
       "      <th>426</th>\n",
       "      <td>Radial Velocity</td>\n",
       "      <td>1</td>\n",
       "      <td>443.400000</td>\n",
       "      <td>2.6</td>\n",
       "      <td>138.50</td>\n",
       "      <td>2011</td>\n",
       "    </tr>\n",
       "    <tr>\n",
       "      <th>787</th>\n",
       "      <td>Orbital Brightness Modulation</td>\n",
       "      <td>2</td>\n",
       "      <td>0.240104</td>\n",
       "      <td>NaN</td>\n",
       "      <td>1180.00</td>\n",
       "      <td>2011</td>\n",
       "    </tr>\n",
       "  </tbody>\n",
       "</table>\n",
       "</div>"
      ],
      "text/plain": [
       "                            method  number  orbital_period  mass  distance  \\\n",
       "614                Radial Velocity       1     3999.000000   1.9     50.45   \n",
       "919                   Microlensing       1     3300.000000   NaN       NaN   \n",
       "351                Radial Velocity       1        6.276000   1.9     58.82   \n",
       "426                Radial Velocity       1      443.400000   2.6    138.50   \n",
       "787  Orbital Brightness Modulation       2        0.240104   NaN   1180.00   \n",
       "\n",
       "     year  \n",
       "614  2011  \n",
       "919  2006  \n",
       "351  2001  \n",
       "426  2011  \n",
       "787  2011  "
      ]
     },
     "execution_count": 6,
     "metadata": {},
     "output_type": "execute_result"
    }
   ],
   "source": [
    "data_planets = sns.load_dataset('planets')\n",
    "data_planets.sample(5)\n"
   ]
  },
  {
   "cell_type": "code",
   "execution_count": 4,
   "id": "YeBQbCX2uRJh",
   "metadata": {
    "id": "YeBQbCX2uRJh"
   },
   "outputs": [
    {
     "name": "stdout",
     "output_type": "stream",
     "text": [
      "(1035, 6)\n"
     ]
    }
   ],
   "source": [
    "print(data_planets.shape)\n"
   ]
  },
  {
   "cell_type": "code",
   "execution_count": 7,
   "id": "7e5c0c33",
   "metadata": {},
   "outputs": [
    {
     "data": {
      "text/plain": [
       "0        7.10\n",
       "1        2.21\n",
       "2        2.60\n",
       "3       19.40\n",
       "4       10.50\n",
       "        ...  \n",
       "1030      NaN\n",
       "1031      NaN\n",
       "1032      NaN\n",
       "1033      NaN\n",
       "1034      NaN\n",
       "Name: mass, Length: 1035, dtype: float64"
      ]
     },
     "execution_count": 7,
     "metadata": {},
     "output_type": "execute_result"
    }
   ],
   "source": [
    "data_planets['mass']"
   ]
  },
  {
   "cell_type": "code",
   "execution_count": 8,
   "id": "8afd4139",
   "metadata": {
    "scrolled": true
   },
   "outputs": [
    {
     "data": {
      "text/plain": [
       "0        7.10\n",
       "1        2.21\n",
       "2        2.60\n",
       "3       19.40\n",
       "4       10.50\n",
       "        ...  \n",
       "1030      NaN\n",
       "1031      NaN\n",
       "1032      NaN\n",
       "1033      NaN\n",
       "1034      NaN\n",
       "Name: mass, Length: 1035, dtype: float64"
      ]
     },
     "execution_count": 8,
     "metadata": {},
     "output_type": "execute_result"
    }
   ],
   "source": [
    "data_planets.mass"
   ]
  },
  {
   "cell_type": "code",
   "execution_count": 9,
   "id": "106e069f",
   "metadata": {},
   "outputs": [
    {
     "data": {
      "text/plain": [
       "0        7.10\n",
       "1        2.21\n",
       "2        2.60\n",
       "3       19.40\n",
       "4       10.50\n",
       "        ...  \n",
       "1030      NaN\n",
       "1031      NaN\n",
       "1032      NaN\n",
       "1033      NaN\n",
       "1034      NaN\n",
       "Name: mass, Length: 1035, dtype: float64"
      ]
     },
     "execution_count": 9,
     "metadata": {},
     "output_type": "execute_result"
    }
   ],
   "source": [
    "data_planets.loc[:,'mass']"
   ]
  },
  {
   "cell_type": "code",
   "execution_count": 12,
   "id": "59f0767b",
   "metadata": {},
   "outputs": [
    {
     "data": {
      "text/plain": [
       "0       2006\n",
       "1       2008\n",
       "2       2011\n",
       "3       2007\n",
       "4       2009\n",
       "        ... \n",
       "1030    2006\n",
       "1031    2007\n",
       "1032    2007\n",
       "1033    2008\n",
       "1034    2008\n",
       "Name: year, Length: 1035, dtype: int64"
      ]
     },
     "execution_count": 12,
     "metadata": {},
     "output_type": "execute_result"
    }
   ],
   "source": [
    "data_planets.iloc[:,-1]"
   ]
  },
  {
   "cell_type": "markdown",
   "id": "reBCsMclpaRu",
   "metadata": {
    "id": "reBCsMclpaRu"
   },
   "source": [
    "#### Countplot\n",
    "\n",
    "Ahora realizaremos un gráfico de barras que permite visualizar la cantidad de registros por determinada columna.  \n",
    "En este caso realizaremos un gráfico de la cantidad de planetas por cada método de descubrimiento.\n",
    "[Ver documentación countplot](https://seaborn.pydata.org/generated/seaborn.countplot.html?highlight=countplot#seaborn.countplotde)\n",
    "\n",
    "Primero realizaremos *value_counts()* para conocer los valores"
   ]
  },
  {
   "cell_type": "code",
   "execution_count": 14,
   "id": "c485a80f",
   "metadata": {
    "scrolled": true
   },
   "outputs": [
    {
     "data": {
      "text/plain": [
       "Radial Velocity                  553\n",
       "Transit                          397\n",
       "Imaging                           38\n",
       "Microlensing                      23\n",
       "Eclipse Timing Variations          9\n",
       "Pulsar Timing                      5\n",
       "Transit Timing Variations          4\n",
       "Orbital Brightness Modulation      3\n",
       "Astrometry                         2\n",
       "Pulsation Timing Variations        1\n",
       "Name: method, dtype: int64"
      ]
     },
     "execution_count": 14,
     "metadata": {},
     "output_type": "execute_result"
    }
   ],
   "source": [
    "data_planets.method.value_counts()"
   ]
  },
  {
   "cell_type": "code",
   "execution_count": 15,
   "id": "8cR2YYj7vqkl",
   "metadata": {
    "id": "8cR2YYj7vqkl"
   },
   "outputs": [
    {
     "data": {
      "text/plain": [
       "Radial Velocity                  553\n",
       "Transit                          397\n",
       "Imaging                           38\n",
       "Microlensing                      23\n",
       "Eclipse Timing Variations          9\n",
       "Pulsar Timing                      5\n",
       "Transit Timing Variations          4\n",
       "Orbital Brightness Modulation      3\n",
       "Astrometry                         2\n",
       "Pulsation Timing Variations        1\n",
       "Name: method, dtype: int64"
      ]
     },
     "execution_count": 15,
     "metadata": {},
     "output_type": "execute_result"
    }
   ],
   "source": [
    "data_planets[\"method\"].value_counts()"
   ]
  },
  {
   "cell_type": "code",
   "execution_count": 16,
   "id": "O-kjfUKFpv_l",
   "metadata": {
    "id": "O-kjfUKFpv_l"
   },
   "outputs": [
    {
     "name": "stderr",
     "output_type": "stream",
     "text": [
      "/Users/fernando/Library/Python/3.8/lib/python/site-packages/seaborn/_decorators.py:36: FutureWarning: Pass the following variable as a keyword arg: x. From version 0.12, the only valid positional argument will be `data`, and passing other arguments without an explicit keyword will result in an error or misinterpretation.\n",
      "  warnings.warn(\n"
     ]
    },
    {
     "data": {
      "text/plain": [
       "<AxesSubplot:xlabel='method', ylabel='count'>"
      ]
     },
     "execution_count": 16,
     "metadata": {},
     "output_type": "execute_result"
    },
    {
     "data": {
      "image/png": "[encoded data removed]",
      "text/plain": [
       "<Figure size 432x288 with 1 Axes>"
      ]
     },
     "metadata": {
      "needs_background": "light"
     },
     "output_type": "display_data"
    }
   ],
   "source": [
    "sns.countplot(data_planets[\"method\"])"
   ]
  },
  {
   "cell_type": "code",
   "execution_count": 17,
   "id": "hZfHkQyjvyJz",
   "metadata": {
    "id": "hZfHkQyjvyJz"
   },
   "outputs": [
    {
     "data": {
      "text/plain": [
       "<AxesSubplot:xlabel='count', ylabel='method'>"
      ]
     },
     "execution_count": 17,
     "metadata": {},
     "output_type": "execute_result"
    },
    {
     "data": {
      "image/png": "[encoded data removed]",
      "text/plain": [
       "<Figure size 432x288 with 1 Axes>"
      ]
     },
     "metadata": {
      "needs_background": "light"
     },
     "output_type": "display_data"
    }
   ],
   "source": [
    "# para cambiar el eje x y que se vea correctamente\n",
    "\n",
    "sns.countplot(y=data_planets[\"method\"])"
   ]
  },
  {
   "cell_type": "markdown",
   "id": "jZhrv1C0nZjq",
   "metadata": {
    "id": "jZhrv1C0nZjq"
   },
   "source": [
    "#### Barplot\n",
    "\n",
    "Ahora realizaremos un barplot de la librería Seaborn. \n",
    "\n",
    "Esto es un gráfico de barras con la cantidad de cada tipo, realizaremos un gráfico similar al anterior pero de la cantidad de planetas descubiertos en cada año. Para esto primero realizaremos una agrupación por año y la utilizaremos esta agrupación para realizar el gráfico.\n",
    "\n",
    "[Ver Documentación barplot](https://seaborn.pydata.org/generated/seaborn.barplot.html)\n"
   ]
  },
  {
   "cell_type": "code",
   "execution_count": 34,
   "id": "XtZlC0RQoCv9",
   "metadata": {
    "executionInfo": {
     "elapsed": 270,
     "status": "ok",
     "timestamp": 1646411424495,
     "user": {
      "displayName": "Valeria Bellino",
      "photoUrl": "https://lh3.googleusercontent.com/a/default-user=s64",
      "userId": "05918551666787590515"
     },
     "user_tz": 180
    },
    "id": "XtZlC0RQoCv9"
   },
   "outputs": [],
   "source": [
    "# Realizamos la agrupación a través de la columna \"encuentro_anio\"\n",
    "\n",
    "data_desagrupada = data_planets.groupby(\"year\")"
   ]
  },
  {
   "cell_type": "code",
   "execution_count": 35,
   "id": "24fc3f08",
   "metadata": {},
   "outputs": [
    {
     "data": {
      "text/plain": [
       "<pandas.core.groupby.generic.DataFrameGroupBy object at 0x17fe25400>"
      ]
     },
     "execution_count": 35,
     "metadata": {},
     "output_type": "execute_result"
    }
   ],
   "source": [
    "data_desagrupada"
   ]
  },
  {
   "cell_type": "code",
   "execution_count": 38,
   "id": "93607c5d",
   "metadata": {},
   "outputs": [],
   "source": [
    "tablaagrupada=data_desagrupada['distance'].mean()"
   ]
  },
  {
   "cell_type": "code",
   "execution_count": 39,
   "id": "ba513e97",
   "metadata": {
    "scrolled": false
   },
   "outputs": [
    {
     "data": {
      "text/plain": [
       "year\n",
       "1989     40.570000\n",
       "1992           NaN\n",
       "1994           NaN\n",
       "1995     15.360000\n",
       "1996     15.866667\n",
       "1997     17.430000\n",
       "1998     26.302000\n",
       "1999     30.947333\n",
       "2000     30.752500\n",
       "2001     36.531667\n",
       "2002     44.396129\n",
       "2003     43.085417\n",
       "2004    184.777826\n",
       "2005     46.484324\n",
       "2006    660.228929\n",
       "2007    162.656000\n",
       "2008     98.680312\n",
       "2009     82.056747\n",
       "2010    256.796344\n",
       "2011    319.015032\n",
       "2012    563.286154\n",
       "2013    529.767746\n",
       "2014    359.836667\n",
       "Name: distance, dtype: float64"
      ]
     },
     "execution_count": 39,
     "metadata": {},
     "output_type": "execute_result"
    }
   ],
   "source": [
    "tablaagrupada"
   ]
  },
  {
   "cell_type": "code",
   "execution_count": null,
   "id": "75f24144",
   "metadata": {},
   "outputs": [],
   "source": []
  },
  {
   "cell_type": "code",
   "execution_count": 28,
   "id": "7b98f18d",
   "metadata": {},
   "outputs": [
    {
     "data": {
      "text/plain": [
       "Index(['number', 'orbital_period', 'mass', 'distance'], dtype='object')"
      ]
     },
     "execution_count": 28,
     "metadata": {},
     "output_type": "execute_result"
    }
   ],
   "source": [
    "tabla2.columns"
   ]
  },
  {
   "cell_type": "code",
   "execution_count": null,
   "id": "318ece1e",
   "metadata": {},
   "outputs": [],
   "source": []
  },
  {
   "cell_type": "code",
   "execution_count": null,
   "id": "a708ad3e",
   "metadata": {},
   "outputs": [],
   "source": []
  },
  {
   "cell_type": "code",
   "execution_count": 26,
   "id": "a47e3476",
   "metadata": {},
   "outputs": [
    {
     "data": {
      "text/plain": [
       "Int64Index([1989, 1992, 1994, 1995, 1996, 1997, 1998, 1999, 2000, 2001, 2002,\n",
       "            2003, 2004, 2005, 2006, 2007, 2008, 2009, 2010, 2011, 2012, 2013,\n",
       "            2014],\n",
       "           dtype='int64', name='year')"
      ]
     },
     "execution_count": 26,
     "metadata": {},
     "output_type": "execute_result"
    }
   ],
   "source": [
    "tabla2.index"
   ]
  },
  {
   "cell_type": "code",
   "execution_count": null,
   "id": "ada688a1",
   "metadata": {},
   "outputs": [],
   "source": []
  },
  {
   "cell_type": "code",
   "execution_count": null,
   "id": "09cdc34c",
   "metadata": {},
   "outputs": [],
   "source": []
  },
  {
   "cell_type": "code",
   "execution_count": 32,
   "id": "50f5c1a3",
   "metadata": {},
   "outputs": [
    {
     "data": {
      "text/plain": [
       "number              2.200000\n",
       "orbital_period    114.310661\n",
       "mass                2.687120\n",
       "distance           26.302000\n",
       "Name: 1998, dtype: float64"
      ]
     },
     "execution_count": 32,
     "metadata": {},
     "output_type": "execute_result"
    }
   ],
   "source": [
    "tabla2.loc[1998,:]"
   ]
  },
  {
   "cell_type": "code",
   "execution_count": null,
   "id": "629204a8",
   "metadata": {},
   "outputs": [],
   "source": []
  },
  {
   "cell_type": "code",
   "execution_count": null,
   "id": "a7c35a2a",
   "metadata": {},
   "outputs": [],
   "source": []
  },
  {
   "cell_type": "code",
   "execution_count": null,
   "id": "K8GtQAcAoxEJ",
   "metadata": {
    "id": "K8GtQAcAoxEJ"
   },
   "outputs": [],
   "source": [
    "# Generamos el dato de la cantidad de encuentros sobre la agrupación (se cuenta year pero podria ser sobre cualquiera)\n",
    "\n",
    "data_para_grafico = data_agrupada[\"year\"].count()\n",
    "data_para_grafico"
   ]
  },
  {
   "cell_type": "code",
   "execution_count": null,
   "id": "WQV9B8Rx_kw5",
   "metadata": {
    "id": "WQV9B8Rx_kw5"
   },
   "outputs": [],
   "source": [
    "sns.barplot(x=data_para_grafico.index, y=data_para_grafico)    #Index es el índice, en este caso el año de descubrimiento\n"
   ]
  },
  {
   "cell_type": "code",
   "execution_count": null,
   "id": "kfEMUC_y6FtY",
   "metadata": {
    "id": "kfEMUC_y6FtY"
   },
   "outputs": [],
   "source": [
    "# Cambiaremos la rotación de la etiquetas del eje X con plt.xticks\n",
    "\n",
    "sns.barplot(x=data_para_grafico.index, y=data_para_grafico)    #Index es el índice, en este caso el año de descubrimiento\n",
    "plt.xticks(rotation=45)\n"
   ]
  },
  {
   "cell_type": "markdown",
   "id": "MXcOm7cF0Vn0",
   "metadata": {
    "id": "MXcOm7cF0Vn0"
   },
   "source": [
    "#### Displot\n",
    "\n",
    "Este gráfico sirve para ver distribuciones de variables numéricas, en este caso vamos a ver la masa de los exoplanetas.\n",
    "\n",
    "[Ver Documentación displot](https://seaborn.pydata.org/generated/seaborn.displot.html?highlight=displot#seaborn.displot)"
   ]
  },
  {
   "cell_type": "code",
   "execution_count": null,
   "id": "8tq7HrBBz6SA",
   "metadata": {
    "id": "8tq7HrBBz6SA"
   },
   "outputs": [],
   "source": [
    "sns.displot(data=data_planets, x=\"mass\", kind=\"kde\")\n"
   ]
  },
  {
   "cell_type": "markdown",
   "id": "4G0LIGyNyBwH",
   "metadata": {
    "id": "4G0LIGyNyBwH"
   },
   "source": [
    "#### Scatterplot\n",
    "\n",
    "Otro gráfico que se puede realizr es Scatterplot que grafica puntos en dos ejes XY, en este caso cada punto será un planeta y gráficaremos *mass* y *distance* para ver si podemos ver una relación.\n",
    "\n",
    "[Ver Documentación scatterplot](https://seaborn.pydata.org/generated/seaborn.scatterplot.html?highlight=scatterplot#seaborn.scatterplot)"
   ]
  },
  {
   "cell_type": "code",
   "execution_count": null,
   "id": "Td08dLBitfYO",
   "metadata": {
    "id": "Td08dLBitfYO"
   },
   "outputs": [],
   "source": [
    "sns.scatterplot(data=data_planets, x=\"distance\", y=\"mass\")\n"
   ]
  }
 ],
 "metadata": {
  "colab": {
   "collapsed_sections": [],
   "name": "Graficos_Encuentros_Educativos.ipynb",
   "provenance": []
  },
  "kernelspec": {
   "display_name": "Python 3.9.6 64-bit",
   "language": "python",
   "name": "python3"
  },
  "language_info": {
   "codemirror_mode": {
    "name": "ipython",
    "version": 3
   },
   "file_extension": ".py",
   "mimetype": "text/x-python",
   "name": "python",
   "nbconvert_exporter": "python",
   "pygments_lexer": "ipython3",
   "version": "3.9.6"
  },
  "vscode": {
   "interpreter": {
    "hash": "31f2aee4e71d21fbe5cf8b01ff0e069b9275f58929596ceb00d14d90e3e16cd6"
   }
  }
 },
 "nbformat": 4,
 "nbformat_minor": 5
}
