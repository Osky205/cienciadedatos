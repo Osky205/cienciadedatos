{
 "cells": [
  {
   "cell_type": "markdown",
   "id": "neither-theorem",
   "metadata": {
    "id": "neither-theorem"
   },
   "source": [
    "## Gráficos\n",
    "\n",
    "En la clase de hoy haremos una introducción a la creación de gráficos con dos librerías: matplotlib y seaborn. La librería matplotlib está conformada por diversos módulos. De todos ellos nos interesa trabajar con pyplot, el cual contiene las funciones básicas para generar gráficos. \n",
    "\n",
    "#### Matplotlib y Seaborn.\n",
    " \n",
    "[Matplotlib](https://matplotlib.org/) es una de las principales librerías a la hora de graficar datos. Con esta se pueden realizar gráficos de barra, gráficos de línea, histogramas, gráficos de dispersión, mapas de calor, y otras visualizaciones. Incluso nos permite combinar diferentes tipos de visualización. Todo esto permitiendo editar los colores, fuentes, texto, etc. \n",
    " \n",
    "Por su parte [Seaborn](https://seaborn.pydata.org/) es una libreria que une lo mejor de Matplotlib y Pandas, permitiendo crear, de forma muy sencilla gráficos de Matplotlib partiendo del uso de Data Frames de Pandas. Seaborn también tiene una [hoja de trucos](https://s3.amazonaws.com/assets.datacamp.com/blog_assets/Python_Seaborn_Cheat_Sheet.pdf) muy útil. \n",
    " \n"
   ]
  },
  {
   "cell_type": "code",
   "execution_count": 1,
   "id": "collaborative-order",
   "metadata": {
    "executionInfo": {
     "elapsed": 1232,
     "status": "ok",
     "timestamp": 1646411332058,
     "user": {
      "displayName": "Valeria Bellino",
      "photoUrl": "https://lh3.googleusercontent.com/a/default-user=s64",
      "userId": "05918551666787590515"
     },
     "user_tz": 180
    },
    "id": "collaborative-order"
   },
   "outputs": [],
   "source": [
    "#importamos las librerias que utilizaremos\n",
    "import pandas as pd\n",
    "import matplotlib.pyplot as plt   # Solo importamos el módulo pyplot. se podría hacer \"from matplotlib import pyplot as plt\"\n",
    "import seaborn as sns"
   ]
  },
  {
   "cell_type": "markdown",
   "id": "FHj6Uaq7uHBY",
   "metadata": {
    "id": "FHj6Uaq7uHBY"
   },
   "source": [
    "La librería Seaborn permite cargar Dataset incluídos en ella. En este caso utilizaremos un dataset de exoplanetas que se han descubierto hasta 2014 extraído de https://exoplanets.nasa.gov/discovery/exoplanet-catalog/"
   ]
  },
  {
   "cell_type": "code",
   "execution_count": null,
   "id": "vYcqlx9Mt3t9",
   "metadata": {
    "id": "vYcqlx9Mt3t9"
   },
   "outputs": [],
   "source": [
    "data_planets = sns.load_dataset('planets')\n",
    "data_planets.head()"
   ]
  },
  {
   "cell_type": "code",
   "execution_count": null,
   "id": "YeBQbCX2uRJh",
   "metadata": {
    "id": "YeBQbCX2uRJh"
   },
   "outputs": [],
   "source": [
    "print(data_planets.shape)\n"
   ]
  },
  {
   "cell_type": "markdown",
   "id": "reBCsMclpaRu",
   "metadata": {
    "id": "reBCsMclpaRu"
   },
   "source": [
    "#### Countplot\n",
    "\n",
    "Ahora realizaremos un gráfico de barras que permite visualizar la cantidad de registros por determinada columna.  \n",
    "En este caso realizaremos un gráfico de la cantidad de planetas por cada método de descubrimiento.\n",
    "[Ver documentación countplot](https://seaborn.pydata.org/generated/seaborn.countplot.html?highlight=countplot#seaborn.countplotde)\n",
    "\n",
    "Primero realizaremos *value_counts()* para conocer los valores"
   ]
  },
  {
   "cell_type": "code",
   "execution_count": null,
   "id": "8cR2YYj7vqkl",
   "metadata": {
    "id": "8cR2YYj7vqkl"
   },
   "outputs": [],
   "source": [
    "data_planets[\"method\"].value_counts()"
   ]
  },
  {
   "cell_type": "code",
   "execution_count": null,
   "id": "O-kjfUKFpv_l",
   "metadata": {
    "id": "O-kjfUKFpv_l"
   },
   "outputs": [],
   "source": [
    "sns.countplot(data_planets[\"method\"])"
   ]
  },
  {
   "cell_type": "code",
   "execution_count": null,
   "id": "hZfHkQyjvyJz",
   "metadata": {
    "id": "hZfHkQyjvyJz"
   },
   "outputs": [],
   "source": [
    "# para cambiar el eje x y que se vea correctamente\n",
    "\n",
    "sns.countplot(y=data_planets[\"method\"])"
   ]
  },
  {
   "cell_type": "markdown",
   "id": "jZhrv1C0nZjq",
   "metadata": {
    "id": "jZhrv1C0nZjq"
   },
   "source": [
    "#### Barplot\n",
    "\n",
    "Ahora realizaremos un barplot de la librería Seaborn. \n",
    "\n",
    "Esto es un gráfico de barras con la cantidad de cada tipo, realizaremos un gráfico similar al anterior pero de la cantidad de planetas descubiertos en cada año. Para esto primero realizaremos una agrupación por año y la utilizaremos esta agrupación para realizar el gráfico.\n",
    "\n",
    "[Ver Documentación barplot](https://seaborn.pydata.org/generated/seaborn.barplot.html)\n"
   ]
  },
  {
   "cell_type": "code",
   "execution_count": 6,
   "id": "XtZlC0RQoCv9",
   "metadata": {
    "executionInfo": {
     "elapsed": 270,
     "status": "ok",
     "timestamp": 1646411424495,
     "user": {
      "displayName": "Valeria Bellino",
      "photoUrl": "https://lh3.googleusercontent.com/a/default-user=s64",
      "userId": "05918551666787590515"
     },
     "user_tz": 180
    },
    "id": "XtZlC0RQoCv9"
   },
   "outputs": [],
   "source": [
    "# Realizamos la agrupación a través de la columna \"encuentro_anio\"\n",
    "\n",
    "data_agrupada = data_planets.groupby(\"year\")"
   ]
  },
  {
   "cell_type": "code",
   "execution_count": null,
   "id": "K8GtQAcAoxEJ",
   "metadata": {
    "id": "K8GtQAcAoxEJ"
   },
   "outputs": [],
   "source": [
    "# Generamos el dato de la cantidad de encuentros sobre la agrupación (se cuenta year pero podria ser sobre cualquiera)\n",
    "\n",
    "data_para_grafico = data_agrupada[\"year\"].count()\n",
    "data_para_grafico"
   ]
  },
  {
   "cell_type": "code",
   "execution_count": null,
   "id": "WQV9B8Rx_kw5",
   "metadata": {
    "id": "WQV9B8Rx_kw5"
   },
   "outputs": [],
   "source": [
    "sns.barplot(x=data_para_grafico.index, y=data_para_grafico)    #Index es el índice, en este caso el año de descubrimiento\n"
   ]
  },
  {
   "cell_type": "code",
   "execution_count": null,
   "id": "kfEMUC_y6FtY",
   "metadata": {
    "id": "kfEMUC_y6FtY"
   },
   "outputs": [],
   "source": [
    "# Cambiaremos la rotación de la etiquetas del eje X con plt.xticks\n",
    "\n",
    "sns.barplot(x=data_para_grafico.index, y=data_para_grafico)    #Index es el índice, en este caso el año de descubrimiento\n",
    "plt.xticks(rotation=45)\n"
   ]
  },
  {
   "cell_type": "markdown",
   "id": "MXcOm7cF0Vn0",
   "metadata": {
    "id": "MXcOm7cF0Vn0"
   },
   "source": [
    "#### Displot\n",
    "\n",
    "Este gráfico sirve para ver distribuciones de variables numéricas, en este caso vamos a ver la masa de los exoplanetas.\n",
    "\n",
    "[Ver Documentación displot](https://seaborn.pydata.org/generated/seaborn.displot.html?highlight=displot#seaborn.displot)"
   ]
  },
  {
   "cell_type": "code",
   "execution_count": null,
   "id": "8tq7HrBBz6SA",
   "metadata": {
    "id": "8tq7HrBBz6SA"
   },
   "outputs": [],
   "source": [
    "sns.displot(data=data_planets, x=\"mass\", kind=\"kde\")\n"
   ]
  },
  {
   "cell_type": "markdown",
   "id": "4G0LIGyNyBwH",
   "metadata": {
    "id": "4G0LIGyNyBwH"
   },
   "source": [
    "#### Scatterplot\n",
    "\n",
    "Otro gráfico que se puede realizr es Scatterplot que grafica puntos en dos ejes XY, en este caso cada punto será un planeta y gráficaremos *mass* y *distance* para ver si podemos ver una relación.\n",
    "\n",
    "[Ver Documentación scatterplot](https://seaborn.pydata.org/generated/seaborn.scatterplot.html?highlight=scatterplot#seaborn.scatterplot)"
   ]
  },
  {
   "cell_type": "code",
   "execution_count": null,
   "id": "Td08dLBitfYO",
   "metadata": {
    "id": "Td08dLBitfYO"
   },
   "outputs": [],
   "source": [
    "sns.scatterplot(data=data_planets, x=\"distance\", y=\"mass\")\n"
   ]
  }
 ],
 "metadata": {
  "colab": {
   "collapsed_sections": [],
   "name": "Graficos_Encuentros_Educativos.ipynb",
   "provenance": []
  },
  "kernelspec": {
   "display_name": "Python 3 (ipykernel)",
   "language": "python",
   "name": "python3"
  },
  "language_info": {
   "codemirror_mode": {
    "name": "ipython",
    "version": 3
   },
   "file_extension": ".py",
   "mimetype": "text/x-python",
   "name": "python",
   "nbconvert_exporter": "python",
   "pygments_lexer": "ipython3",
   "version": "3.9.5"
  }
 },
 "nbformat": 4,
 "nbformat_minor": 5
}
