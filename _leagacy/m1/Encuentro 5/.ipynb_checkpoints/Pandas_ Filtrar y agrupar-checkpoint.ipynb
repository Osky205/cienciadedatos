{
 "cells": [
  {
   "cell_type": "markdown",
   "id": "neither-theorem",
   "metadata": {
    "id": "neither-theorem"
   },
   "source": [
    "#### Dataset\n",
    "\n",
    "Hoy aprenderemos a filtrar un dataset y realizar agrupaciones con métodos de la librería de pandas.\n",
    "\n",
    "Retomaremos el dataset utilizado la clase anterior sobre Encuentros de educación ambiental extraído de https://datos.gob.ar/dataset/ambiente-encuentros-jornadas-educacion-ambiental"
   ]
  },
  {
   "cell_type": "code",
   "execution_count": null,
   "id": "collaborative-order",
   "metadata": {
    "id": "collaborative-order"
   },
   "outputs": [],
   "source": [
    "#importamos las librerias que utilizaremos\n",
    "import pandas as pd\n"
   ]
  },
  {
   "cell_type": "markdown",
   "id": "u3eWqHlN0WfS",
   "metadata": {
    "id": "u3eWqHlN0WfS"
   },
   "source": [
    "#### Desde el Drive"
   ]
  },
  {
   "cell_type": "code",
   "execution_count": null,
   "id": "vanilla-french",
   "metadata": {
    "id": "vanilla-french"
   },
   "outputs": [],
   "source": [
    "from google.colab import drive\n",
    "drive.mount('/content/drive')"
   ]
  },
  {
   "cell_type": "code",
   "execution_count": null,
   "id": "ybPYzUecFmSY",
   "metadata": {
    "id": "ybPYzUecFmSY"
   },
   "outputs": [],
   "source": [
    "data = pd.read_csv(\"ruta\",  sep=\";\") #aclaración punto y coma en este archivo"
   ]
  },
  {
   "cell_type": "markdown",
   "id": "F5XabMqx0kSX",
   "metadata": {
    "id": "F5XabMqx0kSX"
   },
   "source": [
    "#### Desde el archivo descargado en la computadora"
   ]
  },
  {
   "cell_type": "code",
   "execution_count": null,
   "id": "0XwLHu510ox_",
   "metadata": {
    "id": "0XwLHu510ox_"
   },
   "outputs": [],
   "source": [
    "from google.colab import files\n",
    "import io"
   ]
  },
  {
   "cell_type": "code",
   "execution_count": null,
   "id": "FZc8e4fG0p-U",
   "metadata": {
    "colab": {
     "base_uri": "https://localhost:8080/",
     "height": 70,
     "resources": {
      "http://localhost:8080/nbextensions/google.colab/files.js": {
       "data": "Ly8gQ29weXJpZ2h0IDIwMTcgR29vZ2xlIExMQwovLwovLyBMaWNlbnNlZCB1bmRlciB0aGUgQXBhY2hlIExpY2Vuc2UsIFZlcnNpb24gMi4wICh0aGUgIkxpY2Vuc2UiKTsKLy8geW91IG1heSBub3QgdXNlIHRoaXMgZmlsZSBleGNlcHQgaW4gY29tcGxpYW5jZSB3aXRoIHRoZSBMaWNlbnNlLgovLyBZb3UgbWF5IG9idGFpbiBhIGNvcHkgb2YgdGhlIExpY2Vuc2UgYXQKLy8KLy8gICAgICBodHRwOi8vd3d3LmFwYWNoZS5vcmcvbGljZW5zZXMvTElDRU5TRS0yLjAKLy8KLy8gVW5sZXNzIHJlcXVpcmVkIGJ5IGFwcGxpY2FibGUgbGF3IG9yIGFncmVlZCB0byBpbiB3cml0aW5nLCBzb2Z0d2FyZQovLyBkaXN0cmlidXRlZCB1bmRlciB0aGUgTGljZW5zZSBpcyBkaXN0cmlidXRlZCBvbiBhbiAiQVMgSVMiIEJBU0lTLAovLyBXSVRIT1VUIFdBUlJBTlRJRVMgT1IgQ09ORElUSU9OUyBPRiBBTlkgS0lORCwgZWl0aGVyIGV4cHJlc3Mgb3IgaW1wbGllZC4KLy8gU2VlIHRoZSBMaWNlbnNlIGZvciB0aGUgc3BlY2lmaWMgbGFuZ3VhZ2UgZ292ZXJuaW5nIHBlcm1pc3Npb25zIGFuZAovLyBsaW1pdGF0aW9ucyB1bmRlciB0aGUgTGljZW5zZS4KCi8qKgogKiBAZmlsZW92ZXJ2aWV3IEhlbHBlcnMgZm9yIGdvb2dsZS5jb2xhYiBQeXRob24gbW9kdWxlLgogKi8KKGZ1bmN0aW9uKHNjb3BlKSB7CmZ1bmN0aW9uIHNwYW4odGV4dCwgc3R5bGVBdHRyaWJ1dGVzID0ge30pIHsKICBjb25zdCBlbGVtZW50ID0gZG9jdW1lbnQuY3JlYXRlRWxlbWVudCgnc3BhbicpOwogIGVsZW1lbnQudGV4dENvbnRlbnQgPSB0ZXh0OwogIGZvciAoY29uc3Qga2V5IG9mIE9iamVjdC5rZXlzKHN0eWxlQXR0cmlidXRlcykpIHsKICAgIGVsZW1lbnQuc3R5bGVba2V5XSA9IHN0eWxlQXR0cmlidXRlc1trZXldOwogIH0KICByZXR1cm4gZWxlbWVudDsKfQoKLy8gTWF4IG51bWJlciBvZiBieXRlcyB3aGljaCB3aWxsIGJlIHVwbG9hZGVkIGF0IGEgdGltZS4KY29uc3QgTUFYX1BBWUxPQURfU0laRSA9IDEwMCAqIDEwMjQ7CgpmdW5jdGlvbiBfdXBsb2FkRmlsZXMoaW5wdXRJZCwgb3V0cHV0SWQpIHsKICBjb25zdCBzdGVwcyA9IHVwbG9hZEZpbGVzU3RlcChpbnB1dElkLCBvdXRwdXRJZCk7CiAgY29uc3Qgb3V0cHV0RWxlbWVudCA9IGRvY3VtZW50LmdldEVsZW1lbnRCeUlkKG91dHB1dElkKTsKICAvLyBDYWNoZSBzdGVwcyBvbiB0aGUgb3V0cHV0RWxlbWVudCB0byBtYWtlIGl0IGF2YWlsYWJsZSBmb3IgdGhlIG5leHQgY2FsbAogIC8vIHRvIHVwbG9hZEZpbGVzQ29udGludWUgZnJvbSBQeXRob24uCiAgb3V0cHV0RWxlbWVudC5zdGVwcyA9IHN0ZXBzOwoKICByZXR1cm4gX3VwbG9hZEZpbGVzQ29udGludWUob3V0cHV0SWQpOwp9CgovLyBUaGlzIGlzIHJvdWdobHkgYW4gYXN5bmMgZ2VuZXJhdG9yIChub3Qgc3VwcG9ydGVkIGluIHRoZSBicm93c2VyIHlldCksCi8vIHdoZXJlIHRoZXJlIGFyZSBtdWx0aXBsZSBhc3luY2hyb25vdXMgc3RlcHMgYW5kIHRoZSBQeXRob24gc2lkZSBpcyBnb2luZwovLyB0byBwb2xsIGZvciBjb21wbGV0aW9uIG9mIGVhY2ggc3RlcC4KLy8gVGhpcyB1c2VzIGEgUHJvbWlzZSB0byBibG9jayB0aGUgcHl0aG9uIHNpZGUgb24gY29tcGxldGlvbiBvZiBlYWNoIHN0ZXAsCi8vIHRoZW4gcGFzc2VzIHRoZSByZXN1bHQgb2YgdGhlIHByZXZpb3VzIHN0ZXAgYXMgdGhlIGlucHV0IHRvIHRoZSBuZXh0IHN0ZXAuCmZ1bmN0aW9uIF91cGxvYWRGaWxlc0NvbnRpbnVlKG91dHB1dElkKSB7CiAgY29uc3Qgb3V0cHV0RWxlbWVudCA9IGRvY3VtZW50LmdldEVsZW1lbnRCeUlkKG91dHB1dElkKTsKICBjb25zdCBzdGVwcyA9IG91dHB1dEVsZW1lbnQuc3RlcHM7CgogIGNvbnN0IG5leHQgPSBzdGVwcy5uZXh0KG91dHB1dEVsZW1lbnQubGFzdFByb21pc2VWYWx1ZSk7CiAgcmV0dXJuIFByb21pc2UucmVzb2x2ZShuZXh0LnZhbHVlLnByb21pc2UpLnRoZW4oKHZhbHVlKSA9PiB7CiAgICAvLyBDYWNoZSB0aGUgbGFzdCBwcm9taXNlIHZhbHVlIHRvIG1ha2UgaXQgYXZhaWxhYmxlIHRvIHRoZSBuZXh0CiAgICAvLyBzdGVwIG9mIHRoZSBnZW5lcmF0b3IuCiAgICBvdXRwdXRFbGVtZW50Lmxhc3RQcm9taXNlVmFsdWUgPSB2YWx1ZTsKICAgIHJldHVybiBuZXh0LnZhbHVlLnJlc3BvbnNlOwogIH0pOwp9CgovKioKICogR2VuZXJhdG9yIGZ1bmN0aW9uIHdoaWNoIGlzIGNhbGxlZCBiZXR3ZWVuIGVhY2ggYXN5bmMgc3RlcCBvZiB0aGUgdXBsb2FkCiAqIHByb2Nlc3MuCiAqIEBwYXJhbSB7c3RyaW5nfSBpbnB1dElkIEVsZW1lbnQgSUQgb2YgdGhlIGlucHV0IGZpbGUgcGlja2VyIGVsZW1lbnQuCiAqIEBwYXJhbSB7c3RyaW5nfSBvdXRwdXRJZCBFbGVtZW50IElEIG9mIHRoZSBvdXRwdXQgZGlzcGxheS4KICogQHJldHVybiB7IUl0ZXJhYmxlPCFPYmplY3Q+fSBJdGVyYWJsZSBvZiBuZXh0IHN0ZXBzLgogKi8KZnVuY3Rpb24qIHVwbG9hZEZpbGVzU3RlcChpbnB1dElkLCBvdXRwdXRJZCkgewogIGNvbnN0IGlucHV0RWxlbWVudCA9IGRvY3VtZW50LmdldEVsZW1lbnRCeUlkKGlucHV0SWQpOwogIGlucHV0RWxlbWVudC5kaXNhYmxlZCA9IGZhbHNlOwoKICBjb25zdCBvdXRwdXRFbGVtZW50ID0gZG9jdW1lbnQuZ2V0RWxlbWVudEJ5SWQob3V0cHV0SWQpOwogIG91dHB1dEVsZW1lbnQuaW5uZXJIVE1MID0gJyc7CgogIGNvbnN0IHBpY2tlZFByb21pc2UgPSBuZXcgUHJvbWlzZSgocmVzb2x2ZSkgPT4gewogICAgaW5wdXRFbGVtZW50LmFkZEV2ZW50TGlzdGVuZXIoJ2NoYW5nZScsIChlKSA9PiB7CiAgICAgIHJlc29sdmUoZS50YXJnZXQuZmlsZXMpOwogICAgfSk7CiAgfSk7CgogIGNvbnN0IGNhbmNlbCA9IGRvY3VtZW50LmNyZWF0ZUVsZW1lbnQoJ2J1dHRvbicpOwogIGlucHV0RWxlbWVudC5wYXJlbnRFbGVtZW50LmFwcGVuZENoaWxkKGNhbmNlbCk7CiAgY2FuY2VsLnRleHRDb250ZW50ID0gJ0NhbmNlbCB1cGxvYWQnOwogIGNvbnN0IGNhbmNlbFByb21pc2UgPSBuZXcgUHJvbWlzZSgocmVzb2x2ZSkgPT4gewogICAgY2FuY2VsLm9uY2xpY2sgPSAoKSA9PiB7CiAgICAgIHJlc29sdmUobnVsbCk7CiAgICB9OwogIH0pOwoKICAvLyBXYWl0IGZvciB0aGUgdXNlciB0byBwaWNrIHRoZSBmaWxlcy4KICBjb25zdCBmaWxlcyA9IHlpZWxkIHsKICAgIHByb21pc2U6IFByb21pc2UucmFjZShbcGlja2VkUHJvbWlzZSwgY2FuY2VsUHJvbWlzZV0pLAogICAgcmVzcG9uc2U6IHsKICAgICAgYWN0aW9uOiAnc3RhcnRpbmcnLAogICAgfQogIH07CgogIGNhbmNlbC5yZW1vdmUoKTsKCiAgLy8gRGlzYWJsZSB0aGUgaW5wdXQgZWxlbWVudCBzaW5jZSBmdXJ0aGVyIHBpY2tzIGFyZSBub3QgYWxsb3dlZC4KICBpbnB1dEVsZW1lbnQuZGlzYWJsZWQgPSB0cnVlOwoKICBpZiAoIWZpbGVzKSB7CiAgICByZXR1cm4gewogICAgICByZXNwb25zZTogewogICAgICAgIGFjdGlvbjogJ2NvbXBsZXRlJywKICAgICAgfQogICAgfTsKICB9CgogIGZvciAoY29uc3QgZmlsZSBvZiBmaWxlcykgewogICAgY29uc3QgbGkgPSBkb2N1bWVudC5jcmVhdGVFbGVtZW50KCdsaScpOwogICAgbGkuYXBwZW5kKHNwYW4oZmlsZS5uYW1lLCB7Zm9udFdlaWdodDogJ2JvbGQnfSkpOwogICAgbGkuYXBwZW5kKHNwYW4oCiAgICAgICAgYCgke2ZpbGUudHlwZSB8fCAnbi9hJ30pIC0gJHtmaWxlLnNpemV9IGJ5dGVzLCBgICsKICAgICAgICBgbGFzdCBtb2RpZmllZDogJHsKICAgICAgICAgICAgZmlsZS5sYXN0TW9kaWZpZWREYXRlID8gZmlsZS5sYXN0TW9kaWZpZWREYXRlLnRvTG9jYWxlRGF0ZVN0cmluZygpIDoKICAgICAgICAgICAgICAgICAgICAgICAgICAgICAgICAgICAgJ24vYSd9IC0gYCkpOwogICAgY29uc3QgcGVyY2VudCA9IHNwYW4oJzAlIGRvbmUnKTsKICAgIGxpLmFwcGVuZENoaWxkKHBlcmNlbnQpOwoKICAgIG91dHB1dEVsZW1lbnQuYXBwZW5kQ2hpbGQobGkpOwoKICAgIGNvbnN0IGZpbGVEYXRhUHJvbWlzZSA9IG5ldyBQcm9taXNlKChyZXNvbHZlKSA9PiB7CiAgICAgIGNvbnN0IHJlYWRlciA9IG5ldyBGaWxlUmVhZGVyKCk7CiAgICAgIHJlYWRlci5vbmxvYWQgPSAoZSkgPT4gewogICAgICAgIHJlc29sdmUoZS50YXJnZXQucmVzdWx0KTsKICAgICAgfTsKICAgICAgcmVhZGVyLnJlYWRBc0FycmF5QnVmZmVyKGZpbGUpOwogICAgfSk7CiAgICAvLyBXYWl0IGZvciB0aGUgZGF0YSB0byBiZSByZWFkeS4KICAgIGxldCBmaWxlRGF0YSA9IHlpZWxkIHsKICAgICAgcHJvbWlzZTogZmlsZURhdGFQcm9taXNlLAogICAgICByZXNwb25zZTogewogICAgICAgIGFjdGlvbjogJ2NvbnRpbnVlJywKICAgICAgfQogICAgfTsKCiAgICAvLyBVc2UgYSBjaHVua2VkIHNlbmRpbmcgdG8gYXZvaWQgbWVzc2FnZSBzaXplIGxpbWl0cy4gU2VlIGIvNjIxMTU2NjAuCiAgICBsZXQgcG9zaXRpb24gPSAwOwogICAgd2hpbGUgKHBvc2l0aW9uIDwgZmlsZURhdGEuYnl0ZUxlbmd0aCkgewogICAgICBjb25zdCBsZW5ndGggPSBNYXRoLm1pbihmaWxlRGF0YS5ieXRlTGVuZ3RoIC0gcG9zaXRpb24sIE1BWF9QQVlMT0FEX1NJWkUpOwogICAgICBjb25zdCBjaHVuayA9IG5ldyBVaW50OEFycmF5KGZpbGVEYXRhLCBwb3NpdGlvbiwgbGVuZ3RoKTsKICAgICAgcG9zaXRpb24gKz0gbGVuZ3RoOwoKICAgICAgY29uc3QgYmFzZTY0ID0gYnRvYShTdHJpbmcuZnJvbUNoYXJDb2RlLmFwcGx5KG51bGwsIGNodW5rKSk7CiAgICAgIHlpZWxkIHsKICAgICAgICByZXNwb25zZTogewogICAgICAgICAgYWN0aW9uOiAnYXBwZW5kJywKICAgICAgICAgIGZpbGU6IGZpbGUubmFtZSwKICAgICAgICAgIGRhdGE6IGJhc2U2NCwKICAgICAgICB9LAogICAgICB9OwogICAgICBwZXJjZW50LnRleHRDb250ZW50ID0KICAgICAgICAgIGAke01hdGgucm91bmQoKHBvc2l0aW9uIC8gZmlsZURhdGEuYnl0ZUxlbmd0aCkgKiAxMDApfSUgZG9uZWA7CiAgICB9CiAgfQoKICAvLyBBbGwgZG9uZS4KICB5aWVsZCB7CiAgICByZXNwb25zZTogewogICAgICBhY3Rpb246ICdjb21wbGV0ZScsCiAgICB9CiAgfTsKfQoKc2NvcGUuZ29vZ2xlID0gc2NvcGUuZ29vZ2xlIHx8IHt9OwpzY29wZS5nb29nbGUuY29sYWIgPSBzY29wZS5nb29nbGUuY29sYWIgfHwge307CnNjb3BlLmdvb2dsZS5jb2xhYi5fZmlsZXMgPSB7CiAgX3VwbG9hZEZpbGVzLAogIF91cGxvYWRGaWxlc0NvbnRpbnVlLAp9Owp9KShzZWxmKTsK",
       "headers": [
        [
         "content-type",
         "application/javascript"
        ]
       ],
       "ok": true,
       "status": 200,
       "status_text": ""
      }
     }
    },
    "id": "FZc8e4fG0p-U",
    "outputId": "4d3e586c-69a0-49a1-ef95-c1d46958bab3"
   },
   "outputs": [
    {
     "data": {
      "text/html": [
       "\n",
       "     <input type=\"file\" id=\"files-a981e4f5-0e79-4f34-851d-f01b13d665b8\" name=\"files[]\" multiple disabled\n",
       "        style=\"border:none\" />\n",
       "     <output id=\"result-a981e4f5-0e79-4f34-851d-f01b13d665b8\">\n",
       "      Upload widget is only available when the cell has been executed in the\n",
       "      current browser session. Please rerun this cell to enable.\n",
       "      </output>\n",
       "      <script src=\"/nbextensions/google.colab/files.js\"></script> "
      ],
      "text/plain": [
       "<IPython.core.display.HTML object>"
      ]
     },
     "metadata": {
      "tags": []
     },
     "output_type": "display_data"
    },
    {
     "name": "stdout",
     "output_type": "stream",
     "text": [
      "Saving encuentro-educacion-ambiental.csv to encuentro-educacion-ambiental.csv\n"
     ]
    }
   ],
   "source": [
    "filesUploaded = files.upload()"
   ]
  },
  {
   "cell_type": "code",
   "execution_count": null,
   "id": "hAhJVk9n0rpe",
   "metadata": {
    "id": "hAhJVk9n0rpe"
   },
   "outputs": [],
   "source": [
    "data = pd.read_csv(io.BytesIO(filesUploaded[\"encuentro-educacion-ambiental.csv\"]), sep=\";\") \n"
   ]
  },
  {
   "cell_type": "code",
   "execution_count": null,
   "id": "statutory-designer",
   "metadata": {
    "id": "statutory-designer"
   },
   "outputs": [],
   "source": [
    "data.head(3)\n"
   ]
  },
  {
   "cell_type": "markdown",
   "id": "bGuxWKEa5FmX",
   "metadata": {
    "id": "bGuxWKEa5FmX"
   },
   "source": [
    "### Filtrar un dataset\n",
    "\n",
    "#### .iloc\n",
    "\n",
    "Para acceder a determinadas columnas, filas o registros de un dataset es posible indexarlos por número de fila y número de columna a través del método *.iloc* y entre corchetes separado por una coma primero las filas y luego las columnas.\n",
    "\n",
    "Además es posible utilizar un *slice*, es decir, seleccionar filas o columnas  donde se indique desde y hasta cual. Para eso se coloca un valor, dos puntos y el segundo valor, siendo el primero inclusivo y el último no inclusivo).\n",
    "\n",
    "Para seleccionar todas las filas o todas las columnas debo colocar hacer un slice sin límite, es decir solo : (dos puntos)"
   ]
  },
  {
   "cell_type": "code",
   "execution_count": null,
   "id": "kfEMUC_y6FtY",
   "metadata": {
    "id": "kfEMUC_y6FtY"
   },
   "outputs": [],
   "source": [
    "data"
   ]
  },
  {
   "cell_type": "code",
   "execution_count": null,
   "id": "lovely-better",
   "metadata": {
    "id": "lovely-better"
   },
   "outputs": [],
   "source": [
    "#iloc: acceso por número de fila, columna\n",
    "data.iloc[1,3]"
   ]
  },
  {
   "cell_type": "code",
   "execution_count": null,
   "id": "cardiovascular-surrey",
   "metadata": {
    "id": "cardiovascular-surrey"
   },
   "outputs": [],
   "source": [
    "#slice entre fila 1 a 4 (no inclusivo), columa 3\n",
    "data.iloc[1:4, 3]"
   ]
  },
  {
   "cell_type": "code",
   "execution_count": null,
   "id": "Na3IcAUL7GVl",
   "metadata": {
    "id": "Na3IcAUL7GVl"
   },
   "outputs": [],
   "source": [
    "# Seleccionar la fila 4 y todas sus columnas  (si no se coloca nada se asume que son todas las columnas)\n",
    "\n",
    "data.iloc[4, :]"
   ]
  },
  {
   "cell_type": "code",
   "execution_count": null,
   "id": "Fha2vRUF7P7z",
   "metadata": {
    "id": "Fha2vRUF7P7z"
   },
   "outputs": [],
   "source": [
    "# Para filtrar la columna se debe colocar : en lugar de las filas\n",
    "\n",
    "data.iloc[:, 2]"
   ]
  },
  {
   "cell_type": "markdown",
   "id": "LUWiQHXa6Th3",
   "metadata": {
    "id": "LUWiQHXa6Th3"
   },
   "source": [
    "#### .loc\n",
    "Es posible filtrar por columnas, filas o registros utilizando el nombre de las columnas utilizando el método *.loc* y entre corchetes primero las filas y luego las columnas"
   ]
  },
  {
   "cell_type": "code",
   "execution_count": null,
   "id": "developmental-speech",
   "metadata": {
    "id": "developmental-speech"
   },
   "outputs": [],
   "source": [
    "#fila 1, columa \"encuentro_tematica\"\n",
    "data.loc[1,\"encuentro_tematica\"]"
   ]
  },
  {
   "cell_type": "code",
   "execution_count": null,
   "id": "xeTC9YR17t6C",
   "metadata": {
    "id": "xeTC9YR17t6C"
   },
   "outputs": [],
   "source": [
    "# Para ver todos los registros se debe indicar : en el lugar de las filas\n",
    "\n",
    "data.loc[:, \"encuentro_tematica\"]"
   ]
  },
  {
   "cell_type": "code",
   "execution_count": null,
   "id": "WGJ3Qb7Y73aq",
   "metadata": {
    "id": "WGJ3Qb7Y73aq"
   },
   "outputs": [],
   "source": [
    " # Se puede seleccionar una lista de columnas\n",
    "\n",
    " data.loc[:, [\"encuentro_tematica\", \"Encuentro_destinatarios\"]]\n",
    "\n",
    " #Notese que se puede hacer sin el loc como vimos la Notebook anterior"
   ]
  },
  {
   "cell_type": "markdown",
   "id": "BxoKIDLG_04t",
   "metadata": {
    "id": "BxoKIDLG_04t"
   },
   "source": [
    "#### Filtrar un DataFrame\n",
    "\n",
    "Para realizar un filtro de determinados valores se debe generar máscara con una operación lógica que devuelva *True* o *False*.\n",
    "\n",
    "Luego se debe usar el método *.loc* con la máscara donde los valores *True* los tomará y los valores *False* los descartará"
   ]
  },
  {
   "cell_type": "code",
   "execution_count": null,
   "id": "infinite-trial",
   "metadata": {
    "id": "infinite-trial"
   },
   "outputs": [],
   "source": [
    "#filtrar 2016\n",
    "print(data[\"encuentro_anio\"])\n",
    "mask_2016 = data[\"encuentro_anio\"]== 2016   #ver el doble igual. Como es un número no requiere las comillas\n",
    "mask_2016"
   ]
  },
  {
   "cell_type": "code",
   "execution_count": null,
   "id": "alleged-stick",
   "metadata": {
    "id": "alleged-stick"
   },
   "outputs": [],
   "source": [
    "#solo devuelvo los valores True (evalua por índice)\n",
    "data.loc[mask_2016]"
   ]
  },
  {
   "cell_type": "code",
   "execution_count": null,
   "id": "complex-surgeon",
   "metadata": {
    "id": "complex-surgeon"
   },
   "outputs": [],
   "source": [
    "#por default sin el .loc selecciona filas True\n",
    "data[mask_2016]"
   ]
  },
  {
   "cell_type": "code",
   "execution_count": null,
   "id": "collaborative-lotus",
   "metadata": {
    "id": "collaborative-lotus"
   },
   "outputs": [],
   "source": [
    "#loc[filas (True), columnas]\n",
    "data.loc[mask_2016,\"encuentro_tematica\"]"
   ]
  },
  {
   "cell_type": "code",
   "execution_count": null,
   "id": "committed-thesaurus",
   "metadata": {
    "collapsed": true,
    "id": "committed-thesaurus"
   },
   "outputs": [],
   "source": [
    "#error sin el loc\n",
    "data[mask_2016,\"encuentro_tematica\"]"
   ]
  },
  {
   "cell_type": "code",
   "execution_count": null,
   "id": "vietnamese-bosnia",
   "metadata": {
    "collapsed": true,
    "id": "vietnamese-bosnia"
   },
   "outputs": [],
   "source": [
    "#error con iloc\n",
    "data.iloc[mask_2016]"
   ]
  },
  {
   "cell_type": "code",
   "execution_count": null,
   "id": "sticky-demand",
   "metadata": {
    "id": "sticky-demand"
   },
   "outputs": [],
   "source": [
    "#creo dataframe filtrado 2016\n",
    "\n",
    "data_2016 = data.loc[mask_2016]\n"
   ]
  },
  {
   "cell_type": "code",
   "execution_count": null,
   "id": "desperate-gazette",
   "metadata": {
    "id": "desperate-gazette"
   },
   "outputs": [],
   "source": [
    "# Puedo utilizar una operación matemática sobre el DataFrame filtrado. ¿Cuántos encuentros se realizaron en 2016?\n",
    "data_2016[\"encuentro_numero\"].sum()"
   ]
  },
  {
   "cell_type": "code",
   "execution_count": null,
   "id": "conditional-waters",
   "metadata": {
    "id": "conditional-waters"
   },
   "outputs": [],
   "source": [
    "#cuantos participaron en los encuentros de 2016\n",
    "data_2016[\"encuentro_participantes\"].sum()"
   ]
  },
  {
   "cell_type": "code",
   "execution_count": null,
   "id": "naughty-headquarters",
   "metadata": {
    "id": "naughty-headquarters"
   },
   "outputs": [],
   "source": [
    "#en una sola linea\n",
    "data.loc[mask_2016,\"encuentro_participantes\"]#.sum()"
   ]
  },
  {
   "cell_type": "code",
   "execution_count": null,
   "id": "minute-nylon",
   "metadata": {
    "id": "minute-nylon"
   },
   "outputs": [],
   "source": [
    "#ver el encuentro con mayor cantidad de participantes\n",
    "data[\"encuentro_participantes\"].max()"
   ]
  },
  {
   "cell_type": "code",
   "execution_count": null,
   "id": "understood-checklist",
   "metadata": {
    "id": "understood-checklist"
   },
   "outputs": [],
   "source": [
    "#Definición de operación lógica con ==\n",
    "\n",
    "mask_max_participantes = data[\"encuentro_participantes\"]== data[\"encuentro_participantes\"].max()\n",
    "mask_max_participantes"
   ]
  },
  {
   "cell_type": "code",
   "execution_count": null,
   "id": "integral-methodology",
   "metadata": {
    "id": "integral-methodology"
   },
   "outputs": [],
   "source": [
    "data[mask_max_participantes]\n",
    "#data.loc[mask_max_participantes]\n"
   ]
  },
  {
   "cell_type": "code",
   "execution_count": null,
   "id": "planned-collaboration",
   "metadata": {
    "id": "planned-collaboration"
   },
   "outputs": [],
   "source": [
    "#temática del encuentro con mayor cantidad de participantes\n",
    "data.loc[mask_max_participantes, \"encuentro_tematica\"]"
   ]
  },
  {
   "cell_type": "code",
   "execution_count": null,
   "id": "searching-influence",
   "metadata": {
    "id": "searching-influence"
   },
   "outputs": [],
   "source": [
    "#buscar temáticas de ecuentros para Autoridades y docentes universitarios. Se puede hacer la máscara en la misma fila que el loc\n",
    "\n",
    "data.loc[(data[\"Encuentro_destinatarios\"]==\"Autoridades y docentes universitarios\"), \"encuentro_tematica\"]"
   ]
  },
  {
   "cell_type": "code",
   "execution_count": null,
   "id": "bearing-young",
   "metadata": {
    "id": "bearing-young"
   },
   "outputs": [],
   "source": [
    "#cuantos participantes de los encuentros para Autoridades y docentes universitarios\n",
    "data.loc[(data[\"Encuentro_destinatarios\"]==\"Autoridades y docentes universitarios\"), \"encuentro_participantes\"].sum()"
   ]
  },
  {
   "cell_type": "markdown",
   "id": "asian-syria",
   "metadata": {
    "id": "asian-syria"
   },
   "source": [
    "#### Agrupación\n",
    "\n",
    "El método _groupby_agrupa todas las filas que tengan igual valor. [Documentacion groupby](https://pandas.pydata.org/docs/reference/api/pandas.DataFrame.groupby.html?highlight=groupby#pandas.DataFrame.groupby)\n",
    "\n",
    "\n",
    "Podemos describir las operaciones sobre grupos con el término *split-apply-combine*\n",
    "\n",
    "En la primera etapa del proceso, los datos en un objeto `pandas` (una instancia de `Series` o de `DataFrame`) se dividen en grupos (*split*) en base a una o más keys que definimos. Esta división se lleva a cabo por filas (axis = 0) o por columnas (axis = 1).\n",
    "\n",
    "Como segunda etapa, aplicamos una función a cada uno de los grupos (*apply*) dando como resultado un nuevo valor por grupo.\n",
    "\n",
    "Como último paso, los resultados de la aplicación de la función en cada uno de los grupos se combina en un objeto resultado (*combine*).\n",
    "\n"
   ]
  },
  {
   "cell_type": "code",
   "execution_count": null,
   "id": "worst-blocking",
   "metadata": {
    "id": "worst-blocking"
   },
   "outputs": [],
   "source": [
    "#agrupamos la tabla por año\n",
    "data_agrupada = data.groupby(\"encuentro_anio\")\n",
    "data_agrupada\n",
    "\n",
    "#Acá se crea un objeto agrupado por encuentro pero aún o hemos realizado ninguna operación para poner datos\n",
    "#Sería como una tabla que solamente tiene un índice y falta indicar los datos"
   ]
  },
  {
   "cell_type": "code",
   "execution_count": null,
   "id": "informative-elements",
   "metadata": {
    "id": "informative-elements"
   },
   "outputs": [],
   "source": [
    "#cuántos valores de cada año\n",
    "data_agrupada.size()"
   ]
  },
  {
   "cell_type": "code",
   "execution_count": null,
   "id": "absolute-bleeding",
   "metadata": {
    "id": "absolute-bleeding"
   },
   "outputs": [],
   "source": [
    "# sobre esta agrupación podemos realizar distintos operaciones, por ejemplo sumar la cantidad de participantes por año (por agrupación)\n",
    "data_agrupada[\"encuentro_participantes\"].sum()"
   ]
  },
  {
   "cell_type": "code",
   "execution_count": null,
   "id": "varying-exhibition",
   "metadata": {
    "id": "varying-exhibition"
   },
   "outputs": [],
   "source": [
    "#creo un DataFrame de la data agrupada por año, ver que tiene un índice y una columna\n",
    "data_anio_encuentro =data_agrupada[\"encuentro_participantes\"].sum()\n",
    "print(data_anio_encuentro.shape)\n",
    "data_anio_encuentro"
   ]
  },
  {
   "cell_type": "code",
   "execution_count": null,
   "id": "ssHYaKcvHr2a",
   "metadata": {
    "id": "ssHYaKcvHr2a"
   },
   "outputs": [],
   "source": [
    "# Vamos a agrupar los encuentros por destinatario, primero observamos cuantos hay de cada tipo\n",
    "\n",
    "data[\"Encuentro_destinatarios\"].value_counts()"
   ]
  },
  {
   "cell_type": "code",
   "execution_count": null,
   "id": "jD2EQ5InIK1G",
   "metadata": {
    "id": "jD2EQ5InIK1G"
   },
   "outputs": [],
   "source": [
    "# realizamos la agrupación utilizando el método groupby\n",
    "\n",
    "data_destinantarios = data.groupby(\"Encuentro_destinatarios\")\n",
    "data_destinantarios\n",
    "\n",
    "# ¿Cuántas filas debería tener la agrupación? Observar el value_counts()\n"
   ]
  },
  {
   "cell_type": "code",
   "execution_count": null,
   "id": "7Y1V55y5IK_-",
   "metadata": {
    "id": "7Y1V55y5IK_-"
   },
   "outputs": [],
   "source": [
    "# Hacer una operación: sumar la cantidad de encuentros \n",
    "\n",
    "data_destinantarios[\"encuentro_participantes\"].sum()"
   ]
  },
  {
   "cell_type": "code",
   "execution_count": null,
   "id": "3OujO2S4I6VZ",
   "metadata": {
    "id": "3OujO2S4I6VZ"
   },
   "outputs": [],
   "source": [
    "# Hacer una operación: el primer año en el que se desarrollaron encuentros\n",
    "\n",
    "data_destinantarios[\"encuentro_anio\"].min()"
   ]
  },
  {
   "cell_type": "markdown",
   "id": "sonic-promise",
   "metadata": {
    "id": "sonic-promise"
   },
   "source": [
    "### Ejercicios\n",
    " 1. ¿Cuáles son los posibles destinatarios?\n",
    "\n",
    " 2. Mostrar la información de los encuentros del año 2019. *Crear una máscara y luego acceder con .loc*\n",
    " \n",
    " 3. Crea un Dafreame con los destinatarios de los encuentros del año 2019.\n",
    " \n",
    " 4. ¿Cuántos encuentros hubo en el año 2018?\n",
    " \n",
    " 5. ¿Cuántos encuentros hubo para \"Almunos de nivel secundario\"? *Realizaro con sum() y luego crea un Dataframe con la información de este/esos encuentro/s*\n",
    " \n",
    " 6. ¿Cuántos participantes promedio hubo por año? *usar groupby*\n",
    " \n",
    " 7. ¿Cuántos participantes de cada destinatario hubo? *usar groupby*\n",
    " \n",
    " 8. ¿Cuántos participantes hubo por año por destinatario por año? *para hacer agrupaciones sobre 2 columnas se deben colocar entre corchetes dentro del parentesis ([\"columa1\", \"columna2\"])*"
   ]
  }
 ],
 "metadata": {
  "colab": {
   "collapsed_sections": [],
   "name": "Pandas: Filtrar y agrupar.ipynb",
   "provenance": []
  },
  "kernelspec": {
   "display_name": "Python 3 (ipykernel)",
   "language": "python",
   "name": "python3"
  },
  "language_info": {
   "codemirror_mode": {
    "name": "ipython",
    "version": 3
   },
   "file_extension": ".py",
   "mimetype": "text/x-python",
   "name": "python",
   "nbconvert_exporter": "python",
   "pygments_lexer": "ipython3",
   "version": "3.8.9"
  }
 },
 "nbformat": 4,
 "nbformat_minor": 5
}
