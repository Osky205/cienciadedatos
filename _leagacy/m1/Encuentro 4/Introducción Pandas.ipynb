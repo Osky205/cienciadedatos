{
 "cells": [
  {
   "cell_type": "markdown",
   "id": "neither-theorem",
   "metadata": {
    "id": "neither-theorem"
   },
   "source": [
    "# Obtención de datos\n",
    " \n",
    "La materia prima de los proyectos de ciencia de datos son, obviamente, los datos, por lo que la obtención de los mismos es un tema relevante. Por lo general podemos tener diversas fuentes de datos, algunos ejemplos:\n",
    "* Datos libres: Son datos proporcionados por entidades gubernamentales, ONG o incluso empresas privadas, que son de uso libre para la comunidad, por ejemplo los que proporciona el [gobierno de la ciudad de buenos aires](https://data.buenosaires.gob.ar/)\n",
    "* API: Cuando estamos trabajando en proyectos privados es muy común encontrarnos con API's, estas son interfaces para consumir o generar datos a una fuente específica y de forma controlada, algunas API's de libre uso son de [Twitter](https://developer.twitter.com/en/docs/twitter-api), [NASA]( https://api.nasa.gov/) e incluso video juegos como [Heartstone](https://develop.battle.net/documentation/hearthstone/game-data-apis).\n",
    "* Web Scraping: Son softwares que descargan información de páginas web, generalmente simulando la navegación de un humano. Es una técnica muy usada para obtener gran cantidad de datos, sin embargo se debe de tener cuidado de que la página de la cual se están bajando datos permite el uso de esta técnica.\n",
    " \n"
   ]
  },
  {
   "cell_type": "markdown",
   "id": "bee5d884",
   "metadata": {},
   "source": [
    "# Repaso Funciones\n",
    "\n"
   ]
  },
  {
   "cell_type": "code",
   "execution_count": 1,
   "id": "326939e8",
   "metadata": {},
   "outputs": [],
   "source": [
    "def sumar(a,b):\n",
    "    return a+b"
   ]
  },
  {
   "cell_type": "code",
   "execution_count": 2,
   "id": "5009efad",
   "metadata": {},
   "outputs": [
    {
     "data": {
      "text/plain": [
       "13"
      ]
     },
     "execution_count": 2,
     "metadata": {},
     "output_type": "execute_result"
    }
   ],
   "source": [
    "sumar(6,7)"
   ]
  },
  {
   "cell_type": "code",
   "execution_count": 3,
   "id": "d057739a",
   "metadata": {},
   "outputs": [],
   "source": [
    "def restar(a,b):\n",
    "    return a-b"
   ]
  },
  {
   "cell_type": "code",
   "execution_count": 4,
   "id": "326ea29f",
   "metadata": {},
   "outputs": [],
   "source": [
    "calculadora={'suma': sumar, 'resta' :restar}"
   ]
  },
  {
   "cell_type": "code",
   "execution_count": 5,
   "id": "974979a5",
   "metadata": {},
   "outputs": [
    {
     "data": {
      "text/plain": [
       "15"
      ]
     },
     "execution_count": 5,
     "metadata": {},
     "output_type": "execute_result"
    }
   ],
   "source": [
    "calculadora['suma'](7,8)"
   ]
  },
  {
   "cell_type": "markdown",
   "id": "70e75d50",
   "metadata": {},
   "source": [
    "\n",
    "# Librerías\n",
    " \n",
    "Una librería es un conjunto de funciones enfocadas a resolver una problemática en general, en algunos casos las librerías generan incluso nuevos tipos de datos, lo cual aumenta considerablemente sus funcionalidades. Estas librerías son realizadas, en su mayoría, por la misma comunidad de programadores.\n",
    " \n",
    "Antes de poder usar una librería por lo general debes de instalar la misma, sin embargo, este es un paso que podemos omitir en Google Colab, gracias a que la plataforma ya cuenta con las librerías más populares preinstaladas.\n",
    " \n",
    "Para poder usar una librería primero debemos decirle a python que queremos usar dicha librería, para esto usamos el comando *import*.\n",
    " \n",
    "## Pandas\n",
    " \n",
    "Pandas es una de las librerías más usadas para analizar y manipular datos. Nos permite trabajar con una nueva estructura de datos, los _Data Frame_, que nos permite visualizar los datos en forma de tabla. \n",
    " \n",
    "Pandas nos proporciona una gran cantidad de funciones para manipular y transformar los Data Frame de forma sencilla, rápida y cómoda, además de proporcionarnos herramientas para poder leer datos y convertirlos en Data Frames de forma automática.\n",
    " \n",
    "Es muy aconsejable leer la [documentación](https://pandas.pydata.org/docs/) de Pandas ante cualquier duda, ya que la misma cuenta con una explicación detallada y ejemplos para cada función disponible. Adicionalmente a la documentación podemos ver todas las funcionalidades más comunes de la librería en su [hoja de trucos](https://pandas.pydata.org/Pandas_Cheat_Sheet.pdf). Y pueden ver [material adicional de w3school](https://www.w3schools.com/python/pandas/pandas_analyzing.asp)\n",
    "\n",
    "\n",
    "## Dataset\n",
    "\n",
    "En esta notebook comenzaremos a ver como podemos subir un dataset  hacer una una primera exploración de nuestro dataset con distintos métodos de la libreria pandas para ver el tamaño, las columnas, qué tipo de valores toma, que información incluye, qué tipos de datos hay. Intentaremos completar el archivo de Metadata con la información de cada columna.\n",
    "\n",
    "Utilizaremos un dataset sobre Encuentros de educación ambiental extraído de https://datos.gob.ar/dataset/ambiente-encuentros-jornadas-educacion-ambiental\n"
   ]
  },
  {
   "cell_type": "code",
   "execution_count": 6,
   "id": "collaborative-order",
   "metadata": {
    "id": "collaborative-order"
   },
   "outputs": [],
   "source": [
    "#importamos la libreria pandas que utilizaremos\n",
    "import pandas as pd\n"
   ]
  },
  {
   "cell_type": "markdown",
   "id": "u3eWqHlN0WfS",
   "metadata": {
    "id": "u3eWqHlN0WfS"
   },
   "source": [
    "### Importamos un archivo CSV (separado por comas)\n",
    "\n",
    "Podemos leer el archivo y convertirlo en un _Data Frame_ de Pandas. Para esto usamos la función _read_csv_ y le pasamos como argumento el nombre del archivo. \n",
    "Pandas cuenta con funciones para convertir todo tipo de archivos a un _Data Frame_. [En esta sección de la documentación oficial](https://pandas.pydata.org/pandas-docs/stable/user_guide/io.html), podemos encontrar las diferentes funciones de conversión.\n",
    "\n",
    "[Documentación de método read_csv](https://pandas.pydata.org/docs/reference/api/pandas.read_csv.html?highlight=read_csv)\n",
    "\n",
    "Hay distintas maneras de subir un archivo a Google Colab: Desde el Drive, seleccionandolo desde la computadora o, en algunos casos, con una URL.\n",
    "\n"
   ]
  },
  {
   "cell_type": "markdown",
   "id": "F5XabMqx0kSX",
   "metadata": {
    "id": "F5XabMqx0kSX"
   },
   "source": [
    "#### Desde el archivo descargado en la computadora.\n",
    "\n",
    "Primero descargamos el archivo que nos interese y luego lo subimos al colab. Solo hace falta arrastrar el archivo al costado del colab."
   ]
  },
  {
   "cell_type": "code",
   "execution_count": null,
   "id": "hAhJVk9n0rpe",
   "metadata": {
    "id": "hAhJVk9n0rpe"
   },
   "outputs": [],
   "source": [
    "data = pd.read_csv(\"encuentro-educacion-ambiental.csv\", sep=\";\") "
   ]
  },
  {
   "cell_type": "markdown",
   "id": "lmz_rr-xyJcj",
   "metadata": {
    "id": "lmz_rr-xyJcj"
   },
   "source": [
    "### Exploración de dataset\n",
    "\n",
    "Hay diferentes métodos de la libreria pandas que se pueden utilizar para explorar un dataset\n",
    "\n",
    "- *head()*: los primeros registros de un dataset\n",
    "- *tail()*: los úlitmos registros de un dataset\n",
    "- *sample()*: ver registros aleatoriamente"
   ]
  },
  {
   "cell_type": "code",
   "execution_count": null,
   "id": "KNnfWE5kGuqo",
   "metadata": {
    "id": "KNnfWE5kGuqo"
   },
   "outputs": [],
   "source": [
    "#Creado el objeto data, lo observamos\n",
    "\n",
    "data\n",
    "\n",
    "# Como el dataset es pequeño se muesta entero, sino solo muestra los primeros 5 y los últimos 5 registros"
   ]
  },
  {
   "cell_type": "code",
   "execution_count": null,
   "id": "statutory-designer",
   "metadata": {
    "id": "statutory-designer"
   },
   "outputs": [],
   "source": [
    "# Head sirve para ver las primeras filas, el parámetro dentro del paréntesis indica cuántas\n",
    "# Si no se completa, por default muestra 5 filas\n",
    "\n",
    "data.head()\n"
   ]
  },
  {
   "cell_type": "code",
   "execution_count": null,
   "id": "KSci8fcbuG-m",
   "metadata": {
    "id": "KSci8fcbuG-m"
   },
   "outputs": [],
   "source": [
    "# shape sirve para ver el tamaño del dataset. Resultado: (filas, columnas)\n",
    "\n",
    "data.shape"
   ]
  },
  {
   "cell_type": "code",
   "execution_count": null,
   "id": "af7xmWTmuS1X",
   "metadata": {
    "id": "af7xmWTmuS1X"
   },
   "outputs": [],
   "source": [
    "# columns demuestra una lista con nombres de las columnas\n",
    "\n",
    "data.columns"
   ]
  },
  {
   "cell_type": "markdown",
   "id": "yTfYRCrRyio6",
   "metadata": {
    "id": "yTfYRCrRyio6"
   },
   "source": [
    "Para ver una sola columna, hay dos métodos: se debe poner el nombre del DataFrame (tabla) y entre corchetes el nombre de la columna entre comillas. También se puede acceder colocando el nombre de la tabla.columna \n",
    "\n",
    "\n",
    "nombre_dataset.nombre_columna\n",
    "\n",
    "nombre_dataset[\"nombre_columna\"]"
   ]
  },
  {
   "cell_type": "code",
   "execution_count": null,
   "id": "2z0mzmMNueV2",
   "metadata": {
    "id": "2z0mzmMNueV2"
   },
   "outputs": [],
   "source": [
    "data[\"encuentro_anio\"]  # puede ser comilla simple o doble"
   ]
  },
  {
   "cell_type": "code",
   "execution_count": null,
   "id": "Sh546bhCuxJ5",
   "metadata": {
    "id": "Sh546bhCuxJ5"
   },
   "outputs": [],
   "source": [
    "data.encuentro_anio"
   ]
  },
  {
   "cell_type": "code",
   "execution_count": null,
   "id": "N6CWHb1uuzPv",
   "metadata": {
    "id": "N6CWHb1uuzPv"
   },
   "outputs": [],
   "source": [
    "# Para ver dos columnas se debe armar una lista de columnas que deseo seleccionar\n",
    "\n",
    "data[[\"encuentro_anio\", \"encuentro_numero\"]]"
   ]
  },
  {
   "cell_type": "markdown",
   "id": "OBwxiTJyy2km",
   "metadata": {
    "id": "OBwxiTJyy2km"
   },
   "source": [
    "Dentro de un DataFrame, cada columna puede tomar distintos tipos de datos. \n",
    "\n",
    "- Número entero: int\n",
    "- Número con decimales: float\n",
    "- Cadena de caracteres: str\n",
    "- Object: objeto que no es un numero: object\n",
    "\n",
    "Dentro de una misma columna no puede haber distintos tipos de datos, por ejemplo: si casi todos los registros de una columna tienen números pero un registro tiene una cadena de carácteres, el tipo de dato es \"object\" y los números también son considerados como no-numéricos (no se pueden realizar operaciones matemáticas)"
   ]
  },
  {
   "cell_type": "code",
   "execution_count": null,
   "id": "AOMHuQC8u-DY",
   "metadata": {
    "id": "AOMHuQC8u-DY"
   },
   "outputs": [],
   "source": [
    "# dtypes: tipo de dato de cada columna\n",
    "\n",
    "data.dtypes"
   ]
  },
  {
   "cell_type": "code",
   "execution_count": null,
   "id": "leading-harvest",
   "metadata": {
    "id": "leading-harvest"
   },
   "outputs": [],
   "source": [
    "#info: resumen de información general del dataset\n",
    "\n",
    "data.info()"
   ]
  },
  {
   "cell_type": "markdown",
   "id": "pOgaELthv1tV",
   "metadata": {
    "id": "pOgaELthv1tV"
   },
   "source": [
    "#### Operaciones matemáticas\n",
    "\n",
    "Sobre un dataset se pueden realizar operaciones matemáticas utilizando métodos de la libreria pandas. Por ejemplo sumar los valores de una columna (*sum) o seleccionar el valor máximo (*max*) o mínimo (*min*)"
   ]
  },
  {
   "cell_type": "code",
   "execution_count": null,
   "id": "PejA-qQFwHzE",
   "metadata": {
    "id": "PejA-qQFwHzE"
   },
   "outputs": [],
   "source": [
    "# Para conocer la cantidad total de encuentros, sumamos los valores de la columan \"encuentro_numero\"\n",
    "\n",
    "data[\"encuentro_numero\"].sum()"
   ]
  },
  {
   "cell_type": "code",
   "execution_count": null,
   "id": "pKd472EfAwyJ",
   "metadata": {
    "id": "pKd472EfAwyJ"
   },
   "outputs": [],
   "source": [
    "# mayor cantidad de participantes\n",
    "data[\"encuentro_participantes\"].max()"
   ]
  },
  {
   "cell_type": "code",
   "execution_count": null,
   "id": "7fpzmueWBB3v",
   "metadata": {
    "id": "7fpzmueWBB3v"
   },
   "outputs": [],
   "source": [
    "# menor cantidad de participantes\n",
    "data[\"encuentro_participantes\"].min()"
   ]
  },
  {
   "cell_type": "markdown",
   "id": "e51ofbzzzF57",
   "metadata": {
    "id": "e51ofbzzzF57"
   },
   "source": [
    "#### Valores que que toman los registros en cada columna\n",
    "\n",
    "*unique()*: muestra los todos los valores que pueden tomar las registros de una columna\n",
    "\n",
    "*value_counts()*: cuenta la cantidad de valores. En caso de querer saber cuantas especies existen en el Data Frame y cuantas observaciones hay de cada una podemos usar el método  _values_count_, que devuelve todos los valores distintos que existen en esa columna junto a la cantidad de veces que aparece dicho valor, todo esto ordenado de mayor a menor. \n"
   ]
  },
  {
   "cell_type": "code",
   "execution_count": null,
   "id": "eRKL3fl4wly7",
   "metadata": {
    "id": "eRKL3fl4wly7"
   },
   "outputs": [],
   "source": [
    "# unique: para concer los valores únicos que toma una columna\n",
    "\n",
    "data[\"encuentro_tematica\"].unique()"
   ]
  },
  {
   "cell_type": "code",
   "execution_count": null,
   "id": "VAkHRyPBwuLO",
   "metadata": {
    "id": "VAkHRyPBwuLO"
   },
   "outputs": [],
   "source": [
    " # value_counts(): para conocer cuantos registros(filas) hay de cada valor de una columna\n",
    "\n",
    "data[\"encuentro_tematica\"].value_counts()"
   ]
  },
  {
   "cell_type": "markdown",
   "id": "-i7G12D98U_o",
   "metadata": {
    "id": "-i7G12D98U_o"
   },
   "source": [
    "#### Operaciones sobre columnas\n",
    "\n",
    "Es posible modificar el nombre de una sola columna definiendola con el método *rename* y un diccionario de lo que se desea cambiar. [Documentación método rename](https://pandas.pydata.org/docs/reference/api/pandas.DataFrame.rename.html)\n",
    "\n",
    "En el caso que se desee modificar los nombres de todas las columnas, se puede utilizar el método *columns* con una lista de los nombres (siempre tiene que haber la misma cantidad de nombres que de columnas)\n",
    "\n",
    "Otra acción que se puede realizar sobre una columna es eliminarla con el método *drop*. [Documentación método drop](https://pandas.pydata.org/docs/reference/api/pandas.DataFrame.drop.html?highlight=drop#pandas.DataFrame.drop)"
   ]
  },
  {
   "cell_type": "code",
   "execution_count": null,
   "id": "MEW1BYVQ8xg3",
   "metadata": {
    "id": "MEW1BYVQ8xg3"
   },
   "outputs": [],
   "source": [
    "renombrar = {\"Encuentro_destinatarios\": \"encuentro_destinatario\"}\n",
    "\n",
    "data.rename(columns = renombrar, inplace=True)\n",
    "\n",
    "# El argumento inplace indica que se haga la modificación en el mismo DataFrame que estamos utilizando, otra posiblidad sería crear un DataFrame nuevo"
   ]
  },
  {
   "cell_type": "code",
   "execution_count": null,
   "id": "hzq_rshr9RKP",
   "metadata": {
    "id": "hzq_rshr9RKP"
   },
   "outputs": [],
   "source": [
    "data.head(2)"
   ]
  },
  {
   "cell_type": "code",
   "execution_count": null,
   "id": "TRL-IUej8xjk",
   "metadata": {
    "id": "TRL-IUej8xjk"
   },
   "outputs": [],
   "source": [
    "data.columns =[\"anio_encuentro\", \"cantidad_encuentros\", \"cantidad_participantes\", \"encuentro_tematica\", \"destinatario\"]"
   ]
  },
  {
   "cell_type": "code",
   "execution_count": null,
   "id": "X4aqmd688xme",
   "metadata": {
    "id": "X4aqmd688xme"
   },
   "outputs": [],
   "source": [
    "data.head(2)"
   ]
  },
  {
   "cell_type": "code",
   "execution_count": null,
   "id": "RBlC41D18xp-",
   "metadata": {
    "id": "RBlC41D18xp-"
   },
   "outputs": [],
   "source": [
    "data_con_drop = data.drop(columns=\"anio_encuentro\")\n",
    "\n",
    "#Sin el inplace no se modifica el DataFrame que estamos utilizando, se puede crear uno nuevo."
   ]
  },
  {
   "cell_type": "code",
   "execution_count": null,
   "id": "ypCJTzj__KAd",
   "metadata": {
    "id": "ypCJTzj__KAd"
   },
   "outputs": [],
   "source": [
    "data.head(2)"
   ]
  },
  {
   "cell_type": "markdown",
   "id": "sonic-promise",
   "metadata": {
    "id": "sonic-promise"
   },
   "source": [
    "### Ejercicios\n",
    " 1. ¿Cuántas columnas tiene el Dataframe?\n",
    "\n",
    " 2. Seleccionar únicamente la columna \"encuentro_tematica?\n",
    " \n",
    " 3. Ver los últimos 5 registros\n",
    " \n",
    " 4. ¿Cuántos participantes totales hubo?\n",
    " \n",
    " 5. ¿Cuáles son los posibles destinatarios?\n",
    " \n",
    " 6. Completemos el archivo Metadata con la información de cada columna del dataset."
   ]
  }
 ],
 "metadata": {
  "colab": {
   "collapsed_sections": [],
   "name": "Introducción Pandas.ipynb",
   "provenance": []
  },
  "kernelspec": {
   "display_name": "Python 3.9.6 64-bit",
   "language": "python",
   "name": "python3"
  },
  "language_info": {
   "codemirror_mode": {
    "name": "ipython",
    "version": 3
   },
   "file_extension": ".py",
   "mimetype": "text/x-python",
   "name": "python",
   "nbconvert_exporter": "python",
   "pygments_lexer": "ipython3",
   "version": "3.9.6"
  },
  "vscode": {
   "interpreter": {
    "hash": "31f2aee4e71d21fbe5cf8b01ff0e069b9275f58929596ceb00d14d90e3e16cd6"
   }
  }
 },
 "nbformat": 4,
 "nbformat_minor": 5
}
