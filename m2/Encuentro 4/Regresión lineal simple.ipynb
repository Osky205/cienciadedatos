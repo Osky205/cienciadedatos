{
 "cells": [
  {
   "cell_type": "markdown",
   "metadata": {
    "id": "Ye-G_YbkqbGb"
   },
   "source": [
    "# Regresión Lineal\n",
    " \n",
    "La regresión lineal es un modelo que trata de predecir variables numéricas como precios, cantidades, pesos, etc. Se basa en estimar el valor de la variable a predecir en función de las otras variables observadas.\n",
    "\n",
    "Es el modelo de regresión más básico. El objetivo es buscar la línea recta que mejor se ajuste a los datos conocidos. Esto se hace buscando la línea tal que la suma de las distancias de los datos a la línea sea mínima.\n",
    "\n",
    "Entrenar una regresión lineal, al igual que casi todos los modelos, es muy sencillo gracias a las bibliotecas disponibles en los diferentes lenguajes de programación. En este caso usaremos **pandas** y **scikit-learn**, una biblioteca de aprendizaje automático de software gratuito para Python.\n",
    " \n"
   ]
  },
  {
   "cell_type": "markdown",
   "metadata": {
    "id": "Ix8IWIcSP1k8"
   },
   "source": [
    "## Parámetros e hiper parámetros\n",
    " \n",
    "Cuando se va a entrenar un modelo es importante mantener en cuenta cuales son los parámetros y los hiperparámetros del mismo y la diferencia entre estos.\n",
    " \n",
    "Los parámetros de un modelo son aquellos que se ajustan automáticamente en el entrenamiento del modelo, es decir, son aquellos valores que el modelo aprende para que la salida se asemeje a lo que queremos. En el caso de una regresión lineal, los parámetros son la pendiente de la recta y el intercepto, por ejemplo:\n",
    " \n",
    "$Y = mX + b$\n",
    " \n",
    "Los parámetros son $m$ y $b$.\n",
    " \n",
    "Los hiperparámetros de un modelo son aquellos que escogemos, es decir, estos no se aprenden a través de los algoritmos de entrenamiento, sino que se **configuran previamente**. En el caso de la regresión lineal es posible definir si tiene o no un intercepto."
   ]
  },
  {
   "cell_type": "markdown",
   "metadata": {
    "id": "4bxKmjUVeOZB"
   },
   "source": [
    "## Regresión Lineal Simple\n",
    "\n",
    "Comenzemos entrenando un modelo de regresión lineal simple, es decir que solamente tenga una variable predictora y una variable a predecir, en este caso utilizaremos un Dataset extraído de [Kaggle](https://www.kaggle.com/rsadiq/salary) que intentará predecir el salario en base a la antiguedad de un trabajador. \n",
    "\n",
    "Luego de la exploración y limpieza del Dataset, los pasos que realizaremos son: \n",
    "\n",
    "1. Dividir los datos en **X** (variables predictoras) e **y** (variable a predecir)\n",
    "2. Dividir los datos en entrenamiento y testo con el método *train_test_split*\n",
    "3. Importar e instanciar el modelo que utilizaremos y definir hiperparámetros\n",
    "4. Entrenar el modelo con el método *fit*\n",
    "5. Testear el modelo con el método *predict*\n",
    "6. Evaluar la performance con una métrica "
   ]
  },
  {
   "cell_type": "code",
   "execution_count": 1,
   "metadata": {
    "id": "g3yCux2WeOZC"
   },
   "outputs": [],
   "source": [
    "#importamos las librerías que utilizaremos\n",
    "\n",
    "import pandas as pd\n",
    "import matplotlib.pyplot as plt\n",
    "import seaborn as sns"
   ]
  },
  {
   "cell_type": "code",
   "execution_count": 2,
   "metadata": {
    "id": "ruled-burlington"
   },
   "outputs": [],
   "source": [
    "data = pd.read_csv(\"salario.csv\")"
   ]
  },
  {
   "cell_type": "markdown",
   "metadata": {
    "id": "oMob1iiqdyuj"
   },
   "source": [
    "#### Exploración y limpieza del Dataset\n",
    "\n",
    "Realizaremos una pequeña exploración del dataset para confirmar qué variables tiene, si tiene datos nulos, si tiene datos numéricos, la distribución de las variables y la relación entre las mismas."
   ]
  },
  {
   "cell_type": "code",
   "execution_count": 3,
   "metadata": {
    "id": "Rpy6Wnd2eOZD"
   },
   "outputs": [
    {
     "data": {
      "text/html": [
       "<div>\n",
       "<style scoped>\n",
       "    .dataframe tbody tr th:only-of-type {\n",
       "        vertical-align: middle;\n",
       "    }\n",
       "\n",
       "    .dataframe tbody tr th {\n",
       "        vertical-align: top;\n",
       "    }\n",
       "\n",
       "    .dataframe thead th {\n",
       "        text-align: right;\n",
       "    }\n",
       "</style>\n",
       "<table border=\"1\" class=\"dataframe\">\n",
       "  <thead>\n",
       "    <tr style=\"text-align: right;\">\n",
       "      <th></th>\n",
       "      <th>anios_experiencia</th>\n",
       "      <th>salario</th>\n",
       "    </tr>\n",
       "  </thead>\n",
       "  <tbody>\n",
       "    <tr>\n",
       "      <th>0</th>\n",
       "      <td>1.1</td>\n",
       "      <td>39343</td>\n",
       "    </tr>\n",
       "    <tr>\n",
       "      <th>1</th>\n",
       "      <td>1.3</td>\n",
       "      <td>46205</td>\n",
       "    </tr>\n",
       "    <tr>\n",
       "      <th>2</th>\n",
       "      <td>1.5</td>\n",
       "      <td>37731</td>\n",
       "    </tr>\n",
       "    <tr>\n",
       "      <th>3</th>\n",
       "      <td>2.0</td>\n",
       "      <td>43525</td>\n",
       "    </tr>\n",
       "    <tr>\n",
       "      <th>4</th>\n",
       "      <td>2.2</td>\n",
       "      <td>39891</td>\n",
       "    </tr>\n",
       "    <tr>\n",
       "      <th>5</th>\n",
       "      <td>2.9</td>\n",
       "      <td>56642</td>\n",
       "    </tr>\n",
       "    <tr>\n",
       "      <th>6</th>\n",
       "      <td>3.0</td>\n",
       "      <td>6015</td>\n",
       "    </tr>\n",
       "    <tr>\n",
       "      <th>7</th>\n",
       "      <td>3.2</td>\n",
       "      <td>54445</td>\n",
       "    </tr>\n",
       "    <tr>\n",
       "      <th>8</th>\n",
       "      <td>3.2</td>\n",
       "      <td>64445</td>\n",
       "    </tr>\n",
       "    <tr>\n",
       "      <th>9</th>\n",
       "      <td>3.7</td>\n",
       "      <td>57189</td>\n",
       "    </tr>\n",
       "    <tr>\n",
       "      <th>10</th>\n",
       "      <td>3.9</td>\n",
       "      <td>63218</td>\n",
       "    </tr>\n",
       "    <tr>\n",
       "      <th>11</th>\n",
       "      <td>4.0</td>\n",
       "      <td>55794</td>\n",
       "    </tr>\n",
       "    <tr>\n",
       "      <th>12</th>\n",
       "      <td>4.0</td>\n",
       "      <td>56957</td>\n",
       "    </tr>\n",
       "    <tr>\n",
       "      <th>13</th>\n",
       "      <td>4.1</td>\n",
       "      <td>57081</td>\n",
       "    </tr>\n",
       "    <tr>\n",
       "      <th>14</th>\n",
       "      <td>4.5</td>\n",
       "      <td>61111</td>\n",
       "    </tr>\n",
       "    <tr>\n",
       "      <th>15</th>\n",
       "      <td>4.9</td>\n",
       "      <td>67938</td>\n",
       "    </tr>\n",
       "    <tr>\n",
       "      <th>16</th>\n",
       "      <td>5.1</td>\n",
       "      <td>66029</td>\n",
       "    </tr>\n",
       "    <tr>\n",
       "      <th>17</th>\n",
       "      <td>5.3</td>\n",
       "      <td>83088</td>\n",
       "    </tr>\n",
       "    <tr>\n",
       "      <th>18</th>\n",
       "      <td>5.9</td>\n",
       "      <td>81363</td>\n",
       "    </tr>\n",
       "    <tr>\n",
       "      <th>19</th>\n",
       "      <td>6.0</td>\n",
       "      <td>9394</td>\n",
       "    </tr>\n",
       "    <tr>\n",
       "      <th>20</th>\n",
       "      <td>6.8</td>\n",
       "      <td>91738</td>\n",
       "    </tr>\n",
       "    <tr>\n",
       "      <th>21</th>\n",
       "      <td>7.1</td>\n",
       "      <td>98273</td>\n",
       "    </tr>\n",
       "    <tr>\n",
       "      <th>22</th>\n",
       "      <td>7.9</td>\n",
       "      <td>101302</td>\n",
       "    </tr>\n",
       "    <tr>\n",
       "      <th>23</th>\n",
       "      <td>8.2</td>\n",
       "      <td>113812</td>\n",
       "    </tr>\n",
       "    <tr>\n",
       "      <th>24</th>\n",
       "      <td>8.7</td>\n",
       "      <td>109431</td>\n",
       "    </tr>\n",
       "    <tr>\n",
       "      <th>25</th>\n",
       "      <td>9.0</td>\n",
       "      <td>105582</td>\n",
       "    </tr>\n",
       "    <tr>\n",
       "      <th>26</th>\n",
       "      <td>9.5</td>\n",
       "      <td>116969</td>\n",
       "    </tr>\n",
       "    <tr>\n",
       "      <th>27</th>\n",
       "      <td>9.6</td>\n",
       "      <td>112635</td>\n",
       "    </tr>\n",
       "    <tr>\n",
       "      <th>28</th>\n",
       "      <td>10.3</td>\n",
       "      <td>122391</td>\n",
       "    </tr>\n",
       "    <tr>\n",
       "      <th>29</th>\n",
       "      <td>10.5</td>\n",
       "      <td>121872</td>\n",
       "    </tr>\n",
       "    <tr>\n",
       "      <th>30</th>\n",
       "      <td>11.2</td>\n",
       "      <td>127345</td>\n",
       "    </tr>\n",
       "    <tr>\n",
       "      <th>31</th>\n",
       "      <td>11.5</td>\n",
       "      <td>126756</td>\n",
       "    </tr>\n",
       "    <tr>\n",
       "      <th>32</th>\n",
       "      <td>12.3</td>\n",
       "      <td>128765</td>\n",
       "    </tr>\n",
       "    <tr>\n",
       "      <th>33</th>\n",
       "      <td>12.9</td>\n",
       "      <td>135675</td>\n",
       "    </tr>\n",
       "    <tr>\n",
       "      <th>34</th>\n",
       "      <td>13.5</td>\n",
       "      <td>139465</td>\n",
       "    </tr>\n",
       "  </tbody>\n",
       "</table>\n",
       "</div>"
      ],
      "text/plain": [
       "    anios_experiencia  salario\n",
       "0                 1.1    39343\n",
       "1                 1.3    46205\n",
       "2                 1.5    37731\n",
       "3                 2.0    43525\n",
       "4                 2.2    39891\n",
       "5                 2.9    56642\n",
       "6                 3.0     6015\n",
       "7                 3.2    54445\n",
       "8                 3.2    64445\n",
       "9                 3.7    57189\n",
       "10                3.9    63218\n",
       "11                4.0    55794\n",
       "12                4.0    56957\n",
       "13                4.1    57081\n",
       "14                4.5    61111\n",
       "15                4.9    67938\n",
       "16                5.1    66029\n",
       "17                5.3    83088\n",
       "18                5.9    81363\n",
       "19                6.0     9394\n",
       "20                6.8    91738\n",
       "21                7.1    98273\n",
       "22                7.9   101302\n",
       "23                8.2   113812\n",
       "24                8.7   109431\n",
       "25                9.0   105582\n",
       "26                9.5   116969\n",
       "27                9.6   112635\n",
       "28               10.3   122391\n",
       "29               10.5   121872\n",
       "30               11.2   127345\n",
       "31               11.5   126756\n",
       "32               12.3   128765\n",
       "33               12.9   135675\n",
       "34               13.5   139465"
      ]
     },
     "execution_count": 3,
     "metadata": {},
     "output_type": "execute_result"
    }
   ],
   "source": [
    "# Observamos los primeros registros del dataset\n",
    "\n",
    "data"
   ]
  },
  {
   "cell_type": "code",
   "execution_count": 4,
   "metadata": {
    "id": "5DWHwOjWeOZE"
   },
   "outputs": [
    {
     "name": "stdout",
     "output_type": "stream",
     "text": [
      "<class 'pandas.core.frame.DataFrame'>\n",
      "RangeIndex: 35 entries, 0 to 34\n",
      "Data columns (total 2 columns):\n",
      " #   Column             Non-Null Count  Dtype  \n",
      "---  ------             --------------  -----  \n",
      " 0   anios_experiencia  35 non-null     float64\n",
      " 1   salario            35 non-null     int64  \n",
      "dtypes: float64(1), int64(1)\n",
      "memory usage: 688.0 bytes\n"
     ]
    }
   ],
   "source": [
    "# vemos la información del dataset: cantidad de registros, tipos de dato y nulos\n",
    "data.info()"
   ]
  },
  {
   "cell_type": "code",
   "execution_count": 5,
   "metadata": {
    "id": "ADWF6zV0dyuk"
   },
   "outputs": [
    {
     "data": {
      "text/html": [
       "<div>\n",
       "<style scoped>\n",
       "    .dataframe tbody tr th:only-of-type {\n",
       "        vertical-align: middle;\n",
       "    }\n",
       "\n",
       "    .dataframe tbody tr th {\n",
       "        vertical-align: top;\n",
       "    }\n",
       "\n",
       "    .dataframe thead th {\n",
       "        text-align: right;\n",
       "    }\n",
       "</style>\n",
       "<table border=\"1\" class=\"dataframe\">\n",
       "  <thead>\n",
       "    <tr style=\"text-align: right;\">\n",
       "      <th></th>\n",
       "      <th>anios_experiencia</th>\n",
       "      <th>salario</th>\n",
       "    </tr>\n",
       "  </thead>\n",
       "  <tbody>\n",
       "    <tr>\n",
       "      <th>count</th>\n",
       "      <td>35.000000</td>\n",
       "      <td>35.000000</td>\n",
       "    </tr>\n",
       "    <tr>\n",
       "      <th>mean</th>\n",
       "      <td>6.308571</td>\n",
       "      <td>79983.285714</td>\n",
       "    </tr>\n",
       "    <tr>\n",
       "      <th>std</th>\n",
       "      <td>3.618610</td>\n",
       "      <td>36616.606383</td>\n",
       "    </tr>\n",
       "    <tr>\n",
       "      <th>min</th>\n",
       "      <td>1.100000</td>\n",
       "      <td>6015.000000</td>\n",
       "    </tr>\n",
       "    <tr>\n",
       "      <th>25%</th>\n",
       "      <td>3.450000</td>\n",
       "      <td>56218.000000</td>\n",
       "    </tr>\n",
       "    <tr>\n",
       "      <th>50%</th>\n",
       "      <td>5.300000</td>\n",
       "      <td>67938.000000</td>\n",
       "    </tr>\n",
       "    <tr>\n",
       "      <th>75%</th>\n",
       "      <td>9.250000</td>\n",
       "      <td>113223.500000</td>\n",
       "    </tr>\n",
       "    <tr>\n",
       "      <th>max</th>\n",
       "      <td>13.500000</td>\n",
       "      <td>139465.000000</td>\n",
       "    </tr>\n",
       "  </tbody>\n",
       "</table>\n",
       "</div>"
      ],
      "text/plain": [
       "       anios_experiencia        salario\n",
       "count          35.000000      35.000000\n",
       "mean            6.308571   79983.285714\n",
       "std             3.618610   36616.606383\n",
       "min             1.100000    6015.000000\n",
       "25%             3.450000   56218.000000\n",
       "50%             5.300000   67938.000000\n",
       "75%             9.250000  113223.500000\n",
       "max            13.500000  139465.000000"
      ]
     },
     "execution_count": 5,
     "metadata": {},
     "output_type": "execute_result"
    }
   ],
   "source": [
    "# Vemos la distribución de las variables\n",
    "data.describe()"
   ]
  },
  {
   "cell_type": "code",
   "execution_count": 6,
   "metadata": {
    "id": "nNdaD0DoeOZF"
   },
   "outputs": [
    {
     "data": {
      "text/html": [
       "<div>\n",
       "<style scoped>\n",
       "    .dataframe tbody tr th:only-of-type {\n",
       "        vertical-align: middle;\n",
       "    }\n",
       "\n",
       "    .dataframe tbody tr th {\n",
       "        vertical-align: top;\n",
       "    }\n",
       "\n",
       "    .dataframe thead th {\n",
       "        text-align: right;\n",
       "    }\n",
       "</style>\n",
       "<table border=\"1\" class=\"dataframe\">\n",
       "  <thead>\n",
       "    <tr style=\"text-align: right;\">\n",
       "      <th></th>\n",
       "      <th>anios_experiencia</th>\n",
       "      <th>salario</th>\n",
       "    </tr>\n",
       "  </thead>\n",
       "  <tbody>\n",
       "    <tr>\n",
       "      <th>anios_experiencia</th>\n",
       "      <td>1.000000</td>\n",
       "      <td>0.908476</td>\n",
       "    </tr>\n",
       "    <tr>\n",
       "      <th>salario</th>\n",
       "      <td>0.908476</td>\n",
       "      <td>1.000000</td>\n",
       "    </tr>\n",
       "  </tbody>\n",
       "</table>\n",
       "</div>"
      ],
      "text/plain": [
       "                   anios_experiencia   salario\n",
       "anios_experiencia           1.000000  0.908476\n",
       "salario                     0.908476  1.000000"
      ]
     },
     "execution_count": 6,
     "metadata": {},
     "output_type": "execute_result"
    }
   ],
   "source": [
    "# Vemos la correlación entre las variables, como se observa es alta\n",
    "data.corr()"
   ]
  },
  {
   "cell_type": "code",
   "execution_count": 7,
   "metadata": {
    "id": "vCawJcp3eOZF"
   },
   "outputs": [
    {
     "data": {
      "image/png": "[encoded data removed]",
      "text/plain": [
       "<Figure size 720x576 with 1 Axes>"
      ]
     },
     "metadata": {
      "needs_background": "light"
     },
     "output_type": "display_data"
    }
   ],
   "source": [
    "# Realizamos un gráfico para observar la relación entre las variables\n",
    "plt.figure(figsize = (10,8))\n",
    "sns.scatterplot(data=data, x=\"anios_experiencia\", y=\"salario\", color = 'g')\n",
    "plt.grid(True)"
   ]
  },
  {
   "cell_type": "markdown",
   "metadata": {
    "id": "VBLVuUvieOZG"
   },
   "source": [
    "#### División de datos en entrenamiento y testeo\n",
    "\n",
    "En primer lugar vamos a separar el Dataset para crear **X** e **y**:\n",
    "- **X**: variables predictoras, en este caso *anios_experiencia*\n",
    "- **y**: variable a predecir, en este caso *salario*\n",
    "\n",
    "Luego lo separaremos nuevamente entre datos de Entrenamiento y Testeo para lo cual usaremos [train_test_split](https://scikit-learn.org/stable/modules/generated/sklearn.model_selection.train_test_split.html?highlight=train%20test%20split#sklearn.model_selection.train_test_split) de la librería de Scikit-learn. \n",
    "\n",
    "La función **train_test_split** debe recibir, un DataFrame solo con las variables a usar para predecir y, de forma separada, la columna objetivo, adicionalmente le podemos pasar otros parámetros, como la proporción de datos que queremos que tenga el conjunto de prueba (un valor entre 0 o 1) y el random_state, el cual nos permite que, al pasar los mismos datos, con el mismo valor de random_state, se hagan las separaciones iguales, con la finalidad de poder repetir el experimento.  \n",
    "\n",
    "Siempre importamos justo las funciones que requerimos de scikit-learn, esto lo hacemos ya que la librería es inmensa, con muchísimas funcionalidades y para mantener orden y limpieza en nuestro proyecto es recomendable hacer las importaciones de esta manera."
   ]
  },
  {
   "cell_type": "code",
   "execution_count": 8,
   "metadata": {
    "id": "0m5jMx0weOZG"
   },
   "outputs": [],
   "source": [
    "# División entre variables predictoras y variable a predecir\n",
    "X = data[\"anios_experiencia\"]\n",
    "y = data[\"salario\"]"
   ]
  },
  {
   "cell_type": "code",
   "execution_count": 9,
   "metadata": {
    "id": "Gwl_NZx2eOZG"
   },
   "outputs": [
    {
     "name": "stdout",
     "output_type": "stream",
     "text": [
      "(35,)\n"
     ]
    },
    {
     "data": {
      "text/plain": [
       "0    1.1\n",
       "1    1.3\n",
       "2    1.5\n",
       "Name: anios_experiencia, dtype: float64"
      ]
     },
     "execution_count": 9,
     "metadata": {},
     "output_type": "execute_result"
    }
   ],
   "source": [
    "# Confirmamos que se realizo correctamente observando X\n",
    "print(X.shape)\n",
    "X.head(3)"
   ]
  },
  {
   "cell_type": "code",
   "execution_count": 10,
   "metadata": {
    "id": "dvr20WuoeOZH"
   },
   "outputs": [
    {
     "name": "stdout",
     "output_type": "stream",
     "text": [
      "(35,)\n"
     ]
    },
    {
     "data": {
      "text/plain": [
       "0    39343\n",
       "1    46205\n",
       "2    37731\n",
       "Name: salario, dtype: int64"
      ]
     },
     "execution_count": 10,
     "metadata": {},
     "output_type": "execute_result"
    }
   ],
   "source": [
    "# Confirmamos que se realizo correctamente observando y\n",
    "\n",
    "print(y.shape)\n",
    "y.head(3)"
   ]
  },
  {
   "cell_type": "code",
   "execution_count": 11,
   "metadata": {
    "id": "s3XZjbx6eOZH"
   },
   "outputs": [],
   "source": [
    "# Importamos train_test_split de la libreria scikit-learn\n",
    "\n",
    "from sklearn.model_selection import train_test_split "
   ]
  },
  {
   "cell_type": "code",
   "execution_count": 36,
   "metadata": {
    "id": "xHeKCyZ0eOZH"
   },
   "outputs": [],
   "source": [
    "# Definimos X de entrenamiento y de testeo e y de entrenamiento y testeo\n",
    "x_train, x_test, y_train, y_test = train_test_split(X.values,y.values, random_state=25)"
   ]
  },
  {
   "cell_type": "code",
   "execution_count": 37,
   "metadata": {
    "id": "UACVcNLteOZH"
   },
   "outputs": [
    {
     "name": "stdout",
     "output_type": "stream",
     "text": [
      "(26,)\n",
      "(26,)\n",
      "(9,)\n",
      "(9,)\n"
     ]
    }
   ],
   "source": [
    "print(x_train.shape)\n",
    "print(y_train.shape)\n",
    "print(x_test.shape)\n",
    "print(y_test.shape)"
   ]
  },
  {
   "cell_type": "markdown",
   "metadata": {
    "id": "lqyqNuMreOZI"
   },
   "source": [
    "#### Entrenamiento del modelo\n",
    "\n",
    "En este caso en primer lugar importaremos e instanciaremos el modelo que utilizaremos, en este caso [regresion lineal](https://scikit-learn.org/stable/modules/generated/sklearn.linear_model.LinearRegression.html) de la librería Scikit-Learn. \n",
    "\n",
    "Luego realizaremos el **entrenamiento** del modelo con el método *fit* y los **datos de entrenamiento**. El resultado será un modelo entrenado de regresión lineal de la cual podremos ver los parámetros: *pendiente de la recta* e *intercepto*(ordenada al origen).\n",
    "\n"
   ]
  },
  {
   "cell_type": "code",
   "execution_count": 38,
   "metadata": {
    "id": "B0PkGmhveOZI"
   },
   "outputs": [],
   "source": [
    "# Importamos el modelo que utilizaremos. Regresión lineal: \n",
    "\n",
    "from sklearn.linear_model import LinearRegression"
   ]
  },
  {
   "cell_type": "code",
   "execution_count": 39,
   "metadata": {
    "id": "0AdlL0NkeOZI"
   },
   "outputs": [],
   "source": [
    "# Definimos un objeto con el modelo importado, en este caso los hiperparametros son por default por lo que el parentesis está vacio\n",
    "\n",
    "modelo_rl = LinearRegression()"
   ]
  },
  {
   "cell_type": "code",
   "execution_count": 67,
   "metadata": {
    "id": "H5GBHuMweOZI"
   },
   "outputs": [
    {
     "ename": "ValueError",
     "evalue": "Expected 2D array, got 1D array instead:\narray=[ 9.  11.5  1.5  4.5  3.7  1.1  3.  11.2  6.   4.1  8.7  2.   3.2  1.3\n  2.9  6.8 13.5  3.2  5.9  4.   8.2  7.9 10.5  4.9  9.5  2.2].\nReshape your data either using array.reshape(-1, 1) if your data has a single feature or array.reshape(1, -1) if it contains a single sample.",
     "output_type": "error",
     "traceback": [
      "\u001b[0;31m---------------------------------------------------------------------------\u001b[0m",
      "\u001b[0;31mValueError\u001b[0m                                Traceback (most recent call last)",
      "Input \u001b[0;32mIn [67]\u001b[0m, in \u001b[0;36m<cell line: 3>\u001b[0;34m()\u001b[0m\n\u001b[1;32m      1\u001b[0m \u001b[38;5;66;03m# Realizamos el entrenamiento del modelo con el método fit y los datos de entrenamiento \u001b[39;00m\n\u001b[0;32m----> 3\u001b[0m \u001b[43mmodelo_rl\u001b[49m\u001b[38;5;241;43m.\u001b[39;49m\u001b[43mfit\u001b[49m\u001b[43m(\u001b[49m\u001b[43mx_train\u001b[49m\u001b[43m,\u001b[49m\u001b[43m \u001b[49m\u001b[43my_train\u001b[49m\u001b[43m)\u001b[49m\n",
      "File \u001b[0;32m~/Library/Python/3.8/lib/python/site-packages/sklearn/linear_model/_base.py:662\u001b[0m, in \u001b[0;36mLinearRegression.fit\u001b[0;34m(self, X, y, sample_weight)\u001b[0m\n\u001b[1;32m    658\u001b[0m n_jobs_ \u001b[38;5;241m=\u001b[39m \u001b[38;5;28mself\u001b[39m\u001b[38;5;241m.\u001b[39mn_jobs\n\u001b[1;32m    660\u001b[0m accept_sparse \u001b[38;5;241m=\u001b[39m \u001b[38;5;28;01mFalse\u001b[39;00m \u001b[38;5;28;01mif\u001b[39;00m \u001b[38;5;28mself\u001b[39m\u001b[38;5;241m.\u001b[39mpositive \u001b[38;5;28;01melse\u001b[39;00m [\u001b[38;5;124m\"\u001b[39m\u001b[38;5;124mcsr\u001b[39m\u001b[38;5;124m\"\u001b[39m, \u001b[38;5;124m\"\u001b[39m\u001b[38;5;124mcsc\u001b[39m\u001b[38;5;124m\"\u001b[39m, \u001b[38;5;124m\"\u001b[39m\u001b[38;5;124mcoo\u001b[39m\u001b[38;5;124m\"\u001b[39m]\n\u001b[0;32m--> 662\u001b[0m X, y \u001b[38;5;241m=\u001b[39m \u001b[38;5;28;43mself\u001b[39;49m\u001b[38;5;241;43m.\u001b[39;49m\u001b[43m_validate_data\u001b[49m\u001b[43m(\u001b[49m\n\u001b[1;32m    663\u001b[0m \u001b[43m    \u001b[49m\u001b[43mX\u001b[49m\u001b[43m,\u001b[49m\u001b[43m \u001b[49m\u001b[43my\u001b[49m\u001b[43m,\u001b[49m\u001b[43m \u001b[49m\u001b[43maccept_sparse\u001b[49m\u001b[38;5;241;43m=\u001b[39;49m\u001b[43maccept_sparse\u001b[49m\u001b[43m,\u001b[49m\u001b[43m \u001b[49m\u001b[43my_numeric\u001b[49m\u001b[38;5;241;43m=\u001b[39;49m\u001b[38;5;28;43;01mTrue\u001b[39;49;00m\u001b[43m,\u001b[49m\u001b[43m \u001b[49m\u001b[43mmulti_output\u001b[49m\u001b[38;5;241;43m=\u001b[39;49m\u001b[38;5;28;43;01mTrue\u001b[39;49;00m\n\u001b[1;32m    664\u001b[0m \u001b[43m\u001b[49m\u001b[43m)\u001b[49m\n\u001b[1;32m    666\u001b[0m \u001b[38;5;28;01mif\u001b[39;00m sample_weight \u001b[38;5;129;01mis\u001b[39;00m \u001b[38;5;129;01mnot\u001b[39;00m \u001b[38;5;28;01mNone\u001b[39;00m:\n\u001b[1;32m    667\u001b[0m     sample_weight \u001b[38;5;241m=\u001b[39m _check_sample_weight(sample_weight, X, dtype\u001b[38;5;241m=\u001b[39mX\u001b[38;5;241m.\u001b[39mdtype)\n",
      "File \u001b[0;32m~/Library/Python/3.8/lib/python/site-packages/sklearn/base.py:581\u001b[0m, in \u001b[0;36mBaseEstimator._validate_data\u001b[0;34m(self, X, y, reset, validate_separately, **check_params)\u001b[0m\n\u001b[1;32m    579\u001b[0m         y \u001b[38;5;241m=\u001b[39m check_array(y, \u001b[38;5;241m*\u001b[39m\u001b[38;5;241m*\u001b[39mcheck_y_params)\n\u001b[1;32m    580\u001b[0m     \u001b[38;5;28;01melse\u001b[39;00m:\n\u001b[0;32m--> 581\u001b[0m         X, y \u001b[38;5;241m=\u001b[39m \u001b[43mcheck_X_y\u001b[49m\u001b[43m(\u001b[49m\u001b[43mX\u001b[49m\u001b[43m,\u001b[49m\u001b[43m \u001b[49m\u001b[43my\u001b[49m\u001b[43m,\u001b[49m\u001b[43m \u001b[49m\u001b[38;5;241;43m*\u001b[39;49m\u001b[38;5;241;43m*\u001b[39;49m\u001b[43mcheck_params\u001b[49m\u001b[43m)\u001b[49m\n\u001b[1;32m    582\u001b[0m     out \u001b[38;5;241m=\u001b[39m X, y\n\u001b[1;32m    584\u001b[0m \u001b[38;5;28;01mif\u001b[39;00m \u001b[38;5;129;01mnot\u001b[39;00m no_val_X \u001b[38;5;129;01mand\u001b[39;00m check_params\u001b[38;5;241m.\u001b[39mget(\u001b[38;5;124m\"\u001b[39m\u001b[38;5;124mensure_2d\u001b[39m\u001b[38;5;124m\"\u001b[39m, \u001b[38;5;28;01mTrue\u001b[39;00m):\n",
      "File \u001b[0;32m~/Library/Python/3.8/lib/python/site-packages/sklearn/utils/validation.py:964\u001b[0m, in \u001b[0;36mcheck_X_y\u001b[0;34m(X, y, accept_sparse, accept_large_sparse, dtype, order, copy, force_all_finite, ensure_2d, allow_nd, multi_output, ensure_min_samples, ensure_min_features, y_numeric, estimator)\u001b[0m\n\u001b[1;32m    961\u001b[0m \u001b[38;5;28;01mif\u001b[39;00m y \u001b[38;5;129;01mis\u001b[39;00m \u001b[38;5;28;01mNone\u001b[39;00m:\n\u001b[1;32m    962\u001b[0m     \u001b[38;5;28;01mraise\u001b[39;00m \u001b[38;5;167;01mValueError\u001b[39;00m(\u001b[38;5;124m\"\u001b[39m\u001b[38;5;124my cannot be None\u001b[39m\u001b[38;5;124m\"\u001b[39m)\n\u001b[0;32m--> 964\u001b[0m X \u001b[38;5;241m=\u001b[39m \u001b[43mcheck_array\u001b[49m\u001b[43m(\u001b[49m\n\u001b[1;32m    965\u001b[0m \u001b[43m    \u001b[49m\u001b[43mX\u001b[49m\u001b[43m,\u001b[49m\n\u001b[1;32m    966\u001b[0m \u001b[43m    \u001b[49m\u001b[43maccept_sparse\u001b[49m\u001b[38;5;241;43m=\u001b[39;49m\u001b[43maccept_sparse\u001b[49m\u001b[43m,\u001b[49m\n\u001b[1;32m    967\u001b[0m \u001b[43m    \u001b[49m\u001b[43maccept_large_sparse\u001b[49m\u001b[38;5;241;43m=\u001b[39;49m\u001b[43maccept_large_sparse\u001b[49m\u001b[43m,\u001b[49m\n\u001b[1;32m    968\u001b[0m \u001b[43m    \u001b[49m\u001b[43mdtype\u001b[49m\u001b[38;5;241;43m=\u001b[39;49m\u001b[43mdtype\u001b[49m\u001b[43m,\u001b[49m\n\u001b[1;32m    969\u001b[0m \u001b[43m    \u001b[49m\u001b[43morder\u001b[49m\u001b[38;5;241;43m=\u001b[39;49m\u001b[43morder\u001b[49m\u001b[43m,\u001b[49m\n\u001b[1;32m    970\u001b[0m \u001b[43m    \u001b[49m\u001b[43mcopy\u001b[49m\u001b[38;5;241;43m=\u001b[39;49m\u001b[43mcopy\u001b[49m\u001b[43m,\u001b[49m\n\u001b[1;32m    971\u001b[0m \u001b[43m    \u001b[49m\u001b[43mforce_all_finite\u001b[49m\u001b[38;5;241;43m=\u001b[39;49m\u001b[43mforce_all_finite\u001b[49m\u001b[43m,\u001b[49m\n\u001b[1;32m    972\u001b[0m \u001b[43m    \u001b[49m\u001b[43mensure_2d\u001b[49m\u001b[38;5;241;43m=\u001b[39;49m\u001b[43mensure_2d\u001b[49m\u001b[43m,\u001b[49m\n\u001b[1;32m    973\u001b[0m \u001b[43m    \u001b[49m\u001b[43mallow_nd\u001b[49m\u001b[38;5;241;43m=\u001b[39;49m\u001b[43mallow_nd\u001b[49m\u001b[43m,\u001b[49m\n\u001b[1;32m    974\u001b[0m \u001b[43m    \u001b[49m\u001b[43mensure_min_samples\u001b[49m\u001b[38;5;241;43m=\u001b[39;49m\u001b[43mensure_min_samples\u001b[49m\u001b[43m,\u001b[49m\n\u001b[1;32m    975\u001b[0m \u001b[43m    \u001b[49m\u001b[43mensure_min_features\u001b[49m\u001b[38;5;241;43m=\u001b[39;49m\u001b[43mensure_min_features\u001b[49m\u001b[43m,\u001b[49m\n\u001b[1;32m    976\u001b[0m \u001b[43m    \u001b[49m\u001b[43mestimator\u001b[49m\u001b[38;5;241;43m=\u001b[39;49m\u001b[43mestimator\u001b[49m\u001b[43m,\u001b[49m\n\u001b[1;32m    977\u001b[0m \u001b[43m\u001b[49m\u001b[43m)\u001b[49m\n\u001b[1;32m    979\u001b[0m y \u001b[38;5;241m=\u001b[39m _check_y(y, multi_output\u001b[38;5;241m=\u001b[39mmulti_output, y_numeric\u001b[38;5;241m=\u001b[39my_numeric)\n\u001b[1;32m    981\u001b[0m check_consistent_length(X, y)\n",
      "File \u001b[0;32m~/Library/Python/3.8/lib/python/site-packages/sklearn/utils/validation.py:769\u001b[0m, in \u001b[0;36mcheck_array\u001b[0;34m(array, accept_sparse, accept_large_sparse, dtype, order, copy, force_all_finite, ensure_2d, allow_nd, ensure_min_samples, ensure_min_features, estimator)\u001b[0m\n\u001b[1;32m    767\u001b[0m     \u001b[38;5;66;03m# If input is 1D raise error\u001b[39;00m\n\u001b[1;32m    768\u001b[0m     \u001b[38;5;28;01mif\u001b[39;00m array\u001b[38;5;241m.\u001b[39mndim \u001b[38;5;241m==\u001b[39m \u001b[38;5;241m1\u001b[39m:\n\u001b[0;32m--> 769\u001b[0m         \u001b[38;5;28;01mraise\u001b[39;00m \u001b[38;5;167;01mValueError\u001b[39;00m(\n\u001b[1;32m    770\u001b[0m             \u001b[38;5;124m\"\u001b[39m\u001b[38;5;124mExpected 2D array, got 1D array instead:\u001b[39m\u001b[38;5;130;01m\\n\u001b[39;00m\u001b[38;5;124marray=\u001b[39m\u001b[38;5;132;01m{}\u001b[39;00m\u001b[38;5;124m.\u001b[39m\u001b[38;5;130;01m\\n\u001b[39;00m\u001b[38;5;124m\"\u001b[39m\n\u001b[1;32m    771\u001b[0m             \u001b[38;5;124m\"\u001b[39m\u001b[38;5;124mReshape your data either using array.reshape(-1, 1) if \u001b[39m\u001b[38;5;124m\"\u001b[39m\n\u001b[1;32m    772\u001b[0m             \u001b[38;5;124m\"\u001b[39m\u001b[38;5;124myour data has a single feature or array.reshape(1, -1) \u001b[39m\u001b[38;5;124m\"\u001b[39m\n\u001b[1;32m    773\u001b[0m             \u001b[38;5;124m\"\u001b[39m\u001b[38;5;124mif it contains a single sample.\u001b[39m\u001b[38;5;124m\"\u001b[39m\u001b[38;5;241m.\u001b[39mformat(array)\n\u001b[1;32m    774\u001b[0m         )\n\u001b[1;32m    776\u001b[0m \u001b[38;5;66;03m# make sure we actually converted to numeric:\u001b[39;00m\n\u001b[1;32m    777\u001b[0m \u001b[38;5;28;01mif\u001b[39;00m dtype_numeric \u001b[38;5;129;01mand\u001b[39;00m array\u001b[38;5;241m.\u001b[39mdtype\u001b[38;5;241m.\u001b[39mkind \u001b[38;5;129;01min\u001b[39;00m \u001b[38;5;124m\"\u001b[39m\u001b[38;5;124mOUSV\u001b[39m\u001b[38;5;124m\"\u001b[39m:\n",
      "\u001b[0;31mValueError\u001b[0m: Expected 2D array, got 1D array instead:\narray=[ 9.  11.5  1.5  4.5  3.7  1.1  3.  11.2  6.   4.1  8.7  2.   3.2  1.3\n  2.9  6.8 13.5  3.2  5.9  4.   8.2  7.9 10.5  4.9  9.5  2.2].\nReshape your data either using array.reshape(-1, 1) if your data has a single feature or array.reshape(1, -1) if it contains a single sample."
     ]
    }
   ],
   "source": [
    "# Realizamos el entrenamiento del modelo con el método fit y los datos de entrenamiento \n",
    "\n",
    "modelo_rl.fit(x_train, y_train)"
   ]
  },
  {
   "cell_type": "code",
   "execution_count": 70,
   "metadata": {},
   "outputs": [
    {
     "data": {
      "text/plain": [
       "array([ 9. , 11.5,  1.5,  4.5,  3.7,  1.1,  3. , 11.2,  6. ,  4.1,  8.7,\n",
       "        2. ,  3.2,  1.3,  2.9,  6.8, 13.5,  3.2,  5.9,  4. ,  8.2,  7.9,\n",
       "       10.5,  4.9,  9.5,  2.2])"
      ]
     },
     "execution_count": 70,
     "metadata": {},
     "output_type": "execute_result"
    }
   ],
   "source": [
    "x_train"
   ]
  },
  {
   "cell_type": "code",
   "execution_count": 68,
   "metadata": {},
   "outputs": [
    {
     "data": {
      "text/plain": [
       "(26,)"
      ]
     },
     "execution_count": 68,
     "metadata": {},
     "output_type": "execute_result"
    }
   ],
   "source": [
    "x_train.shape"
   ]
  },
  {
   "cell_type": "code",
   "execution_count": 73,
   "metadata": {},
   "outputs": [
    {
     "data": {
      "text/plain": [
       "1"
      ]
     },
     "execution_count": 73,
     "metadata": {},
     "output_type": "execute_result"
    }
   ],
   "source": [
    "x_train.ndim"
   ]
  },
  {
   "cell_type": "code",
   "execution_count": 69,
   "metadata": {},
   "outputs": [
    {
     "data": {
      "text/plain": [
       "array([[ 9. ],\n",
       "       [11.5],\n",
       "       [ 1.5],\n",
       "       [ 4.5],\n",
       "       [ 3.7],\n",
       "       [ 1.1],\n",
       "       [ 3. ],\n",
       "       [11.2],\n",
       "       [ 6. ],\n",
       "       [ 4.1],\n",
       "       [ 8.7],\n",
       "       [ 2. ],\n",
       "       [ 3.2],\n",
       "       [ 1.3],\n",
       "       [ 2.9],\n",
       "       [ 6.8],\n",
       "       [13.5],\n",
       "       [ 3.2],\n",
       "       [ 5.9],\n",
       "       [ 4. ],\n",
       "       [ 8.2],\n",
       "       [ 7.9],\n",
       "       [10.5],\n",
       "       [ 4.9],\n",
       "       [ 9.5],\n",
       "       [ 2.2]])"
      ]
     },
     "execution_count": 69,
     "metadata": {},
     "output_type": "execute_result"
    }
   ],
   "source": [
    "x_train.reshape(-1, 1)"
   ]
  },
  {
   "cell_type": "code",
   "execution_count": 71,
   "metadata": {},
   "outputs": [
    {
     "data": {
      "text/plain": [
       "(26, 1)"
      ]
     },
     "execution_count": 71,
     "metadata": {},
     "output_type": "execute_result"
    }
   ],
   "source": [
    "X_train=x_train.reshape(-1, 1)\n",
    "X_train.shape"
   ]
  },
  {
   "cell_type": "code",
   "execution_count": 72,
   "metadata": {},
   "outputs": [
    {
     "data": {
      "text/plain": [
       "2"
      ]
     },
     "execution_count": 72,
     "metadata": {},
     "output_type": "execute_result"
    }
   ],
   "source": [
    "X_train.ndim"
   ]
  },
  {
   "cell_type": "code",
   "execution_count": 74,
   "metadata": {},
   "outputs": [
    {
     "data": {
      "text/plain": [
       "LinearRegression()"
      ]
     },
     "execution_count": 74,
     "metadata": {},
     "output_type": "execute_result"
    }
   ],
   "source": [
    "modelo_rl.fit(x_train.reshape(-1,1), y_train)"
   ]
  },
  {
   "cell_type": "markdown",
   "metadata": {
    "id": "SZYWGAcUeOZJ"
   },
   "source": [
    "##### Parámetros \n",
    "\n",
    "Los parámetros de una Regresión Lineal son el coeficiente (*pendiente de la recta*) y el intercepto (*ordenada al orignen*: *y* cuando *x=0*), en este caso se obtienden como resultado del entrenamiento del modelo"
   ]
  },
  {
   "cell_type": "code",
   "execution_count": 75,
   "metadata": {
    "id": "hvKveSmreOZJ"
   },
   "outputs": [
    {
     "data": {
      "text/plain": [
       "array([9303.95068859])"
      ]
     },
     "execution_count": 75,
     "metadata": {},
     "output_type": "execute_result"
    }
   ],
   "source": [
    "# Coeficiente (la pendiente de la recta)\n",
    "\n",
    "modelo_rl.coef_\n"
   ]
  },
  {
   "cell_type": "code",
   "execution_count": 76,
   "metadata": {
    "id": "WeHmEW0beOZJ"
   },
   "outputs": [
    {
     "data": {
      "text/plain": [
       "20583.200442473084"
      ]
     },
     "execution_count": 76,
     "metadata": {},
     "output_type": "execute_result"
    }
   ],
   "source": [
    "# Intercepto (el punto de comienzo de la recta en el eje y)\n",
    "\n",
    "modelo_rl.intercept_"
   ]
  },
  {
   "cell_type": "markdown",
   "metadata": {
    "id": "_5DfvLt0eOZJ"
   },
   "source": [
    "La forma de entender el modelo es que la recta que mejor se ajusta a los datos de entrenamiento es:\n",
    "\n",
    "> y = 20583.2 + x * 9303.95\n",
    "\n",
    "\n"
   ]
  },
  {
   "cell_type": "code",
   "execution_count": 77,
   "metadata": {},
   "outputs": [],
   "source": [
    "x=data[\"anios_experiencia\"]\n",
    "y=data[\"salario\"]"
   ]
  },
  {
   "cell_type": "code",
   "execution_count": 78,
   "metadata": {},
   "outputs": [
    {
     "data": {
      "image/png": "[encoded data removed]",
      "text/plain": [
       "<Figure size 720x576 with 1 Axes>"
      ]
     },
     "metadata": {
      "needs_background": "light"
     },
     "output_type": "display_data"
    }
   ],
   "source": [
    "# Realizamos un gráfico para observar la relación entre las variables\n",
    "plt.figure(figsize = (10,8))\n",
    "plt.plot(x,y,'o')\n",
    "plt.plot(x,20583.2 + x * 9303.95,'-r')\n",
    "plt.grid(True)"
   ]
  },
  {
   "cell_type": "markdown",
   "metadata": {
    "id": "gPHd_mY1eOZJ"
   },
   "source": [
    "#### Testeo del modelo\n",
    "\n",
    "Ahora probaremos nuestro modelo, para eso utilizaremos el método *predict* con los datos de testeo (X_test) para que realice una predicción. Ese resultado lo compararemos con el resultado real (y_test) utilizando una métrica denominada R2 (que será explicada en profundidad la clase que viene).\n",
    "\n",
    "Observaremos con visualizaciionesón la regresión lineal resultado del entrenamiento del modelo y los datos de testeo y los datos totales (para las visualizaciones utilizaremos los datos antes de *reshape*, esto solo es para los casos de regresión lineal simple, es decir, una sola variable predictora)."
   ]
  },
  {
   "cell_type": "code",
   "execution_count": 79,
   "metadata": {
    "id": "D2KwsJlieOZK"
   },
   "outputs": [
    {
     "data": {
      "text/plain": [
       "array([ 69894.13909202, 140604.16432534, 135021.79391218,  56868.60812799,\n",
       "        68033.3489543 ,  86641.25033149, 109901.12705298,  57799.00319685,\n",
       "       116413.89253499])"
      ]
     },
     "execution_count": 79,
     "metadata": {},
     "output_type": "execute_result"
    }
   ],
   "source": [
    "# Probar el modelo con predict y los datos de test\n",
    "y_pred = modelo_rl.predict(x_test.reshape(-1, 1))\n",
    "y_pred"
   ]
  },
  {
   "cell_type": "markdown",
   "metadata": {},
   "source": [
    "$${\\displaystyle R^2 = \\frac {\\text{Variance explained by the model}}{\\text{Total variance}}}$$\n",
    "\n",
    "R-squared is always between 0 and 1:\n",
    "\n",
    "0% represents a model that does not explain any of the variation in the response variable around its mean. The mean of the dependent variable predicts the dependent variable as well as the regression model.\n",
    "100% represents a model that explains all the variation in the response variable around its mean."
   ]
  },
  {
   "cell_type": "code",
   "execution_count": 80,
   "metadata": {
    "id": "zU-tB0mseOZK"
   },
   "outputs": [
    {
     "data": {
      "text/plain": [
       "0.9370923376743004"
      ]
     },
     "execution_count": 80,
     "metadata": {},
     "output_type": "execute_result"
    }
   ],
   "source": [
    "# La métrica que se utiliza para medir la performance de un modelo de regresión lineal es R2\n",
    "\n",
    "from sklearn.metrics import r2_score\n",
    "r2 = r2_score(y_test,y_pred)\n",
    "r2\n",
    "\n",
    "#Cuanto más cerca de 1 mejor el modelo"
   ]
  },
  {
   "cell_type": "code",
   "execution_count": 63,
   "metadata": {
    "id": "barUSrWReOZK"
   },
   "outputs": [
    {
     "data": {
      "image/png": "[encoded data removed]",
      "text/plain": [
       "<Figure size 720x720 with 1 Axes>"
      ]
     },
     "metadata": {
      "needs_background": "light"
     },
     "output_type": "display_data"
    }
   ],
   "source": [
    "#Visualizaciones de los datos de testeo\n",
    "# La linea es el modelo (línea de regresión creada por el modelo) y los puntos son los datos de testeo (se usa X_train sin el reshape realizado)\n",
    "\n",
    "plt.figure(figsize = (10,10))\n",
    "plt.plot(x_test, y_pred, color = 'b', label = 'Regresión lineal')\n",
    "plt.scatter(x_test, y_test, color = 'g', label = 'Datos de testeo')\n",
    "plt.legend()\n",
    "plt.show()"
   ]
  },
  {
   "cell_type": "code",
   "execution_count": 66,
   "metadata": {
    "id": "8wAr5OqEeOZK"
   },
   "outputs": [
    {
     "data": {
      "image/png": "[encoded data removed]",
      "text/plain": [
       "<Figure size 720x576 with 1 Axes>"
      ]
     },
     "metadata": {
      "needs_background": "light"
     },
     "output_type": "display_data"
    }
   ],
   "source": [
    "# Visualización con los datos totales\n",
    "# La linea es el modelo (línea de regresión creada por el modelo) y los puntos son los datos\n",
    "plt.figure(figsize = (10,8))\n",
    "plt.plot(x,20583.2 + x * 9303.95, color = 'r', label = 'Regresión lineal')\n",
    "plt.scatter(X, y, color = 'g', label = 'Datos totales')\n",
    "plt.legend()\n",
    "plt.show()\n",
    "\n"
   ]
  },
  {
   "cell_type": "code",
   "execution_count": null,
   "metadata": {},
   "outputs": [],
   "source": []
  },
  {
   "cell_type": "code",
   "execution_count": null,
   "metadata": {},
   "outputs": [],
   "source": []
  },
  {
   "cell_type": "code",
   "execution_count": null,
   "metadata": {},
   "outputs": [],
   "source": []
  },
  {
   "cell_type": "code",
   "execution_count": null,
   "metadata": {},
   "outputs": [],
   "source": []
  },
  {
   "cell_type": "markdown",
   "metadata": {
    "id": "ZbzoybcceOZK"
   },
   "source": [
    "#### Hiperparámetros\n",
    "\n",
    "Un hiperparámetros es una variable que se define **antes** del entrenamiento **por el/la Científico/a de datos**.\n",
    "\n",
    "En la [documentación](https://scikit-learn.org/stable/modules/generated/sklearn.linear_model.LinearRegression.html) de cada modelo se pueden ver los distintos hiperparámetros que se pueden definir.\n",
    "\n",
    "En la Regresión lineal simple un ejemplo de hiperparámetros es la existencia o no de un intercecpto\n",
    "\n",
    ">fit_intercept = *True* o *False* (por default True)\n",
    "\n",
    "Realizaremos los mismos pasos que el caso anterior para poder comparar los resultados. Utilizaremos los mismos datos de testeo y entrenamiento que en el modelo anterior por lo que los dos primeros pasos ya están realizados:\n",
    "\n",
    "1. Dividir los datos en **X** (variables predictoras) e **y** (variable a predecir)\n",
    "2. Dividir los datos en entrenamiento y testo con el mètodo *train_test_split*\n",
    "3. Importar e instanciar el modelo que utilizaremos y definir hiperparámetros\n",
    "4. Entrenar el modelo con el método *fit*\n",
    "5. Testear el modelo con el método *predict*\n",
    "6. Ver la performance con una métrica y comparar los distintos modelos entrenados\n",
    "\n",
    "Luego visualizaremos los dos modelos entrenados con los datos de testeo y con los datos totales."
   ]
  },
  {
   "cell_type": "markdown",
   "metadata": {
    "id": "C3ahGz1Rdyup"
   },
   "source": [
    "##### Instanciar y entrenar el modelo"
   ]
  },
  {
   "cell_type": "code",
   "execution_count": null,
   "metadata": {
    "id": "dDgIFYRjeOZK"
   },
   "outputs": [],
   "source": [
    "# Al momento de instanciar el modelo se definen los hiperparámetros\n",
    "\n",
    "modelo_sin_inter = LinearRegression(fit_intercept = False)\n"
   ]
  },
  {
   "cell_type": "code",
   "execution_count": null,
   "metadata": {
    "id": "zGqaZ5uheOZL"
   },
   "outputs": [],
   "source": [
    "# Se entena el modelo sin intercepto (se usa x_train con el reshape ya realizado)\n",
    "\n",
    "modelo_sin_inter.fit(X_train, y_train)"
   ]
  },
  {
   "cell_type": "code",
   "execution_count": null,
   "metadata": {
    "id": "x21lnH79eOZL"
   },
   "outputs": [],
   "source": [
    "# El coeficiente del modelo (la pendiente de la recta)\n",
    "\n",
    "modelo_sin_inter.coef_"
   ]
  },
  {
   "cell_type": "code",
   "execution_count": null,
   "metadata": {
    "id": "24FQkHG7eOZL"
   },
   "outputs": [],
   "source": [
    "# El intercepto es 0 debido a que eso es lo que se ha definido\n",
    "\n",
    "modelo_sin_inter.intercept_"
   ]
  },
  {
   "cell_type": "markdown",
   "metadata": {
    "id": "o1hjIT2Xdyuq"
   },
   "source": [
    "##### Probar el modelo y medir la performance"
   ]
  },
  {
   "cell_type": "code",
   "execution_count": null,
   "metadata": {
    "id": "eiadR7NYeOZL"
   },
   "outputs": [],
   "source": [
    "# Probar nuestro modelo con los datos de test\n",
    "\n",
    "y_pred_sin_inter = modelo_sin_inter.predict(X_test)"
   ]
  },
  {
   "cell_type": "code",
   "execution_count": null,
   "metadata": {
    "id": "8SpxSS3QeOZL"
   },
   "outputs": [],
   "source": [
    "# La métrica que se utiliza para medir un modelo de regresión lineal es R2\n",
    "\n",
    "from sklearn.metrics import r2_score\n",
    "r2_sin_interc = r2_score(y_test,y_pred_sin_inter)\n",
    "r2_sin_interc\n",
    "\n",
    "#Cuanto más cerca de 1 mejor el modelo."
   ]
  },
  {
   "cell_type": "markdown",
   "metadata": {
    "id": "JO0YZP3Odyuq"
   },
   "source": [
    "##### Comparar la performance de ambos modelos entrenados"
   ]
  },
  {
   "cell_type": "code",
   "execution_count": null,
   "metadata": {
    "id": "Q03sYc_qeOZL"
   },
   "outputs": [],
   "source": [
    "# Es muy bueno pero levemente peor que el anterior\n",
    "\n",
    "print(\"el R2 del modelo con intercepto es \", round(r2,2))\n",
    "print(\"el R2 del modelo sin intercepto es \", round(r2_sin_interc,2))"
   ]
  },
  {
   "cell_type": "code",
   "execution_count": null,
   "metadata": {
    "id": "t0IGuq0XeOZM"
   },
   "outputs": [],
   "source": [
    "#Visualizaciones de los modelos con los datos de testeo\n",
    "# Los puntos verdes son los datos de testeo, la línea azul es el modelo y la linea roja es el modelo sin intercepto\n",
    "\n",
    "plt.figure(figsize = (10,10))\n",
    "plt.plot(x_test, y_pred, color = 'b',linewidth=3.0,  linestyle = \"--\", label = 'Regresión lineal')\n",
    "plt.plot(x_test, y_pred_sin_inter, color = 'r',linewidth=3.0,  linestyle = \":\" , label = 'Regresión lineal sin intercepto')\n",
    "plt.scatter(x_test, y_test, color = 'g', label = 'Datos de testeo')\n",
    "plt.legend()\n",
    "plt.show()"
   ]
  },
  {
   "cell_type": "code",
   "execution_count": null,
   "metadata": {
    "id": "PhMC8jUaXUfd"
   },
   "outputs": [],
   "source": [
    "#Visualizaciones de los modelos con los datos totales\n",
    "# Los puntos verdes son los datos de testeo, la línea azul es el modelo y la linea roja es el modelo sin intercepto\n",
    "\n",
    "plt.figure(figsize = (10,10))\n",
    "plt.plot(x_test, y_pred, color = 'b',linewidth=3.0,  linestyle = \"--\", label = 'Regresión lineal')\n",
    "plt.plot(x_test, y_pred_sin_inter, color = 'r',linewidth=3.0,  linestyle = \":\" , label = 'Regresión lineal sin intercepto')\n",
    "plt.scatter(X, y, color = 'g', label = 'Datos totales')\n",
    "plt.legend()\n",
    "plt.show()"
   ]
  }
 ],
 "metadata": {
  "colab": {
   "collapsed_sections": [],
   "name": "Regresión lineal simple.ipynb",
   "provenance": []
  },
  "kernelspec": {
   "display_name": "Python 3 (ipykernel)",
   "language": "python",
   "name": "python3"
  },
  "language_info": {
   "codemirror_mode": {
    "name": "ipython",
    "version": 3
   },
   "file_extension": ".py",
   "mimetype": "text/x-python",
   "name": "python",
   "nbconvert_exporter": "python",
   "pygments_lexer": "ipython3",
   "version": "3.8.9"
  }
 },
 "nbformat": 4,
 "nbformat_minor": 1
}
