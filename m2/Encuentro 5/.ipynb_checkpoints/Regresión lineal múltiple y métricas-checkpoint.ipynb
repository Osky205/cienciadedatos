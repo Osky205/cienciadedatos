{
 "cells": [
  {
   "cell_type": "markdown",
   "metadata": {
    "id": "Ye-G_YbkqbGb"
   },
   "source": [
    "# Regresión Lineal Multiple\n",
    " \n",
    "El encuentro pasado entrenamos un modelo de Regresión Linear Simple que únicamente tenía dos variables: la variable predictora y la variable a predecir. Ahora entrenaremos una Regresión Linear Multiple con el dataset que utilizamos previamente del Clima para predecir la temperatura.\n",
    "\n",
    "Dado que en los encuentos pasados realizamos la exploraciòn y la limpieza del dataset, ahora realizaremos los siguientes pasos:\n",
    "\n",
    "1. Dividir los datos en **X** (variables predictoras) e **y** (variable a predecir)\n",
    "2. Dividir los datos en entrenamiento y testo con el méodo *train_test_split*\n",
    "3. Importar e instanciar el modelo que utilizaremos y definir hiperparámetros\n",
    "4. Entrenar el modelo con el método *fit*\n",
    "5. Testear el modelo con el método *predict*\n",
    "6. Ver la performance con una métrica "
   ]
  },
  {
   "cell_type": "code",
   "execution_count": 1,
   "metadata": {
    "id": "l23kvV4opgry"
   },
   "outputs": [],
   "source": [
    "#importamos las librerías que utilizaremos\n",
    "\n",
    "import pandas as pd\n",
    "import matplotlib.pyplot as plt\n",
    "import seaborn as sns"
   ]
  },
  {
   "cell_type": "markdown",
   "metadata": {
    "id": "alien-connectivity"
   },
   "source": [
    "#### Desde el archivo descargado en la computadora"
   ]
  },
  {
   "cell_type": "code",
   "execution_count": 2,
   "metadata": {
    "id": "HBS7fo8Lpgr0"
   },
   "outputs": [],
   "source": [
    "data = pd.read_csv(\"data_clima.csv\")"
   ]
  },
  {
   "cell_type": "code",
   "execution_count": 3,
   "metadata": {
    "id": "ViftI_zKpgr0"
   },
   "outputs": [
    {
     "data": {
      "text/html": [
       "<div>\n",
       "<style scoped>\n",
       "    .dataframe tbody tr th:only-of-type {\n",
       "        vertical-align: middle;\n",
       "    }\n",
       "\n",
       "    .dataframe tbody tr th {\n",
       "        vertical-align: top;\n",
       "    }\n",
       "\n",
       "    .dataframe thead th {\n",
       "        text-align: right;\n",
       "    }\n",
       "</style>\n",
       "<table border=\"1\" class=\"dataframe\">\n",
       "  <thead>\n",
       "    <tr style=\"text-align: right;\">\n",
       "      <th></th>\n",
       "      <th>humedad</th>\n",
       "      <th>velocidad_viento_kmh</th>\n",
       "      <th>rumbo_viento_grados</th>\n",
       "      <th>visibilidad_km</th>\n",
       "      <th>presion_mbar</th>\n",
       "      <th>lluvia</th>\n",
       "      <th>temperatura</th>\n",
       "      <th>descripcion__Normal</th>\n",
       "      <th>descripcion__Warm</th>\n",
       "    </tr>\n",
       "  </thead>\n",
       "  <tbody>\n",
       "    <tr>\n",
       "      <th>0</th>\n",
       "      <td>0.92</td>\n",
       "      <td>11.27</td>\n",
       "      <td>130.0</td>\n",
       "      <td>8.05</td>\n",
       "      <td>1021.60</td>\n",
       "      <td>0</td>\n",
       "      <td>-0.56</td>\n",
       "      <td>0</td>\n",
       "      <td>0</td>\n",
       "    </tr>\n",
       "    <tr>\n",
       "      <th>1</th>\n",
       "      <td>0.73</td>\n",
       "      <td>20.93</td>\n",
       "      <td>330.0</td>\n",
       "      <td>16.10</td>\n",
       "      <td>1017.00</td>\n",
       "      <td>1</td>\n",
       "      <td>21.11</td>\n",
       "      <td>0</td>\n",
       "      <td>1</td>\n",
       "    </tr>\n",
       "    <tr>\n",
       "      <th>2</th>\n",
       "      <td>0.97</td>\n",
       "      <td>5.97</td>\n",
       "      <td>193.0</td>\n",
       "      <td>14.91</td>\n",
       "      <td>1013.99</td>\n",
       "      <td>1</td>\n",
       "      <td>16.60</td>\n",
       "      <td>1</td>\n",
       "      <td>0</td>\n",
       "    </tr>\n",
       "  </tbody>\n",
       "</table>\n",
       "</div>"
      ],
      "text/plain": [
       "   humedad  velocidad_viento_kmh  rumbo_viento_grados  visibilidad_km  \\\n",
       "0     0.92                 11.27                130.0            8.05   \n",
       "1     0.73                 20.93                330.0           16.10   \n",
       "2     0.97                  5.97                193.0           14.91   \n",
       "\n",
       "   presion_mbar  lluvia  temperatura  descripcion__Normal  descripcion__Warm  \n",
       "0       1021.60       0        -0.56                    0                  0  \n",
       "1       1017.00       1        21.11                    0                  1  \n",
       "2       1013.99       1        16.60                    1                  0  "
      ]
     },
     "execution_count": 3,
     "metadata": {},
     "output_type": "execute_result"
    }
   ],
   "source": [
    "# Observamos el dataset que limpiamos en las clases anteriores\n",
    "\n",
    "data.head(3)"
   ]
  },
  {
   "cell_type": "code",
   "execution_count": 4,
   "metadata": {
    "id": "YBunTeUzpgr1"
   },
   "outputs": [
    {
     "name": "stdout",
     "output_type": "stream",
     "text": [
      "<class 'pandas.core.frame.DataFrame'>\n",
      "RangeIndex: 9995 entries, 0 to 9994\n",
      "Data columns (total 9 columns):\n",
      " #   Column                Non-Null Count  Dtype  \n",
      "---  ------                --------------  -----  \n",
      " 0   humedad               9995 non-null   float64\n",
      " 1   velocidad_viento_kmh  9995 non-null   float64\n",
      " 2   rumbo_viento_grados   9995 non-null   float64\n",
      " 3   visibilidad_km        9995 non-null   float64\n",
      " 4   presion_mbar          9995 non-null   float64\n",
      " 5   lluvia                9995 non-null   int64  \n",
      " 6   temperatura           9995 non-null   float64\n",
      " 7   descripcion__Normal   9995 non-null   int64  \n",
      " 8   descripcion__Warm     9995 non-null   int64  \n",
      "dtypes: float64(6), int64(3)\n",
      "memory usage: 702.9 KB\n"
     ]
    }
   ],
   "source": [
    "# vemos la información del dataset: cantidad de registros, tipos de dato y nulos\n",
    "\n",
    "data.info()"
   ]
  },
  {
   "cell_type": "markdown",
   "metadata": {
    "id": "5zWvCSpCpgr2"
   },
   "source": [
    "#### División de datos en entrenamiento y testeo\n",
    "\n",
    "Ahora vamos a separar el Dataset para crear X e y considerando que **X** son las variable predictoras, en este caso todas menos *temperatura* por lo que utilizaremos el método *drop* para eliminar esa columna e **y** es la variable a predecir *temperatura*.\n",
    "\n",
    "Luego lo separaremos nuevamente entre datos de Entrenamiento y Teseto para lo cual usaremos [train_test_split](https://scikit-learn.org/stable/modules/generated/sklearn.model_selection.train_test_split.html?highlight=train%20test%20split#sklearn.model_selection.train_test_split) de la librería de Scikit-learn. "
   ]
  },
  {
   "cell_type": "code",
   "execution_count": 5,
   "metadata": {
    "id": "c-2aHk5Tpgr2"
   },
   "outputs": [
    {
     "data": {
      "text/plain": [
       "(9995, 9)"
      ]
     },
     "execution_count": 5,
     "metadata": {},
     "output_type": "execute_result"
    }
   ],
   "source": [
    "data.shape"
   ]
  },
  {
   "cell_type": "code",
   "execution_count": 6,
   "metadata": {
    "id": "bxp8uuc8pgr3"
   },
   "outputs": [],
   "source": [
    "# Creamos X (variables predictoras) e y (variable a predecir)\n",
    "\n",
    "X = data.drop(columns=\"temperatura\")\n",
    "y = data[\"temperatura\"]"
   ]
  },
  {
   "cell_type": "code",
   "execution_count": 7,
   "metadata": {
    "id": "n6ziVRmNpgr3"
   },
   "outputs": [
    {
     "name": "stdout",
     "output_type": "stream",
     "text": [
      "(9995, 8)\n"
     ]
    },
    {
     "data": {
      "text/html": [
       "<div>\n",
       "<style scoped>\n",
       "    .dataframe tbody tr th:only-of-type {\n",
       "        vertical-align: middle;\n",
       "    }\n",
       "\n",
       "    .dataframe tbody tr th {\n",
       "        vertical-align: top;\n",
       "    }\n",
       "\n",
       "    .dataframe thead th {\n",
       "        text-align: right;\n",
       "    }\n",
       "</style>\n",
       "<table border=\"1\" class=\"dataframe\">\n",
       "  <thead>\n",
       "    <tr style=\"text-align: right;\">\n",
       "      <th></th>\n",
       "      <th>humedad</th>\n",
       "      <th>velocidad_viento_kmh</th>\n",
       "      <th>rumbo_viento_grados</th>\n",
       "      <th>visibilidad_km</th>\n",
       "      <th>presion_mbar</th>\n",
       "      <th>lluvia</th>\n",
       "      <th>descripcion__Normal</th>\n",
       "      <th>descripcion__Warm</th>\n",
       "    </tr>\n",
       "  </thead>\n",
       "  <tbody>\n",
       "    <tr>\n",
       "      <th>0</th>\n",
       "      <td>0.92</td>\n",
       "      <td>11.27</td>\n",
       "      <td>130.0</td>\n",
       "      <td>8.05</td>\n",
       "      <td>1021.60</td>\n",
       "      <td>0</td>\n",
       "      <td>0</td>\n",
       "      <td>0</td>\n",
       "    </tr>\n",
       "    <tr>\n",
       "      <th>1</th>\n",
       "      <td>0.73</td>\n",
       "      <td>20.93</td>\n",
       "      <td>330.0</td>\n",
       "      <td>16.10</td>\n",
       "      <td>1017.00</td>\n",
       "      <td>1</td>\n",
       "      <td>0</td>\n",
       "      <td>1</td>\n",
       "    </tr>\n",
       "    <tr>\n",
       "      <th>2</th>\n",
       "      <td>0.97</td>\n",
       "      <td>5.97</td>\n",
       "      <td>193.0</td>\n",
       "      <td>14.91</td>\n",
       "      <td>1013.99</td>\n",
       "      <td>1</td>\n",
       "      <td>1</td>\n",
       "      <td>0</td>\n",
       "    </tr>\n",
       "  </tbody>\n",
       "</table>\n",
       "</div>"
      ],
      "text/plain": [
       "   humedad  velocidad_viento_kmh  rumbo_viento_grados  visibilidad_km  \\\n",
       "0     0.92                 11.27                130.0            8.05   \n",
       "1     0.73                 20.93                330.0           16.10   \n",
       "2     0.97                  5.97                193.0           14.91   \n",
       "\n",
       "   presion_mbar  lluvia  descripcion__Normal  descripcion__Warm  \n",
       "0       1021.60       0                    0                  0  \n",
       "1       1017.00       1                    0                  1  \n",
       "2       1013.99       1                    1                  0  "
      ]
     },
     "execution_count": 7,
     "metadata": {},
     "output_type": "execute_result"
    }
   ],
   "source": [
    "# Confirmamos que se realizo correctamente observando X\n",
    "\n",
    "print(X.shape)\n",
    "X.head(3)"
   ]
  },
  {
   "cell_type": "code",
   "execution_count": 8,
   "metadata": {
    "id": "F8q0-Dorpgr4"
   },
   "outputs": [
    {
     "name": "stdout",
     "output_type": "stream",
     "text": [
      "(9995,)\n"
     ]
    },
    {
     "data": {
      "text/plain": [
       "0    -0.56\n",
       "1    21.11\n",
       "2    16.60\n",
       "Name: temperatura, dtype: float64"
      ]
     },
     "execution_count": 8,
     "metadata": {},
     "output_type": "execute_result"
    }
   ],
   "source": [
    "# Confirmamos que se realizo correctamente observando y\n",
    "\n",
    "print(y.shape)\n",
    "y.head(3)"
   ]
  },
  {
   "cell_type": "code",
   "execution_count": 9,
   "metadata": {
    "id": "fDujCH_6pgr4"
   },
   "outputs": [],
   "source": [
    "# Importamos train_test_split de la libreria scikit-learn\n",
    "\n",
    "from sklearn.model_selection import train_test_split "
   ]
  },
  {
   "cell_type": "code",
   "execution_count": 10,
   "metadata": {
    "id": "5-kW5uXfpgr5"
   },
   "outputs": [],
   "source": [
    "# Definimos X de entrenamiento y de testeo e y de entrenamiento y testeo\n",
    "\n",
    "X_train, X_test, y_train, y_test = train_test_split(X,y, random_state=48)"
   ]
  },
  {
   "cell_type": "code",
   "execution_count": 11,
   "metadata": {
    "id": "jAqDF-Kipgr5"
   },
   "outputs": [
    {
     "name": "stdout",
     "output_type": "stream",
     "text": [
      "(7496, 8)\n",
      "(7496,)\n",
      "(2499, 8)\n",
      "(2499,)\n"
     ]
    }
   ],
   "source": [
    "print(X_train.shape)\n",
    "print(y_train.shape)\n",
    "print(X_test.shape)\n",
    "print(y_test.shape)"
   ]
  },
  {
   "cell_type": "markdown",
   "metadata": {
    "id": "HKJDOdxFpgr5"
   },
   "source": [
    "#### Entrenamiento del modelo\n",
    "\n",
    "En primer lugar importaremos e instanciaremos el modelo que utilizaremos, en este caso [regresion lineal](https://scikit-learn.org/stable/modules/generated/sklearn.linear_model.LinearRegression.html) de la librería Scikit-Learn. Los valores de los hiperparámetros se dejaran por default.\n",
    "\n",
    "Luego realizaremos el entrenamiento del modelo con el método *fit* y los datos de **entrenamiento**. El resultado será un modelo entrenado de regresión lineal de la cual podremos ver los parámetros: *pendiente de la recta* e *intercepto*(ordenada al origen).\n",
    "\n"
   ]
  },
  {
   "cell_type": "code",
   "execution_count": 12,
   "metadata": {
    "id": "bqzyirINpgr6"
   },
   "outputs": [],
   "source": [
    "# Importamos el modelo que utilizaremos. Regresión lineal: \n",
    "\n",
    "from sklearn.linear_model import LinearRegression"
   ]
  },
  {
   "cell_type": "code",
   "execution_count": 13,
   "metadata": {
    "id": "_4rj_RsBpgr6"
   },
   "outputs": [],
   "source": [
    "# Definimos un objeto con el modelo importado, en este caso los hiperparametros son por default por lo que el parentesis está vacio\n",
    "\n",
    "modelo_rl = LinearRegression()"
   ]
  },
  {
   "cell_type": "code",
   "execution_count": 14,
   "metadata": {
    "id": "ykEiJYDEpgr6"
   },
   "outputs": [
    {
     "data": {
      "text/html": [
       "<style>#sk-container-id-1 {color: black;background-color: white;}#sk-container-id-1 pre{padding: 0;}#sk-container-id-1 div.sk-toggleable {background-color: white;}#sk-container-id-1 label.sk-toggleable__label {cursor: pointer;display: block;width: 100%;margin-bottom: 0;padding: 0.3em;box-sizing: border-box;text-align: center;}#sk-container-id-1 label.sk-toggleable__label-arrow:before {content: \"▸\";float: left;margin-right: 0.25em;color: #696969;}#sk-container-id-1 label.sk-toggleable__label-arrow:hover:before {color: black;}#sk-container-id-1 div.sk-estimator:hover label.sk-toggleable__label-arrow:before {color: black;}#sk-container-id-1 div.sk-toggleable__content {max-height: 0;max-width: 0;overflow: hidden;text-align: left;background-color: #f0f8ff;}#sk-container-id-1 div.sk-toggleable__content pre {margin: 0.2em;color: black;border-radius: 0.25em;background-color: #f0f8ff;}#sk-container-id-1 input.sk-toggleable__control:checked~div.sk-toggleable__content {max-height: 200px;max-width: 100%;overflow: auto;}#sk-container-id-1 input.sk-toggleable__control:checked~label.sk-toggleable__label-arrow:before {content: \"▾\";}#sk-container-id-1 div.sk-estimator input.sk-toggleable__control:checked~label.sk-toggleable__label {background-color: #d4ebff;}#sk-container-id-1 div.sk-label input.sk-toggleable__control:checked~label.sk-toggleable__label {background-color: #d4ebff;}#sk-container-id-1 input.sk-hidden--visually {border: 0;clip: rect(1px 1px 1px 1px);clip: rect(1px, 1px, 1px, 1px);height: 1px;margin: -1px;overflow: hidden;padding: 0;position: absolute;width: 1px;}#sk-container-id-1 div.sk-estimator {font-family: monospace;background-color: #f0f8ff;border: 1px dotted black;border-radius: 0.25em;box-sizing: border-box;margin-bottom: 0.5em;}#sk-container-id-1 div.sk-estimator:hover {background-color: #d4ebff;}#sk-container-id-1 div.sk-parallel-item::after {content: \"\";width: 100%;border-bottom: 1px solid gray;flex-grow: 1;}#sk-container-id-1 div.sk-label:hover label.sk-toggleable__label {background-color: #d4ebff;}#sk-container-id-1 div.sk-serial::before {content: \"\";position: absolute;border-left: 1px solid gray;box-sizing: border-box;top: 0;bottom: 0;left: 50%;z-index: 0;}#sk-container-id-1 div.sk-serial {display: flex;flex-direction: column;align-items: center;background-color: white;padding-right: 0.2em;padding-left: 0.2em;position: relative;}#sk-container-id-1 div.sk-item {position: relative;z-index: 1;}#sk-container-id-1 div.sk-parallel {display: flex;align-items: stretch;justify-content: center;background-color: white;position: relative;}#sk-container-id-1 div.sk-item::before, #sk-container-id-1 div.sk-parallel-item::before {content: \"\";position: absolute;border-left: 1px solid gray;box-sizing: border-box;top: 0;bottom: 0;left: 50%;z-index: -1;}#sk-container-id-1 div.sk-parallel-item {display: flex;flex-direction: column;z-index: 1;position: relative;background-color: white;}#sk-container-id-1 div.sk-parallel-item:first-child::after {align-self: flex-end;width: 50%;}#sk-container-id-1 div.sk-parallel-item:last-child::after {align-self: flex-start;width: 50%;}#sk-container-id-1 div.sk-parallel-item:only-child::after {width: 0;}#sk-container-id-1 div.sk-dashed-wrapped {border: 1px dashed gray;margin: 0 0.4em 0.5em 0.4em;box-sizing: border-box;padding-bottom: 0.4em;background-color: white;}#sk-container-id-1 div.sk-label label {font-family: monospace;font-weight: bold;display: inline-block;line-height: 1.2em;}#sk-container-id-1 div.sk-label-container {text-align: center;}#sk-container-id-1 div.sk-container {/* jupyter's `normalize.less` sets `[hidden] { display: none; }` but bootstrap.min.css set `[hidden] { display: none !important; }` so we also need the `!important` here to be able to override the default hidden behavior on the sphinx rendered scikit-learn.org. See: https://github.com/scikit-learn/scikit-learn/issues/21755 */display: inline-block !important;position: relative;}#sk-container-id-1 div.sk-text-repr-fallback {display: none;}</style><div id=\"sk-container-id-1\" class=\"sk-top-container\"><div class=\"sk-text-repr-fallback\"><pre>LinearRegression()</pre><b>In a Jupyter environment, please rerun this cell to show the HTML representation or trust the notebook. <br />On GitHub, the HTML representation is unable to render, please try loading this page with nbviewer.org.</b></div><div class=\"sk-container\" hidden><div class=\"sk-item\"><div class=\"sk-estimator sk-toggleable\"><input class=\"sk-toggleable__control sk-hidden--visually\" id=\"sk-estimator-id-1\" type=\"checkbox\" checked><label for=\"sk-estimator-id-1\" class=\"sk-toggleable__label sk-toggleable__label-arrow\">LinearRegression</label><div class=\"sk-toggleable__content\"><pre>LinearRegression()</pre></div></div></div></div></div>"
      ],
      "text/plain": [
       "LinearRegression()"
      ]
     },
     "execution_count": 14,
     "metadata": {},
     "output_type": "execute_result"
    }
   ],
   "source": [
    "# Realizamos el entrenamiento del modelo con el método fit y los datos de entrenamiento \n",
    "\n",
    "modelo_rl.fit(X_train, y_train)"
   ]
  },
  {
   "cell_type": "markdown",
   "metadata": {
    "id": "SZYWGAcUeOZJ"
   },
   "source": [
    "##### Parámetros \n",
    "\n",
    "Los parámetros de una Regresión Lineal son el coeficiente (*pendiente de la recta*) y el intercepto (*ordenada al orignen*: punto en *y* que *x=0*), en este caso se obtienden como resultado del entrenamiento del modelo"
   ]
  },
  {
   "cell_type": "code",
   "execution_count": 15,
   "metadata": {
    "id": "6M-48gedpgr7"
   },
   "outputs": [
    {
     "data": {
      "text/plain": [
       "array([-7.75338587e+00, -7.09614427e-02,  1.10791575e-03,  6.40664408e-02,\n",
       "       -1.00577414e-04,  5.56581033e+00,  8.48358792e+00,  1.91894484e+01])"
      ]
     },
     "execution_count": 15,
     "metadata": {},
     "output_type": "execute_result"
    }
   ],
   "source": [
    "# Coeficiente (la pendiente de la recta)\n",
    "\n",
    "modelo_rl.coef_\n"
   ]
  },
  {
   "cell_type": "code",
   "execution_count": 16,
   "metadata": {
    "id": "zUgbwvFPpgr7"
   },
   "outputs": [
    {
     "data": {
      "text/plain": [
       "3.5328273392664062"
      ]
     },
     "execution_count": 16,
     "metadata": {},
     "output_type": "execute_result"
    }
   ],
   "source": [
    "# Intercepto (el punto de comienzo de la recta en el eje y)\n",
    "\n",
    "modelo_rl.intercept_"
   ]
  },
  {
   "cell_type": "markdown",
   "metadata": {
    "id": "wblW4ksmpgr7"
   },
   "source": [
    "#### Testeo del modelo\n",
    "\n",
    "Ahora probaremos nuestro modelo con el método *predict* y los datos de testeo (X_test) para ver el resultado y compararlo con el resultado final a través de distintas métricas\n",
    "\n",
    "- [MAE](https://scikit-learn.org/stable/modules/generated/sklearn.metrics.mean_absolute_error.html?highlight=mean_absolute_error#sklearn.metrics.mean_absolute_error(): Media del Error Absoluto \n",
    "\n",
    "- [MSE](https://scikit-learn.org/stable/modules/generated/sklearn.metrics.mean_squared_error.html?highlight=mean_squared_error#sklearn.metrics.mean_squared_error): La Media del Error cuadrático\n",
    "\n",
    "- RMSE: La raíz del error cuadrático medio \n",
    "\n",
    "- [R2](https://scikit-learn.org/stable/modules/generated/sklearn.metrics.r2_score.html?highlight=r2#sklearn.metrics.r2_score)\n"
   ]
  },
  {
   "cell_type": "code",
   "execution_count": 17,
   "metadata": {
    "id": "t1Oojo5qpgr7"
   },
   "outputs": [
    {
     "data": {
      "text/plain": [
       "array([10.68564909, 23.21982556, 12.15856185, ...,  1.76278094,\n",
       "       -4.14014847, 23.40415859])"
      ]
     },
     "execution_count": 17,
     "metadata": {},
     "output_type": "execute_result"
    }
   ],
   "source": [
    "# Probar nuestro modelo con los datos de test\n",
    "\n",
    "y_pred = modelo_rl.predict(X_test)\n",
    "y_pred"
   ]
  },
  {
   "cell_type": "code",
   "execution_count": 18,
   "metadata": {
    "id": "ui8sqtW4EQa9"
   },
   "outputs": [
    {
     "data": {
      "text/plain": [
       "2.8156196891507417"
      ]
     },
     "execution_count": 18,
     "metadata": {},
     "output_type": "execute_result"
    }
   ],
   "source": [
    "from sklearn.metrics import mean_absolute_error\n",
    "\n",
    "mae = mean_absolute_error(y_test, y_pred)\n",
    "mae"
   ]
  },
  {
   "cell_type": "code",
   "execution_count": 19,
   "metadata": {
    "id": "I66XuWYFEQa-"
   },
   "outputs": [
    {
     "data": {
      "text/plain": [
       "12.049341830270448"
      ]
     },
     "execution_count": 19,
     "metadata": {},
     "output_type": "execute_result"
    }
   ],
   "source": [
    "from sklearn.metrics import mean_squared_error\n",
    "\n",
    "mse = mean_squared_error(y_test, y_pred)\n",
    "mse"
   ]
  },
  {
   "cell_type": "code",
   "execution_count": 21,
   "metadata": {
    "id": "9QTE1CrZEQa-"
   },
   "outputs": [],
   "source": [
    "# importamos la libería numpy para calcular la raíz cuadrada para RMSE\n",
    "\n",
    "import numpy as np"
   ]
  },
  {
   "cell_type": "code",
   "execution_count": 22,
   "metadata": {
    "id": "WOVyzznwEQa_"
   },
   "outputs": [],
   "source": [
    "rmse = np.sqrt(mse)"
   ]
  },
  {
   "cell_type": "code",
   "execution_count": 23,
   "metadata": {
    "id": "yV7OYVciEQa_"
   },
   "outputs": [
    {
     "data": {
      "text/plain": [
       "0.868105910809341"
      ]
     },
     "execution_count": 23,
     "metadata": {},
     "output_type": "execute_result"
    }
   ],
   "source": [
    "from sklearn.metrics import r2_score\n",
    "\n",
    "r2 = r2_score(y_test, y_pred)\n",
    "r2"
   ]
  },
  {
   "cell_type": "markdown",
   "metadata": {
    "id": "w3uvh9m2izuK"
   },
   "source": [
    "##### Vemos los resultados de la performance del modelo con distintas métricas"
   ]
  },
  {
   "cell_type": "code",
   "execution_count": 24,
   "metadata": {
    "id": "IiUrXxh7EQa_"
   },
   "outputs": [
    {
     "name": "stdout",
     "output_type": "stream",
     "text": [
      "La Media del Error Absoluto  del modelo es 2.82\n",
      "La Media del Error cuadrático del modelo es 12.05\n",
      "La raíz del error cuadrático medio del modelo es 3.47\n",
      "El R2 del modelo es 0.87\n"
     ]
    }
   ],
   "source": [
    "print(\"La Media del Error Absoluto  del modelo es\", round(mae,2))\n",
    "print(\"La Media del Error cuadrático del modelo es\", round(mse,2))\n",
    "print(\"La raíz del error cuadrático medio del modelo es\", round(rmse,2))\n",
    "print(\"El R2 del modelo es\", round(r2,2))"
   ]
  },
  {
   "cell_type": "code",
   "execution_count": 27,
   "metadata": {},
   "outputs": [
    {
     "data": {
      "text/plain": [
       "[<matplotlib.lines.Line2D at 0x2145479aa30>]"
      ]
     },
     "execution_count": 27,
     "metadata": {},
     "output_type": "execute_result"
    },
    {
     "data": {
      "image/png": "[encoded data removed]",
      "text/plain": [
       "<Figure size 432x288 with 1 Axes>"
      ]
     },
     "metadata": {
      "needs_background": "light"
     },
     "output_type": "display_data"
    }
   ],
   "source": [
    "plt.plot(y_test,y_pred,'o')\n",
    "plt.plot(y_test,y_test,'-')"
   ]
  }
 ],
 "metadata": {
  "colab": {
   "collapsed_sections": [],
   "name": "Regresión lineal múltiple y métricas.ipynb",
   "provenance": []
  },
  "kernelspec": {
   "display_name": "Python 3 (ipykernel)",
   "language": "python",
   "name": "python3"
  },
  "language_info": {
   "codemirror_mode": {
    "name": "ipython",
    "version": 3
   },
   "file_extension": ".py",
   "mimetype": "text/x-python",
   "name": "python",
   "nbconvert_exporter": "python",
   "pygments_lexer": "ipython3",
   "version": "3.9.7"
  }
 },
 "nbformat": 4,
 "nbformat_minor": 1
}
