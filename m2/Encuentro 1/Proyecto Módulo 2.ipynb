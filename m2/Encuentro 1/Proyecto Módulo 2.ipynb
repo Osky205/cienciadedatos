{
 "cells": [
  {
   "cell_type": "markdown",
   "id": "equal-officer",
   "metadata": {
    "id": "equal-officer"
   },
   "source": [
    "# Proyecto\n",
    "\n",
    "En este modulo vamos a hacer un proyecto entero de aprendizaje supervisado, pasando por todos los pasos del mismo, los cuales son:\n",
    "\n",
    "* Definición del problema.\n",
    "* Búsqueda de datos. \n",
    "* Análisis exploratorio y limpieza.\n",
    "* Separación de entrenamiento y validación.\n",
    "* Entrenamiento.\n",
    "* Prueba.\n",
    "* Presentación de resultados. \n",
    "\n",
    "## Definición del problema\n",
    "\n",
    "Todo proyecto de aprendizaje automático parte de una pregunta que se quiere responder, en este caso la pregunta es:\n",
    "\n",
    "**¿Cuál será el precio de un Seguro de Salud de acuerdo a determinadas características de una persona?**\n",
    "\n",
    "## Búsqueda de datos\n",
    "\n",
    "El dataset que se utilizará es sobre precios de seguro de salud donde de acuerdo a determinadas variables (edad, hijos/as, índice de masa corporal, si fuma, donde vive) se puede predecir el precio que deberá pagar en Seguro de salud.\n",
    "Esta basado en el dataset descargable en [Kaggle](https://www.kaggle.com/teertha/ushealthinsurancedataset) pero tiene realizadas algunas modificaciones por lo que debe ser tomado desde el archivo csv descargado desde la plataforma. \n"
   ]
  },
  {
   "cell_type": "markdown",
   "id": "mv6B6lCtkjsW",
   "metadata": {
    "id": "mv6B6lCtkjsW"
   },
   "source": [
    "## Hipótesis\n",
    "\n",
    "En primer lugar es necesario elaborar una **hipótesis** de qué variables consideran que pueden ser relevantes para predecir el precio que tendrá que pagar una personas de seguro de salud\n",
    "\n"
   ]
  },
  {
   "cell_type": "markdown",
   "id": "318vQ9fVipcw",
   "metadata": {
    "id": "318vQ9fVipcw"
   },
   "source": [
    "\n",
    "\n",
    "## Exploración del dataset\n",
    "\n",
    "Realizaremos la primer exploración y limpieza del dataset. \n",
    "La variable a predecir es *costo*.  \n",
    "\n",
    "\n",
    "Debemos: \n",
    "- Ver los primeros tres registros\n",
    "\n",
    "- Ver el tamaño del dataset\n",
    "\n",
    "- Ver los tipos de datos de cada columna\n",
    "\n",
    "- Ver las columnas que toma y escribir una pequeña descripción de cada una:\n",
    "\n",
    "age: \n",
    "\n",
    "sexo biológico: \n",
    "\n",
    "índice de masa corporal: \n",
    "\n",
    "children:\n",
    "\n",
    "fuma: \n",
    "\n",
    "region: \n",
    "\n",
    "costo: \n",
    "\n",
    "- Renombrar las columnas *age* y *children* para que esten en español\n",
    "\n",
    "- Usar el métdoo *describe()* para ver las variables numéricas\n",
    "\n",
    "- Usar el método *corr()* para ver la correlación entre las variables\n",
    "\n",
    "- De la variable a predecir **costo** ver los valores máximo, mínimo y \n",
    "promedio y hacer un gráfico *displot* para ver la distribución\n",
    "\n",
    "- De la variable **edad** ver los valores máximo, mínimo y promedio y hacer un gráfico *displot* para ver la distribución\n",
    "\n",
    "- De la variable **sexo biológico** ver los valores que toma y cuántos registros de cada uno y hacer un gráfico *countplot* para visualizarlo\n",
    "\n",
    "- De la variable **region** ver los valores que toma y cuántos registros de cada uno y hacer un gráfico *countplot* para visualizarlo\n",
    "\n",
    "- Luego de realizar la exploración, pensar que variables no serían necesarias en un modelo y eliminarlas\n",
    "   "
   ]
  },
  {
   "cell_type": "code",
   "execution_count": 1,
   "id": "altered-exemption",
   "metadata": {
    "id": "altered-exemption"
   },
   "outputs": [],
   "source": [
    "#importamos las librerias que utilizaremos\n",
    "\n",
    "import pandas as pd\n",
    "import matplotlib.pyplot as plt  \n",
    "import seaborn as sns"
   ]
  },
  {
   "cell_type": "code",
   "execution_count": 3,
   "id": "advisory-blackjack",
   "metadata": {
    "id": "advisory-blackjack"
   },
   "outputs": [],
   "source": [
    "data = pd.read_csv(\"seguro_salud.csv\")"
   ]
  },
  {
   "cell_type": "markdown",
   "id": "GrnQUEpLoyEh",
   "metadata": {
    "id": "GrnQUEpLoyEh"
   },
   "source": [
    "### Limpieza de datos - nulos\n",
    "\n",
    "- Revisar si el dataset tiene datos nulos y cuántos por columnas\n",
    "\n",
    "- En cada caso definir si se debe **imputar**, **eliminar** o **marcar** los datos nulos de acuerdo a los criterios vistos en clase. Se pueden reemplazar valores con datos específicos o con una lista creada de manera aleatoria, usar métodos de pandas como *fillna* o *dropna*"
   ]
  },
  {
   "cell_type": "markdown",
   "id": "RFFxUWo0pu1n",
   "metadata": {
    "id": "RFFxUWo0pu1n"
   },
   "source": [
    "### Variables categóricas y numéricas\n",
    "\n",
    "- Revisar los tipos de datos que tiene cada columna del dataset\n",
    "- En el caso que haya variables categóricas convertirlas en numéricas: en el caso que sean variables categróicas nominales deben ser convertidas en variables dummies, para esto pueden reemplazarse valores con *apply* y *lambda*, creando una función propia o utilizando el método de pandas *get_dummies*."
   ]
  },
  {
   "cell_type": "markdown",
   "id": "5rC_FKtlhLOp",
   "metadata": {
    "id": "5rC_FKtlhLOp"
   },
   "source": [
    "### División de datos de entrenamiento y testeo\n",
    "\n",
    "Completar los espacios _______ con el código que corresponda"
   ]
  },
  {
   "cell_type": "code",
   "execution_count": null,
   "id": "XYqF03pmhTWc",
   "metadata": {
    "id": "XYqF03pmhTWc"
   },
   "outputs": [],
   "source": [
    "# Definir X e y siendo X las variables predictoras e y la variable a predecir\n",
    "\n",
    "X= data.drop(columns=\"costo\")\n",
    "y=data[\"costo\"]"
   ]
  },
  {
   "cell_type": "code",
   "execution_count": null,
   "id": "skLvFQRJhTZK",
   "metadata": {
    "id": "skLvFQRJhTZK"
   },
   "outputs": [],
   "source": [
    "# importamos train_test_split de la libreria scikit-learn\n",
    "\n",
    "from sklearn.model_selection import train_test_split "
   ]
  },
  {
   "cell_type": "code",
   "execution_count": null,
   "id": "-5dCQg4-hTcw",
   "metadata": {
    "id": "-5dCQg4-hTcw"
   },
   "outputs": [],
   "source": [
    "# Definimos X de entrenamiento y de testeo e y de entrenamiento y testeo\n",
    "\n",
    "X_train, X_test, y_test, y_train = ____________(X, y)"
   ]
  },
  {
   "cell_type": "code",
   "execution_count": null,
   "id": "JKRvlAlyht6m",
   "metadata": {
    "id": "JKRvlAlyht6m"
   },
   "outputs": [],
   "source": [
    "# Revisamos que esté correctamente realizada la operación\n",
    "\n",
    "print(x_train.shape)\n",
    "print(y_train.shape)\n",
    "print(x_test.shape)\n",
    "print(y_test.shape)"
   ]
  },
  {
   "cell_type": "markdown",
   "id": "EG0myRVfh0Pn",
   "metadata": {
    "id": "EG0myRVfh0Pn"
   },
   "source": [
    "### Entrenamiento del modelo\n",
    "\n",
    "\n",
    "Completar los espacios _______ con el código que corresponda"
   ]
  },
  {
   "cell_type": "code",
   "execution_count": null,
   "id": "jEwul2-hhx5i",
   "metadata": {
    "id": "jEwul2-hhx5i"
   },
   "outputs": [],
   "source": [
    "# Importamos el modelo que utilizaremos. Regresión lineal\n",
    "\n",
    "from sklearn.linear_model import LinearRegression"
   ]
  },
  {
   "cell_type": "code",
   "execution_count": null,
   "id": "2msLxUbjh6Ue",
   "metadata": {
    "id": "2msLxUbjh6Ue"
   },
   "outputs": [],
   "source": [
    "# Definimos un objeto con el modelo importado, en este caso los hiperparametros son por default por lo que el parentesis está vacio\n",
    "\n",
    "modelo_rl = ____________________()"
   ]
  },
  {
   "cell_type": "code",
   "execution_count": null,
   "id": "0SzPV4tqh86A",
   "metadata": {
    "id": "0SzPV4tqh86A"
   },
   "outputs": [],
   "source": [
    "# Realizamos el entrenamiento del modelo con el método fit y los datos de entrenamiento \n",
    "\n",
    "modelo_rl.___(X_train, y_train)"
   ]
  },
  {
   "cell_type": "code",
   "execution_count": null,
   "id": "xzWoWJdRiAJX",
   "metadata": {
    "id": "xzWoWJdRiAJX"
   },
   "outputs": [],
   "source": [
    "# Observamos los parámetros del modelo entrenado\n",
    "# Coeficiente (la pendiente de la recta)\n",
    "\n",
    "modelo_rl.coef_\n"
   ]
  },
  {
   "cell_type": "code",
   "execution_count": null,
   "id": "I_z-2KCCiAQX",
   "metadata": {
    "id": "I_z-2KCCiAQX"
   },
   "outputs": [],
   "source": [
    "# Intercepto (el punto de comienzo de la recta en el eje y)\n",
    "\n",
    "modelo_rl.intercept_"
   ]
  },
  {
   "cell_type": "markdown",
   "id": "HuNAtRzQiJZ9",
   "metadata": {
    "id": "HuNAtRzQiJZ9"
   },
   "source": [
    "### Testeo del modelo\n",
    "\n",
    "\n",
    "Completar los espacios _______ con el código que corresponda"
   ]
  },
  {
   "cell_type": "code",
   "execution_count": null,
   "id": "j86tK68diMfD",
   "metadata": {
    "id": "j86tK68diMfD"
   },
   "outputs": [],
   "source": [
    "# Probar nuestro modelo con predict y los datos de test\n",
    "\n",
    "y_pred = modelo_rl.______(X_test)"
   ]
  },
  {
   "cell_type": "code",
   "execution_count": null,
   "id": "7u60OzJNiQTQ",
   "metadata": {
    "id": "7u60OzJNiQTQ"
   },
   "outputs": [],
   "source": [
    "# Importar la métrica que se utiliza para medir la performance modelo de regresión lineal: R2\n",
    "\n",
    "from sklearn.metrics import r2_score\n"
   ]
  },
  {
   "cell_type": "code",
   "execution_count": null,
   "id": "ei0EFWgOiWfk",
   "metadata": {
    "id": "ei0EFWgOiWfk"
   },
   "outputs": [],
   "source": [
    "# Utilizar R2 para medir la performance del modelo\n",
    "\n",
    "r2_score(y_test,y_pred)\n"
   ]
  }
 ],
 "metadata": {
  "colab": {
   "name": "Proyecto Módulo 2.ipynb",
   "provenance": []
  },
  "kernelspec": {
   "display_name": "Python 3 (ipykernel)",
   "language": "python",
   "name": "python3"
  },
  "language_info": {
   "codemirror_mode": {
    "name": "ipython",
    "version": 3
   },
   "file_extension": ".py",
   "mimetype": "text/x-python",
   "name": "python",
   "nbconvert_exporter": "python",
   "pygments_lexer": "ipython3",
   "version": "3.8.9"
  }
 },
 "nbformat": 4,
 "nbformat_minor": 5
}
