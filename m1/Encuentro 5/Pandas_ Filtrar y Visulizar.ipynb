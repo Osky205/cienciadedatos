{
 "cells": [
  {
   "cell_type": "markdown",
   "id": "neither-theorem",
   "metadata": {
    "id": "neither-theorem"
   },
   "source": [
    "#### Dataset\n",
    "\n",
    "Hoy aprenderemos a filtrar un dataset y realizar agrupaciones con métodos de la librería de pandas.\n",
    "\n",
    "Retomaremos el dataset utilizado la clase anterior sobre Encuentros de educación ambiental extraído de https://datos.gob.ar/dataset/ambiente-encuentros-jornadas-educacion-ambiental"
   ]
  },
  {
   "cell_type": "code",
   "execution_count": 1,
   "id": "collaborative-order",
   "metadata": {
    "id": "collaborative-order"
   },
   "outputs": [],
   "source": [
    "#importamos las librerias que utilizaremos\n",
    "import pandas as pd\n"
   ]
  },
  {
   "cell_type": "markdown",
   "id": "F5XabMqx0kSX",
   "metadata": {
    "id": "F5XabMqx0kSX"
   },
   "source": [
    "#### Desde el archivo descargado en la computadora"
   ]
  },
  {
   "cell_type": "code",
   "execution_count": 2,
   "id": "hAhJVk9n0rpe",
   "metadata": {
    "id": "hAhJVk9n0rpe"
   },
   "outputs": [],
   "source": [
    "data = pd.read_csv(\"encuentros.csv\", sep=\";\") \n"
   ]
  },
  {
   "cell_type": "code",
   "execution_count": 3,
   "id": "statutory-designer",
   "metadata": {
    "id": "statutory-designer"
   },
   "outputs": [
    {
     "data": {
      "text/html": [
       "<div>\n",
       "<style scoped>\n",
       "    .dataframe tbody tr th:only-of-type {\n",
       "        vertical-align: middle;\n",
       "    }\n",
       "\n",
       "    .dataframe tbody tr th {\n",
       "        vertical-align: top;\n",
       "    }\n",
       "\n",
       "    .dataframe thead th {\n",
       "        text-align: right;\n",
       "    }\n",
       "</style>\n",
       "<table border=\"1\" class=\"dataframe\">\n",
       "  <thead>\n",
       "    <tr style=\"text-align: right;\">\n",
       "      <th></th>\n",
       "      <th>encuentro_anio</th>\n",
       "      <th>encuentro_numero</th>\n",
       "      <th>encuentro_participantes</th>\n",
       "      <th>encuentro_tematica</th>\n",
       "      <th>Encuentro_destinatarios</th>\n",
       "    </tr>\n",
       "  </thead>\n",
       "  <tbody>\n",
       "    <tr>\n",
       "      <th>0</th>\n",
       "      <td>2016</td>\n",
       "      <td>1</td>\n",
       "      <td>90</td>\n",
       "      <td>Encuentro Nacional de EA</td>\n",
       "      <td>Funcionarios de los Ministerios de Ambiente y ...</td>\n",
       "    </tr>\n",
       "    <tr>\n",
       "      <th>1</th>\n",
       "      <td>2016</td>\n",
       "      <td>1</td>\n",
       "      <td>90</td>\n",
       "      <td>Jornada ODS y ambiente</td>\n",
       "      <td>Funcionarios, educadores, empresarios, periodi...</td>\n",
       "    </tr>\n",
       "    <tr>\n",
       "      <th>2</th>\n",
       "      <td>2016</td>\n",
       "      <td>1</td>\n",
       "      <td>400</td>\n",
       "      <td>Jornadas internacionales de Emprendedurismo es...</td>\n",
       "      <td>Alumnos de nivel secundario</td>\n",
       "    </tr>\n",
       "    <tr>\n",
       "      <th>3</th>\n",
       "      <td>2017</td>\n",
       "      <td>4</td>\n",
       "      <td>250</td>\n",
       "      <td>Estrategia Nacional de EA/Encuentros regionale...</td>\n",
       "      <td>Funcionarios de los Ministerios de Ambiente y ...</td>\n",
       "    </tr>\n",
       "    <tr>\n",
       "      <th>4</th>\n",
       "      <td>2017</td>\n",
       "      <td>2</td>\n",
       "      <td>3000</td>\n",
       "      <td>Eventos con Universidades</td>\n",
       "      <td>Autoridades provinciales/Autoridades y docente...</td>\n",
       "    </tr>\n",
       "    <tr>\n",
       "      <th>5</th>\n",
       "      <td>2017</td>\n",
       "      <td>2</td>\n",
       "      <td>130</td>\n",
       "      <td>ODS y sector empresario</td>\n",
       "      <td>Emprendedores y empresarios</td>\n",
       "    </tr>\n",
       "    <tr>\n",
       "      <th>6</th>\n",
       "      <td>2017</td>\n",
       "      <td>1</td>\n",
       "      <td>22</td>\n",
       "      <td>EA y edificios sutentables</td>\n",
       "      <td>Guías del museo de Casa Rosada</td>\n",
       "    </tr>\n",
       "    <tr>\n",
       "      <th>7</th>\n",
       "      <td>2017</td>\n",
       "      <td>1</td>\n",
       "      <td>700</td>\n",
       "      <td>Jornadas Municipales</td>\n",
       "      <td>Funcionarios provinciales y municipales. Insti...</td>\n",
       "    </tr>\n",
       "    <tr>\n",
       "      <th>8</th>\n",
       "      <td>2018</td>\n",
       "      <td>8</td>\n",
       "      <td>540</td>\n",
       "      <td>Estrategia Nacional de EA/Encuentros regionale...</td>\n",
       "      <td>Funcionarios de los Ministerios de Ambiente y ...</td>\n",
       "    </tr>\n",
       "    <tr>\n",
       "      <th>9</th>\n",
       "      <td>2018</td>\n",
       "      <td>2</td>\n",
       "      <td>150</td>\n",
       "      <td>MESAS DE DIÁLOGO INTERSECOTRIAL LAUDATOS SÍ-ODS</td>\n",
       "      <td>Funcionarios, educadores, empresarios, referen...</td>\n",
       "    </tr>\n",
       "    <tr>\n",
       "      <th>10</th>\n",
       "      <td>2018</td>\n",
       "      <td>10</td>\n",
       "      <td>350</td>\n",
       "      <td>Estrategia Nacional para la Sustentabilidad en...</td>\n",
       "      <td>Autoridades y docentes universitarios</td>\n",
       "    </tr>\n",
       "    <tr>\n",
       "      <th>11</th>\n",
       "      <td>2018</td>\n",
       "      <td>1</td>\n",
       "      <td>170</td>\n",
       "      <td>Encuentro de Educación Ambiental y Exóticas In...</td>\n",
       "      <td>Funcionarios, educadores, periodistas, cientìf...</td>\n",
       "    </tr>\n",
       "    <tr>\n",
       "      <th>12</th>\n",
       "      <td>2019</td>\n",
       "      <td>1</td>\n",
       "      <td>220</td>\n",
       "      <td>Encuentro Nacional de EA</td>\n",
       "      <td>Funcionarios de los Ministerios de Ambiente y ...</td>\n",
       "    </tr>\n",
       "    <tr>\n",
       "      <th>13</th>\n",
       "      <td>2019</td>\n",
       "      <td>2</td>\n",
       "      <td>20</td>\n",
       "      <td>Estrategia Nacional de EA/Encuentros provincia...</td>\n",
       "      <td>Funcionarios provinciales de Educaciòn Ambiental</td>\n",
       "    </tr>\n",
       "    <tr>\n",
       "      <th>14</th>\n",
       "      <td>2019</td>\n",
       "      <td>2</td>\n",
       "      <td>50</td>\n",
       "      <td>Estrategia Nacional para la Sustentabilidad en...</td>\n",
       "      <td>Autoridades y docentes universitarios</td>\n",
       "    </tr>\n",
       "    <tr>\n",
       "      <th>15</th>\n",
       "      <td>2019</td>\n",
       "      <td>7</td>\n",
       "      <td>80</td>\n",
       "      <td>Mesa intraministerial de gènero ambiente y des...</td>\n",
       "      <td>Funcionarios públicos</td>\n",
       "    </tr>\n",
       "  </tbody>\n",
       "</table>\n",
       "</div>"
      ],
      "text/plain": [
       "    encuentro_anio  encuentro_numero  encuentro_participantes  \\\n",
       "0             2016                 1                       90   \n",
       "1             2016                 1                       90   \n",
       "2             2016                 1                      400   \n",
       "3             2017                 4                      250   \n",
       "4             2017                 2                     3000   \n",
       "5             2017                 2                      130   \n",
       "6             2017                 1                       22   \n",
       "7             2017                 1                      700   \n",
       "8             2018                 8                      540   \n",
       "9             2018                 2                      150   \n",
       "10            2018                10                      350   \n",
       "11            2018                 1                      170   \n",
       "12            2019                 1                      220   \n",
       "13            2019                 2                       20   \n",
       "14            2019                 2                       50   \n",
       "15            2019                 7                       80   \n",
       "\n",
       "                                   encuentro_tematica  \\\n",
       "0                            Encuentro Nacional de EA   \n",
       "1                              Jornada ODS y ambiente   \n",
       "2   Jornadas internacionales de Emprendedurismo es...   \n",
       "3   Estrategia Nacional de EA/Encuentros regionale...   \n",
       "4                           Eventos con Universidades   \n",
       "5                             ODS y sector empresario   \n",
       "6                          EA y edificios sutentables   \n",
       "7                                Jornadas Municipales   \n",
       "8   Estrategia Nacional de EA/Encuentros regionale...   \n",
       "9     MESAS DE DIÁLOGO INTERSECOTRIAL LAUDATOS SÍ-ODS   \n",
       "10  Estrategia Nacional para la Sustentabilidad en...   \n",
       "11  Encuentro de Educación Ambiental y Exóticas In...   \n",
       "12                           Encuentro Nacional de EA   \n",
       "13  Estrategia Nacional de EA/Encuentros provincia...   \n",
       "14  Estrategia Nacional para la Sustentabilidad en...   \n",
       "15  Mesa intraministerial de gènero ambiente y des...   \n",
       "\n",
       "                              Encuentro_destinatarios  \n",
       "0   Funcionarios de los Ministerios de Ambiente y ...  \n",
       "1   Funcionarios, educadores, empresarios, periodi...  \n",
       "2                         Alumnos de nivel secundario  \n",
       "3   Funcionarios de los Ministerios de Ambiente y ...  \n",
       "4   Autoridades provinciales/Autoridades y docente...  \n",
       "5                         Emprendedores y empresarios  \n",
       "6                      Guías del museo de Casa Rosada  \n",
       "7   Funcionarios provinciales y municipales. Insti...  \n",
       "8   Funcionarios de los Ministerios de Ambiente y ...  \n",
       "9   Funcionarios, educadores, empresarios, referen...  \n",
       "10              Autoridades y docentes universitarios  \n",
       "11  Funcionarios, educadores, periodistas, cientìf...  \n",
       "12  Funcionarios de los Ministerios de Ambiente y ...  \n",
       "13   Funcionarios provinciales de Educaciòn Ambiental  \n",
       "14              Autoridades y docentes universitarios  \n",
       "15                              Funcionarios públicos  "
      ]
     },
     "execution_count": 3,
     "metadata": {},
     "output_type": "execute_result"
    }
   ],
   "source": [
    "data\n"
   ]
  },
  {
   "cell_type": "code",
   "execution_count": 4,
   "id": "3d435a9d",
   "metadata": {},
   "outputs": [
    {
     "data": {
      "text/plain": [
       "0       90\n",
       "1       90\n",
       "2      400\n",
       "3      250\n",
       "4     3000\n",
       "5      130\n",
       "6       22\n",
       "7      700\n",
       "8      540\n",
       "9      150\n",
       "10     350\n",
       "11     170\n",
       "12     220\n",
       "13      20\n",
       "14      50\n",
       "15      80\n",
       "Name: encuentro_participantes, dtype: int64"
      ]
     },
     "execution_count": 4,
     "metadata": {},
     "output_type": "execute_result"
    }
   ],
   "source": [
    "data['encuentro_participantes']\n"
   ]
  },
  {
   "cell_type": "code",
   "execution_count": 5,
   "id": "3b7987f4",
   "metadata": {},
   "outputs": [
    {
     "data": {
      "text/plain": [
       "0       90\n",
       "1       90\n",
       "2      400\n",
       "3      250\n",
       "4     3000\n",
       "5      130\n",
       "6       22\n",
       "7      700\n",
       "8      540\n",
       "9      150\n",
       "10     350\n",
       "11     170\n",
       "12     220\n",
       "13      20\n",
       "14      50\n",
       "15      80\n",
       "Name: encuentro_participantes, dtype: int64"
      ]
     },
     "execution_count": 5,
     "metadata": {},
     "output_type": "execute_result"
    }
   ],
   "source": [
    "data.encuentro_participantes\n"
   ]
  },
  {
   "cell_type": "code",
   "execution_count": 6,
   "id": "01bb9208",
   "metadata": {},
   "outputs": [],
   "source": [
    "# proba mirar otra columna."
   ]
  },
  {
   "cell_type": "code",
   "execution_count": 7,
   "id": "de644c28",
   "metadata": {},
   "outputs": [
    {
     "data": {
      "text/html": [
       "<div>\n",
       "<style scoped>\n",
       "    .dataframe tbody tr th:only-of-type {\n",
       "        vertical-align: middle;\n",
       "    }\n",
       "\n",
       "    .dataframe tbody tr th {\n",
       "        vertical-align: top;\n",
       "    }\n",
       "\n",
       "    .dataframe thead th {\n",
       "        text-align: right;\n",
       "    }\n",
       "</style>\n",
       "<table border=\"1\" class=\"dataframe\">\n",
       "  <thead>\n",
       "    <tr style=\"text-align: right;\">\n",
       "      <th></th>\n",
       "      <th>encuentro_anio</th>\n",
       "      <th>encuentro_numero</th>\n",
       "      <th>encuentro_participantes</th>\n",
       "      <th>encuentro_tematica</th>\n",
       "      <th>Encuentro_destinatarios</th>\n",
       "    </tr>\n",
       "  </thead>\n",
       "  <tbody>\n",
       "    <tr>\n",
       "      <th>0</th>\n",
       "      <td>2016</td>\n",
       "      <td>1</td>\n",
       "      <td>90</td>\n",
       "      <td>Encuentro Nacional de EA</td>\n",
       "      <td>Funcionarios de los Ministerios de Ambiente y ...</td>\n",
       "    </tr>\n",
       "    <tr>\n",
       "      <th>1</th>\n",
       "      <td>2016</td>\n",
       "      <td>1</td>\n",
       "      <td>90</td>\n",
       "      <td>Jornada ODS y ambiente</td>\n",
       "      <td>Funcionarios, educadores, empresarios, periodi...</td>\n",
       "    </tr>\n",
       "    <tr>\n",
       "      <th>2</th>\n",
       "      <td>2016</td>\n",
       "      <td>1</td>\n",
       "      <td>400</td>\n",
       "      <td>Jornadas internacionales de Emprendedurismo es...</td>\n",
       "      <td>Alumnos de nivel secundario</td>\n",
       "    </tr>\n",
       "  </tbody>\n",
       "</table>\n",
       "</div>"
      ],
      "text/plain": [
       "   encuentro_anio  encuentro_numero  encuentro_participantes  \\\n",
       "0            2016                 1                       90   \n",
       "1            2016                 1                       90   \n",
       "2            2016                 1                      400   \n",
       "\n",
       "                                  encuentro_tematica  \\\n",
       "0                           Encuentro Nacional de EA   \n",
       "1                             Jornada ODS y ambiente   \n",
       "2  Jornadas internacionales de Emprendedurismo es...   \n",
       "\n",
       "                             Encuentro_destinatarios  \n",
       "0  Funcionarios de los Ministerios de Ambiente y ...  \n",
       "1  Funcionarios, educadores, empresarios, periodi...  \n",
       "2                        Alumnos de nivel secundario  "
      ]
     },
     "execution_count": 7,
     "metadata": {},
     "output_type": "execute_result"
    }
   ],
   "source": [
    "# miro las primeras 3 filas:\n",
    "\n",
    "data[0:3]"
   ]
  },
  {
   "cell_type": "code",
   "execution_count": 8,
   "id": "f3025acf",
   "metadata": {},
   "outputs": [
    {
     "data": {
      "text/html": [
       "<div>\n",
       "<style scoped>\n",
       "    .dataframe tbody tr th:only-of-type {\n",
       "        vertical-align: middle;\n",
       "    }\n",
       "\n",
       "    .dataframe tbody tr th {\n",
       "        vertical-align: top;\n",
       "    }\n",
       "\n",
       "    .dataframe thead th {\n",
       "        text-align: right;\n",
       "    }\n",
       "</style>\n",
       "<table border=\"1\" class=\"dataframe\">\n",
       "  <thead>\n",
       "    <tr style=\"text-align: right;\">\n",
       "      <th></th>\n",
       "      <th>encuentro_anio</th>\n",
       "      <th>encuentro_numero</th>\n",
       "      <th>encuentro_participantes</th>\n",
       "      <th>encuentro_tematica</th>\n",
       "      <th>Encuentro_destinatarios</th>\n",
       "    </tr>\n",
       "  </thead>\n",
       "  <tbody>\n",
       "    <tr>\n",
       "      <th>13</th>\n",
       "      <td>2019</td>\n",
       "      <td>2</td>\n",
       "      <td>20</td>\n",
       "      <td>Estrategia Nacional de EA/Encuentros provincia...</td>\n",
       "      <td>Funcionarios provinciales de Educaciòn Ambiental</td>\n",
       "    </tr>\n",
       "    <tr>\n",
       "      <th>14</th>\n",
       "      <td>2019</td>\n",
       "      <td>2</td>\n",
       "      <td>50</td>\n",
       "      <td>Estrategia Nacional para la Sustentabilidad en...</td>\n",
       "      <td>Autoridades y docentes universitarios</td>\n",
       "    </tr>\n",
       "    <tr>\n",
       "      <th>15</th>\n",
       "      <td>2019</td>\n",
       "      <td>7</td>\n",
       "      <td>80</td>\n",
       "      <td>Mesa intraministerial de gènero ambiente y des...</td>\n",
       "      <td>Funcionarios públicos</td>\n",
       "    </tr>\n",
       "  </tbody>\n",
       "</table>\n",
       "</div>"
      ],
      "text/plain": [
       "    encuentro_anio  encuentro_numero  encuentro_participantes  \\\n",
       "13            2019                 2                       20   \n",
       "14            2019                 2                       50   \n",
       "15            2019                 7                       80   \n",
       "\n",
       "                                   encuentro_tematica  \\\n",
       "13  Estrategia Nacional de EA/Encuentros provincia...   \n",
       "14  Estrategia Nacional para la Sustentabilidad en...   \n",
       "15  Mesa intraministerial de gènero ambiente y des...   \n",
       "\n",
       "                             Encuentro_destinatarios  \n",
       "13  Funcionarios provinciales de Educaciòn Ambiental  \n",
       "14             Autoridades y docentes universitarios  \n",
       "15                             Funcionarios públicos  "
      ]
     },
     "execution_count": 8,
     "metadata": {},
     "output_type": "execute_result"
    }
   ],
   "source": [
    "# miro las ultrimas 3 filas:\n",
    "\n",
    "data[-3:]"
   ]
  },
  {
   "cell_type": "markdown",
   "id": "1b2a3288",
   "metadata": {},
   "source": [
    "## Filtrar\n",
    "\n",
    "Tambien podemos filtrar filas que cumplan cierta condicion. Imagenemos que necesitamos solos las filas que correspondan a encuentros que se realizaron el '2016'.\n",
    "\n",
    "Esta condicion se escribiria:\n",
    "```python\n",
    "data[\"encuentro_anio\"] == 2016\n",
    "```"
   ]
  },
  {
   "cell_type": "code",
   "execution_count": 9,
   "id": "8686d4a4",
   "metadata": {},
   "outputs": [
    {
     "data": {
      "text/plain": [
       "0      True\n",
       "1      True\n",
       "2      True\n",
       "3     False\n",
       "4     False\n",
       "5     False\n",
       "6     False\n",
       "7     False\n",
       "8     False\n",
       "9     False\n",
       "10    False\n",
       "11    False\n",
       "12    False\n",
       "13    False\n",
       "14    False\n",
       "15    False\n",
       "Name: encuentro_anio, dtype: bool"
      ]
     },
     "execution_count": 9,
     "metadata": {},
     "output_type": "execute_result"
    }
   ],
   "source": [
    "data[\"encuentro_anio\"] == 2016\n"
   ]
  },
  {
   "cell_type": "code",
   "execution_count": 10,
   "id": "93960476",
   "metadata": {},
   "outputs": [],
   "source": [
    "mascara=data[\"encuentro_anio\"] == 2016\n"
   ]
  },
  {
   "cell_type": "code",
   "execution_count": 11,
   "id": "e9b4861b",
   "metadata": {},
   "outputs": [
    {
     "data": {
      "text/plain": [
       "0      True\n",
       "1      True\n",
       "2      True\n",
       "3     False\n",
       "4     False\n",
       "5     False\n",
       "6     False\n",
       "7     False\n",
       "8     False\n",
       "9     False\n",
       "10    False\n",
       "11    False\n",
       "12    False\n",
       "13    False\n",
       "14    False\n",
       "15    False\n",
       "Name: encuentro_anio, dtype: bool"
      ]
     },
     "execution_count": 11,
     "metadata": {},
     "output_type": "execute_result"
    }
   ],
   "source": [
    "mascara"
   ]
  },
  {
   "cell_type": "code",
   "execution_count": 12,
   "id": "9f3ccf46",
   "metadata": {},
   "outputs": [
    {
     "data": {
      "text/html": [
       "<div>\n",
       "<style scoped>\n",
       "    .dataframe tbody tr th:only-of-type {\n",
       "        vertical-align: middle;\n",
       "    }\n",
       "\n",
       "    .dataframe tbody tr th {\n",
       "        vertical-align: top;\n",
       "    }\n",
       "\n",
       "    .dataframe thead th {\n",
       "        text-align: right;\n",
       "    }\n",
       "</style>\n",
       "<table border=\"1\" class=\"dataframe\">\n",
       "  <thead>\n",
       "    <tr style=\"text-align: right;\">\n",
       "      <th></th>\n",
       "      <th>encuentro_anio</th>\n",
       "      <th>encuentro_numero</th>\n",
       "      <th>encuentro_participantes</th>\n",
       "      <th>encuentro_tematica</th>\n",
       "      <th>Encuentro_destinatarios</th>\n",
       "    </tr>\n",
       "  </thead>\n",
       "  <tbody>\n",
       "    <tr>\n",
       "      <th>0</th>\n",
       "      <td>2016</td>\n",
       "      <td>1</td>\n",
       "      <td>90</td>\n",
       "      <td>Encuentro Nacional de EA</td>\n",
       "      <td>Funcionarios de los Ministerios de Ambiente y ...</td>\n",
       "    </tr>\n",
       "    <tr>\n",
       "      <th>1</th>\n",
       "      <td>2016</td>\n",
       "      <td>1</td>\n",
       "      <td>90</td>\n",
       "      <td>Jornada ODS y ambiente</td>\n",
       "      <td>Funcionarios, educadores, empresarios, periodi...</td>\n",
       "    </tr>\n",
       "    <tr>\n",
       "      <th>2</th>\n",
       "      <td>2016</td>\n",
       "      <td>1</td>\n",
       "      <td>400</td>\n",
       "      <td>Jornadas internacionales de Emprendedurismo es...</td>\n",
       "      <td>Alumnos de nivel secundario</td>\n",
       "    </tr>\n",
       "  </tbody>\n",
       "</table>\n",
       "</div>"
      ],
      "text/plain": [
       "   encuentro_anio  encuentro_numero  encuentro_participantes  \\\n",
       "0            2016                 1                       90   \n",
       "1            2016                 1                       90   \n",
       "2            2016                 1                      400   \n",
       "\n",
       "                                  encuentro_tematica  \\\n",
       "0                           Encuentro Nacional de EA   \n",
       "1                             Jornada ODS y ambiente   \n",
       "2  Jornadas internacionales de Emprendedurismo es...   \n",
       "\n",
       "                             Encuentro_destinatarios  \n",
       "0  Funcionarios de los Ministerios de Ambiente y ...  \n",
       "1  Funcionarios, educadores, empresarios, periodi...  \n",
       "2                        Alumnos de nivel secundario  "
      ]
     },
     "execution_count": 12,
     "metadata": {},
     "output_type": "execute_result"
    }
   ],
   "source": [
    "data[mascara]\n"
   ]
  },
  {
   "cell_type": "code",
   "execution_count": 13,
   "id": "69164537",
   "metadata": {},
   "outputs": [],
   "source": [
    "data_2016=data[mascara]\n"
   ]
  },
  {
   "cell_type": "markdown",
   "id": "a5f457a4",
   "metadata": {},
   "source": [
    "## Funciones de Agregacion:\n",
    "\n",
    "- .sum() Calcula la suma de todos los elementos de la columna.\n",
    "- .mean() Calcula el promedio de una columna.\n",
    "- .min() Busca el minimo de una columna.\n",
    "- .max() Busca el maximo de una columna.\n",
    "\n",
    "Ahora estamos interesadxs en calcular el promedio de participantes por encuentro en el 2016."
   ]
  },
  {
   "cell_type": "code",
   "execution_count": 14,
   "id": "a9c48db4",
   "metadata": {},
   "outputs": [
    {
     "data": {
      "text/plain": [
       "193.33333333333334"
      ]
     },
     "execution_count": 14,
     "metadata": {},
     "output_type": "execute_result"
    }
   ],
   "source": [
    "data_2016['encuentro_participantes'].mean()"
   ]
  },
  {
   "cell_type": "markdown",
   "id": "b58e3f84",
   "metadata": {},
   "source": [
    "## Visualizar\n",
    "\n",
    "Veamos ahora como realizar graficos en python. Imaginen que tenemos esta lista de valores para los encuentros realizados entres 2010 y 2015:\n",
    "\n",
    "```python\n",
    "promedio_participantes= [103, 400, 800, 333, 120,70]\n",
    "```\n",
    "\n",
    "Queremos ver un grafico de estos datos para ver como fue cambiando en el tiempo la participacion.\n",
    "\n",
    "Una de las librerias de python que nos permite realizar graficos muy sencillos es matplotlib.\n",
    "\n",
    "Recordemos que no es necesario generar ningun codigo desde 0, solo utilizamos funciones que debemos importar desde alguna libreria.\n",
    "\n",
    "```python\n",
    "import matplotlib.pyplot as plt\n",
    "```\n",
    "\n",
    "Esto siempre sera igual! Importamos la libreria usando un alias 'plt' para que sea mas facil llamar a sus funciones.\n",
    "\n",
    "Veamos la funcion plot:\n",
    "\n",
    "```python\n",
    "plt.plot(promedio_participantes)\n",
    "```"
   ]
  },
  {
   "cell_type": "code",
   "execution_count": null,
   "id": "7ed53f35",
   "metadata": {},
   "outputs": [],
   "source": []
  },
  {
   "cell_type": "code",
   "execution_count": 4,
   "id": "77dc25a2",
   "metadata": {},
   "outputs": [],
   "source": [
    "import matplotlib.pyplot as plt\n"
   ]
  },
  {
   "cell_type": "code",
   "execution_count": 5,
   "id": "c5fda393",
   "metadata": {},
   "outputs": [],
   "source": [
    "promedio_participantes= [193.33333333333334, 400, 820.4, 302.5, 92.5,70]"
   ]
  },
  {
   "cell_type": "code",
   "execution_count": 10,
   "id": "c4ba2b09",
   "metadata": {},
   "outputs": [],
   "source": [
    "años=[2010,2011,2012,2013,2014,2015]\n"
   ]
  },
  {
   "cell_type": "code",
   "execution_count": 11,
   "id": "2e2eeb68",
   "metadata": {},
   "outputs": [
    {
     "data": {
      "text/plain": [
       "[<matplotlib.lines.Line2D at 0x12dc684f0>]"
      ]
     },
     "execution_count": 11,
     "metadata": {},
     "output_type": "execute_result"
    },
    {
     "data": {
      "image/png": "[encoded data removed]",
      "text/plain": [
       "<Figure size 640x480 with 1 Axes>"
      ]
     },
     "metadata": {},
     "output_type": "display_data"
    }
   ],
   "source": [
    "plt.plot(años,promedio_participantes)\n"
   ]
  },
  {
   "cell_type": "code",
   "execution_count": 13,
   "id": "faaf1011",
   "metadata": {},
   "outputs": [
    {
     "data": {
      "text/plain": [
       "Text(0, 0.5, 'Promedio de participantes')"
      ]
     },
     "execution_count": 13,
     "metadata": {},
     "output_type": "execute_result"
    },
    {
     "data": {
      "image/png": "[encoded data removed]",
      "text/plain": [
       "<Figure size 640x480 with 1 Axes>"
      ]
     },
     "metadata": {},
     "output_type": "display_data"
    }
   ],
   "source": [
    "plt.bar(años,promedio_participantes)\n",
    "plt.xlabel('Años del encuentro')\n",
    "plt.ylabel('Promedio de participantes')"
   ]
  },
  {
   "cell_type": "markdown",
   "id": "sonic-promise",
   "metadata": {
    "id": "sonic-promise"
   },
   "source": [
    "### Ejercicios\n",
    "\n",
    " - Calcule el promedio de participantes para cada año usando un 'for'. Repita lo que hicimos en clase y guarde los resultados en una lista.\n",
    "\n",
    " - Busque el minimo y el maximo del promedio de participantes, usando el metodo apropiado \n",
    " \n",
    " - Grafique los valores promedio de participantes a lo largo del tiempo. "
   ]
  }
 ],
 "metadata": {
  "colab": {
   "collapsed_sections": [],
   "name": "Pandas: Filtrar y agrupar.ipynb",
   "provenance": []
  },
  "kernelspec": {
   "display_name": "Python 3.9.6 64-bit",
   "language": "python",
   "name": "python3"
  },
  "language_info": {
   "codemirror_mode": {
    "name": "ipython",
    "version": 3
   },
   "file_extension": ".py",
   "mimetype": "text/x-python",
   "name": "python",
   "nbconvert_exporter": "python",
   "pygments_lexer": "ipython3",
   "version": "3.9.6"
  },
  "vscode": {
   "interpreter": {
    "hash": "31f2aee4e71d21fbe5cf8b01ff0e069b9275f58929596ceb00d14d90e3e16cd6"
   }
  }
 },
 "nbformat": 4,
 "nbformat_minor": 5
}
