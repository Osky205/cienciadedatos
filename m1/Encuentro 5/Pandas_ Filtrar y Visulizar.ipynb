{
 "cells": [
  {
   "cell_type": "markdown",
   "id": "neither-theorem",
   "metadata": {
    "id": "neither-theorem"
   },
   "source": [
    "#### Dataset\n",
    "\n",
    "Hoy aprenderemos a filtrar un dataset y realizar agrupaciones con métodos de la librería de pandas.\n",
    "\n",
    "Retomaremos el dataset utilizado la clase anterior sobre Encuentros de educación ambiental extraído de https://datos.gob.ar/dataset/ambiente-encuentros-jornadas-educacion-ambiental"
   ]
  },
  {
   "cell_type": "code",
   "execution_count": null,
   "id": "collaborative-order",
   "metadata": {
    "id": "collaborative-order"
   },
   "outputs": [],
   "source": [
    "#importamos las librerias que utilizaremos\n",
    "import pandas as pd\n"
   ]
  },
  {
   "cell_type": "markdown",
   "id": "F5XabMqx0kSX",
   "metadata": {
    "id": "F5XabMqx0kSX"
   },
   "source": [
    "#### Desde el archivo descargado en la computadora"
   ]
  },
  {
   "cell_type": "code",
   "execution_count": null,
   "id": "hAhJVk9n0rpe",
   "metadata": {
    "id": "hAhJVk9n0rpe"
   },
   "outputs": [],
   "source": [
    "data = pd.read_csv(\"encuentro-educacion-ambiental.csv\", sep=\";\") \n"
   ]
  },
  {
   "cell_type": "code",
   "execution_count": null,
   "id": "statutory-designer",
   "metadata": {
    "id": "statutory-designer"
   },
   "outputs": [],
   "source": [
    "data.head(3)\n"
   ]
  },
  {
   "cell_type": "markdown",
   "id": "bGuxWKEa5FmX",
   "metadata": {
    "id": "bGuxWKEa5FmX"
   },
   "source": [
    "### Filtrar un dataset\n",
    "\n",
    "#### .iloc\n",
    "\n",
    "Para acceder a determinadas columnas, filas o registros de un dataset es posible indexarlos por número de fila y número de columna a través del método *.iloc* y entre corchetes separado por una coma primero las filas y luego las columnas.\n",
    "\n",
    "Además es posible utilizar un *slice*, es decir, seleccionar filas o columnas  donde se indique desde y hasta cual. Para eso se coloca un valor, dos puntos y el segundo valor, siendo el primero inclusivo y el último no inclusivo).\n",
    "\n",
    "Para seleccionar todas las filas o todas las columnas debo colocar hacer un slice sin límite, es decir solo : (dos puntos)"
   ]
  },
  {
   "cell_type": "code",
   "execution_count": null,
   "id": "kfEMUC_y6FtY",
   "metadata": {
    "id": "kfEMUC_y6FtY"
   },
   "outputs": [],
   "source": [
    "data"
   ]
  },
  {
   "cell_type": "markdown",
   "id": "BxoKIDLG_04t",
   "metadata": {
    "id": "BxoKIDLG_04t"
   },
   "source": [
    "#### Filtrar un DataFrame (Mascaras Booleanas)\n",
    "\n",
    "Para realizar un filtro de determinados valores se debe generar máscara con una operación lógica que devuelva *True* o *False*.\n",
    "\n",
    "Luego se debe usar el método *.loc* con la máscara donde los valores *True* los tomará y los valores *False* los descartará"
   ]
  },
  {
   "cell_type": "code",
   "execution_count": null,
   "id": "infinite-trial",
   "metadata": {
    "id": "infinite-trial"
   },
   "outputs": [],
   "source": [
    "#filtrar 2016\n",
    "print(data[\"encuentro_anio\"])\n",
    "mask_2016 = data[\"encuentro_anio\"]== 2016   #ver el doble igual. Como es un número no requiere las comillas\n",
    "mask_2016"
   ]
  },
  {
   "cell_type": "code",
   "execution_count": null,
   "id": "complex-surgeon",
   "metadata": {
    "id": "complex-surgeon"
   },
   "outputs": [],
   "source": [
    "#por default sin el .loc selecciona filas True\n",
    "data[mask_2016]"
   ]
  },
  {
   "cell_type": "code",
   "execution_count": null,
   "id": "committed-thesaurus",
   "metadata": {
    "collapsed": true,
    "id": "committed-thesaurus"
   },
   "outputs": [],
   "source": [
    "#error sin el loc\n",
    "data[mask_2016,\"encuentro_tematica\"]"
   ]
  },
  {
   "cell_type": "code",
   "execution_count": null,
   "id": "vietnamese-bosnia",
   "metadata": {
    "collapsed": true,
    "id": "vietnamese-bosnia"
   },
   "outputs": [],
   "source": [
    "#error con iloc\n",
    "data.iloc[mask_2016]"
   ]
  },
  {
   "cell_type": "code",
   "execution_count": null,
   "id": "desperate-gazette",
   "metadata": {
    "id": "desperate-gazette"
   },
   "outputs": [],
   "source": [
    "# Puedo utilizar una operación matemática sobre el DataFrame filtrado. ¿Cuántos encuentros se realizaron en 2016?\n",
    "data_2016[\"encuentro_numero\"].sum()"
   ]
  },
  {
   "cell_type": "code",
   "execution_count": null,
   "id": "conditional-waters",
   "metadata": {
    "id": "conditional-waters"
   },
   "outputs": [],
   "source": [
    "#cuantos participaron en los encuentros de 2016\n",
    "data_2016[\"encuentro_participantes\"].sum()"
   ]
  },
  {
   "cell_type": "code",
   "execution_count": null,
   "id": "minute-nylon",
   "metadata": {
    "id": "minute-nylon"
   },
   "outputs": [],
   "source": [
    "#ver el encuentro con mayor cantidad de participantes\n",
    "data[\"encuentro_participantes\"].max()"
   ]
  },
  {
   "cell_type": "code",
   "execution_count": null,
   "id": "understood-checklist",
   "metadata": {
    "id": "understood-checklist"
   },
   "outputs": [],
   "source": [
    "#Definición de operación lógica con ==\n",
    "\n",
    "mask_max_participantes = data[\"encuentro_participantes\"]== data[\"encuentro_participantes\"].max()\n",
    "mask_max_participantes"
   ]
  },
  {
   "cell_type": "code",
   "execution_count": null,
   "id": "integral-methodology",
   "metadata": {
    "id": "integral-methodology"
   },
   "outputs": [],
   "source": [
    "data[mask_max_participantes]\n",
    "#data.loc[mask_max_participantes]\n"
   ]
  },
  {
   "cell_type": "markdown",
   "id": "sonic-promise",
   "metadata": {
    "id": "sonic-promise"
   },
   "source": [
    "### Ejercicios\n",
    " 1. ¿Cuáles son los posibles destinatarios?\n",
    "\n",
    " 2. Mostrar la información de los encuentros del año 2019. *Crear una máscara y luego acceder con .loc*\n",
    " \n",
    " 3. Crea un Dafreame con los destinatarios de los encuentros del año 2019.\n",
    " \n",
    " 4. ¿Cuántos encuentros hubo en el año 2018?\n",
    " \n",
    " 5. ¿Cuántos encuentros hubo para \"Almunos de nivel secundario\"? *Realizaro con sum() y luego crea un Dataframe con la información de este/esos encuentro/s*\n",
    " \n",
    " 6. ¿Cuántos participantes promedio hubo por año? *usar groupby*\n",
    " \n",
    " 7. ¿Cuántos participantes de cada destinatario hubo? *usar groupby*\n",
    " \n",
    " 8. ¿Cuántos participantes hubo por año por destinatario por año? *para hacer agrupaciones sobre 2 columnas se deben colocar entre corchetes dentro del parentesis ([\"columa1\", \"columna2\"])*"
   ]
  }
 ],
 "metadata": {
  "colab": {
   "collapsed_sections": [],
   "name": "Pandas: Filtrar y agrupar.ipynb",
   "provenance": []
  },
  "kernelspec": {
   "display_name": "Python 3.9.6 64-bit",
   "language": "python",
   "name": "python3"
  },
  "language_info": {
   "codemirror_mode": {
    "name": "ipython",
    "version": 3
   },
   "file_extension": ".py",
   "mimetype": "text/x-python",
   "name": "python",
   "nbconvert_exporter": "python",
   "pygments_lexer": "ipython3",
   "version": "3.9.6"
  },
  "vscode": {
   "interpreter": {
    "hash": "31f2aee4e71d21fbe5cf8b01ff0e069b9275f58929596ceb00d14d90e3e16cd6"
   }
  }
 },
 "nbformat": 4,
 "nbformat_minor": 5
}
